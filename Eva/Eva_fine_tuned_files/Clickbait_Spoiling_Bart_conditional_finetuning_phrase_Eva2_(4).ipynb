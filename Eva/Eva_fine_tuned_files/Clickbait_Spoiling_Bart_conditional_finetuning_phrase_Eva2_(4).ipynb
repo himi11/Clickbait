{
  "cells": [
    {
      "cell_type": "code",
      "execution_count": 1,
      "metadata": {
        "id": "Ho88Li_Rndor"
      },
      "outputs": [],
      "source": [
        "import pandas as pd\n",
        "import numpy as np \n",
        "import warnings\n",
        "warnings.filterwarnings('ignore')\n",
        "import json\n"
      ]
    },
    {
      "cell_type": "code",
      "execution_count": 2,
      "metadata": {
        "id": "AI2bq8WFwILu"
      },
      "outputs": [],
      "source": [
        "import io\n",
        "# import pandas as pd\n",
        "# from google.colab import files\n",
        "from collections import OrderedDict\n",
        "import inspect as inspector\n",
        "import sys\n",
        "import argparse\n",
        "# import json\n",
        "import time\n",
        "import random\n",
        "import hashlib"
      ]
    },
    {
      "cell_type": "code",
      "execution_count": 3,
      "metadata": {
        "id": "9WU9uUYpwlKH",
        "colab": {
          "base_uri": "https://localhost:8080/"
        },
        "outputId": "b073cad9-91ae-4c5c-8619-9d194416ef44"
      },
      "outputs": [
        {
          "output_type": "stream",
          "name": "stdout",
          "text": [
            "\u001b[?25l     \u001b[90m━━━━━━━━━━━━━━━━━━━━━━━━━━━━━━━━━━━━━━━━\u001b[0m \u001b[32m0.0/6.0 MB\u001b[0m \u001b[31m?\u001b[0m eta \u001b[36m-:--:--\u001b[0m\r\u001b[2K     \u001b[91m━━━━━━━━━━━━━━━━━━━━━━━━━━━━━━━━━━━━━━━\u001b[0m\u001b[91m╸\u001b[0m \u001b[32m6.0/6.0 MB\u001b[0m \u001b[31m199.9 MB/s\u001b[0m eta \u001b[36m0:00:01\u001b[0m\r\u001b[2K     \u001b[90m━━━━━━━━━━━━━━━━━━━━━━━━━━━━━━━━━━━━━━━━\u001b[0m \u001b[32m6.0/6.0 MB\u001b[0m \u001b[31m86.0 MB/s\u001b[0m eta \u001b[36m0:00:00\u001b[0m\n",
            "\u001b[?25h"
          ]
        }
      ],
      "source": [
        "!pip install -q \"tensorflow-text\"\n",
        "\n",
        "import requests\n",
        "import tensorflow as tf\n",
        "import tensorflow_text as tf_text"
      ]
    },
    {
      "cell_type": "code",
      "execution_count": 4,
      "metadata": {
        "colab": {
          "base_uri": "https://localhost:8080/"
        },
        "id": "T9fFC6QZwo1h",
        "outputId": "ee9c4710-1df1-485e-82c9-7bdb80307e93"
      },
      "outputs": [
        {
          "output_type": "stream",
          "name": "stdout",
          "text": [
            "Looking in indexes: https://pypi.org/simple, https://us-python.pkg.dev/colab-wheels/public/simple/\n",
            "Requirement already satisfied: tqdm in /usr/local/lib/python3.10/dist-packages (4.65.0)\n",
            "Collecting boto3\n",
            "  Downloading boto3-1.26.133-py3-none-any.whl (135 kB)\n",
            "\u001b[2K     \u001b[90m━━━━━━━━━━━━━━━━━━━━━━━━━━━━━━━━━━━━━━\u001b[0m \u001b[32m135.6/135.6 kB\u001b[0m \u001b[31m13.3 MB/s\u001b[0m eta \u001b[36m0:00:00\u001b[0m\n",
            "\u001b[?25hRequirement already satisfied: requests in /usr/local/lib/python3.10/dist-packages (2.27.1)\n",
            "Requirement already satisfied: regex in /usr/local/lib/python3.10/dist-packages (2022.10.31)\n",
            "Collecting sentencepiece\n",
            "  Downloading sentencepiece-0.1.99-cp310-cp310-manylinux_2_17_x86_64.manylinux2014_x86_64.whl (1.3 MB)\n",
            "\u001b[2K     \u001b[90m━━━━━━━━━━━━━━━━━━━━━━━━━━━━━━━━━━━━━━━━\u001b[0m \u001b[32m1.3/1.3 MB\u001b[0m \u001b[31m56.8 MB/s\u001b[0m eta \u001b[36m0:00:00\u001b[0m\n",
            "\u001b[?25hCollecting sacremoses\n",
            "  Downloading sacremoses-0.0.53.tar.gz (880 kB)\n",
            "\u001b[2K     \u001b[90m━━━━━━━━━━━━━━━━━━━━━━━━━━━━━━━━━━━━━━\u001b[0m \u001b[32m880.6/880.6 kB\u001b[0m \u001b[31m68.5 MB/s\u001b[0m eta \u001b[36m0:00:00\u001b[0m\n",
            "\u001b[?25h  Preparing metadata (setup.py) ... \u001b[?25l\u001b[?25hdone\n",
            "Collecting botocore<1.30.0,>=1.29.133 (from boto3)\n",
            "  Downloading botocore-1.29.133-py3-none-any.whl (10.7 MB)\n",
            "\u001b[2K     \u001b[90m━━━━━━━━━━━━━━━━━━━━━━━━━━━━━━━━━━━━━━━\u001b[0m \u001b[32m10.7/10.7 MB\u001b[0m \u001b[31m114.1 MB/s\u001b[0m eta \u001b[36m0:00:00\u001b[0m\n",
            "\u001b[?25hCollecting jmespath<2.0.0,>=0.7.1 (from boto3)\n",
            "  Downloading jmespath-1.0.1-py3-none-any.whl (20 kB)\n",
            "Collecting s3transfer<0.7.0,>=0.6.0 (from boto3)\n",
            "  Downloading s3transfer-0.6.1-py3-none-any.whl (79 kB)\n",
            "\u001b[2K     \u001b[90m━━━━━━━━━━━━━━━━━━━━━━━━━━━━━━━━━━━━━━━━\u001b[0m \u001b[32m79.8/79.8 kB\u001b[0m \u001b[31m10.2 MB/s\u001b[0m eta \u001b[36m0:00:00\u001b[0m\n",
            "\u001b[?25hRequirement already satisfied: urllib3<1.27,>=1.21.1 in /usr/local/lib/python3.10/dist-packages (from requests) (1.26.15)\n",
            "Requirement already satisfied: certifi>=2017.4.17 in /usr/local/lib/python3.10/dist-packages (from requests) (2022.12.7)\n",
            "Requirement already satisfied: charset-normalizer~=2.0.0 in /usr/local/lib/python3.10/dist-packages (from requests) (2.0.12)\n",
            "Requirement already satisfied: idna<4,>=2.5 in /usr/local/lib/python3.10/dist-packages (from requests) (3.4)\n",
            "Requirement already satisfied: six in /usr/local/lib/python3.10/dist-packages (from sacremoses) (1.16.0)\n",
            "Requirement already satisfied: click in /usr/local/lib/python3.10/dist-packages (from sacremoses) (8.1.3)\n",
            "Requirement already satisfied: joblib in /usr/local/lib/python3.10/dist-packages (from sacremoses) (1.2.0)\n",
            "Requirement already satisfied: python-dateutil<3.0.0,>=2.1 in /usr/local/lib/python3.10/dist-packages (from botocore<1.30.0,>=1.29.133->boto3) (2.8.2)\n",
            "Building wheels for collected packages: sacremoses\n",
            "  Building wheel for sacremoses (setup.py) ... \u001b[?25l\u001b[?25hdone\n",
            "  Created wheel for sacremoses: filename=sacremoses-0.0.53-py3-none-any.whl size=895241 sha256=9c8db9a30e09d6d2798f449be637f249ba93042258bd3dd9b152b1daae6b5dd3\n",
            "  Stored in directory: /root/.cache/pip/wheels/00/24/97/a2ea5324f36bc626e1ea0267f33db6aa80d157ee977e9e42fb\n",
            "Successfully built sacremoses\n",
            "Installing collected packages: sentencepiece, sacremoses, jmespath, botocore, s3transfer, boto3\n",
            "Successfully installed boto3-1.26.133 botocore-1.29.133 jmespath-1.0.1 s3transfer-0.6.1 sacremoses-0.0.53 sentencepiece-0.1.99\n",
            "Looking in indexes: https://pypi.org/simple, https://us-python.pkg.dev/colab-wheels/public/simple/\n",
            "Collecting transformers\n",
            "  Downloading transformers-4.29.1-py3-none-any.whl (7.1 MB)\n",
            "\u001b[2K     \u001b[90m━━━━━━━━━━━━━━━━━━━━━━━━━━━━━━━━━━━━━━━━\u001b[0m \u001b[32m7.1/7.1 MB\u001b[0m \u001b[31m91.6 MB/s\u001b[0m eta \u001b[36m0:00:00\u001b[0m\n",
            "\u001b[?25hRequirement already satisfied: filelock in /usr/local/lib/python3.10/dist-packages (from transformers) (3.12.0)\n",
            "Collecting huggingface-hub<1.0,>=0.14.1 (from transformers)\n",
            "  Downloading huggingface_hub-0.14.1-py3-none-any.whl (224 kB)\n",
            "\u001b[2K     \u001b[90m━━━━━━━━━━━━━━━━━━━━━━━━━━━━━━━━━━━━━━\u001b[0m \u001b[32m224.5/224.5 kB\u001b[0m \u001b[31m29.3 MB/s\u001b[0m eta \u001b[36m0:00:00\u001b[0m\n",
            "\u001b[?25hRequirement already satisfied: numpy>=1.17 in /usr/local/lib/python3.10/dist-packages (from transformers) (1.22.4)\n",
            "Requirement already satisfied: packaging>=20.0 in /usr/local/lib/python3.10/dist-packages (from transformers) (23.1)\n",
            "Requirement already satisfied: pyyaml>=5.1 in /usr/local/lib/python3.10/dist-packages (from transformers) (6.0)\n",
            "Requirement already satisfied: regex!=2019.12.17 in /usr/local/lib/python3.10/dist-packages (from transformers) (2022.10.31)\n",
            "Requirement already satisfied: requests in /usr/local/lib/python3.10/dist-packages (from transformers) (2.27.1)\n",
            "Collecting tokenizers!=0.11.3,<0.14,>=0.11.1 (from transformers)\n",
            "  Downloading tokenizers-0.13.3-cp310-cp310-manylinux_2_17_x86_64.manylinux2014_x86_64.whl (7.8 MB)\n",
            "\u001b[2K     \u001b[90m━━━━━━━━━━━━━━━━━━━━━━━━━━━━━━━━━━━━━━━━\u001b[0m \u001b[32m7.8/7.8 MB\u001b[0m \u001b[31m121.0 MB/s\u001b[0m eta \u001b[36m0:00:00\u001b[0m\n",
            "\u001b[?25hRequirement already satisfied: tqdm>=4.27 in /usr/local/lib/python3.10/dist-packages (from transformers) (4.65.0)\n",
            "Requirement already satisfied: fsspec in /usr/local/lib/python3.10/dist-packages (from huggingface-hub<1.0,>=0.14.1->transformers) (2023.4.0)\n",
            "Requirement already satisfied: typing-extensions>=3.7.4.3 in /usr/local/lib/python3.10/dist-packages (from huggingface-hub<1.0,>=0.14.1->transformers) (4.5.0)\n",
            "Requirement already satisfied: urllib3<1.27,>=1.21.1 in /usr/local/lib/python3.10/dist-packages (from requests->transformers) (1.26.15)\n",
            "Requirement already satisfied: certifi>=2017.4.17 in /usr/local/lib/python3.10/dist-packages (from requests->transformers) (2022.12.7)\n",
            "Requirement already satisfied: charset-normalizer~=2.0.0 in /usr/local/lib/python3.10/dist-packages (from requests->transformers) (2.0.12)\n",
            "Requirement already satisfied: idna<4,>=2.5 in /usr/local/lib/python3.10/dist-packages (from requests->transformers) (3.4)\n",
            "Installing collected packages: tokenizers, huggingface-hub, transformers\n",
            "Successfully installed huggingface-hub-0.14.1 tokenizers-0.13.3 transformers-4.29.1\n",
            "Looking in indexes: https://pypi.org/simple, https://us-python.pkg.dev/colab-wheels/public/simple/\n",
            "Requirement already satisfied: torch in /usr/local/lib/python3.10/dist-packages (2.0.0+cu118)\n",
            "Requirement already satisfied: filelock in /usr/local/lib/python3.10/dist-packages (from torch) (3.12.0)\n",
            "Requirement already satisfied: typing-extensions in /usr/local/lib/python3.10/dist-packages (from torch) (4.5.0)\n",
            "Requirement already satisfied: sympy in /usr/local/lib/python3.10/dist-packages (from torch) (1.11.1)\n",
            "Requirement already satisfied: networkx in /usr/local/lib/python3.10/dist-packages (from torch) (3.1)\n",
            "Requirement already satisfied: jinja2 in /usr/local/lib/python3.10/dist-packages (from torch) (3.1.2)\n",
            "Requirement already satisfied: triton==2.0.0 in /usr/local/lib/python3.10/dist-packages (from torch) (2.0.0)\n",
            "Requirement already satisfied: cmake in /usr/local/lib/python3.10/dist-packages (from triton==2.0.0->torch) (3.25.2)\n",
            "Requirement already satisfied: lit in /usr/local/lib/python3.10/dist-packages (from triton==2.0.0->torch) (16.0.3)\n",
            "Requirement already satisfied: MarkupSafe>=2.0 in /usr/local/lib/python3.10/dist-packages (from jinja2->torch) (2.1.2)\n",
            "Requirement already satisfied: mpmath>=0.19 in /usr/local/lib/python3.10/dist-packages (from sympy->torch) (1.3.0)\n",
            "Looking in indexes: https://pypi.org/simple, https://us-python.pkg.dev/colab-wheels/public/simple/\n",
            "Collecting accelerate\n",
            "  Downloading accelerate-0.19.0-py3-none-any.whl (219 kB)\n",
            "\u001b[2K     \u001b[90m━━━━━━━━━━━━━━━━━━━━━━━━━━━━━━━━━━━━━━\u001b[0m \u001b[32m219.1/219.1 kB\u001b[0m \u001b[31m20.6 MB/s\u001b[0m eta \u001b[36m0:00:00\u001b[0m\n",
            "\u001b[?25hRequirement already satisfied: numpy>=1.17 in /usr/local/lib/python3.10/dist-packages (from accelerate) (1.22.4)\n",
            "Requirement already satisfied: packaging>=20.0 in /usr/local/lib/python3.10/dist-packages (from accelerate) (23.1)\n",
            "Requirement already satisfied: psutil in /usr/local/lib/python3.10/dist-packages (from accelerate) (5.9.5)\n",
            "Requirement already satisfied: pyyaml in /usr/local/lib/python3.10/dist-packages (from accelerate) (6.0)\n",
            "Requirement already satisfied: torch>=1.6.0 in /usr/local/lib/python3.10/dist-packages (from accelerate) (2.0.0+cu118)\n",
            "Requirement already satisfied: filelock in /usr/local/lib/python3.10/dist-packages (from torch>=1.6.0->accelerate) (3.12.0)\n",
            "Requirement already satisfied: typing-extensions in /usr/local/lib/python3.10/dist-packages (from torch>=1.6.0->accelerate) (4.5.0)\n",
            "Requirement already satisfied: sympy in /usr/local/lib/python3.10/dist-packages (from torch>=1.6.0->accelerate) (1.11.1)\n",
            "Requirement already satisfied: networkx in /usr/local/lib/python3.10/dist-packages (from torch>=1.6.0->accelerate) (3.1)\n",
            "Requirement already satisfied: jinja2 in /usr/local/lib/python3.10/dist-packages (from torch>=1.6.0->accelerate) (3.1.2)\n",
            "Requirement already satisfied: triton==2.0.0 in /usr/local/lib/python3.10/dist-packages (from torch>=1.6.0->accelerate) (2.0.0)\n",
            "Requirement already satisfied: cmake in /usr/local/lib/python3.10/dist-packages (from triton==2.0.0->torch>=1.6.0->accelerate) (3.25.2)\n",
            "Requirement already satisfied: lit in /usr/local/lib/python3.10/dist-packages (from triton==2.0.0->torch>=1.6.0->accelerate) (16.0.3)\n",
            "Requirement already satisfied: MarkupSafe>=2.0 in /usr/local/lib/python3.10/dist-packages (from jinja2->torch>=1.6.0->accelerate) (2.1.2)\n",
            "Requirement already satisfied: mpmath>=0.19 in /usr/local/lib/python3.10/dist-packages (from sympy->torch>=1.6.0->accelerate) (1.3.0)\n",
            "Installing collected packages: accelerate\n",
            "Successfully installed accelerate-0.19.0\n",
            "Looking in indexes: https://pypi.org/simple, https://us-python.pkg.dev/colab-wheels/public/simple/\n",
            "Collecting pytorch_lightning\n",
            "  Downloading pytorch_lightning-2.0.2-py3-none-any.whl (719 kB)\n",
            "\u001b[2K     \u001b[90m━━━━━━━━━━━━━━━━━━━━━━━━━━━━━━━━━━━━━━\u001b[0m \u001b[32m719.0/719.0 kB\u001b[0m \u001b[31m43.0 MB/s\u001b[0m eta \u001b[36m0:00:00\u001b[0m\n",
            "\u001b[?25hRequirement already satisfied: numpy>=1.17.2 in /usr/local/lib/python3.10/dist-packages (from pytorch_lightning) (1.22.4)\n",
            "Requirement already satisfied: torch>=1.11.0 in /usr/local/lib/python3.10/dist-packages (from pytorch_lightning) (2.0.0+cu118)\n",
            "Requirement already satisfied: tqdm>=4.57.0 in /usr/local/lib/python3.10/dist-packages (from pytorch_lightning) (4.65.0)\n",
            "Requirement already satisfied: PyYAML>=5.4 in /usr/local/lib/python3.10/dist-packages (from pytorch_lightning) (6.0)\n",
            "Requirement already satisfied: fsspec[http]>2021.06.0 in /usr/local/lib/python3.10/dist-packages (from pytorch_lightning) (2023.4.0)\n",
            "Collecting torchmetrics>=0.7.0 (from pytorch_lightning)\n",
            "  Downloading torchmetrics-0.11.4-py3-none-any.whl (519 kB)\n",
            "\u001b[2K     \u001b[90m━━━━━━━━━━━━━━━━━━━━━━━━━━━━━━━━━━━━━━\u001b[0m \u001b[32m519.2/519.2 kB\u001b[0m \u001b[31m52.1 MB/s\u001b[0m eta \u001b[36m0:00:00\u001b[0m\n",
            "\u001b[?25hRequirement already satisfied: packaging>=17.1 in /usr/local/lib/python3.10/dist-packages (from pytorch_lightning) (23.1)\n",
            "Requirement already satisfied: typing-extensions>=4.0.0 in /usr/local/lib/python3.10/dist-packages (from pytorch_lightning) (4.5.0)\n",
            "Collecting lightning-utilities>=0.7.0 (from pytorch_lightning)\n",
            "  Downloading lightning_utilities-0.8.0-py3-none-any.whl (20 kB)\n",
            "Requirement already satisfied: requests in /usr/local/lib/python3.10/dist-packages (from fsspec[http]>2021.06.0->pytorch_lightning) (2.27.1)\n",
            "Collecting aiohttp!=4.0.0a0,!=4.0.0a1 (from fsspec[http]>2021.06.0->pytorch_lightning)\n",
            "  Downloading aiohttp-3.8.4-cp310-cp310-manylinux_2_17_x86_64.manylinux2014_x86_64.whl (1.0 MB)\n",
            "\u001b[2K     \u001b[90m━━━━━━━━━━━━━━━━━━━━━━━━━━━━━━━━━━━━━━━━\u001b[0m \u001b[32m1.0/1.0 MB\u001b[0m \u001b[31m75.8 MB/s\u001b[0m eta \u001b[36m0:00:00\u001b[0m\n",
            "\u001b[?25hRequirement already satisfied: filelock in /usr/local/lib/python3.10/dist-packages (from torch>=1.11.0->pytorch_lightning) (3.12.0)\n",
            "Requirement already satisfied: sympy in /usr/local/lib/python3.10/dist-packages (from torch>=1.11.0->pytorch_lightning) (1.11.1)\n",
            "Requirement already satisfied: networkx in /usr/local/lib/python3.10/dist-packages (from torch>=1.11.0->pytorch_lightning) (3.1)\n",
            "Requirement already satisfied: jinja2 in /usr/local/lib/python3.10/dist-packages (from torch>=1.11.0->pytorch_lightning) (3.1.2)\n",
            "Requirement already satisfied: triton==2.0.0 in /usr/local/lib/python3.10/dist-packages (from torch>=1.11.0->pytorch_lightning) (2.0.0)\n",
            "Requirement already satisfied: cmake in /usr/local/lib/python3.10/dist-packages (from triton==2.0.0->torch>=1.11.0->pytorch_lightning) (3.25.2)\n",
            "Requirement already satisfied: lit in /usr/local/lib/python3.10/dist-packages (from triton==2.0.0->torch>=1.11.0->pytorch_lightning) (16.0.3)\n",
            "Requirement already satisfied: attrs>=17.3.0 in /usr/local/lib/python3.10/dist-packages (from aiohttp!=4.0.0a0,!=4.0.0a1->fsspec[http]>2021.06.0->pytorch_lightning) (23.1.0)\n",
            "Requirement already satisfied: charset-normalizer<4.0,>=2.0 in /usr/local/lib/python3.10/dist-packages (from aiohttp!=4.0.0a0,!=4.0.0a1->fsspec[http]>2021.06.0->pytorch_lightning) (2.0.12)\n",
            "Collecting multidict<7.0,>=4.5 (from aiohttp!=4.0.0a0,!=4.0.0a1->fsspec[http]>2021.06.0->pytorch_lightning)\n",
            "  Downloading multidict-6.0.4-cp310-cp310-manylinux_2_17_x86_64.manylinux2014_x86_64.whl (114 kB)\n",
            "\u001b[2K     \u001b[90m━━━━━━━━━━━━━━━━━━━━━━━━━━━━━━━━━━━━━━\u001b[0m \u001b[32m114.5/114.5 kB\u001b[0m \u001b[31m13.9 MB/s\u001b[0m eta \u001b[36m0:00:00\u001b[0m\n",
            "\u001b[?25hCollecting async-timeout<5.0,>=4.0.0a3 (from aiohttp!=4.0.0a0,!=4.0.0a1->fsspec[http]>2021.06.0->pytorch_lightning)\n",
            "  Downloading async_timeout-4.0.2-py3-none-any.whl (5.8 kB)\n",
            "Collecting yarl<2.0,>=1.0 (from aiohttp!=4.0.0a0,!=4.0.0a1->fsspec[http]>2021.06.0->pytorch_lightning)\n",
            "  Downloading yarl-1.9.2-cp310-cp310-manylinux_2_17_x86_64.manylinux2014_x86_64.whl (268 kB)\n",
            "\u001b[2K     \u001b[90m━━━━━━━━━━━━━━━━━━━━━━━━━━━━━━━━━━━━━━\u001b[0m \u001b[32m268.8/268.8 kB\u001b[0m \u001b[31m35.3 MB/s\u001b[0m eta \u001b[36m0:00:00\u001b[0m\n",
            "\u001b[?25hCollecting frozenlist>=1.1.1 (from aiohttp!=4.0.0a0,!=4.0.0a1->fsspec[http]>2021.06.0->pytorch_lightning)\n",
            "  Downloading frozenlist-1.3.3-cp310-cp310-manylinux_2_5_x86_64.manylinux1_x86_64.manylinux_2_17_x86_64.manylinux2014_x86_64.whl (149 kB)\n",
            "\u001b[2K     \u001b[90m━━━━━━━━━━━━━━━━━━━━━━━━━━━━━━━━━━━━━━\u001b[0m \u001b[32m149.6/149.6 kB\u001b[0m \u001b[31m23.5 MB/s\u001b[0m eta \u001b[36m0:00:00\u001b[0m\n",
            "\u001b[?25hCollecting aiosignal>=1.1.2 (from aiohttp!=4.0.0a0,!=4.0.0a1->fsspec[http]>2021.06.0->pytorch_lightning)\n",
            "  Downloading aiosignal-1.3.1-py3-none-any.whl (7.6 kB)\n",
            "Requirement already satisfied: MarkupSafe>=2.0 in /usr/local/lib/python3.10/dist-packages (from jinja2->torch>=1.11.0->pytorch_lightning) (2.1.2)\n",
            "Requirement already satisfied: urllib3<1.27,>=1.21.1 in /usr/local/lib/python3.10/dist-packages (from requests->fsspec[http]>2021.06.0->pytorch_lightning) (1.26.15)\n",
            "Requirement already satisfied: certifi>=2017.4.17 in /usr/local/lib/python3.10/dist-packages (from requests->fsspec[http]>2021.06.0->pytorch_lightning) (2022.12.7)\n",
            "Requirement already satisfied: idna<4,>=2.5 in /usr/local/lib/python3.10/dist-packages (from requests->fsspec[http]>2021.06.0->pytorch_lightning) (3.4)\n",
            "Requirement already satisfied: mpmath>=0.19 in /usr/local/lib/python3.10/dist-packages (from sympy->torch>=1.11.0->pytorch_lightning) (1.3.0)\n",
            "Installing collected packages: multidict, lightning-utilities, frozenlist, async-timeout, yarl, aiosignal, aiohttp, torchmetrics, pytorch_lightning\n",
            "Successfully installed aiohttp-3.8.4 aiosignal-1.3.1 async-timeout-4.0.2 frozenlist-1.3.3 lightning-utilities-0.8.0 multidict-6.0.4 pytorch_lightning-2.0.2 torchmetrics-0.11.4 yarl-1.9.2\n",
            "Looking in indexes: https://pypi.org/simple, https://us-python.pkg.dev/colab-wheels/public/simple/\n",
            "Requirement already satisfied: sentencepiece in /usr/local/lib/python3.10/dist-packages (0.1.99)\n",
            "Looking in indexes: https://pypi.org/simple, https://us-python.pkg.dev/colab-wheels/public/simple/\n",
            "Requirement already satisfied: Sentencepiece in /usr/local/lib/python3.10/dist-packages (0.1.99)\n",
            "Looking in indexes: https://pypi.org/simple, https://us-python.pkg.dev/colab-wheels/public/simple/\n",
            "Requirement already satisfied: accelerate in /usr/local/lib/python3.10/dist-packages (0.19.0)\n",
            "Requirement already satisfied: numpy>=1.17 in /usr/local/lib/python3.10/dist-packages (from accelerate) (1.22.4)\n",
            "Requirement already satisfied: packaging>=20.0 in /usr/local/lib/python3.10/dist-packages (from accelerate) (23.1)\n",
            "Requirement already satisfied: psutil in /usr/local/lib/python3.10/dist-packages (from accelerate) (5.9.5)\n",
            "Requirement already satisfied: pyyaml in /usr/local/lib/python3.10/dist-packages (from accelerate) (6.0)\n",
            "Requirement already satisfied: torch>=1.6.0 in /usr/local/lib/python3.10/dist-packages (from accelerate) (2.0.0+cu118)\n",
            "Requirement already satisfied: filelock in /usr/local/lib/python3.10/dist-packages (from torch>=1.6.0->accelerate) (3.12.0)\n",
            "Requirement already satisfied: typing-extensions in /usr/local/lib/python3.10/dist-packages (from torch>=1.6.0->accelerate) (4.5.0)\n",
            "Requirement already satisfied: sympy in /usr/local/lib/python3.10/dist-packages (from torch>=1.6.0->accelerate) (1.11.1)\n",
            "Requirement already satisfied: networkx in /usr/local/lib/python3.10/dist-packages (from torch>=1.6.0->accelerate) (3.1)\n",
            "Requirement already satisfied: jinja2 in /usr/local/lib/python3.10/dist-packages (from torch>=1.6.0->accelerate) (3.1.2)\n",
            "Requirement already satisfied: triton==2.0.0 in /usr/local/lib/python3.10/dist-packages (from torch>=1.6.0->accelerate) (2.0.0)\n",
            "Requirement already satisfied: cmake in /usr/local/lib/python3.10/dist-packages (from triton==2.0.0->torch>=1.6.0->accelerate) (3.25.2)\n",
            "Requirement already satisfied: lit in /usr/local/lib/python3.10/dist-packages (from triton==2.0.0->torch>=1.6.0->accelerate) (16.0.3)\n",
            "Requirement already satisfied: MarkupSafe>=2.0 in /usr/local/lib/python3.10/dist-packages (from jinja2->torch>=1.6.0->accelerate) (2.1.2)\n",
            "Requirement already satisfied: mpmath>=0.19 in /usr/local/lib/python3.10/dist-packages (from sympy->torch>=1.6.0->accelerate) (1.3.0)\n"
          ]
        }
      ],
      "source": [
        "!pip install tqdm boto3 requests regex sentencepiece sacremoses\n",
        "\n",
        "!pip install transformers #==2.9.0\n",
        "!pip install torch  #==2.0.0\n",
        "\n",
        "# !pip install https://storage.googleapis.com/tensorflow/mac/cpu/tensorflow-1.1.0-py3-none-any.whl\n",
        "\n",
        "!pip install accelerate\n",
        "# !pip install transformers==2.9.0 \n",
        "!pip install pytorch_lightning  #==0.7.5\n",
        "# !pip install datsets transformers[sentencepiece]\n",
        "!pip install sentencepiece\n",
        "\n",
        "!pip install Sentencepiece\n",
        "# !pip install transformers\n",
        "\n",
        "!pip install accelerate\n"
      ]
    },
    {
      "cell_type": "code",
      "execution_count": 5,
      "metadata": {
        "id": "59J_Z2TlsE8D"
      },
      "outputs": [],
      "source": [
        "data_path = './train.jsonl'\n",
        "df = pd.read_json(data_path, lines=True)\n",
        "df_validation = pd.read_json('./validation.jsonl', lines=True)"
      ]
    },
    {
      "cell_type": "code",
      "execution_count": 6,
      "metadata": {
        "id": "yMy2i3BRQDCF"
      },
      "outputs": [],
      "source": [
        "def concatenate_strings(lst):\n",
        "    separator = ' '\n",
        "    return separator.join(lst)"
      ]
    },
    {
      "cell_type": "code",
      "execution_count": 7,
      "metadata": {
        "id": "ls4Xsc3pP7Ec"
      },
      "outputs": [],
      "source": [
        "df['targetParagraphs'] = df['targetParagraphs'].apply(concatenate_strings)\n",
        "df['postText'] = df['postText'].apply(concatenate_strings)\n",
        "df['spoiler'] = df['spoiler'].apply(concatenate_strings)\n",
        "df['tags'] = df['tags'].apply(concatenate_strings)"
      ]
    },
    {
      "cell_type": "code",
      "execution_count": 8,
      "metadata": {
        "id": "Lp8kyCkLV-jH"
      },
      "outputs": [],
      "source": [
        "df_validation['targetParagraphs'] = df_validation['targetParagraphs'].apply(concatenate_strings)\n",
        "df_validation['postText'] = df_validation['postText'].apply(concatenate_strings)\n",
        "df_validation['spoiler'] = df_validation['spoiler'].apply(concatenate_strings)\n",
        "df_validation['tags'] = df_validation['tags'].apply(concatenate_strings)"
      ]
    },
    {
      "cell_type": "code",
      "source": [
        "filter_phrase = df['tags'] == \"phrase\"\n",
        "df_filtered = df[filter_phrase]\n",
        "# print (df_filtered)"
      ],
      "metadata": {
        "id": "V6T-ONd97lrD"
      },
      "execution_count": 9,
      "outputs": []
    },
    {
      "cell_type": "code",
      "source": [
        "filter_phrase_validation = df_validation['tags'] == \"phrase\"\n",
        "df_filtered_validation = df_validation[filter_phrase_validation]\n",
        "# print (df_filtered_validation)"
      ],
      "metadata": {
        "id": "cOrKIH7P7-dT"
      },
      "execution_count": 10,
      "outputs": []
    },
    {
      "cell_type": "code",
      "execution_count": 11,
      "metadata": {
        "id": "o_h18f1psJDN"
      },
      "outputs": [],
      "source": [
        "def generate_new_df(df):\n",
        "\n",
        "    new_df = pd.DataFrame({'tags': df['tags'],'postText':df['postText'],'paragraph' : df['targetParagraphs'] ,'spoiler': df['spoiler']})\n",
        "    return new_df\n",
        "    "
      ]
    },
    {
      "cell_type": "code",
      "execution_count": null,
      "metadata": {
        "id": "TcGj6mUARRj1"
      },
      "outputs": [],
      "source": []
    },
    {
      "cell_type": "code",
      "execution_count": 12,
      "metadata": {
        "id": "YB-_UuS2AOOh"
      },
      "outputs": [],
      "source": [
        "\n",
        "# nltk\n",
        "import nltk\n",
        "from nltk.stem import WordNetLemmatizer\n",
        "from nltk.corpus import stopwords\n",
        "from nltk.tokenize import word_tokenize\n",
        "\n",
        "# plotting\n",
        "import seaborn as sns\n",
        "from wordcloud import WordCloud\n",
        "import matplotlib.pyplot as plt\n",
        "\n",
        "\n",
        "\n",
        "# sklearn\n",
        "\n",
        "from sklearn.metrics import confusion_matrix, classification_report\n",
        "\n",
        "from sklearn.model_selection import train_test_split\n",
        "from sklearn.feature_extraction.text import TfidfVectorizer\n",
        "\n",
        "\n",
        "\n",
        "# Utility\n",
        "\n",
        "import re\n",
        "import string\n",
        "import pickle"
      ]
    },
    {
      "cell_type": "code",
      "execution_count": 13,
      "metadata": {
        "id": "XVAVVPL0APCl"
      },
      "outputs": [],
      "source": [
        "wordLemm = WordNetLemmatizer()\n",
        "def processed_postText(paragraph):\n",
        "    # Lower Casing\n",
        "    paragraph = paragraph.lower()\n",
        "    # Remove punctuations\n",
        "    paragraph = paragraph.translate(str.maketrans(\"\",\"\",string.punctuation))\n",
        "    # Tokenizing words\n",
        "    tokens = word_tokenize(paragraph)\n",
        "    # Removing Stop Words\n",
        "    #final_tokens = [w for w in tokens if w not in stopword]\n",
        "    # Reducing a word to its word stem using lemmatization\n",
        "    \n",
        "    return ' '.join(tokens)"
      ]
    },
    {
      "cell_type": "code",
      "execution_count": 14,
      "metadata": {
        "colab": {
          "base_uri": "https://localhost:8080/"
        },
        "id": "YpddInQ-BLui",
        "outputId": "9a6c67ef-8a69-4fb4-c613-ee56d921a8f3"
      },
      "outputs": [
        {
          "output_type": "stream",
          "name": "stderr",
          "text": [
            "[nltk_data] Downloading package punkt to /root/nltk_data...\n",
            "[nltk_data]   Unzipping tokenizers/punkt.zip.\n",
            "[nltk_data] Downloading package wordnet to /root/nltk_data...\n"
          ]
        },
        {
          "output_type": "execute_result",
          "data": {
            "text/plain": [
              "True"
            ]
          },
          "metadata": {},
          "execution_count": 14
        }
      ],
      "source": [
        "nltk.download('punkt')\n",
        "nltk.download('wordnet')"
      ]
    },
    {
      "cell_type": "code",
      "execution_count": 15,
      "metadata": {
        "colab": {
          "base_uri": "https://localhost:8080/"
        },
        "id": "9GDPAICsBOB-",
        "outputId": "e068855a-188d-4454-bc68-da7196a49175"
      },
      "outputs": [
        {
          "output_type": "stream",
          "name": "stderr",
          "text": [
            "[nltk_data] Downloading package stopwords to /root/nltk_data...\n",
            "[nltk_data]   Unzipping corpora/stopwords.zip.\n"
          ]
        }
      ],
      "source": [
        "nltk.download('stopwords')\n",
        "stopword = set(stopwords.words('english'))"
      ]
    },
    {
      "cell_type": "code",
      "execution_count": 16,
      "metadata": {
        "id": "KgIDbHgfBjgq"
      },
      "outputs": [],
      "source": [
        "new_df = generate_new_df(df_filtered)"
      ]
    },
    {
      "cell_type": "code",
      "execution_count": 17,
      "metadata": {
        "id": "XbLk_1J4WQFh"
      },
      "outputs": [],
      "source": [
        "new_df_validation = generate_new_df(df_filtered_validation)"
      ]
    },
    {
      "cell_type": "code",
      "execution_count": 18,
      "metadata": {
        "id": "grh7Ful2BRjx"
      },
      "outputs": [],
      "source": [
        " new_df['paragraph'] = new_df['paragraph'].apply(lambda x: processed_postText(x))\n",
        " new_df['postText'] = new_df['postText'].apply(lambda x: processed_postText(x))\n",
        "# print('Text Preprocessing complete.')"
      ]
    },
    {
      "cell_type": "code",
      "execution_count": 19,
      "metadata": {
        "id": "ocvX_qkuWX4N"
      },
      "outputs": [],
      "source": [
        " new_df_validation['paragraph'] = new_df_validation['paragraph'].apply(lambda x: processed_postText(x))\n",
        " new_df_validation['postText'] = new_df_validation['postText'].apply(lambda x: processed_postText(x))"
      ]
    },
    {
      "cell_type": "code",
      "execution_count": 20,
      "metadata": {
        "colab": {
          "base_uri": "https://localhost:8080/"
        },
        "id": "uIynklfbVOFP",
        "outputId": "d71ece10-70d4-4f5c-f17a-6a7c2535464c"
      },
      "outputs": [
        {
          "output_type": "stream",
          "name": "stdout",
          "text": [
            "Looking in indexes: https://pypi.org/simple, https://us-python.pkg.dev/colab-wheels/public/simple/\n",
            "Requirement already satisfied: transformers in /usr/local/lib/python3.10/dist-packages (4.29.1)\n",
            "Requirement already satisfied: filelock in /usr/local/lib/python3.10/dist-packages (from transformers) (3.12.0)\n",
            "Requirement already satisfied: huggingface-hub<1.0,>=0.14.1 in /usr/local/lib/python3.10/dist-packages (from transformers) (0.14.1)\n",
            "Requirement already satisfied: numpy>=1.17 in /usr/local/lib/python3.10/dist-packages (from transformers) (1.22.4)\n",
            "Requirement already satisfied: packaging>=20.0 in /usr/local/lib/python3.10/dist-packages (from transformers) (23.1)\n",
            "Requirement already satisfied: pyyaml>=5.1 in /usr/local/lib/python3.10/dist-packages (from transformers) (6.0)\n",
            "Requirement already satisfied: regex!=2019.12.17 in /usr/local/lib/python3.10/dist-packages (from transformers) (2022.10.31)\n",
            "Requirement already satisfied: requests in /usr/local/lib/python3.10/dist-packages (from transformers) (2.27.1)\n",
            "Requirement already satisfied: tokenizers!=0.11.3,<0.14,>=0.11.1 in /usr/local/lib/python3.10/dist-packages (from transformers) (0.13.3)\n",
            "Requirement already satisfied: tqdm>=4.27 in /usr/local/lib/python3.10/dist-packages (from transformers) (4.65.0)\n",
            "Requirement already satisfied: fsspec in /usr/local/lib/python3.10/dist-packages (from huggingface-hub<1.0,>=0.14.1->transformers) (2023.4.0)\n",
            "Requirement already satisfied: typing-extensions>=3.7.4.3 in /usr/local/lib/python3.10/dist-packages (from huggingface-hub<1.0,>=0.14.1->transformers) (4.5.0)\n",
            "Requirement already satisfied: urllib3<1.27,>=1.21.1 in /usr/local/lib/python3.10/dist-packages (from requests->transformers) (1.26.15)\n",
            "Requirement already satisfied: certifi>=2017.4.17 in /usr/local/lib/python3.10/dist-packages (from requests->transformers) (2022.12.7)\n",
            "Requirement already satisfied: charset-normalizer~=2.0.0 in /usr/local/lib/python3.10/dist-packages (from requests->transformers) (2.0.12)\n",
            "Requirement already satisfied: idna<4,>=2.5 in /usr/local/lib/python3.10/dist-packages (from requests->transformers) (3.4)\n"
          ]
        }
      ],
      "source": [
        "!pip install transformers"
      ]
    },
    {
      "cell_type": "code",
      "execution_count": null,
      "metadata": {
        "id": "EZ2W_LwmVRE1"
      },
      "outputs": [],
      "source": []
    },
    {
      "cell_type": "code",
      "execution_count": null,
      "metadata": {
        "id": "8DuUe7TTVRtu"
      },
      "outputs": [],
      "source": [
        "# questions= new_df['postText']\n",
        "# answers= new_df['spoiler']\n",
        "# stories_not_summarized = new_df['paragraph']\n",
        "# tags = new_df['tags']\n",
        "\n",
        "# print(stories_not_summarized[0])\n",
        "\n",
        "\n"
      ]
    },
    {
      "cell_type": "code",
      "execution_count": 21,
      "metadata": {
        "colab": {
          "base_uri": "https://localhost:8080/"
        },
        "id": "r3aANEkqUg_6",
        "outputId": "eb856cc6-6a71-43a1-c565-e1e56ecbfcc2"
      },
      "outputs": [
        {
          "output_type": "stream",
          "name": "stdout",
          "text": [
            "Looking in indexes: https://pypi.org/simple, https://us-python.pkg.dev/colab-wheels/public/simple/\n",
            "Collecting wandb\n",
            "  Downloading wandb-0.15.2-py3-none-any.whl (2.0 MB)\n",
            "\u001b[2K     \u001b[90m━━━━━━━━━━━━━━━━━━━━━━━━━━━━━━━━━━━━━━━━\u001b[0m \u001b[32m2.0/2.0 MB\u001b[0m \u001b[31m79.9 MB/s\u001b[0m eta \u001b[36m0:00:00\u001b[0m\n",
            "\u001b[?25hRequirement already satisfied: Click!=8.0.0,>=7.0 in /usr/local/lib/python3.10/dist-packages (from wandb) (8.1.3)\n",
            "Collecting GitPython!=3.1.29,>=1.0.0 (from wandb)\n",
            "  Downloading GitPython-3.1.31-py3-none-any.whl (184 kB)\n",
            "\u001b[2K     \u001b[90m━━━━━━━━━━━━━━━━━━━━━━━━━━━━━━━━━━━━━━\u001b[0m \u001b[32m184.3/184.3 kB\u001b[0m \u001b[31m26.9 MB/s\u001b[0m eta \u001b[36m0:00:00\u001b[0m\n",
            "\u001b[?25hRequirement already satisfied: requests<3,>=2.0.0 in /usr/local/lib/python3.10/dist-packages (from wandb) (2.27.1)\n",
            "Requirement already satisfied: psutil>=5.0.0 in /usr/local/lib/python3.10/dist-packages (from wandb) (5.9.5)\n",
            "Collecting sentry-sdk>=1.0.0 (from wandb)\n",
            "  Downloading sentry_sdk-1.22.2-py2.py3-none-any.whl (203 kB)\n",
            "\u001b[2K     \u001b[90m━━━━━━━━━━━━━━━━━━━━━━━━━━━━━━━━━━━━━━\u001b[0m \u001b[32m203.3/203.3 kB\u001b[0m \u001b[31m23.2 MB/s\u001b[0m eta \u001b[36m0:00:00\u001b[0m\n",
            "\u001b[?25hCollecting docker-pycreds>=0.4.0 (from wandb)\n",
            "  Downloading docker_pycreds-0.4.0-py2.py3-none-any.whl (9.0 kB)\n",
            "Requirement already satisfied: PyYAML in /usr/local/lib/python3.10/dist-packages (from wandb) (6.0)\n",
            "Collecting pathtools (from wandb)\n",
            "  Downloading pathtools-0.1.2.tar.gz (11 kB)\n",
            "  Preparing metadata (setup.py) ... \u001b[?25l\u001b[?25hdone\n",
            "Collecting setproctitle (from wandb)\n",
            "  Downloading setproctitle-1.3.2-cp310-cp310-manylinux_2_5_x86_64.manylinux1_x86_64.manylinux_2_17_x86_64.manylinux2014_x86_64.whl (30 kB)\n",
            "Requirement already satisfied: setuptools in /usr/local/lib/python3.10/dist-packages (from wandb) (67.7.2)\n",
            "Requirement already satisfied: appdirs>=1.4.3 in /usr/local/lib/python3.10/dist-packages (from wandb) (1.4.4)\n",
            "Requirement already satisfied: protobuf!=4.21.0,<5,>=3.19.0 in /usr/local/lib/python3.10/dist-packages (from wandb) (3.20.3)\n",
            "Requirement already satisfied: six>=1.4.0 in /usr/local/lib/python3.10/dist-packages (from docker-pycreds>=0.4.0->wandb) (1.16.0)\n",
            "Collecting gitdb<5,>=4.0.1 (from GitPython!=3.1.29,>=1.0.0->wandb)\n",
            "  Downloading gitdb-4.0.10-py3-none-any.whl (62 kB)\n",
            "\u001b[2K     \u001b[90m━━━━━━━━━━━━━━━━━━━━━━━━━━━━━━━━━━━━━━━━\u001b[0m \u001b[32m62.7/62.7 kB\u001b[0m \u001b[31m9.4 MB/s\u001b[0m eta \u001b[36m0:00:00\u001b[0m\n",
            "\u001b[?25hRequirement already satisfied: urllib3<1.27,>=1.21.1 in /usr/local/lib/python3.10/dist-packages (from requests<3,>=2.0.0->wandb) (1.26.15)\n",
            "Requirement already satisfied: certifi>=2017.4.17 in /usr/local/lib/python3.10/dist-packages (from requests<3,>=2.0.0->wandb) (2022.12.7)\n",
            "Requirement already satisfied: charset-normalizer~=2.0.0 in /usr/local/lib/python3.10/dist-packages (from requests<3,>=2.0.0->wandb) (2.0.12)\n",
            "Requirement already satisfied: idna<4,>=2.5 in /usr/local/lib/python3.10/dist-packages (from requests<3,>=2.0.0->wandb) (3.4)\n",
            "Collecting smmap<6,>=3.0.1 (from gitdb<5,>=4.0.1->GitPython!=3.1.29,>=1.0.0->wandb)\n",
            "  Downloading smmap-5.0.0-py3-none-any.whl (24 kB)\n",
            "Building wheels for collected packages: pathtools\n",
            "  Building wheel for pathtools (setup.py) ... \u001b[?25l\u001b[?25hdone\n",
            "  Created wheel for pathtools: filename=pathtools-0.1.2-py3-none-any.whl size=8791 sha256=0419087827f78d8d3328cf48f89cd60ea01ac84d9183a9468d79e8d42745f14f\n",
            "  Stored in directory: /root/.cache/pip/wheels/e7/f3/22/152153d6eb222ee7a56ff8617d80ee5207207a8c00a7aab794\n",
            "Successfully built pathtools\n",
            "Installing collected packages: pathtools, smmap, setproctitle, sentry-sdk, docker-pycreds, gitdb, GitPython, wandb\n",
            "Successfully installed GitPython-3.1.31 docker-pycreds-0.4.0 gitdb-4.0.10 pathtools-0.1.2 sentry-sdk-1.22.2 setproctitle-1.3.2 smmap-5.0.0 wandb-0.15.2\n"
          ]
        }
      ],
      "source": [
        "!pip install wandb"
      ]
    },
    {
      "cell_type": "code",
      "execution_count": 22,
      "metadata": {
        "id": "PfhxttEO6l3r"
      },
      "outputs": [],
      "source": [
        "import torch"
      ]
    },
    {
      "cell_type": "code",
      "execution_count": null,
      "metadata": {
        "colab": {
          "base_uri": "https://localhost:8080/",
          "height": 177,
          "referenced_widgets": [
            "41ff79894aa149cda39069f169898973",
            "067d3a14ae02459fb745f37233c207d0",
            "ca480b430fbe451c83d57c9e19a44cd5",
            "1fa2be2665c443699ad8d7a2cfb1944b",
            "f45b7d98077c4caf8e69799cd1a07486",
            "b1b1d5cf452a416d946fef7faf848aa2",
            "ec19a6a9eb504420885dc20b2c560a99",
            "bbc474cec1c64e8c857ef6002d87e942",
            "427db3a4d8a7469eb5df36378f333c46",
            "eff91f4d8d6e4401a3e3966bb2b649d1",
            "138a3ca72fe84590987ba2cb013e83ba",
            "8692c8cce2084acb816e3e7f610436e9",
            "dc71b2d6da604d9f8741da230f70d9a1",
            "0c9f8d0fc2d24f19aed33483299bcca0",
            "3991c629b14642b39162a4590f7a077d",
            "37bbd19676c44b8382bc736cf2b3276d",
            "62e371d1632e4812ad02edd5f63c83a9",
            "caa69694ea924f55b1538ad52dd6171a",
            "8da1181f8e8f4b518f0471ff894a0b05",
            "1f1f9094ce374a14929552040d555408",
            "4ccba4794d324e30a39ba258e7704275",
            "0fe47f9248e1403eab0194b01ab3f0fc",
            "f9c19964520f410fac628f94f49e2e62",
            "59efa454d8ac4f3dae7ea68ed58137d4",
            "de14748e04f94c22852e465b8700956e",
            "329206de56d741808ac4b729f7e2d3f8",
            "394b857f56f44a4b91d342c01b38079b",
            "46b54c785f414985b857626f3a32f3b9",
            "d3ca5633c8ec4268a2b2e4f695d64521",
            "62fcd8d08b4e4dbaa526ae5b29cee399",
            "1fe6a38562194eb5ad5b7740516e6a91",
            "214c0be3e20b40c9af56c30121cd427a",
            "3e2b914a34eb43ae86082f0a5c71ad49",
            "a1a71424ce024f3a82f7a8a4ff7ab846",
            "5d7287f9a14841b9967edfe865ea287f",
            "2d2e6af0a84749828a40d0afc4c12f5d",
            "f26e3f0281834204a2983e212211b612",
            "a98b489ca52c43a2a3d5c3a750227b1a",
            "733a2980ec02450aa880853f1bb12e05",
            "6bafc83cf73941339b17ac3301d157c9",
            "cc089c42a01743689567e3e4b2f52429",
            "5f0fe317a0664fc49f036883a56de171",
            "1c1e64fc37d9478f92a399f055a692fd",
            "9e12e05e00ac43779cc75d5cfe7dff5c",
            "9548bb418668461b961ef7ab345a50ff",
            "3b8e8dafc29e4850ab106850fe9e36fa",
            "77f89b31556141a39a83cb3772c5d10a",
            "670588e909024d85a226d8c576d96735",
            "66674f01711f461f8346110a206c4b68",
            "805d9c0f11684220ba3f465ebbbd8db8",
            "b3b3fd7de71545b192017f309e39982a",
            "d1802bcd7a9640acb441e6e6a69d3fb7",
            "960874eec9e24924999d32bacb6856d5",
            "566a1b21cee942adaa962df241d50549",
            "8fe04e4066574b1a872a6fa67b429d49"
          ]
        },
        "id": "BEshzvBxTsfv",
        "outputId": "a0745c3a-0f23-4175-bf73-bcaafb67c59e"
      },
      "outputs": [
        {
          "data": {
            "application/vnd.jupyter.widget-view+json": {
              "model_id": "41ff79894aa149cda39069f169898973",
              "version_major": 2,
              "version_minor": 0
            },
            "text/plain": [
              "Downloading (…)ve/main/spiece.model:   0%|          | 0.00/792k [00:00<?, ?B/s]"
            ]
          },
          "metadata": {},
          "output_type": "display_data"
        },
        {
          "data": {
            "application/vnd.jupyter.widget-view+json": {
              "model_id": "8692c8cce2084acb816e3e7f610436e9",
              "version_major": 2,
              "version_minor": 0
            },
            "text/plain": [
              "Downloading (…)okenizer_config.json:   0%|          | 0.00/2.32k [00:00<?, ?B/s]"
            ]
          },
          "metadata": {},
          "output_type": "display_data"
        },
        {
          "data": {
            "application/vnd.jupyter.widget-view+json": {
              "model_id": "f9c19964520f410fac628f94f49e2e62",
              "version_major": 2,
              "version_minor": 0
            },
            "text/plain": [
              "Downloading (…)lve/main/config.json:   0%|          | 0.00/1.21k [00:00<?, ?B/s]"
            ]
          },
          "metadata": {},
          "output_type": "display_data"
        },
        {
          "data": {
            "application/vnd.jupyter.widget-view+json": {
              "model_id": "a1a71424ce024f3a82f7a8a4ff7ab846",
              "version_major": 2,
              "version_minor": 0
            },
            "text/plain": [
              "Downloading pytorch_model.bin:   0%|          | 0.00/242M [00:00<?, ?B/s]"
            ]
          },
          "metadata": {},
          "output_type": "display_data"
        },
        {
          "data": {
            "application/vnd.jupyter.widget-view+json": {
              "model_id": "9548bb418668461b961ef7ab345a50ff",
              "version_major": 2,
              "version_minor": 0
            },
            "text/plain": [
              "Downloading (…)neration_config.json:   0%|          | 0.00/147 [00:00<?, ?B/s]"
            ]
          },
          "metadata": {},
          "output_type": "display_data"
        }
      ],
      "source": [
        "# from transformers import pipeline\n",
        "# import requests\n",
        "# import pprint\n",
        "# import time\n",
        "# pp = pprint.PrettyPrinter(indent=14)\n",
        "\n",
        "# from transformers import T5Tokenizer, T5ForConditionalGeneration\n",
        "# import wandb\n",
        "\n",
        "# tokenizer = T5Tokenizer.from_pretrained(\"t5-small\")\n",
        "# model = T5ForConditionalGeneration.from_pretrained('t5-small')\n",
        "\n",
        "\n",
        "# # model = T5ForConditionalGeneration.from_pretrained('t5-small')\n",
        "# # tokenizer = T5Tokenizer.from_pretrained('t5-small')\n",
        "# device_cuda = torch.device('cuda')"
      ]
    },
    {
      "cell_type": "code",
      "execution_count": 23,
      "metadata": {
        "colab": {
          "base_uri": "https://localhost:8080/",
          "height": 106
        },
        "id": "OLeF1Y9kVEps",
        "outputId": "b01cc7c9-55f9-4409-d431-7b31317992ed"
      },
      "outputs": [
        {
          "output_type": "display_data",
          "data": {
            "text/plain": [
              "<IPython.core.display.Javascript object>"
            ],
            "application/javascript": [
              "\n",
              "        window._wandbApiKey = new Promise((resolve, reject) => {\n",
              "            function loadScript(url) {\n",
              "            return new Promise(function(resolve, reject) {\n",
              "                let newScript = document.createElement(\"script\");\n",
              "                newScript.onerror = reject;\n",
              "                newScript.onload = resolve;\n",
              "                document.body.appendChild(newScript);\n",
              "                newScript.src = url;\n",
              "            });\n",
              "            }\n",
              "            loadScript(\"https://cdn.jsdelivr.net/npm/postmate/build/postmate.min.js\").then(() => {\n",
              "            const iframe = document.createElement('iframe')\n",
              "            iframe.style.cssText = \"width:0;height:0;border:none\"\n",
              "            document.body.appendChild(iframe)\n",
              "            const handshake = new Postmate({\n",
              "                container: iframe,\n",
              "                url: 'https://wandb.ai/authorize'\n",
              "            });\n",
              "            const timeout = setTimeout(() => reject(\"Couldn't auto authenticate\"), 5000)\n",
              "            handshake.then(function(child) {\n",
              "                child.on('authorize', data => {\n",
              "                    clearTimeout(timeout)\n",
              "                    resolve(data)\n",
              "                });\n",
              "            });\n",
              "            })\n",
              "        });\n",
              "    "
            ]
          },
          "metadata": {}
        },
        {
          "output_type": "stream",
          "name": "stderr",
          "text": [
            "\u001b[34m\u001b[1mwandb\u001b[0m: Logging into wandb.ai. (Learn how to deploy a W&B server locally: https://wandb.me/wandb-server)\n",
            "\u001b[34m\u001b[1mwandb\u001b[0m: You can find your API key in your browser here: https://wandb.ai/authorize\n",
            "wandb: Paste an API key from your profile and hit enter, or press ctrl+c to quit:"
          ]
        },
        {
          "name": "stdout",
          "output_type": "stream",
          "text": [
            " ··········\n"
          ]
        },
        {
          "output_type": "stream",
          "name": "stderr",
          "text": [
            "\u001b[34m\u001b[1mwandb\u001b[0m: Appending key for api.wandb.ai to your netrc file: /root/.netrc\n"
          ]
        }
      ],
      "source": [
        "WANDB_INTEGRATION = True\n",
        "if WANDB_INTEGRATION:\n",
        "    import wandb\n",
        "\n",
        "    wandb.login()"
      ]
    },
    {
      "cell_type": "code",
      "execution_count": 24,
      "metadata": {
        "id": "VYjI7khWVLrr"
      },
      "outputs": [],
      "source": [
        "from datetime import datetime"
      ]
    },
    {
      "cell_type": "code",
      "execution_count": 25,
      "metadata": {
        "colab": {
          "base_uri": "https://localhost:8080/",
          "height": 122
        },
        "id": "cJf30y6IVPuQ",
        "outputId": "34660f7d-ff70-4dd5-ba9c-374780111cab"
      },
      "outputs": [
        {
          "output_type": "stream",
          "name": "stderr",
          "text": [
            "\u001b[34m\u001b[1mwandb\u001b[0m: Currently logged in as: \u001b[33mpradhaneva94\u001b[0m (\u001b[33mevapradhan\u001b[0m). Use \u001b[1m`wandb login --relogin`\u001b[0m to force relogin\n"
          ]
        },
        {
          "output_type": "display_data",
          "data": {
            "text/plain": [
              "<IPython.core.display.HTML object>"
            ],
            "text/html": [
              "Tracking run with wandb version 0.15.2"
            ]
          },
          "metadata": {}
        },
        {
          "output_type": "display_data",
          "data": {
            "text/plain": [
              "<IPython.core.display.HTML object>"
            ],
            "text/html": [
              "Run data is saved locally in <code>/content/wandb/run-20230513_061908-twi1f31i</code>"
            ]
          },
          "metadata": {}
        },
        {
          "output_type": "display_data",
          "data": {
            "text/plain": [
              "<IPython.core.display.HTML object>"
            ],
            "text/html": [
              "Syncing run <strong><a href='https://wandb.ai/evapradhan/clickbait_spoiling/runs/twi1f31i' target=\"_blank\">gallant-water-17</a></strong> to <a href='https://wandb.ai/evapradhan/clickbait_spoiling' target=\"_blank\">Weights & Biases</a> (<a href='https://wandb.me/run' target=\"_blank\">docs</a>)<br/>"
            ]
          },
          "metadata": {}
        },
        {
          "output_type": "display_data",
          "data": {
            "text/plain": [
              "<IPython.core.display.HTML object>"
            ],
            "text/html": [
              " View project at <a href='https://wandb.ai/evapradhan/clickbait_spoiling' target=\"_blank\">https://wandb.ai/evapradhan/clickbait_spoiling</a>"
            ]
          },
          "metadata": {}
        },
        {
          "output_type": "display_data",
          "data": {
            "text/plain": [
              "<IPython.core.display.HTML object>"
            ],
            "text/html": [
              " View run at <a href='https://wandb.ai/evapradhan/clickbait_spoiling/runs/twi1f31i' target=\"_blank\">https://wandb.ai/evapradhan/clickbait_spoiling/runs/twi1f31i</a>"
            ]
          },
          "metadata": {}
        }
      ],
      "source": [
        "if WANDB_INTEGRATION:\n",
        "    wandb_run = wandb.init(\n",
        "        project=\"clickbait_spoiling\",\n",
        "        config={\n",
        "            \"per_device_train_batch_size\": 4\n",
        "\n",
        "        },\n",
        "    )\n",
        "\n",
        "    now = datetime.now()\n",
        "    current_time = now.strftime(\"%H%M%S\")\n",
        "    wandb_run.name = \"run_\" + \"english\" + \"_\" + current_time"
      ]
    },
    {
      "cell_type": "code",
      "execution_count": null,
      "metadata": {
        "id": "W7El8ulJoByz"
      },
      "outputs": [],
      "source": [
        "# # summarize with T5\n",
        "# # summarizer_t5 = pipeline(task='summarization', model=\"t5-large\")\n",
        "# summarizer_t5 = pipeline(task='summarization', model=\"t5-small\")"
      ]
    },
    {
      "cell_type": "code",
      "execution_count": null,
      "metadata": {
        "id": "aWJIR42DJuCN"
      },
      "outputs": [],
      "source": [
        "#FINE TUNING START"
      ]
    },
    {
      "cell_type": "code",
      "execution_count": 26,
      "metadata": {
        "colab": {
          "base_uri": "https://localhost:8080/"
        },
        "id": "0IodNZPaJuCN",
        "outputId": "a5589f19-d535-4bae-a5ed-47e56e7d34f4"
      },
      "outputs": [
        {
          "output_type": "stream",
          "name": "stdout",
          "text": [
            "Looking in indexes: https://pypi.org/simple, https://us-python.pkg.dev/colab-wheels/public/simple/\n",
            "Requirement already satisfied: transformers in /usr/local/lib/python3.10/dist-packages (4.29.1)\n",
            "Requirement already satisfied: filelock in /usr/local/lib/python3.10/dist-packages (from transformers) (3.12.0)\n",
            "Requirement already satisfied: huggingface-hub<1.0,>=0.14.1 in /usr/local/lib/python3.10/dist-packages (from transformers) (0.14.1)\n",
            "Requirement already satisfied: numpy>=1.17 in /usr/local/lib/python3.10/dist-packages (from transformers) (1.22.4)\n",
            "Requirement already satisfied: packaging>=20.0 in /usr/local/lib/python3.10/dist-packages (from transformers) (23.1)\n",
            "Requirement already satisfied: pyyaml>=5.1 in /usr/local/lib/python3.10/dist-packages (from transformers) (6.0)\n",
            "Requirement already satisfied: regex!=2019.12.17 in /usr/local/lib/python3.10/dist-packages (from transformers) (2022.10.31)\n",
            "Requirement already satisfied: requests in /usr/local/lib/python3.10/dist-packages (from transformers) (2.27.1)\n",
            "Requirement already satisfied: tokenizers!=0.11.3,<0.14,>=0.11.1 in /usr/local/lib/python3.10/dist-packages (from transformers) (0.13.3)\n",
            "Requirement already satisfied: tqdm>=4.27 in /usr/local/lib/python3.10/dist-packages (from transformers) (4.65.0)\n",
            "Requirement already satisfied: fsspec in /usr/local/lib/python3.10/dist-packages (from huggingface-hub<1.0,>=0.14.1->transformers) (2023.4.0)\n",
            "Requirement already satisfied: typing-extensions>=3.7.4.3 in /usr/local/lib/python3.10/dist-packages (from huggingface-hub<1.0,>=0.14.1->transformers) (4.5.0)\n",
            "Requirement already satisfied: urllib3<1.27,>=1.21.1 in /usr/local/lib/python3.10/dist-packages (from requests->transformers) (1.26.15)\n",
            "Requirement already satisfied: certifi>=2017.4.17 in /usr/local/lib/python3.10/dist-packages (from requests->transformers) (2022.12.7)\n",
            "Requirement already satisfied: charset-normalizer~=2.0.0 in /usr/local/lib/python3.10/dist-packages (from requests->transformers) (2.0.12)\n",
            "Requirement already satisfied: idna<4,>=2.5 in /usr/local/lib/python3.10/dist-packages (from requests->transformers) (3.4)\n",
            "Looking in indexes: https://pypi.org/simple, https://us-python.pkg.dev/colab-wheels/public/simple/\n",
            "Collecting datasets\n",
            "  Downloading datasets-2.12.0-py3-none-any.whl (474 kB)\n",
            "\u001b[2K     \u001b[90m━━━━━━━━━━━━━━━━━━━━━━━━━━━━━━━━━━━━━━\u001b[0m \u001b[32m474.6/474.6 kB\u001b[0m \u001b[31m37.8 MB/s\u001b[0m eta \u001b[36m0:00:00\u001b[0m\n",
            "\u001b[?25hRequirement already satisfied: numpy>=1.17 in /usr/local/lib/python3.10/dist-packages (from datasets) (1.22.4)\n",
            "Requirement already satisfied: pyarrow>=8.0.0 in /usr/local/lib/python3.10/dist-packages (from datasets) (9.0.0)\n",
            "Collecting dill<0.3.7,>=0.3.0 (from datasets)\n",
            "  Downloading dill-0.3.6-py3-none-any.whl (110 kB)\n",
            "\u001b[2K     \u001b[90m━━━━━━━━━━━━━━━━━━━━━━━━━━━━━━━━━━━━━━\u001b[0m \u001b[32m110.5/110.5 kB\u001b[0m \u001b[31m16.9 MB/s\u001b[0m eta \u001b[36m0:00:00\u001b[0m\n",
            "\u001b[?25hRequirement already satisfied: pandas in /usr/local/lib/python3.10/dist-packages (from datasets) (1.5.3)\n",
            "Requirement already satisfied: requests>=2.19.0 in /usr/local/lib/python3.10/dist-packages (from datasets) (2.27.1)\n",
            "Requirement already satisfied: tqdm>=4.62.1 in /usr/local/lib/python3.10/dist-packages (from datasets) (4.65.0)\n",
            "Collecting xxhash (from datasets)\n",
            "  Downloading xxhash-3.2.0-cp310-cp310-manylinux_2_17_x86_64.manylinux2014_x86_64.whl (212 kB)\n",
            "\u001b[2K     \u001b[90m━━━━━━━━━━━━━━━━━━━━━━━━━━━━━━━━━━━━━━\u001b[0m \u001b[32m212.5/212.5 kB\u001b[0m \u001b[31m24.0 MB/s\u001b[0m eta \u001b[36m0:00:00\u001b[0m\n",
            "\u001b[?25hCollecting multiprocess (from datasets)\n",
            "  Downloading multiprocess-0.70.14-py310-none-any.whl (134 kB)\n",
            "\u001b[2K     \u001b[90m━━━━━━━━━━━━━━━━━━━━━━━━━━━━━━━━━━━━━━\u001b[0m \u001b[32m134.3/134.3 kB\u001b[0m \u001b[31m19.3 MB/s\u001b[0m eta \u001b[36m0:00:00\u001b[0m\n",
            "\u001b[?25hRequirement already satisfied: fsspec[http]>=2021.11.1 in /usr/local/lib/python3.10/dist-packages (from datasets) (2023.4.0)\n",
            "Requirement already satisfied: aiohttp in /usr/local/lib/python3.10/dist-packages (from datasets) (3.8.4)\n",
            "Requirement already satisfied: huggingface-hub<1.0.0,>=0.11.0 in /usr/local/lib/python3.10/dist-packages (from datasets) (0.14.1)\n",
            "Requirement already satisfied: packaging in /usr/local/lib/python3.10/dist-packages (from datasets) (23.1)\n",
            "Collecting responses<0.19 (from datasets)\n",
            "  Downloading responses-0.18.0-py3-none-any.whl (38 kB)\n",
            "Requirement already satisfied: pyyaml>=5.1 in /usr/local/lib/python3.10/dist-packages (from datasets) (6.0)\n",
            "Requirement already satisfied: attrs>=17.3.0 in /usr/local/lib/python3.10/dist-packages (from aiohttp->datasets) (23.1.0)\n",
            "Requirement already satisfied: charset-normalizer<4.0,>=2.0 in /usr/local/lib/python3.10/dist-packages (from aiohttp->datasets) (2.0.12)\n",
            "Requirement already satisfied: multidict<7.0,>=4.5 in /usr/local/lib/python3.10/dist-packages (from aiohttp->datasets) (6.0.4)\n",
            "Requirement already satisfied: async-timeout<5.0,>=4.0.0a3 in /usr/local/lib/python3.10/dist-packages (from aiohttp->datasets) (4.0.2)\n",
            "Requirement already satisfied: yarl<2.0,>=1.0 in /usr/local/lib/python3.10/dist-packages (from aiohttp->datasets) (1.9.2)\n",
            "Requirement already satisfied: frozenlist>=1.1.1 in /usr/local/lib/python3.10/dist-packages (from aiohttp->datasets) (1.3.3)\n",
            "Requirement already satisfied: aiosignal>=1.1.2 in /usr/local/lib/python3.10/dist-packages (from aiohttp->datasets) (1.3.1)\n",
            "Requirement already satisfied: filelock in /usr/local/lib/python3.10/dist-packages (from huggingface-hub<1.0.0,>=0.11.0->datasets) (3.12.0)\n",
            "Requirement already satisfied: typing-extensions>=3.7.4.3 in /usr/local/lib/python3.10/dist-packages (from huggingface-hub<1.0.0,>=0.11.0->datasets) (4.5.0)\n",
            "Requirement already satisfied: urllib3<1.27,>=1.21.1 in /usr/local/lib/python3.10/dist-packages (from requests>=2.19.0->datasets) (1.26.15)\n",
            "Requirement already satisfied: certifi>=2017.4.17 in /usr/local/lib/python3.10/dist-packages (from requests>=2.19.0->datasets) (2022.12.7)\n",
            "Requirement already satisfied: idna<4,>=2.5 in /usr/local/lib/python3.10/dist-packages (from requests>=2.19.0->datasets) (3.4)\n",
            "Requirement already satisfied: python-dateutil>=2.8.1 in /usr/local/lib/python3.10/dist-packages (from pandas->datasets) (2.8.2)\n",
            "Requirement already satisfied: pytz>=2020.1 in /usr/local/lib/python3.10/dist-packages (from pandas->datasets) (2022.7.1)\n",
            "Requirement already satisfied: six>=1.5 in /usr/local/lib/python3.10/dist-packages (from python-dateutil>=2.8.1->pandas->datasets) (1.16.0)\n",
            "Installing collected packages: xxhash, dill, responses, multiprocess, datasets\n",
            "Successfully installed datasets-2.12.0 dill-0.3.6 multiprocess-0.70.14 responses-0.18.0 xxhash-3.2.0\n"
          ]
        }
      ],
      "source": [
        "!pip install transformers #==2.9.0\n",
        "!pip install datasets"
      ]
    },
    {
      "cell_type": "code",
      "execution_count": 27,
      "metadata": {
        "id": "i_-rXf2QJuCN"
      },
      "outputs": [],
      "source": [
        "from datasets import Dataset\n",
        "from datasets import dataset_dict"
      ]
    },
    {
      "cell_type": "code",
      "execution_count": 28,
      "metadata": {
        "colab": {
          "base_uri": "https://localhost:8080/"
        },
        "id": "h6-Za4skJuCN",
        "outputId": "24d57024-5b5a-4bd6-f75d-63881bebf564"
      },
      "outputs": [
        {
          "output_type": "stream",
          "name": "stderr",
          "text": [
            "[nltk_data] Downloading package punkt to /root/nltk_data...\n",
            "[nltk_data]   Package punkt is already up-to-date!\n"
          ]
        },
        {
          "output_type": "execute_result",
          "data": {
            "text/plain": [
              "True"
            ]
          },
          "metadata": {},
          "execution_count": 28
        }
      ],
      "source": [
        "import transformers\n",
        "from transformers import AutoTokenizer, AutoModelForSeq2SeqLM, Seq2SeqTrainingArguments, Seq2SeqTrainer\n",
        "from datasets import load_dataset, load_from_disk\n",
        "import numpy as np\n",
        "import nltk\n",
        "nltk.download('punkt')"
      ]
    },
    {
      "cell_type": "code",
      "execution_count": 29,
      "metadata": {
        "id": "afgOWoA4JuCN"
      },
      "outputs": [],
      "source": [
        "import torch\n",
        "import numpy as np\n",
        "import pandas as pd\n",
        "from transformers import (TrainingArguments, Trainer, EarlyStoppingCallback)\n",
        "from sklearn.metrics import accuracy_score, f1_score\n",
        "from datasets import Dataset, load_metric\n",
        "from transformers import AutoTokenizer, BartForConditionalGeneration"
      ]
    },
    {
      "cell_type": "code",
      "execution_count": 30,
      "metadata": {
        "id": "DUDOiljNJuCN"
      },
      "outputs": [],
      "source": [
        "# max_input = 512\n",
        "# max_target = 128\n",
        "# batch_size = 3\n",
        "model_checkpoints = \"facebook/bart-large-cnn\""
      ]
    },
    {
      "cell_type": "code",
      "execution_count": 31,
      "metadata": {
        "id": "_Vhfa7sBJuCN",
        "colab": {
          "base_uri": "https://localhost:8080/",
          "height": 145,
          "referenced_widgets": [
            "236e8c96f8e844edb5d58645dbbd2f7d",
            "ab0aa2ed2f0c4a3e837076fc6d32834e",
            "21b1634134384b5792be901018371a03",
            "ef40d9f9c0d24b299d8b9483ef99e9d4",
            "0e6ad24f99df49309851dd7e89f3050b",
            "3e04ba70865b418ca210fe12d5646521",
            "f12bf7325da34f7ca67a11380f696949",
            "6c3c51dff1c74bc3b6a3154caefa06e7",
            "93cc5921e01c4a4cb23d741fc6756d44",
            "19394c22b75848729661f67b9b264760",
            "deddbcfaa9b149caad1e700126ec0a1d",
            "73634d24f0d449bea964c2422bea0179",
            "e35c512d261e4ea2a694b882b30b9feb",
            "dbadf78a28aa4e7eadb5f45a0f7c89d0",
            "79c3abaaf03648ac900dad90942bc07c",
            "902fb37689724db4a3646e6c59558df9",
            "ece9055f6c694480919ead7c56d09dab",
            "8d27a5d0293044879c69d735543e1194",
            "0bb710fd30eb45629a4a277a75dd4044",
            "edf31ff87cc34cf09bb5370bf9808173",
            "a0d1436f7129475a89fa4f3a041bbb42",
            "a3d63012c193477ab9c3860b46448814",
            "0ebc137fd94648cdb23728b0fdc8955a",
            "43d7ffecfc084eee8976b17b0d860a00",
            "60749caa5c1b4b75a37c2cf93f074365",
            "e764272c15294bc4993395e88d76196f",
            "78a27293c7624369b91816df82362d55",
            "b3028cdcb91b42df89749a37c3c441d7",
            "83e833315c8a4e56bf2b5a33f4cb1439",
            "10984128a403453692aec265ccafc52e",
            "8d3df63d1fed4835beb2463e61142de7",
            "27850e93906d49099d3370e36d0b18d5",
            "263d902ec39c448bb959f04a2282abfe",
            "6df5aedd70124ccd903b671a031b0e83",
            "c77647df5cfc408f95e2d66a75f033e8",
            "4934b994c800473082434d2645a7548c",
            "7b58d288b23949c1bb7fff40ef73fd3d",
            "a1c0b544efa143679bbdab1e481391aa",
            "6aff081d161140bfbe054cb1d4456aa2",
            "fcc3b70e6bbe4fb9bf48fe53303bfeb1",
            "79635aab47964da78be9d0bbf580f04c",
            "23e20917925e49da82296f88bac09658",
            "52930afa4c034e4f8dcd89223393458e",
            "58cef785d23d4736943f19bb4c7c2a66"
          ]
        },
        "outputId": "0018ce18-f37b-4d05-be68-5dd7c437deec"
      },
      "outputs": [
        {
          "output_type": "display_data",
          "data": {
            "text/plain": [
              "Downloading (…)lve/main/config.json:   0%|          | 0.00/1.58k [00:00<?, ?B/s]"
            ],
            "application/vnd.jupyter.widget-view+json": {
              "version_major": 2,
              "version_minor": 0,
              "model_id": "236e8c96f8e844edb5d58645dbbd2f7d"
            }
          },
          "metadata": {}
        },
        {
          "output_type": "display_data",
          "data": {
            "text/plain": [
              "Downloading (…)olve/main/vocab.json:   0%|          | 0.00/899k [00:00<?, ?B/s]"
            ],
            "application/vnd.jupyter.widget-view+json": {
              "version_major": 2,
              "version_minor": 0,
              "model_id": "73634d24f0d449bea964c2422bea0179"
            }
          },
          "metadata": {}
        },
        {
          "output_type": "display_data",
          "data": {
            "text/plain": [
              "Downloading (…)olve/main/merges.txt:   0%|          | 0.00/456k [00:00<?, ?B/s]"
            ],
            "application/vnd.jupyter.widget-view+json": {
              "version_major": 2,
              "version_minor": 0,
              "model_id": "0ebc137fd94648cdb23728b0fdc8955a"
            }
          },
          "metadata": {}
        },
        {
          "output_type": "display_data",
          "data": {
            "text/plain": [
              "Downloading (…)/main/tokenizer.json:   0%|          | 0.00/1.36M [00:00<?, ?B/s]"
            ],
            "application/vnd.jupyter.widget-view+json": {
              "version_major": 2,
              "version_minor": 0,
              "model_id": "6df5aedd70124ccd903b671a031b0e83"
            }
          },
          "metadata": {}
        }
      ],
      "source": [
        "tokenizer = AutoTokenizer.from_pretrained(model_checkpoints)"
      ]
    },
    {
      "cell_type": "code",
      "execution_count": 32,
      "metadata": {
        "id": "CVwtwdc6JuCN"
      },
      "outputs": [],
      "source": [
        "input_text = \"Sumarize:\" + new_df[\"paragraph\"]\n",
        "target_text = new_df[\"spoiler\"]\n",
        "\n",
        "\n",
        "data_to_process_train = pd.DataFrame({ 'input_ids': input_text, 'labels':target_text})"
      ]
    },
    {
      "cell_type": "code",
      "source": [
        "data_to_process_train"
      ],
      "metadata": {
        "id": "c-aSXW0GS2S7",
        "colab": {
          "base_uri": "https://localhost:8080/",
          "height": 424
        },
        "outputId": "398b34bb-219f-42c3-91e7-ddc6d65f5e73"
      },
      "execution_count": 33,
      "outputs": [
        {
          "output_type": "execute_result",
          "data": {
            "text/plain": [
              "                                              input_ids  \\\n",
              "1     Sumarize:2070 is shaping up to be a great year...   \n",
              "2     Sumarize:despite common belief money isnt the ...   \n",
              "4     Sumarize:boiling rice may seem simple but ther...   \n",
              "10    Sumarize:plenty has been made of the big congr...   \n",
              "11    Sumarize:teen mom 2 star jenelle evans took to...   \n",
              "...                                                 ...   \n",
              "3178  Sumarize:when it comes to home projects someti...   \n",
              "3179  Sumarize:best buy has an insane xbox one deal ...   \n",
              "3183  Sumarize:shes not a tourist visiting a foreign...   \n",
              "3198  Sumarize:what the hell 1 unless you ’ re somew...   \n",
              "3199  Sumarize:rep charlie dent rpa came out in supp...   \n",
              "\n",
              "                                         labels  \n",
              "1                                          2070  \n",
              "2                      intellectual stimulation  \n",
              "4                              in a rice cooker  \n",
              "10                                  750 percent  \n",
              "11                                          boy  \n",
              "...                                         ...  \n",
              "3178                    own underground bunker!  \n",
              "3179                                    $50 off  \n",
              "3183  student at Hampton University in Virginia  \n",
              "3198                             @beyoncefan666  \n",
              "3199                  Rep. Charlie Dent (R-Pa.)  \n",
              "\n",
              "[1367 rows x 2 columns]"
            ],
            "text/html": [
              "\n",
              "  <div id=\"df-66c85f10-07da-445b-b237-4bc3f0ceab8f\">\n",
              "    <div class=\"colab-df-container\">\n",
              "      <div>\n",
              "<style scoped>\n",
              "    .dataframe tbody tr th:only-of-type {\n",
              "        vertical-align: middle;\n",
              "    }\n",
              "\n",
              "    .dataframe tbody tr th {\n",
              "        vertical-align: top;\n",
              "    }\n",
              "\n",
              "    .dataframe thead th {\n",
              "        text-align: right;\n",
              "    }\n",
              "</style>\n",
              "<table border=\"1\" class=\"dataframe\">\n",
              "  <thead>\n",
              "    <tr style=\"text-align: right;\">\n",
              "      <th></th>\n",
              "      <th>input_ids</th>\n",
              "      <th>labels</th>\n",
              "    </tr>\n",
              "  </thead>\n",
              "  <tbody>\n",
              "    <tr>\n",
              "      <th>1</th>\n",
              "      <td>Sumarize:2070 is shaping up to be a great year...</td>\n",
              "      <td>2070</td>\n",
              "    </tr>\n",
              "    <tr>\n",
              "      <th>2</th>\n",
              "      <td>Sumarize:despite common belief money isnt the ...</td>\n",
              "      <td>intellectual stimulation</td>\n",
              "    </tr>\n",
              "    <tr>\n",
              "      <th>4</th>\n",
              "      <td>Sumarize:boiling rice may seem simple but ther...</td>\n",
              "      <td>in a rice cooker</td>\n",
              "    </tr>\n",
              "    <tr>\n",
              "      <th>10</th>\n",
              "      <td>Sumarize:plenty has been made of the big congr...</td>\n",
              "      <td>750 percent</td>\n",
              "    </tr>\n",
              "    <tr>\n",
              "      <th>11</th>\n",
              "      <td>Sumarize:teen mom 2 star jenelle evans took to...</td>\n",
              "      <td>boy</td>\n",
              "    </tr>\n",
              "    <tr>\n",
              "      <th>...</th>\n",
              "      <td>...</td>\n",
              "      <td>...</td>\n",
              "    </tr>\n",
              "    <tr>\n",
              "      <th>3178</th>\n",
              "      <td>Sumarize:when it comes to home projects someti...</td>\n",
              "      <td>own underground bunker!</td>\n",
              "    </tr>\n",
              "    <tr>\n",
              "      <th>3179</th>\n",
              "      <td>Sumarize:best buy has an insane xbox one deal ...</td>\n",
              "      <td>$50 off</td>\n",
              "    </tr>\n",
              "    <tr>\n",
              "      <th>3183</th>\n",
              "      <td>Sumarize:shes not a tourist visiting a foreign...</td>\n",
              "      <td>student at Hampton University in Virginia</td>\n",
              "    </tr>\n",
              "    <tr>\n",
              "      <th>3198</th>\n",
              "      <td>Sumarize:what the hell 1 unless you ’ re somew...</td>\n",
              "      <td>@beyoncefan666</td>\n",
              "    </tr>\n",
              "    <tr>\n",
              "      <th>3199</th>\n",
              "      <td>Sumarize:rep charlie dent rpa came out in supp...</td>\n",
              "      <td>Rep. Charlie Dent (R-Pa.)</td>\n",
              "    </tr>\n",
              "  </tbody>\n",
              "</table>\n",
              "<p>1367 rows × 2 columns</p>\n",
              "</div>\n",
              "      <button class=\"colab-df-convert\" onclick=\"convertToInteractive('df-66c85f10-07da-445b-b237-4bc3f0ceab8f')\"\n",
              "              title=\"Convert this dataframe to an interactive table.\"\n",
              "              style=\"display:none;\">\n",
              "        \n",
              "  <svg xmlns=\"http://www.w3.org/2000/svg\" height=\"24px\"viewBox=\"0 0 24 24\"\n",
              "       width=\"24px\">\n",
              "    <path d=\"M0 0h24v24H0V0z\" fill=\"none\"/>\n",
              "    <path d=\"M18.56 5.44l.94 2.06.94-2.06 2.06-.94-2.06-.94-.94-2.06-.94 2.06-2.06.94zm-11 1L8.5 8.5l.94-2.06 2.06-.94-2.06-.94L8.5 2.5l-.94 2.06-2.06.94zm10 10l.94 2.06.94-2.06 2.06-.94-2.06-.94-.94-2.06-.94 2.06-2.06.94z\"/><path d=\"M17.41 7.96l-1.37-1.37c-.4-.4-.92-.59-1.43-.59-.52 0-1.04.2-1.43.59L10.3 9.45l-7.72 7.72c-.78.78-.78 2.05 0 2.83L4 21.41c.39.39.9.59 1.41.59.51 0 1.02-.2 1.41-.59l7.78-7.78 2.81-2.81c.8-.78.8-2.07 0-2.86zM5.41 20L4 18.59l7.72-7.72 1.47 1.35L5.41 20z\"/>\n",
              "  </svg>\n",
              "      </button>\n",
              "      \n",
              "  <style>\n",
              "    .colab-df-container {\n",
              "      display:flex;\n",
              "      flex-wrap:wrap;\n",
              "      gap: 12px;\n",
              "    }\n",
              "\n",
              "    .colab-df-convert {\n",
              "      background-color: #E8F0FE;\n",
              "      border: none;\n",
              "      border-radius: 50%;\n",
              "      cursor: pointer;\n",
              "      display: none;\n",
              "      fill: #1967D2;\n",
              "      height: 32px;\n",
              "      padding: 0 0 0 0;\n",
              "      width: 32px;\n",
              "    }\n",
              "\n",
              "    .colab-df-convert:hover {\n",
              "      background-color: #E2EBFA;\n",
              "      box-shadow: 0px 1px 2px rgba(60, 64, 67, 0.3), 0px 1px 3px 1px rgba(60, 64, 67, 0.15);\n",
              "      fill: #174EA6;\n",
              "    }\n",
              "\n",
              "    [theme=dark] .colab-df-convert {\n",
              "      background-color: #3B4455;\n",
              "      fill: #D2E3FC;\n",
              "    }\n",
              "\n",
              "    [theme=dark] .colab-df-convert:hover {\n",
              "      background-color: #434B5C;\n",
              "      box-shadow: 0px 1px 3px 1px rgba(0, 0, 0, 0.15);\n",
              "      filter: drop-shadow(0px 1px 2px rgba(0, 0, 0, 0.3));\n",
              "      fill: #FFFFFF;\n",
              "    }\n",
              "  </style>\n",
              "\n",
              "      <script>\n",
              "        const buttonEl =\n",
              "          document.querySelector('#df-66c85f10-07da-445b-b237-4bc3f0ceab8f button.colab-df-convert');\n",
              "        buttonEl.style.display =\n",
              "          google.colab.kernel.accessAllowed ? 'block' : 'none';\n",
              "\n",
              "        async function convertToInteractive(key) {\n",
              "          const element = document.querySelector('#df-66c85f10-07da-445b-b237-4bc3f0ceab8f');\n",
              "          const dataTable =\n",
              "            await google.colab.kernel.invokeFunction('convertToInteractive',\n",
              "                                                     [key], {});\n",
              "          if (!dataTable) return;\n",
              "\n",
              "          const docLinkHtml = 'Like what you see? Visit the ' +\n",
              "            '<a target=\"_blank\" href=https://colab.research.google.com/notebooks/data_table.ipynb>data table notebook</a>'\n",
              "            + ' to learn more about interactive tables.';\n",
              "          element.innerHTML = '';\n",
              "          dataTable['output_type'] = 'display_data';\n",
              "          await google.colab.output.renderOutput(dataTable, element);\n",
              "          const docLink = document.createElement('div');\n",
              "          docLink.innerHTML = docLinkHtml;\n",
              "          element.appendChild(docLink);\n",
              "        }\n",
              "      </script>\n",
              "    </div>\n",
              "  </div>\n",
              "  "
            ]
          },
          "metadata": {},
          "execution_count": 33
        }
      ]
    },
    {
      "cell_type": "code",
      "source": [
        "df1_dict = data_to_process_train.to_dict(orient = 'list')"
      ],
      "metadata": {
        "id": "F1i8kSAGS6Nu"
      },
      "execution_count": 34,
      "outputs": []
    },
    {
      "cell_type": "code",
      "source": [
        "dict_train_ = Dataset.from_dict(df1_dict)"
      ],
      "metadata": {
        "id": "h_Nlb9A3S8NC"
      },
      "execution_count": 35,
      "outputs": []
    },
    {
      "cell_type": "code",
      "source": [
        "dict_train_"
      ],
      "metadata": {
        "colab": {
          "base_uri": "https://localhost:8080/"
        },
        "id": "bEwKebv7S9dB",
        "outputId": "cb09f989-bd17-470f-930b-efc362be1ee9"
      },
      "execution_count": 36,
      "outputs": [
        {
          "output_type": "execute_result",
          "data": {
            "text/plain": [
              "Dataset({\n",
              "    features: ['input_ids', 'labels'],\n",
              "    num_rows: 1367\n",
              "})"
            ]
          },
          "metadata": {},
          "execution_count": 36
        }
      ]
    },
    {
      "cell_type": "code",
      "source": [],
      "metadata": {
        "id": "0I6s18GWTEh4"
      },
      "execution_count": null,
      "outputs": []
    },
    {
      "cell_type": "code",
      "execution_count": 37,
      "metadata": {
        "id": "6OIHtPVMJuCN"
      },
      "outputs": [],
      "source": [
        "input_text = \"Sumarize:\" + new_df_validation[\"paragraph\"]\n",
        "target_text = new_df_validation[\"spoiler\"]\n",
        "\n",
        "data_to_process_validation = pd.DataFrame({ 'input_ids': input_text, 'labels':target_text})"
      ]
    },
    {
      "cell_type": "code",
      "source": [
        "data_to_process_train"
      ],
      "metadata": {
        "id": "ITkQI27MTCIR",
        "colab": {
          "base_uri": "https://localhost:8080/",
          "height": 424
        },
        "outputId": "26423dc3-1453-46b0-e832-b1ec896dce81"
      },
      "execution_count": 38,
      "outputs": [
        {
          "output_type": "execute_result",
          "data": {
            "text/plain": [
              "                                              input_ids  \\\n",
              "1     Sumarize:2070 is shaping up to be a great year...   \n",
              "2     Sumarize:despite common belief money isnt the ...   \n",
              "4     Sumarize:boiling rice may seem simple but ther...   \n",
              "10    Sumarize:plenty has been made of the big congr...   \n",
              "11    Sumarize:teen mom 2 star jenelle evans took to...   \n",
              "...                                                 ...   \n",
              "3178  Sumarize:when it comes to home projects someti...   \n",
              "3179  Sumarize:best buy has an insane xbox one deal ...   \n",
              "3183  Sumarize:shes not a tourist visiting a foreign...   \n",
              "3198  Sumarize:what the hell 1 unless you ’ re somew...   \n",
              "3199  Sumarize:rep charlie dent rpa came out in supp...   \n",
              "\n",
              "                                         labels  \n",
              "1                                          2070  \n",
              "2                      intellectual stimulation  \n",
              "4                              in a rice cooker  \n",
              "10                                  750 percent  \n",
              "11                                          boy  \n",
              "...                                         ...  \n",
              "3178                    own underground bunker!  \n",
              "3179                                    $50 off  \n",
              "3183  student at Hampton University in Virginia  \n",
              "3198                             @beyoncefan666  \n",
              "3199                  Rep. Charlie Dent (R-Pa.)  \n",
              "\n",
              "[1367 rows x 2 columns]"
            ],
            "text/html": [
              "\n",
              "  <div id=\"df-8398ff26-2f41-410d-8d01-49ea85382951\">\n",
              "    <div class=\"colab-df-container\">\n",
              "      <div>\n",
              "<style scoped>\n",
              "    .dataframe tbody tr th:only-of-type {\n",
              "        vertical-align: middle;\n",
              "    }\n",
              "\n",
              "    .dataframe tbody tr th {\n",
              "        vertical-align: top;\n",
              "    }\n",
              "\n",
              "    .dataframe thead th {\n",
              "        text-align: right;\n",
              "    }\n",
              "</style>\n",
              "<table border=\"1\" class=\"dataframe\">\n",
              "  <thead>\n",
              "    <tr style=\"text-align: right;\">\n",
              "      <th></th>\n",
              "      <th>input_ids</th>\n",
              "      <th>labels</th>\n",
              "    </tr>\n",
              "  </thead>\n",
              "  <tbody>\n",
              "    <tr>\n",
              "      <th>1</th>\n",
              "      <td>Sumarize:2070 is shaping up to be a great year...</td>\n",
              "      <td>2070</td>\n",
              "    </tr>\n",
              "    <tr>\n",
              "      <th>2</th>\n",
              "      <td>Sumarize:despite common belief money isnt the ...</td>\n",
              "      <td>intellectual stimulation</td>\n",
              "    </tr>\n",
              "    <tr>\n",
              "      <th>4</th>\n",
              "      <td>Sumarize:boiling rice may seem simple but ther...</td>\n",
              "      <td>in a rice cooker</td>\n",
              "    </tr>\n",
              "    <tr>\n",
              "      <th>10</th>\n",
              "      <td>Sumarize:plenty has been made of the big congr...</td>\n",
              "      <td>750 percent</td>\n",
              "    </tr>\n",
              "    <tr>\n",
              "      <th>11</th>\n",
              "      <td>Sumarize:teen mom 2 star jenelle evans took to...</td>\n",
              "      <td>boy</td>\n",
              "    </tr>\n",
              "    <tr>\n",
              "      <th>...</th>\n",
              "      <td>...</td>\n",
              "      <td>...</td>\n",
              "    </tr>\n",
              "    <tr>\n",
              "      <th>3178</th>\n",
              "      <td>Sumarize:when it comes to home projects someti...</td>\n",
              "      <td>own underground bunker!</td>\n",
              "    </tr>\n",
              "    <tr>\n",
              "      <th>3179</th>\n",
              "      <td>Sumarize:best buy has an insane xbox one deal ...</td>\n",
              "      <td>$50 off</td>\n",
              "    </tr>\n",
              "    <tr>\n",
              "      <th>3183</th>\n",
              "      <td>Sumarize:shes not a tourist visiting a foreign...</td>\n",
              "      <td>student at Hampton University in Virginia</td>\n",
              "    </tr>\n",
              "    <tr>\n",
              "      <th>3198</th>\n",
              "      <td>Sumarize:what the hell 1 unless you ’ re somew...</td>\n",
              "      <td>@beyoncefan666</td>\n",
              "    </tr>\n",
              "    <tr>\n",
              "      <th>3199</th>\n",
              "      <td>Sumarize:rep charlie dent rpa came out in supp...</td>\n",
              "      <td>Rep. Charlie Dent (R-Pa.)</td>\n",
              "    </tr>\n",
              "  </tbody>\n",
              "</table>\n",
              "<p>1367 rows × 2 columns</p>\n",
              "</div>\n",
              "      <button class=\"colab-df-convert\" onclick=\"convertToInteractive('df-8398ff26-2f41-410d-8d01-49ea85382951')\"\n",
              "              title=\"Convert this dataframe to an interactive table.\"\n",
              "              style=\"display:none;\">\n",
              "        \n",
              "  <svg xmlns=\"http://www.w3.org/2000/svg\" height=\"24px\"viewBox=\"0 0 24 24\"\n",
              "       width=\"24px\">\n",
              "    <path d=\"M0 0h24v24H0V0z\" fill=\"none\"/>\n",
              "    <path d=\"M18.56 5.44l.94 2.06.94-2.06 2.06-.94-2.06-.94-.94-2.06-.94 2.06-2.06.94zm-11 1L8.5 8.5l.94-2.06 2.06-.94-2.06-.94L8.5 2.5l-.94 2.06-2.06.94zm10 10l.94 2.06.94-2.06 2.06-.94-2.06-.94-.94-2.06-.94 2.06-2.06.94z\"/><path d=\"M17.41 7.96l-1.37-1.37c-.4-.4-.92-.59-1.43-.59-.52 0-1.04.2-1.43.59L10.3 9.45l-7.72 7.72c-.78.78-.78 2.05 0 2.83L4 21.41c.39.39.9.59 1.41.59.51 0 1.02-.2 1.41-.59l7.78-7.78 2.81-2.81c.8-.78.8-2.07 0-2.86zM5.41 20L4 18.59l7.72-7.72 1.47 1.35L5.41 20z\"/>\n",
              "  </svg>\n",
              "      </button>\n",
              "      \n",
              "  <style>\n",
              "    .colab-df-container {\n",
              "      display:flex;\n",
              "      flex-wrap:wrap;\n",
              "      gap: 12px;\n",
              "    }\n",
              "\n",
              "    .colab-df-convert {\n",
              "      background-color: #E8F0FE;\n",
              "      border: none;\n",
              "      border-radius: 50%;\n",
              "      cursor: pointer;\n",
              "      display: none;\n",
              "      fill: #1967D2;\n",
              "      height: 32px;\n",
              "      padding: 0 0 0 0;\n",
              "      width: 32px;\n",
              "    }\n",
              "\n",
              "    .colab-df-convert:hover {\n",
              "      background-color: #E2EBFA;\n",
              "      box-shadow: 0px 1px 2px rgba(60, 64, 67, 0.3), 0px 1px 3px 1px rgba(60, 64, 67, 0.15);\n",
              "      fill: #174EA6;\n",
              "    }\n",
              "\n",
              "    [theme=dark] .colab-df-convert {\n",
              "      background-color: #3B4455;\n",
              "      fill: #D2E3FC;\n",
              "    }\n",
              "\n",
              "    [theme=dark] .colab-df-convert:hover {\n",
              "      background-color: #434B5C;\n",
              "      box-shadow: 0px 1px 3px 1px rgba(0, 0, 0, 0.15);\n",
              "      filter: drop-shadow(0px 1px 2px rgba(0, 0, 0, 0.3));\n",
              "      fill: #FFFFFF;\n",
              "    }\n",
              "  </style>\n",
              "\n",
              "      <script>\n",
              "        const buttonEl =\n",
              "          document.querySelector('#df-8398ff26-2f41-410d-8d01-49ea85382951 button.colab-df-convert');\n",
              "        buttonEl.style.display =\n",
              "          google.colab.kernel.accessAllowed ? 'block' : 'none';\n",
              "\n",
              "        async function convertToInteractive(key) {\n",
              "          const element = document.querySelector('#df-8398ff26-2f41-410d-8d01-49ea85382951');\n",
              "          const dataTable =\n",
              "            await google.colab.kernel.invokeFunction('convertToInteractive',\n",
              "                                                     [key], {});\n",
              "          if (!dataTable) return;\n",
              "\n",
              "          const docLinkHtml = 'Like what you see? Visit the ' +\n",
              "            '<a target=\"_blank\" href=https://colab.research.google.com/notebooks/data_table.ipynb>data table notebook</a>'\n",
              "            + ' to learn more about interactive tables.';\n",
              "          element.innerHTML = '';\n",
              "          dataTable['output_type'] = 'display_data';\n",
              "          await google.colab.output.renderOutput(dataTable, element);\n",
              "          const docLink = document.createElement('div');\n",
              "          docLink.innerHTML = docLinkHtml;\n",
              "          element.appendChild(docLink);\n",
              "        }\n",
              "      </script>\n",
              "    </div>\n",
              "  </div>\n",
              "  "
            ]
          },
          "metadata": {},
          "execution_count": 38
        }
      ]
    },
    {
      "cell_type": "code",
      "source": [
        "df2_dict = data_to_process_validation.to_dict(orient = 'list')"
      ],
      "metadata": {
        "id": "pMqO3WifTCIS"
      },
      "execution_count": 39,
      "outputs": []
    },
    {
      "cell_type": "code",
      "source": [
        "dict_validation_ = Dataset.from_dict(df2_dict)"
      ],
      "metadata": {
        "id": "iKgmI1-0TCIS"
      },
      "execution_count": 40,
      "outputs": []
    },
    {
      "cell_type": "code",
      "source": [
        "dict_validation_"
      ],
      "metadata": {
        "colab": {
          "base_uri": "https://localhost:8080/"
        },
        "outputId": "85f845a2-c77e-492c-cf5a-2b1f4a6f9d48",
        "id": "syGKSURsTCIS"
      },
      "execution_count": 41,
      "outputs": [
        {
          "output_type": "execute_result",
          "data": {
            "text/plain": [
              "Dataset({\n",
              "    features: ['input_ids', 'labels'],\n",
              "    num_rows: 335\n",
              "})"
            ]
          },
          "metadata": {},
          "execution_count": 41
        }
      ]
    },
    {
      "cell_type": "code",
      "source": [],
      "metadata": {
        "id": "NjQ4s-iiTOvg"
      },
      "execution_count": null,
      "outputs": []
    },
    {
      "cell_type": "code",
      "execution_count": 42,
      "metadata": {
        "id": "wQdDEcSzJuCN"
      },
      "outputs": [],
      "source": [
        "input_text = \"Sumarize:\" + new_df_validation[\"paragraph\"] \n",
        "target_text = new_df_validation[\"spoiler\"]\n",
        "\n",
        "data_to_process_test = pd.DataFrame({ 'input_ids': input_text, 'labels':target_text})"
      ]
    },
    {
      "cell_type": "code",
      "source": [
        "data_to_process_test"
      ],
      "metadata": {
        "id": "_bi1j3d1TPMb",
        "colab": {
          "base_uri": "https://localhost:8080/",
          "height": 424
        },
        "outputId": "7d3073fc-820e-4961-b5a5-f49f8ec55365"
      },
      "execution_count": 43,
      "outputs": [
        {
          "output_type": "execute_result",
          "data": {
            "text/plain": [
              "                                             input_ids  \\\n",
              "2    Sumarize:here ’ s how much you should be tippi...   \n",
              "5    Sumarize:most of us are familiar with the poun...   \n",
              "6    Sumarize:whether youre between meals or cravin...   \n",
              "11   Sumarize:president obama dined on monday night...   \n",
              "15   Sumarize:cnn after the first locally transmitt...   \n",
              "..                                                 ...   \n",
              "786  Sumarize:colonel sanders nephew recently revea...   \n",
              "787  Sumarize:i was sitting around the fire pit in ...   \n",
              "791  Sumarize:one of the largest newspapers in all ...   \n",
              "796  Sumarize:a republican elector in texas says he...   \n",
              "799  Sumarize:richard belzer is leaving law order s...   \n",
              "\n",
              "                                 labels  \n",
              "2                                   20%  \n",
              "5                                Sprite  \n",
              "6    Smoky Paprika-Baked Garbanzo Beans  \n",
              "11                     Anthony Bourdain  \n",
              "15                               Dibrom  \n",
              "..                                  ...  \n",
              "786                        white pepper  \n",
              "787                            anal sex  \n",
              "791                     Hillary Clinton  \n",
              "796                  Christopher Suprun  \n",
              "799                      Richard Belzer  \n",
              "\n",
              "[335 rows x 2 columns]"
            ],
            "text/html": [
              "\n",
              "  <div id=\"df-1b5e1c46-8cea-4b0b-8ad3-8c3ec55d94e0\">\n",
              "    <div class=\"colab-df-container\">\n",
              "      <div>\n",
              "<style scoped>\n",
              "    .dataframe tbody tr th:only-of-type {\n",
              "        vertical-align: middle;\n",
              "    }\n",
              "\n",
              "    .dataframe tbody tr th {\n",
              "        vertical-align: top;\n",
              "    }\n",
              "\n",
              "    .dataframe thead th {\n",
              "        text-align: right;\n",
              "    }\n",
              "</style>\n",
              "<table border=\"1\" class=\"dataframe\">\n",
              "  <thead>\n",
              "    <tr style=\"text-align: right;\">\n",
              "      <th></th>\n",
              "      <th>input_ids</th>\n",
              "      <th>labels</th>\n",
              "    </tr>\n",
              "  </thead>\n",
              "  <tbody>\n",
              "    <tr>\n",
              "      <th>2</th>\n",
              "      <td>Sumarize:here ’ s how much you should be tippi...</td>\n",
              "      <td>20%</td>\n",
              "    </tr>\n",
              "    <tr>\n",
              "      <th>5</th>\n",
              "      <td>Sumarize:most of us are familiar with the poun...</td>\n",
              "      <td>Sprite</td>\n",
              "    </tr>\n",
              "    <tr>\n",
              "      <th>6</th>\n",
              "      <td>Sumarize:whether youre between meals or cravin...</td>\n",
              "      <td>Smoky Paprika-Baked Garbanzo Beans</td>\n",
              "    </tr>\n",
              "    <tr>\n",
              "      <th>11</th>\n",
              "      <td>Sumarize:president obama dined on monday night...</td>\n",
              "      <td>Anthony Bourdain</td>\n",
              "    </tr>\n",
              "    <tr>\n",
              "      <th>15</th>\n",
              "      <td>Sumarize:cnn after the first locally transmitt...</td>\n",
              "      <td>Dibrom</td>\n",
              "    </tr>\n",
              "    <tr>\n",
              "      <th>...</th>\n",
              "      <td>...</td>\n",
              "      <td>...</td>\n",
              "    </tr>\n",
              "    <tr>\n",
              "      <th>786</th>\n",
              "      <td>Sumarize:colonel sanders nephew recently revea...</td>\n",
              "      <td>white pepper</td>\n",
              "    </tr>\n",
              "    <tr>\n",
              "      <th>787</th>\n",
              "      <td>Sumarize:i was sitting around the fire pit in ...</td>\n",
              "      <td>anal sex</td>\n",
              "    </tr>\n",
              "    <tr>\n",
              "      <th>791</th>\n",
              "      <td>Sumarize:one of the largest newspapers in all ...</td>\n",
              "      <td>Hillary Clinton</td>\n",
              "    </tr>\n",
              "    <tr>\n",
              "      <th>796</th>\n",
              "      <td>Sumarize:a republican elector in texas says he...</td>\n",
              "      <td>Christopher Suprun</td>\n",
              "    </tr>\n",
              "    <tr>\n",
              "      <th>799</th>\n",
              "      <td>Sumarize:richard belzer is leaving law order s...</td>\n",
              "      <td>Richard Belzer</td>\n",
              "    </tr>\n",
              "  </tbody>\n",
              "</table>\n",
              "<p>335 rows × 2 columns</p>\n",
              "</div>\n",
              "      <button class=\"colab-df-convert\" onclick=\"convertToInteractive('df-1b5e1c46-8cea-4b0b-8ad3-8c3ec55d94e0')\"\n",
              "              title=\"Convert this dataframe to an interactive table.\"\n",
              "              style=\"display:none;\">\n",
              "        \n",
              "  <svg xmlns=\"http://www.w3.org/2000/svg\" height=\"24px\"viewBox=\"0 0 24 24\"\n",
              "       width=\"24px\">\n",
              "    <path d=\"M0 0h24v24H0V0z\" fill=\"none\"/>\n",
              "    <path d=\"M18.56 5.44l.94 2.06.94-2.06 2.06-.94-2.06-.94-.94-2.06-.94 2.06-2.06.94zm-11 1L8.5 8.5l.94-2.06 2.06-.94-2.06-.94L8.5 2.5l-.94 2.06-2.06.94zm10 10l.94 2.06.94-2.06 2.06-.94-2.06-.94-.94-2.06-.94 2.06-2.06.94z\"/><path d=\"M17.41 7.96l-1.37-1.37c-.4-.4-.92-.59-1.43-.59-.52 0-1.04.2-1.43.59L10.3 9.45l-7.72 7.72c-.78.78-.78 2.05 0 2.83L4 21.41c.39.39.9.59 1.41.59.51 0 1.02-.2 1.41-.59l7.78-7.78 2.81-2.81c.8-.78.8-2.07 0-2.86zM5.41 20L4 18.59l7.72-7.72 1.47 1.35L5.41 20z\"/>\n",
              "  </svg>\n",
              "      </button>\n",
              "      \n",
              "  <style>\n",
              "    .colab-df-container {\n",
              "      display:flex;\n",
              "      flex-wrap:wrap;\n",
              "      gap: 12px;\n",
              "    }\n",
              "\n",
              "    .colab-df-convert {\n",
              "      background-color: #E8F0FE;\n",
              "      border: none;\n",
              "      border-radius: 50%;\n",
              "      cursor: pointer;\n",
              "      display: none;\n",
              "      fill: #1967D2;\n",
              "      height: 32px;\n",
              "      padding: 0 0 0 0;\n",
              "      width: 32px;\n",
              "    }\n",
              "\n",
              "    .colab-df-convert:hover {\n",
              "      background-color: #E2EBFA;\n",
              "      box-shadow: 0px 1px 2px rgba(60, 64, 67, 0.3), 0px 1px 3px 1px rgba(60, 64, 67, 0.15);\n",
              "      fill: #174EA6;\n",
              "    }\n",
              "\n",
              "    [theme=dark] .colab-df-convert {\n",
              "      background-color: #3B4455;\n",
              "      fill: #D2E3FC;\n",
              "    }\n",
              "\n",
              "    [theme=dark] .colab-df-convert:hover {\n",
              "      background-color: #434B5C;\n",
              "      box-shadow: 0px 1px 3px 1px rgba(0, 0, 0, 0.15);\n",
              "      filter: drop-shadow(0px 1px 2px rgba(0, 0, 0, 0.3));\n",
              "      fill: #FFFFFF;\n",
              "    }\n",
              "  </style>\n",
              "\n",
              "      <script>\n",
              "        const buttonEl =\n",
              "          document.querySelector('#df-1b5e1c46-8cea-4b0b-8ad3-8c3ec55d94e0 button.colab-df-convert');\n",
              "        buttonEl.style.display =\n",
              "          google.colab.kernel.accessAllowed ? 'block' : 'none';\n",
              "\n",
              "        async function convertToInteractive(key) {\n",
              "          const element = document.querySelector('#df-1b5e1c46-8cea-4b0b-8ad3-8c3ec55d94e0');\n",
              "          const dataTable =\n",
              "            await google.colab.kernel.invokeFunction('convertToInteractive',\n",
              "                                                     [key], {});\n",
              "          if (!dataTable) return;\n",
              "\n",
              "          const docLinkHtml = 'Like what you see? Visit the ' +\n",
              "            '<a target=\"_blank\" href=https://colab.research.google.com/notebooks/data_table.ipynb>data table notebook</a>'\n",
              "            + ' to learn more about interactive tables.';\n",
              "          element.innerHTML = '';\n",
              "          dataTable['output_type'] = 'display_data';\n",
              "          await google.colab.output.renderOutput(dataTable, element);\n",
              "          const docLink = document.createElement('div');\n",
              "          docLink.innerHTML = docLinkHtml;\n",
              "          element.appendChild(docLink);\n",
              "        }\n",
              "      </script>\n",
              "    </div>\n",
              "  </div>\n",
              "  "
            ]
          },
          "metadata": {},
          "execution_count": 43
        }
      ]
    },
    {
      "cell_type": "code",
      "source": [
        "df3_dict = data_to_process_test.to_dict(orient = 'list')"
      ],
      "metadata": {
        "id": "7n_Esb4vTTvU"
      },
      "execution_count": 44,
      "outputs": []
    },
    {
      "cell_type": "code",
      "source": [
        "dict_test_ = Dataset.from_dict(df3_dict)"
      ],
      "metadata": {
        "id": "rKf6SVPVTS12"
      },
      "execution_count": 45,
      "outputs": []
    },
    {
      "cell_type": "code",
      "source": [
        "dict_test_"
      ],
      "metadata": {
        "colab": {
          "base_uri": "https://localhost:8080/"
        },
        "id": "5tGwMo3pTSvJ",
        "outputId": "1fd267ed-4619-47fa-a719-8b51b865808e"
      },
      "execution_count": 46,
      "outputs": [
        {
          "output_type": "execute_result",
          "data": {
            "text/plain": [
              "Dataset({\n",
              "    features: ['input_ids', 'labels'],\n",
              "    num_rows: 335\n",
              "})"
            ]
          },
          "metadata": {},
          "execution_count": 46
        }
      ]
    },
    {
      "cell_type": "code",
      "source": [],
      "metadata": {
        "id": "JJj91u7e-hwf"
      },
      "execution_count": null,
      "outputs": []
    },
    {
      "cell_type": "code",
      "source": [],
      "metadata": {
        "id": "Kjp7AVWmTSoe"
      },
      "execution_count": null,
      "outputs": []
    },
    {
      "cell_type": "code",
      "execution_count": null,
      "metadata": {
        "id": "3KFkpnsTJuCe"
      },
      "outputs": [],
      "source": [
        "# df1_dict = data_to_process_train.to_dict(orient = 'list')\n",
        "# df2_dict = data_to_process_validation.to_dict(orient = 'list')\n",
        "# df3_dict = data_to_process_test.to_dict(orient = 'list')\n",
        "\n",
        "\n",
        "# dict_train_ = Dataset.from_dict(df1_dict)\n",
        "# dict_validation_ = Dataset.from_dict(df2_dict)\n",
        "# dict_test_ = Dataset.from_dict(df3_dict)"
      ]
    },
    {
      "cell_type": "code",
      "execution_count": 47,
      "metadata": {
        "id": "NWT0IlleJuCe"
      },
      "outputs": [],
      "source": [
        "dict_all_2 = dataset_dict.DatasetDict({\"train\":dict_train_, \"validation\":dict_validation_, \"test\": dict_test_})"
      ]
    },
    {
      "cell_type": "code",
      "execution_count": 48,
      "metadata": {
        "colab": {
          "base_uri": "https://localhost:8080/"
        },
        "id": "jbgHTxwIJuCe",
        "outputId": "e340ce9e-ab84-48b4-ed43-9dcf3d24fd25"
      },
      "outputs": [
        {
          "output_type": "execute_result",
          "data": {
            "text/plain": [
              "DatasetDict({\n",
              "    train: Dataset({\n",
              "        features: ['input_ids', 'labels'],\n",
              "        num_rows: 1367\n",
              "    })\n",
              "    validation: Dataset({\n",
              "        features: ['input_ids', 'labels'],\n",
              "        num_rows: 335\n",
              "    })\n",
              "    test: Dataset({\n",
              "        features: ['input_ids', 'labels'],\n",
              "        num_rows: 335\n",
              "    })\n",
              "})"
            ]
          },
          "metadata": {},
          "execution_count": 48
        }
      ],
      "source": [
        "dict_all_2"
      ]
    },
    {
      "cell_type": "code",
      "source": [
        "dict_train_"
      ],
      "metadata": {
        "colab": {
          "base_uri": "https://localhost:8080/"
        },
        "id": "_Gy8d8rTUAfo",
        "outputId": "cb7fb8de-dc23-4074-e19f-4fbc00bf8a32"
      },
      "execution_count": 49,
      "outputs": [
        {
          "output_type": "execute_result",
          "data": {
            "text/plain": [
              "Dataset({\n",
              "    features: ['input_ids', 'labels'],\n",
              "    num_rows: 1367\n",
              "})"
            ]
          },
          "metadata": {},
          "execution_count": 49
        }
      ]
    },
    {
      "cell_type": "code",
      "source": [
        "model = \"facebook/bart-large-cnn\""
      ],
      "metadata": {
        "id": "SGFNzXnNGixg"
      },
      "execution_count": 50,
      "outputs": []
    },
    {
      "cell_type": "code",
      "source": [
        "tokenizer1 = tokenizer.from_pretrained(\"facebook/bart-large-cnn\")"
      ],
      "metadata": {
        "id": "Mh9rVbGkGm8r"
      },
      "execution_count": 51,
      "outputs": []
    },
    {
      "cell_type": "code",
      "execution_count": 52,
      "metadata": {
        "id": "csMrWCrCJuCe"
      },
      "outputs": [],
      "source": [
        "def preprocess_data(example):\n",
        "    input_text = example['input_ids']\n",
        "    target_text = example['labels']\n",
        "\n",
        "    input_ids = tokenizer1(input_text, padding=\"max_length\", truncation=True, max_length= 1000).input_ids\n",
        "\n",
        "    with tokenizer1.as_target_tokenizer():\n",
        "      target_ids = tokenizer1(target_text, padding='max_length', truncation=True, max_length= 500).input_ids\n",
        "    # target_ids = tokenizer(target_text, padding=\"max_length\", truncation=True, max_length= 500, return_tensors=\"pt\").input_ids\n",
        "    \n",
        "    return {\"input_ids\": input_ids, \"labels\": target_ids}\n",
        "    # return {\"input_text\": input_text, \"target_text\": target_text}"
      ]
    },
    {
      "cell_type": "code",
      "execution_count": 53,
      "metadata": {
        "colab": {
          "base_uri": "https://localhost:8080/",
          "height": 17,
          "referenced_widgets": [
            "1395f94c283b48c880e7b23e3e04c0a9",
            "664a09dd608747868666643652846a1e",
            "3dde07921efe49bcb613733c911c879f",
            "3138d259759443de983f23bb3efa7110",
            "8cf660cb5552478c8441e7c13309af24",
            "a1347d34bb6a430a97dddf50ae2525fa",
            "ffdc7e00b0de436bbbbcad61c548a51a",
            "42f0b4f215784edcb161af6184715c27",
            "cd28e329951340ee9967e6299ac876c4",
            "dedcce26e567437ebd42853a25f7bbfe",
            "c21cb147d374443bb0b8895618e2a949",
            "2aeaa76616cb4da8a89e995a2761be6d",
            "2177347ed313433a8fa98c832812394d",
            "6e84711e94154c039a89341d34e42d3e",
            "0d4264e55a084d7d9ac68b082b4dde11",
            "c8579508fde34217aa52a3bb82eeb1e7",
            "c82e362e98314239a7a6d49995a1c85a",
            "011622afa5ca4600b82523b409fff008",
            "44150a9d8e1e49d9a13c47b3f74677ed",
            "b8bc789f79d9450a94d4c33fa02de952",
            "77131662b30f46a2a04691e47fb5fefc",
            "80857409c55945c7a8ad47bcf89da9b0"
          ]
        },
        "id": "VBLrldYhJuCe",
        "outputId": "a46f2050-cb26-4b1b-803b-372ec28c699c"
      },
      "outputs": [
        {
          "output_type": "display_data",
          "data": {
            "text/plain": [
              "Map:   0%|          | 0/1367 [00:00<?, ? examples/s]"
            ],
            "application/vnd.jupyter.widget-view+json": {
              "version_major": 2,
              "version_minor": 0,
              "model_id": "1395f94c283b48c880e7b23e3e04c0a9"
            }
          },
          "metadata": {}
        },
        {
          "output_type": "display_data",
          "data": {
            "text/plain": [
              "Map:   0%|          | 0/335 [00:00<?, ? examples/s]"
            ],
            "application/vnd.jupyter.widget-view+json": {
              "version_major": 2,
              "version_minor": 0,
              "model_id": "2aeaa76616cb4da8a89e995a2761be6d"
            }
          },
          "metadata": {}
        }
      ],
      "source": [
        "train_dataset = dict_train_\n",
        "test_dataset = dict_validation_\n",
        "\n",
        "train_dataset_processed = train_dataset.map(preprocess_data)\n",
        "test_dataset_processed = test_dataset.map(preprocess_data)"
      ]
    },
    {
      "cell_type": "code",
      "source": [
        "train_dataset_processed"
      ],
      "metadata": {
        "colab": {
          "base_uri": "https://localhost:8080/"
        },
        "id": "WhrX9lRTOMr9",
        "outputId": "27215117-82de-45ac-e29c-b95bf1375f46"
      },
      "execution_count": 54,
      "outputs": [
        {
          "output_type": "execute_result",
          "data": {
            "text/plain": [
              "Dataset({\n",
              "    features: ['input_ids', 'labels'],\n",
              "    num_rows: 1367\n",
              "})"
            ]
          },
          "metadata": {},
          "execution_count": 54
        }
      ]
    },
    {
      "cell_type": "code",
      "source": [
        "test_dataset_processed"
      ],
      "metadata": {
        "colab": {
          "base_uri": "https://localhost:8080/"
        },
        "id": "l5Iq83r3ONzD",
        "outputId": "35788ee4-ab1b-4ab7-ea72-d4f88fc9a5fa"
      },
      "execution_count": 55,
      "outputs": [
        {
          "output_type": "execute_result",
          "data": {
            "text/plain": [
              "Dataset({\n",
              "    features: ['input_ids', 'labels'],\n",
              "    num_rows: 335\n",
              "})"
            ]
          },
          "metadata": {},
          "execution_count": 55
        }
      ]
    },
    {
      "cell_type": "code",
      "source": [
        "from transformers import pipeline\n",
        "import requests\n",
        "import pprint\n",
        "import time\n",
        "pp = pprint.PrettyPrinter(indent=14)\n",
        "\n",
        "from transformers import BartTokenizer, BartForConditionalGeneration\n",
        "# import wandb\n",
        "\n",
        "# tokenizer = T5Tokenizer.from_pretrained(\"t5-small\")\n",
        "# model = T5ForConditionalGeneration.from_pretrained('t5-small')"
      ],
      "metadata": {
        "id": "JaZJ7hhsObu8"
      },
      "execution_count": 56,
      "outputs": []
    },
    {
      "cell_type": "code",
      "execution_count": 57,
      "metadata": {
        "id": "oAaz3qthJuCe",
        "colab": {
          "base_uri": "https://localhost:8080/",
          "height": 81,
          "referenced_widgets": [
            "22671bb241814e80b4ca928a516c672c",
            "f5eb8e7c9ffb48cdacdc3d625a707696",
            "7a979073bea9479cb0bfbafa33065d9c",
            "422bc3ad36cc4bd0b207f45fe0078890",
            "b9aac303b1634b4b99e0208d339c51ad",
            "4c831b90f9d44ea89eecfe8fade6ae54",
            "ed4b4d67560c4137abcfcf24e1a78638",
            "0b748a72010d4063a4f354a4001ac3ef",
            "b9aa83f29a2c4843a347307de677e424",
            "9127040734704ef6899dfa373f8d8496",
            "ae896bd5c2574f04afd1f5ed86d949bf",
            "844e915b707c4a418945f2c99a66a3ea",
            "a0ba82c5160b4a1f82e3c4202bd6ab3f",
            "70b2f07e45f9400bade8f75d78bbb4a3",
            "882fd46059a24800a380b7675b7f4ef3",
            "078a4b11d16a45f2807a401a6de2577a",
            "71145994561f45fabad587f53e79b749",
            "6d98725d505e4612be5b2b07ac8f4038",
            "6423004cfd1540fc83e99f26d0a768f8",
            "56ff956c9f734bfe9b82004a1cf510fe",
            "e1275d7269424ff4a5a8b7fe367384f8",
            "81e2eb6691214a15bb81412b303ed289"
          ]
        },
        "outputId": "486267f6-880e-40fb-abed-4534c32cd51b"
      },
      "outputs": [
        {
          "output_type": "display_data",
          "data": {
            "text/plain": [
              "Downloading pytorch_model.bin:   0%|          | 0.00/1.63G [00:00<?, ?B/s]"
            ],
            "application/vnd.jupyter.widget-view+json": {
              "version_major": 2,
              "version_minor": 0,
              "model_id": "22671bb241814e80b4ca928a516c672c"
            }
          },
          "metadata": {}
        },
        {
          "output_type": "display_data",
          "data": {
            "text/plain": [
              "Downloading (…)neration_config.json:   0%|          | 0.00/363 [00:00<?, ?B/s]"
            ],
            "application/vnd.jupyter.widget-view+json": {
              "version_major": 2,
              "version_minor": 0,
              "model_id": "844e915b707c4a418945f2c99a66a3ea"
            }
          },
          "metadata": {}
        }
      ],
      "source": [
        "model_name = \"facebook/bart-large-cnn\"\n",
        "\n",
        "tokenizer = AutoTokenizer.from_pretrained(model_name)\n",
        "model = BartForConditionalGeneration.from_pretrained(model_name, num_labels = 4)"
      ]
    },
    {
      "cell_type": "code",
      "source": [
        "!pip install bert_score"
      ],
      "metadata": {
        "colab": {
          "base_uri": "https://localhost:8080/"
        },
        "id": "DYUxqcCMOirw",
        "outputId": "33edd5b2-a5e9-4e12-bc2e-94a50b700c03"
      },
      "execution_count": 58,
      "outputs": [
        {
          "output_type": "stream",
          "name": "stdout",
          "text": [
            "Looking in indexes: https://pypi.org/simple, https://us-python.pkg.dev/colab-wheels/public/simple/\n",
            "Collecting bert_score\n",
            "  Downloading bert_score-0.3.13-py3-none-any.whl (61 kB)\n",
            "\u001b[2K     \u001b[90m━━━━━━━━━━━━━━━━━━━━━━━━━━━━━━━━━━━━━━━━\u001b[0m \u001b[32m61.1/61.1 kB\u001b[0m \u001b[31m8.2 MB/s\u001b[0m eta \u001b[36m0:00:00\u001b[0m\n",
            "\u001b[?25hRequirement already satisfied: torch>=1.0.0 in /usr/local/lib/python3.10/dist-packages (from bert_score) (2.0.0+cu118)\n",
            "Requirement already satisfied: pandas>=1.0.1 in /usr/local/lib/python3.10/dist-packages (from bert_score) (1.5.3)\n",
            "Requirement already satisfied: transformers>=3.0.0 in /usr/local/lib/python3.10/dist-packages (from bert_score) (4.29.1)\n",
            "Requirement already satisfied: numpy in /usr/local/lib/python3.10/dist-packages (from bert_score) (1.22.4)\n",
            "Requirement already satisfied: requests in /usr/local/lib/python3.10/dist-packages (from bert_score) (2.27.1)\n",
            "Requirement already satisfied: tqdm>=4.31.1 in /usr/local/lib/python3.10/dist-packages (from bert_score) (4.65.0)\n",
            "Requirement already satisfied: matplotlib in /usr/local/lib/python3.10/dist-packages (from bert_score) (3.7.1)\n",
            "Requirement already satisfied: packaging>=20.9 in /usr/local/lib/python3.10/dist-packages (from bert_score) (23.1)\n",
            "Requirement already satisfied: python-dateutil>=2.8.1 in /usr/local/lib/python3.10/dist-packages (from pandas>=1.0.1->bert_score) (2.8.2)\n",
            "Requirement already satisfied: pytz>=2020.1 in /usr/local/lib/python3.10/dist-packages (from pandas>=1.0.1->bert_score) (2022.7.1)\n",
            "Requirement already satisfied: filelock in /usr/local/lib/python3.10/dist-packages (from torch>=1.0.0->bert_score) (3.12.0)\n",
            "Requirement already satisfied: typing-extensions in /usr/local/lib/python3.10/dist-packages (from torch>=1.0.0->bert_score) (4.5.0)\n",
            "Requirement already satisfied: sympy in /usr/local/lib/python3.10/dist-packages (from torch>=1.0.0->bert_score) (1.11.1)\n",
            "Requirement already satisfied: networkx in /usr/local/lib/python3.10/dist-packages (from torch>=1.0.0->bert_score) (3.1)\n",
            "Requirement already satisfied: jinja2 in /usr/local/lib/python3.10/dist-packages (from torch>=1.0.0->bert_score) (3.1.2)\n",
            "Requirement already satisfied: triton==2.0.0 in /usr/local/lib/python3.10/dist-packages (from torch>=1.0.0->bert_score) (2.0.0)\n",
            "Requirement already satisfied: cmake in /usr/local/lib/python3.10/dist-packages (from triton==2.0.0->torch>=1.0.0->bert_score) (3.25.2)\n",
            "Requirement already satisfied: lit in /usr/local/lib/python3.10/dist-packages (from triton==2.0.0->torch>=1.0.0->bert_score) (16.0.3)\n",
            "Requirement already satisfied: huggingface-hub<1.0,>=0.14.1 in /usr/local/lib/python3.10/dist-packages (from transformers>=3.0.0->bert_score) (0.14.1)\n",
            "Requirement already satisfied: pyyaml>=5.1 in /usr/local/lib/python3.10/dist-packages (from transformers>=3.0.0->bert_score) (6.0)\n",
            "Requirement already satisfied: regex!=2019.12.17 in /usr/local/lib/python3.10/dist-packages (from transformers>=3.0.0->bert_score) (2022.10.31)\n",
            "Requirement already satisfied: tokenizers!=0.11.3,<0.14,>=0.11.1 in /usr/local/lib/python3.10/dist-packages (from transformers>=3.0.0->bert_score) (0.13.3)\n",
            "Requirement already satisfied: contourpy>=1.0.1 in /usr/local/lib/python3.10/dist-packages (from matplotlib->bert_score) (1.0.7)\n",
            "Requirement already satisfied: cycler>=0.10 in /usr/local/lib/python3.10/dist-packages (from matplotlib->bert_score) (0.11.0)\n",
            "Requirement already satisfied: fonttools>=4.22.0 in /usr/local/lib/python3.10/dist-packages (from matplotlib->bert_score) (4.39.3)\n",
            "Requirement already satisfied: kiwisolver>=1.0.1 in /usr/local/lib/python3.10/dist-packages (from matplotlib->bert_score) (1.4.4)\n",
            "Requirement already satisfied: pillow>=6.2.0 in /usr/local/lib/python3.10/dist-packages (from matplotlib->bert_score) (8.4.0)\n",
            "Requirement already satisfied: pyparsing>=2.3.1 in /usr/local/lib/python3.10/dist-packages (from matplotlib->bert_score) (3.0.9)\n",
            "Requirement already satisfied: urllib3<1.27,>=1.21.1 in /usr/local/lib/python3.10/dist-packages (from requests->bert_score) (1.26.15)\n",
            "Requirement already satisfied: certifi>=2017.4.17 in /usr/local/lib/python3.10/dist-packages (from requests->bert_score) (2022.12.7)\n",
            "Requirement already satisfied: charset-normalizer~=2.0.0 in /usr/local/lib/python3.10/dist-packages (from requests->bert_score) (2.0.12)\n",
            "Requirement already satisfied: idna<4,>=2.5 in /usr/local/lib/python3.10/dist-packages (from requests->bert_score) (3.4)\n",
            "Requirement already satisfied: fsspec in /usr/local/lib/python3.10/dist-packages (from huggingface-hub<1.0,>=0.14.1->transformers>=3.0.0->bert_score) (2023.4.0)\n",
            "Requirement already satisfied: six>=1.5 in /usr/local/lib/python3.10/dist-packages (from python-dateutil>=2.8.1->pandas>=1.0.1->bert_score) (1.16.0)\n",
            "Requirement already satisfied: MarkupSafe>=2.0 in /usr/local/lib/python3.10/dist-packages (from jinja2->torch>=1.0.0->bert_score) (2.1.2)\n",
            "Requirement already satisfied: mpmath>=0.19 in /usr/local/lib/python3.10/dist-packages (from sympy->torch>=1.0.0->bert_score) (1.3.0)\n",
            "Installing collected packages: bert_score\n",
            "Successfully installed bert_score-0.3.13\n"
          ]
        }
      ]
    },
    {
      "cell_type": "code",
      "execution_count": 59,
      "metadata": {
        "colab": {
          "base_uri": "https://localhost:8080/",
          "height": 234,
          "referenced_widgets": [
            "39a5ffc079e64282892f677b94b31fda",
            "dbec008520d743a8b5e15b7b60ba3ad0",
            "94810ee9b0f644409dcabb010355d6c9",
            "92c53b460c9c4a7e8c051bdb8bacb122",
            "215fab63dc42458ea950e2982424a9bf",
            "5a640c3bfef14c7fa651fcc3d664b9d1",
            "800f019d325c49aea09bd3287d875775",
            "0dc59855190b4e85bbd3578be9943386",
            "b1f29d75f6af4ed88aaf05911b61d1a8",
            "9b5df249ab0141c4989170ba82fbfead",
            "3a7367733f89471094a5b3d5842a7652",
            "94815fa75eed404ab7a1fa1b2a7debfa",
            "c43cb6b04fdf4a5f9af539daa01495a8",
            "6090f1275f5e4b5fbfb0ce0c9da6338b",
            "096a495c8b6b4670b9c4ac8f0cac48f8",
            "3517f4814ac34288868b8566032dee58",
            "9a58213410c14adcb8deb52a2608992b",
            "284b5bfa60cb4924be1f87091aaad6a7",
            "9a40e75919e54baf9150f195bcc3fd74",
            "bfda682a62af4fcb869579302dbd0740",
            "b88d3048d72546f9b47a159273fbc42e",
            "b8661a1e4de84123abcc8bbcebe1b396",
            "d8c0bf16766549cc8d419f0738e10bf3",
            "6db137cfca5f4bc8826cdb9195f2379a",
            "40df41969c2c4d01af21d31309046df3",
            "d6c219f8b1194e38b1ac971c44107da2",
            "326a8dd1f64b4b8d882c07512c35834a",
            "7dd6ef6c622c4f89ab35cc77bfb9eac9",
            "460806ee86f14323893cc1e63bface11",
            "f64db9ac2ce947429b9abaf6e4044163",
            "fbac30a8474a48a9b825c7307ca8452e",
            "09741190a4c247d09fae331e8fe7b846",
            "5e5244b895a94e9a8a001aa84c8d2064",
            "62bce6ec1df24a81aa467be696245a62",
            "e7ddb8d125f64bf9bcffa96a875c540b",
            "0e11ba5937fc480296443d600b5c87a0",
            "023c5f538114499ba7c08418343f2bc2",
            "28401b5c3d8445b2b83576393eb87780",
            "ec835607a9564ee8a5f06c25131239fa",
            "4563046f57ac4258a497dd39616849f7",
            "3fc28cc791274c15a5f7e3d5bd2ee7f3",
            "0dc8f149362942f9beea2644911cb593",
            "be0b9cfc8cc146a9802ab794a3c940e3",
            "69f50c31dea44072a9814811df4532d1"
          ]
        },
        "id": "k9fxL-C6JuCf",
        "outputId": "2ba0b089-d7ea-42d2-eefa-4151e9f39734"
      },
      "outputs": [
        {
          "output_type": "display_data",
          "data": {
            "text/plain": [
              "Downloading builder script:   0%|          | 0.00/2.48k [00:00<?, ?B/s]"
            ],
            "application/vnd.jupyter.widget-view+json": {
              "version_major": 2,
              "version_minor": 0,
              "model_id": "39a5ffc079e64282892f677b94b31fda"
            }
          },
          "metadata": {}
        },
        {
          "output_type": "display_data",
          "data": {
            "text/plain": [
              "Downloading extra modules:   0%|          | 0.00/1.55k [00:00<?, ?B/s]"
            ],
            "application/vnd.jupyter.widget-view+json": {
              "version_major": 2,
              "version_minor": 0,
              "model_id": "94815fa75eed404ab7a1fa1b2a7debfa"
            }
          },
          "metadata": {}
        },
        {
          "output_type": "display_data",
          "data": {
            "text/plain": [
              "Downloading builder script:   0%|          | 0.00/2.20k [00:00<?, ?B/s]"
            ],
            "application/vnd.jupyter.widget-view+json": {
              "version_major": 2,
              "version_minor": 0,
              "model_id": "d8c0bf16766549cc8d419f0738e10bf3"
            }
          },
          "metadata": {}
        },
        {
          "output_type": "stream",
          "name": "stderr",
          "text": [
            "[nltk_data] Downloading package wordnet to /root/nltk_data...\n",
            "[nltk_data]   Package wordnet is already up-to-date!\n",
            "[nltk_data] Downloading package punkt to /root/nltk_data...\n",
            "[nltk_data]   Package punkt is already up-to-date!\n",
            "[nltk_data] Downloading package omw-1.4 to /root/nltk_data...\n"
          ]
        },
        {
          "output_type": "display_data",
          "data": {
            "text/plain": [
              "Downloading builder script:   0%|          | 0.00/2.92k [00:00<?, ?B/s]"
            ],
            "application/vnd.jupyter.widget-view+json": {
              "version_major": 2,
              "version_minor": 0,
              "model_id": "62bce6ec1df24a81aa467be696245a62"
            }
          },
          "metadata": {}
        }
      ],
      "source": [
        "bleu_metric = load_metric(\"bleu\")\n",
        "meteor_metric = load_metric(\"meteor\")\n",
        "bertscore_metric = load_metric(\"bertscore\")"
      ]
    },
    {
      "cell_type": "code",
      "execution_count": 60,
      "metadata": {
        "id": "GMnXEXDUJuCf"
      },
      "outputs": [],
      "source": [
        "#out_1 = []\n",
        "#out_2 = []\n",
        "\n",
        "def compute_metrics(eval_pred):\n",
        "    logits_full, labels = eval_pred\n",
        "\n",
        "    #out_1.append(logits_full[0])\n",
        "    #out_2.append(logits_full[1])\n",
        "\n",
        "    predicted_token_ids = torch.argmax(torch.tensor(logits_full[0]), dim=-1).tolist()\n",
        "    decoded_preds = tokenizer.batch_decode(predicted_token_ids, skip_special_tokens=True)\n",
        "    decoded_labels = tokenizer.batch_decode(labels, skip_special_tokens=True)\n",
        "\n",
        "    decoded_preds_bleu = [pred.split() for pred in decoded_preds]\n",
        "    decoded_labels_bleu = [[pred.split()] for pred in decoded_labels]\n",
        "    \n",
        "    bleu_score = bleu_metric.compute(predictions=decoded_preds_bleu, references= decoded_labels_bleu)\n",
        "    meteor_score = meteor_metric.compute(predictions=decoded_preds, references=decoded_labels)\n",
        "    bertscore_score = bertscore_metric.compute(predictions=decoded_preds, references=decoded_labels, lang = 'en')\n",
        "    \n",
        "    return {\"bleu\": bleu_score[\"bleu\"], \"meteor\": meteor_score[\"meteor\"], \"bertscore\": np.mean(bertscore_score[\"f1\"])}"
      ]
    },
    {
      "cell_type": "code",
      "execution_count": 61,
      "metadata": {
        "id": "CHFTOn1fJuCf"
      },
      "outputs": [],
      "source": [
        "import shutil\n"
      ]
    },
    {
      "cell_type": "code",
      "source": [
        "# model.to(\"cuda\")"
      ],
      "metadata": {
        "id": "ZYwVM3im0bff"
      },
      "execution_count": null,
      "outputs": []
    },
    {
      "cell_type": "code",
      "execution_count": 62,
      "metadata": {
        "id": "LSp8hvOVJuCf"
      },
      "outputs": [],
      "source": [
        "training_args = TrainingArguments(\n",
        "    output_dir=f\"/content/drive/MyDrive/Bart_finetuning_phrase_results_conditional_phrase_sizelimited\",\n",
        "    num_train_epochs=1,\n",
        "    per_device_train_batch_size=2,\n",
        "    per_device_eval_batch_size=2,\n",
        "    # gradient_accumulation_steps=2,\n",
        "    evaluation_strategy=\"epoch\",\n",
        "    # logging_steps=100,\n",
        "    learning_rate=2e-5,\n",
        "    weight_decay=0.01,\n",
        "    save_total_limit=3,\n",
        "    # predict_with_generate=True,\n",
        "    fp16=True,\n",
        "    # save_strategy=\"epoch\"\n",
        "\n",
        ")\n",
        "\n",
        "\n",
        "trainer = Trainer(\n",
        "    model=model,\n",
        "    args=training_args,\n",
        "    train_dataset=train_dataset_processed,\n",
        "    eval_dataset=test_dataset_processed,\n",
        "    tokenizer=tokenizer,\n",
        "    # data_collator=data_collator,\n",
        "    # compute_metrics=compute_metrics\n",
        ")\n"
      ]
    },
    {
      "cell_type": "code",
      "source": [
        "pre_metrics = trainer.evaluate()"
      ],
      "metadata": {
        "colab": {
          "base_uri": "https://localhost:8080/",
          "height": 75
        },
        "id": "eKeTe_vgDW6h",
        "outputId": "00e83c50-9192-4d53-f12d-2a4cec7f89a4"
      },
      "execution_count": null,
      "outputs": [
        {
          "output_type": "stream",
          "name": "stderr",
          "text": [
            "You're using a BartTokenizerFast tokenizer. Please note that with a fast tokenizer, using the `__call__` method is faster than using a method to encode the text followed by a call to the `pad` method to get a padded encoding.\n"
          ]
        },
        {
          "output_type": "display_data",
          "data": {
            "text/plain": [
              "<IPython.core.display.HTML object>"
            ],
            "text/html": [
              "\n",
              "    <div>\n",
              "      \n",
              "      <progress value='161' max='161' style='width:300px; height:20px; vertical-align: middle;'></progress>\n",
              "      [161/161 00:27]\n",
              "    </div>\n",
              "    "
            ]
          },
          "metadata": {}
        }
      ]
    },
    {
      "cell_type": "code",
      "source": [
        "pre_metrics"
      ],
      "metadata": {
        "colab": {
          "base_uri": "https://localhost:8080/"
        },
        "id": "OTIPSUi1DauR",
        "outputId": "8f922162-d02d-43dd-bfe9-3ca6d3cc3780"
      },
      "execution_count": null,
      "outputs": [
        {
          "output_type": "execute_result",
          "data": {
            "text/plain": [
              "{'eval_loss': 11.475807189941406,\n",
              " 'eval_runtime': 30.6288,\n",
              " 'eval_samples_per_second': 10.513,\n",
              " 'eval_steps_per_second': 5.256}"
            ]
          },
          "metadata": {},
          "execution_count": 81
        }
      ]
    },
    {
      "cell_type": "code",
      "source": [
        "trainer.train()"
      ],
      "metadata": {
        "colab": {
          "base_uri": "https://localhost:8080/",
          "height": 198
        },
        "id": "6dvPsR8xVQFY",
        "outputId": "1fe2b8a4-4ab6-4594-8f49-01632ca6ddff"
      },
      "execution_count": 63,
      "outputs": [
        {
          "output_type": "stream",
          "name": "stderr",
          "text": [
            "You're using a BartTokenizerFast tokenizer. Please note that with a fast tokenizer, using the `__call__` method is faster than using a method to encode the text followed by a call to the `pad` method to get a padded encoding.\n"
          ]
        },
        {
          "output_type": "display_data",
          "data": {
            "text/plain": [
              "<IPython.core.display.HTML object>"
            ],
            "text/html": [
              "\n",
              "    <div>\n",
              "      \n",
              "      <progress value='684' max='684' style='width:300px; height:20px; vertical-align: middle;'></progress>\n",
              "      [684/684 08:25, Epoch 1/1]\n",
              "    </div>\n",
              "    <table border=\"1\" class=\"dataframe\">\n",
              "  <thead>\n",
              " <tr style=\"text-align: left;\">\n",
              "      <th>Epoch</th>\n",
              "      <th>Training Loss</th>\n",
              "      <th>Validation Loss</th>\n",
              "    </tr>\n",
              "  </thead>\n",
              "  <tbody>\n",
              "    <tr>\n",
              "      <td>1</td>\n",
              "      <td>0.412300</td>\n",
              "      <td>0.020194</td>\n",
              "    </tr>\n",
              "  </tbody>\n",
              "</table><p>"
            ]
          },
          "metadata": {}
        },
        {
          "output_type": "execute_result",
          "data": {
            "text/plain": [
              "TrainOutput(global_step=684, training_loss=0.3063857858641106, metrics={'train_runtime': 508.2155, 'train_samples_per_second': 2.69, 'train_steps_per_second': 1.346, 'total_flos': 2892999991296000.0, 'train_loss': 0.3063857858641106, 'epoch': 1.0})"
            ]
          },
          "metadata": {},
          "execution_count": 63
        }
      ]
    },
    {
      "cell_type": "code",
      "source": [
        "metrics = trainer.evaluate()\n"
      ],
      "metadata": {
        "colab": {
          "base_uri": "https://localhost:8080/",
          "height": 37
        },
        "id": "pmAQuSJiVTxT",
        "outputId": "5b082695-ffba-4cea-9800-e367ff370d60"
      },
      "execution_count": 64,
      "outputs": [
        {
          "output_type": "display_data",
          "data": {
            "text/plain": [
              "<IPython.core.display.HTML object>"
            ],
            "text/html": [
              "\n",
              "    <div>\n",
              "      \n",
              "      <progress value='168' max='168' style='width:300px; height:20px; vertical-align: middle;'></progress>\n",
              "      [168/168 00:30]\n",
              "    </div>\n",
              "    "
            ]
          },
          "metadata": {}
        }
      ]
    },
    {
      "cell_type": "code",
      "execution_count": 65,
      "metadata": {
        "colab": {
          "base_uri": "https://localhost:8080/"
        },
        "id": "cNMyCHFDJuCf",
        "outputId": "48ed8760-2a34-4dc2-d8b1-6c5919f687b4"
      },
      "outputs": [
        {
          "output_type": "execute_result",
          "data": {
            "text/plain": [
              "{'eval_loss': 0.020193694159388542,\n",
              " 'eval_runtime': 30.4573,\n",
              " 'eval_samples_per_second': 10.999,\n",
              " 'eval_steps_per_second': 5.516,\n",
              " 'epoch': 1.0}"
            ]
          },
          "metadata": {},
          "execution_count": 65
        }
      ],
      "source": [
        "metrics"
      ]
    },
    {
      "cell_type": "code",
      "source": [],
      "metadata": {
        "id": "WAE-IAzA3Ay2"
      },
      "execution_count": null,
      "outputs": []
    },
    {
      "cell_type": "code",
      "source": [
        "# filename = 'Bart_conditional_finetuning_no_tags_phrase_results_model.sav'\n",
        "# pickle.dump(trainer, open(filename, 'wb'))\n",
        "  "
      ],
      "metadata": {
        "id": "7YQnyMxX3BIN"
      },
      "execution_count": null,
      "outputs": []
    },
    {
      "cell_type": "code",
      "source": [],
      "metadata": {
        "id": "d-2WA4Po37U8"
      },
      "execution_count": null,
      "outputs": []
    },
    {
      "cell_type": "code",
      "source": [
        "# !zip -r /content/Bart_phrase_finetuned.zip /content/drive/MyDrive/Bart_finetuning_phrase_results_conditional_phrase_sizelimited/checkpoint-500"
      ],
      "metadata": {
        "id": "gATXmE_f37-5"
      },
      "execution_count": null,
      "outputs": []
    },
    {
      "cell_type": "code",
      "source": [
        "# from google.colab import files\n",
        "# files.download(\"/content/Bart_phrase_finetuned.zip\")"
      ],
      "metadata": {
        "id": "pZvfOv9_4efd"
      },
      "execution_count": null,
      "outputs": []
    },
    {
      "cell_type": "code",
      "source": [
        "# load the model\n",
        "# load_model = pickle.load(open(filename, 'rb'))\n",
        "  \n",
        "# y_pred = load_model.predict(X_test)\n",
        "# print('root mean squared error : ', np.sqrt(\n",
        "#     metrics.mean_squared_error(y_test, y_pred)))"
      ],
      "metadata": {
        "id": "9B3l8swJ3NVb"
      },
      "execution_count": null,
      "outputs": []
    },
    {
      "cell_type": "code",
      "execution_count": null,
      "metadata": {
        "id": "S6htLveKJuCf"
      },
      "outputs": [],
      "source": []
    },
    {
      "cell_type": "code",
      "source": [
        "dict_validation_[\"input_ids\"]"
      ],
      "metadata": {
        "id": "aiWkElH12jnY"
      },
      "execution_count": null,
      "outputs": []
    },
    {
      "cell_type": "code",
      "execution_count": 65,
      "metadata": {
        "id": "MtvFaF6jJuCf"
      },
      "outputs": [],
      "source": [
        "def generate_summary(test_samples, model):\n",
        "    inputs = tokenizer(\n",
        "        test_samples[\"input_ids\"],\n",
        "        padding=\"max_length\",\n",
        "        truncation=True,\n",
        "        max_length=1000,\n",
        "        return_tensors=\"pt\",\n",
        "    )\n",
        "    input_ids = inputs.input_ids.to(model.device)\n",
        "    attention_mask = inputs.attention_mask.to(model.device)\n",
        "    outputs = model.generate(input_ids, attention_mask=attention_mask)\n",
        "    output_str = tokenizer.batch_decode(outputs, skip_special_tokens=True)\n",
        "    return outputs, output_str"
      ]
    },
    {
      "cell_type": "code",
      "execution_count": 66,
      "metadata": {
        "id": "omavrQxLJuCf"
      },
      "outputs": [],
      "source": [
        "# model_before_tuning = AutoModelForSeq2SeqLM.from_pretrained(model_name)\n",
        "summaries_after_tuning_all = []\n",
        "\n",
        "def generate_batch(lst, batch_size):\n",
        "    \"\"\"  Yields batch of specified size \"\"\"\n",
        "    for i in range(0, len(lst), batch_size):\n",
        "        yield lst[i : i + batch_size]\n",
        "        # summaries_after_tuning = generate_summary(test_samples, model)[1]\n",
        "        # summaries_after_tuning_all.append(summaries_after_tuning)\n",
        "\n",
        "\n",
        "# test_samples = dict_validation_.select(range())\n",
        "test_samples = generate_batch(dict_validation_, 16)\n",
        "\n",
        "# # summaries_before_tuning = generate_summary(test_samples, model_before_tuning)[1]\n",
        "\n",
        "for batch in test_samples:\n",
        "  # print(batch)\n",
        "  summaries_after_tuning = generate_summary(batch, model)[1]\n",
        "  summaries_after_tuning_all.append(summaries_after_tuning)"
      ]
    },
    {
      "cell_type": "code",
      "source": [
        "summaries_after_tuning_all"
      ],
      "metadata": {
        "colab": {
          "base_uri": "https://localhost:8080/"
        },
        "id": "pXpc6TvK2DOi",
        "outputId": "eb91f6b4-d82b-4f32-ea89-b804a908b369"
      },
      "execution_count": null,
      "outputs": [
        {
          "output_type": "execute_result",
          "data": {
            "text/plain": [
              "[]"
            ]
          },
          "metadata": {},
          "execution_count": 109
        }
      ]
    },
    {
      "cell_type": "code",
      "source": [],
      "metadata": {
        "id": "whZ5UB1W2-Fa"
      },
      "execution_count": null,
      "outputs": []
    },
    {
      "cell_type": "code",
      "execution_count": 67,
      "metadata": {
        "id": "xPxDgsx9qBKa",
        "colab": {
          "base_uri": "https://localhost:8080/"
        },
        "outputId": "c934a375-f45b-4589-e245-341c22e23d50"
      },
      "outputs": [
        {
          "output_type": "stream",
          "name": "stdout",
          "text": [
            "['$5 to $5.20. $15 to $15.50. $10 to $10. $11 to $11. $12 to $12. $13 to $13. $14 to $14. $16 to $16. $17', 'spice (Xue Bi) known in China as Xue Bi and a type of soda-water (xue bi). The drink was found to have the opposite effect increasing the activity of aldh and thus speeding up the breakdown of acetaldehyde (acetaldehyde)', 'Smoky Paprikabaked Garbanzo beans recipe created by art smith (recipe created by Art Smith, The Art Smith Cookbook, $2.99, (4.99 per serving, $3.99). 1 tsp onion powder, 1 tbsp smoked paprika', 'Anthony Bourdain\\'s \"Parts Unknown: Parts Unknown\" with Anthony Bourdain in Hanoi, Vietnam. The conversation will be featured in an episode of Parts Unknown which will air on CNN in September. The president lifted a halfcentury-old ban on selling arms to Vietnam', 'dibrom is the main ingredient of the insecticide Dibrom, the chemical Naled. Naled does not pose a health risk to either people or pets when sprayed in low concentrations. The chemical degrades to dichlorvos, a toxic chemical', 'do birds fart? How is it possible no one has ever seen the feathered creatures flatulate? Do birds fart at all? Do they fart? What do they do after a butt-bob? How much air does a swallow swallow when a swallow swallows air', '7:30 a.m. to 9:45 a.d.m.: 5:30 am to 945 am. 7:30am to 3:45 am: 7 am to 3 pm: 11 am to 7pm: 11:00 a.M. to 7 pm', 'connecting to itunes does nothing the device is locked and forced reboots only return it the same state. The newer iPad Pro 97 is affected far more often than the older iPad Pro 127. The two obvious paths are to a rerelease a tweaked version of ios 932 or a new update', \"Mike Rounds R won the Republican nomination for South Dakota governor. Rick Weiland will be in a four-way race in the state's Senate race in November. Rounds bested four other republicans for the nomination physician Annette Bosworth, state Rep. Scott Nelson, war veteran Jason Ravnsborg and state Senate majority whip Larry Rhodes\", 'Jalapeno popper quesarito (jalapenos, cheese, rice nacho cheese and crispy jalapenos) at Taco Bell in Charlotte, N.C., brand eating says youll find one there. The new dish apparently includes jal', 'two concurrent exhibitions at the Loyola University Museum of Art Luma in Chicago. \"The Art of Edward Gorey,\" and \"G is for Gorey\" and \"C is for Chicago.\" The Art of Eddy Gorey, \"G Is for Chicago,\"', \"Rag Bone Diy Project (Diy Project) Project lets models take complete control of the shoot (and a bag of clothes and a digital camera) The rest is entirely up to the chosen model (and the rest is up to her). Julia Stegner's new shots\", 'pixie-tinted pixie-cowls. Is there a conspiracy afoot? Is it a pixie cut a conspiracy? Is the pixie trend gone too far? Is there even a conspiracy at all? What do you think it all means?', 'Southern flying squirrel (southern flying squirrel). Southern flying squirrels (southeastern flying squirrel) (Southern Flying Squirrel). Southern Flying Squirrel (S. Flying Squirrel) (Southeastern Flying Squirrel.) (Southern flying Squirrel). (SouthernFlying Squirrel, S. Flying squirrel)', 'a $16,000, $15,500, $11,800, $10,000 to $12,600, $13,000. $6080, $1,800 to $2,800. $1.5,000-$2,500', 'Trevor Noah will take the reins of \"Comedy Central\\'s Daily Show\" The show’s new host, Trevor Noah, is a South African comic who has hosted a latenight program in that country. Noah is a relative unknown in the United States', \"How big is Justin Bieber's penis really the swaggy lil pop star's penisReally the big is justin bieber's penis? How big is his penis really a huge dick? What exactly is the real photo and what exactly is Justin Bieber packing?\", \"I love you. If and I would love you if only you would. I love you, if and I’m not listening to me. I Love You, If and i would love You if Only You Would. I Loved You, But You're Driving Me Crazy\", 'Hillary Clinton has the temperament and experience to be president. Donald Trump doesn’t. Hillary Clinton does not. Clinton’s \"lack of control.\" Donald Trump’S lack of control. Clinton\\'s lack of human decency. Clinton has a ‘stunning lack of decency’', '32 percent of U.S. Americans believe that the Syrian conflict is an indication that our days are numbered. One in five people polled agreed with the statement i believe the world will end in my lifetime. The Bible does predict future events in the middle east.', 'Rapamycin, also known as Sirolimus, was originally developed and prescribed to prevent rejection of transplanted organs in humans and also to fight cancer. In low doses rapamycin was shown to slow aging processes and increase the lifespan of mice (in low doses)', 'Santa Clara University in California this week has dropped elective abortion coverage for its staff. The move by both universities was met with outrage by some of its staff who thought there should have been more dialogue before a decision was made the policy comes as quite a shock.', 'Oklahoma Wesleyan U.S. University\\'s \"consequences\" on the topic of 1 Corinthians 13 (1 Corinthians 13:13-13). A homily on love made him feel bad for not showing love in his mind the speaker was wrong.', 'california (from Hachette, $6,000,000 to $7,000) to $8,000 (to $9,500, $10,000), $11,000-11, $12,000 ($11,500-12,', '$9,9,000 ($9,900,000, $9,800, $1,000 a month, $2,500, $100,000 per month. $9K, $900, $10,000. $1.5,000 to $1 million', \"2032 pounds (that's 2032 pounds, that's 20,000 pounds) It took the mathinsons 105 days for this baby to blossom into its extreme size. The New York Botanical Garden will have this and the worlds largest watermelon on display\", '$25,000 for one pound of dog. $25k for a pound. $1,000,000. $2,500, $2.5, $3,500. $5,000 to $6,000 (or $7,000)', 'Tennessee lawmakers plan to punish the state\\'s flagship public university over a student-organized event called \"sex week\" The statehouse will vote on legislation that would dramatically cut back its ability to host guest speakers. The legislation would not prevent the hiring of guest faculty to conduct classes', 'Crazy Frog is 20 years old. The sound was recorded in 1997 in an attempt to create the sound of an internal combustion engine. It was remixed into a song by axel f you have been warned. The song was \"Fool\\'s Fiddle,\" by Axel F', \"your face. Your butt. Your boobs. Your legs. Your eyeballs. Your ass. Your Butt. Your Eyeballs. The Butt. The Derier's Déer, the Derier, the derier, The Dier's Derier.\", \"amazon.com's apparel sales totaled $163 billion last year (in the U.S.) Amazon.com is now the biggest seller of clothes online in the United States (in 2013) (in 2012) (2013-2014) (2014-2015)\", 'eating dead bodies at funerals in many villages. It had to do with eating a person\\'s dead body at a funeral. It was an act of love and grief. The \"lack-of-control death\" was an \"incomprehensible illness\"', \"dieffenbachia, a plant that can kill them. The plant contains needle-formed calcium oxalate precious stones which makes the plant harmful so beware of this plant if you have it in your garden. 5-year-old Esteban's anaphylactic stun\", \"Baby food. It was none other than baby food. No, it wasn’t a drug, it was a baby food, it’s not a dangerous substance, it's a baby-food. It's a food. Baby food! Baby food.\", \"cameron douglass' dad is Kirk Douglas. Michael Douglas' own dad is film legend Kirk Douglas, the son of Kirk Douglas and Michael Douglas. The 37-year-old shared this photo of his post-prison physique including — yes really — his abdomen tattoos\", '14dioxane, a carcinogenic ingredient in body washes and lotions. It’s still found in a shocking 46 per cent of products and brands aren’t even required to list it on the label. It has an ewg environmental working group score', 'probiotic-enriched look for B. animalis s thermophilus and L. Bulgaricus and L bulgaricus. Two 14-cup servings daily of yogurt that is preferably unsweetened and probioticenriched. 2.14 cups of yogurt', 'Wyoming Highway Patrol: No. No, it has no plans to increase patrols on highways near the state line. Any amount of marijuana in either dried or in plant form in the state of Wyoming is illegal to possess albany county sheriff Dave Malley.', 'nvidia allows and even encourages its workers to bring their dogs to work. The tech giant’s puppy love began informally several years ago. The perk saves owners the expense of paying for a dog walker at home. Some managers say pets promote collegiality', \"3 to 5 cups of coffee are okay, according to the new 2015 dietary guidelines the government just released say 3-to-5 cups per day. 3 to 5 Cups of coffee is okay as long as you don't add cream- milk or sugar or sugar.\", 'a giant piece of cardboard for a giant piece-of-a-piece-of cardboard. The cardboard is used to clear his front yard of dead leaves in seconds. The video now has over 9 million views and over $1,000,000 in the bank.', \"net neutrality. The Federal Communications Commission's regulation that supports net neutrality. What this decision means for you and what it means for your pocketbook. The Internet Association, representing nearly 40 tech companies including those above also filed a formal petition in opposition to the FCC regulation.\", '\"fall of the resistance.\" \"fall of The Resistance.\" \"the Phantom menace.\" \"space bear\" \"the big-great adventure.\" \"a bit adolescent,\" \"the world that we know and love personally\" \"a little adolescent\" \"fall\" of the Resistance', '447 billion years ago. The age of the cosmic impact that formed the moon may have been 447. billion years. The impact may still be found on asteroids today or possibly within some of our meteorites. It may be possible to find samples of the primordial earth', 'possession of marijuana is decriminalized in Switzerland (as of Oct. 1) $100 Swiss francs (approximately $110) a fine of $1,000 (about $2,000) per offense. $100 francs approximately $110 then be on their way', 'the silence on orders for the iphone 5c a week after it was announced. Apple was mum about preorder numbers several days after the 5c preorders went live. The 5c is essentially a rebranded iPhone 5c with nearly all the same specs', 'pennies to the bottom of her daughter’s play shoes. The shoes were transformed into makeshift tap shoes. It actually costs more for the United States to produce a new penny than a penny is worth (more than $1,000,000)', \"secret fund that paid salaries to Rick Snyder's advisors. $14,000,000 in consulting fees to mi partners llc gov snyder was the sole client of the consulting firm run by rich Baird. $4,200 per month condo rented at the westin book Cadillac\", 'layers on two foundations but its not really thick to achieve a streakfree finish. Layers on a lighter shade as a base to cover up flaws. Let it sit for a few minutes on the areas that need a little more coverage. Blending the foundation and adding the darker shade', '$200,000 to pay for employee weddings up to $2,000,000. $20000 to $1,500,000 per year. unlimited sick and vacation time (up to $100,000 a year). $200000 to $300,000', 'white wine beer and Brussels sprouts and brussels sprouts. Beer and Brussels Sprouts and darkmeat fish such as salmon, tuna and sardines and salmon tuna and Sardines. Drinking water. The most significant source of arsenic in most', '$300 million to $300 million. At least $700 million. $1.5 billion to $1 billion. $900 million to$1.2 billion. The settlement would resolve several civil probes into the multibillion-dollar trading losses at the largest us bank', 'easyauto123.com – offering the lowest rates possible. Online comparison websites like easyauto123com – Offering the Lowest Rates possible. EasyAuto123com is one of the most trusted and highly effective online tools to provide consumers with quick car loans and fair rates', 'means you can’t find mew in guyana. The six pokémon in question are embedded in the game’s data. Where Mew is is anyone’ s guess. The answer to where mew may be is \"in a jungle\"', 'multiple shark tanks a personal grotto and then some more shark tanks. $1.5 million. $500,000,000 to $1,600,000. $2.5million to $2,500,00, $2 million. The house located in Georgetown', 'Alex Castellanos hired alex castellanos, previously worked for Mitt Romney and was quietly supporting a stop-Trump effort last fall. \"I’m worried that we don’t have four or eight more years to wait to change direction\"', 'Albuquerque’s ‘There’S a Better Way’ program. Hiring panhandlers for day jobs beautifying the city. The program has given out 932 jobs clearing 69601 pounds of litter and weeds from 196 city blocks.', '\"Gravity\" is set for release on Oct. 4. The film is set to be released on October 4. It stars Sandra Bullock, George Clooney and Michael Douglas. It\\'s a \"major oscar contender,\" says director Alfonso Cuarons', 'Wisconsin (Wisconsin) (Wisconsin). Wisconsin (Wisconsin)? Wisconsin. Wisconsin ( Wisconsin) ( Wisconsin). Wisconsin. Washington ( Washington, D.C.) ( Washington state). Washington (D.C. and Washington, DC.) Wisconsin (W.D. and Wisconsin).', '$1 million 900,000,000 euros to help Syrian refugees. $500,000 to save the children to pay for measles vaccinations for children in northern Syria. $1 million,900,000 € to help refugees in Syria and neighbouring countries. $600,000 $100,000', 'paris hiltons sex tape with Rick Salomon was released 10 years ago. Paris Hilton never cashed in on her x-rated nightvision romp. She never tried to get a cut of the profits, Paris Hilton told Tmz: \"I never made a dollar', '$1.5 million in car costs alone. $1.6 million. $170,000 to $2,000,000. $18,000 a day. $2.5 to $1,500,000 per car. $6,000-2,500', 'atlanta is the best U.S. city for newlywed couples starting a life together. Tulsa, Oklahoma came out on the top of the list of the best cities for newlyweds in Tulsa. Atlanta is the \"best us city for Newlywed couples\"', \"Eti Olive Grove in Kalahata, Greece's olive grove in Kalamata. The best olive oils come from Greece, says George Papageorgiou, the owner of Esti Olive Oil. The olive oil was ground into paste using large millstones.\", \"is fears only one country’s soldiers in the world. The Israeli army. The israeli army is not something to be messed with. Israel is not included in isis planned first stage of colonization in the Middle East. Israel's supreme guerillas\", 'Chiwetel Ejiofor is the latest name to surface as a potential participant in \"Star Wars Episode Vii\" The 12-year-a-slave star was a very talented gentleman. The film is expected to arrive in theaters in 2015.', 'Lviv, the city in the Ukraine, is a city in U.K., with a robust historical past. It’s just rush hour in Lviv. It ’s really quaint and awesome here. It even looks great in hipster filters.', \"Alaskan Malamute Howls for the first time. She’s so impressed, she joins in with the dog's howl. Howling for the First Time: A 14-day-old puppy's Howl for The First Time.\", \"lack of staples voided the petition through a technicality. The petition effort failed because he didn't staple each petition volunteers affidavit with the signatures they collected when he turned the documents in to the La Junta city clerks office. The lack of staples was a legal technicality\", 'June 12 at 5 p.m. ET (June 12, June 12, at 5:30 p.M.E.Ea’s first ever live stream will be hosted by Ea Play for the upcoming game \"Battlefield 1\" The live stream', 'artpop album will deliver 15 songs. The tracklist and artwork for her records release next month. The album will be released on November 11, 11th, on the 11th of November. The song \"Araura,\" and \"Do What U Want\"', \"Hillary Clinton’s Debate Prepared for Hillary Clinton. Hillary Clinton's Debate Preparation Team. How does she take on a candidate who lies, lies and lies? How does Hillary Clinton address Donald Trump's lies? Hillary Clinton�'s Debate Preparing Team.\", '$1,000 per haircut. $3,000 to $4,000 a week. $2,000-3,500 per haircut and $1,500 a week per cut. $30,000-$2,800 per cut, $2.5,000', 'someone from her not-sodistant past. \"Please freeze your sperm for me,\" she said though she seemed to be joking. She and Wiz Khalifa still love each other but they just can\\'t be married, she told Wiz Khalifa. \"I tell Wiz all the time,\"', 'no perm, no extensions. No perm. No extensions. no perm. no extensions! No perm no extensions, no perm no perm No perm No Perfume. No PERFECT, no PERFERT, no Perfert, no perfist.', \"pant-sleeved-fits-and-flare dress (a little black number and for Hillary Clinton's a pantsuit) Women in politics play it very safe (a fit and flare dress). A fit and flare dress for some women\", 'the overton window of political possibility The Overton Window of Political Possibility (OTP) of Political possibility. The overton windows of Political Possible. The OverTON Window of political possibilities. The \"overton window\" of Political possibilities (political possibility)', \"copy-and-duplicates of assault weapons. The sale of these copycat assault weapons is illegal in Massachusetts. The state's assault weapons ban mirrors the federal ban Congress allowed to expire in 2004 it prohibits the sale of specific weapons like the Colt Ar15 and Ak47\", 'vlc, the cross-platform multimedia player that plays a variety of different file types is once again available on ios devices. The app makes it easy to play format types that aren’t easily compatible with Apple devices in addition to the ios version', '46 percent of the world’s homicides in the U.S. or Africa. The United States (the United States) or Africa (the U.K. (the African United States or Africa). The Americas (the USA or Africa) or the African U.A.', 'down-syndromic worker and co-owner of a Chattanooga, Tennessee restaurant. The health department came to the restaurant they were shocked to discover that the ‘worker ’ with down syndrome’ was actually the restaurant’s manager and coowner', \"19 warm sweaters that are all under 100 you're welcome. Under $100 youre welcome. The best way to start is by stocking up on cozy knits that are already on sale. $99.99. $100.99, $100, $101.99\", 'breast cancer rates on the rise among African-American women. The reason for the increase is unknown. The rate of breast cancer death rates have dropped by 34 percent since 1990 in all racialethnic groups except American Indians and Alaska natives. Black women are less likely to survive', '\"Tomb Raider\" hits theaters in March 2018. \"Lara Croft: Tomb Raider,\" starring Angelina Jolie, is due for a reboot any day in Warner Bros.\\' 2018 take on \"The Tomb Raider,\" starring Elia Vikander.', \"walk on the beach with Tom Hiddleston's mother and sister. The pair paid homage to their first outing as a couple by replicating their rhode island beach jaunt on the beaches of Suffolk. Neither Kanye West's very naked famous video nor the controversial Brexit results\", '\"It makes us feel ancient\" \"It seems frumpish\" \"I even prefer to be called madam maam.\" \"It makes me feel ancient.\" \"I don\\'t like to becalled maam\" \"it makes us wince.\" \"it seems ancient\"', \"julia roberts' card is expired and i didn't get a new one. I think she's fabulous. But she doesn't seem cooler. Oh she's too cool to be a sweetheart. She shoots flaming arrows. Is this a new cupid tactic?\", 'women pretending that they are men in an online presence that obscures their gender. It’s wrong on so many levels it perpetuates the trap that women fall into, says Angela Dalton, a managing director at Guggenheim. \"You are making the problem worse', \"altruism is even more appealing than good looks, according to a 2013 study. Men who display helping behaviors are generally perceived as more attractive than those who don't. Women showed a stronger preference for altruism than men did more recent research suggests that altruism could be even\", 'dye his hair sky blue. It’s because he is showing his support for the club. It looks like a Marge Simpson tribute. It\\'s a tribute to the \"Marge Simpson Tribute\" to Samir Nasri\\'s \"Blue\"', \"unexpected alternative uses for Listerine. Underarm deodorant toenail fungus remover and flea repellent for my dog. Under-arm deoderant and underarm de-odorant for a man's man's underarm.\", \"ann coulter’s'sell-out' to hispanic voters. Ann Coulter can’t stop raging against hispanic voters. The growing Latino population will wreck the U.S.'s economy. The only ones opposed to current immigration policies\", 'clostridium botulinum toxin type H is untreatable. It is so dangerous that researchers have decided to withhold publishing information about it over concern it could be used as a bioweapon. Inhaling just 13 billionths of a gram of the stuff', 'transformation, opportunity, relief and opportunity in that order. The war against the social safety net which is \"insane,\" says Arthur Brooks, president of the conservative think tank the American Enterprise Institute (AETI). The government\\'s social safety-net for the truly indigent', 'white lines on all metal-bodied smartphones are antenna bands. antenna bands are used to send and receive signals. The white lines trend was started by Apple with the iphone 6 and 6-plus Plus (6 and 6 Plus). They are just antenna bands', 'no stylist for this cover. No stylist. No designers credited. Mark Zuckerberg wore his own clothes. The magazine’s fashion and style director, Jessica Diehl, didn’t styled the cover. The cover is not your casual-jeans T Tuesday.', '£1299 (more than double the price of the Raspberry Pi Zero minicomputer) for £1299 ($1399, $1399) for the BBC Micro-Bit ($1299, £1199) $1299 for £11,99', 'Robotics and artificial intelligence. Robot and sensors all powered by artificial intelligence software. The machine takes stacks of paper, pulls out any staples and loads them one sheet at a time onto a conveyor belt for rapid scanning up to one sheet a second. The machines aren’t going on sale', \"200-foot-wide sinkhole in China's Sichuan province. No one was seriously injured in the city of Guangyuan Shanghai. At least 12 buildings were swallowed by the 200-foot wide sinkhole. The sinkhole is expected to keep growing.\", 'no, there were no pancakes at the pancake breakfast. At least 50 percent of the 800 or so attendees were not new Hampshire voters. It was a mid-morning rally, not an 830-30-apology breakfast. It is a different kind of country', '$12,30 that’s rent money. $12,000. $11,000 to $1230. $1,800 to $2,800. $10,000-$10,500. $15,000-12,500', '\"When I enter feels like a waiter has entered. When I enter it doesn’t feel like a star has entered.\" \"I just mean that when i enter it Doesn’T feel Like a Star has entered\" \"I think it is out of respect\"', 'Pantone 448 C or opaque couché or \"dirty and death\" or \"dirt-and-dirt\" C or \"opaque couche-couche\"? or \"clearly couche\"? Or \"dirty and death\"?', 'Ellis Rabb’s \"manual labor for the then-moresuccessful actor Ellis Rabb\" in an upcoming episode of BBC\\'s \"Grammer.\" The actor explains the odd way in which his penchant for backstage Tony Bennett impressions circuitously led to the role', 'a chandelier from Ivory Deene Home Furnishings. The company\\'s businesspeople at ivory deene home furnishings at ivory. deene impressed by the ornate lighting fixtures and reasonable prices. \"We are Christians\" because they are \"homosexual\"', '\"I’ve been taking ballet all my life since i was very young\" \"I lost being in the moment being present and the joy faded\" \"It became a new form of self-discipline and a gift to myself of 90 minutes in which everything else can wait', \"Ryan Tannehill. The best athlete at our school. The most games I ever won was seven. How could you get a $100 million for that? The value of the position. It's the only position in the NFL where you could be mediocre and get paid\", '$64 based on the price of gold at $4,376 per gram (about $564 per gram) $50,000 to $60,000 per gram. $50 to $50 per gram ($50,500 to $6,000)', 'realistic optimists combine the positive outlook of optimists with the cleareyed perspective of pessimists. The realistic optimists may get the best of both worlds using their realism to perform better at work and elsewhere but arent getting bogged down by unhappiness', \"kevin elmer Rnixa, Missouri state Rep. Kevin E. Rixa (D-Nixa) rep. Kevin Elmer (R-Missouri) Rep. Kelley E. Nelson (R, Nixa), Rep. E. E.'s Rep.\", 'spray-on nail polishes. aerosol-based nail polished nail lacquers. The spray-on manicure in under 20 seconds (it takes 20 seconds). The sprayon nail polish trend is now available stateside in three highly pigmented shades.', \"manny pacquiao's next fight on Nov. 5 in the Philippines instead of in Hollywood with Freddie Roach with Freddie Wright. The fight was scheduled on november 5 and his training camp will be set up in the philippines instead of Hollywood.\", \"9:30 a.m. is probably the ideal time for most people to drink their coffee. Its right after your body's peak cortisol production (your body produces the hormone cortisol). It affects your level of alertness throughout the day (your circadian rhythm)\", 'Retired Marine Sgt. Jose Luis Sanchez, a retired U.S. Army Sgt. Luis Sanchez. Sanchez lost the lower part of his left leg by stepping on an ied in Afghanistan in 2011. Sanchez completed the race as a charity member for the Semper Fi Fund', 'sombra will be unveiled for \\'overwatch\\' soon to start with. A French theater ad which suggested that sombra would be unveiled soon. A sniper scope which is another strong signal that the character might be on its way to \"overwatch soon\"', 'North Dakota, Minnesota, South Dakota, North Dakota, and Minnesota. Massachusetts, Washington, D.C., Washington D. C., Maryland, Maryland, Virginia, Florida, Georgia, Iowa, Oklahoma, Missouri, Nebraska, Kansas, Oklahoma. Minnesota, Oklahoma', 'Riddick: The Chronicles of Riddick, the third Vin Diesel film to feature that title antihero is an indie feature that means even Vin diesel had to independently finance the third riddick movie. The film which cost around 110 million grossed just $57 million', \"Tim Tebow could become a zoneread specialist. Mark Sanchez and Sam Bradford among the team’s signalcallers. The Eagles' signal-callers each rank in the bottom five in total QBR. The NFL is still considering adjusting the extra point conversion\", \"$1 million. $1 million dollars. A million dollar. It aint nothin. suckmydick-bitch bitch. It's nothin! It's a million dollars, it's not nothing. it's a $1,000,000\", 'braconid, meaning \"any of numerous wasps of the family Braconidae\" The word that led to the 176point word that ended up winning the $7,000 ($7815,15,19,15) grand prize of €7000', '$289,000, $4,20000, $289,500, $2,200,000 (or $3,800,000) $4.20000 £289k, $1,816, $7,868, $3.5, $5,857, $8,872, $9,869', 'Vintage Home Finds: Items by Gucci Sciolari, Gucci, Paul McCobb and Brian Williams. Items by Paul Mitchell, Paul McCartney and Brian Willsher. The Figural bronze andirons of American Indians and the cement sphinx statue.', '$40 to $60 million created in 1962. The massive humansized canvas is heading to auction in New York City this fall. The work had been housed in a previous collection for the past two decades. The stark soda masterpiece is officially up for grabs on November 12 2013', \"suicide at the Santiago Zoo in Santiago, Chile. A suicidal man tried to use the lions as vehicles for a quick suicide but they ended up becoming the victims. The lions were killed by the man's death wish, but it did not turn out as intended.\", 'spectacles as a sex toy. The majority hadnt engaged in any sexual act with their new toy yet. The glasses were a bit distracting and made her feel more self-conscious than a little less creepier than a Google Glass. It was the first thing i thought.', 'Ratu, a rhino that lives at the Sumatran rhino sanctuary in Indonesia, is now mother to a little miracle. Her son andatu was born in 2012 the second sumatran Rhino born in Indonesia in 128 years. ratu’s baby boy', 'Ted Cruz spoke for 18 minutes and three seconds. Marco Rubio spoke for just over 14 minutes. Ben Carson spoke for eight minutes and 25 seconds. The ever-muted Ben Carrington spoke for 8 minutes and 24 seconds. Donald Trump spoke for over eight minutes', 'a massive asteroid did indeed strike the earth but that its devastating effects were different than commonly thought. The asteroid struck the yucatan peninsula in Mexico hitting massive oil deposits and sending a blanket of thick black smoke into the atmosphere. The amount of sunlight fell by a huge 85%.', 'jesus. Christ. Jesus Christ. The literal usage of the term \"Jesus Christ.\" The literal use of the word \"Christ.\" The word \"Jesus Christ\". The word, \"JESUS Christ.\" the word Jesus. The word Jesus Christ', \"september 16 (September 16). September 16 (the 16th day of September 16th). Sept. 16 (that's the date that your parents got on the train to sexy town). Sep. 16th (the date that's your parents' wedding day).\", \"Granit Xhaka’s performance in Arsenal's victory at Watford on Saturday. The Swiss midfielder attempted more passes, made more tackles and had more touches of the ball than any other player in the win and also covered the most ground 1165km\", \"a tire ottoman is made from a tire. The Ottoman Is Made from a Tire is Made From a Tire. It's Made from A TIRING TIRED TINY TIROR OTToman. It is Made from T tire\", 'investment account with Digit.com. More than $35 million a month. $100 million a week. $2 million a day. $1 million a year. $9,000 to $1,000,000 a month, $2,500,000', '\"Sweet Child O’ Mine\" by Lynyrd Skynyrd. The song was directly inspired by \"Sweet Child\" by Guns N’ Roses. \"I went out and got some old skynyrt tapes,\" says frontman Axl Rose', \"Donald Trump's 71 percent chance of winning the Republican nomination. Hillary Clinton's 87 percent chance. Bernie Sanders' 11 percent odds. Donald Trump's 52 percent odds for winning the presidency. DonaldTrump's $1,143, Clinton's $17,143.\", 'El Chavo Kart for Xbox 360 and PlayStation 3 this year. The characters will have the original voices from the spanish and Portuguese animated series. The game will be created by Efecto studios and published by Slang games. It will be based on the cartoon series', '\"The Hobbit: The Battle of the Five Armies\"\"The Interview\" \"The Gambler,\" \"The Hunger Games: Mockingjay Part 1,\" \"Into the Woods,\" \"Night at the Museum of the Tomb,\" and \"The Hobbit\"', 'hypnotherapy. Hypnotherapy helps you quit smoking using hypnosis. Going to a hypnotist can be $200 per one-hundred-an-hour session and requiring as many as 5 sessions for the entire treatment. Can the average smoker afford to go to a hypnotherapy', '$2399 million dollar estate in Bloomfield, Mich. The home is a French regency stunner with five bedrooms, four full baths and three half baths set on over an acre. It is a secluded little suburban escape with its own private pool and tennis court.', 'Monserrat, The Island of Montserat. The island of Monserrat the Caribbean destination was once home to 12,000 people. A dormant volcano spewed up to 20feet of ash over the capital in 1995 and a dormant volcano', 'pimco’s 2013 bonus pool for its 60 managing directors of almost $15 billion. $15.7 million each annually. $1.2 billion per year. $2.5 million per year per employee. $3.5 billion per employee', 'a oneroom shop that i had been familiar with my whole life was boarded up. It had belonged to a tailor named Padmanabhan, he had to have his leg amputated. The news of our local tailor had reached her in Kansas type 2 diabetes', 'Janine Hall met her date at the cheesecake factory in Missouri. The next thing she knew there were dishes falling onto her side of the booth her date stood up and collapsed. Doctors have been unable to find a cause of the episode but have released hall’s date', 'toilet paper wedding dress. Toilet Paper Wedding Dress Contest from Charmin and \"Toilet Paper\" Wedding Dress contest from \"Charmin\" (toilet Paper Dresses) from \"Chimmin\" Wedding Dresses from \"chimmin Wedding Dress\"', 'The \"Spirit of Ecstasy\" Hood Orch Ornament. It’s protected by a brilliantly overengineered mechanism that causes it to retract and disappear if tampered with. It\\'s apparently a standard feature included on all of Rolls Royce ’s vehicles', 'says she never hung out with the hip-hop artist. She has no idea if that lyric is about her in \"Who do you love?\" (it\\'s not about her) The pop star also revealed that shed like a part on inside Amy Schumer', 'Trey Songz (Toby Songz) The two were first linked in March of this year. The NBA star overdosed back in October of 2015 and left her to pick up the pieces. They were rumored to be getting back together but it seems unlikely.', 'paper brick-like material called paperbricks. The bricks are as solid as the traditional clay and shale mix but far more eco-friendly. The material is a polished, polished bricklike material that looks like a polished brick like material called \"paperbricks\"', 'Carvacrol an antimicrobial that kills off some of the methaneproducing bacteria in the cow’s rumen danish researchers hope that it could reduce cows’ methane emissions by a quarter nearly 15 percent of all humancaused greenhouse gas emissions', 'tastes in season and fresh otherwise don’t make it Wichcraft Blt. The classic American sandwich. The Aioli. The Tomato-Grapeseed Oil. The Egg Yolk. The Bacon. The Bacon-Grape AiolI.', 'ruben Guerrero, the husband of Montebello, California Mayor Christina Cortez. Ruben Guerrero was arrested on suspicion of sales of methamphetamine and sale of narcotics near a school. Guerrero posted $6,000,000 bail by Thursday evening and was released from jail', 'tobacco as the number one currency in U.S. Prisoner’s stores which are illegal they can go for a lot more than they ’re worth at the prison used for the study a package of ramen runs for 59 cents', 'Tawny Kitaen, the bombshell who famously danced atop David Coverdale\\'s two jaguars in the video for \"White-Nakes\" here i go again. OJ Simpson\\'s affair with TawnyKitaen (getty images)', '$7,1221, $7,1121, 7,12, 21,11,21, 12,12 21, 712,21 and 71221. Mississippi was again the poorest with an income of $37095 — nearly half that of Maryland', 'going for a walk. Wandering around the block. Wearing a hat and a hat-trick of earbuds. A hat-tongue and earbob. A Hat-tracker and ear-bob, a hat, earphones and earphones', 'the choking game (choking game). The game involved cutting off his own airway to experience euphoria. An 11-year-old sixth-grader from Indian Land accidentally killed himself in an attempt to play the game. No foul play is suspected.', 'Body image issues at play driving more men to fitness centers than you might expect. 20 to 40 percent of American men are struggling with body image problems in some shape or form. Men’s hidden fears about body fat that are driving gym attendance, according to a', 'Justin Bieber\\'s new name: \"Bizzle.\" The switch took place on Saturday, Feb. 8. The singer\\'s new moniker: \"Justin Bizzle\" The singer has acknowledged the change on his Instagram account: \"justin Bieber\" on Instagram.', 'a woman from sub-saharan Africa. The remains are that of a woman from Sub-Saharan Africa. They are dated between 896ad and 1025ad. The skeleton of the ancient woman traveled about 3000 miles from her home. The bones will likely go to a museum', 'the slash also functions as a coordinator coordinators also called \"compositing conjunctions\" The most common use corresponds most closely to andor. The most interesting implication to me is that this coordinator is expanding in use and taking on new meanings. It\\'s an almost mindlessly simple way', \"Westboro Baptist Church (WBC) Church's Anti-gay Racist Rhetoric and Anti-Adultery Rallies in Kansas City, Mo. The Westboro Baptist Church's Antigay Rant-in-the-Face (ACRA)\", 'Owatch cheat programs are being banned by Blizzard. The company unleashed a massive 1572-person ban wave earlier today. The names it had banned due to cheating. The game’s Chinese partner Netease has ensured it bans anyone stupid enough to try cheating', '$15 years longer for the richest 1 percent of men, $10 years longer than the poorest 1 percent for women. The places where the poor lived the longest include New York and San Francisco. The poor in and around Birmingham had a surprisingly high life expectancy.', 'braconid, meaning any of numerous wasps of the family Braconidae. The 176point word that led to his victory. The $7,000 which is equivalent to about $7815,000 (7815 U.S. dollars) The word', \"cured egg yolks are delicious—but strong because they're super salty. They're packed with protein vitamin D and omega-3s and even though egg yollks are high in cholesterol, it doesn't increase your blood cholesterol. Cured Egg Yolks\", '\"The Throne Roomend Title Medley\" by John Williams. \"The Imperial March,\" \"The Emperor\\'s March,\" and \"Princess Leia\\'s Theme.\" \"The Empire March,\" by The Imperial March, Princess Leia, and The Throne Room End Medley.\"', \"a stranger accidentally put Hailey Ashmore in harms way by stopping to pet flynn — and the incident illustrates exactly why working dogs should never be pet or played with while they're working. The incident illustrates just how important service animals are for their humans — and why their vests\", 'Lord Ivar Mountbatten, the first member of the British royal family to come out as gay. The 53-year-old came out in an interview with his boyfriend James Coyle, 54. The couple met on a skiing holiday in March and the relationship', '\"Who is watching your kids? Who is watchingyour kids?\" if i were a single mother? \"I was asked again and again from fellow moms who is watching their kids?\" \"I didn\\'t hire a babysitter.\" \"I will already know already\"', 'celia cruz\\'s 88th birthday on Oct. 21, 2013 on Google\\'s \"Sugar\" page. Azúcar spanish for \"sugar,\" the Spanish word for \"felicidad\" (happiness). The doodle', 'saudi-arabia holds roughly $1168 billion in the U.S. government’s $11.68 billion. $117.4 billion in $11,868 billion ($11.8 billion) $117,000,000 billion', \"declawing a cat is essentially amputation. It's the equivalent of taking a cigar cutter and cutting the end joint off. The bill is currently with the senate and assembly but no voting date has been determined. The controversial practice is already banned in Los Angeles.\", 'Michael Sam, a former Missouri defensive lineman, has publicly come out as gay. The college football standout is eligible for the 2014 NFL draft and is poised to become the first active openly gay player in the leagues history. He spoke publicly about his sexuality for the first time.', 'Swoggi, $50 ($50) offer to get 50 free credits per 100 credits pack. $1150 worth of an imac 215 inches worth £1150 ($1150). $5776 worth £5776 ($5776) worth £10,000', 'a longline yellow raincoat with a jennifer Fisher silver knot choker choker that you can shop via Net-aporter here. a simple scoopneck white shirt and high-waisted cutoff jeans. brown suede manolo blahnik pumps', '55 percent of Americans think climate change is related to more frequent and severe natural disasters. Only 23 percent do not. Only 15 percent said that human activity is the primary cause of climate change. Only 39 percent of republicans said that they are related to the changing climate', \"came in 23rd and received a score of 7.392 nearly the same as in 2012 when the us ranked 22nd (7.373). The United States' ranking and score have both decreased since 2011 (7373 and 7373) The U.S.\", '59400 tonnes (5,000,000 tonnes) of food waste (5.4 tons) in the UK in 2013-14. The equivalent of 119m meals (119m meals) in 2012-13 (4.5 tons) (4)', 'preorder one or maybe more than one. The Nes classic edition is not available for preorder just yet. It’s a good bet to allow preorders as soon as humanly possible for more for more gaming coverage please visit our hub page.', 'Price of College Textbook Price of College Book Price: More than $1041 (1041) per year, or $41,941 per year. $10,41,000 per year (10,000, 1041 per cent) since 1977.', \"a tower of junk the Cathedral of Junk, a monstrosity made from metal pipes, rusty wheels, clocks and clocks and people visit it all the time. Topless swimmers at the public pool topless, the city's most popular public swimming locations.\", \"Amyotrophic lateral sclerosis als (ALS) (Lou Gehrig's disease) (ALS). The Motorneuron disease Amyotrophic Lysosclerosis Als (MLE). ALS (Lougehrig's Disease). Lou Gehrig’s Disease\", 'Yinmn Blue, or \"Mental Floss\" Pesticide, \"Mind-Floss\" (or \"mental floss\" or \"mental floss\"). It\\'s being manufactured for artists\\' brushes. It\\'s a \"very beautiful blue\"', 'blue wavelength light is especially harmful to circadian rhythm function. Blue wavelength light has uniquely harmful effects on humans and suppresses melatonin levels more vigorously than other light wavelengths (like blue-whitelight-blocking glasses). The last 60 minutes of your bedtime ritual', 'Kristina Braverman was diagnosed with breast cancer a year after her cancer-free diagnosis. Kristina is officially cancerfree, but somehow the tears just keep coming. Only seven episodes into season 5 of \"Parenthood\" on \"The Mindy Project\"', \"a four-year-old albino raccoon in Georgia. The Albino raccoons were stuck in a trash-pit prison. The animal's appearance can make it a prize in the eyes of some peopleSomething special that needs to be captured or owned\", 'a man was crossing the street at 128 am when the tour bus struck and killed him. The individual was killed from trauma to the head and chest aldean\\'s \"heavy heart\" Aldean: \"Nothing prepares you for something like this to happen\"', 'over a thousand individual tasks on the Buzzfeed bucket list. The time it would take to complete each of the tasks. The travel time that it wouldtake to work your way around the world in an order most efficient for accomplishing each of these tasks. How long would it take', 'expo markers in bulk or boxes of kleenex that should be supplied already (the more mature ones are $200 a piece) Tissues and tissues and markers and glue sticks (the most expensive item on the list) (the $2,000 item)', 'Pennsylvania (6 percent) sales tax on digital downloads and subscription services like netflix and hulu (the \"netflix tax).\" The state legislature there recently extended its 6 percent sales tax to Digital downloads and Subscription Services like Netflix and Hulu (the netflix tax)', \"plastic debris in a whale's stomach. A 70cm piece of plastic known to be apart of a car a 13meter-long fishing net and a variety of other plastic debris. The whales internal organs had collapsed. The young whales did not die due to the plastic\", 'Lorde: Cyrus is her favorite Disney pop star. Lorde: \"I really enjoyed camp rock.\" Lordemusic: \"Your music is awesome.\" Lorde\\'s \"Why r people so mean?\" Why r people \"bitter\"? Why are they so mean', \"10 percent of people didn't wash their hands after using the bathroom. The average handwashing time six seconds far short of the CDC's recommendation for a 20-second scrub. Men were the grossest offenders only 60 percent said they always washed their hands After using a public bathroom.\", 'Jussie Smollett: \"There is no closet. There’s never been a closet that I’ve been in.\" He stopped short of using the terms gay and bisexual in the clip it was \"really important to me to make sure that it got across\"', '\"I have to work out.\" \"I was really nervous\" \"I had a conversation all lined up that i was going to do.\" \"When i met her all i said was hi nice to meet you and that was it.\" \"Its something that i definitely look forward to\"', '25,000 per month (that’s $1,000,000) per month. The $3.5,000-per-month penthouse in Chelsea, New York City. The three-bedroom, two-bathroom penthouse has three bedrooms.', 'the University of Vermont’s information system. Rocko the tough-sounding nickname friends had come up with and told people to use they instead of he or she. They has become an increasingly popular substitute for He or she in the transgender community. They’', 'a dark moon orbiting Makemake’s moon. A charcoal-black moon orbiting the dwarf planet Makemake. The moon is over 1300 times dimmer and much smaller than Makemake and its orbit appears to be edge-on to earth. It was easy to miss', \"mexico. City of Mexico. Mexico City, Mexico City. Mexico’s Guanajuara Mountains. Mexico. City, Guanajua City, Guerrero, Mexico.Mexico City, Guadalajara, Mexico city. Mexico's Guanajuepe\", 'dapper cool look as a father with his daughter Ziva sitting on his lap guess who a photo posted by Mahendra Singh Dhoni. He was blessed with a baby girl and he is making the most of the fatherhood by taking awesome pictures with her.', 'a 4 mm tumor in her brain. The tumor was on her pituitary gland. It could have killed her by the time she had the Mri scan. It was a brain tumor in the brain. It had cushings disease if left undetected.', \"cut that was popular among business professionals in the late 60s. The undercut long on top and short on the sides. The cut that was consistently favored among men from Washington, D.C. to New York. The don't draper cut with tightened sides\", 'Katy Perry caught one of the bouquets during the bouquet toss. The bouquet catch comes amid speculation that Perry is set to tie the knot with boyfriend John Mayer. The pop star posted a photo of her posing with the flowers to instagram', 'two Dutch citizens were among 30 people on board the Arctic Sunrise a greenpeace ship. The Dutch government could ask the tribunal on the law of the sea for temporary measures for the release of the ship and its passengers. The group includes one American, one Argentinian, two Brits', 'a doormat photo. A photo of the thing I wanted printed on it. A piece of foam with the thing i wanted. A photograph of a doormats glued to two pieces of foam. A DOORAT. A Doorat. A Doormat', 'disco-dancing instructor at a local Hooters girl’s restaurant at age 17. \"I’m 100 percent sure of that Wozniak and I learned how to work together,\" Apple co-founder Steve Woznniak', '70-piece \"readymade for a Montauk weekend\" collection. The 70-piece collection will debut in Target on Feb. 9, 2014. It looks just as awesome as we hoped. The British are coming to Target. The Brits are coming.', 'jennifer Lawrence: \"I was adamant on finding him\" and then making a video of me going, \"Hey Donald Trump\" Donald Trump: \"F You Gee Whiz.\" DonaldTrump: \"Just you wait and see.\" Hillary Clinton: \"You\\'re not very talented', 'Online multiplayer is broken and players should avoid trying to use that game mode. Singleplayer and local multiplayer are not affected and can be safely used. No word yet on when the fix will be delivered to the Xbox One version of \"Terraria\" online multiplayer', 'Raw Apple and Raw Lettuce: The Best Foods to Banish Garlic Breath. raw apple and raw lettuce: The best foods to banish garlic breath. Raw Apple and raw Lettuces: Raw or Juiced Apple, Raw or Green Tea.', \"fettuccine alfredo in Rome. Trattoria della Scrofa between Piazza Navona and the Trevi Fountain. It’s the one place to try it in the Italian capital. It's not what you would find in Rome\", '\"Pagewhile the original title of stephen King’s Novelladoes\" (Rita Hayworth and the Shawshank Redemption). The original title was Rita Hayesworth and Rita Hayworth. The title is \"awful.\"', 'shamus beaglehole wins 2014 name of the year contest. Shamus Beaglehole, \"Beaglehole,\" \"Shamus,\" \"Bag-hole,\" and \"Beag-Beagle,\" \"beaglehole\" in \"Name of the Year\"', 'Wolverampton, Wolverhampton, and St. Albans in hertfordshire and Dundee, in Scotland. Three. Any more than that and interest seems to drop off the sun on Sunday. The ideal number of people you sleep with for both men', 'coloured bread pans outside during a snowstorm. The East Coast was hit with a major snowstorm in the winter of 2012-13. Ice hockey player Mitch Fritz decided to take the opportunity to build something special. He had a vision for something that he could make', '29-cent washcloths. A $29-a-T towel. A 29-cent towel is a $1.99 towel. 28 million towels. $1,000, $2, $3, $4, $5, $6, $7', 'not in fact lowering their prices. The goal however is simply maintaining a balance of pricing across the board. The higher-priced line using more luxurious fabrics will still be available in select J. Crew stores its the middle of the road merchandise that will come down in price', \"small pocket in the front of the jeans. The extra pocket was for a watch. In the 1800s, cowboys would wear their watches on chains and Levi's created this small pocket in their jeans. It's not big enough to hold anything substantial like money keys.\", 'a dead humpback whale Gudkov andreyshundreds of miles off the coast of Western Australia. It’s likely to be a humpback or southern right whale. It was all bloated up and unbearably smelly and it was a dead whale.', 'Peter Dinklage’s voiceover work in the upcoming shooter game \"Destiny.\" The dialogue has been updated and will be fixed by the game’S Sept. 9 release on the game\\'s website. The game\\'s alpha version for early adopters', 'online gaming eventually gave him a sense of purpose. Ken Wartell\\'s \"No Hands\" Game-Streams his play live to a mass audience via twitch by placing the jouse in in his mouth and puffing it and \"huffing it\"', \"Kim Jong-Un impersonator. The world's first professional Kim Jong-un impersonator, Howard. The key to becoming him is to always look unhappy and dissatisfied it is his trademark look, he says. Howard's surname is kept secret for fear of North Korea\", 'lack of internet access inside his jail cell\"My first amendment rights are being violated.\" \"My second Amendment rights arebeing violated\" \"My right to live is being violated,\" \"my right to see my brother and move about.\" \"I never waived that right.\"', 'Emma Quirk Center, a very lucky young Australian woman currently living in Alberta, Canada. Her hands were already exhibiting symptoms of frostbite. The doctor told her that the extent of her injuries ranged from mild to third and fourth-degree frostbite, the healing process was tough.', \"José José Joseph Joseph Joseph José Joseph́ J. Joseph's 50-year in music. The star unexpectedly took a tumble off the stage. The singer was not injured during the incident and even poked fun at himself and told the audience he didn’t plan to fall\", 'daydreaming in full daydreaming. The King of limbs is out digitally this Sunday, May 8 at 7:30 p.m., 2:30 a.m. eastern time and physically June 17. The album title has not been revealed yet.', \"Michanwi Pingwe Beach, Zanzibars' Michanwi-Pagwe Beach. The restaurant of your dreams off the coast of Zanzibia's Michan Wi-Pangwe Beach in the East African island of Kilimani.\", 'Jackson Vroman, a former NBA player, was found dead at his Los Angeles home on Monday morning. Drowned in his pool after tripping and hitting his head, according to his close friend the Instagram celebrity Dan Bilzerian. The Lebanese national basketball team', 'Katherine Heigl\\'s behavior on set has become notoriously difficult and a number of industry insiders who are getting fed up with the star\\'s \"difficult\" behavior. The actress\\'s mother was often part of the problem, according to her mother was \"the problem\"', 'peel-toshes-only-potatoes-in-any-form-of-mashed-baked-you-name-it but no other vegetables or even other proteins. \"Preto How I made over 100 pounds disappear and other magical tales\"', 'Taran Killam and Jay Pharoah are leaving Saturday Night Live. No reason was given for their departures. Their options for a seventh season weren’t picked up. The involuntary departures of veterans such as pharoah and Killam is unusual.', 'Idaho More 10 cities with the worst drivers in the U.S.\\'s \"rudeest drivers\" in the United States. The state with the absolute rudest drivers is tucked away in the rocky mountains of Idaho\\'s \"rural and mountainous terrain\"', '\"Harry Potter and the Great Gatsby\" by James Bond. \"The Great Detective,\" by George Clooney. \"To Kill a Told Told Harry Potter,\" by Henry Potter\" by Harry Potter and The Great Detective\" by Henry Carraway.', \"in her late 70s but she is 77 to be exact. She didn't even start working out until she was 56. She eats 10 egg whites scrambled along with a handful of walnuts and drinks 16 ounces of water. She also teaches classes at her Maryland gym energy fitness\", \"pork loin she defrosted looked just like a penis. The phallic-looking meat from farmfoods. It looked like a 'huge penis' It still tasted nice. It wasn’t a huge penis, it was just a big penis.\", 'being a single mom to daughter Jessica gives her the most pride. The single parent stigma persisted. The first five years of her life were \"happier than any other part of my life.\" The first four Harry Potter books were written as a single mother.', '$765,759 in loose unclaimed coins in 2015 alone in the TSA\\'s annual report to Congress. In 2015 alone the agency amassed a record $7.65,765759 in \"loose unclaimed\" coins in the U.S.', '269 Medical Marijuana Dispensaries open for business in Oregon. The state already has the secondhighest number of medical marijuana patients per capita in the U.S., behind only Colorado (2,868). The total number of McDonald’s or Starbucks in the state', \"craig and Mary Romney's House Tour of the Romneys' Home. The Romneys home in Montrose, Washington, D.C.'s House Tour Of The Romney Home. House Tour by Aarean from Color Issue. The Rose House\", \"Ronaldinho has joined Barca for the second time in his illustrious career in an ambassadorial role. The Brazil legend's new role will see him operate purely off-the-pitch rather than create magic on the pitch. The Barcelona-Brazilian now 36\", 'Alister Lawrence\\'s cameo for \"Dumb and Dumber to.\" The Dumber set is near the \"Hunger Games\" lot. The entire cast visited the filming of \"Jeff Daniels\\' \"J-Daniels\\' \"Laughter Fest.\" The \"Laugh Fest\" set', '1 in 285 children will get a cancer diagnosis of some sort (some sort of cancer diagnosis) One in 285. Children’s cancer. One In 285 (in 285) children will be diagnosed with some sort of childhood cancer (some kind of cancer)', \"gambling websites that use Steam’s trading system using the open-id API and making the same web calls as Steam users to run a gambling business is not allowed by the game's API. The price of some items fell an average of 137 that evening\", 'Tahini-butterlike paste made from sesame seeds. Apple cider vinegar for the Tahini Walnut paste for the Apple Cider Vinegar for the Nutty Nutty Pecos Pie. Canned Pumpkin Squash and Winter Squash', 'a ravenous bear broke into a Colorado bakery and ate 24 pies as well as several bags of ingredients. The store was in shambles with two boxes in the yard and with 24 pies devoured without a trace. They have reason to believe that the bear enjoyed his dining experience', \"a paper bag. The paper bag technology has drawn flak and sarcasm from netizens. The bag is made of 60 recycled materials. It's made of white solid bleached sulfate paper with at least 60 post-consumer content (at least 60 Postconsumer content)\", 'sephora instant moisturizer 22 available at Sephora stores at $22.99 (22ml) per bottle, $2.99 per day, $3.99 a bottle, ($2.50 per week, $4.50 a month, $7.99', 'James Smits as bail organa in \"Rogue One: A Star Wars Story\" (The New Star Wars: Episode IV: The Revenge of the Sith) (Star Wars: The New Star-Wars: Episode V: The Empire Strikes Back) (Rogue One)', '10-year-old girl was playing hide-and-seek with her friends. Two men approached her and asked her to come with them. When she refused, they followed her. One of the men told her that he would force her to go and grabbed her', \"Laura Bush's qualities she thinks make a good presidential candidate. The former first lady did not specify any candidate. It isn’t a criticism of Donald Trump, it’s a defense of Hillary Clinton, a spokesperson for the former first family denied.\", 'pizza. It’s worse than Romeo and Juliet. I can’t eat pizza no more. It ’s got cooked tomatoes on it which are bad for your throat and give you acid reflux. She also brought up a live impersonator on stage', '300 days of sunshine. The 300-days-of-sunshine thing is actually a myth. More than 200 breweries including 130 micro-breweries in Colorado. The Rocky Mountain Oysters. The Flatirons. The Gold Rush and Mining towns in Colorado', 'stash of $1,500,000, $1.5, $2, $3, $4, $6, $7, $8, $9, $10, $11, $12, $13, $14, $15, $16, $17, $18, $19', 'Tulsiram Manere, a 35-year-old man from Bhiwandi, Mumbai, has been arrested for allegedly raping two minor girls for the last six months. The two girls confided in their parents and told them about their sexual abuse', 'a talented Irish rower has died after falling in a freak accident. Ailish Sheehan, a 23-year-old post-graduate student at the University of London boat club. She fell suffering catastrophic injuries sheehan slipped into a coma.', '$50-cent tax hike. $17-per-pack cigarette tax. $1.17-a-pack per pack per pack. $3 million shortfall left by the lower tax increase. $7 million for the city. $2.5 million.', 'a french-fry french-fried french fry. The first 1000 days nourishing America’s future. The face of hunger and malnutrition in the U.S., the face of malnutrition in America, the \"scourge of malnutrition\" in the United States', \"Eatsa's automated restaurant chain in New York, New York's first east-coast location in midtown Manhattan. The restaurant's first East Coast location opened its first east coast location in new York on Wednesday. The food then mysteriously appears in a glass cubby\", 'the Marvel Cinematic Universe (MCU) or \"Marvel Effect\" The Marvel Effect (Mcu) or Marvel Universe (MU) (from Marvel Comics, Marvel Studios, Marvel Comics) (in three distinct phases) The Marvel effect (fromMarvel Studios, Mcu)', '$1.4 trillion in student debt. The cost of a college degree has increased 12fold in the last 30 years. $1.5 trillion in $2.4 TRILLION in $3.2 trillion in U.S. student loan debt.', 'menelik Watson of the Oakland Raiders (Oakland Raiders, Oakland Raiders, Raiders) Donated a weeks paycheck to the family of a 4-year-old with hypoplastic left heart syndrome (Hyplastic Left Heart Syndrome (HLES) The Oakland Raiders', 'Ana Ana, the healsniper. The kick-ass healsniper Ana’s mother. She is pharah ’S. mother and was part of a group very similar if not just an earlier incarnation of the overwatch team. Ana taught Pharah all she knows', 'pears are reportedly perfect with helping avoid the possibility of a hangover. The consumption of the fruit can help reduce alcohol levels significantly. Korean pear juice is the most effective and that the most significant impact it has seen is helping subjects under the influence increase their concentration levels', 'go-go dancer in Los Angeles. Blake Mciver was a child actor in the early 1990s. He came out as gay three years ago as a teenager. He struggled with bullying while attending a Christian high school that experience affected how he felt about himself.', 'twerking. twerking (that\\'s what it is). What is twerkerking (it\\'s what\\'s twerk). What\\'s the mostsearched people of 2013 (it was \"miley Cyrus\"). What\\'s your favorite person of 2013?', 'a great-big belly rub for Christmas. A great big belly rub. A big big belly Rub. A Great-Big Belly Rub. a Great-big Belly Rrub. A Big-Big Rummy. a Big-Belly R rub.', ' superior mesenteric artery syndrome (MSA) syndrome (Gastro-enteric Arteria Syndrome (GAH). The condition is so rare there are only 400 other reported cases per person per year. Lisa Brown, a former model, had a small intestine transplant', 'C cupping, an ancient therapy where heated cups are placed on the skin. The technique which is a form of acupuncture is done by lighting flammable liquid in a glass cup. The drop in temperature creates suction which sticks the cups to the body.', '\"I hope he does a very good job. That would be very very good.\" \"There will always be exceptions.\" \"I was happy to see that Donald Trump told the New York Times.\" \"That would be a terrific thing.\" \"You lead by example.\"', 'vievu Ap Apu Apu apu ap Apu APU apu Apua apu APu apua Apuapu Apova Apua Ap Apua AP ApuApua Apuaapua Apapuap Apu, Apapapap Ap Ap Apap Apua, Ap Ap Gemini Ap Apapa Ap Apova', \"retired police officer who carried a young girl to safety nearly 20 years ago was reunited with her during her college graduation. Nearly 20 years later, the two were reunited with each other at the college graduation of her college gradué. The girl's mother was reunited\", 'the tab was not placed there to keep those sticks together. The tab needs to be separated from the chopsticks and then it doubles up as a chopsticks holder. It should keep your table and chopsticks clean. It’s not meant to be broken apart', \"egg cartons and plastic ice cube trays. They're great organizational tools for jewelry cuff links and other trinkets and theyll easily fit inside your drawer. All-natural homemade cleaners get rid of any kind of stain on the planet. Organize like a whiz\", 'ren Buffett: If it aint broke, don\\'t fix it. Warren Buffett: Ben Bernanke\\'s done a \"tremendous job\" at the Federal Reserve. The billionaire investor and philanthropist appeared on CNBC\\'s Closing Bell Th Thursday to weigh in.', 'endocannabinoid 2ag is the chemical that increases the amount of pleasure you feel after you eat and is an endocannabinoids that also increases after the use of marijuana. It may be a reaction of the body that causes the hunger boost much like getting the munchies', '\"Breaking Bad: The Last Eight Episodes of \"Breaking Bad\"\"The Last Eight episodes of Breaking Bad\" on Feb. 24, 2014 on \"The Mindy Project\" on \"American Horror Story: Co-Starring \"Sauul\" on AMC.', 'Millennials are better at handling their money and talking about it with their partners. 74 of millennial couples talk about their money weekly. 49 of the millennial couples saying that they’re extremely happy with their soulmate awww. The fact that millennials are good at this', 'polymyalgia rheumatica (pumalgia) Rheumaticia (mueralgia) rhesia (rheumatic disease) or \"meningo rheumatitis\" or \"pumr\" (pulvis-meeroid arthritis)', 'plastic lids of starbucks cups. The standard Starbucks lid was designed to be used as a drink coaster. A chinese takeout dish folds out to a nice little plate. Some pens have a hole in the cap so you can breathe if swallowed a soda can', 'adopted a pet from your local RSPCA or animal shelter. Foster a pet or donate to your local rspca or shelter this holiday break. Adopt a pet, foster a dog or a cat or a dog. Adopted a dog, Foster a dog', 'a single european who lived around 6000 to 10,000 years ago and who first developed a specific mutation that accounts for the now widespread iris coloration. Every person with blue eyes is a descendent of a single early European. The identity of the initial mutant', 'spy-camera hooks are accessible and easy to purchase by criminals. The camera can record for 120 minutes continuously. The video camera can be set to manual or motion-activated recording. The small tech is affordable to buy for as low as $20 online.', \"’s’ ‘knock the hell’ out of the hell out of 'the hell' out of Donald Trump’S mouth’ — one word in a telephone interview with Hillary Clinton. The word ‘ethnic profiling’\", ' lime-green eye-hadow. Lime-green eyeshadow color. Romy Soleimani for beautycom.com achieved this at Lela Rose and Costello Tagliapietras spring 2014 shows. Lime green eye-shadow, \"cha-cha\"', \"Aaron Judge’s home-run home run record. Aaron Judge's 460-foot home run on Saturday in Pittsburgh. The New York Yankees' first game in the Yankees-Boston Red Sox rivalry. The Yankees' rivalry with the New York Rangers rivalry.\", 'pre processed foods are \"addictive,\" according to the Yale Food Addiction Scale. The answer is \"pizza.\" The crack cocaine among common meals is the \"hardest to resist.\" The \"harder to resist\" food is \"crisp cocaine.\"', 'an acoustic version of \"Adore You\" by Miley Cyrus. The acoustic version is a cut-off of her fourth studio album \"Bangerz,\" \"Adored You.\" The track is off of her \"bangerz\" album, \"Abrade You\"', 'perception of morality. A psychological shield against outside attacks as in oh you disagree with me well i won’t be swayed because i’m standing up for what’s right. A \"moral\" perspective on a political issue. A moral lens', 'colorectal cancer, bladder cancer, stomach cancer, pancreatic cancer and pancreatic and bladder cancer. People who consume a single corn dog daily have a 21 higher risk of developing colorecta cancer. Even organic hot dogs contain nitrites in even higher amounts', 'Guardians of the Galaxy: The Citizen Kane of movies other than Citizen Kane. The film is set to release the film on Aug. 1, 2014. It will also feature the voices of vin diesel as an alien tree named Groot and possibly Bradley Cooper.', \"rosemary (rosemary th century). The rosemary is an amazing antioxidant full of flavonoids. It's great for regulating the high blood pressure and for repairing digestive problems. Rosemary is not for oral use nor should it be given to children also pregnant women\", '\"A 1080 which was pretty low,\" says Scarlett Johansson. \"That was probably because i didnt answer half of the math questions,\" she added. \"I got a 1240 if you were a smartypants,\" says Johansson, \"which waspretty low\"', 'free ad-supported version of its play music all-access streaming service. The tech giant is hoping to better compete against music rivals Spotify and Pandora. The service will include two types of ads including a video preroll ad as well as banner ads marketers can buy ads', 'Intrepid, the USS Intrepid. The word \"intrepid\" is characterized by resolute fearlessness, fortitude and endurance. \"Intrepids\" also brings to mind a decommissioned aircraft carrier that saw service during World War II and Vietnam', \"in the mornings right after you wake up. Your small intestine and colon working overtime while you sleep. The best time of day to do number twos and to our surprise, it's in the mornings. Its do with yoursmall intestine and Colon working overtime.\", \"the number of black students at California's Los Angeles University of Los Angeles. Only 19 percent of the incoming men in the freshmen class only 19. percent of them were black. The number of African-American students at the University of L.A.'s Los Angeles\", '1.7 per cent or one in 14 million per year. The number is about $1.8 million annually. It’s much more dangerous to drive a child somewhere or walk with one across a parking lot than to leave a kid alone in a wellventilated car', \"’capture the pigeon’ mode.’ Capture The Pigeon’ game mode. ‘Capture the pigeon ’ mode’. ’Capture The Bird’ Mode. 'Capture the Bird' mode. 'Capturing the Pigeons' mode\", 'Hindi version of Baywatch: \"Chal na Katrina\" (Easy, easy Britney). In Hindi, Chopra can be heard saying \"chal na Katyrina\" in a hilarious scene. The movie is slated to release on May 25 this year', '\"Nobody does bad like the Ewings. Nobody Does Bad Like The Ewings\" (Nobody Does Bad like The East Wing) on February 24 at 9 p.m. on \"The Ewings\\' TNT has alerted fans that their favorite texas soap will return', '7 hours spent in deep sleep is the perfect amount to maintain reasonable insulin production and glucose levels. Less than seven hours has been proven to disrupt glucose metabolism in men and women. Over 39 million people living with diabetes in the UK – more than triple the amount since 1996', 'she said he’s a pussy. She said he ’ s a pussy, the crowd roared and Trump threw up his hands that ’s terrible. That’S terrible. She just said a terrible thing. That ’Sterling', \"died of neck compression asphyxia and strangulation. Lawrence Phillips, a former NFL player, was suspected in the death of 37-year-old Damion Soward. Phillips' death was a homicide by strangulation by neck compression Asphyxia.\", 'carrrer avinyó a gorgeous Barcelona apartment designed by David Kohn architects. The home has an open plan custom furniture and stunning restored molding. The triangle tiles are graded in color going from green to one side of the space to red at the other', 'Colin Quinn took to Twitter to apologize for the incident. \"I have used profanity when I was wrong,\" he tweeted. \"its all true. its all true,\" he later added. \"Its all true.\" \"Good move,\" he said. \"good move.\"', 'fossil farmer Jose Antonio Nievas made the find near a stream on his farm in Carlos Spegazzi, in Carlasso, Italy. The shell was partly covered in mud and dug around it to find out what it was.', 'two-out-of-five millennial shoppers have already started buying presents for the holiday season. Two-out of five millennial shoppers already started their holiday shopping. buying early does seem to be a budgeting tactic that a lot of millennials favor, according to the holiday consumer pulse survey', 'the lost and hidden city of Skara Brae, in the country of Orkney, Scotland. The city of skara brae is believed to be over 5000 years old. It is one of the oldest settlements ever recorded in Great Britain. The home was a waterproof basin', \"you never have to touch. You don't ever need to touch a gun. You never need to kill people and you don't have to shoot. You have to believe there is a solution. The most important part of making that work is that you have the solution\", 'pikaqiu (pika-qiu) in Cantonese, or \"jingling baokemeng\" (spirit or elf) in Mandarin (Jingling BaokeMeng in Mandarin) in Hong Kong and Taiwan. The name sounds similar to the global name', '$1 degrees celsius per century. The rate of change of earth’s life support system (including the atmosphere, oceans, waterway ice sheets, and other diverse limbs of the planet. The human magnitude of climate change looks more like a meteorite strike', \"diet sodas are at least as effective if not more so than water in losing weight. The American Beverage Association's membership of which includes many soft drink companies. Drinking the water after their meals had a larger average weight loss than those who stuck with the diet beverages\", '\"Captain Phillips\" by Paul Greengrass (Paul Greengrass\\' \"Captain Phillips,\" \"The Handmaid\\'s Tale,\" \"Titanic,\" \"Gravity,\" \"Star Wars,\" \"Dredd,\" \"Fantastic Four,\" and \"The Hobbit,\"', \"Rag in your car. Everybody must have one in their car. It can serve many purposes. Rags are often headed to the garbage so get yourself a good old rag and keep it in your vehicle you'll be glad you did. It's 100 free.\", '850 hits in the fbis nationwide database of dna profiles of possible suspects. Six of whom have been convicted since the city launched an effort in 2013 to test 6663 rape kits — some of which dated back nearly three decades. The results have now been uploaded to a database used', \"Melissa McCarthy's Elle cover part of the magazine's Women In Hollywood cover series. The magazine denied any ill-intent and said their choices for both photography and fashion styling were purely artistic do you agree with it? The magazine's stylists work with the stars\", 'the laughing face emoji was so unprofessional. It was never our intention to be disrespectful or upset her in any way. The texts were sent in error and were intended for our manager not the candidate. It’s quite clearly a mistake and a case of ‘ sending the text to the person', 'American Apparel\\'s latest clothing campaign. Chris Crocker\\'s new clothing campaign for the American Apparel campaign. The \"American Apparel\" campaign is the face of American Apparels\\' latest clothing collection. The campaign is \"a perfect fit,\" said crocker.', 'Minnesota will consider passing legislation to legalize the medical use of marijuana. The state House of Representatives would legalize the possession and use of up to 25 ounces of marijuana for people suffering from a range of medical conditions. Not a single agency has lent its support to the bill their opposition', \"two women asked another woman for directions hugged her and ended up stealing her jewelry. The women came up to the other in a blue ford focus and asked her for directions. The ford did a uturn and the women then went inside the women's car\", 'Cecily Strong will coanchor the \"Mock News\" segment with Seth Meyers. Noe\\'l Wells, Bennett, John Miller, Kyle Mooney, Mike Obrien and Brooks Wheelan will also join the cast of \"Saturday Night Live\"', \"Washington, D.C.'s Open Meetings Law. Arizona's Open Meeting Law. The plan would allow lawmakers to meet privately to negotiate and draft measures and would require them to have public debate only once a body takes an action such as a vote. The bill\", \"Springfield O.D., where Matt Groening is from than any other springfield. It’s closer to springfield, Oregon where matt groening's from. The team behind the simpsons could never actually reveal that but that was more or less an admission\", 'nearly a few days before her rescue, norah had given birth to nine tiny puppies. The united house of prayer in the courtyard of a nearby church safe inside the shrubs and bushes that’s right – of all the nearby places norah and her pups', \"Post-micturition convulsion syndrome (PVCS). Post-Micturion Convulsion Syndrome (PCS). It's a weird phenomenon that scientists refer to as 'post-pupil convulsion Syndrome' (PTSS).\", '\"I survived all this being gay.\" \"I lived with that for 50something years.\" \"Im gon na be me now\" \"I\\'m gay.\"\"I\\'m going to be me.\" \"That\\'s what I\\'m doing.\" \"It\\'s not a secret.\"', 'bullshitting. \"Bullshitting.\" \"bullshit.\" \"Bullish.\" and \"bullish.\"\"Bullish\" and \"shitty.\"\"bullish,\" \"bullshit,\" \"shitting,\" \"battling,\" \"bluffing.\"', 'Ardio Hall and George Lopez were the only late-night talk-show couches I was welcomed to. She also forgot to mention she had appeared on \"The Walking Dead\" She copped to the omissions but she noted that talking Dead a weekly show', 'florida (11) Florida (11). Texas (11), Texas (10). New York (4), New York City (4). Washington, D.C. (4.5). New Jersey (4) New York and New Haven (4, 4).', 'the time to ejaculation. The average time for each couple that is averaged across all the times they had sex ranged from 33 seconds to 44 minutes that’s an 80fold difference. 3-D-printed Dck pics. The Fitbit for Your Penis', 'white pepper (white flour, salt, pepper, dried mustard, paprika, garlic salt, ground ginger 3 tbsp white pepper, 2 cups white flour, 23 tbsp salt, 1 tbsp dried mustard 4 tbsp paprika 2 tbsp garlic salt 1 tbsp ground ginger, 3 tbsp', 'pow-over-the-boy\\'s G Spot. \"Bob as in bend-over boyfriend.\" \"No homo.\" \"Bend over boyfriend,\" \"bend-overboyfriend.\" \"Bob\" as in \"Bob-Over Boy.\" \"pow over boyfriend.\"', 'Hillary Clinton is the only choice this election season. Clinton is praised for her experience and knowledge. Clinton will focus as president on repairing an economy that has left many working people behind and struggling. She will address income inequality and wage stagnation and will work to create jobs', 'Republican elector in Texas says he won’t formally vote for Donald Trump. The president-elect lacks the foreign policy experience and demeanor needed to be commander-in-chief. Harvard law professor Larry Lessig will provide free counsel to electors who want to oppose Donald Trump', 'richard belzer is leaving Law Order: SVU as a series regular. The character of John Munch first made his debut on homicide life on the street in 1993. \"The writing is so good,\" Belzer told the Huffington post in May 2013']\n"
          ]
        }
      ],
      "source": [
        "stories_list =[]\n",
        "for i in range(len(summaries_after_tuning_all)):\n",
        "  for j in range(len(summaries_after_tuning_all[i])):\n",
        "    summary=summaries_after_tuning_all[i][j]\n",
        "    stories_list.append(summary)\n",
        "\n",
        "\n",
        "print(stories_list)"
      ]
    },
    {
      "cell_type": "code",
      "execution_count": null,
      "metadata": {
        "id": "35MuZZjFpT4d"
      },
      "outputs": [],
      "source": [
        "# type(new_df['spoiler'][0:40])"
      ]
    },
    {
      "cell_type": "code",
      "execution_count": null,
      "metadata": {
        "colab": {
          "base_uri": "https://localhost:8080/"
        },
        "id": "WaSDcv4ephYQ",
        "outputId": "2c3e1424-4143-4553-ab32-4d047f588b1e"
      },
      "outputs": [
        {
          "output_type": "execute_result",
          "data": {
            "text/plain": [
              "list"
            ]
          },
          "metadata": {},
          "execution_count": 78
        }
      ],
      "source": [
        "# type(stories_list[0:40])"
      ]
    },
    {
      "cell_type": "code",
      "execution_count": null,
      "metadata": {
        "id": "8f9AEznGqHyB"
      },
      "outputs": [],
      "source": [
        "# stories_list_series = pd.Series((v for v in stories_list))"
      ]
    },
    {
      "cell_type": "code",
      "execution_count": 68,
      "metadata": {
        "id": "j88CtOyzeSib"
      },
      "outputs": [],
      "source": [
        "import pandas as pd"
      ]
    },
    {
      "cell_type": "code",
      "source": [
        "test_dataset_processed"
      ],
      "metadata": {
        "colab": {
          "base_uri": "https://localhost:8080/"
        },
        "id": "aqfFMmbmlqzj",
        "outputId": "27dd349c-46c8-4372-8973-c271e2e3a6d9"
      },
      "execution_count": 69,
      "outputs": [
        {
          "output_type": "execute_result",
          "data": {
            "text/plain": [
              "Dataset({\n",
              "    features: ['input_ids', 'labels'],\n",
              "    num_rows: 335\n",
              "})"
            ]
          },
          "metadata": {},
          "execution_count": 69
        }
      ]
    },
    {
      "cell_type": "code",
      "execution_count": 70,
      "metadata": {
        "id": "o8TxErV3nmGG"
      },
      "outputs": [],
      "source": [
        "dataframe = pd.DataFrame({ 'postText': new_df_validation[\"postText\"], 'actual_spoiler':test_dataset['labels'], 'gen_spoiler':stories_list })"
      ]
    },
    {
      "cell_type": "code",
      "source": [
        "dataframe"
      ],
      "metadata": {
        "colab": {
          "base_uri": "https://localhost:8080/",
          "height": 424
        },
        "id": "9U7d2Myn4M0Q",
        "outputId": "eddf04ab-b5aa-4f8b-8bdb-ad078b51e573"
      },
      "execution_count": 71,
      "outputs": [
        {
          "output_type": "execute_result",
          "data": {
            "text/plain": [
              "                                              postText  \\\n",
              "2    here ’ s how much you should be tipping your h...   \n",
              "5    this popular soda could cure your hangovers sc...   \n",
              "6    the anytime snack you wont feel guilty about e...   \n",
              "11          guess who obama just dined with in vietnam   \n",
              "15   what are mosquitocontrol workers spraying in m...   \n",
              "..                                                 ...   \n",
              "786  kfc ’ s secret ingredient is the most underapp...   \n",
              "787  sex experts think that more straight men are e...   \n",
              "791  both campaigns stunned after houston chronicle...   \n",
              "796  this texas gop elector announces that he wont ...   \n",
              "799  original law amp order svu cast member leaving...   \n",
              "\n",
              "                         actual_spoiler  \\\n",
              "2                                   20%   \n",
              "5                                Sprite   \n",
              "6    Smoky Paprika-Baked Garbanzo Beans   \n",
              "11                     Anthony Bourdain   \n",
              "15                               Dibrom   \n",
              "..                                  ...   \n",
              "786                        white pepper   \n",
              "787                            anal sex   \n",
              "791                     Hillary Clinton   \n",
              "796                  Christopher Suprun   \n",
              "799                      Richard Belzer   \n",
              "\n",
              "                                           gen_spoiler  \n",
              "2    $5 to $5.20. $15 to $15.50. $10 to $10. $11 to...  \n",
              "5    spice (Xue Bi) known in China as Xue Bi and a ...  \n",
              "6    Smoky Paprikabaked Garbanzo beans recipe creat...  \n",
              "11   Anthony Bourdain's \"Parts Unknown: Parts Unkno...  \n",
              "15   dibrom is the main ingredient of the insectici...  \n",
              "..                                                 ...  \n",
              "786  white pepper (white flour, salt, pepper, dried...  \n",
              "787  pow-over-the-boy's G Spot. \"Bob as in bend-ove...  \n",
              "791  Hillary Clinton is the only choice this electi...  \n",
              "796  Republican elector in Texas says he won’t form...  \n",
              "799  richard belzer is leaving Law Order: SVU as a ...  \n",
              "\n",
              "[335 rows x 3 columns]"
            ],
            "text/html": [
              "\n",
              "  <div id=\"df-3fb4ba87-6fd9-46f1-a2b6-3f87fc3884c5\">\n",
              "    <div class=\"colab-df-container\">\n",
              "      <div>\n",
              "<style scoped>\n",
              "    .dataframe tbody tr th:only-of-type {\n",
              "        vertical-align: middle;\n",
              "    }\n",
              "\n",
              "    .dataframe tbody tr th {\n",
              "        vertical-align: top;\n",
              "    }\n",
              "\n",
              "    .dataframe thead th {\n",
              "        text-align: right;\n",
              "    }\n",
              "</style>\n",
              "<table border=\"1\" class=\"dataframe\">\n",
              "  <thead>\n",
              "    <tr style=\"text-align: right;\">\n",
              "      <th></th>\n",
              "      <th>postText</th>\n",
              "      <th>actual_spoiler</th>\n",
              "      <th>gen_spoiler</th>\n",
              "    </tr>\n",
              "  </thead>\n",
              "  <tbody>\n",
              "    <tr>\n",
              "      <th>2</th>\n",
              "      <td>here ’ s how much you should be tipping your h...</td>\n",
              "      <td>20%</td>\n",
              "      <td>$5 to $5.20. $15 to $15.50. $10 to $10. $11 to...</td>\n",
              "    </tr>\n",
              "    <tr>\n",
              "      <th>5</th>\n",
              "      <td>this popular soda could cure your hangovers sc...</td>\n",
              "      <td>Sprite</td>\n",
              "      <td>spice (Xue Bi) known in China as Xue Bi and a ...</td>\n",
              "    </tr>\n",
              "    <tr>\n",
              "      <th>6</th>\n",
              "      <td>the anytime snack you wont feel guilty about e...</td>\n",
              "      <td>Smoky Paprika-Baked Garbanzo Beans</td>\n",
              "      <td>Smoky Paprikabaked Garbanzo beans recipe creat...</td>\n",
              "    </tr>\n",
              "    <tr>\n",
              "      <th>11</th>\n",
              "      <td>guess who obama just dined with in vietnam</td>\n",
              "      <td>Anthony Bourdain</td>\n",
              "      <td>Anthony Bourdain's \"Parts Unknown: Parts Unkno...</td>\n",
              "    </tr>\n",
              "    <tr>\n",
              "      <th>15</th>\n",
              "      <td>what are mosquitocontrol workers spraying in m...</td>\n",
              "      <td>Dibrom</td>\n",
              "      <td>dibrom is the main ingredient of the insectici...</td>\n",
              "    </tr>\n",
              "    <tr>\n",
              "      <th>...</th>\n",
              "      <td>...</td>\n",
              "      <td>...</td>\n",
              "      <td>...</td>\n",
              "    </tr>\n",
              "    <tr>\n",
              "      <th>786</th>\n",
              "      <td>kfc ’ s secret ingredient is the most underapp...</td>\n",
              "      <td>white pepper</td>\n",
              "      <td>white pepper (white flour, salt, pepper, dried...</td>\n",
              "    </tr>\n",
              "    <tr>\n",
              "      <th>787</th>\n",
              "      <td>sex experts think that more straight men are e...</td>\n",
              "      <td>anal sex</td>\n",
              "      <td>pow-over-the-boy's G Spot. \"Bob as in bend-ove...</td>\n",
              "    </tr>\n",
              "    <tr>\n",
              "      <th>791</th>\n",
              "      <td>both campaigns stunned after houston chronicle...</td>\n",
              "      <td>Hillary Clinton</td>\n",
              "      <td>Hillary Clinton is the only choice this electi...</td>\n",
              "    </tr>\n",
              "    <tr>\n",
              "      <th>796</th>\n",
              "      <td>this texas gop elector announces that he wont ...</td>\n",
              "      <td>Christopher Suprun</td>\n",
              "      <td>Republican elector in Texas says he won’t form...</td>\n",
              "    </tr>\n",
              "    <tr>\n",
              "      <th>799</th>\n",
              "      <td>original law amp order svu cast member leaving...</td>\n",
              "      <td>Richard Belzer</td>\n",
              "      <td>richard belzer is leaving Law Order: SVU as a ...</td>\n",
              "    </tr>\n",
              "  </tbody>\n",
              "</table>\n",
              "<p>335 rows × 3 columns</p>\n",
              "</div>\n",
              "      <button class=\"colab-df-convert\" onclick=\"convertToInteractive('df-3fb4ba87-6fd9-46f1-a2b6-3f87fc3884c5')\"\n",
              "              title=\"Convert this dataframe to an interactive table.\"\n",
              "              style=\"display:none;\">\n",
              "        \n",
              "  <svg xmlns=\"http://www.w3.org/2000/svg\" height=\"24px\"viewBox=\"0 0 24 24\"\n",
              "       width=\"24px\">\n",
              "    <path d=\"M0 0h24v24H0V0z\" fill=\"none\"/>\n",
              "    <path d=\"M18.56 5.44l.94 2.06.94-2.06 2.06-.94-2.06-.94-.94-2.06-.94 2.06-2.06.94zm-11 1L8.5 8.5l.94-2.06 2.06-.94-2.06-.94L8.5 2.5l-.94 2.06-2.06.94zm10 10l.94 2.06.94-2.06 2.06-.94-2.06-.94-.94-2.06-.94 2.06-2.06.94z\"/><path d=\"M17.41 7.96l-1.37-1.37c-.4-.4-.92-.59-1.43-.59-.52 0-1.04.2-1.43.59L10.3 9.45l-7.72 7.72c-.78.78-.78 2.05 0 2.83L4 21.41c.39.39.9.59 1.41.59.51 0 1.02-.2 1.41-.59l7.78-7.78 2.81-2.81c.8-.78.8-2.07 0-2.86zM5.41 20L4 18.59l7.72-7.72 1.47 1.35L5.41 20z\"/>\n",
              "  </svg>\n",
              "      </button>\n",
              "      \n",
              "  <style>\n",
              "    .colab-df-container {\n",
              "      display:flex;\n",
              "      flex-wrap:wrap;\n",
              "      gap: 12px;\n",
              "    }\n",
              "\n",
              "    .colab-df-convert {\n",
              "      background-color: #E8F0FE;\n",
              "      border: none;\n",
              "      border-radius: 50%;\n",
              "      cursor: pointer;\n",
              "      display: none;\n",
              "      fill: #1967D2;\n",
              "      height: 32px;\n",
              "      padding: 0 0 0 0;\n",
              "      width: 32px;\n",
              "    }\n",
              "\n",
              "    .colab-df-convert:hover {\n",
              "      background-color: #E2EBFA;\n",
              "      box-shadow: 0px 1px 2px rgba(60, 64, 67, 0.3), 0px 1px 3px 1px rgba(60, 64, 67, 0.15);\n",
              "      fill: #174EA6;\n",
              "    }\n",
              "\n",
              "    [theme=dark] .colab-df-convert {\n",
              "      background-color: #3B4455;\n",
              "      fill: #D2E3FC;\n",
              "    }\n",
              "\n",
              "    [theme=dark] .colab-df-convert:hover {\n",
              "      background-color: #434B5C;\n",
              "      box-shadow: 0px 1px 3px 1px rgba(0, 0, 0, 0.15);\n",
              "      filter: drop-shadow(0px 1px 2px rgba(0, 0, 0, 0.3));\n",
              "      fill: #FFFFFF;\n",
              "    }\n",
              "  </style>\n",
              "\n",
              "      <script>\n",
              "        const buttonEl =\n",
              "          document.querySelector('#df-3fb4ba87-6fd9-46f1-a2b6-3f87fc3884c5 button.colab-df-convert');\n",
              "        buttonEl.style.display =\n",
              "          google.colab.kernel.accessAllowed ? 'block' : 'none';\n",
              "\n",
              "        async function convertToInteractive(key) {\n",
              "          const element = document.querySelector('#df-3fb4ba87-6fd9-46f1-a2b6-3f87fc3884c5');\n",
              "          const dataTable =\n",
              "            await google.colab.kernel.invokeFunction('convertToInteractive',\n",
              "                                                     [key], {});\n",
              "          if (!dataTable) return;\n",
              "\n",
              "          const docLinkHtml = 'Like what you see? Visit the ' +\n",
              "            '<a target=\"_blank\" href=https://colab.research.google.com/notebooks/data_table.ipynb>data table notebook</a>'\n",
              "            + ' to learn more about interactive tables.';\n",
              "          element.innerHTML = '';\n",
              "          dataTable['output_type'] = 'display_data';\n",
              "          await google.colab.output.renderOutput(dataTable, element);\n",
              "          const docLink = document.createElement('div');\n",
              "          docLink.innerHTML = docLinkHtml;\n",
              "          element.appendChild(docLink);\n",
              "        }\n",
              "      </script>\n",
              "    </div>\n",
              "  </div>\n",
              "  "
            ]
          },
          "metadata": {},
          "execution_count": 71
        }
      ]
    },
    {
      "cell_type": "code",
      "source": [
        "file = open(\"Bart_conditional_finetuning_no_tags_passage_results.txt\", \"w\")\n",
        "\n",
        "#convert variable to string\n",
        "# str_1 = repr(dataframe)\n",
        "str2 = dataframe.to_json()\n",
        "file.write(\"Bart_conditional_finetuning_no_tags_passage_results = \" + str2 + \"\\n\")\n",
        "\n",
        "#close file\n",
        "file.close()"
      ],
      "metadata": {
        "id": "Rb7HXIC1nGpp"
      },
      "execution_count": 72,
      "outputs": []
    },
    {
      "cell_type": "code",
      "execution_count": 73,
      "metadata": {
        "colab": {
          "base_uri": "https://localhost:8080/",
          "height": 462
        },
        "id": "wp_1IvZMVpNS",
        "outputId": "19493b57-904d-4a79-9585-cd168c3ab988"
      },
      "outputs": [
        {
          "output_type": "display_data",
          "data": {
            "text/plain": [
              "<IPython.core.display.HTML object>"
            ],
            "text/html": [
              "Waiting for W&B process to finish... <strong style=\"color:green\">(success).</strong>"
            ]
          },
          "metadata": {}
        },
        {
          "output_type": "display_data",
          "data": {
            "text/plain": [
              "<IPython.core.display.HTML object>"
            ],
            "text/html": [
              "<style>\n",
              "    table.wandb td:nth-child(1) { padding: 0 10px; text-align: left ; width: auto;} td:nth-child(2) {text-align: left ; width: 100%}\n",
              "    .wandb-row { display: flex; flex-direction: row; flex-wrap: wrap; justify-content: flex-start; width: 100% }\n",
              "    .wandb-col { display: flex; flex-direction: column; flex-basis: 100%; flex: 1; padding: 10px; }\n",
              "    </style>\n",
              "<div class=\"wandb-row\"><div class=\"wandb-col\"><h3>Run history:</h3><br/><table class=\"wandb\"><tr><td>eval/loss</td><td>▁</td></tr><tr><td>eval/runtime</td><td>▁</td></tr><tr><td>eval/samples_per_second</td><td>▁</td></tr><tr><td>eval/steps_per_second</td><td>▁</td></tr><tr><td>train/epoch</td><td>▁██</td></tr><tr><td>train/global_step</td><td>▁██</td></tr><tr><td>train/learning_rate</td><td>▁</td></tr><tr><td>train/loss</td><td>▁</td></tr><tr><td>train/total_flos</td><td>▁</td></tr><tr><td>train/train_loss</td><td>▁</td></tr><tr><td>train/train_runtime</td><td>▁</td></tr><tr><td>train/train_samples_per_second</td><td>▁</td></tr><tr><td>train/train_steps_per_second</td><td>▁</td></tr></table><br/></div><div class=\"wandb-col\"><h3>Run summary:</h3><br/><table class=\"wandb\"><tr><td>eval/loss</td><td>0.02019</td></tr><tr><td>eval/runtime</td><td>31.1326</td></tr><tr><td>eval/samples_per_second</td><td>10.76</td></tr><tr><td>eval/steps_per_second</td><td>5.396</td></tr><tr><td>train/epoch</td><td>1.0</td></tr><tr><td>train/global_step</td><td>684</td></tr><tr><td>train/learning_rate</td><td>1e-05</td></tr><tr><td>train/loss</td><td>0.4123</td></tr><tr><td>train/total_flos</td><td>2892999991296000.0</td></tr><tr><td>train/train_loss</td><td>0.30639</td></tr><tr><td>train/train_runtime</td><td>508.2155</td></tr><tr><td>train/train_samples_per_second</td><td>2.69</td></tr><tr><td>train/train_steps_per_second</td><td>1.346</td></tr></table><br/></div></div>"
            ]
          },
          "metadata": {}
        },
        {
          "output_type": "display_data",
          "data": {
            "text/plain": [
              "<IPython.core.display.HTML object>"
            ],
            "text/html": [
              " View run <strong style=\"color:#cdcd00\">gallant-water-17</strong> at: <a href='https://wandb.ai/evapradhan/clickbait_spoiling/runs/twi1f31i' target=\"_blank\">https://wandb.ai/evapradhan/clickbait_spoiling/runs/twi1f31i</a><br/>Synced 5 W&B file(s), 0 media file(s), 0 artifact file(s) and 0 other file(s)"
            ]
          },
          "metadata": {}
        },
        {
          "output_type": "display_data",
          "data": {
            "text/plain": [
              "<IPython.core.display.HTML object>"
            ],
            "text/html": [
              "Find logs at: <code>./wandb/run-20230513_061908-twi1f31i/logs</code>"
            ]
          },
          "metadata": {}
        }
      ],
      "source": [
        "if WANDB_INTEGRATION:\n",
        "    wandb_run.finish()"
      ]
    },
    {
      "cell_type": "code",
      "execution_count": null,
      "metadata": {
        "id": "Y9gvbz_5sdSi"
      },
      "outputs": [],
      "source": [
        "#EVALUATION METRICS"
      ]
    },
    {
      "cell_type": "code",
      "execution_count": 74,
      "metadata": {
        "id": "J8IxnZIwq2DG"
      },
      "outputs": [],
      "source": [
        "import nltk\n",
        "import nltk.translate.bleu_score as bleu\n",
        "\n",
        "import math\n",
        "import numpy\n",
        "import os\n",
        "\n",
        "try:\n",
        "  nltk.data.find('tokenizers/punkt')\n",
        "except LookupError:\n",
        "  nltk.download('punkt')"
      ]
    },
    {
      "cell_type": "code",
      "execution_count": 75,
      "metadata": {
        "id": "1-BJQjBDq194"
      },
      "outputs": [],
      "source": [
        "bleu_scores = []\n",
        "for i in range(len(dataframe)):\n",
        "# for data_results in dataframe[0]:\n",
        "  score_ref = bleu.sentence_bleu([dataframe.iloc[i][\"gen_spoiler\"]], dataframe.iloc[i][\"actual_spoiler\"])\n",
        "  bleu_scores.append(score_ref)\n",
        "\n"
      ]
    },
    {
      "cell_type": "code",
      "execution_count": 76,
      "metadata": {
        "colab": {
          "base_uri": "https://localhost:8080/"
        },
        "id": "jUK0xXhTq17U",
        "outputId": "5187a721-a795-4fd7-8cb4-fcbc56393ecf"
      },
      "outputs": [
        {
          "output_type": "execute_result",
          "data": {
            "text/plain": [
              "[3.783634457418848e-169,\n",
              " 2.3508617505376047e-93,\n",
              " 0.007992374663289807,\n",
              " 2.2380291861018046e-07,\n",
              " 1.4068617124461467e-16,\n",
              " 5.940161210001865e-07,\n",
              " 4.350233372865066e-235,\n",
              " 6.336279136787687e-07,\n",
              " 2.1984330034815726e-12,\n",
              " 2.3151673829918486e-81,\n",
              " 2.0166323854740151e-07,\n",
              " 1.5028402557870777e-10,\n",
              " 2.8765716054864506e-09,\n",
              " 1.6020095313795006e-05,\n",
              " 4.160547049189627e-233,\n",
              " 6.2012617772815256e-164,\n",
              " 1.929095032017237e-06,\n",
              " 3.21618335351757e-171,\n",
              " 5.3435487982440275e-83,\n",
              " 1.243268542472983e-84,\n",
              " 6.914400106940203e-13,\n",
              " 7.0418730592004885e-06,\n",
              " 0.002126957675836917,\n",
              " 3.387965157330672e-235,\n",
              " 5.156127175590487e-159,\n",
              " 7.385191003878673e-05,\n",
              " 2.676192440375444e-89,\n",
              " 3.0559546576528915e-06,\n",
              " 4.5990553786523166e-10,\n",
              " 2.0067804543947087e-18,\n",
              " 4.0668061781426315e-14,\n",
              " 4.511883204329463e-253,\n",
              " 4.75653175462315e-08,\n",
              " 1.522997974471263e-08,\n",
              " 6.097050543293367e-07,\n",
              " 2.4299290540254598e-09,\n",
              " 2.0133300416798463e-161,\n",
              " 4.658886145103398e-15,\n",
              " 1.1875336599260133e-18,\n",
              " 4.389913976362098e-06,\n",
              " 0.00036461568873027354,\n",
              " 3.2178327463104054e-10,\n",
              " 0.00014622376027933928,\n",
              " 2.1211107302006365e-05,\n",
              " 1.8266778339886237e-08,\n",
              " 0.0005596282059002206,\n",
              " 4.5251437597088174e-05,\n",
              " 0.0003911727351983174,\n",
              " 5.777748519419133e-08,\n",
              " 1.4359208642495215e-168,\n",
              " 8.46028106154097e-06,\n",
              " 1.7992095159149157e-08,\n",
              " 3.8729406535193856e-08,\n",
              " 2.697394939650729e-13,\n",
              " 6.944778496197355e-160,\n",
              " 3.2887598813664843e-06,\n",
              " 0.00016455228441980186,\n",
              " 2.7894680928689246e-10,\n",
              " 8.90467724183105e-12,\n",
              " 4.850443470889293e-87,\n",
              " 3.806729993496039e-05,\n",
              " 1.9088084541069123e-95,\n",
              " 8.111916545882235e-14,\n",
              " 4.606459112818188e-86,\n",
              " 2.6572185404735118e-17,\n",
              " 6.14421235332821e-06,\n",
              " 1.4208875912028555e-06,\n",
              " 1.9133275352423027e-06,\n",
              " 2.9783262686202286e-16,\n",
              " 0.000289017873621542,\n",
              " 3.892779019492241e-05,\n",
              " 8.522098594472012e-09,\n",
              " 0.0020982184180809026,\n",
              " 1.4327984261355188e-09,\n",
              " 2.4698028418720535e-159,\n",
              " 3.215292970249106e-160,\n",
              " 4.513101178091734e-07,\n",
              " 2.4039470503666594e-09,\n",
              " 0,\n",
              " 3.3984755275553054e-161,\n",
              " 0.0020049799623354245,\n",
              " 1.026187963170189e-10,\n",
              " 8.89816895406027e-12,\n",
              " 5.4379818940425215e-08,\n",
              " 4.311720823799041e-06,\n",
              " 1.950273750736645e-170,\n",
              " 0.0006776141412876042,\n",
              " 0.0003869779446438603,\n",
              " 3.374885804015305e-16,\n",
              " 0.0008562133283901966,\n",
              " 8.364834722972752e-05,\n",
              " 1.712530028495368e-06,\n",
              " 0.00014171673215331224,\n",
              " 8.843626974946238e-10,\n",
              " 2.6262143429764754e-08,\n",
              " 5.8786990388897536e-05,\n",
              " 2.3206713024402495e-88,\n",
              " 1.3311714858385644e-172,\n",
              " 1.660963932152531e-05,\n",
              " 1.6586783589142312e-12,\n",
              " 1.0930484059659249e-84,\n",
              " 4.6474188141809223e-169,\n",
              " 4.5399929762484854e-05,\n",
              " 1.5308925478794762e-10,\n",
              " 2.1450319652834252e-08,\n",
              " 3.168766620744749e-08,\n",
              " 2.140314527744527e-07,\n",
              " 1.713908431542013e-15,\n",
              " 2.034494530477755e-06,\n",
              " 0.0003801289578694637,\n",
              " 0.00011268558050780067,\n",
              " 5.406615421464107e-10,\n",
              " 2.0492195040533603e-18,\n",
              " 5.698472703847504e-05,\n",
              " 1.709088479382141e-17,\n",
              " 8.96838434236877e-08,\n",
              " 9.533286301624373e-06,\n",
              " 1.24916168002703e-05,\n",
              " 0.00046674513510517555,\n",
              " 7.582560427911907e-10,\n",
              " 7.784997645870995e-07,\n",
              " 1.3373676515074921e-05,\n",
              " 3.757025731465231e-158,\n",
              " 9.697611226337053e-08,\n",
              " 2.646573638909117e-09,\n",
              " 0.00011272248871860151,\n",
              " 6.431393941452e-14,\n",
              " 7.530388099325974e-17,\n",
              " 2.012882297794868e-83,\n",
              " 9.525896880722498e-08,\n",
              " 4.720064806611235e-175,\n",
              " 2.7894680928689246e-10,\n",
              " 1.5468046731460673e-14,\n",
              " 4.182441526842216e-06,\n",
              " 3.5010471490682583e-15,\n",
              " 1.8426252147235624e-14,\n",
              " 1.4144237627411825e-161,\n",
              " 1.2015425731771786e-13,\n",
              " 6.325045555283484e-162,\n",
              " 4.5399929762484854e-05,\n",
              " 2.6557481320094253e-07,\n",
              " 7.323867021354555e-07,\n",
              " 1.6167151159901144e-10,\n",
              " 1.9281426642283721e-07,\n",
              " 0.0021302516695650415,\n",
              " 8.923680720542324e-84,\n",
              " 5.082742255105933e-10,\n",
              " 1.198188738670599e-08,\n",
              " 3.175351749131675e-169,\n",
              " 2.6987847041536534e-06,\n",
              " 2.026671981316515e-08,\n",
              " 2.0992646207156864e-17,\n",
              " 7.038738644428715e-07,\n",
              " 1.7257827987960214e-08,\n",
              " 6.605650802868481e-05,\n",
              " 6.512070641383301e-06,\n",
              " 5.508712584156696e-07,\n",
              " 7.448615338933334e-16,\n",
              " 2.6033430809440555e-81,\n",
              " 4.3371281732200726e-26,\n",
              " 5.710173703453547e-85,\n",
              " 4.139937718785167e-08,\n",
              " 3.0580943827857664e-06,\n",
              " 1.917171513758312e-10,\n",
              " 5.214425838409324e-07,\n",
              " 0.0004085523815628603,\n",
              " 1.9410340823467627e-12,\n",
              " 4.993632297081057e-05,\n",
              " 0.0012134524541956588,\n",
              " 2.6497517300585633e-07,\n",
              " 7.1553775684541935e-06,\n",
              " 1.014213429974657e-245,\n",
              " 1.5209651703603413e-11,\n",
              " 0.010479934462956936,\n",
              " 1.713908431542013e-15,\n",
              " 2.945883270152518e-09,\n",
              " 5.334954179373877e-86,\n",
              " 2.3273612235377073e-236,\n",
              " 0.0006092506568770149,\n",
              " 2.562680208947805e-08,\n",
              " 1.7777257985371437e-85,\n",
              " 0.00024013668592286948,\n",
              " 2.782387308703942e-06,\n",
              " 2.5414199895141027e-32,\n",
              " 2.4218492674359e-08,\n",
              " 4.3720784247076433e-07,\n",
              " 9.73109053569454e-09,\n",
              " 2.681345457392583e-164,\n",
              " 0.00025991028517616905,\n",
              " 1.8389307034669378e-10,\n",
              " 7.87377712397776e-08,\n",
              " 3.392749329735844e-08,\n",
              " 2.4234822243229486e-07,\n",
              " 1.7312503468457492e-06,\n",
              " 6.0213231341465565e-164,\n",
              " 0.00012426597724185336,\n",
              " 1.3163071823128309e-05,\n",
              " 5.341973995106295e-05,\n",
              " 1.349742499001507e-07,\n",
              " 4.461189644052274e-13,\n",
              " 0.00041692312918019576,\n",
              " 0.00010042673186939516,\n",
              " 1.5308925478794762e-10,\n",
              " 1.31463297873649e-88,\n",
              " 0.0007663182201559527,\n",
              " 3.062138741333405e-87,\n",
              " 3.0147407705299194e-161,\n",
              " 6.402324060085812e-05,\n",
              " 0.00025411323012574884,\n",
              " 0.0009118819655545162,\n",
              " 7.422850658406366e-05,\n",
              " 3.6807478514441796e-06,\n",
              " 0.00019757115407554693,\n",
              " 4.139937718785167e-08,\n",
              " 4.080243261057841e-08,\n",
              " 1.026187963170189e-10,\n",
              " 1.0010900316948172e-17,\n",
              " 9.678751507536717e-16,\n",
              " 1.6875298575085319e-09,\n",
              " 0.00014242151411375862,\n",
              " 4.1611353539133457e-07,\n",
              " 0.003164543926920202,\n",
              " 8.443555025782398e-05,\n",
              " 4.2991336434769077e-14,\n",
              " 4.402342296566921e-10,\n",
              " 8.533047625744066e-17,\n",
              " 2.9011099247899847e-10,\n",
              " 2.6969171257626814e-08,\n",
              " 1.8165408306994465e-06,\n",
              " 3.581747930283181e-10,\n",
              " 0.0005844576921475634,\n",
              " 1.7317228272655536e-19,\n",
              " 1.2959690552040961e-80,\n",
              " 2.0948670204405826e-208,\n",
              " 6.986268508675704e-17,\n",
              " 8.887163477861965e-05,\n",
              " 4.058652126475693e-10,\n",
              " 1.8463271484531425e-18,\n",
              " 6.033586816471099e-81,\n",
              " 0.00041077818521080664,\n",
              " 0.0003494162580778078,\n",
              " 1.4068617124461467e-16,\n",
              " 0.00012393306608895794,\n",
              " 9.226899127953456e-05,\n",
              " 5.909946868992592e-84,\n",
              " 7.602187409607351e-11,\n",
              " 1.6831989086960759e-06,\n",
              " 2.667848289214355e-08,\n",
              " 6.645087407292797e-05,\n",
              " 5.631838950074272e-11,\n",
              " 5.188951605054656e-18,\n",
              " 1.6586783589142312e-12,\n",
              " 3.7462260301293496e-240,\n",
              " 1.515144112143249e-06,\n",
              " 1.221690100204438e-12,\n",
              " 7.071971213991908e-165,\n",
              " 5.6172989244173e-10,\n",
              " 2.109924877406645e-173,\n",
              " 1.0130784467342193e-237,\n",
              " 5.81794428060355e-10,\n",
              " 1.7057034252849826e-07,\n",
              " 0.0011050966921983846,\n",
              " 2.0437745973900062e-08,\n",
              " 2.113960600710205e-09,\n",
              " 0.003961460426205212,\n",
              " 0.0011570232199107698,\n",
              " 1.2533888086068347e-10,\n",
              " 1.9771047710824505e-15,\n",
              " 0.004196605043835479,\n",
              " 1.3345621105458171e-166,\n",
              " 7.865924655039342e-07,\n",
              " 2.2603294069810542e-06,\n",
              " 0.00016153814830681444,\n",
              " 2.125514896553039e-08,\n",
              " 1.205908674734386e-07,\n",
              " 3.328260141283834e-12,\n",
              " 8.838762883939933e-06,\n",
              " 0.0035658114462362553,\n",
              " 3.833421195598323e-08,\n",
              " 9.454886273886542e-18,\n",
              " 0.0005686670618359641,\n",
              " 3.5083618803865646e-11,\n",
              " 1.587070757274202e-166,\n",
              " 1.6831730696737596e-08,\n",
              " 3.2472591156495077e-09,\n",
              " 4.7073106932836765e-19,\n",
              " 0.0018474579475291442,\n",
              " 1.4178147344894645e-19,\n",
              " 1.367390948223597e-14,\n",
              " 9.41000893712181e-87,\n",
              " 1.626111044617819e-14,\n",
              " 3.0075458893524786e-96,\n",
              " 8.215018907827353e-251,\n",
              " 8.878265478459658e-13,\n",
              " 7.936770971650464e-08,\n",
              " 0.0023042695798696695,\n",
              " 4.261949291115056e-164,\n",
              " 0.0002420062238715039,\n",
              " 4.917337999126035e-06,\n",
              " 0.0001357409993116164,\n",
              " 8.049150601115892e-12,\n",
              " 1.713908431542013e-15,\n",
              " 4.317037406623192e-06,\n",
              " 4.831732705130863e-09,\n",
              " 1.522997974471263e-08,\n",
              " 3.442477108469977e-14,\n",
              " 6.102965258320194e-253,\n",
              " 0.0025527393658642925,\n",
              " 6.13011459665861e-09,\n",
              " 7.32010902699351e-12,\n",
              " 1.4507706333108987e-07,\n",
              " 3.2047283380175723e-25,\n",
              " 0.00013791280933656192,\n",
              " 1.453612422762751e-08,\n",
              " 1.9930217902847726e-171,\n",
              " 1.025282000127994e-29,\n",
              " 1.3353517876541115e-06,\n",
              " 6.534605583589412e-09,\n",
              " 1.3723905863101724e-15,\n",
              " 1.670170079024566e-05,\n",
              " 7.129559826538612e-07,\n",
              " 9.678751507536717e-16,\n",
              " 1.04002136316167e-05,\n",
              " 8.164295142395187e-05,\n",
              " 0.025569469447192815,\n",
              " 2.094668882135333e-83,\n",
              " 1.1967291556046007e-05,\n",
              " 1.6174620501739172e-159,\n",
              " 8.74697628131604e-10,\n",
              " 0.0012873461679186026,\n",
              " 1.2891899524353445e-08,\n",
              " 5.084455282074801e-240,\n",
              " 3.7556667659383025e-09,\n",
              " 5.894337826909155e-161,\n",
              " 3.455884550086875e-07]"
            ]
          },
          "metadata": {},
          "execution_count": 76
        }
      ],
      "source": [
        "bleu_scores"
      ]
    },
    {
      "cell_type": "code",
      "execution_count": 77,
      "metadata": {
        "colab": {
          "base_uri": "https://localhost:8080/"
        },
        "id": "u-PBlTTaq14c",
        "outputId": "49a543bd-d20a-48c5-8867-459d01cb3814"
      },
      "outputs": [
        {
          "output_type": "execute_result",
          "data": {
            "text/plain": [
              "0.0"
            ]
          },
          "metadata": {},
          "execution_count": 77
        }
      ],
      "source": [
        "bleu_average = round(sum(bleu_scores) / len(bleu_scores), 2)\n",
        "bleu_average"
      ]
    },
    {
      "cell_type": "code",
      "execution_count": 78,
      "metadata": {
        "colab": {
          "base_uri": "https://localhost:8080/"
        },
        "id": "zK6OBCS-q11z",
        "outputId": "a74a5bf5-5515-44db-f7e4-d4decb7ffe58"
      },
      "outputs": [
        {
          "output_type": "execute_result",
          "data": {
            "text/plain": [
              "0"
            ]
          },
          "metadata": {},
          "execution_count": 78
        }
      ],
      "source": [
        "bleu_min = min(bleu_scores)\n",
        "bleu_min"
      ]
    },
    {
      "cell_type": "code",
      "execution_count": 79,
      "metadata": {
        "colab": {
          "base_uri": "https://localhost:8080/"
        },
        "id": "0wMpUNrPq1y-",
        "outputId": "7f30c073-23e6-4165-b906-dbdf586cd3d4"
      },
      "outputs": [
        {
          "output_type": "execute_result",
          "data": {
            "text/plain": [
              "0.025569469447192815"
            ]
          },
          "metadata": {},
          "execution_count": 79
        }
      ],
      "source": [
        "bleu_max = max(bleu_scores)\n",
        "bleu_max"
      ]
    },
    {
      "cell_type": "code",
      "execution_count": 80,
      "metadata": {
        "colab": {
          "base_uri": "https://localhost:8080/"
        },
        "id": "ll6pniGSq1wl",
        "outputId": "c625be23-e944-4b3e-b869-84699d098c2a"
      },
      "outputs": [
        {
          "output_type": "execute_result",
          "data": {
            "text/plain": [
              "1.198188738670599e-08"
            ]
          },
          "metadata": {},
          "execution_count": 80
        }
      ],
      "source": [
        "bleu_scores.sort()\n",
        "mid = len(bleu_scores) // 2\n",
        "res = (bleu_scores[mid] + bleu_scores[~mid]) / 2\n",
        "bleu_median = res\n",
        "bleu_median"
      ]
    },
    {
      "cell_type": "code",
      "execution_count": 81,
      "metadata": {
        "id": "56B27EZuq1uA"
      },
      "outputs": [],
      "source": [
        "import sys\n",
        "from nltk.translate.meteor_score import meteor_score"
      ]
    },
    {
      "cell_type": "code",
      "execution_count": 82,
      "metadata": {
        "id": "agear1Ovq1rb"
      },
      "outputs": [],
      "source": [
        "meteor_scores = []\n",
        "for i in range(len(dataframe)):\n",
        "# for data_results in dataframe[0]:\n",
        "  gen_spoiler_strip = dataframe.iloc[i][\"gen_spoiler\"].strip()\n",
        "\n",
        "  ref = word_tokenize(gen_spoiler_strip)\n",
        "  hypo = word_tokenize(dataframe.iloc[i][\"actual_spoiler\"].strip())\n",
        "  meteor = nltk.translate.meteor_score.meteor_score([ref], hypo)\n",
        "\n",
        "\n",
        "  # meteor = nltk.translate.meteor_score.meteor_score([gen_spoiler_strip], dataframe.iloc[i][\"actual_spoiler\"].strip())\n",
        "  # meteor = round(meteor_score([dataframe.iloc[i][\"gen_spoiler\"]], dataframe.iloc[i][\"actual_spoiler\"]), 2) # list of references\n",
        "  meteor_scores.append(meteor)\n",
        "\n"
      ]
    },
    {
      "cell_type": "code",
      "execution_count": 83,
      "metadata": {
        "colab": {
          "base_uri": "https://localhost:8080/"
        },
        "id": "SH33dddEq1n_",
        "outputId": "42b71284-6b32-4d9c-ee66-11b616da8e8d"
      },
      "outputs": [
        {
          "output_type": "execute_result",
          "data": {
            "text/plain": [
              "[0.0,\n",
              " 0.0,\n",
              " 0.06689936009307737,\n",
              " 0.04320276497695852,\n",
              " 0.013513513513513514,\n",
              " 0.02288329519450801,\n",
              " 0.0,\n",
              " 0.03834355828220859,\n",
              " 0.009708737864077669,\n",
              " 0.0,\n",
              " 0.022123893805309734,\n",
              " 0.021231422505307858,\n",
              " 0.026954177897574125,\n",
              " 0.05531505531505531,\n",
              " 0.0,\n",
              " 0.0,\n",
              " 0.0,\n",
              " 0.010224948875255624,\n",
              " 0.01004016064257028,\n",
              " 0.01128668171557562,\n",
              " 0.01179245283018868,\n",
              " 0.06373256373256372,\n",
              " 0.06869772998805257,\n",
              " 0.0,\n",
              " 0.0,\n",
              " 0.03749999999999999,\n",
              " 0.03067484662576687,\n",
              " 0.032467532467532464,\n",
              " 0.0398936170212766,\n",
              " 0.01288659793814433,\n",
              " 0.0,\n",
              " 0.0,\n",
              " 0.013850415512465375,\n",
              " 0.041482300884955754,\n",
              " 0.036764705882352935,\n",
              " 0.0,\n",
              " 0.0,\n",
              " 0.011547344110854502,\n",
              " 0.011547344110854502,\n",
              " 0.011494252873563218,\n",
              " 0.05235602094240838,\n",
              " 0.0398936170212766,\n",
              " 0.08610038610038609,\n",
              " 0.0562897699461576,\n",
              " 0.012048192771084336,\n",
              " 0.02493765586034913,\n",
              " 0.04595588235294117,\n",
              " 0.04750593824228029,\n",
              " 0.03914405010438413,\n",
              " 0.0,\n",
              " 0.013440860215053762,\n",
              " 0.05998956703182055,\n",
              " 0.013192612137203165,\n",
              " 0.012048192771084336,\n",
              " 0.0,\n",
              " 0.048200514138817485,\n",
              " 0.013368983957219253,\n",
              " 0.03597122302158273,\n",
              " 0.010460251046025104,\n",
              " 0.0,\n",
              " 0.023923444976076555,\n",
              " 0.0,\n",
              " 0.012315270935960592,\n",
              " 0.0,\n",
              " 0.01179245283018868,\n",
              " 0.05311614730878187,\n",
              " 0.03597122302158273,\n",
              " 0.08317639673571878,\n",
              " 0.041482300884955754,\n",
              " 0.1016393442622951,\n",
              " 0.1575937892241179,\n",
              " 0.022988505747126436,\n",
              " 0.06451612903225806,\n",
              " 0.020491803278688523,\n",
              " 0.0,\n",
              " 0.0,\n",
              " 0.06263616557734204,\n",
              " 0.012048192771084336,\n",
              " 0.012048192771084336,\n",
              " 0.0,\n",
              " 0.15703703703703703,\n",
              " 0.01179245283018868,\n",
              " 0.041482300884955754,\n",
              " 0.04507211538461538,\n",
              " 0.033707865168539325,\n",
              " 0.010660980810234541,\n",
              " 0.08122270742358079,\n",
              " 0.05605381165919283,\n",
              " 0.010869565217391304,\n",
              " 0.07698170731707316,\n",
              " 0.03558718861209964,\n",
              " 0.05311614730878187,\n",
              " 0.0974025974025974,\n",
              " 0.04067245119305857,\n",
              " 0.044117647058823525,\n",
              " 0.011441647597254004,\n",
              " 0.0,\n",
              " 0.0,\n",
              " 0.027548209366391185,\n",
              " 0.012315270935960592,\n",
              " 0.018382352941176468,\n",
              " 0.0,\n",
              " 0.07815154604145429,\n",
              " 0.04606879606879607,\n",
              " 0.026246719160104987,\n",
              " 0.010638297872340425,\n",
              " 0.0398936170212766,\n",
              " 0.02631578947368421,\n",
              " 0.049342105263157895,\n",
              " 0.0803633822501747,\n",
              " 0.04237288135593221,\n",
              " 0.01256281407035176,\n",
              " 0.011737089201877934,\n",
              " 0.05605381165919283,\n",
              " 0.012048192771084336,\n",
              " 0.04222972972972972,\n",
              " 0.035046728971962614,\n",
              " 0.01256281407035176,\n",
              " 0.07040097949188859,\n",
              " 0.015384615384615384,\n",
              " 0.01492537313432836,\n",
              " 0.07915173237753884,\n",
              " 0.0,\n",
              " 0.010615711252653929,\n",
              " 0.04405286343612335,\n",
              " 0.07216775599128539,\n",
              " 0.04320276497695852,\n",
              " 0.01026694045174538,\n",
              " 0.0,\n",
              " 0.021691973969631236,\n",
              " 0.0,\n",
              " 0.014204545454545454,\n",
              " 0.0,\n",
              " 0.10150255754475702,\n",
              " 0.01179245283018868,\n",
              " 0.04232505643340857,\n",
              " 0.0,\n",
              " 0.01288659793814433,\n",
              " 0.0,\n",
              " 0.04237288135593221,\n",
              " 0.026246719160104987,\n",
              " 0.06911841418883671,\n",
              " 0.02127659574468085,\n",
              " 0.05053908355795148,\n",
              " 0.12146341463414634,\n",
              " 0.011235955056179775,\n",
              " 0.023041474654377878,\n",
              " 0.0,\n",
              " 0.0,\n",
              " 0.0,\n",
              " 0.02512562814070352,\n",
              " 0.013192612137203165,\n",
              " 0.057515337423312884,\n",
              " 0.016286644951140065,\n",
              " 0.09894200626959247,\n",
              " 0.02551020408163265,\n",
              " 0.03184713375796178,\n",
              " 0.011547344110854502,\n",
              " 0.0,\n",
              " 0.010869565217391304,\n",
              " 0.0,\n",
              " 0.04507211538461538,\n",
              " 0.021141649048625793,\n",
              " 0.014577259475218658,\n",
              " 0.07728200641586469,\n",
              " 0.038265306122448974,\n",
              " 0.0,\n",
              " 0.07216775599128539,\n",
              " 0.1448131443298969,\n",
              " 0.054505813953488365,\n",
              " 0.035460992907801414,\n",
              " 0.0,\n",
              " 0.03842213114754098,\n",
              " 0.012468827930174564,\n",
              " 0.01582278481012658,\n",
              " 0.02127659574468085,\n",
              " 0.012531328320802006,\n",
              " 0.0,\n",
              " 0.061137692716640074,\n",
              " 0.013850415512465375,\n",
              " 0.011737089201877934,\n",
              " 0.0,\n",
              " 0.06377551020408163,\n",
              " 0.012594458438287152,\n",
              " 0.05115089514066496,\n",
              " 0.027624309392265196,\n",
              " 0.011520737327188939,\n",
              " 0.0,\n",
              " 0.023364485981308407,\n",
              " 0.010869565217391304,\n",
              " 0.02257336343115124,\n",
              " 0.010845986984815618,\n",
              " 0.02127659574468085,\n",
              " 0.0398936170212766,\n",
              " 0.0,\n",
              " 0.10485880398671098,\n",
              " 0.034482758620689655,\n",
              " 0.06263616557734204,\n",
              " 0.02906976744186046,\n",
              " 0.011764705882352941,\n",
              " 0.11914011914011913,\n",
              " 0.023364485981308407,\n",
              " 0.02457002457002457,\n",
              " 0.0,\n",
              " 0.07716992665036676,\n",
              " 0.0,\n",
              " 0.0,\n",
              " 0.04032258064516129,\n",
              " 0.04222972972972972,\n",
              " 0.062344139650872814,\n",
              " 0.05311614730878187,\n",
              " 0.05434782608695652,\n",
              " 0.027624309392265196,\n",
              " 0.01288659793814433,\n",
              " 0.011520737327188939,\n",
              " 0.013513513513513514,\n",
              " 0.06373256373256372,\n",
              " 0.0398936170212766,\n",
              " 0.048200514138817485,\n",
              " 0.08878281622911693,\n",
              " 0.048200514138817485,\n",
              " 0.0597092419522326,\n",
              " 0.03698224852071006,\n",
              " 0.010869565217391304,\n",
              " 0.01128668171557562,\n",
              " 0.05311614730878187,\n",
              " 0.01779359430604982,\n",
              " 0.044117647058823525,\n",
              " 0.022123893805309734,\n",
              " 0.0,\n",
              " 0.09276807980049874,\n",
              " 0.012594458438287152,\n",
              " 0.0,\n",
              " 0.010460251046025104,\n",
              " 0.01288659793814433,\n",
              " 0.1043103448275862,\n",
              " 0.02906976744186046,\n",
              " 0.012048192771084336,\n",
              " 0.0,\n",
              " 0.0789395293416741,\n",
              " 0.033632286995515695,\n",
              " 0.010869565217391304,\n",
              " 0.09061073059360732,\n",
              " 0.0,\n",
              " 0.0,\n",
              " 0.0352112676056338,\n",
              " 0.013850415512465375,\n",
              " 0.011061946902654867,\n",
              " 0.04606879606879607,\n",
              " 0.041482300884955754,\n",
              " 0.011312217194570134,\n",
              " 0.014204545454545454,\n",
              " 0.0,\n",
              " 0.051795580110497244,\n",
              " 0.05311614730878187,\n",
              " 0.0,\n",
              " 0.048200514138817485,\n",
              " 0.0,\n",
              " 0.0,\n",
              " 0.014204545454545454,\n",
              " 0.05053908355795148,\n",
              " 0.03579952267303102,\n",
              " 0.06373256373256372,\n",
              " 0.04320276497695852,\n",
              " 0.061137692716640074,\n",
              " 0.07204610951008644,\n",
              " 0.04606879606879607,\n",
              " 0.011547344110854502,\n",
              " 0.13251768867924527,\n",
              " 0.0,\n",
              " 0.022123893805309734,\n",
              " 0.02257336343115124,\n",
              " 0.07061017852384759,\n",
              " 0.044117647058823525,\n",
              " 0.0,\n",
              " 0.04507211538461538,\n",
              " 0.06952092511013216,\n",
              " 0.07653061224489795,\n",
              " 0.04232505643340857,\n",
              " 0.023529411764705882,\n",
              " 0.07374415887850466,\n",
              " 0.011764705882352941,\n",
              " 0.0,\n",
              " 0.06893382352941176,\n",
              " 0.04606879606879607,\n",
              " 0.011086474501108647,\n",
              " 0.02331002331002331,\n",
              " 0.011312217194570134,\n",
              " 0.04606879606879607,\n",
              " 0.0,\n",
              " 0.011547344110854502,\n",
              " 0.0,\n",
              " 0.0,\n",
              " 0.013513513513513514,\n",
              " 0.06499877360804512,\n",
              " 0.10396270396270398,\n",
              " 0.0,\n",
              " 0.0684931506849315,\n",
              " 0.06128430588862243,\n",
              " 0.11523809523809522,\n",
              " 0.03914405010438413,\n",
              " 0.012315270935960592,\n",
              " 0.028328611898016998,\n",
              " 0.0,\n",
              " 0.03578244274809161,\n",
              " 0.013513513513513514,\n",
              " 0.0,\n",
              " 0.1388826865538338,\n",
              " 0.020833333333333332,\n",
              " 0.014204545454545454,\n",
              " 0.0,\n",
              " 0.010869565217391304,\n",
              " 0.06816954643628509,\n",
              " 0.021645021645021644,\n",
              " 0.0,\n",
              " 0.011547344110854502,\n",
              " 0.05706287683031869,\n",
              " 0.023041474654377878,\n",
              " 0.01026694045174538,\n",
              " 0.033783783783783786,\n",
              " 0.048200514138817485,\n",
              " 0.011312217194570134,\n",
              " 0.07216775599128539,\n",
              " 0.022421524663677125,\n",
              " 0.10735544217687076,\n",
              " 0.0,\n",
              " 0.01179245283018868,\n",
              " 0.0,\n",
              " 0.010080645161290322,\n",
              " 0.14890823659480376,\n",
              " 0.02127659574468085,\n",
              " 0.0,\n",
              " 0.02127659574468085,\n",
              " 0.0,\n",
              " 0.023529411764705882]"
            ]
          },
          "metadata": {},
          "execution_count": 83
        }
      ],
      "source": [
        "meteor_scores"
      ]
    },
    {
      "cell_type": "code",
      "execution_count": 84,
      "metadata": {
        "colab": {
          "base_uri": "https://localhost:8080/"
        },
        "id": "ImevHPTttfqr",
        "outputId": "6980e210-8805-4f97-fd75-5b3e7254c4fa"
      },
      "outputs": [
        {
          "output_type": "execute_result",
          "data": {
            "text/plain": [
              "0.03"
            ]
          },
          "metadata": {},
          "execution_count": 84
        }
      ],
      "source": [
        "meteor_scores_average = round(sum(meteor_scores) / len(meteor_scores), 2)\n",
        "meteor_scores_average"
      ]
    },
    {
      "cell_type": "code",
      "execution_count": 85,
      "metadata": {
        "colab": {
          "base_uri": "https://localhost:8080/"
        },
        "id": "DJLf_hyhtfoG",
        "outputId": "2ba3da5d-1905-4d31-e2bc-160ea89a2098"
      },
      "outputs": [
        {
          "output_type": "execute_result",
          "data": {
            "text/plain": [
              "0.1575937892241179"
            ]
          },
          "metadata": {},
          "execution_count": 85
        }
      ],
      "source": [
        "meteor_scores_max = max(meteor_scores)\n",
        "meteor_scores_max"
      ]
    },
    {
      "cell_type": "code",
      "execution_count": 86,
      "metadata": {
        "colab": {
          "base_uri": "https://localhost:8080/"
        },
        "id": "1lUe3zFRtfjK",
        "outputId": "edd4e726-b66d-4b87-849a-2163bebc1ad8"
      },
      "outputs": [
        {
          "output_type": "execute_result",
          "data": {
            "text/plain": [
              "0.0"
            ]
          },
          "metadata": {},
          "execution_count": 86
        }
      ],
      "source": [
        "meteor_scores_min = min(meteor_scores)\n",
        "meteor_scores_min"
      ]
    },
    {
      "cell_type": "code",
      "execution_count": 87,
      "metadata": {
        "colab": {
          "base_uri": "https://localhost:8080/"
        },
        "id": "26cfRxGGtffu",
        "outputId": "9631ea71-220d-4452-bb04-c94360af6649"
      },
      "outputs": [
        {
          "output_type": "execute_result",
          "data": {
            "text/plain": [
              "0.022123893805309734"
            ]
          },
          "metadata": {},
          "execution_count": 87
        }
      ],
      "source": [
        "meteor_scores.sort()\n",
        "mid = len(meteor_scores) // 2\n",
        "res = (meteor_scores[mid] + meteor_scores[~mid]) / 2\n",
        "meteor_scores_median = res\n",
        "meteor_scores_median"
      ]
    },
    {
      "cell_type": "code",
      "execution_count": null,
      "metadata": {
        "id": "ez-V0w2Yq1lI"
      },
      "outputs": [],
      "source": []
    },
    {
      "cell_type": "code",
      "execution_count": null,
      "metadata": {
        "id": "VVFsHs1nxxPf"
      },
      "outputs": [],
      "source": []
    },
    {
      "cell_type": "code",
      "execution_count": null,
      "metadata": {
        "colab": {
          "base_uri": "https://localhost:8080/"
        },
        "id": "yWG31j0uwqb1",
        "outputId": "21a36264-60df-4a50-9c63-e5ca3e6f9192"
      },
      "outputs": [
        {
          "name": "stdout",
          "output_type": "stream",
          "text": [
            "Looking in indexes: https://pypi.org/simple, https://us-python.pkg.dev/colab-wheels/public/simple/\n",
            "Collecting bert-score\n",
            "  Downloading bert_score-0.3.13-py3-none-any.whl (61 kB)\n",
            "\u001b[2K     \u001b[90m━━━━━━━━━━━━━━━━━━━━━━━━━━━━━━━━━━━━━━━━\u001b[0m \u001b[32m61.1/61.1 kB\u001b[0m \u001b[31m3.0 MB/s\u001b[0m eta \u001b[36m0:00:00\u001b[0m\n",
            "\u001b[?25hRequirement already satisfied: torch>=1.0.0 in /usr/local/lib/python3.10/dist-packages (from bert-score) (2.0.0+cu118)\n",
            "Requirement already satisfied: pandas>=1.0.1 in /usr/local/lib/python3.10/dist-packages (from bert-score) (1.5.3)\n",
            "Requirement already satisfied: transformers>=3.0.0 in /usr/local/lib/python3.10/dist-packages (from bert-score) (4.29.0)\n",
            "Requirement already satisfied: numpy in /usr/local/lib/python3.10/dist-packages (from bert-score) (1.22.4)\n",
            "Requirement already satisfied: requests in /usr/local/lib/python3.10/dist-packages (from bert-score) (2.27.1)\n",
            "Requirement already satisfied: tqdm>=4.31.1 in /usr/local/lib/python3.10/dist-packages (from bert-score) (4.65.0)\n",
            "Requirement already satisfied: matplotlib in /usr/local/lib/python3.10/dist-packages (from bert-score) (3.7.1)\n",
            "Requirement already satisfied: packaging>=20.9 in /usr/local/lib/python3.10/dist-packages (from bert-score) (23.1)\n",
            "Requirement already satisfied: python-dateutil>=2.8.1 in /usr/local/lib/python3.10/dist-packages (from pandas>=1.0.1->bert-score) (2.8.2)\n",
            "Requirement already satisfied: pytz>=2020.1 in /usr/local/lib/python3.10/dist-packages (from pandas>=1.0.1->bert-score) (2022.7.1)\n",
            "Requirement already satisfied: filelock in /usr/local/lib/python3.10/dist-packages (from torch>=1.0.0->bert-score) (3.12.0)\n",
            "Requirement already satisfied: typing-extensions in /usr/local/lib/python3.10/dist-packages (from torch>=1.0.0->bert-score) (4.5.0)\n",
            "Requirement already satisfied: sympy in /usr/local/lib/python3.10/dist-packages (from torch>=1.0.0->bert-score) (1.11.1)\n",
            "Requirement already satisfied: networkx in /usr/local/lib/python3.10/dist-packages (from torch>=1.0.0->bert-score) (3.1)\n",
            "Requirement already satisfied: jinja2 in /usr/local/lib/python3.10/dist-packages (from torch>=1.0.0->bert-score) (3.1.2)\n",
            "Requirement already satisfied: triton==2.0.0 in /usr/local/lib/python3.10/dist-packages (from torch>=1.0.0->bert-score) (2.0.0)\n",
            "Requirement already satisfied: cmake in /usr/local/lib/python3.10/dist-packages (from triton==2.0.0->torch>=1.0.0->bert-score) (3.25.2)\n",
            "Requirement already satisfied: lit in /usr/local/lib/python3.10/dist-packages (from triton==2.0.0->torch>=1.0.0->bert-score) (16.0.3)\n",
            "Requirement already satisfied: huggingface-hub<1.0,>=0.11.0 in /usr/local/lib/python3.10/dist-packages (from transformers>=3.0.0->bert-score) (0.14.1)\n",
            "Requirement already satisfied: pyyaml>=5.1 in /usr/local/lib/python3.10/dist-packages (from transformers>=3.0.0->bert-score) (6.0)\n",
            "Requirement already satisfied: regex!=2019.12.17 in /usr/local/lib/python3.10/dist-packages (from transformers>=3.0.0->bert-score) (2022.10.31)\n",
            "Requirement already satisfied: tokenizers!=0.11.3,<0.14,>=0.11.1 in /usr/local/lib/python3.10/dist-packages (from transformers>=3.0.0->bert-score) (0.13.3)\n",
            "Requirement already satisfied: contourpy>=1.0.1 in /usr/local/lib/python3.10/dist-packages (from matplotlib->bert-score) (1.0.7)\n",
            "Requirement already satisfied: cycler>=0.10 in /usr/local/lib/python3.10/dist-packages (from matplotlib->bert-score) (0.11.0)\n",
            "Requirement already satisfied: fonttools>=4.22.0 in /usr/local/lib/python3.10/dist-packages (from matplotlib->bert-score) (4.39.3)\n",
            "Requirement already satisfied: kiwisolver>=1.0.1 in /usr/local/lib/python3.10/dist-packages (from matplotlib->bert-score) (1.4.4)\n",
            "Requirement already satisfied: pillow>=6.2.0 in /usr/local/lib/python3.10/dist-packages (from matplotlib->bert-score) (8.4.0)\n",
            "Requirement already satisfied: pyparsing>=2.3.1 in /usr/local/lib/python3.10/dist-packages (from matplotlib->bert-score) (3.0.9)\n",
            "Requirement already satisfied: urllib3<1.27,>=1.21.1 in /usr/local/lib/python3.10/dist-packages (from requests->bert-score) (1.26.15)\n",
            "Requirement already satisfied: certifi>=2017.4.17 in /usr/local/lib/python3.10/dist-packages (from requests->bert-score) (2022.12.7)\n",
            "Requirement already satisfied: charset-normalizer~=2.0.0 in /usr/local/lib/python3.10/dist-packages (from requests->bert-score) (2.0.12)\n",
            "Requirement already satisfied: idna<4,>=2.5 in /usr/local/lib/python3.10/dist-packages (from requests->bert-score) (3.4)\n",
            "Requirement already satisfied: fsspec in /usr/local/lib/python3.10/dist-packages (from huggingface-hub<1.0,>=0.11.0->transformers>=3.0.0->bert-score) (2023.4.0)\n",
            "Requirement already satisfied: six>=1.5 in /usr/local/lib/python3.10/dist-packages (from python-dateutil>=2.8.1->pandas>=1.0.1->bert-score) (1.16.0)\n",
            "Requirement already satisfied: MarkupSafe>=2.0 in /usr/local/lib/python3.10/dist-packages (from jinja2->torch>=1.0.0->bert-score) (2.1.2)\n",
            "Requirement already satisfied: mpmath>=0.19 in /usr/local/lib/python3.10/dist-packages (from sympy->torch>=1.0.0->bert-score) (1.3.0)\n",
            "Installing collected packages: bert-score\n",
            "Successfully installed bert-score-0.3.13\n"
          ]
        }
      ],
      "source": [
        "!pip install bert-score"
      ]
    },
    {
      "cell_type": "code",
      "execution_count": null,
      "metadata": {
        "id": "fOE8ry7WwmWp"
      },
      "outputs": [],
      "source": [
        "from bert_score import score"
      ]
    },
    {
      "cell_type": "code",
      "execution_count": null,
      "metadata": {
        "colab": {
          "base_uri": "https://localhost:8080/"
        },
        "id": "YDpOSLEPw0RP",
        "outputId": "aca6a816-5889-4a84-ef91-7abc34d1dabd"
      },
      "outputs": [
        {
          "name": "stdout",
          "output_type": "stream",
          "text": [
            "Cloning into 'bert_score'...\n",
            "remote: Enumerating objects: 993, done.\u001b[K\n",
            "remote: Counting objects: 100% (355/355), done.\u001b[K\n",
            "remote: Compressing objects: 100% (156/156), done.\u001b[K\n",
            "remote: Total 993 (delta 219), reused 322 (delta 198), pack-reused 638\u001b[K\n",
            "Receiving objects: 100% (993/993), 1.34 MiB | 10.33 MiB/s, done.\n",
            "Resolving deltas: 100% (534/534), done.\n"
          ]
        }
      ],
      "source": [
        "!git clone https://github.com/Tiiiger/bert_score.git"
      ]
    },
    {
      "cell_type": "code",
      "execution_count": null,
      "metadata": {
        "colab": {
          "base_uri": "https://localhost:8080/",
          "height": 248
        },
        "id": "bxnk4LWQw_qL",
        "outputId": "3939dc49-a800-4ad2-87da-c7557d4286ca"
      },
      "outputs": [
        {
          "data": {
            "text/html": [
              "<pre style=\"white-space:pre;overflow-x:auto;line-height:normal;font-family:Menlo,'DejaVu Sans Mono',consolas,'Courier New',monospace\"><span style=\"color: #800000; text-decoration-color: #800000\">╭─────────────────────────────── </span><span style=\"color: #800000; text-decoration-color: #800000; font-weight: bold\">Traceback </span><span style=\"color: #bf7f7f; text-decoration-color: #bf7f7f; font-weight: bold\">(most recent call last)</span><span style=\"color: #800000; text-decoration-color: #800000\"> ────────────────────────────────╮</span>\n",
              "<span style=\"color: #800000; text-decoration-color: #800000\">│</span> in <span style=\"color: #00ff00; text-decoration-color: #00ff00\">&lt;cell line: 4&gt;</span>:<span style=\"color: #0000ff; text-decoration-color: #0000ff\">13</span>                                                                             <span style=\"color: #800000; text-decoration-color: #800000\">│</span>\n",
              "<span style=\"color: #800000; text-decoration-color: #800000\">│</span>                                                                                                  <span style=\"color: #800000; text-decoration-color: #800000\">│</span>\n",
              "<span style=\"color: #800000; text-decoration-color: #800000\">│</span> <span style=\"color: #bfbf7f; text-decoration-color: #bfbf7f\">/usr/local/lib/python3.10/dist-packages/bert_score/</span><span style=\"color: #808000; text-decoration-color: #808000; font-weight: bold\">score.py</span>:<span style=\"color: #0000ff; text-decoration-color: #0000ff\">70</span> in <span style=\"color: #00ff00; text-decoration-color: #00ff00\">score</span>                          <span style=\"color: #800000; text-decoration-color: #800000\">│</span>\n",
              "<span style=\"color: #800000; text-decoration-color: #800000\">│</span>                                                                                                  <span style=\"color: #800000; text-decoration-color: #800000\">│</span>\n",
              "<span style=\"color: #800000; text-decoration-color: #800000\">│</span>   <span style=\"color: #7f7f7f; text-decoration-color: #7f7f7f\"> 67 </span><span style=\"color: #bfbf7f; text-decoration-color: #bfbf7f\">│   │   │   │     </span><span style=\"color: #808000; text-decoration-color: #808000\">multiple references, the returned score of this candidate is</span>             <span style=\"color: #800000; text-decoration-color: #800000\">│</span>\n",
              "<span style=\"color: #800000; text-decoration-color: #800000\">│</span>   <span style=\"color: #7f7f7f; text-decoration-color: #7f7f7f\"> 68 </span><span style=\"color: #bfbf7f; text-decoration-color: #bfbf7f\">│   │   │   │     </span><span style=\"color: #808000; text-decoration-color: #808000\">the *best* score among all references.</span>                                   <span style=\"color: #800000; text-decoration-color: #800000\">│</span>\n",
              "<span style=\"color: #800000; text-decoration-color: #800000\">│</span>   <span style=\"color: #7f7f7f; text-decoration-color: #7f7f7f\"> 69 </span><span style=\"color: #bfbf7f; text-decoration-color: #bfbf7f\">│   </span><span style=\"color: #808000; text-decoration-color: #808000\">\"\"\"</span>                                                                                    <span style=\"color: #800000; text-decoration-color: #800000\">│</span>\n",
              "<span style=\"color: #800000; text-decoration-color: #800000\">│</span> <span style=\"color: #800000; text-decoration-color: #800000\">❱ </span> 70 <span style=\"color: #7f7f7f; text-decoration-color: #7f7f7f\">│   </span><span style=\"color: #0000ff; text-decoration-color: #0000ff\">assert</span> <span style=\"color: #00ffff; text-decoration-color: #00ffff\">len</span>(cands) == <span style=\"color: #00ffff; text-decoration-color: #00ffff\">len</span>(refs), <span style=\"color: #808000; text-decoration-color: #808000\">\"Different number of candidates and references\"</span>        <span style=\"color: #800000; text-decoration-color: #800000\">│</span>\n",
              "<span style=\"color: #800000; text-decoration-color: #800000\">│</span>   <span style=\"color: #7f7f7f; text-decoration-color: #7f7f7f\"> 71 │   </span>                                                                                       <span style=\"color: #800000; text-decoration-color: #800000\">│</span>\n",
              "<span style=\"color: #800000; text-decoration-color: #800000\">│</span>   <span style=\"color: #7f7f7f; text-decoration-color: #7f7f7f\"> 72 │   </span><span style=\"color: #0000ff; text-decoration-color: #0000ff\">assert</span> (                                                                               <span style=\"color: #800000; text-decoration-color: #800000\">│</span>\n",
              "<span style=\"color: #800000; text-decoration-color: #800000\">│</span>   <span style=\"color: #7f7f7f; text-decoration-color: #7f7f7f\"> 73 │   │   </span>lang <span style=\"color: #ff00ff; text-decoration-color: #ff00ff\">is</span> <span style=\"color: #ff00ff; text-decoration-color: #ff00ff\">not</span> <span style=\"color: #0000ff; text-decoration-color: #0000ff\">None</span> <span style=\"color: #ff00ff; text-decoration-color: #ff00ff\">or</span> model_type <span style=\"color: #ff00ff; text-decoration-color: #ff00ff\">is</span> <span style=\"color: #ff00ff; text-decoration-color: #ff00ff\">not</span> <span style=\"color: #0000ff; text-decoration-color: #0000ff\">None</span>                                         <span style=\"color: #800000; text-decoration-color: #800000\">│</span>\n",
              "<span style=\"color: #800000; text-decoration-color: #800000\">╰──────────────────────────────────────────────────────────────────────────────────────────────────╯</span>\n",
              "<span style=\"color: #ff0000; text-decoration-color: #ff0000; font-weight: bold\">AssertionError: </span>Different number of candidates and references\n",
              "</pre>\n"
            ],
            "text/plain": [
              "\u001b[31m╭─\u001b[0m\u001b[31m──────────────────────────────\u001b[0m\u001b[31m \u001b[0m\u001b[1;31mTraceback \u001b[0m\u001b[1;2;31m(most recent call last)\u001b[0m\u001b[31m \u001b[0m\u001b[31m───────────────────────────────\u001b[0m\u001b[31m─╮\u001b[0m\n",
              "\u001b[31m│\u001b[0m in \u001b[92m<cell line: 4>\u001b[0m:\u001b[94m13\u001b[0m                                                                             \u001b[31m│\u001b[0m\n",
              "\u001b[31m│\u001b[0m                                                                                                  \u001b[31m│\u001b[0m\n",
              "\u001b[31m│\u001b[0m \u001b[2;33m/usr/local/lib/python3.10/dist-packages/bert_score/\u001b[0m\u001b[1;33mscore.py\u001b[0m:\u001b[94m70\u001b[0m in \u001b[92mscore\u001b[0m                          \u001b[31m│\u001b[0m\n",
              "\u001b[31m│\u001b[0m                                                                                                  \u001b[31m│\u001b[0m\n",
              "\u001b[31m│\u001b[0m   \u001b[2m 67 \u001b[0m\u001b[2;33m│   │   │   │     \u001b[0m\u001b[33mmultiple references, the returned score of this candidate is\u001b[0m             \u001b[31m│\u001b[0m\n",
              "\u001b[31m│\u001b[0m   \u001b[2m 68 \u001b[0m\u001b[2;33m│   │   │   │     \u001b[0m\u001b[33mthe *best* score among all references.\u001b[0m                                   \u001b[31m│\u001b[0m\n",
              "\u001b[31m│\u001b[0m   \u001b[2m 69 \u001b[0m\u001b[2;33m│   \u001b[0m\u001b[33m\"\"\"\u001b[0m                                                                                    \u001b[31m│\u001b[0m\n",
              "\u001b[31m│\u001b[0m \u001b[31m❱ \u001b[0m 70 \u001b[2m│   \u001b[0m\u001b[94massert\u001b[0m \u001b[96mlen\u001b[0m(cands) == \u001b[96mlen\u001b[0m(refs), \u001b[33m\"\u001b[0m\u001b[33mDifferent number of candidates and references\u001b[0m\u001b[33m\"\u001b[0m        \u001b[31m│\u001b[0m\n",
              "\u001b[31m│\u001b[0m   \u001b[2m 71 \u001b[0m\u001b[2m│   \u001b[0m                                                                                       \u001b[31m│\u001b[0m\n",
              "\u001b[31m│\u001b[0m   \u001b[2m 72 \u001b[0m\u001b[2m│   \u001b[0m\u001b[94massert\u001b[0m (                                                                               \u001b[31m│\u001b[0m\n",
              "\u001b[31m│\u001b[0m   \u001b[2m 73 \u001b[0m\u001b[2m│   │   \u001b[0mlang \u001b[95mis\u001b[0m \u001b[95mnot\u001b[0m \u001b[94mNone\u001b[0m \u001b[95mor\u001b[0m model_type \u001b[95mis\u001b[0m \u001b[95mnot\u001b[0m \u001b[94mNone\u001b[0m                                         \u001b[31m│\u001b[0m\n",
              "\u001b[31m╰──────────────────────────────────────────────────────────────────────────────────────────────────╯\u001b[0m\n",
              "\u001b[1;91mAssertionError: \u001b[0mDifferent number of candidates and references\n"
            ]
          },
          "metadata": {},
          "output_type": "display_data"
        }
      ],
      "source": [
        "bert_scores_P = []\n",
        "bert_scores_R = []\n",
        "bert_scores_F1 = []\n",
        "for i in range(len(dataframe)):\n",
        "# for data_results in dataframe[0]:\n",
        "  gen_spoiler_strip = dataframe.iloc[i][\"gen_spoiler\"]\n",
        "  actual_spoiler_strip = dataframe.iloc[i][\"actual_spoiler\"]\n",
        "\n",
        "\n",
        "  ref = word_tokenize(gen_spoiler_strip)\n",
        "  hypo = word_tokenize(actual_spoiler_strip)\n",
        "\n",
        "  P, R, F1 = score(gen_spoiler_strip, actual_spoiler_strip, lang=\"en\", verbose=True)\n",
        "  bert_scores_P.append(P)\n",
        "  bert_scores_R.append(R)\n",
        "  bert_scores_F1.append(F1)\n",
        "\n",
        "  # meteor = nltk.translate.meteor_score.meteor_score([gen_spoiler_strip], dataframe.iloc[i][\"actual_spoiler\"].strip())\n",
        "  # meteor = round(meteor_score([dataframe.iloc[i][\"gen_spoiler\"]], dataframe.iloc[i][\"actual_spoiler\"]), 2) # list of references\n",
        "  # meteor_scores.append(meteor)"
      ]
    },
    {
      "cell_type": "code",
      "execution_count": null,
      "metadata": {
        "id": "ECEpBOXHw3ak"
      },
      "outputs": [],
      "source": [
        "# P, R, F1 = score(cands, refs, lang=\"en\", verbose=True)"
      ]
    },
    {
      "cell_type": "code",
      "execution_count": null,
      "metadata": {
        "colab": {
          "base_uri": "https://localhost:8080/"
        },
        "id": "MX48u32w_GhA",
        "outputId": "e2831cee-bbaf-4093-d32e-991d5f745af3"
      },
      "outputs": [
        {
          "name": "stdout",
          "output_type": "stream",
          "text": [
            "\n",
            "\n",
            "['tom', 'brady', \"'\", 's', 'definition', 'of', 'catching', 'up', 'involves', 'much', 'more', 'than', 'just', 'a', 'meal', '.', 'wes', 'welker', 'contacted', 'the', 'patriots', 'quarterback', 'friday', 'morning', 'on', 'a', 'miami', 'radio', 'station', '.', 'bra']\n",
            "\n",
            "\n",
            "['how', 'about', 'that', 'morning', 'we', 'go', 'throw', '?']\n",
            "\n",
            "\n",
            "\n",
            "\n",
            "['nasa', 'scientists', 'are', 'predicting', 'the', 'hole', 'in', 'the']\n",
            "\n",
            "\n",
            "['2070']\n",
            "\n",
            "\n",
            "\n",
            "\n",
            "['research', 'by', 'hiring', 'software', 'provider', 'cangrade', 'found', 'that', 'being', 'intellectually', 'stimulated']\n",
            "\n",
            "\n",
            "['intellectual', 'stimulation']\n",
            "\n",
            "\n",
            "\n",
            "\n",
            "['cal', 'newport', \"'\", 's', 'investigation', 'into', 'how', 'passionate', 'people', 'like', 'steve', 'jobs', 'really', 'got', 'started', 'as', 'well', 'as', 'what', 'scientists', 'say', 'predicts', 'happiness', 'and', 'fuels', 'great', 'accomplishment', 'newport', '.', 'ryan', 'holiday', 'author', 'of', 'ego', 'is', 'the', 'enemy', 'your', 'passion', 'may', 'be', 'the', 'very', 'enemy', '.', 'the', 'only', 'way', 'to', 'do', 'great', 'work', 'is', 'to', 'love', 'what', 'you', 'do', 'if', 'you', 'have', \"n't\", 'found', 'it', 'yet', 'keep', 'looking', 'dont', 'settle', 'in', 'other', 'words', 'follow', 'your', 'passion', 'there', '.']\n",
            "\n",
            "\n",
            "['Purpose', 'connects', 'us', 'to', 'something', 'bigger', 'and', 'in', 'doing', 'so', 'makes', 'us', 'right', 'sized', 'be', 'ruthless', 'with', 'your', '``', 'No', '’', 's', '.', \"''\", 'Practice', 'means', 'greatness', 'is', 'doable', '...', 'one', 'tiny', 'step', 'after', 'another', 'planning', 'of', 'the', 'SMART', 'goal', 'and', 'number-crunching', 'variety', 'Objectivity', '—', 'the', 'ability', 'to', 'see', 'the', 'world', 'as', 'it', 'truly', 'is']\n",
            "\n",
            "\n",
            "\n",
            "\n",
            "['the', 'top', 'voted', 'answer', 'for', 'how', 'to', 'cook', 'rice', 'has', 'been', 'shared', 'on']\n",
            "\n",
            "\n",
            "['in', 'a', 'rice', 'cooker']\n",
            "\n",
            "\n",
            "\n",
            "\n",
            "['apple', 'iphone', 'event', 'introduced', 'airpods', 'apples', 'totally', 'wireless', 'headphones', '.', 'one', 'of', 'the', 'biggest', 'surprise', 'announcements', 'was', 'about', 'theft', '.', 'no', 'apple', 'says', 'that', 'if', 'one', 'of', 'your', 'airpod', '.', 'is', 'lost', 'or', 'stolen', 'youll', 'have', 'to', 'buy', 'new', 'ones']\n",
            "\n",
            "\n",
            "['Apple', 'says', 'that', 'if', 'AirPods', 'are', 'lost', 'or', 'stolen', ',', 'you', \"'ll\", 'have', 'to', 'buy', 'new', 'ones', ',', 'just', 'like', 'any', 'other', 'Apple', 'product', '.']\n",
            "\n",
            "\n",
            "\n",
            "\n",
            "['june', '14th', '2016', '33k', 'shares', 'they', 'may', 'look', 'like', 'the', 'sort', 'of', 'apparel', 'youd', 'normally', 'sport', 'on', 'the', 'morning', 'after', '12', 'pints', 'so', 'the', 'elasticated', 'waist', 'can', 'provide', 'enough', 'give', 'to', 'support', 'two', 'hangover', 'curing', 'trips', 'to', 'macc']\n",
            "\n",
            "\n",
            "['``', 'The', 'more', 'good', 'games', 'I', 'had', 'in', 'them', ',', 'the', 'more', 'I', 'got', 'used', 'to', 'them', '.']\n",
            "\n",
            "\n",
            "\n",
            "\n",
            "['it', 'was', 'cold', 'and', 'very', 'foggy', 'the', 'temperature', 'was', 'around', '10', 'degrees', 'celsius', 'said', 'hänninen', 'when', 'the', 'clouds', 'began', 'to', 'break', 'there', 'were', 'rainbow', 'colours', 'in', 'the', 'sky', 'and', 'a', 'halo', 'spanning', '360', 'degrees', '.']\n",
            "\n",
            "\n",
            "['rainbow', 'colours', 'in', 'the', 'sky', 'and', 'a', 'halo', 'spanning', '360', 'degrees']\n",
            "\n",
            "\n",
            "\n",
            "\n",
            "['julia', 'zumpano', 'a', 'dietitian', 'at', 'cleveland', 'clinic', \"'\", 's', 'heart', 'vascular', 'institute', 'says', 'red', 'wine', 'has', 'a', 'purplestained', 'smile', 'at', '125', 'calories', 'for', 'a', 'fiveounce', 'pour', '.']\n",
            "\n",
            "\n",
            "['Red', 'wine', 'is', 'clearly', 'the', 'drink', 'of', 'choice', 'if', 'you', 'are', 'doing', 'light', 'to', 'moderate', 'drinking', 'for', 'your', 'health', ',', 'and', 'daily', 'consumption', 'just', 'before', 'or', 'with', 'the', 'evening', 'meal', 'may', 'be', 'the', 'most', 'protective', 'pattern', ',', \"''\", 'O', '’', 'Keefe', 'says']\n",
            "\n",
            "\n",
            "\n",
            "\n",
            "['we', 'tried', '29', 'different', 'kinds', 'of', 'hot', 'sauce', 'to', 'find', 'our', 'favorite', 'what', 'the', 'hell', 'were', 'we', 'thinking', 'weve', 'put', 'ourselves', 'through', 'a', 'fair', 'number', 'of', 'taste', 'tests', 'to', 'find', 'you', 'the', 'best', 'of', 'the', 'best', 'there', 'was', 'that', 'time', 'we', 'filled', 'a', 'room', 'with', '264', 'donuts', 'to', 'narrow', 'down', 'the', 'best', '.', 'we', 'wanted', 'to', 'find', 'the', 'best', 'macarons', 'oh', 'and', 'thanksgiving', 'pie', 'after', 'all', 'that', 'sugar', 'we', 'needed', 'to', 'take', 'a', 'step', 'away', 'from', 'the', 'sweet', 'side', 'in', 'our', 'beloved', 'town', '.']\n",
            "\n",
            "\n",
            "['Sriracha', 'Hot', 'Chili', 'Sauce', 'Frank', \"'s\", 'RedHot', 'Original', 'Sauce', 'Cholula', 'Chili', 'Garlic', 'Louisiana', 'Hot', 'Sauce', 'CaJohns', 'Bourbon', 'Infused', 'Chipotle-Habañero', 'Sauce']\n",
            "\n",
            "\n",
            "\n",
            "\n",
            "['cbo', '64-year-olds', 'making', '26500', 'per']\n",
            "\n",
            "\n",
            "['750', 'percent']\n",
            "\n",
            "\n",
            "\n",
            "\n",
            "['jenelle', 'evans', 'and', 'boyfriend', 'nathan']\n",
            "\n",
            "\n",
            "['boy']\n",
            "\n",
            "\n",
            "\n",
            "\n",
            "['more', 'than', 'a', 'quarter', 'of', 'shoppers', 'use', 'it', 'we', 'asked', 'the', 'experts', 'for']\n",
            "\n",
            "\n",
            "['promotional', 'code']\n",
            "\n",
            "\n",
            "\n",
            "\n",
            "['target', 'will', 'spend', '20', 'million', 'to', 'expand', 'its', 'use', 'of', 'a', 'third', 'singletoilet', 'bathroom', 'at', 'all', 'of', 'its', 'stores', 'target', 'tgt', 'cfo', 'cathy', 'smith', 'said', 'wednesday', 'that', 'the', 'company', 'has', 'heard', 'objections']\n",
            "\n",
            "\n",
            "['says', 'it', 'will', 'spend', '$', '20', 'million', 'to', 'expand', 'bathroom', 'options', 'at', 'all', 'of', 'its', 'U.S.', 'stores']\n",
            "\n",
            "\n",
            "\n",
            "\n",
            "['the', 'newest', 'fad', 'in', 'china', 'is', 'glass', 'pedestrian', 'bridges', 'the', 'chinese', 'people', 'love', 'nothing', 'more', 'than', 'walking', 'over', 'great', 'heights', 'while', 'imagining', 'their', 'own', 'deaths', 'apparently', 'or', 'maybe', 'they', 'just', 'like', 'laughing', 'at', 'the', 'people', 'who', 'cant']\n",
            "\n",
            "\n",
            "['Although', 'Simmons', \"'\", 'first', 'blow', 'shattered', 'the', 'glass', ',', 'he', 'was', 'unable', 'to', 'structurally', 'compromise', 'the', 'underlying', 'layers', 'even', 'after', 'he', 'let', 'loose', 'on', 'it', 'dozens', 'of', 'times', '.']\n",
            "\n",
            "\n",
            "\n",
            "\n",
            "['mashable', 'instagram', 'is', 'killing', 'feature', 'that', 'allowed', 'you', 'to', 'see', 'a', 'map', 'of', 'where', 'a', 'given', 'user', 'photos', 'were', 'taken', 'if', 'they', 'designated', 'a', 'location', 'for', 'the', 'photo', 'you', 'could', 'zoom', 'in', 'on', 'maps', 'to', 'get', 'a', 'closer', 'view']\n",
            "\n",
            "\n",
            "['the', 'feature', 'that', 'allowed', 'you', 'to', 'see', 'a', 'map', 'of', 'where', 'a', 'given', 'user', \"'s\", 'photos', 'were', 'taken', '(', 'if', 'they', 'designated', 'a', 'location', 'for', 'the', 'photo', ')', '.']\n",
            "\n",
            "\n",
            "\n",
            "\n",
            "['researchers', 'from', 'the', 'harvard', 'th', 'chan', 'school', 'of', 'public', 'health', 'took', 'a', 'bunch', 'of', 'trips', 'on', 'the', 'boston', 'city', 'subway', 'and', 'started', 'swabbing', 'in', 'their', 'new', 'study', 'published', 'in', 'the', 'american', 'society', 'for', 'microbiology', '.']\n",
            "\n",
            "\n",
            "['scientists', 'didn', '’', 't', 'find', 'pathogenic', 'organisms', 'that', 'typically', 'cause', 'sickness', 'or', 'antibiotic-resistant', 'genes']\n",
            "\n",
            "\n",
            "\n",
            "\n",
            "['hogwarts', 'jk', 'rowlings', 'response', 'in', '2000', 'gave', 'the', 'answer', 'about', '1000', 'but', 'when', 'you', 'look', 'closer', 'that', 'number', 'doesnt', 'make', 'a', 'lot', 'of', 'sense', 'why', 'are', 'there', 'so', 'few', 'students', 'in', 'harrys', 'year', 'this', 'screencap']\n",
            "\n",
            "\n",
            "['because', 'of', 'the', 'war', 'with', 'Voldemort', '.']\n",
            "\n",
            "\n",
            "\n",
            "\n",
            "['vw', 'beetle', 'dune', 'is', 'a', 'special', 'edition', 'of', 'the', 'iconic', 'reboot', 'of', 'the', 'legendary', 'peoples', 'car', '.', 'it', 'has', 'an', 'amazing', 'audio', 'system', 'and', 'is', 'pretty', 'cheap', 'at', 'less', 'than', '25000', 'but', 'it', 'also', 'has', 'a']\n",
            "\n",
            "\n",
            "['just', 'that', 'famous', 'VW', 'badge', '...', '...', 'which', 'flips', 'open', 'when', 'the', 'car', 'is', 'in', 'reverse', 'to', 'reveal', 'the', 'hidden', 'camera', '!']\n",
            "\n",
            "\n",
            "\n",
            "\n",
            "['macarena', 'is', 'a', 'siren', 'enticing', 'young', 'men', 'to', 'come', 'and', 'dance', 'with', 'her', 'if', 'they', 'can', 'curry', 'her', 'favor', 'she', 'may', 'even', 'take', 'them', 'home', 'with', 'her', 'so', 'far', 'nothing', 'too', 'unusual', 'right', 'just', 'a', 'woman', 'out', 'on', 'the', 'town']\n",
            "\n",
            "\n",
            "['``', 'Macarena', \"''\", 'is', 'about', 'a', 'woman', 'who', 'waits', 'until', 'her', 'boyfriend', 'leaves', 'town', 'and', 'then', 'bangs', 'his', 'two', 'best', 'friends', 'at', 'the', 'same', 'time', '.']\n",
            "\n",
            "\n",
            "\n",
            "\n",
            "['the', 'remains', 'were', 'found', 'near', 'a', 'shed', 'in', 'the', 'backyard', 'of', 'a', 'home', 'in', 'southampton', 'county', 'early', 'thursday', '.', 'authorities', 'visited', 'the', 'home', 'on', 'a', 'tip', 'as', 'part', 'of', 'their', 'investigation', 'but', 'did', 'not', 'say', 'they', 'were', 'definitely', 'those', 'of', '18-year-old', 'anjelica', 'aj', 'hadsell', '.', 'the', 'office', 'of', 'the', 'chief', 'medical', 'examiner', 'will', 'run', 'tests', 'to', 'identify', 'the', 'remains', 'the', 'college', 'student', 'was', 'home', 'for', 'spring', 'break', '.']\n",
            "\n",
            "\n",
            "['Southampton', 'County', 'Anjelica', \"'AJ\", \"'\", 'Hadsell']\n",
            "\n",
            "\n",
            "\n",
            "\n",
            "['goopcom', 'is', 'a', 'ritzy', 'lifestyle', 'publication', 'or', 'a', 'grab', 'bag', 'of', 'the', 'ridiculous', 'from', 'advice', 'on', 'vaginal', 'steam', 'treatments', 'to', 'a', 'shopping', 'section', 'featuring', '73', 'wooden', 'spoon', 'and', 'a', '576', 'earring', '.']\n",
            "\n",
            "\n",
            "['contain', 'the', 'element', 'in', 'various', 'compounds', ',', 'and', 'peddling', 'the', 'item', 'on', 'the', 'same', 'website', 'that', 'calls', 'it', 'dangerous']\n",
            "\n",
            "\n",
            "\n",
            "\n",
            "['an', 'afghan', 'migrant', 'attacked', 'a', 'woman', 'at', 'an', 'asylum', 'centre', 'in', 'austria', 'because', 'she', 'was', 'reading', 'a', 'bible', '.', 'the', 'attack', 'took', 'place', 'in', 'the', 'town', 'of', 'timelkam', 'in', 'the', 'state', 'of', 'upper', 'austria', '.']\n",
            "\n",
            "\n",
            "['An', 'Afghan', 'migrant', 'attacked', 'a', 'woman', 'at', 'an', 'asylum', 'centre', 'in', 'Austria', 'because', 'she', 'was', 'reading', 'a', 'bible']\n",
            "\n",
            "\n",
            "\n",
            "\n",
            "['walt', 'disney', 'studios', 'moved', 'pirates', 'of', 'the', 'caribbean', '5', 'from', 'july', '10', '2015', 'to', 'an', 'unspecified', 'date', 'in', '2016', '.', 'thr', 'had', 'more', 'on', 'the', 'move', 'script', 'issues', 'are', 'said', 'to', 'be', 'the', 'cause']\n",
            "\n",
            "\n",
            "[\"'Pirates\", '5', \"'\", 'Release', 'Date', 'Shifted', 'To', '2016']\n",
            "\n",
            "\n",
            "\n",
            "\n",
            "['tom', 'hiddleston', 'is', 'setting', 'the', 'record', 'straight', 'about', 'dating', 'taylor', 'swift', 'the', 'thor', 'actor', 'tried', 'to', 'clear', 'this', 'whole', 'messy', 'situation', 'up', 'once', 'and', 'for', 'all', 'on', 'thursday', 'july', '14', '.', 'the', 'h']\n",
            "\n",
            "\n",
            "['``', 'That', \"'s\", 'the', 'truth', '.', 'It', \"'s\", 'not', 'a', 'publicity', 'stunt', '.', \"''\"]\n",
            "\n",
            "\n",
            "\n",
            "\n",
            "['dis', '177', 'an', 'alligator', 'killed', 'a', '2year-old']\n",
            "\n",
            "\n",
            "['Bees', ',', 'wasps', 'and', 'hornets']\n",
            "\n",
            "\n",
            "\n",
            "\n",
            "['brenham', 'police', 'department', 'created', 'a', 'facebook', 'post', 'that', 'read', 'in', 'part', 'we', 'know', 'this', 'was', 'an', 'isolated', 'incident', 'that', 'involved', 'a', 'single', 'employee', 'who', 'is', 'not', 'fond', 'of', 'law', 'enforcement', 'the', 'offduty', 'officer', 'ended', 'up', 'eating', 'at', 'the', 'chain', 'after', 'another', 'employee', 'stepped']\n",
            "\n",
            "\n",
            "['The', 'off-duty', 'officer', 'ended', 'up', 'eating', 'at', 'the', 'chain', ',', 'after', 'another', 'employee', 'stepped', 'in', '.', 'The', 'employee', 'who', 'refused', 'to', 'serve', 'him', 'was', 'fired', 'immediately', 'after', 'the', 'incident', '.']\n",
            "\n",
            "\n",
            "\n",
            "\n",
            "['snapchat', 'will', 'now', 'run', 'video', 'ads', 'in', 'between', 'your', 'friends', \"'\", 'stories', 'to', 'give', 'advertisers', 'a', 'better', 'shot', 'at', 'reaching', 'some', 'of', 'the', 'company', \"'\", 's', '150', 'million', 'daily', 'users', 'the', 'video', 'ads', 'will', 'be', 'known', 'by', 'the', 'extremely', 'clever', 'name', 'snap', 'ads', 'between']\n",
            "\n",
            "\n",
            "['video', 'ads', 'in', 'between', 'your', 'friends', '’', 'stories']\n",
            "\n",
            "\n",
            "\n",
            "\n",
            "['mhairi', 'black', 'was', '20', 'when', 'she', 'won', 'the', 'seat', 'of', 'paisley', 'and', 'renfrewshire', 'south', 'for', 'the', 'snp', 'from', 'labour', 's', 'douglas', 'alexander', 'in', '2015', '.', 'the', 'youngest', 'mp', 'elected']\n",
            "\n",
            "\n",
            "['Black', ',', 'who', 'was', '20', 'when', 'she', 'won', 'the', 'seat', 'of', 'Paisley', 'and', 'Renfrewshire', 'South', 'for', 'the', 'SNP']\n",
            "\n",
            "\n",
            "\n",
            "\n",
            "['the', 's', 'has', 'appeared', 'throughout', 'all', 'of', 'north', 'america', 'south', 'america', 'europe', 'russia', 'asia', 'and', 'australia', 'some', 'people', 'think', 'its', 'a', '90s', 'thing', 'others', 'report', 'seeing', 'it', 'as', 'early', 'as', 'the', '1960s', 'there', 'were', 'theories', 'that', 'it', 'was', 'the', 'symbol']\n",
            "\n",
            "\n",
            "['it', \"'s\", 'just', 'the', 'most', 'fun', 'ever']\n",
            "\n",
            "\n",
            "\n",
            "\n",
            "['cyprus', 'is', 'the', 'cheapest', 'option', 'for', 'a', 'last']\n",
            "\n",
            "\n",
            "['Cyprus']\n",
            "\n",
            "\n",
            "\n",
            "\n",
            "['google', 'paid', 'a', 'tax', 'rate', 'of', '26', 'percent', 'on', '81', 'billion', 'in']\n",
            "\n",
            "\n",
            "['UK', 'tax', 'bill', 'of', '35', 'million', 'pounds', '(', '$', '55', 'million', ')', 'in', '2012']\n",
            "\n",
            "\n",
            "\n",
            "\n",
            "['paul', 'servat', 'was', 'waiting', 'to', 'see', 'his', 'first', 'baby', 'but', 'five']\n",
            "\n",
            "\n",
            "['was', 'not', 'pregnant']\n",
            "\n",
            "\n",
            "\n",
            "\n",
            "['most', 'successful', 'businesses', 'operate', 'by', 'following', 'a', 'fundamental', 'set', 'of', 'core', 'values', 'their']\n",
            "\n",
            "\n",
            "['own', 'personal', 'values']\n",
            "\n",
            "\n",
            "\n",
            "\n",
            "['the', 'drug', 'enforcement', 'administration', 'says', 'marijuana', 'lacks', 'medical', 'value', 'so', 'why', 'did', 'the', 'us', 'government', 'file', 'a', 'patent', 'for', 'cannabis', 'as', 'far', 'back', 'as', '1999', '.', 'the', 'dea', 'declined', 'to', 'loosen', 'federal', 'restrictions', 'on', 'cannabis', 'last', 'week', 'to', 'highlight', 'the', 'seeming', 'contradiction', 'they']\n",
            "\n",
            "\n",
            "['one', 'patent', ',', 'number', '6630507', ',', 'disqualifies', 'cannabis', 'from', 'the', 'Controlled', 'Substances', 'Act']\n",
            "\n",
            "\n",
            "\n",
            "\n",
            "['the', 'trailer', 'for', 'what', 'if', 'with', 'daniel', 'rad']\n",
            "\n",
            "\n",
            "['``', 'Obvious', 'Child', \"''\"]\n",
            "\n",
            "\n",
            "\n",
            "\n",
            "['kate', 'middleton', 'and', 'prince', 'william', 'are', 'looking', 'for']\n",
            "\n",
            "\n",
            "['housekeeper']\n",
            "\n",
            "\n",
            "\n",
            "\n",
            "['student', 'debt', 'derails', 'young', 'people', 'from', 'the', 'american', 'dream', 'of', 'owning', 'a', 'home', 'that', 'depends', 'on', 'which', 'headline', 'you', 'click', 'so', 'what', \"'\", 's', 'really', 'going', 'on', 'here', 'the', 'findings', 'of', 'the', 'two', 'studies', 'don', '’', 't', 'exactly', 'contradict', '.']\n",
            "\n",
            "\n",
            "['student', 'debt', 'does', 'delay', 'major', 'life', 'decisions', 'like', 'homeownership']\n",
            "\n",
            "\n",
            "\n",
            "\n",
            "['hillary', 'clinton', 'has', 'been', 'asked', 'this', 'question', 'repeatedly', 'during', 'her', 'campaign']\n",
            "\n",
            "\n",
            "['the', 'first', 'gentleman']\n",
            "\n",
            "\n",
            "\n",
            "\n",
            "['national', 'motorists', 'association', 'has', 'declared', 'june', 'lane', 'courtesy', 'month', 'in', 'an', 'effort', 'to', 'raise', 'the', 'risk', 'of', 'accidents', '.', 'the', 'system', 'works', 'best', 'when', 'people', 'arent', 'hogging', 'the', 'left', 'lane', 'thats', 'one', 'reason', 'why', 'the', 'national', 'motorist']\n",
            "\n",
            "\n",
            "['it', \"'ll\", 'inevitably', 'lead', 'to', 'buildups', 'of', 'traffic', 'and', 'likely', 'raise', 'the', 'chance', 'of', 'accidents']\n",
            "\n",
            "\n"
          ]
        }
      ],
      "source": [
        "for i in range(len(dataframe)):\n",
        "# for data_results in dataframe[0]:\n",
        "  gen_spoiler_strip = dataframe.iloc[i][\"gen_spoiler\"]\n",
        "  actual_spoiler_strip = dataframe.iloc[i][\"actual_spoiler\"]\n",
        "\n",
        "\n",
        "  ref = word_tokenize(gen_spoiler_strip)\n",
        "  hypo = word_tokenize(actual_spoiler_strip)\n",
        "\n",
        "  print(\"\\n\")\n",
        "  print(ref)\n",
        "  print(\"\\n\")\n",
        "  print(hypo)\n",
        "  print(\"\\n\")"
      ]
    },
    {
      "cell_type": "code",
      "execution_count": null,
      "metadata": {
        "id": "BE3MJmnnw3_y"
      },
      "outputs": [],
      "source": [
        "bert_scores_P"
      ]
    },
    {
      "cell_type": "code",
      "execution_count": null,
      "metadata": {
        "id": "KjZYcKz9w4kh"
      },
      "outputs": [],
      "source": [
        "bert_scores_R"
      ]
    },
    {
      "cell_type": "code",
      "execution_count": null,
      "metadata": {
        "id": "DfzCDtOXw5h9"
      },
      "outputs": [],
      "source": [
        "bert_scores_F1"
      ]
    }
  ],
  "metadata": {
    "accelerator": "GPU",
    "colab": {
      "gpuType": "T4",
      "machine_shape": "hm",
      "provenance": []
    },
    "gpuClass": "standard",
    "kernelspec": {
      "display_name": "Python 3",
      "name": "python3"
    },
    "language_info": {
      "name": "python"
    },
    "orig_nbformat": 4,
    "widgets": {
      "application/vnd.jupyter.widget-state+json": {
        "067d3a14ae02459fb745f37233c207d0": {
          "model_module": "@jupyter-widgets/controls",
          "model_module_version": "1.5.0",
          "model_name": "HTMLModel",
          "state": {
            "_dom_classes": [],
            "_model_module": "@jupyter-widgets/controls",
            "_model_module_version": "1.5.0",
            "_model_name": "HTMLModel",
            "_view_count": null,
            "_view_module": "@jupyter-widgets/controls",
            "_view_module_version": "1.5.0",
            "_view_name": "HTMLView",
            "description": "",
            "description_tooltip": null,
            "layout": "IPY_MODEL_b1b1d5cf452a416d946fef7faf848aa2",
            "placeholder": "​",
            "style": "IPY_MODEL_ec19a6a9eb504420885dc20b2c560a99",
            "value": "Downloading (…)ve/main/spiece.model: 100%"
          }
        },
        "0c9f8d0fc2d24f19aed33483299bcca0": {
          "model_module": "@jupyter-widgets/controls",
          "model_module_version": "1.5.0",
          "model_name": "FloatProgressModel",
          "state": {
            "_dom_classes": [],
            "_model_module": "@jupyter-widgets/controls",
            "_model_module_version": "1.5.0",
            "_model_name": "FloatProgressModel",
            "_view_count": null,
            "_view_module": "@jupyter-widgets/controls",
            "_view_module_version": "1.5.0",
            "_view_name": "ProgressView",
            "bar_style": "success",
            "description": "",
            "description_tooltip": null,
            "layout": "IPY_MODEL_8da1181f8e8f4b518f0471ff894a0b05",
            "max": 2324,
            "min": 0,
            "orientation": "horizontal",
            "style": "IPY_MODEL_1f1f9094ce374a14929552040d555408",
            "value": 2324
          }
        },
        "0fe47f9248e1403eab0194b01ab3f0fc": {
          "model_module": "@jupyter-widgets/controls",
          "model_module_version": "1.5.0",
          "model_name": "DescriptionStyleModel",
          "state": {
            "_model_module": "@jupyter-widgets/controls",
            "_model_module_version": "1.5.0",
            "_model_name": "DescriptionStyleModel",
            "_view_count": null,
            "_view_module": "@jupyter-widgets/base",
            "_view_module_version": "1.2.0",
            "_view_name": "StyleView",
            "description_width": ""
          }
        },
        "138a3ca72fe84590987ba2cb013e83ba": {
          "model_module": "@jupyter-widgets/controls",
          "model_module_version": "1.5.0",
          "model_name": "DescriptionStyleModel",
          "state": {
            "_model_module": "@jupyter-widgets/controls",
            "_model_module_version": "1.5.0",
            "_model_name": "DescriptionStyleModel",
            "_view_count": null,
            "_view_module": "@jupyter-widgets/base",
            "_view_module_version": "1.2.0",
            "_view_name": "StyleView",
            "description_width": ""
          }
        },
        "1c1e64fc37d9478f92a399f055a692fd": {
          "model_module": "@jupyter-widgets/base",
          "model_module_version": "1.2.0",
          "model_name": "LayoutModel",
          "state": {
            "_model_module": "@jupyter-widgets/base",
            "_model_module_version": "1.2.0",
            "_model_name": "LayoutModel",
            "_view_count": null,
            "_view_module": "@jupyter-widgets/base",
            "_view_module_version": "1.2.0",
            "_view_name": "LayoutView",
            "align_content": null,
            "align_items": null,
            "align_self": null,
            "border": null,
            "bottom": null,
            "display": null,
            "flex": null,
            "flex_flow": null,
            "grid_area": null,
            "grid_auto_columns": null,
            "grid_auto_flow": null,
            "grid_auto_rows": null,
            "grid_column": null,
            "grid_gap": null,
            "grid_row": null,
            "grid_template_areas": null,
            "grid_template_columns": null,
            "grid_template_rows": null,
            "height": null,
            "justify_content": null,
            "justify_items": null,
            "left": null,
            "margin": null,
            "max_height": null,
            "max_width": null,
            "min_height": null,
            "min_width": null,
            "object_fit": null,
            "object_position": null,
            "order": null,
            "overflow": null,
            "overflow_x": null,
            "overflow_y": null,
            "padding": null,
            "right": null,
            "top": null,
            "visibility": null,
            "width": null
          }
        },
        "1f1f9094ce374a14929552040d555408": {
          "model_module": "@jupyter-widgets/controls",
          "model_module_version": "1.5.0",
          "model_name": "ProgressStyleModel",
          "state": {
            "_model_module": "@jupyter-widgets/controls",
            "_model_module_version": "1.5.0",
            "_model_name": "ProgressStyleModel",
            "_view_count": null,
            "_view_module": "@jupyter-widgets/base",
            "_view_module_version": "1.2.0",
            "_view_name": "StyleView",
            "bar_color": null,
            "description_width": ""
          }
        },
        "1fa2be2665c443699ad8d7a2cfb1944b": {
          "model_module": "@jupyter-widgets/controls",
          "model_module_version": "1.5.0",
          "model_name": "HTMLModel",
          "state": {
            "_dom_classes": [],
            "_model_module": "@jupyter-widgets/controls",
            "_model_module_version": "1.5.0",
            "_model_name": "HTMLModel",
            "_view_count": null,
            "_view_module": "@jupyter-widgets/controls",
            "_view_module_version": "1.5.0",
            "_view_name": "HTMLView",
            "description": "",
            "description_tooltip": null,
            "layout": "IPY_MODEL_eff91f4d8d6e4401a3e3966bb2b649d1",
            "placeholder": "​",
            "style": "IPY_MODEL_138a3ca72fe84590987ba2cb013e83ba",
            "value": " 792k/792k [00:00&lt;00:00, 2.61MB/s]"
          }
        },
        "1fe6a38562194eb5ad5b7740516e6a91": {
          "model_module": "@jupyter-widgets/controls",
          "model_module_version": "1.5.0",
          "model_name": "ProgressStyleModel",
          "state": {
            "_model_module": "@jupyter-widgets/controls",
            "_model_module_version": "1.5.0",
            "_model_name": "ProgressStyleModel",
            "_view_count": null,
            "_view_module": "@jupyter-widgets/base",
            "_view_module_version": "1.2.0",
            "_view_name": "StyleView",
            "bar_color": null,
            "description_width": ""
          }
        },
        "214c0be3e20b40c9af56c30121cd427a": {
          "model_module": "@jupyter-widgets/base",
          "model_module_version": "1.2.0",
          "model_name": "LayoutModel",
          "state": {
            "_model_module": "@jupyter-widgets/base",
            "_model_module_version": "1.2.0",
            "_model_name": "LayoutModel",
            "_view_count": null,
            "_view_module": "@jupyter-widgets/base",
            "_view_module_version": "1.2.0",
            "_view_name": "LayoutView",
            "align_content": null,
            "align_items": null,
            "align_self": null,
            "border": null,
            "bottom": null,
            "display": null,
            "flex": null,
            "flex_flow": null,
            "grid_area": null,
            "grid_auto_columns": null,
            "grid_auto_flow": null,
            "grid_auto_rows": null,
            "grid_column": null,
            "grid_gap": null,
            "grid_row": null,
            "grid_template_areas": null,
            "grid_template_columns": null,
            "grid_template_rows": null,
            "height": null,
            "justify_content": null,
            "justify_items": null,
            "left": null,
            "margin": null,
            "max_height": null,
            "max_width": null,
            "min_height": null,
            "min_width": null,
            "object_fit": null,
            "object_position": null,
            "order": null,
            "overflow": null,
            "overflow_x": null,
            "overflow_y": null,
            "padding": null,
            "right": null,
            "top": null,
            "visibility": null,
            "width": null
          }
        },
        "2d2e6af0a84749828a40d0afc4c12f5d": {
          "model_module": "@jupyter-widgets/controls",
          "model_module_version": "1.5.0",
          "model_name": "FloatProgressModel",
          "state": {
            "_dom_classes": [],
            "_model_module": "@jupyter-widgets/controls",
            "_model_module_version": "1.5.0",
            "_model_name": "FloatProgressModel",
            "_view_count": null,
            "_view_module": "@jupyter-widgets/controls",
            "_view_module_version": "1.5.0",
            "_view_name": "ProgressView",
            "bar_style": "success",
            "description": "",
            "description_tooltip": null,
            "layout": "IPY_MODEL_cc089c42a01743689567e3e4b2f52429",
            "max": 242065649,
            "min": 0,
            "orientation": "horizontal",
            "style": "IPY_MODEL_5f0fe317a0664fc49f036883a56de171",
            "value": 242065649
          }
        },
        "329206de56d741808ac4b729f7e2d3f8": {
          "model_module": "@jupyter-widgets/controls",
          "model_module_version": "1.5.0",
          "model_name": "HTMLModel",
          "state": {
            "_dom_classes": [],
            "_model_module": "@jupyter-widgets/controls",
            "_model_module_version": "1.5.0",
            "_model_name": "HTMLModel",
            "_view_count": null,
            "_view_module": "@jupyter-widgets/controls",
            "_view_module_version": "1.5.0",
            "_view_name": "HTMLView",
            "description": "",
            "description_tooltip": null,
            "layout": "IPY_MODEL_214c0be3e20b40c9af56c30121cd427a",
            "placeholder": "​",
            "style": "IPY_MODEL_3e2b914a34eb43ae86082f0a5c71ad49",
            "value": " 1.21k/1.21k [00:00&lt;00:00, 112kB/s]"
          }
        },
        "37bbd19676c44b8382bc736cf2b3276d": {
          "model_module": "@jupyter-widgets/base",
          "model_module_version": "1.2.0",
          "model_name": "LayoutModel",
          "state": {
            "_model_module": "@jupyter-widgets/base",
            "_model_module_version": "1.2.0",
            "_model_name": "LayoutModel",
            "_view_count": null,
            "_view_module": "@jupyter-widgets/base",
            "_view_module_version": "1.2.0",
            "_view_name": "LayoutView",
            "align_content": null,
            "align_items": null,
            "align_self": null,
            "border": null,
            "bottom": null,
            "display": null,
            "flex": null,
            "flex_flow": null,
            "grid_area": null,
            "grid_auto_columns": null,
            "grid_auto_flow": null,
            "grid_auto_rows": null,
            "grid_column": null,
            "grid_gap": null,
            "grid_row": null,
            "grid_template_areas": null,
            "grid_template_columns": null,
            "grid_template_rows": null,
            "height": null,
            "justify_content": null,
            "justify_items": null,
            "left": null,
            "margin": null,
            "max_height": null,
            "max_width": null,
            "min_height": null,
            "min_width": null,
            "object_fit": null,
            "object_position": null,
            "order": null,
            "overflow": null,
            "overflow_x": null,
            "overflow_y": null,
            "padding": null,
            "right": null,
            "top": null,
            "visibility": null,
            "width": null
          }
        },
        "394b857f56f44a4b91d342c01b38079b": {
          "model_module": "@jupyter-widgets/base",
          "model_module_version": "1.2.0",
          "model_name": "LayoutModel",
          "state": {
            "_model_module": "@jupyter-widgets/base",
            "_model_module_version": "1.2.0",
            "_model_name": "LayoutModel",
            "_view_count": null,
            "_view_module": "@jupyter-widgets/base",
            "_view_module_version": "1.2.0",
            "_view_name": "LayoutView",
            "align_content": null,
            "align_items": null,
            "align_self": null,
            "border": null,
            "bottom": null,
            "display": null,
            "flex": null,
            "flex_flow": null,
            "grid_area": null,
            "grid_auto_columns": null,
            "grid_auto_flow": null,
            "grid_auto_rows": null,
            "grid_column": null,
            "grid_gap": null,
            "grid_row": null,
            "grid_template_areas": null,
            "grid_template_columns": null,
            "grid_template_rows": null,
            "height": null,
            "justify_content": null,
            "justify_items": null,
            "left": null,
            "margin": null,
            "max_height": null,
            "max_width": null,
            "min_height": null,
            "min_width": null,
            "object_fit": null,
            "object_position": null,
            "order": null,
            "overflow": null,
            "overflow_x": null,
            "overflow_y": null,
            "padding": null,
            "right": null,
            "top": null,
            "visibility": null,
            "width": null
          }
        },
        "3991c629b14642b39162a4590f7a077d": {
          "model_module": "@jupyter-widgets/controls",
          "model_module_version": "1.5.0",
          "model_name": "HTMLModel",
          "state": {
            "_dom_classes": [],
            "_model_module": "@jupyter-widgets/controls",
            "_model_module_version": "1.5.0",
            "_model_name": "HTMLModel",
            "_view_count": null,
            "_view_module": "@jupyter-widgets/controls",
            "_view_module_version": "1.5.0",
            "_view_name": "HTMLView",
            "description": "",
            "description_tooltip": null,
            "layout": "IPY_MODEL_4ccba4794d324e30a39ba258e7704275",
            "placeholder": "​",
            "style": "IPY_MODEL_0fe47f9248e1403eab0194b01ab3f0fc",
            "value": " 2.32k/2.32k [00:00&lt;00:00, 218kB/s]"
          }
        },
        "3b8e8dafc29e4850ab106850fe9e36fa": {
          "model_module": "@jupyter-widgets/controls",
          "model_module_version": "1.5.0",
          "model_name": "HTMLModel",
          "state": {
            "_dom_classes": [],
            "_model_module": "@jupyter-widgets/controls",
            "_model_module_version": "1.5.0",
            "_model_name": "HTMLModel",
            "_view_count": null,
            "_view_module": "@jupyter-widgets/controls",
            "_view_module_version": "1.5.0",
            "_view_name": "HTMLView",
            "description": "",
            "description_tooltip": null,
            "layout": "IPY_MODEL_805d9c0f11684220ba3f465ebbbd8db8",
            "placeholder": "​",
            "style": "IPY_MODEL_b3b3fd7de71545b192017f309e39982a",
            "value": "Downloading (…)neration_config.json: 100%"
          }
        },
        "3e2b914a34eb43ae86082f0a5c71ad49": {
          "model_module": "@jupyter-widgets/controls",
          "model_module_version": "1.5.0",
          "model_name": "DescriptionStyleModel",
          "state": {
            "_model_module": "@jupyter-widgets/controls",
            "_model_module_version": "1.5.0",
            "_model_name": "DescriptionStyleModel",
            "_view_count": null,
            "_view_module": "@jupyter-widgets/base",
            "_view_module_version": "1.2.0",
            "_view_name": "StyleView",
            "description_width": ""
          }
        },
        "41ff79894aa149cda39069f169898973": {
          "model_module": "@jupyter-widgets/controls",
          "model_module_version": "1.5.0",
          "model_name": "HBoxModel",
          "state": {
            "_dom_classes": [],
            "_model_module": "@jupyter-widgets/controls",
            "_model_module_version": "1.5.0",
            "_model_name": "HBoxModel",
            "_view_count": null,
            "_view_module": "@jupyter-widgets/controls",
            "_view_module_version": "1.5.0",
            "_view_name": "HBoxView",
            "box_style": "",
            "children": [
              "IPY_MODEL_067d3a14ae02459fb745f37233c207d0",
              "IPY_MODEL_ca480b430fbe451c83d57c9e19a44cd5",
              "IPY_MODEL_1fa2be2665c443699ad8d7a2cfb1944b"
            ],
            "layout": "IPY_MODEL_f45b7d98077c4caf8e69799cd1a07486"
          }
        },
        "427db3a4d8a7469eb5df36378f333c46": {
          "model_module": "@jupyter-widgets/controls",
          "model_module_version": "1.5.0",
          "model_name": "ProgressStyleModel",
          "state": {
            "_model_module": "@jupyter-widgets/controls",
            "_model_module_version": "1.5.0",
            "_model_name": "ProgressStyleModel",
            "_view_count": null,
            "_view_module": "@jupyter-widgets/base",
            "_view_module_version": "1.2.0",
            "_view_name": "StyleView",
            "bar_color": null,
            "description_width": ""
          }
        },
        "46b54c785f414985b857626f3a32f3b9": {
          "model_module": "@jupyter-widgets/base",
          "model_module_version": "1.2.0",
          "model_name": "LayoutModel",
          "state": {
            "_model_module": "@jupyter-widgets/base",
            "_model_module_version": "1.2.0",
            "_model_name": "LayoutModel",
            "_view_count": null,
            "_view_module": "@jupyter-widgets/base",
            "_view_module_version": "1.2.0",
            "_view_name": "LayoutView",
            "align_content": null,
            "align_items": null,
            "align_self": null,
            "border": null,
            "bottom": null,
            "display": null,
            "flex": null,
            "flex_flow": null,
            "grid_area": null,
            "grid_auto_columns": null,
            "grid_auto_flow": null,
            "grid_auto_rows": null,
            "grid_column": null,
            "grid_gap": null,
            "grid_row": null,
            "grid_template_areas": null,
            "grid_template_columns": null,
            "grid_template_rows": null,
            "height": null,
            "justify_content": null,
            "justify_items": null,
            "left": null,
            "margin": null,
            "max_height": null,
            "max_width": null,
            "min_height": null,
            "min_width": null,
            "object_fit": null,
            "object_position": null,
            "order": null,
            "overflow": null,
            "overflow_x": null,
            "overflow_y": null,
            "padding": null,
            "right": null,
            "top": null,
            "visibility": null,
            "width": null
          }
        },
        "4ccba4794d324e30a39ba258e7704275": {
          "model_module": "@jupyter-widgets/base",
          "model_module_version": "1.2.0",
          "model_name": "LayoutModel",
          "state": {
            "_model_module": "@jupyter-widgets/base",
            "_model_module_version": "1.2.0",
            "_model_name": "LayoutModel",
            "_view_count": null,
            "_view_module": "@jupyter-widgets/base",
            "_view_module_version": "1.2.0",
            "_view_name": "LayoutView",
            "align_content": null,
            "align_items": null,
            "align_self": null,
            "border": null,
            "bottom": null,
            "display": null,
            "flex": null,
            "flex_flow": null,
            "grid_area": null,
            "grid_auto_columns": null,
            "grid_auto_flow": null,
            "grid_auto_rows": null,
            "grid_column": null,
            "grid_gap": null,
            "grid_row": null,
            "grid_template_areas": null,
            "grid_template_columns": null,
            "grid_template_rows": null,
            "height": null,
            "justify_content": null,
            "justify_items": null,
            "left": null,
            "margin": null,
            "max_height": null,
            "max_width": null,
            "min_height": null,
            "min_width": null,
            "object_fit": null,
            "object_position": null,
            "order": null,
            "overflow": null,
            "overflow_x": null,
            "overflow_y": null,
            "padding": null,
            "right": null,
            "top": null,
            "visibility": null,
            "width": null
          }
        },
        "566a1b21cee942adaa962df241d50549": {
          "model_module": "@jupyter-widgets/base",
          "model_module_version": "1.2.0",
          "model_name": "LayoutModel",
          "state": {
            "_model_module": "@jupyter-widgets/base",
            "_model_module_version": "1.2.0",
            "_model_name": "LayoutModel",
            "_view_count": null,
            "_view_module": "@jupyter-widgets/base",
            "_view_module_version": "1.2.0",
            "_view_name": "LayoutView",
            "align_content": null,
            "align_items": null,
            "align_self": null,
            "border": null,
            "bottom": null,
            "display": null,
            "flex": null,
            "flex_flow": null,
            "grid_area": null,
            "grid_auto_columns": null,
            "grid_auto_flow": null,
            "grid_auto_rows": null,
            "grid_column": null,
            "grid_gap": null,
            "grid_row": null,
            "grid_template_areas": null,
            "grid_template_columns": null,
            "grid_template_rows": null,
            "height": null,
            "justify_content": null,
            "justify_items": null,
            "left": null,
            "margin": null,
            "max_height": null,
            "max_width": null,
            "min_height": null,
            "min_width": null,
            "object_fit": null,
            "object_position": null,
            "order": null,
            "overflow": null,
            "overflow_x": null,
            "overflow_y": null,
            "padding": null,
            "right": null,
            "top": null,
            "visibility": null,
            "width": null
          }
        },
        "59efa454d8ac4f3dae7ea68ed58137d4": {
          "model_module": "@jupyter-widgets/controls",
          "model_module_version": "1.5.0",
          "model_name": "HTMLModel",
          "state": {
            "_dom_classes": [],
            "_model_module": "@jupyter-widgets/controls",
            "_model_module_version": "1.5.0",
            "_model_name": "HTMLModel",
            "_view_count": null,
            "_view_module": "@jupyter-widgets/controls",
            "_view_module_version": "1.5.0",
            "_view_name": "HTMLView",
            "description": "",
            "description_tooltip": null,
            "layout": "IPY_MODEL_46b54c785f414985b857626f3a32f3b9",
            "placeholder": "​",
            "style": "IPY_MODEL_d3ca5633c8ec4268a2b2e4f695d64521",
            "value": "Downloading (…)lve/main/config.json: 100%"
          }
        },
        "5d7287f9a14841b9967edfe865ea287f": {
          "model_module": "@jupyter-widgets/controls",
          "model_module_version": "1.5.0",
          "model_name": "HTMLModel",
          "state": {
            "_dom_classes": [],
            "_model_module": "@jupyter-widgets/controls",
            "_model_module_version": "1.5.0",
            "_model_name": "HTMLModel",
            "_view_count": null,
            "_view_module": "@jupyter-widgets/controls",
            "_view_module_version": "1.5.0",
            "_view_name": "HTMLView",
            "description": "",
            "description_tooltip": null,
            "layout": "IPY_MODEL_733a2980ec02450aa880853f1bb12e05",
            "placeholder": "​",
            "style": "IPY_MODEL_6bafc83cf73941339b17ac3301d157c9",
            "value": "Downloading pytorch_model.bin: 100%"
          }
        },
        "5f0fe317a0664fc49f036883a56de171": {
          "model_module": "@jupyter-widgets/controls",
          "model_module_version": "1.5.0",
          "model_name": "ProgressStyleModel",
          "state": {
            "_model_module": "@jupyter-widgets/controls",
            "_model_module_version": "1.5.0",
            "_model_name": "ProgressStyleModel",
            "_view_count": null,
            "_view_module": "@jupyter-widgets/base",
            "_view_module_version": "1.2.0",
            "_view_name": "StyleView",
            "bar_color": null,
            "description_width": ""
          }
        },
        "62e371d1632e4812ad02edd5f63c83a9": {
          "model_module": "@jupyter-widgets/base",
          "model_module_version": "1.2.0",
          "model_name": "LayoutModel",
          "state": {
            "_model_module": "@jupyter-widgets/base",
            "_model_module_version": "1.2.0",
            "_model_name": "LayoutModel",
            "_view_count": null,
            "_view_module": "@jupyter-widgets/base",
            "_view_module_version": "1.2.0",
            "_view_name": "LayoutView",
            "align_content": null,
            "align_items": null,
            "align_self": null,
            "border": null,
            "bottom": null,
            "display": null,
            "flex": null,
            "flex_flow": null,
            "grid_area": null,
            "grid_auto_columns": null,
            "grid_auto_flow": null,
            "grid_auto_rows": null,
            "grid_column": null,
            "grid_gap": null,
            "grid_row": null,
            "grid_template_areas": null,
            "grid_template_columns": null,
            "grid_template_rows": null,
            "height": null,
            "justify_content": null,
            "justify_items": null,
            "left": null,
            "margin": null,
            "max_height": null,
            "max_width": null,
            "min_height": null,
            "min_width": null,
            "object_fit": null,
            "object_position": null,
            "order": null,
            "overflow": null,
            "overflow_x": null,
            "overflow_y": null,
            "padding": null,
            "right": null,
            "top": null,
            "visibility": null,
            "width": null
          }
        },
        "62fcd8d08b4e4dbaa526ae5b29cee399": {
          "model_module": "@jupyter-widgets/base",
          "model_module_version": "1.2.0",
          "model_name": "LayoutModel",
          "state": {
            "_model_module": "@jupyter-widgets/base",
            "_model_module_version": "1.2.0",
            "_model_name": "LayoutModel",
            "_view_count": null,
            "_view_module": "@jupyter-widgets/base",
            "_view_module_version": "1.2.0",
            "_view_name": "LayoutView",
            "align_content": null,
            "align_items": null,
            "align_self": null,
            "border": null,
            "bottom": null,
            "display": null,
            "flex": null,
            "flex_flow": null,
            "grid_area": null,
            "grid_auto_columns": null,
            "grid_auto_flow": null,
            "grid_auto_rows": null,
            "grid_column": null,
            "grid_gap": null,
            "grid_row": null,
            "grid_template_areas": null,
            "grid_template_columns": null,
            "grid_template_rows": null,
            "height": null,
            "justify_content": null,
            "justify_items": null,
            "left": null,
            "margin": null,
            "max_height": null,
            "max_width": null,
            "min_height": null,
            "min_width": null,
            "object_fit": null,
            "object_position": null,
            "order": null,
            "overflow": null,
            "overflow_x": null,
            "overflow_y": null,
            "padding": null,
            "right": null,
            "top": null,
            "visibility": null,
            "width": null
          }
        },
        "66674f01711f461f8346110a206c4b68": {
          "model_module": "@jupyter-widgets/base",
          "model_module_version": "1.2.0",
          "model_name": "LayoutModel",
          "state": {
            "_model_module": "@jupyter-widgets/base",
            "_model_module_version": "1.2.0",
            "_model_name": "LayoutModel",
            "_view_count": null,
            "_view_module": "@jupyter-widgets/base",
            "_view_module_version": "1.2.0",
            "_view_name": "LayoutView",
            "align_content": null,
            "align_items": null,
            "align_self": null,
            "border": null,
            "bottom": null,
            "display": null,
            "flex": null,
            "flex_flow": null,
            "grid_area": null,
            "grid_auto_columns": null,
            "grid_auto_flow": null,
            "grid_auto_rows": null,
            "grid_column": null,
            "grid_gap": null,
            "grid_row": null,
            "grid_template_areas": null,
            "grid_template_columns": null,
            "grid_template_rows": null,
            "height": null,
            "justify_content": null,
            "justify_items": null,
            "left": null,
            "margin": null,
            "max_height": null,
            "max_width": null,
            "min_height": null,
            "min_width": null,
            "object_fit": null,
            "object_position": null,
            "order": null,
            "overflow": null,
            "overflow_x": null,
            "overflow_y": null,
            "padding": null,
            "right": null,
            "top": null,
            "visibility": null,
            "width": null
          }
        },
        "670588e909024d85a226d8c576d96735": {
          "model_module": "@jupyter-widgets/controls",
          "model_module_version": "1.5.0",
          "model_name": "HTMLModel",
          "state": {
            "_dom_classes": [],
            "_model_module": "@jupyter-widgets/controls",
            "_model_module_version": "1.5.0",
            "_model_name": "HTMLModel",
            "_view_count": null,
            "_view_module": "@jupyter-widgets/controls",
            "_view_module_version": "1.5.0",
            "_view_name": "HTMLView",
            "description": "",
            "description_tooltip": null,
            "layout": "IPY_MODEL_566a1b21cee942adaa962df241d50549",
            "placeholder": "​",
            "style": "IPY_MODEL_8fe04e4066574b1a872a6fa67b429d49",
            "value": " 147/147 [00:00&lt;00:00, 12.8kB/s]"
          }
        },
        "6bafc83cf73941339b17ac3301d157c9": {
          "model_module": "@jupyter-widgets/controls",
          "model_module_version": "1.5.0",
          "model_name": "DescriptionStyleModel",
          "state": {
            "_model_module": "@jupyter-widgets/controls",
            "_model_module_version": "1.5.0",
            "_model_name": "DescriptionStyleModel",
            "_view_count": null,
            "_view_module": "@jupyter-widgets/base",
            "_view_module_version": "1.2.0",
            "_view_name": "StyleView",
            "description_width": ""
          }
        },
        "733a2980ec02450aa880853f1bb12e05": {
          "model_module": "@jupyter-widgets/base",
          "model_module_version": "1.2.0",
          "model_name": "LayoutModel",
          "state": {
            "_model_module": "@jupyter-widgets/base",
            "_model_module_version": "1.2.0",
            "_model_name": "LayoutModel",
            "_view_count": null,
            "_view_module": "@jupyter-widgets/base",
            "_view_module_version": "1.2.0",
            "_view_name": "LayoutView",
            "align_content": null,
            "align_items": null,
            "align_self": null,
            "border": null,
            "bottom": null,
            "display": null,
            "flex": null,
            "flex_flow": null,
            "grid_area": null,
            "grid_auto_columns": null,
            "grid_auto_flow": null,
            "grid_auto_rows": null,
            "grid_column": null,
            "grid_gap": null,
            "grid_row": null,
            "grid_template_areas": null,
            "grid_template_columns": null,
            "grid_template_rows": null,
            "height": null,
            "justify_content": null,
            "justify_items": null,
            "left": null,
            "margin": null,
            "max_height": null,
            "max_width": null,
            "min_height": null,
            "min_width": null,
            "object_fit": null,
            "object_position": null,
            "order": null,
            "overflow": null,
            "overflow_x": null,
            "overflow_y": null,
            "padding": null,
            "right": null,
            "top": null,
            "visibility": null,
            "width": null
          }
        },
        "77f89b31556141a39a83cb3772c5d10a": {
          "model_module": "@jupyter-widgets/controls",
          "model_module_version": "1.5.0",
          "model_name": "FloatProgressModel",
          "state": {
            "_dom_classes": [],
            "_model_module": "@jupyter-widgets/controls",
            "_model_module_version": "1.5.0",
            "_model_name": "FloatProgressModel",
            "_view_count": null,
            "_view_module": "@jupyter-widgets/controls",
            "_view_module_version": "1.5.0",
            "_view_name": "ProgressView",
            "bar_style": "success",
            "description": "",
            "description_tooltip": null,
            "layout": "IPY_MODEL_d1802bcd7a9640acb441e6e6a69d3fb7",
            "max": 147,
            "min": 0,
            "orientation": "horizontal",
            "style": "IPY_MODEL_960874eec9e24924999d32bacb6856d5",
            "value": 147
          }
        },
        "805d9c0f11684220ba3f465ebbbd8db8": {
          "model_module": "@jupyter-widgets/base",
          "model_module_version": "1.2.0",
          "model_name": "LayoutModel",
          "state": {
            "_model_module": "@jupyter-widgets/base",
            "_model_module_version": "1.2.0",
            "_model_name": "LayoutModel",
            "_view_count": null,
            "_view_module": "@jupyter-widgets/base",
            "_view_module_version": "1.2.0",
            "_view_name": "LayoutView",
            "align_content": null,
            "align_items": null,
            "align_self": null,
            "border": null,
            "bottom": null,
            "display": null,
            "flex": null,
            "flex_flow": null,
            "grid_area": null,
            "grid_auto_columns": null,
            "grid_auto_flow": null,
            "grid_auto_rows": null,
            "grid_column": null,
            "grid_gap": null,
            "grid_row": null,
            "grid_template_areas": null,
            "grid_template_columns": null,
            "grid_template_rows": null,
            "height": null,
            "justify_content": null,
            "justify_items": null,
            "left": null,
            "margin": null,
            "max_height": null,
            "max_width": null,
            "min_height": null,
            "min_width": null,
            "object_fit": null,
            "object_position": null,
            "order": null,
            "overflow": null,
            "overflow_x": null,
            "overflow_y": null,
            "padding": null,
            "right": null,
            "top": null,
            "visibility": null,
            "width": null
          }
        },
        "8692c8cce2084acb816e3e7f610436e9": {
          "model_module": "@jupyter-widgets/controls",
          "model_module_version": "1.5.0",
          "model_name": "HBoxModel",
          "state": {
            "_dom_classes": [],
            "_model_module": "@jupyter-widgets/controls",
            "_model_module_version": "1.5.0",
            "_model_name": "HBoxModel",
            "_view_count": null,
            "_view_module": "@jupyter-widgets/controls",
            "_view_module_version": "1.5.0",
            "_view_name": "HBoxView",
            "box_style": "",
            "children": [
              "IPY_MODEL_dc71b2d6da604d9f8741da230f70d9a1",
              "IPY_MODEL_0c9f8d0fc2d24f19aed33483299bcca0",
              "IPY_MODEL_3991c629b14642b39162a4590f7a077d"
            ],
            "layout": "IPY_MODEL_37bbd19676c44b8382bc736cf2b3276d"
          }
        },
        "8da1181f8e8f4b518f0471ff894a0b05": {
          "model_module": "@jupyter-widgets/base",
          "model_module_version": "1.2.0",
          "model_name": "LayoutModel",
          "state": {
            "_model_module": "@jupyter-widgets/base",
            "_model_module_version": "1.2.0",
            "_model_name": "LayoutModel",
            "_view_count": null,
            "_view_module": "@jupyter-widgets/base",
            "_view_module_version": "1.2.0",
            "_view_name": "LayoutView",
            "align_content": null,
            "align_items": null,
            "align_self": null,
            "border": null,
            "bottom": null,
            "display": null,
            "flex": null,
            "flex_flow": null,
            "grid_area": null,
            "grid_auto_columns": null,
            "grid_auto_flow": null,
            "grid_auto_rows": null,
            "grid_column": null,
            "grid_gap": null,
            "grid_row": null,
            "grid_template_areas": null,
            "grid_template_columns": null,
            "grid_template_rows": null,
            "height": null,
            "justify_content": null,
            "justify_items": null,
            "left": null,
            "margin": null,
            "max_height": null,
            "max_width": null,
            "min_height": null,
            "min_width": null,
            "object_fit": null,
            "object_position": null,
            "order": null,
            "overflow": null,
            "overflow_x": null,
            "overflow_y": null,
            "padding": null,
            "right": null,
            "top": null,
            "visibility": null,
            "width": null
          }
        },
        "8fe04e4066574b1a872a6fa67b429d49": {
          "model_module": "@jupyter-widgets/controls",
          "model_module_version": "1.5.0",
          "model_name": "DescriptionStyleModel",
          "state": {
            "_model_module": "@jupyter-widgets/controls",
            "_model_module_version": "1.5.0",
            "_model_name": "DescriptionStyleModel",
            "_view_count": null,
            "_view_module": "@jupyter-widgets/base",
            "_view_module_version": "1.2.0",
            "_view_name": "StyleView",
            "description_width": ""
          }
        },
        "9548bb418668461b961ef7ab345a50ff": {
          "model_module": "@jupyter-widgets/controls",
          "model_module_version": "1.5.0",
          "model_name": "HBoxModel",
          "state": {
            "_dom_classes": [],
            "_model_module": "@jupyter-widgets/controls",
            "_model_module_version": "1.5.0",
            "_model_name": "HBoxModel",
            "_view_count": null,
            "_view_module": "@jupyter-widgets/controls",
            "_view_module_version": "1.5.0",
            "_view_name": "HBoxView",
            "box_style": "",
            "children": [
              "IPY_MODEL_3b8e8dafc29e4850ab106850fe9e36fa",
              "IPY_MODEL_77f89b31556141a39a83cb3772c5d10a",
              "IPY_MODEL_670588e909024d85a226d8c576d96735"
            ],
            "layout": "IPY_MODEL_66674f01711f461f8346110a206c4b68"
          }
        },
        "960874eec9e24924999d32bacb6856d5": {
          "model_module": "@jupyter-widgets/controls",
          "model_module_version": "1.5.0",
          "model_name": "ProgressStyleModel",
          "state": {
            "_model_module": "@jupyter-widgets/controls",
            "_model_module_version": "1.5.0",
            "_model_name": "ProgressStyleModel",
            "_view_count": null,
            "_view_module": "@jupyter-widgets/base",
            "_view_module_version": "1.2.0",
            "_view_name": "StyleView",
            "bar_color": null,
            "description_width": ""
          }
        },
        "9e12e05e00ac43779cc75d5cfe7dff5c": {
          "model_module": "@jupyter-widgets/controls",
          "model_module_version": "1.5.0",
          "model_name": "DescriptionStyleModel",
          "state": {
            "_model_module": "@jupyter-widgets/controls",
            "_model_module_version": "1.5.0",
            "_model_name": "DescriptionStyleModel",
            "_view_count": null,
            "_view_module": "@jupyter-widgets/base",
            "_view_module_version": "1.2.0",
            "_view_name": "StyleView",
            "description_width": ""
          }
        },
        "a1a71424ce024f3a82f7a8a4ff7ab846": {
          "model_module": "@jupyter-widgets/controls",
          "model_module_version": "1.5.0",
          "model_name": "HBoxModel",
          "state": {
            "_dom_classes": [],
            "_model_module": "@jupyter-widgets/controls",
            "_model_module_version": "1.5.0",
            "_model_name": "HBoxModel",
            "_view_count": null,
            "_view_module": "@jupyter-widgets/controls",
            "_view_module_version": "1.5.0",
            "_view_name": "HBoxView",
            "box_style": "",
            "children": [
              "IPY_MODEL_5d7287f9a14841b9967edfe865ea287f",
              "IPY_MODEL_2d2e6af0a84749828a40d0afc4c12f5d",
              "IPY_MODEL_f26e3f0281834204a2983e212211b612"
            ],
            "layout": "IPY_MODEL_a98b489ca52c43a2a3d5c3a750227b1a"
          }
        },
        "a98b489ca52c43a2a3d5c3a750227b1a": {
          "model_module": "@jupyter-widgets/base",
          "model_module_version": "1.2.0",
          "model_name": "LayoutModel",
          "state": {
            "_model_module": "@jupyter-widgets/base",
            "_model_module_version": "1.2.0",
            "_model_name": "LayoutModel",
            "_view_count": null,
            "_view_module": "@jupyter-widgets/base",
            "_view_module_version": "1.2.0",
            "_view_name": "LayoutView",
            "align_content": null,
            "align_items": null,
            "align_self": null,
            "border": null,
            "bottom": null,
            "display": null,
            "flex": null,
            "flex_flow": null,
            "grid_area": null,
            "grid_auto_columns": null,
            "grid_auto_flow": null,
            "grid_auto_rows": null,
            "grid_column": null,
            "grid_gap": null,
            "grid_row": null,
            "grid_template_areas": null,
            "grid_template_columns": null,
            "grid_template_rows": null,
            "height": null,
            "justify_content": null,
            "justify_items": null,
            "left": null,
            "margin": null,
            "max_height": null,
            "max_width": null,
            "min_height": null,
            "min_width": null,
            "object_fit": null,
            "object_position": null,
            "order": null,
            "overflow": null,
            "overflow_x": null,
            "overflow_y": null,
            "padding": null,
            "right": null,
            "top": null,
            "visibility": null,
            "width": null
          }
        },
        "b1b1d5cf452a416d946fef7faf848aa2": {
          "model_module": "@jupyter-widgets/base",
          "model_module_version": "1.2.0",
          "model_name": "LayoutModel",
          "state": {
            "_model_module": "@jupyter-widgets/base",
            "_model_module_version": "1.2.0",
            "_model_name": "LayoutModel",
            "_view_count": null,
            "_view_module": "@jupyter-widgets/base",
            "_view_module_version": "1.2.0",
            "_view_name": "LayoutView",
            "align_content": null,
            "align_items": null,
            "align_self": null,
            "border": null,
            "bottom": null,
            "display": null,
            "flex": null,
            "flex_flow": null,
            "grid_area": null,
            "grid_auto_columns": null,
            "grid_auto_flow": null,
            "grid_auto_rows": null,
            "grid_column": null,
            "grid_gap": null,
            "grid_row": null,
            "grid_template_areas": null,
            "grid_template_columns": null,
            "grid_template_rows": null,
            "height": null,
            "justify_content": null,
            "justify_items": null,
            "left": null,
            "margin": null,
            "max_height": null,
            "max_width": null,
            "min_height": null,
            "min_width": null,
            "object_fit": null,
            "object_position": null,
            "order": null,
            "overflow": null,
            "overflow_x": null,
            "overflow_y": null,
            "padding": null,
            "right": null,
            "top": null,
            "visibility": null,
            "width": null
          }
        },
        "b3b3fd7de71545b192017f309e39982a": {
          "model_module": "@jupyter-widgets/controls",
          "model_module_version": "1.5.0",
          "model_name": "DescriptionStyleModel",
          "state": {
            "_model_module": "@jupyter-widgets/controls",
            "_model_module_version": "1.5.0",
            "_model_name": "DescriptionStyleModel",
            "_view_count": null,
            "_view_module": "@jupyter-widgets/base",
            "_view_module_version": "1.2.0",
            "_view_name": "StyleView",
            "description_width": ""
          }
        },
        "bbc474cec1c64e8c857ef6002d87e942": {
          "model_module": "@jupyter-widgets/base",
          "model_module_version": "1.2.0",
          "model_name": "LayoutModel",
          "state": {
            "_model_module": "@jupyter-widgets/base",
            "_model_module_version": "1.2.0",
            "_model_name": "LayoutModel",
            "_view_count": null,
            "_view_module": "@jupyter-widgets/base",
            "_view_module_version": "1.2.0",
            "_view_name": "LayoutView",
            "align_content": null,
            "align_items": null,
            "align_self": null,
            "border": null,
            "bottom": null,
            "display": null,
            "flex": null,
            "flex_flow": null,
            "grid_area": null,
            "grid_auto_columns": null,
            "grid_auto_flow": null,
            "grid_auto_rows": null,
            "grid_column": null,
            "grid_gap": null,
            "grid_row": null,
            "grid_template_areas": null,
            "grid_template_columns": null,
            "grid_template_rows": null,
            "height": null,
            "justify_content": null,
            "justify_items": null,
            "left": null,
            "margin": null,
            "max_height": null,
            "max_width": null,
            "min_height": null,
            "min_width": null,
            "object_fit": null,
            "object_position": null,
            "order": null,
            "overflow": null,
            "overflow_x": null,
            "overflow_y": null,
            "padding": null,
            "right": null,
            "top": null,
            "visibility": null,
            "width": null
          }
        },
        "ca480b430fbe451c83d57c9e19a44cd5": {
          "model_module": "@jupyter-widgets/controls",
          "model_module_version": "1.5.0",
          "model_name": "FloatProgressModel",
          "state": {
            "_dom_classes": [],
            "_model_module": "@jupyter-widgets/controls",
            "_model_module_version": "1.5.0",
            "_model_name": "FloatProgressModel",
            "_view_count": null,
            "_view_module": "@jupyter-widgets/controls",
            "_view_module_version": "1.5.0",
            "_view_name": "ProgressView",
            "bar_style": "success",
            "description": "",
            "description_tooltip": null,
            "layout": "IPY_MODEL_bbc474cec1c64e8c857ef6002d87e942",
            "max": 791656,
            "min": 0,
            "orientation": "horizontal",
            "style": "IPY_MODEL_427db3a4d8a7469eb5df36378f333c46",
            "value": 791656
          }
        },
        "caa69694ea924f55b1538ad52dd6171a": {
          "model_module": "@jupyter-widgets/controls",
          "model_module_version": "1.5.0",
          "model_name": "DescriptionStyleModel",
          "state": {
            "_model_module": "@jupyter-widgets/controls",
            "_model_module_version": "1.5.0",
            "_model_name": "DescriptionStyleModel",
            "_view_count": null,
            "_view_module": "@jupyter-widgets/base",
            "_view_module_version": "1.2.0",
            "_view_name": "StyleView",
            "description_width": ""
          }
        },
        "cc089c42a01743689567e3e4b2f52429": {
          "model_module": "@jupyter-widgets/base",
          "model_module_version": "1.2.0",
          "model_name": "LayoutModel",
          "state": {
            "_model_module": "@jupyter-widgets/base",
            "_model_module_version": "1.2.0",
            "_model_name": "LayoutModel",
            "_view_count": null,
            "_view_module": "@jupyter-widgets/base",
            "_view_module_version": "1.2.0",
            "_view_name": "LayoutView",
            "align_content": null,
            "align_items": null,
            "align_self": null,
            "border": null,
            "bottom": null,
            "display": null,
            "flex": null,
            "flex_flow": null,
            "grid_area": null,
            "grid_auto_columns": null,
            "grid_auto_flow": null,
            "grid_auto_rows": null,
            "grid_column": null,
            "grid_gap": null,
            "grid_row": null,
            "grid_template_areas": null,
            "grid_template_columns": null,
            "grid_template_rows": null,
            "height": null,
            "justify_content": null,
            "justify_items": null,
            "left": null,
            "margin": null,
            "max_height": null,
            "max_width": null,
            "min_height": null,
            "min_width": null,
            "object_fit": null,
            "object_position": null,
            "order": null,
            "overflow": null,
            "overflow_x": null,
            "overflow_y": null,
            "padding": null,
            "right": null,
            "top": null,
            "visibility": null,
            "width": null
          }
        },
        "d1802bcd7a9640acb441e6e6a69d3fb7": {
          "model_module": "@jupyter-widgets/base",
          "model_module_version": "1.2.0",
          "model_name": "LayoutModel",
          "state": {
            "_model_module": "@jupyter-widgets/base",
            "_model_module_version": "1.2.0",
            "_model_name": "LayoutModel",
            "_view_count": null,
            "_view_module": "@jupyter-widgets/base",
            "_view_module_version": "1.2.0",
            "_view_name": "LayoutView",
            "align_content": null,
            "align_items": null,
            "align_self": null,
            "border": null,
            "bottom": null,
            "display": null,
            "flex": null,
            "flex_flow": null,
            "grid_area": null,
            "grid_auto_columns": null,
            "grid_auto_flow": null,
            "grid_auto_rows": null,
            "grid_column": null,
            "grid_gap": null,
            "grid_row": null,
            "grid_template_areas": null,
            "grid_template_columns": null,
            "grid_template_rows": null,
            "height": null,
            "justify_content": null,
            "justify_items": null,
            "left": null,
            "margin": null,
            "max_height": null,
            "max_width": null,
            "min_height": null,
            "min_width": null,
            "object_fit": null,
            "object_position": null,
            "order": null,
            "overflow": null,
            "overflow_x": null,
            "overflow_y": null,
            "padding": null,
            "right": null,
            "top": null,
            "visibility": null,
            "width": null
          }
        },
        "d3ca5633c8ec4268a2b2e4f695d64521": {
          "model_module": "@jupyter-widgets/controls",
          "model_module_version": "1.5.0",
          "model_name": "DescriptionStyleModel",
          "state": {
            "_model_module": "@jupyter-widgets/controls",
            "_model_module_version": "1.5.0",
            "_model_name": "DescriptionStyleModel",
            "_view_count": null,
            "_view_module": "@jupyter-widgets/base",
            "_view_module_version": "1.2.0",
            "_view_name": "StyleView",
            "description_width": ""
          }
        },
        "dc71b2d6da604d9f8741da230f70d9a1": {
          "model_module": "@jupyter-widgets/controls",
          "model_module_version": "1.5.0",
          "model_name": "HTMLModel",
          "state": {
            "_dom_classes": [],
            "_model_module": "@jupyter-widgets/controls",
            "_model_module_version": "1.5.0",
            "_model_name": "HTMLModel",
            "_view_count": null,
            "_view_module": "@jupyter-widgets/controls",
            "_view_module_version": "1.5.0",
            "_view_name": "HTMLView",
            "description": "",
            "description_tooltip": null,
            "layout": "IPY_MODEL_62e371d1632e4812ad02edd5f63c83a9",
            "placeholder": "​",
            "style": "IPY_MODEL_caa69694ea924f55b1538ad52dd6171a",
            "value": "Downloading (…)okenizer_config.json: 100%"
          }
        },
        "de14748e04f94c22852e465b8700956e": {
          "model_module": "@jupyter-widgets/controls",
          "model_module_version": "1.5.0",
          "model_name": "FloatProgressModel",
          "state": {
            "_dom_classes": [],
            "_model_module": "@jupyter-widgets/controls",
            "_model_module_version": "1.5.0",
            "_model_name": "FloatProgressModel",
            "_view_count": null,
            "_view_module": "@jupyter-widgets/controls",
            "_view_module_version": "1.5.0",
            "_view_name": "ProgressView",
            "bar_style": "success",
            "description": "",
            "description_tooltip": null,
            "layout": "IPY_MODEL_62fcd8d08b4e4dbaa526ae5b29cee399",
            "max": 1206,
            "min": 0,
            "orientation": "horizontal",
            "style": "IPY_MODEL_1fe6a38562194eb5ad5b7740516e6a91",
            "value": 1206
          }
        },
        "ec19a6a9eb504420885dc20b2c560a99": {
          "model_module": "@jupyter-widgets/controls",
          "model_module_version": "1.5.0",
          "model_name": "DescriptionStyleModel",
          "state": {
            "_model_module": "@jupyter-widgets/controls",
            "_model_module_version": "1.5.0",
            "_model_name": "DescriptionStyleModel",
            "_view_count": null,
            "_view_module": "@jupyter-widgets/base",
            "_view_module_version": "1.2.0",
            "_view_name": "StyleView",
            "description_width": ""
          }
        },
        "eff91f4d8d6e4401a3e3966bb2b649d1": {
          "model_module": "@jupyter-widgets/base",
          "model_module_version": "1.2.0",
          "model_name": "LayoutModel",
          "state": {
            "_model_module": "@jupyter-widgets/base",
            "_model_module_version": "1.2.0",
            "_model_name": "LayoutModel",
            "_view_count": null,
            "_view_module": "@jupyter-widgets/base",
            "_view_module_version": "1.2.0",
            "_view_name": "LayoutView",
            "align_content": null,
            "align_items": null,
            "align_self": null,
            "border": null,
            "bottom": null,
            "display": null,
            "flex": null,
            "flex_flow": null,
            "grid_area": null,
            "grid_auto_columns": null,
            "grid_auto_flow": null,
            "grid_auto_rows": null,
            "grid_column": null,
            "grid_gap": null,
            "grid_row": null,
            "grid_template_areas": null,
            "grid_template_columns": null,
            "grid_template_rows": null,
            "height": null,
            "justify_content": null,
            "justify_items": null,
            "left": null,
            "margin": null,
            "max_height": null,
            "max_width": null,
            "min_height": null,
            "min_width": null,
            "object_fit": null,
            "object_position": null,
            "order": null,
            "overflow": null,
            "overflow_x": null,
            "overflow_y": null,
            "padding": null,
            "right": null,
            "top": null,
            "visibility": null,
            "width": null
          }
        },
        "f26e3f0281834204a2983e212211b612": {
          "model_module": "@jupyter-widgets/controls",
          "model_module_version": "1.5.0",
          "model_name": "HTMLModel",
          "state": {
            "_dom_classes": [],
            "_model_module": "@jupyter-widgets/controls",
            "_model_module_version": "1.5.0",
            "_model_name": "HTMLModel",
            "_view_count": null,
            "_view_module": "@jupyter-widgets/controls",
            "_view_module_version": "1.5.0",
            "_view_name": "HTMLView",
            "description": "",
            "description_tooltip": null,
            "layout": "IPY_MODEL_1c1e64fc37d9478f92a399f055a692fd",
            "placeholder": "​",
            "style": "IPY_MODEL_9e12e05e00ac43779cc75d5cfe7dff5c",
            "value": " 242M/242M [00:00&lt;00:00, 459MB/s]"
          }
        },
        "f45b7d98077c4caf8e69799cd1a07486": {
          "model_module": "@jupyter-widgets/base",
          "model_module_version": "1.2.0",
          "model_name": "LayoutModel",
          "state": {
            "_model_module": "@jupyter-widgets/base",
            "_model_module_version": "1.2.0",
            "_model_name": "LayoutModel",
            "_view_count": null,
            "_view_module": "@jupyter-widgets/base",
            "_view_module_version": "1.2.0",
            "_view_name": "LayoutView",
            "align_content": null,
            "align_items": null,
            "align_self": null,
            "border": null,
            "bottom": null,
            "display": null,
            "flex": null,
            "flex_flow": null,
            "grid_area": null,
            "grid_auto_columns": null,
            "grid_auto_flow": null,
            "grid_auto_rows": null,
            "grid_column": null,
            "grid_gap": null,
            "grid_row": null,
            "grid_template_areas": null,
            "grid_template_columns": null,
            "grid_template_rows": null,
            "height": null,
            "justify_content": null,
            "justify_items": null,
            "left": null,
            "margin": null,
            "max_height": null,
            "max_width": null,
            "min_height": null,
            "min_width": null,
            "object_fit": null,
            "object_position": null,
            "order": null,
            "overflow": null,
            "overflow_x": null,
            "overflow_y": null,
            "padding": null,
            "right": null,
            "top": null,
            "visibility": null,
            "width": null
          }
        },
        "f9c19964520f410fac628f94f49e2e62": {
          "model_module": "@jupyter-widgets/controls",
          "model_module_version": "1.5.0",
          "model_name": "HBoxModel",
          "state": {
            "_dom_classes": [],
            "_model_module": "@jupyter-widgets/controls",
            "_model_module_version": "1.5.0",
            "_model_name": "HBoxModel",
            "_view_count": null,
            "_view_module": "@jupyter-widgets/controls",
            "_view_module_version": "1.5.0",
            "_view_name": "HBoxView",
            "box_style": "",
            "children": [
              "IPY_MODEL_59efa454d8ac4f3dae7ea68ed58137d4",
              "IPY_MODEL_de14748e04f94c22852e465b8700956e",
              "IPY_MODEL_329206de56d741808ac4b729f7e2d3f8"
            ],
            "layout": "IPY_MODEL_394b857f56f44a4b91d342c01b38079b"
          }
        },
        "236e8c96f8e844edb5d58645dbbd2f7d": {
          "model_module": "@jupyter-widgets/controls",
          "model_name": "HBoxModel",
          "model_module_version": "1.5.0",
          "state": {
            "_dom_classes": [],
            "_model_module": "@jupyter-widgets/controls",
            "_model_module_version": "1.5.0",
            "_model_name": "HBoxModel",
            "_view_count": null,
            "_view_module": "@jupyter-widgets/controls",
            "_view_module_version": "1.5.0",
            "_view_name": "HBoxView",
            "box_style": "",
            "children": [
              "IPY_MODEL_ab0aa2ed2f0c4a3e837076fc6d32834e",
              "IPY_MODEL_21b1634134384b5792be901018371a03",
              "IPY_MODEL_ef40d9f9c0d24b299d8b9483ef99e9d4"
            ],
            "layout": "IPY_MODEL_0e6ad24f99df49309851dd7e89f3050b"
          }
        },
        "ab0aa2ed2f0c4a3e837076fc6d32834e": {
          "model_module": "@jupyter-widgets/controls",
          "model_name": "HTMLModel",
          "model_module_version": "1.5.0",
          "state": {
            "_dom_classes": [],
            "_model_module": "@jupyter-widgets/controls",
            "_model_module_version": "1.5.0",
            "_model_name": "HTMLModel",
            "_view_count": null,
            "_view_module": "@jupyter-widgets/controls",
            "_view_module_version": "1.5.0",
            "_view_name": "HTMLView",
            "description": "",
            "description_tooltip": null,
            "layout": "IPY_MODEL_3e04ba70865b418ca210fe12d5646521",
            "placeholder": "​",
            "style": "IPY_MODEL_f12bf7325da34f7ca67a11380f696949",
            "value": "Downloading (…)lve/main/config.json: 100%"
          }
        },
        "21b1634134384b5792be901018371a03": {
          "model_module": "@jupyter-widgets/controls",
          "model_name": "FloatProgressModel",
          "model_module_version": "1.5.0",
          "state": {
            "_dom_classes": [],
            "_model_module": "@jupyter-widgets/controls",
            "_model_module_version": "1.5.0",
            "_model_name": "FloatProgressModel",
            "_view_count": null,
            "_view_module": "@jupyter-widgets/controls",
            "_view_module_version": "1.5.0",
            "_view_name": "ProgressView",
            "bar_style": "success",
            "description": "",
            "description_tooltip": null,
            "layout": "IPY_MODEL_6c3c51dff1c74bc3b6a3154caefa06e7",
            "max": 1585,
            "min": 0,
            "orientation": "horizontal",
            "style": "IPY_MODEL_93cc5921e01c4a4cb23d741fc6756d44",
            "value": 1585
          }
        },
        "ef40d9f9c0d24b299d8b9483ef99e9d4": {
          "model_module": "@jupyter-widgets/controls",
          "model_name": "HTMLModel",
          "model_module_version": "1.5.0",
          "state": {
            "_dom_classes": [],
            "_model_module": "@jupyter-widgets/controls",
            "_model_module_version": "1.5.0",
            "_model_name": "HTMLModel",
            "_view_count": null,
            "_view_module": "@jupyter-widgets/controls",
            "_view_module_version": "1.5.0",
            "_view_name": "HTMLView",
            "description": "",
            "description_tooltip": null,
            "layout": "IPY_MODEL_19394c22b75848729661f67b9b264760",
            "placeholder": "​",
            "style": "IPY_MODEL_deddbcfaa9b149caad1e700126ec0a1d",
            "value": " 1.58k/1.58k [00:00&lt;00:00, 125kB/s]"
          }
        },
        "0e6ad24f99df49309851dd7e89f3050b": {
          "model_module": "@jupyter-widgets/base",
          "model_name": "LayoutModel",
          "model_module_version": "1.2.0",
          "state": {
            "_model_module": "@jupyter-widgets/base",
            "_model_module_version": "1.2.0",
            "_model_name": "LayoutModel",
            "_view_count": null,
            "_view_module": "@jupyter-widgets/base",
            "_view_module_version": "1.2.0",
            "_view_name": "LayoutView",
            "align_content": null,
            "align_items": null,
            "align_self": null,
            "border": null,
            "bottom": null,
            "display": null,
            "flex": null,
            "flex_flow": null,
            "grid_area": null,
            "grid_auto_columns": null,
            "grid_auto_flow": null,
            "grid_auto_rows": null,
            "grid_column": null,
            "grid_gap": null,
            "grid_row": null,
            "grid_template_areas": null,
            "grid_template_columns": null,
            "grid_template_rows": null,
            "height": null,
            "justify_content": null,
            "justify_items": null,
            "left": null,
            "margin": null,
            "max_height": null,
            "max_width": null,
            "min_height": null,
            "min_width": null,
            "object_fit": null,
            "object_position": null,
            "order": null,
            "overflow": null,
            "overflow_x": null,
            "overflow_y": null,
            "padding": null,
            "right": null,
            "top": null,
            "visibility": null,
            "width": null
          }
        },
        "3e04ba70865b418ca210fe12d5646521": {
          "model_module": "@jupyter-widgets/base",
          "model_name": "LayoutModel",
          "model_module_version": "1.2.0",
          "state": {
            "_model_module": "@jupyter-widgets/base",
            "_model_module_version": "1.2.0",
            "_model_name": "LayoutModel",
            "_view_count": null,
            "_view_module": "@jupyter-widgets/base",
            "_view_module_version": "1.2.0",
            "_view_name": "LayoutView",
            "align_content": null,
            "align_items": null,
            "align_self": null,
            "border": null,
            "bottom": null,
            "display": null,
            "flex": null,
            "flex_flow": null,
            "grid_area": null,
            "grid_auto_columns": null,
            "grid_auto_flow": null,
            "grid_auto_rows": null,
            "grid_column": null,
            "grid_gap": null,
            "grid_row": null,
            "grid_template_areas": null,
            "grid_template_columns": null,
            "grid_template_rows": null,
            "height": null,
            "justify_content": null,
            "justify_items": null,
            "left": null,
            "margin": null,
            "max_height": null,
            "max_width": null,
            "min_height": null,
            "min_width": null,
            "object_fit": null,
            "object_position": null,
            "order": null,
            "overflow": null,
            "overflow_x": null,
            "overflow_y": null,
            "padding": null,
            "right": null,
            "top": null,
            "visibility": null,
            "width": null
          }
        },
        "f12bf7325da34f7ca67a11380f696949": {
          "model_module": "@jupyter-widgets/controls",
          "model_name": "DescriptionStyleModel",
          "model_module_version": "1.5.0",
          "state": {
            "_model_module": "@jupyter-widgets/controls",
            "_model_module_version": "1.5.0",
            "_model_name": "DescriptionStyleModel",
            "_view_count": null,
            "_view_module": "@jupyter-widgets/base",
            "_view_module_version": "1.2.0",
            "_view_name": "StyleView",
            "description_width": ""
          }
        },
        "6c3c51dff1c74bc3b6a3154caefa06e7": {
          "model_module": "@jupyter-widgets/base",
          "model_name": "LayoutModel",
          "model_module_version": "1.2.0",
          "state": {
            "_model_module": "@jupyter-widgets/base",
            "_model_module_version": "1.2.0",
            "_model_name": "LayoutModel",
            "_view_count": null,
            "_view_module": "@jupyter-widgets/base",
            "_view_module_version": "1.2.0",
            "_view_name": "LayoutView",
            "align_content": null,
            "align_items": null,
            "align_self": null,
            "border": null,
            "bottom": null,
            "display": null,
            "flex": null,
            "flex_flow": null,
            "grid_area": null,
            "grid_auto_columns": null,
            "grid_auto_flow": null,
            "grid_auto_rows": null,
            "grid_column": null,
            "grid_gap": null,
            "grid_row": null,
            "grid_template_areas": null,
            "grid_template_columns": null,
            "grid_template_rows": null,
            "height": null,
            "justify_content": null,
            "justify_items": null,
            "left": null,
            "margin": null,
            "max_height": null,
            "max_width": null,
            "min_height": null,
            "min_width": null,
            "object_fit": null,
            "object_position": null,
            "order": null,
            "overflow": null,
            "overflow_x": null,
            "overflow_y": null,
            "padding": null,
            "right": null,
            "top": null,
            "visibility": null,
            "width": null
          }
        },
        "93cc5921e01c4a4cb23d741fc6756d44": {
          "model_module": "@jupyter-widgets/controls",
          "model_name": "ProgressStyleModel",
          "model_module_version": "1.5.0",
          "state": {
            "_model_module": "@jupyter-widgets/controls",
            "_model_module_version": "1.5.0",
            "_model_name": "ProgressStyleModel",
            "_view_count": null,
            "_view_module": "@jupyter-widgets/base",
            "_view_module_version": "1.2.0",
            "_view_name": "StyleView",
            "bar_color": null,
            "description_width": ""
          }
        },
        "19394c22b75848729661f67b9b264760": {
          "model_module": "@jupyter-widgets/base",
          "model_name": "LayoutModel",
          "model_module_version": "1.2.0",
          "state": {
            "_model_module": "@jupyter-widgets/base",
            "_model_module_version": "1.2.0",
            "_model_name": "LayoutModel",
            "_view_count": null,
            "_view_module": "@jupyter-widgets/base",
            "_view_module_version": "1.2.0",
            "_view_name": "LayoutView",
            "align_content": null,
            "align_items": null,
            "align_self": null,
            "border": null,
            "bottom": null,
            "display": null,
            "flex": null,
            "flex_flow": null,
            "grid_area": null,
            "grid_auto_columns": null,
            "grid_auto_flow": null,
            "grid_auto_rows": null,
            "grid_column": null,
            "grid_gap": null,
            "grid_row": null,
            "grid_template_areas": null,
            "grid_template_columns": null,
            "grid_template_rows": null,
            "height": null,
            "justify_content": null,
            "justify_items": null,
            "left": null,
            "margin": null,
            "max_height": null,
            "max_width": null,
            "min_height": null,
            "min_width": null,
            "object_fit": null,
            "object_position": null,
            "order": null,
            "overflow": null,
            "overflow_x": null,
            "overflow_y": null,
            "padding": null,
            "right": null,
            "top": null,
            "visibility": null,
            "width": null
          }
        },
        "deddbcfaa9b149caad1e700126ec0a1d": {
          "model_module": "@jupyter-widgets/controls",
          "model_name": "DescriptionStyleModel",
          "model_module_version": "1.5.0",
          "state": {
            "_model_module": "@jupyter-widgets/controls",
            "_model_module_version": "1.5.0",
            "_model_name": "DescriptionStyleModel",
            "_view_count": null,
            "_view_module": "@jupyter-widgets/base",
            "_view_module_version": "1.2.0",
            "_view_name": "StyleView",
            "description_width": ""
          }
        },
        "73634d24f0d449bea964c2422bea0179": {
          "model_module": "@jupyter-widgets/controls",
          "model_name": "HBoxModel",
          "model_module_version": "1.5.0",
          "state": {
            "_dom_classes": [],
            "_model_module": "@jupyter-widgets/controls",
            "_model_module_version": "1.5.0",
            "_model_name": "HBoxModel",
            "_view_count": null,
            "_view_module": "@jupyter-widgets/controls",
            "_view_module_version": "1.5.0",
            "_view_name": "HBoxView",
            "box_style": "",
            "children": [
              "IPY_MODEL_e35c512d261e4ea2a694b882b30b9feb",
              "IPY_MODEL_dbadf78a28aa4e7eadb5f45a0f7c89d0",
              "IPY_MODEL_79c3abaaf03648ac900dad90942bc07c"
            ],
            "layout": "IPY_MODEL_902fb37689724db4a3646e6c59558df9"
          }
        },
        "e35c512d261e4ea2a694b882b30b9feb": {
          "model_module": "@jupyter-widgets/controls",
          "model_name": "HTMLModel",
          "model_module_version": "1.5.0",
          "state": {
            "_dom_classes": [],
            "_model_module": "@jupyter-widgets/controls",
            "_model_module_version": "1.5.0",
            "_model_name": "HTMLModel",
            "_view_count": null,
            "_view_module": "@jupyter-widgets/controls",
            "_view_module_version": "1.5.0",
            "_view_name": "HTMLView",
            "description": "",
            "description_tooltip": null,
            "layout": "IPY_MODEL_ece9055f6c694480919ead7c56d09dab",
            "placeholder": "​",
            "style": "IPY_MODEL_8d27a5d0293044879c69d735543e1194",
            "value": "Downloading (…)olve/main/vocab.json: 100%"
          }
        },
        "dbadf78a28aa4e7eadb5f45a0f7c89d0": {
          "model_module": "@jupyter-widgets/controls",
          "model_name": "FloatProgressModel",
          "model_module_version": "1.5.0",
          "state": {
            "_dom_classes": [],
            "_model_module": "@jupyter-widgets/controls",
            "_model_module_version": "1.5.0",
            "_model_name": "FloatProgressModel",
            "_view_count": null,
            "_view_module": "@jupyter-widgets/controls",
            "_view_module_version": "1.5.0",
            "_view_name": "ProgressView",
            "bar_style": "success",
            "description": "",
            "description_tooltip": null,
            "layout": "IPY_MODEL_0bb710fd30eb45629a4a277a75dd4044",
            "max": 898823,
            "min": 0,
            "orientation": "horizontal",
            "style": "IPY_MODEL_edf31ff87cc34cf09bb5370bf9808173",
            "value": 898823
          }
        },
        "79c3abaaf03648ac900dad90942bc07c": {
          "model_module": "@jupyter-widgets/controls",
          "model_name": "HTMLModel",
          "model_module_version": "1.5.0",
          "state": {
            "_dom_classes": [],
            "_model_module": "@jupyter-widgets/controls",
            "_model_module_version": "1.5.0",
            "_model_name": "HTMLModel",
            "_view_count": null,
            "_view_module": "@jupyter-widgets/controls",
            "_view_module_version": "1.5.0",
            "_view_name": "HTMLView",
            "description": "",
            "description_tooltip": null,
            "layout": "IPY_MODEL_a0d1436f7129475a89fa4f3a041bbb42",
            "placeholder": "​",
            "style": "IPY_MODEL_a3d63012c193477ab9c3860b46448814",
            "value": " 899k/899k [00:00&lt;00:00, 1.07MB/s]"
          }
        },
        "902fb37689724db4a3646e6c59558df9": {
          "model_module": "@jupyter-widgets/base",
          "model_name": "LayoutModel",
          "model_module_version": "1.2.0",
          "state": {
            "_model_module": "@jupyter-widgets/base",
            "_model_module_version": "1.2.0",
            "_model_name": "LayoutModel",
            "_view_count": null,
            "_view_module": "@jupyter-widgets/base",
            "_view_module_version": "1.2.0",
            "_view_name": "LayoutView",
            "align_content": null,
            "align_items": null,
            "align_self": null,
            "border": null,
            "bottom": null,
            "display": null,
            "flex": null,
            "flex_flow": null,
            "grid_area": null,
            "grid_auto_columns": null,
            "grid_auto_flow": null,
            "grid_auto_rows": null,
            "grid_column": null,
            "grid_gap": null,
            "grid_row": null,
            "grid_template_areas": null,
            "grid_template_columns": null,
            "grid_template_rows": null,
            "height": null,
            "justify_content": null,
            "justify_items": null,
            "left": null,
            "margin": null,
            "max_height": null,
            "max_width": null,
            "min_height": null,
            "min_width": null,
            "object_fit": null,
            "object_position": null,
            "order": null,
            "overflow": null,
            "overflow_x": null,
            "overflow_y": null,
            "padding": null,
            "right": null,
            "top": null,
            "visibility": null,
            "width": null
          }
        },
        "ece9055f6c694480919ead7c56d09dab": {
          "model_module": "@jupyter-widgets/base",
          "model_name": "LayoutModel",
          "model_module_version": "1.2.0",
          "state": {
            "_model_module": "@jupyter-widgets/base",
            "_model_module_version": "1.2.0",
            "_model_name": "LayoutModel",
            "_view_count": null,
            "_view_module": "@jupyter-widgets/base",
            "_view_module_version": "1.2.0",
            "_view_name": "LayoutView",
            "align_content": null,
            "align_items": null,
            "align_self": null,
            "border": null,
            "bottom": null,
            "display": null,
            "flex": null,
            "flex_flow": null,
            "grid_area": null,
            "grid_auto_columns": null,
            "grid_auto_flow": null,
            "grid_auto_rows": null,
            "grid_column": null,
            "grid_gap": null,
            "grid_row": null,
            "grid_template_areas": null,
            "grid_template_columns": null,
            "grid_template_rows": null,
            "height": null,
            "justify_content": null,
            "justify_items": null,
            "left": null,
            "margin": null,
            "max_height": null,
            "max_width": null,
            "min_height": null,
            "min_width": null,
            "object_fit": null,
            "object_position": null,
            "order": null,
            "overflow": null,
            "overflow_x": null,
            "overflow_y": null,
            "padding": null,
            "right": null,
            "top": null,
            "visibility": null,
            "width": null
          }
        },
        "8d27a5d0293044879c69d735543e1194": {
          "model_module": "@jupyter-widgets/controls",
          "model_name": "DescriptionStyleModel",
          "model_module_version": "1.5.0",
          "state": {
            "_model_module": "@jupyter-widgets/controls",
            "_model_module_version": "1.5.0",
            "_model_name": "DescriptionStyleModel",
            "_view_count": null,
            "_view_module": "@jupyter-widgets/base",
            "_view_module_version": "1.2.0",
            "_view_name": "StyleView",
            "description_width": ""
          }
        },
        "0bb710fd30eb45629a4a277a75dd4044": {
          "model_module": "@jupyter-widgets/base",
          "model_name": "LayoutModel",
          "model_module_version": "1.2.0",
          "state": {
            "_model_module": "@jupyter-widgets/base",
            "_model_module_version": "1.2.0",
            "_model_name": "LayoutModel",
            "_view_count": null,
            "_view_module": "@jupyter-widgets/base",
            "_view_module_version": "1.2.0",
            "_view_name": "LayoutView",
            "align_content": null,
            "align_items": null,
            "align_self": null,
            "border": null,
            "bottom": null,
            "display": null,
            "flex": null,
            "flex_flow": null,
            "grid_area": null,
            "grid_auto_columns": null,
            "grid_auto_flow": null,
            "grid_auto_rows": null,
            "grid_column": null,
            "grid_gap": null,
            "grid_row": null,
            "grid_template_areas": null,
            "grid_template_columns": null,
            "grid_template_rows": null,
            "height": null,
            "justify_content": null,
            "justify_items": null,
            "left": null,
            "margin": null,
            "max_height": null,
            "max_width": null,
            "min_height": null,
            "min_width": null,
            "object_fit": null,
            "object_position": null,
            "order": null,
            "overflow": null,
            "overflow_x": null,
            "overflow_y": null,
            "padding": null,
            "right": null,
            "top": null,
            "visibility": null,
            "width": null
          }
        },
        "edf31ff87cc34cf09bb5370bf9808173": {
          "model_module": "@jupyter-widgets/controls",
          "model_name": "ProgressStyleModel",
          "model_module_version": "1.5.0",
          "state": {
            "_model_module": "@jupyter-widgets/controls",
            "_model_module_version": "1.5.0",
            "_model_name": "ProgressStyleModel",
            "_view_count": null,
            "_view_module": "@jupyter-widgets/base",
            "_view_module_version": "1.2.0",
            "_view_name": "StyleView",
            "bar_color": null,
            "description_width": ""
          }
        },
        "a0d1436f7129475a89fa4f3a041bbb42": {
          "model_module": "@jupyter-widgets/base",
          "model_name": "LayoutModel",
          "model_module_version": "1.2.0",
          "state": {
            "_model_module": "@jupyter-widgets/base",
            "_model_module_version": "1.2.0",
            "_model_name": "LayoutModel",
            "_view_count": null,
            "_view_module": "@jupyter-widgets/base",
            "_view_module_version": "1.2.0",
            "_view_name": "LayoutView",
            "align_content": null,
            "align_items": null,
            "align_self": null,
            "border": null,
            "bottom": null,
            "display": null,
            "flex": null,
            "flex_flow": null,
            "grid_area": null,
            "grid_auto_columns": null,
            "grid_auto_flow": null,
            "grid_auto_rows": null,
            "grid_column": null,
            "grid_gap": null,
            "grid_row": null,
            "grid_template_areas": null,
            "grid_template_columns": null,
            "grid_template_rows": null,
            "height": null,
            "justify_content": null,
            "justify_items": null,
            "left": null,
            "margin": null,
            "max_height": null,
            "max_width": null,
            "min_height": null,
            "min_width": null,
            "object_fit": null,
            "object_position": null,
            "order": null,
            "overflow": null,
            "overflow_x": null,
            "overflow_y": null,
            "padding": null,
            "right": null,
            "top": null,
            "visibility": null,
            "width": null
          }
        },
        "a3d63012c193477ab9c3860b46448814": {
          "model_module": "@jupyter-widgets/controls",
          "model_name": "DescriptionStyleModel",
          "model_module_version": "1.5.0",
          "state": {
            "_model_module": "@jupyter-widgets/controls",
            "_model_module_version": "1.5.0",
            "_model_name": "DescriptionStyleModel",
            "_view_count": null,
            "_view_module": "@jupyter-widgets/base",
            "_view_module_version": "1.2.0",
            "_view_name": "StyleView",
            "description_width": ""
          }
        },
        "0ebc137fd94648cdb23728b0fdc8955a": {
          "model_module": "@jupyter-widgets/controls",
          "model_name": "HBoxModel",
          "model_module_version": "1.5.0",
          "state": {
            "_dom_classes": [],
            "_model_module": "@jupyter-widgets/controls",
            "_model_module_version": "1.5.0",
            "_model_name": "HBoxModel",
            "_view_count": null,
            "_view_module": "@jupyter-widgets/controls",
            "_view_module_version": "1.5.0",
            "_view_name": "HBoxView",
            "box_style": "",
            "children": [
              "IPY_MODEL_43d7ffecfc084eee8976b17b0d860a00",
              "IPY_MODEL_60749caa5c1b4b75a37c2cf93f074365",
              "IPY_MODEL_e764272c15294bc4993395e88d76196f"
            ],
            "layout": "IPY_MODEL_78a27293c7624369b91816df82362d55"
          }
        },
        "43d7ffecfc084eee8976b17b0d860a00": {
          "model_module": "@jupyter-widgets/controls",
          "model_name": "HTMLModel",
          "model_module_version": "1.5.0",
          "state": {
            "_dom_classes": [],
            "_model_module": "@jupyter-widgets/controls",
            "_model_module_version": "1.5.0",
            "_model_name": "HTMLModel",
            "_view_count": null,
            "_view_module": "@jupyter-widgets/controls",
            "_view_module_version": "1.5.0",
            "_view_name": "HTMLView",
            "description": "",
            "description_tooltip": null,
            "layout": "IPY_MODEL_b3028cdcb91b42df89749a37c3c441d7",
            "placeholder": "​",
            "style": "IPY_MODEL_83e833315c8a4e56bf2b5a33f4cb1439",
            "value": "Downloading (…)olve/main/merges.txt: 100%"
          }
        },
        "60749caa5c1b4b75a37c2cf93f074365": {
          "model_module": "@jupyter-widgets/controls",
          "model_name": "FloatProgressModel",
          "model_module_version": "1.5.0",
          "state": {
            "_dom_classes": [],
            "_model_module": "@jupyter-widgets/controls",
            "_model_module_version": "1.5.0",
            "_model_name": "FloatProgressModel",
            "_view_count": null,
            "_view_module": "@jupyter-widgets/controls",
            "_view_module_version": "1.5.0",
            "_view_name": "ProgressView",
            "bar_style": "success",
            "description": "",
            "description_tooltip": null,
            "layout": "IPY_MODEL_10984128a403453692aec265ccafc52e",
            "max": 456318,
            "min": 0,
            "orientation": "horizontal",
            "style": "IPY_MODEL_8d3df63d1fed4835beb2463e61142de7",
            "value": 456318
          }
        },
        "e764272c15294bc4993395e88d76196f": {
          "model_module": "@jupyter-widgets/controls",
          "model_name": "HTMLModel",
          "model_module_version": "1.5.0",
          "state": {
            "_dom_classes": [],
            "_model_module": "@jupyter-widgets/controls",
            "_model_module_version": "1.5.0",
            "_model_name": "HTMLModel",
            "_view_count": null,
            "_view_module": "@jupyter-widgets/controls",
            "_view_module_version": "1.5.0",
            "_view_name": "HTMLView",
            "description": "",
            "description_tooltip": null,
            "layout": "IPY_MODEL_27850e93906d49099d3370e36d0b18d5",
            "placeholder": "​",
            "style": "IPY_MODEL_263d902ec39c448bb959f04a2282abfe",
            "value": " 456k/456k [00:00&lt;00:00, 34.6MB/s]"
          }
        },
        "78a27293c7624369b91816df82362d55": {
          "model_module": "@jupyter-widgets/base",
          "model_name": "LayoutModel",
          "model_module_version": "1.2.0",
          "state": {
            "_model_module": "@jupyter-widgets/base",
            "_model_module_version": "1.2.0",
            "_model_name": "LayoutModel",
            "_view_count": null,
            "_view_module": "@jupyter-widgets/base",
            "_view_module_version": "1.2.0",
            "_view_name": "LayoutView",
            "align_content": null,
            "align_items": null,
            "align_self": null,
            "border": null,
            "bottom": null,
            "display": null,
            "flex": null,
            "flex_flow": null,
            "grid_area": null,
            "grid_auto_columns": null,
            "grid_auto_flow": null,
            "grid_auto_rows": null,
            "grid_column": null,
            "grid_gap": null,
            "grid_row": null,
            "grid_template_areas": null,
            "grid_template_columns": null,
            "grid_template_rows": null,
            "height": null,
            "justify_content": null,
            "justify_items": null,
            "left": null,
            "margin": null,
            "max_height": null,
            "max_width": null,
            "min_height": null,
            "min_width": null,
            "object_fit": null,
            "object_position": null,
            "order": null,
            "overflow": null,
            "overflow_x": null,
            "overflow_y": null,
            "padding": null,
            "right": null,
            "top": null,
            "visibility": null,
            "width": null
          }
        },
        "b3028cdcb91b42df89749a37c3c441d7": {
          "model_module": "@jupyter-widgets/base",
          "model_name": "LayoutModel",
          "model_module_version": "1.2.0",
          "state": {
            "_model_module": "@jupyter-widgets/base",
            "_model_module_version": "1.2.0",
            "_model_name": "LayoutModel",
            "_view_count": null,
            "_view_module": "@jupyter-widgets/base",
            "_view_module_version": "1.2.0",
            "_view_name": "LayoutView",
            "align_content": null,
            "align_items": null,
            "align_self": null,
            "border": null,
            "bottom": null,
            "display": null,
            "flex": null,
            "flex_flow": null,
            "grid_area": null,
            "grid_auto_columns": null,
            "grid_auto_flow": null,
            "grid_auto_rows": null,
            "grid_column": null,
            "grid_gap": null,
            "grid_row": null,
            "grid_template_areas": null,
            "grid_template_columns": null,
            "grid_template_rows": null,
            "height": null,
            "justify_content": null,
            "justify_items": null,
            "left": null,
            "margin": null,
            "max_height": null,
            "max_width": null,
            "min_height": null,
            "min_width": null,
            "object_fit": null,
            "object_position": null,
            "order": null,
            "overflow": null,
            "overflow_x": null,
            "overflow_y": null,
            "padding": null,
            "right": null,
            "top": null,
            "visibility": null,
            "width": null
          }
        },
        "83e833315c8a4e56bf2b5a33f4cb1439": {
          "model_module": "@jupyter-widgets/controls",
          "model_name": "DescriptionStyleModel",
          "model_module_version": "1.5.0",
          "state": {
            "_model_module": "@jupyter-widgets/controls",
            "_model_module_version": "1.5.0",
            "_model_name": "DescriptionStyleModel",
            "_view_count": null,
            "_view_module": "@jupyter-widgets/base",
            "_view_module_version": "1.2.0",
            "_view_name": "StyleView",
            "description_width": ""
          }
        },
        "10984128a403453692aec265ccafc52e": {
          "model_module": "@jupyter-widgets/base",
          "model_name": "LayoutModel",
          "model_module_version": "1.2.0",
          "state": {
            "_model_module": "@jupyter-widgets/base",
            "_model_module_version": "1.2.0",
            "_model_name": "LayoutModel",
            "_view_count": null,
            "_view_module": "@jupyter-widgets/base",
            "_view_module_version": "1.2.0",
            "_view_name": "LayoutView",
            "align_content": null,
            "align_items": null,
            "align_self": null,
            "border": null,
            "bottom": null,
            "display": null,
            "flex": null,
            "flex_flow": null,
            "grid_area": null,
            "grid_auto_columns": null,
            "grid_auto_flow": null,
            "grid_auto_rows": null,
            "grid_column": null,
            "grid_gap": null,
            "grid_row": null,
            "grid_template_areas": null,
            "grid_template_columns": null,
            "grid_template_rows": null,
            "height": null,
            "justify_content": null,
            "justify_items": null,
            "left": null,
            "margin": null,
            "max_height": null,
            "max_width": null,
            "min_height": null,
            "min_width": null,
            "object_fit": null,
            "object_position": null,
            "order": null,
            "overflow": null,
            "overflow_x": null,
            "overflow_y": null,
            "padding": null,
            "right": null,
            "top": null,
            "visibility": null,
            "width": null
          }
        },
        "8d3df63d1fed4835beb2463e61142de7": {
          "model_module": "@jupyter-widgets/controls",
          "model_name": "ProgressStyleModel",
          "model_module_version": "1.5.0",
          "state": {
            "_model_module": "@jupyter-widgets/controls",
            "_model_module_version": "1.5.0",
            "_model_name": "ProgressStyleModel",
            "_view_count": null,
            "_view_module": "@jupyter-widgets/base",
            "_view_module_version": "1.2.0",
            "_view_name": "StyleView",
            "bar_color": null,
            "description_width": ""
          }
        },
        "27850e93906d49099d3370e36d0b18d5": {
          "model_module": "@jupyter-widgets/base",
          "model_name": "LayoutModel",
          "model_module_version": "1.2.0",
          "state": {
            "_model_module": "@jupyter-widgets/base",
            "_model_module_version": "1.2.0",
            "_model_name": "LayoutModel",
            "_view_count": null,
            "_view_module": "@jupyter-widgets/base",
            "_view_module_version": "1.2.0",
            "_view_name": "LayoutView",
            "align_content": null,
            "align_items": null,
            "align_self": null,
            "border": null,
            "bottom": null,
            "display": null,
            "flex": null,
            "flex_flow": null,
            "grid_area": null,
            "grid_auto_columns": null,
            "grid_auto_flow": null,
            "grid_auto_rows": null,
            "grid_column": null,
            "grid_gap": null,
            "grid_row": null,
            "grid_template_areas": null,
            "grid_template_columns": null,
            "grid_template_rows": null,
            "height": null,
            "justify_content": null,
            "justify_items": null,
            "left": null,
            "margin": null,
            "max_height": null,
            "max_width": null,
            "min_height": null,
            "min_width": null,
            "object_fit": null,
            "object_position": null,
            "order": null,
            "overflow": null,
            "overflow_x": null,
            "overflow_y": null,
            "padding": null,
            "right": null,
            "top": null,
            "visibility": null,
            "width": null
          }
        },
        "263d902ec39c448bb959f04a2282abfe": {
          "model_module": "@jupyter-widgets/controls",
          "model_name": "DescriptionStyleModel",
          "model_module_version": "1.5.0",
          "state": {
            "_model_module": "@jupyter-widgets/controls",
            "_model_module_version": "1.5.0",
            "_model_name": "DescriptionStyleModel",
            "_view_count": null,
            "_view_module": "@jupyter-widgets/base",
            "_view_module_version": "1.2.0",
            "_view_name": "StyleView",
            "description_width": ""
          }
        },
        "6df5aedd70124ccd903b671a031b0e83": {
          "model_module": "@jupyter-widgets/controls",
          "model_name": "HBoxModel",
          "model_module_version": "1.5.0",
          "state": {
            "_dom_classes": [],
            "_model_module": "@jupyter-widgets/controls",
            "_model_module_version": "1.5.0",
            "_model_name": "HBoxModel",
            "_view_count": null,
            "_view_module": "@jupyter-widgets/controls",
            "_view_module_version": "1.5.0",
            "_view_name": "HBoxView",
            "box_style": "",
            "children": [
              "IPY_MODEL_c77647df5cfc408f95e2d66a75f033e8",
              "IPY_MODEL_4934b994c800473082434d2645a7548c",
              "IPY_MODEL_7b58d288b23949c1bb7fff40ef73fd3d"
            ],
            "layout": "IPY_MODEL_a1c0b544efa143679bbdab1e481391aa"
          }
        },
        "c77647df5cfc408f95e2d66a75f033e8": {
          "model_module": "@jupyter-widgets/controls",
          "model_name": "HTMLModel",
          "model_module_version": "1.5.0",
          "state": {
            "_dom_classes": [],
            "_model_module": "@jupyter-widgets/controls",
            "_model_module_version": "1.5.0",
            "_model_name": "HTMLModel",
            "_view_count": null,
            "_view_module": "@jupyter-widgets/controls",
            "_view_module_version": "1.5.0",
            "_view_name": "HTMLView",
            "description": "",
            "description_tooltip": null,
            "layout": "IPY_MODEL_6aff081d161140bfbe054cb1d4456aa2",
            "placeholder": "​",
            "style": "IPY_MODEL_fcc3b70e6bbe4fb9bf48fe53303bfeb1",
            "value": "Downloading (…)/main/tokenizer.json: 100%"
          }
        },
        "4934b994c800473082434d2645a7548c": {
          "model_module": "@jupyter-widgets/controls",
          "model_name": "FloatProgressModel",
          "model_module_version": "1.5.0",
          "state": {
            "_dom_classes": [],
            "_model_module": "@jupyter-widgets/controls",
            "_model_module_version": "1.5.0",
            "_model_name": "FloatProgressModel",
            "_view_count": null,
            "_view_module": "@jupyter-widgets/controls",
            "_view_module_version": "1.5.0",
            "_view_name": "ProgressView",
            "bar_style": "success",
            "description": "",
            "description_tooltip": null,
            "layout": "IPY_MODEL_79635aab47964da78be9d0bbf580f04c",
            "max": 1355863,
            "min": 0,
            "orientation": "horizontal",
            "style": "IPY_MODEL_23e20917925e49da82296f88bac09658",
            "value": 1355863
          }
        },
        "7b58d288b23949c1bb7fff40ef73fd3d": {
          "model_module": "@jupyter-widgets/controls",
          "model_name": "HTMLModel",
          "model_module_version": "1.5.0",
          "state": {
            "_dom_classes": [],
            "_model_module": "@jupyter-widgets/controls",
            "_model_module_version": "1.5.0",
            "_model_name": "HTMLModel",
            "_view_count": null,
            "_view_module": "@jupyter-widgets/controls",
            "_view_module_version": "1.5.0",
            "_view_name": "HTMLView",
            "description": "",
            "description_tooltip": null,
            "layout": "IPY_MODEL_52930afa4c034e4f8dcd89223393458e",
            "placeholder": "​",
            "style": "IPY_MODEL_58cef785d23d4736943f19bb4c7c2a66",
            "value": " 1.36M/1.36M [00:00&lt;00:00, 6.24MB/s]"
          }
        },
        "a1c0b544efa143679bbdab1e481391aa": {
          "model_module": "@jupyter-widgets/base",
          "model_name": "LayoutModel",
          "model_module_version": "1.2.0",
          "state": {
            "_model_module": "@jupyter-widgets/base",
            "_model_module_version": "1.2.0",
            "_model_name": "LayoutModel",
            "_view_count": null,
            "_view_module": "@jupyter-widgets/base",
            "_view_module_version": "1.2.0",
            "_view_name": "LayoutView",
            "align_content": null,
            "align_items": null,
            "align_self": null,
            "border": null,
            "bottom": null,
            "display": null,
            "flex": null,
            "flex_flow": null,
            "grid_area": null,
            "grid_auto_columns": null,
            "grid_auto_flow": null,
            "grid_auto_rows": null,
            "grid_column": null,
            "grid_gap": null,
            "grid_row": null,
            "grid_template_areas": null,
            "grid_template_columns": null,
            "grid_template_rows": null,
            "height": null,
            "justify_content": null,
            "justify_items": null,
            "left": null,
            "margin": null,
            "max_height": null,
            "max_width": null,
            "min_height": null,
            "min_width": null,
            "object_fit": null,
            "object_position": null,
            "order": null,
            "overflow": null,
            "overflow_x": null,
            "overflow_y": null,
            "padding": null,
            "right": null,
            "top": null,
            "visibility": null,
            "width": null
          }
        },
        "6aff081d161140bfbe054cb1d4456aa2": {
          "model_module": "@jupyter-widgets/base",
          "model_name": "LayoutModel",
          "model_module_version": "1.2.0",
          "state": {
            "_model_module": "@jupyter-widgets/base",
            "_model_module_version": "1.2.0",
            "_model_name": "LayoutModel",
            "_view_count": null,
            "_view_module": "@jupyter-widgets/base",
            "_view_module_version": "1.2.0",
            "_view_name": "LayoutView",
            "align_content": null,
            "align_items": null,
            "align_self": null,
            "border": null,
            "bottom": null,
            "display": null,
            "flex": null,
            "flex_flow": null,
            "grid_area": null,
            "grid_auto_columns": null,
            "grid_auto_flow": null,
            "grid_auto_rows": null,
            "grid_column": null,
            "grid_gap": null,
            "grid_row": null,
            "grid_template_areas": null,
            "grid_template_columns": null,
            "grid_template_rows": null,
            "height": null,
            "justify_content": null,
            "justify_items": null,
            "left": null,
            "margin": null,
            "max_height": null,
            "max_width": null,
            "min_height": null,
            "min_width": null,
            "object_fit": null,
            "object_position": null,
            "order": null,
            "overflow": null,
            "overflow_x": null,
            "overflow_y": null,
            "padding": null,
            "right": null,
            "top": null,
            "visibility": null,
            "width": null
          }
        },
        "fcc3b70e6bbe4fb9bf48fe53303bfeb1": {
          "model_module": "@jupyter-widgets/controls",
          "model_name": "DescriptionStyleModel",
          "model_module_version": "1.5.0",
          "state": {
            "_model_module": "@jupyter-widgets/controls",
            "_model_module_version": "1.5.0",
            "_model_name": "DescriptionStyleModel",
            "_view_count": null,
            "_view_module": "@jupyter-widgets/base",
            "_view_module_version": "1.2.0",
            "_view_name": "StyleView",
            "description_width": ""
          }
        },
        "79635aab47964da78be9d0bbf580f04c": {
          "model_module": "@jupyter-widgets/base",
          "model_name": "LayoutModel",
          "model_module_version": "1.2.0",
          "state": {
            "_model_module": "@jupyter-widgets/base",
            "_model_module_version": "1.2.0",
            "_model_name": "LayoutModel",
            "_view_count": null,
            "_view_module": "@jupyter-widgets/base",
            "_view_module_version": "1.2.0",
            "_view_name": "LayoutView",
            "align_content": null,
            "align_items": null,
            "align_self": null,
            "border": null,
            "bottom": null,
            "display": null,
            "flex": null,
            "flex_flow": null,
            "grid_area": null,
            "grid_auto_columns": null,
            "grid_auto_flow": null,
            "grid_auto_rows": null,
            "grid_column": null,
            "grid_gap": null,
            "grid_row": null,
            "grid_template_areas": null,
            "grid_template_columns": null,
            "grid_template_rows": null,
            "height": null,
            "justify_content": null,
            "justify_items": null,
            "left": null,
            "margin": null,
            "max_height": null,
            "max_width": null,
            "min_height": null,
            "min_width": null,
            "object_fit": null,
            "object_position": null,
            "order": null,
            "overflow": null,
            "overflow_x": null,
            "overflow_y": null,
            "padding": null,
            "right": null,
            "top": null,
            "visibility": null,
            "width": null
          }
        },
        "23e20917925e49da82296f88bac09658": {
          "model_module": "@jupyter-widgets/controls",
          "model_name": "ProgressStyleModel",
          "model_module_version": "1.5.0",
          "state": {
            "_model_module": "@jupyter-widgets/controls",
            "_model_module_version": "1.5.0",
            "_model_name": "ProgressStyleModel",
            "_view_count": null,
            "_view_module": "@jupyter-widgets/base",
            "_view_module_version": "1.2.0",
            "_view_name": "StyleView",
            "bar_color": null,
            "description_width": ""
          }
        },
        "52930afa4c034e4f8dcd89223393458e": {
          "model_module": "@jupyter-widgets/base",
          "model_name": "LayoutModel",
          "model_module_version": "1.2.0",
          "state": {
            "_model_module": "@jupyter-widgets/base",
            "_model_module_version": "1.2.0",
            "_model_name": "LayoutModel",
            "_view_count": null,
            "_view_module": "@jupyter-widgets/base",
            "_view_module_version": "1.2.0",
            "_view_name": "LayoutView",
            "align_content": null,
            "align_items": null,
            "align_self": null,
            "border": null,
            "bottom": null,
            "display": null,
            "flex": null,
            "flex_flow": null,
            "grid_area": null,
            "grid_auto_columns": null,
            "grid_auto_flow": null,
            "grid_auto_rows": null,
            "grid_column": null,
            "grid_gap": null,
            "grid_row": null,
            "grid_template_areas": null,
            "grid_template_columns": null,
            "grid_template_rows": null,
            "height": null,
            "justify_content": null,
            "justify_items": null,
            "left": null,
            "margin": null,
            "max_height": null,
            "max_width": null,
            "min_height": null,
            "min_width": null,
            "object_fit": null,
            "object_position": null,
            "order": null,
            "overflow": null,
            "overflow_x": null,
            "overflow_y": null,
            "padding": null,
            "right": null,
            "top": null,
            "visibility": null,
            "width": null
          }
        },
        "58cef785d23d4736943f19bb4c7c2a66": {
          "model_module": "@jupyter-widgets/controls",
          "model_name": "DescriptionStyleModel",
          "model_module_version": "1.5.0",
          "state": {
            "_model_module": "@jupyter-widgets/controls",
            "_model_module_version": "1.5.0",
            "_model_name": "DescriptionStyleModel",
            "_view_count": null,
            "_view_module": "@jupyter-widgets/base",
            "_view_module_version": "1.2.0",
            "_view_name": "StyleView",
            "description_width": ""
          }
        },
        "1395f94c283b48c880e7b23e3e04c0a9": {
          "model_module": "@jupyter-widgets/controls",
          "model_name": "HBoxModel",
          "model_module_version": "1.5.0",
          "state": {
            "_dom_classes": [],
            "_model_module": "@jupyter-widgets/controls",
            "_model_module_version": "1.5.0",
            "_model_name": "HBoxModel",
            "_view_count": null,
            "_view_module": "@jupyter-widgets/controls",
            "_view_module_version": "1.5.0",
            "_view_name": "HBoxView",
            "box_style": "",
            "children": [
              "IPY_MODEL_664a09dd608747868666643652846a1e",
              "IPY_MODEL_3dde07921efe49bcb613733c911c879f",
              "IPY_MODEL_3138d259759443de983f23bb3efa7110"
            ],
            "layout": "IPY_MODEL_8cf660cb5552478c8441e7c13309af24"
          }
        },
        "664a09dd608747868666643652846a1e": {
          "model_module": "@jupyter-widgets/controls",
          "model_name": "HTMLModel",
          "model_module_version": "1.5.0",
          "state": {
            "_dom_classes": [],
            "_model_module": "@jupyter-widgets/controls",
            "_model_module_version": "1.5.0",
            "_model_name": "HTMLModel",
            "_view_count": null,
            "_view_module": "@jupyter-widgets/controls",
            "_view_module_version": "1.5.0",
            "_view_name": "HTMLView",
            "description": "",
            "description_tooltip": null,
            "layout": "IPY_MODEL_a1347d34bb6a430a97dddf50ae2525fa",
            "placeholder": "​",
            "style": "IPY_MODEL_ffdc7e00b0de436bbbbcad61c548a51a",
            "value": "Map: 100%"
          }
        },
        "3dde07921efe49bcb613733c911c879f": {
          "model_module": "@jupyter-widgets/controls",
          "model_name": "FloatProgressModel",
          "model_module_version": "1.5.0",
          "state": {
            "_dom_classes": [],
            "_model_module": "@jupyter-widgets/controls",
            "_model_module_version": "1.5.0",
            "_model_name": "FloatProgressModel",
            "_view_count": null,
            "_view_module": "@jupyter-widgets/controls",
            "_view_module_version": "1.5.0",
            "_view_name": "ProgressView",
            "bar_style": "",
            "description": "",
            "description_tooltip": null,
            "layout": "IPY_MODEL_42f0b4f215784edcb161af6184715c27",
            "max": 1367,
            "min": 0,
            "orientation": "horizontal",
            "style": "IPY_MODEL_cd28e329951340ee9967e6299ac876c4",
            "value": 1367
          }
        },
        "3138d259759443de983f23bb3efa7110": {
          "model_module": "@jupyter-widgets/controls",
          "model_name": "HTMLModel",
          "model_module_version": "1.5.0",
          "state": {
            "_dom_classes": [],
            "_model_module": "@jupyter-widgets/controls",
            "_model_module_version": "1.5.0",
            "_model_name": "HTMLModel",
            "_view_count": null,
            "_view_module": "@jupyter-widgets/controls",
            "_view_module_version": "1.5.0",
            "_view_name": "HTMLView",
            "description": "",
            "description_tooltip": null,
            "layout": "IPY_MODEL_dedcce26e567437ebd42853a25f7bbfe",
            "placeholder": "​",
            "style": "IPY_MODEL_c21cb147d374443bb0b8895618e2a949",
            "value": " 1367/1367 [00:02&lt;00:00, 453.81 examples/s]"
          }
        },
        "8cf660cb5552478c8441e7c13309af24": {
          "model_module": "@jupyter-widgets/base",
          "model_name": "LayoutModel",
          "model_module_version": "1.2.0",
          "state": {
            "_model_module": "@jupyter-widgets/base",
            "_model_module_version": "1.2.0",
            "_model_name": "LayoutModel",
            "_view_count": null,
            "_view_module": "@jupyter-widgets/base",
            "_view_module_version": "1.2.0",
            "_view_name": "LayoutView",
            "align_content": null,
            "align_items": null,
            "align_self": null,
            "border": null,
            "bottom": null,
            "display": null,
            "flex": null,
            "flex_flow": null,
            "grid_area": null,
            "grid_auto_columns": null,
            "grid_auto_flow": null,
            "grid_auto_rows": null,
            "grid_column": null,
            "grid_gap": null,
            "grid_row": null,
            "grid_template_areas": null,
            "grid_template_columns": null,
            "grid_template_rows": null,
            "height": null,
            "justify_content": null,
            "justify_items": null,
            "left": null,
            "margin": null,
            "max_height": null,
            "max_width": null,
            "min_height": null,
            "min_width": null,
            "object_fit": null,
            "object_position": null,
            "order": null,
            "overflow": null,
            "overflow_x": null,
            "overflow_y": null,
            "padding": null,
            "right": null,
            "top": null,
            "visibility": "hidden",
            "width": null
          }
        },
        "a1347d34bb6a430a97dddf50ae2525fa": {
          "model_module": "@jupyter-widgets/base",
          "model_name": "LayoutModel",
          "model_module_version": "1.2.0",
          "state": {
            "_model_module": "@jupyter-widgets/base",
            "_model_module_version": "1.2.0",
            "_model_name": "LayoutModel",
            "_view_count": null,
            "_view_module": "@jupyter-widgets/base",
            "_view_module_version": "1.2.0",
            "_view_name": "LayoutView",
            "align_content": null,
            "align_items": null,
            "align_self": null,
            "border": null,
            "bottom": null,
            "display": null,
            "flex": null,
            "flex_flow": null,
            "grid_area": null,
            "grid_auto_columns": null,
            "grid_auto_flow": null,
            "grid_auto_rows": null,
            "grid_column": null,
            "grid_gap": null,
            "grid_row": null,
            "grid_template_areas": null,
            "grid_template_columns": null,
            "grid_template_rows": null,
            "height": null,
            "justify_content": null,
            "justify_items": null,
            "left": null,
            "margin": null,
            "max_height": null,
            "max_width": null,
            "min_height": null,
            "min_width": null,
            "object_fit": null,
            "object_position": null,
            "order": null,
            "overflow": null,
            "overflow_x": null,
            "overflow_y": null,
            "padding": null,
            "right": null,
            "top": null,
            "visibility": null,
            "width": null
          }
        },
        "ffdc7e00b0de436bbbbcad61c548a51a": {
          "model_module": "@jupyter-widgets/controls",
          "model_name": "DescriptionStyleModel",
          "model_module_version": "1.5.0",
          "state": {
            "_model_module": "@jupyter-widgets/controls",
            "_model_module_version": "1.5.0",
            "_model_name": "DescriptionStyleModel",
            "_view_count": null,
            "_view_module": "@jupyter-widgets/base",
            "_view_module_version": "1.2.0",
            "_view_name": "StyleView",
            "description_width": ""
          }
        },
        "42f0b4f215784edcb161af6184715c27": {
          "model_module": "@jupyter-widgets/base",
          "model_name": "LayoutModel",
          "model_module_version": "1.2.0",
          "state": {
            "_model_module": "@jupyter-widgets/base",
            "_model_module_version": "1.2.0",
            "_model_name": "LayoutModel",
            "_view_count": null,
            "_view_module": "@jupyter-widgets/base",
            "_view_module_version": "1.2.0",
            "_view_name": "LayoutView",
            "align_content": null,
            "align_items": null,
            "align_self": null,
            "border": null,
            "bottom": null,
            "display": null,
            "flex": null,
            "flex_flow": null,
            "grid_area": null,
            "grid_auto_columns": null,
            "grid_auto_flow": null,
            "grid_auto_rows": null,
            "grid_column": null,
            "grid_gap": null,
            "grid_row": null,
            "grid_template_areas": null,
            "grid_template_columns": null,
            "grid_template_rows": null,
            "height": null,
            "justify_content": null,
            "justify_items": null,
            "left": null,
            "margin": null,
            "max_height": null,
            "max_width": null,
            "min_height": null,
            "min_width": null,
            "object_fit": null,
            "object_position": null,
            "order": null,
            "overflow": null,
            "overflow_x": null,
            "overflow_y": null,
            "padding": null,
            "right": null,
            "top": null,
            "visibility": null,
            "width": null
          }
        },
        "cd28e329951340ee9967e6299ac876c4": {
          "model_module": "@jupyter-widgets/controls",
          "model_name": "ProgressStyleModel",
          "model_module_version": "1.5.0",
          "state": {
            "_model_module": "@jupyter-widgets/controls",
            "_model_module_version": "1.5.0",
            "_model_name": "ProgressStyleModel",
            "_view_count": null,
            "_view_module": "@jupyter-widgets/base",
            "_view_module_version": "1.2.0",
            "_view_name": "StyleView",
            "bar_color": null,
            "description_width": ""
          }
        },
        "dedcce26e567437ebd42853a25f7bbfe": {
          "model_module": "@jupyter-widgets/base",
          "model_name": "LayoutModel",
          "model_module_version": "1.2.0",
          "state": {
            "_model_module": "@jupyter-widgets/base",
            "_model_module_version": "1.2.0",
            "_model_name": "LayoutModel",
            "_view_count": null,
            "_view_module": "@jupyter-widgets/base",
            "_view_module_version": "1.2.0",
            "_view_name": "LayoutView",
            "align_content": null,
            "align_items": null,
            "align_self": null,
            "border": null,
            "bottom": null,
            "display": null,
            "flex": null,
            "flex_flow": null,
            "grid_area": null,
            "grid_auto_columns": null,
            "grid_auto_flow": null,
            "grid_auto_rows": null,
            "grid_column": null,
            "grid_gap": null,
            "grid_row": null,
            "grid_template_areas": null,
            "grid_template_columns": null,
            "grid_template_rows": null,
            "height": null,
            "justify_content": null,
            "justify_items": null,
            "left": null,
            "margin": null,
            "max_height": null,
            "max_width": null,
            "min_height": null,
            "min_width": null,
            "object_fit": null,
            "object_position": null,
            "order": null,
            "overflow": null,
            "overflow_x": null,
            "overflow_y": null,
            "padding": null,
            "right": null,
            "top": null,
            "visibility": null,
            "width": null
          }
        },
        "c21cb147d374443bb0b8895618e2a949": {
          "model_module": "@jupyter-widgets/controls",
          "model_name": "DescriptionStyleModel",
          "model_module_version": "1.5.0",
          "state": {
            "_model_module": "@jupyter-widgets/controls",
            "_model_module_version": "1.5.0",
            "_model_name": "DescriptionStyleModel",
            "_view_count": null,
            "_view_module": "@jupyter-widgets/base",
            "_view_module_version": "1.2.0",
            "_view_name": "StyleView",
            "description_width": ""
          }
        },
        "2aeaa76616cb4da8a89e995a2761be6d": {
          "model_module": "@jupyter-widgets/controls",
          "model_name": "HBoxModel",
          "model_module_version": "1.5.0",
          "state": {
            "_dom_classes": [],
            "_model_module": "@jupyter-widgets/controls",
            "_model_module_version": "1.5.0",
            "_model_name": "HBoxModel",
            "_view_count": null,
            "_view_module": "@jupyter-widgets/controls",
            "_view_module_version": "1.5.0",
            "_view_name": "HBoxView",
            "box_style": "",
            "children": [
              "IPY_MODEL_2177347ed313433a8fa98c832812394d",
              "IPY_MODEL_6e84711e94154c039a89341d34e42d3e",
              "IPY_MODEL_0d4264e55a084d7d9ac68b082b4dde11"
            ],
            "layout": "IPY_MODEL_c8579508fde34217aa52a3bb82eeb1e7"
          }
        },
        "2177347ed313433a8fa98c832812394d": {
          "model_module": "@jupyter-widgets/controls",
          "model_name": "HTMLModel",
          "model_module_version": "1.5.0",
          "state": {
            "_dom_classes": [],
            "_model_module": "@jupyter-widgets/controls",
            "_model_module_version": "1.5.0",
            "_model_name": "HTMLModel",
            "_view_count": null,
            "_view_module": "@jupyter-widgets/controls",
            "_view_module_version": "1.5.0",
            "_view_name": "HTMLView",
            "description": "",
            "description_tooltip": null,
            "layout": "IPY_MODEL_c82e362e98314239a7a6d49995a1c85a",
            "placeholder": "​",
            "style": "IPY_MODEL_011622afa5ca4600b82523b409fff008",
            "value": "Map:  92%"
          }
        },
        "6e84711e94154c039a89341d34e42d3e": {
          "model_module": "@jupyter-widgets/controls",
          "model_name": "FloatProgressModel",
          "model_module_version": "1.5.0",
          "state": {
            "_dom_classes": [],
            "_model_module": "@jupyter-widgets/controls",
            "_model_module_version": "1.5.0",
            "_model_name": "FloatProgressModel",
            "_view_count": null,
            "_view_module": "@jupyter-widgets/controls",
            "_view_module_version": "1.5.0",
            "_view_name": "ProgressView",
            "bar_style": "",
            "description": "",
            "description_tooltip": null,
            "layout": "IPY_MODEL_44150a9d8e1e49d9a13c47b3f74677ed",
            "max": 335,
            "min": 0,
            "orientation": "horizontal",
            "style": "IPY_MODEL_b8bc789f79d9450a94d4c33fa02de952",
            "value": 335
          }
        },
        "0d4264e55a084d7d9ac68b082b4dde11": {
          "model_module": "@jupyter-widgets/controls",
          "model_name": "HTMLModel",
          "model_module_version": "1.5.0",
          "state": {
            "_dom_classes": [],
            "_model_module": "@jupyter-widgets/controls",
            "_model_module_version": "1.5.0",
            "_model_name": "HTMLModel",
            "_view_count": null,
            "_view_module": "@jupyter-widgets/controls",
            "_view_module_version": "1.5.0",
            "_view_name": "HTMLView",
            "description": "",
            "description_tooltip": null,
            "layout": "IPY_MODEL_77131662b30f46a2a04691e47fb5fefc",
            "placeholder": "​",
            "style": "IPY_MODEL_80857409c55945c7a8ad47bcf89da9b0",
            "value": " 309/335 [00:00&lt;00:00, 540.51 examples/s]"
          }
        },
        "c8579508fde34217aa52a3bb82eeb1e7": {
          "model_module": "@jupyter-widgets/base",
          "model_name": "LayoutModel",
          "model_module_version": "1.2.0",
          "state": {
            "_model_module": "@jupyter-widgets/base",
            "_model_module_version": "1.2.0",
            "_model_name": "LayoutModel",
            "_view_count": null,
            "_view_module": "@jupyter-widgets/base",
            "_view_module_version": "1.2.0",
            "_view_name": "LayoutView",
            "align_content": null,
            "align_items": null,
            "align_self": null,
            "border": null,
            "bottom": null,
            "display": null,
            "flex": null,
            "flex_flow": null,
            "grid_area": null,
            "grid_auto_columns": null,
            "grid_auto_flow": null,
            "grid_auto_rows": null,
            "grid_column": null,
            "grid_gap": null,
            "grid_row": null,
            "grid_template_areas": null,
            "grid_template_columns": null,
            "grid_template_rows": null,
            "height": null,
            "justify_content": null,
            "justify_items": null,
            "left": null,
            "margin": null,
            "max_height": null,
            "max_width": null,
            "min_height": null,
            "min_width": null,
            "object_fit": null,
            "object_position": null,
            "order": null,
            "overflow": null,
            "overflow_x": null,
            "overflow_y": null,
            "padding": null,
            "right": null,
            "top": null,
            "visibility": "hidden",
            "width": null
          }
        },
        "c82e362e98314239a7a6d49995a1c85a": {
          "model_module": "@jupyter-widgets/base",
          "model_name": "LayoutModel",
          "model_module_version": "1.2.0",
          "state": {
            "_model_module": "@jupyter-widgets/base",
            "_model_module_version": "1.2.0",
            "_model_name": "LayoutModel",
            "_view_count": null,
            "_view_module": "@jupyter-widgets/base",
            "_view_module_version": "1.2.0",
            "_view_name": "LayoutView",
            "align_content": null,
            "align_items": null,
            "align_self": null,
            "border": null,
            "bottom": null,
            "display": null,
            "flex": null,
            "flex_flow": null,
            "grid_area": null,
            "grid_auto_columns": null,
            "grid_auto_flow": null,
            "grid_auto_rows": null,
            "grid_column": null,
            "grid_gap": null,
            "grid_row": null,
            "grid_template_areas": null,
            "grid_template_columns": null,
            "grid_template_rows": null,
            "height": null,
            "justify_content": null,
            "justify_items": null,
            "left": null,
            "margin": null,
            "max_height": null,
            "max_width": null,
            "min_height": null,
            "min_width": null,
            "object_fit": null,
            "object_position": null,
            "order": null,
            "overflow": null,
            "overflow_x": null,
            "overflow_y": null,
            "padding": null,
            "right": null,
            "top": null,
            "visibility": null,
            "width": null
          }
        },
        "011622afa5ca4600b82523b409fff008": {
          "model_module": "@jupyter-widgets/controls",
          "model_name": "DescriptionStyleModel",
          "model_module_version": "1.5.0",
          "state": {
            "_model_module": "@jupyter-widgets/controls",
            "_model_module_version": "1.5.0",
            "_model_name": "DescriptionStyleModel",
            "_view_count": null,
            "_view_module": "@jupyter-widgets/base",
            "_view_module_version": "1.2.0",
            "_view_name": "StyleView",
            "description_width": ""
          }
        },
        "44150a9d8e1e49d9a13c47b3f74677ed": {
          "model_module": "@jupyter-widgets/base",
          "model_name": "LayoutModel",
          "model_module_version": "1.2.0",
          "state": {
            "_model_module": "@jupyter-widgets/base",
            "_model_module_version": "1.2.0",
            "_model_name": "LayoutModel",
            "_view_count": null,
            "_view_module": "@jupyter-widgets/base",
            "_view_module_version": "1.2.0",
            "_view_name": "LayoutView",
            "align_content": null,
            "align_items": null,
            "align_self": null,
            "border": null,
            "bottom": null,
            "display": null,
            "flex": null,
            "flex_flow": null,
            "grid_area": null,
            "grid_auto_columns": null,
            "grid_auto_flow": null,
            "grid_auto_rows": null,
            "grid_column": null,
            "grid_gap": null,
            "grid_row": null,
            "grid_template_areas": null,
            "grid_template_columns": null,
            "grid_template_rows": null,
            "height": null,
            "justify_content": null,
            "justify_items": null,
            "left": null,
            "margin": null,
            "max_height": null,
            "max_width": null,
            "min_height": null,
            "min_width": null,
            "object_fit": null,
            "object_position": null,
            "order": null,
            "overflow": null,
            "overflow_x": null,
            "overflow_y": null,
            "padding": null,
            "right": null,
            "top": null,
            "visibility": null,
            "width": null
          }
        },
        "b8bc789f79d9450a94d4c33fa02de952": {
          "model_module": "@jupyter-widgets/controls",
          "model_name": "ProgressStyleModel",
          "model_module_version": "1.5.0",
          "state": {
            "_model_module": "@jupyter-widgets/controls",
            "_model_module_version": "1.5.0",
            "_model_name": "ProgressStyleModel",
            "_view_count": null,
            "_view_module": "@jupyter-widgets/base",
            "_view_module_version": "1.2.0",
            "_view_name": "StyleView",
            "bar_color": null,
            "description_width": ""
          }
        },
        "77131662b30f46a2a04691e47fb5fefc": {
          "model_module": "@jupyter-widgets/base",
          "model_name": "LayoutModel",
          "model_module_version": "1.2.0",
          "state": {
            "_model_module": "@jupyter-widgets/base",
            "_model_module_version": "1.2.0",
            "_model_name": "LayoutModel",
            "_view_count": null,
            "_view_module": "@jupyter-widgets/base",
            "_view_module_version": "1.2.0",
            "_view_name": "LayoutView",
            "align_content": null,
            "align_items": null,
            "align_self": null,
            "border": null,
            "bottom": null,
            "display": null,
            "flex": null,
            "flex_flow": null,
            "grid_area": null,
            "grid_auto_columns": null,
            "grid_auto_flow": null,
            "grid_auto_rows": null,
            "grid_column": null,
            "grid_gap": null,
            "grid_row": null,
            "grid_template_areas": null,
            "grid_template_columns": null,
            "grid_template_rows": null,
            "height": null,
            "justify_content": null,
            "justify_items": null,
            "left": null,
            "margin": null,
            "max_height": null,
            "max_width": null,
            "min_height": null,
            "min_width": null,
            "object_fit": null,
            "object_position": null,
            "order": null,
            "overflow": null,
            "overflow_x": null,
            "overflow_y": null,
            "padding": null,
            "right": null,
            "top": null,
            "visibility": null,
            "width": null
          }
        },
        "80857409c55945c7a8ad47bcf89da9b0": {
          "model_module": "@jupyter-widgets/controls",
          "model_name": "DescriptionStyleModel",
          "model_module_version": "1.5.0",
          "state": {
            "_model_module": "@jupyter-widgets/controls",
            "_model_module_version": "1.5.0",
            "_model_name": "DescriptionStyleModel",
            "_view_count": null,
            "_view_module": "@jupyter-widgets/base",
            "_view_module_version": "1.2.0",
            "_view_name": "StyleView",
            "description_width": ""
          }
        },
        "22671bb241814e80b4ca928a516c672c": {
          "model_module": "@jupyter-widgets/controls",
          "model_name": "HBoxModel",
          "model_module_version": "1.5.0",
          "state": {
            "_dom_classes": [],
            "_model_module": "@jupyter-widgets/controls",
            "_model_module_version": "1.5.0",
            "_model_name": "HBoxModel",
            "_view_count": null,
            "_view_module": "@jupyter-widgets/controls",
            "_view_module_version": "1.5.0",
            "_view_name": "HBoxView",
            "box_style": "",
            "children": [
              "IPY_MODEL_f5eb8e7c9ffb48cdacdc3d625a707696",
              "IPY_MODEL_7a979073bea9479cb0bfbafa33065d9c",
              "IPY_MODEL_422bc3ad36cc4bd0b207f45fe0078890"
            ],
            "layout": "IPY_MODEL_b9aac303b1634b4b99e0208d339c51ad"
          }
        },
        "f5eb8e7c9ffb48cdacdc3d625a707696": {
          "model_module": "@jupyter-widgets/controls",
          "model_name": "HTMLModel",
          "model_module_version": "1.5.0",
          "state": {
            "_dom_classes": [],
            "_model_module": "@jupyter-widgets/controls",
            "_model_module_version": "1.5.0",
            "_model_name": "HTMLModel",
            "_view_count": null,
            "_view_module": "@jupyter-widgets/controls",
            "_view_module_version": "1.5.0",
            "_view_name": "HTMLView",
            "description": "",
            "description_tooltip": null,
            "layout": "IPY_MODEL_4c831b90f9d44ea89eecfe8fade6ae54",
            "placeholder": "​",
            "style": "IPY_MODEL_ed4b4d67560c4137abcfcf24e1a78638",
            "value": "Downloading pytorch_model.bin: 100%"
          }
        },
        "7a979073bea9479cb0bfbafa33065d9c": {
          "model_module": "@jupyter-widgets/controls",
          "model_name": "FloatProgressModel",
          "model_module_version": "1.5.0",
          "state": {
            "_dom_classes": [],
            "_model_module": "@jupyter-widgets/controls",
            "_model_module_version": "1.5.0",
            "_model_name": "FloatProgressModel",
            "_view_count": null,
            "_view_module": "@jupyter-widgets/controls",
            "_view_module_version": "1.5.0",
            "_view_name": "ProgressView",
            "bar_style": "success",
            "description": "",
            "description_tooltip": null,
            "layout": "IPY_MODEL_0b748a72010d4063a4f354a4001ac3ef",
            "max": 1625270765,
            "min": 0,
            "orientation": "horizontal",
            "style": "IPY_MODEL_b9aa83f29a2c4843a347307de677e424",
            "value": 1625270765
          }
        },
        "422bc3ad36cc4bd0b207f45fe0078890": {
          "model_module": "@jupyter-widgets/controls",
          "model_name": "HTMLModel",
          "model_module_version": "1.5.0",
          "state": {
            "_dom_classes": [],
            "_model_module": "@jupyter-widgets/controls",
            "_model_module_version": "1.5.0",
            "_model_name": "HTMLModel",
            "_view_count": null,
            "_view_module": "@jupyter-widgets/controls",
            "_view_module_version": "1.5.0",
            "_view_name": "HTMLView",
            "description": "",
            "description_tooltip": null,
            "layout": "IPY_MODEL_9127040734704ef6899dfa373f8d8496",
            "placeholder": "​",
            "style": "IPY_MODEL_ae896bd5c2574f04afd1f5ed86d949bf",
            "value": " 1.63G/1.63G [00:03&lt;00:00, 448MB/s]"
          }
        },
        "b9aac303b1634b4b99e0208d339c51ad": {
          "model_module": "@jupyter-widgets/base",
          "model_name": "LayoutModel",
          "model_module_version": "1.2.0",
          "state": {
            "_model_module": "@jupyter-widgets/base",
            "_model_module_version": "1.2.0",
            "_model_name": "LayoutModel",
            "_view_count": null,
            "_view_module": "@jupyter-widgets/base",
            "_view_module_version": "1.2.0",
            "_view_name": "LayoutView",
            "align_content": null,
            "align_items": null,
            "align_self": null,
            "border": null,
            "bottom": null,
            "display": null,
            "flex": null,
            "flex_flow": null,
            "grid_area": null,
            "grid_auto_columns": null,
            "grid_auto_flow": null,
            "grid_auto_rows": null,
            "grid_column": null,
            "grid_gap": null,
            "grid_row": null,
            "grid_template_areas": null,
            "grid_template_columns": null,
            "grid_template_rows": null,
            "height": null,
            "justify_content": null,
            "justify_items": null,
            "left": null,
            "margin": null,
            "max_height": null,
            "max_width": null,
            "min_height": null,
            "min_width": null,
            "object_fit": null,
            "object_position": null,
            "order": null,
            "overflow": null,
            "overflow_x": null,
            "overflow_y": null,
            "padding": null,
            "right": null,
            "top": null,
            "visibility": null,
            "width": null
          }
        },
        "4c831b90f9d44ea89eecfe8fade6ae54": {
          "model_module": "@jupyter-widgets/base",
          "model_name": "LayoutModel",
          "model_module_version": "1.2.0",
          "state": {
            "_model_module": "@jupyter-widgets/base",
            "_model_module_version": "1.2.0",
            "_model_name": "LayoutModel",
            "_view_count": null,
            "_view_module": "@jupyter-widgets/base",
            "_view_module_version": "1.2.0",
            "_view_name": "LayoutView",
            "align_content": null,
            "align_items": null,
            "align_self": null,
            "border": null,
            "bottom": null,
            "display": null,
            "flex": null,
            "flex_flow": null,
            "grid_area": null,
            "grid_auto_columns": null,
            "grid_auto_flow": null,
            "grid_auto_rows": null,
            "grid_column": null,
            "grid_gap": null,
            "grid_row": null,
            "grid_template_areas": null,
            "grid_template_columns": null,
            "grid_template_rows": null,
            "height": null,
            "justify_content": null,
            "justify_items": null,
            "left": null,
            "margin": null,
            "max_height": null,
            "max_width": null,
            "min_height": null,
            "min_width": null,
            "object_fit": null,
            "object_position": null,
            "order": null,
            "overflow": null,
            "overflow_x": null,
            "overflow_y": null,
            "padding": null,
            "right": null,
            "top": null,
            "visibility": null,
            "width": null
          }
        },
        "ed4b4d67560c4137abcfcf24e1a78638": {
          "model_module": "@jupyter-widgets/controls",
          "model_name": "DescriptionStyleModel",
          "model_module_version": "1.5.0",
          "state": {
            "_model_module": "@jupyter-widgets/controls",
            "_model_module_version": "1.5.0",
            "_model_name": "DescriptionStyleModel",
            "_view_count": null,
            "_view_module": "@jupyter-widgets/base",
            "_view_module_version": "1.2.0",
            "_view_name": "StyleView",
            "description_width": ""
          }
        },
        "0b748a72010d4063a4f354a4001ac3ef": {
          "model_module": "@jupyter-widgets/base",
          "model_name": "LayoutModel",
          "model_module_version": "1.2.0",
          "state": {
            "_model_module": "@jupyter-widgets/base",
            "_model_module_version": "1.2.0",
            "_model_name": "LayoutModel",
            "_view_count": null,
            "_view_module": "@jupyter-widgets/base",
            "_view_module_version": "1.2.0",
            "_view_name": "LayoutView",
            "align_content": null,
            "align_items": null,
            "align_self": null,
            "border": null,
            "bottom": null,
            "display": null,
            "flex": null,
            "flex_flow": null,
            "grid_area": null,
            "grid_auto_columns": null,
            "grid_auto_flow": null,
            "grid_auto_rows": null,
            "grid_column": null,
            "grid_gap": null,
            "grid_row": null,
            "grid_template_areas": null,
            "grid_template_columns": null,
            "grid_template_rows": null,
            "height": null,
            "justify_content": null,
            "justify_items": null,
            "left": null,
            "margin": null,
            "max_height": null,
            "max_width": null,
            "min_height": null,
            "min_width": null,
            "object_fit": null,
            "object_position": null,
            "order": null,
            "overflow": null,
            "overflow_x": null,
            "overflow_y": null,
            "padding": null,
            "right": null,
            "top": null,
            "visibility": null,
            "width": null
          }
        },
        "b9aa83f29a2c4843a347307de677e424": {
          "model_module": "@jupyter-widgets/controls",
          "model_name": "ProgressStyleModel",
          "model_module_version": "1.5.0",
          "state": {
            "_model_module": "@jupyter-widgets/controls",
            "_model_module_version": "1.5.0",
            "_model_name": "ProgressStyleModel",
            "_view_count": null,
            "_view_module": "@jupyter-widgets/base",
            "_view_module_version": "1.2.0",
            "_view_name": "StyleView",
            "bar_color": null,
            "description_width": ""
          }
        },
        "9127040734704ef6899dfa373f8d8496": {
          "model_module": "@jupyter-widgets/base",
          "model_name": "LayoutModel",
          "model_module_version": "1.2.0",
          "state": {
            "_model_module": "@jupyter-widgets/base",
            "_model_module_version": "1.2.0",
            "_model_name": "LayoutModel",
            "_view_count": null,
            "_view_module": "@jupyter-widgets/base",
            "_view_module_version": "1.2.0",
            "_view_name": "LayoutView",
            "align_content": null,
            "align_items": null,
            "align_self": null,
            "border": null,
            "bottom": null,
            "display": null,
            "flex": null,
            "flex_flow": null,
            "grid_area": null,
            "grid_auto_columns": null,
            "grid_auto_flow": null,
            "grid_auto_rows": null,
            "grid_column": null,
            "grid_gap": null,
            "grid_row": null,
            "grid_template_areas": null,
            "grid_template_columns": null,
            "grid_template_rows": null,
            "height": null,
            "justify_content": null,
            "justify_items": null,
            "left": null,
            "margin": null,
            "max_height": null,
            "max_width": null,
            "min_height": null,
            "min_width": null,
            "object_fit": null,
            "object_position": null,
            "order": null,
            "overflow": null,
            "overflow_x": null,
            "overflow_y": null,
            "padding": null,
            "right": null,
            "top": null,
            "visibility": null,
            "width": null
          }
        },
        "ae896bd5c2574f04afd1f5ed86d949bf": {
          "model_module": "@jupyter-widgets/controls",
          "model_name": "DescriptionStyleModel",
          "model_module_version": "1.5.0",
          "state": {
            "_model_module": "@jupyter-widgets/controls",
            "_model_module_version": "1.5.0",
            "_model_name": "DescriptionStyleModel",
            "_view_count": null,
            "_view_module": "@jupyter-widgets/base",
            "_view_module_version": "1.2.0",
            "_view_name": "StyleView",
            "description_width": ""
          }
        },
        "844e915b707c4a418945f2c99a66a3ea": {
          "model_module": "@jupyter-widgets/controls",
          "model_name": "HBoxModel",
          "model_module_version": "1.5.0",
          "state": {
            "_dom_classes": [],
            "_model_module": "@jupyter-widgets/controls",
            "_model_module_version": "1.5.0",
            "_model_name": "HBoxModel",
            "_view_count": null,
            "_view_module": "@jupyter-widgets/controls",
            "_view_module_version": "1.5.0",
            "_view_name": "HBoxView",
            "box_style": "",
            "children": [
              "IPY_MODEL_a0ba82c5160b4a1f82e3c4202bd6ab3f",
              "IPY_MODEL_70b2f07e45f9400bade8f75d78bbb4a3",
              "IPY_MODEL_882fd46059a24800a380b7675b7f4ef3"
            ],
            "layout": "IPY_MODEL_078a4b11d16a45f2807a401a6de2577a"
          }
        },
        "a0ba82c5160b4a1f82e3c4202bd6ab3f": {
          "model_module": "@jupyter-widgets/controls",
          "model_name": "HTMLModel",
          "model_module_version": "1.5.0",
          "state": {
            "_dom_classes": [],
            "_model_module": "@jupyter-widgets/controls",
            "_model_module_version": "1.5.0",
            "_model_name": "HTMLModel",
            "_view_count": null,
            "_view_module": "@jupyter-widgets/controls",
            "_view_module_version": "1.5.0",
            "_view_name": "HTMLView",
            "description": "",
            "description_tooltip": null,
            "layout": "IPY_MODEL_71145994561f45fabad587f53e79b749",
            "placeholder": "​",
            "style": "IPY_MODEL_6d98725d505e4612be5b2b07ac8f4038",
            "value": "Downloading (…)neration_config.json: 100%"
          }
        },
        "70b2f07e45f9400bade8f75d78bbb4a3": {
          "model_module": "@jupyter-widgets/controls",
          "model_name": "FloatProgressModel",
          "model_module_version": "1.5.0",
          "state": {
            "_dom_classes": [],
            "_model_module": "@jupyter-widgets/controls",
            "_model_module_version": "1.5.0",
            "_model_name": "FloatProgressModel",
            "_view_count": null,
            "_view_module": "@jupyter-widgets/controls",
            "_view_module_version": "1.5.0",
            "_view_name": "ProgressView",
            "bar_style": "success",
            "description": "",
            "description_tooltip": null,
            "layout": "IPY_MODEL_6423004cfd1540fc83e99f26d0a768f8",
            "max": 363,
            "min": 0,
            "orientation": "horizontal",
            "style": "IPY_MODEL_56ff956c9f734bfe9b82004a1cf510fe",
            "value": 363
          }
        },
        "882fd46059a24800a380b7675b7f4ef3": {
          "model_module": "@jupyter-widgets/controls",
          "model_name": "HTMLModel",
          "model_module_version": "1.5.0",
          "state": {
            "_dom_classes": [],
            "_model_module": "@jupyter-widgets/controls",
            "_model_module_version": "1.5.0",
            "_model_name": "HTMLModel",
            "_view_count": null,
            "_view_module": "@jupyter-widgets/controls",
            "_view_module_version": "1.5.0",
            "_view_name": "HTMLView",
            "description": "",
            "description_tooltip": null,
            "layout": "IPY_MODEL_e1275d7269424ff4a5a8b7fe367384f8",
            "placeholder": "​",
            "style": "IPY_MODEL_81e2eb6691214a15bb81412b303ed289",
            "value": " 363/363 [00:00&lt;00:00, 31.9kB/s]"
          }
        },
        "078a4b11d16a45f2807a401a6de2577a": {
          "model_module": "@jupyter-widgets/base",
          "model_name": "LayoutModel",
          "model_module_version": "1.2.0",
          "state": {
            "_model_module": "@jupyter-widgets/base",
            "_model_module_version": "1.2.0",
            "_model_name": "LayoutModel",
            "_view_count": null,
            "_view_module": "@jupyter-widgets/base",
            "_view_module_version": "1.2.0",
            "_view_name": "LayoutView",
            "align_content": null,
            "align_items": null,
            "align_self": null,
            "border": null,
            "bottom": null,
            "display": null,
            "flex": null,
            "flex_flow": null,
            "grid_area": null,
            "grid_auto_columns": null,
            "grid_auto_flow": null,
            "grid_auto_rows": null,
            "grid_column": null,
            "grid_gap": null,
            "grid_row": null,
            "grid_template_areas": null,
            "grid_template_columns": null,
            "grid_template_rows": null,
            "height": null,
            "justify_content": null,
            "justify_items": null,
            "left": null,
            "margin": null,
            "max_height": null,
            "max_width": null,
            "min_height": null,
            "min_width": null,
            "object_fit": null,
            "object_position": null,
            "order": null,
            "overflow": null,
            "overflow_x": null,
            "overflow_y": null,
            "padding": null,
            "right": null,
            "top": null,
            "visibility": null,
            "width": null
          }
        },
        "71145994561f45fabad587f53e79b749": {
          "model_module": "@jupyter-widgets/base",
          "model_name": "LayoutModel",
          "model_module_version": "1.2.0",
          "state": {
            "_model_module": "@jupyter-widgets/base",
            "_model_module_version": "1.2.0",
            "_model_name": "LayoutModel",
            "_view_count": null,
            "_view_module": "@jupyter-widgets/base",
            "_view_module_version": "1.2.0",
            "_view_name": "LayoutView",
            "align_content": null,
            "align_items": null,
            "align_self": null,
            "border": null,
            "bottom": null,
            "display": null,
            "flex": null,
            "flex_flow": null,
            "grid_area": null,
            "grid_auto_columns": null,
            "grid_auto_flow": null,
            "grid_auto_rows": null,
            "grid_column": null,
            "grid_gap": null,
            "grid_row": null,
            "grid_template_areas": null,
            "grid_template_columns": null,
            "grid_template_rows": null,
            "height": null,
            "justify_content": null,
            "justify_items": null,
            "left": null,
            "margin": null,
            "max_height": null,
            "max_width": null,
            "min_height": null,
            "min_width": null,
            "object_fit": null,
            "object_position": null,
            "order": null,
            "overflow": null,
            "overflow_x": null,
            "overflow_y": null,
            "padding": null,
            "right": null,
            "top": null,
            "visibility": null,
            "width": null
          }
        },
        "6d98725d505e4612be5b2b07ac8f4038": {
          "model_module": "@jupyter-widgets/controls",
          "model_name": "DescriptionStyleModel",
          "model_module_version": "1.5.0",
          "state": {
            "_model_module": "@jupyter-widgets/controls",
            "_model_module_version": "1.5.0",
            "_model_name": "DescriptionStyleModel",
            "_view_count": null,
            "_view_module": "@jupyter-widgets/base",
            "_view_module_version": "1.2.0",
            "_view_name": "StyleView",
            "description_width": ""
          }
        },
        "6423004cfd1540fc83e99f26d0a768f8": {
          "model_module": "@jupyter-widgets/base",
          "model_name": "LayoutModel",
          "model_module_version": "1.2.0",
          "state": {
            "_model_module": "@jupyter-widgets/base",
            "_model_module_version": "1.2.0",
            "_model_name": "LayoutModel",
            "_view_count": null,
            "_view_module": "@jupyter-widgets/base",
            "_view_module_version": "1.2.0",
            "_view_name": "LayoutView",
            "align_content": null,
            "align_items": null,
            "align_self": null,
            "border": null,
            "bottom": null,
            "display": null,
            "flex": null,
            "flex_flow": null,
            "grid_area": null,
            "grid_auto_columns": null,
            "grid_auto_flow": null,
            "grid_auto_rows": null,
            "grid_column": null,
            "grid_gap": null,
            "grid_row": null,
            "grid_template_areas": null,
            "grid_template_columns": null,
            "grid_template_rows": null,
            "height": null,
            "justify_content": null,
            "justify_items": null,
            "left": null,
            "margin": null,
            "max_height": null,
            "max_width": null,
            "min_height": null,
            "min_width": null,
            "object_fit": null,
            "object_position": null,
            "order": null,
            "overflow": null,
            "overflow_x": null,
            "overflow_y": null,
            "padding": null,
            "right": null,
            "top": null,
            "visibility": null,
            "width": null
          }
        },
        "56ff956c9f734bfe9b82004a1cf510fe": {
          "model_module": "@jupyter-widgets/controls",
          "model_name": "ProgressStyleModel",
          "model_module_version": "1.5.0",
          "state": {
            "_model_module": "@jupyter-widgets/controls",
            "_model_module_version": "1.5.0",
            "_model_name": "ProgressStyleModel",
            "_view_count": null,
            "_view_module": "@jupyter-widgets/base",
            "_view_module_version": "1.2.0",
            "_view_name": "StyleView",
            "bar_color": null,
            "description_width": ""
          }
        },
        "e1275d7269424ff4a5a8b7fe367384f8": {
          "model_module": "@jupyter-widgets/base",
          "model_name": "LayoutModel",
          "model_module_version": "1.2.0",
          "state": {
            "_model_module": "@jupyter-widgets/base",
            "_model_module_version": "1.2.0",
            "_model_name": "LayoutModel",
            "_view_count": null,
            "_view_module": "@jupyter-widgets/base",
            "_view_module_version": "1.2.0",
            "_view_name": "LayoutView",
            "align_content": null,
            "align_items": null,
            "align_self": null,
            "border": null,
            "bottom": null,
            "display": null,
            "flex": null,
            "flex_flow": null,
            "grid_area": null,
            "grid_auto_columns": null,
            "grid_auto_flow": null,
            "grid_auto_rows": null,
            "grid_column": null,
            "grid_gap": null,
            "grid_row": null,
            "grid_template_areas": null,
            "grid_template_columns": null,
            "grid_template_rows": null,
            "height": null,
            "justify_content": null,
            "justify_items": null,
            "left": null,
            "margin": null,
            "max_height": null,
            "max_width": null,
            "min_height": null,
            "min_width": null,
            "object_fit": null,
            "object_position": null,
            "order": null,
            "overflow": null,
            "overflow_x": null,
            "overflow_y": null,
            "padding": null,
            "right": null,
            "top": null,
            "visibility": null,
            "width": null
          }
        },
        "81e2eb6691214a15bb81412b303ed289": {
          "model_module": "@jupyter-widgets/controls",
          "model_name": "DescriptionStyleModel",
          "model_module_version": "1.5.0",
          "state": {
            "_model_module": "@jupyter-widgets/controls",
            "_model_module_version": "1.5.0",
            "_model_name": "DescriptionStyleModel",
            "_view_count": null,
            "_view_module": "@jupyter-widgets/base",
            "_view_module_version": "1.2.0",
            "_view_name": "StyleView",
            "description_width": ""
          }
        },
        "39a5ffc079e64282892f677b94b31fda": {
          "model_module": "@jupyter-widgets/controls",
          "model_name": "HBoxModel",
          "model_module_version": "1.5.0",
          "state": {
            "_dom_classes": [],
            "_model_module": "@jupyter-widgets/controls",
            "_model_module_version": "1.5.0",
            "_model_name": "HBoxModel",
            "_view_count": null,
            "_view_module": "@jupyter-widgets/controls",
            "_view_module_version": "1.5.0",
            "_view_name": "HBoxView",
            "box_style": "",
            "children": [
              "IPY_MODEL_dbec008520d743a8b5e15b7b60ba3ad0",
              "IPY_MODEL_94810ee9b0f644409dcabb010355d6c9",
              "IPY_MODEL_92c53b460c9c4a7e8c051bdb8bacb122"
            ],
            "layout": "IPY_MODEL_215fab63dc42458ea950e2982424a9bf"
          }
        },
        "dbec008520d743a8b5e15b7b60ba3ad0": {
          "model_module": "@jupyter-widgets/controls",
          "model_name": "HTMLModel",
          "model_module_version": "1.5.0",
          "state": {
            "_dom_classes": [],
            "_model_module": "@jupyter-widgets/controls",
            "_model_module_version": "1.5.0",
            "_model_name": "HTMLModel",
            "_view_count": null,
            "_view_module": "@jupyter-widgets/controls",
            "_view_module_version": "1.5.0",
            "_view_name": "HTMLView",
            "description": "",
            "description_tooltip": null,
            "layout": "IPY_MODEL_5a640c3bfef14c7fa651fcc3d664b9d1",
            "placeholder": "​",
            "style": "IPY_MODEL_800f019d325c49aea09bd3287d875775",
            "value": "Downloading builder script: "
          }
        },
        "94810ee9b0f644409dcabb010355d6c9": {
          "model_module": "@jupyter-widgets/controls",
          "model_name": "FloatProgressModel",
          "model_module_version": "1.5.0",
          "state": {
            "_dom_classes": [],
            "_model_module": "@jupyter-widgets/controls",
            "_model_module_version": "1.5.0",
            "_model_name": "FloatProgressModel",
            "_view_count": null,
            "_view_module": "@jupyter-widgets/controls",
            "_view_module_version": "1.5.0",
            "_view_name": "ProgressView",
            "bar_style": "success",
            "description": "",
            "description_tooltip": null,
            "layout": "IPY_MODEL_0dc59855190b4e85bbd3578be9943386",
            "max": 2478,
            "min": 0,
            "orientation": "horizontal",
            "style": "IPY_MODEL_b1f29d75f6af4ed88aaf05911b61d1a8",
            "value": 2478
          }
        },
        "92c53b460c9c4a7e8c051bdb8bacb122": {
          "model_module": "@jupyter-widgets/controls",
          "model_name": "HTMLModel",
          "model_module_version": "1.5.0",
          "state": {
            "_dom_classes": [],
            "_model_module": "@jupyter-widgets/controls",
            "_model_module_version": "1.5.0",
            "_model_name": "HTMLModel",
            "_view_count": null,
            "_view_module": "@jupyter-widgets/controls",
            "_view_module_version": "1.5.0",
            "_view_name": "HTMLView",
            "description": "",
            "description_tooltip": null,
            "layout": "IPY_MODEL_9b5df249ab0141c4989170ba82fbfead",
            "placeholder": "​",
            "style": "IPY_MODEL_3a7367733f89471094a5b3d5842a7652",
            "value": " 6.06k/? [00:00&lt;00:00, 426kB/s]"
          }
        },
        "215fab63dc42458ea950e2982424a9bf": {
          "model_module": "@jupyter-widgets/base",
          "model_name": "LayoutModel",
          "model_module_version": "1.2.0",
          "state": {
            "_model_module": "@jupyter-widgets/base",
            "_model_module_version": "1.2.0",
            "_model_name": "LayoutModel",
            "_view_count": null,
            "_view_module": "@jupyter-widgets/base",
            "_view_module_version": "1.2.0",
            "_view_name": "LayoutView",
            "align_content": null,
            "align_items": null,
            "align_self": null,
            "border": null,
            "bottom": null,
            "display": null,
            "flex": null,
            "flex_flow": null,
            "grid_area": null,
            "grid_auto_columns": null,
            "grid_auto_flow": null,
            "grid_auto_rows": null,
            "grid_column": null,
            "grid_gap": null,
            "grid_row": null,
            "grid_template_areas": null,
            "grid_template_columns": null,
            "grid_template_rows": null,
            "height": null,
            "justify_content": null,
            "justify_items": null,
            "left": null,
            "margin": null,
            "max_height": null,
            "max_width": null,
            "min_height": null,
            "min_width": null,
            "object_fit": null,
            "object_position": null,
            "order": null,
            "overflow": null,
            "overflow_x": null,
            "overflow_y": null,
            "padding": null,
            "right": null,
            "top": null,
            "visibility": null,
            "width": null
          }
        },
        "5a640c3bfef14c7fa651fcc3d664b9d1": {
          "model_module": "@jupyter-widgets/base",
          "model_name": "LayoutModel",
          "model_module_version": "1.2.0",
          "state": {
            "_model_module": "@jupyter-widgets/base",
            "_model_module_version": "1.2.0",
            "_model_name": "LayoutModel",
            "_view_count": null,
            "_view_module": "@jupyter-widgets/base",
            "_view_module_version": "1.2.0",
            "_view_name": "LayoutView",
            "align_content": null,
            "align_items": null,
            "align_self": null,
            "border": null,
            "bottom": null,
            "display": null,
            "flex": null,
            "flex_flow": null,
            "grid_area": null,
            "grid_auto_columns": null,
            "grid_auto_flow": null,
            "grid_auto_rows": null,
            "grid_column": null,
            "grid_gap": null,
            "grid_row": null,
            "grid_template_areas": null,
            "grid_template_columns": null,
            "grid_template_rows": null,
            "height": null,
            "justify_content": null,
            "justify_items": null,
            "left": null,
            "margin": null,
            "max_height": null,
            "max_width": null,
            "min_height": null,
            "min_width": null,
            "object_fit": null,
            "object_position": null,
            "order": null,
            "overflow": null,
            "overflow_x": null,
            "overflow_y": null,
            "padding": null,
            "right": null,
            "top": null,
            "visibility": null,
            "width": null
          }
        },
        "800f019d325c49aea09bd3287d875775": {
          "model_module": "@jupyter-widgets/controls",
          "model_name": "DescriptionStyleModel",
          "model_module_version": "1.5.0",
          "state": {
            "_model_module": "@jupyter-widgets/controls",
            "_model_module_version": "1.5.0",
            "_model_name": "DescriptionStyleModel",
            "_view_count": null,
            "_view_module": "@jupyter-widgets/base",
            "_view_module_version": "1.2.0",
            "_view_name": "StyleView",
            "description_width": ""
          }
        },
        "0dc59855190b4e85bbd3578be9943386": {
          "model_module": "@jupyter-widgets/base",
          "model_name": "LayoutModel",
          "model_module_version": "1.2.0",
          "state": {
            "_model_module": "@jupyter-widgets/base",
            "_model_module_version": "1.2.0",
            "_model_name": "LayoutModel",
            "_view_count": null,
            "_view_module": "@jupyter-widgets/base",
            "_view_module_version": "1.2.0",
            "_view_name": "LayoutView",
            "align_content": null,
            "align_items": null,
            "align_self": null,
            "border": null,
            "bottom": null,
            "display": null,
            "flex": null,
            "flex_flow": null,
            "grid_area": null,
            "grid_auto_columns": null,
            "grid_auto_flow": null,
            "grid_auto_rows": null,
            "grid_column": null,
            "grid_gap": null,
            "grid_row": null,
            "grid_template_areas": null,
            "grid_template_columns": null,
            "grid_template_rows": null,
            "height": null,
            "justify_content": null,
            "justify_items": null,
            "left": null,
            "margin": null,
            "max_height": null,
            "max_width": null,
            "min_height": null,
            "min_width": null,
            "object_fit": null,
            "object_position": null,
            "order": null,
            "overflow": null,
            "overflow_x": null,
            "overflow_y": null,
            "padding": null,
            "right": null,
            "top": null,
            "visibility": null,
            "width": null
          }
        },
        "b1f29d75f6af4ed88aaf05911b61d1a8": {
          "model_module": "@jupyter-widgets/controls",
          "model_name": "ProgressStyleModel",
          "model_module_version": "1.5.0",
          "state": {
            "_model_module": "@jupyter-widgets/controls",
            "_model_module_version": "1.5.0",
            "_model_name": "ProgressStyleModel",
            "_view_count": null,
            "_view_module": "@jupyter-widgets/base",
            "_view_module_version": "1.2.0",
            "_view_name": "StyleView",
            "bar_color": null,
            "description_width": ""
          }
        },
        "9b5df249ab0141c4989170ba82fbfead": {
          "model_module": "@jupyter-widgets/base",
          "model_name": "LayoutModel",
          "model_module_version": "1.2.0",
          "state": {
            "_model_module": "@jupyter-widgets/base",
            "_model_module_version": "1.2.0",
            "_model_name": "LayoutModel",
            "_view_count": null,
            "_view_module": "@jupyter-widgets/base",
            "_view_module_version": "1.2.0",
            "_view_name": "LayoutView",
            "align_content": null,
            "align_items": null,
            "align_self": null,
            "border": null,
            "bottom": null,
            "display": null,
            "flex": null,
            "flex_flow": null,
            "grid_area": null,
            "grid_auto_columns": null,
            "grid_auto_flow": null,
            "grid_auto_rows": null,
            "grid_column": null,
            "grid_gap": null,
            "grid_row": null,
            "grid_template_areas": null,
            "grid_template_columns": null,
            "grid_template_rows": null,
            "height": null,
            "justify_content": null,
            "justify_items": null,
            "left": null,
            "margin": null,
            "max_height": null,
            "max_width": null,
            "min_height": null,
            "min_width": null,
            "object_fit": null,
            "object_position": null,
            "order": null,
            "overflow": null,
            "overflow_x": null,
            "overflow_y": null,
            "padding": null,
            "right": null,
            "top": null,
            "visibility": null,
            "width": null
          }
        },
        "3a7367733f89471094a5b3d5842a7652": {
          "model_module": "@jupyter-widgets/controls",
          "model_name": "DescriptionStyleModel",
          "model_module_version": "1.5.0",
          "state": {
            "_model_module": "@jupyter-widgets/controls",
            "_model_module_version": "1.5.0",
            "_model_name": "DescriptionStyleModel",
            "_view_count": null,
            "_view_module": "@jupyter-widgets/base",
            "_view_module_version": "1.2.0",
            "_view_name": "StyleView",
            "description_width": ""
          }
        },
        "94815fa75eed404ab7a1fa1b2a7debfa": {
          "model_module": "@jupyter-widgets/controls",
          "model_name": "HBoxModel",
          "model_module_version": "1.5.0",
          "state": {
            "_dom_classes": [],
            "_model_module": "@jupyter-widgets/controls",
            "_model_module_version": "1.5.0",
            "_model_name": "HBoxModel",
            "_view_count": null,
            "_view_module": "@jupyter-widgets/controls",
            "_view_module_version": "1.5.0",
            "_view_name": "HBoxView",
            "box_style": "",
            "children": [
              "IPY_MODEL_c43cb6b04fdf4a5f9af539daa01495a8",
              "IPY_MODEL_6090f1275f5e4b5fbfb0ce0c9da6338b",
              "IPY_MODEL_096a495c8b6b4670b9c4ac8f0cac48f8"
            ],
            "layout": "IPY_MODEL_3517f4814ac34288868b8566032dee58"
          }
        },
        "c43cb6b04fdf4a5f9af539daa01495a8": {
          "model_module": "@jupyter-widgets/controls",
          "model_name": "HTMLModel",
          "model_module_version": "1.5.0",
          "state": {
            "_dom_classes": [],
            "_model_module": "@jupyter-widgets/controls",
            "_model_module_version": "1.5.0",
            "_model_name": "HTMLModel",
            "_view_count": null,
            "_view_module": "@jupyter-widgets/controls",
            "_view_module_version": "1.5.0",
            "_view_name": "HTMLView",
            "description": "",
            "description_tooltip": null,
            "layout": "IPY_MODEL_9a58213410c14adcb8deb52a2608992b",
            "placeholder": "​",
            "style": "IPY_MODEL_284b5bfa60cb4924be1f87091aaad6a7",
            "value": "Downloading extra modules: "
          }
        },
        "6090f1275f5e4b5fbfb0ce0c9da6338b": {
          "model_module": "@jupyter-widgets/controls",
          "model_name": "FloatProgressModel",
          "model_module_version": "1.5.0",
          "state": {
            "_dom_classes": [],
            "_model_module": "@jupyter-widgets/controls",
            "_model_module_version": "1.5.0",
            "_model_name": "FloatProgressModel",
            "_view_count": null,
            "_view_module": "@jupyter-widgets/controls",
            "_view_module_version": "1.5.0",
            "_view_name": "ProgressView",
            "bar_style": "success",
            "description": "",
            "description_tooltip": null,
            "layout": "IPY_MODEL_9a40e75919e54baf9150f195bcc3fd74",
            "max": 1554,
            "min": 0,
            "orientation": "horizontal",
            "style": "IPY_MODEL_bfda682a62af4fcb869579302dbd0740",
            "value": 1554
          }
        },
        "096a495c8b6b4670b9c4ac8f0cac48f8": {
          "model_module": "@jupyter-widgets/controls",
          "model_name": "HTMLModel",
          "model_module_version": "1.5.0",
          "state": {
            "_dom_classes": [],
            "_model_module": "@jupyter-widgets/controls",
            "_model_module_version": "1.5.0",
            "_model_name": "HTMLModel",
            "_view_count": null,
            "_view_module": "@jupyter-widgets/controls",
            "_view_module_version": "1.5.0",
            "_view_name": "HTMLView",
            "description": "",
            "description_tooltip": null,
            "layout": "IPY_MODEL_b88d3048d72546f9b47a159273fbc42e",
            "placeholder": "​",
            "style": "IPY_MODEL_b8661a1e4de84123abcc8bbcebe1b396",
            "value": " 4.07k/? [00:00&lt;00:00, 279kB/s]"
          }
        },
        "3517f4814ac34288868b8566032dee58": {
          "model_module": "@jupyter-widgets/base",
          "model_name": "LayoutModel",
          "model_module_version": "1.2.0",
          "state": {
            "_model_module": "@jupyter-widgets/base",
            "_model_module_version": "1.2.0",
            "_model_name": "LayoutModel",
            "_view_count": null,
            "_view_module": "@jupyter-widgets/base",
            "_view_module_version": "1.2.0",
            "_view_name": "LayoutView",
            "align_content": null,
            "align_items": null,
            "align_self": null,
            "border": null,
            "bottom": null,
            "display": null,
            "flex": null,
            "flex_flow": null,
            "grid_area": null,
            "grid_auto_columns": null,
            "grid_auto_flow": null,
            "grid_auto_rows": null,
            "grid_column": null,
            "grid_gap": null,
            "grid_row": null,
            "grid_template_areas": null,
            "grid_template_columns": null,
            "grid_template_rows": null,
            "height": null,
            "justify_content": null,
            "justify_items": null,
            "left": null,
            "margin": null,
            "max_height": null,
            "max_width": null,
            "min_height": null,
            "min_width": null,
            "object_fit": null,
            "object_position": null,
            "order": null,
            "overflow": null,
            "overflow_x": null,
            "overflow_y": null,
            "padding": null,
            "right": null,
            "top": null,
            "visibility": null,
            "width": null
          }
        },
        "9a58213410c14adcb8deb52a2608992b": {
          "model_module": "@jupyter-widgets/base",
          "model_name": "LayoutModel",
          "model_module_version": "1.2.0",
          "state": {
            "_model_module": "@jupyter-widgets/base",
            "_model_module_version": "1.2.0",
            "_model_name": "LayoutModel",
            "_view_count": null,
            "_view_module": "@jupyter-widgets/base",
            "_view_module_version": "1.2.0",
            "_view_name": "LayoutView",
            "align_content": null,
            "align_items": null,
            "align_self": null,
            "border": null,
            "bottom": null,
            "display": null,
            "flex": null,
            "flex_flow": null,
            "grid_area": null,
            "grid_auto_columns": null,
            "grid_auto_flow": null,
            "grid_auto_rows": null,
            "grid_column": null,
            "grid_gap": null,
            "grid_row": null,
            "grid_template_areas": null,
            "grid_template_columns": null,
            "grid_template_rows": null,
            "height": null,
            "justify_content": null,
            "justify_items": null,
            "left": null,
            "margin": null,
            "max_height": null,
            "max_width": null,
            "min_height": null,
            "min_width": null,
            "object_fit": null,
            "object_position": null,
            "order": null,
            "overflow": null,
            "overflow_x": null,
            "overflow_y": null,
            "padding": null,
            "right": null,
            "top": null,
            "visibility": null,
            "width": null
          }
        },
        "284b5bfa60cb4924be1f87091aaad6a7": {
          "model_module": "@jupyter-widgets/controls",
          "model_name": "DescriptionStyleModel",
          "model_module_version": "1.5.0",
          "state": {
            "_model_module": "@jupyter-widgets/controls",
            "_model_module_version": "1.5.0",
            "_model_name": "DescriptionStyleModel",
            "_view_count": null,
            "_view_module": "@jupyter-widgets/base",
            "_view_module_version": "1.2.0",
            "_view_name": "StyleView",
            "description_width": ""
          }
        },
        "9a40e75919e54baf9150f195bcc3fd74": {
          "model_module": "@jupyter-widgets/base",
          "model_name": "LayoutModel",
          "model_module_version": "1.2.0",
          "state": {
            "_model_module": "@jupyter-widgets/base",
            "_model_module_version": "1.2.0",
            "_model_name": "LayoutModel",
            "_view_count": null,
            "_view_module": "@jupyter-widgets/base",
            "_view_module_version": "1.2.0",
            "_view_name": "LayoutView",
            "align_content": null,
            "align_items": null,
            "align_self": null,
            "border": null,
            "bottom": null,
            "display": null,
            "flex": null,
            "flex_flow": null,
            "grid_area": null,
            "grid_auto_columns": null,
            "grid_auto_flow": null,
            "grid_auto_rows": null,
            "grid_column": null,
            "grid_gap": null,
            "grid_row": null,
            "grid_template_areas": null,
            "grid_template_columns": null,
            "grid_template_rows": null,
            "height": null,
            "justify_content": null,
            "justify_items": null,
            "left": null,
            "margin": null,
            "max_height": null,
            "max_width": null,
            "min_height": null,
            "min_width": null,
            "object_fit": null,
            "object_position": null,
            "order": null,
            "overflow": null,
            "overflow_x": null,
            "overflow_y": null,
            "padding": null,
            "right": null,
            "top": null,
            "visibility": null,
            "width": null
          }
        },
        "bfda682a62af4fcb869579302dbd0740": {
          "model_module": "@jupyter-widgets/controls",
          "model_name": "ProgressStyleModel",
          "model_module_version": "1.5.0",
          "state": {
            "_model_module": "@jupyter-widgets/controls",
            "_model_module_version": "1.5.0",
            "_model_name": "ProgressStyleModel",
            "_view_count": null,
            "_view_module": "@jupyter-widgets/base",
            "_view_module_version": "1.2.0",
            "_view_name": "StyleView",
            "bar_color": null,
            "description_width": ""
          }
        },
        "b88d3048d72546f9b47a159273fbc42e": {
          "model_module": "@jupyter-widgets/base",
          "model_name": "LayoutModel",
          "model_module_version": "1.2.0",
          "state": {
            "_model_module": "@jupyter-widgets/base",
            "_model_module_version": "1.2.0",
            "_model_name": "LayoutModel",
            "_view_count": null,
            "_view_module": "@jupyter-widgets/base",
            "_view_module_version": "1.2.0",
            "_view_name": "LayoutView",
            "align_content": null,
            "align_items": null,
            "align_self": null,
            "border": null,
            "bottom": null,
            "display": null,
            "flex": null,
            "flex_flow": null,
            "grid_area": null,
            "grid_auto_columns": null,
            "grid_auto_flow": null,
            "grid_auto_rows": null,
            "grid_column": null,
            "grid_gap": null,
            "grid_row": null,
            "grid_template_areas": null,
            "grid_template_columns": null,
            "grid_template_rows": null,
            "height": null,
            "justify_content": null,
            "justify_items": null,
            "left": null,
            "margin": null,
            "max_height": null,
            "max_width": null,
            "min_height": null,
            "min_width": null,
            "object_fit": null,
            "object_position": null,
            "order": null,
            "overflow": null,
            "overflow_x": null,
            "overflow_y": null,
            "padding": null,
            "right": null,
            "top": null,
            "visibility": null,
            "width": null
          }
        },
        "b8661a1e4de84123abcc8bbcebe1b396": {
          "model_module": "@jupyter-widgets/controls",
          "model_name": "DescriptionStyleModel",
          "model_module_version": "1.5.0",
          "state": {
            "_model_module": "@jupyter-widgets/controls",
            "_model_module_version": "1.5.0",
            "_model_name": "DescriptionStyleModel",
            "_view_count": null,
            "_view_module": "@jupyter-widgets/base",
            "_view_module_version": "1.2.0",
            "_view_name": "StyleView",
            "description_width": ""
          }
        },
        "d8c0bf16766549cc8d419f0738e10bf3": {
          "model_module": "@jupyter-widgets/controls",
          "model_name": "HBoxModel",
          "model_module_version": "1.5.0",
          "state": {
            "_dom_classes": [],
            "_model_module": "@jupyter-widgets/controls",
            "_model_module_version": "1.5.0",
            "_model_name": "HBoxModel",
            "_view_count": null,
            "_view_module": "@jupyter-widgets/controls",
            "_view_module_version": "1.5.0",
            "_view_name": "HBoxView",
            "box_style": "",
            "children": [
              "IPY_MODEL_6db137cfca5f4bc8826cdb9195f2379a",
              "IPY_MODEL_40df41969c2c4d01af21d31309046df3",
              "IPY_MODEL_d6c219f8b1194e38b1ac971c44107da2"
            ],
            "layout": "IPY_MODEL_326a8dd1f64b4b8d882c07512c35834a"
          }
        },
        "6db137cfca5f4bc8826cdb9195f2379a": {
          "model_module": "@jupyter-widgets/controls",
          "model_name": "HTMLModel",
          "model_module_version": "1.5.0",
          "state": {
            "_dom_classes": [],
            "_model_module": "@jupyter-widgets/controls",
            "_model_module_version": "1.5.0",
            "_model_name": "HTMLModel",
            "_view_count": null,
            "_view_module": "@jupyter-widgets/controls",
            "_view_module_version": "1.5.0",
            "_view_name": "HTMLView",
            "description": "",
            "description_tooltip": null,
            "layout": "IPY_MODEL_7dd6ef6c622c4f89ab35cc77bfb9eac9",
            "placeholder": "​",
            "style": "IPY_MODEL_460806ee86f14323893cc1e63bface11",
            "value": "Downloading builder script: "
          }
        },
        "40df41969c2c4d01af21d31309046df3": {
          "model_module": "@jupyter-widgets/controls",
          "model_name": "FloatProgressModel",
          "model_module_version": "1.5.0",
          "state": {
            "_dom_classes": [],
            "_model_module": "@jupyter-widgets/controls",
            "_model_module_version": "1.5.0",
            "_model_name": "FloatProgressModel",
            "_view_count": null,
            "_view_module": "@jupyter-widgets/controls",
            "_view_module_version": "1.5.0",
            "_view_name": "ProgressView",
            "bar_style": "success",
            "description": "",
            "description_tooltip": null,
            "layout": "IPY_MODEL_f64db9ac2ce947429b9abaf6e4044163",
            "max": 2199,
            "min": 0,
            "orientation": "horizontal",
            "style": "IPY_MODEL_fbac30a8474a48a9b825c7307ca8452e",
            "value": 2199
          }
        },
        "d6c219f8b1194e38b1ac971c44107da2": {
          "model_module": "@jupyter-widgets/controls",
          "model_name": "HTMLModel",
          "model_module_version": "1.5.0",
          "state": {
            "_dom_classes": [],
            "_model_module": "@jupyter-widgets/controls",
            "_model_module_version": "1.5.0",
            "_model_name": "HTMLModel",
            "_view_count": null,
            "_view_module": "@jupyter-widgets/controls",
            "_view_module_version": "1.5.0",
            "_view_name": "HTMLView",
            "description": "",
            "description_tooltip": null,
            "layout": "IPY_MODEL_09741190a4c247d09fae331e8fe7b846",
            "placeholder": "​",
            "style": "IPY_MODEL_5e5244b895a94e9a8a001aa84c8d2064",
            "value": " 5.34k/? [00:00&lt;00:00, 390kB/s]"
          }
        },
        "326a8dd1f64b4b8d882c07512c35834a": {
          "model_module": "@jupyter-widgets/base",
          "model_name": "LayoutModel",
          "model_module_version": "1.2.0",
          "state": {
            "_model_module": "@jupyter-widgets/base",
            "_model_module_version": "1.2.0",
            "_model_name": "LayoutModel",
            "_view_count": null,
            "_view_module": "@jupyter-widgets/base",
            "_view_module_version": "1.2.0",
            "_view_name": "LayoutView",
            "align_content": null,
            "align_items": null,
            "align_self": null,
            "border": null,
            "bottom": null,
            "display": null,
            "flex": null,
            "flex_flow": null,
            "grid_area": null,
            "grid_auto_columns": null,
            "grid_auto_flow": null,
            "grid_auto_rows": null,
            "grid_column": null,
            "grid_gap": null,
            "grid_row": null,
            "grid_template_areas": null,
            "grid_template_columns": null,
            "grid_template_rows": null,
            "height": null,
            "justify_content": null,
            "justify_items": null,
            "left": null,
            "margin": null,
            "max_height": null,
            "max_width": null,
            "min_height": null,
            "min_width": null,
            "object_fit": null,
            "object_position": null,
            "order": null,
            "overflow": null,
            "overflow_x": null,
            "overflow_y": null,
            "padding": null,
            "right": null,
            "top": null,
            "visibility": null,
            "width": null
          }
        },
        "7dd6ef6c622c4f89ab35cc77bfb9eac9": {
          "model_module": "@jupyter-widgets/base",
          "model_name": "LayoutModel",
          "model_module_version": "1.2.0",
          "state": {
            "_model_module": "@jupyter-widgets/base",
            "_model_module_version": "1.2.0",
            "_model_name": "LayoutModel",
            "_view_count": null,
            "_view_module": "@jupyter-widgets/base",
            "_view_module_version": "1.2.0",
            "_view_name": "LayoutView",
            "align_content": null,
            "align_items": null,
            "align_self": null,
            "border": null,
            "bottom": null,
            "display": null,
            "flex": null,
            "flex_flow": null,
            "grid_area": null,
            "grid_auto_columns": null,
            "grid_auto_flow": null,
            "grid_auto_rows": null,
            "grid_column": null,
            "grid_gap": null,
            "grid_row": null,
            "grid_template_areas": null,
            "grid_template_columns": null,
            "grid_template_rows": null,
            "height": null,
            "justify_content": null,
            "justify_items": null,
            "left": null,
            "margin": null,
            "max_height": null,
            "max_width": null,
            "min_height": null,
            "min_width": null,
            "object_fit": null,
            "object_position": null,
            "order": null,
            "overflow": null,
            "overflow_x": null,
            "overflow_y": null,
            "padding": null,
            "right": null,
            "top": null,
            "visibility": null,
            "width": null
          }
        },
        "460806ee86f14323893cc1e63bface11": {
          "model_module": "@jupyter-widgets/controls",
          "model_name": "DescriptionStyleModel",
          "model_module_version": "1.5.0",
          "state": {
            "_model_module": "@jupyter-widgets/controls",
            "_model_module_version": "1.5.0",
            "_model_name": "DescriptionStyleModel",
            "_view_count": null,
            "_view_module": "@jupyter-widgets/base",
            "_view_module_version": "1.2.0",
            "_view_name": "StyleView",
            "description_width": ""
          }
        },
        "f64db9ac2ce947429b9abaf6e4044163": {
          "model_module": "@jupyter-widgets/base",
          "model_name": "LayoutModel",
          "model_module_version": "1.2.0",
          "state": {
            "_model_module": "@jupyter-widgets/base",
            "_model_module_version": "1.2.0",
            "_model_name": "LayoutModel",
            "_view_count": null,
            "_view_module": "@jupyter-widgets/base",
            "_view_module_version": "1.2.0",
            "_view_name": "LayoutView",
            "align_content": null,
            "align_items": null,
            "align_self": null,
            "border": null,
            "bottom": null,
            "display": null,
            "flex": null,
            "flex_flow": null,
            "grid_area": null,
            "grid_auto_columns": null,
            "grid_auto_flow": null,
            "grid_auto_rows": null,
            "grid_column": null,
            "grid_gap": null,
            "grid_row": null,
            "grid_template_areas": null,
            "grid_template_columns": null,
            "grid_template_rows": null,
            "height": null,
            "justify_content": null,
            "justify_items": null,
            "left": null,
            "margin": null,
            "max_height": null,
            "max_width": null,
            "min_height": null,
            "min_width": null,
            "object_fit": null,
            "object_position": null,
            "order": null,
            "overflow": null,
            "overflow_x": null,
            "overflow_y": null,
            "padding": null,
            "right": null,
            "top": null,
            "visibility": null,
            "width": null
          }
        },
        "fbac30a8474a48a9b825c7307ca8452e": {
          "model_module": "@jupyter-widgets/controls",
          "model_name": "ProgressStyleModel",
          "model_module_version": "1.5.0",
          "state": {
            "_model_module": "@jupyter-widgets/controls",
            "_model_module_version": "1.5.0",
            "_model_name": "ProgressStyleModel",
            "_view_count": null,
            "_view_module": "@jupyter-widgets/base",
            "_view_module_version": "1.2.0",
            "_view_name": "StyleView",
            "bar_color": null,
            "description_width": ""
          }
        },
        "09741190a4c247d09fae331e8fe7b846": {
          "model_module": "@jupyter-widgets/base",
          "model_name": "LayoutModel",
          "model_module_version": "1.2.0",
          "state": {
            "_model_module": "@jupyter-widgets/base",
            "_model_module_version": "1.2.0",
            "_model_name": "LayoutModel",
            "_view_count": null,
            "_view_module": "@jupyter-widgets/base",
            "_view_module_version": "1.2.0",
            "_view_name": "LayoutView",
            "align_content": null,
            "align_items": null,
            "align_self": null,
            "border": null,
            "bottom": null,
            "display": null,
            "flex": null,
            "flex_flow": null,
            "grid_area": null,
            "grid_auto_columns": null,
            "grid_auto_flow": null,
            "grid_auto_rows": null,
            "grid_column": null,
            "grid_gap": null,
            "grid_row": null,
            "grid_template_areas": null,
            "grid_template_columns": null,
            "grid_template_rows": null,
            "height": null,
            "justify_content": null,
            "justify_items": null,
            "left": null,
            "margin": null,
            "max_height": null,
            "max_width": null,
            "min_height": null,
            "min_width": null,
            "object_fit": null,
            "object_position": null,
            "order": null,
            "overflow": null,
            "overflow_x": null,
            "overflow_y": null,
            "padding": null,
            "right": null,
            "top": null,
            "visibility": null,
            "width": null
          }
        },
        "5e5244b895a94e9a8a001aa84c8d2064": {
          "model_module": "@jupyter-widgets/controls",
          "model_name": "DescriptionStyleModel",
          "model_module_version": "1.5.0",
          "state": {
            "_model_module": "@jupyter-widgets/controls",
            "_model_module_version": "1.5.0",
            "_model_name": "DescriptionStyleModel",
            "_view_count": null,
            "_view_module": "@jupyter-widgets/base",
            "_view_module_version": "1.2.0",
            "_view_name": "StyleView",
            "description_width": ""
          }
        },
        "62bce6ec1df24a81aa467be696245a62": {
          "model_module": "@jupyter-widgets/controls",
          "model_name": "HBoxModel",
          "model_module_version": "1.5.0",
          "state": {
            "_dom_classes": [],
            "_model_module": "@jupyter-widgets/controls",
            "_model_module_version": "1.5.0",
            "_model_name": "HBoxModel",
            "_view_count": null,
            "_view_module": "@jupyter-widgets/controls",
            "_view_module_version": "1.5.0",
            "_view_name": "HBoxView",
            "box_style": "",
            "children": [
              "IPY_MODEL_e7ddb8d125f64bf9bcffa96a875c540b",
              "IPY_MODEL_0e11ba5937fc480296443d600b5c87a0",
              "IPY_MODEL_023c5f538114499ba7c08418343f2bc2"
            ],
            "layout": "IPY_MODEL_28401b5c3d8445b2b83576393eb87780"
          }
        },
        "e7ddb8d125f64bf9bcffa96a875c540b": {
          "model_module": "@jupyter-widgets/controls",
          "model_name": "HTMLModel",
          "model_module_version": "1.5.0",
          "state": {
            "_dom_classes": [],
            "_model_module": "@jupyter-widgets/controls",
            "_model_module_version": "1.5.0",
            "_model_name": "HTMLModel",
            "_view_count": null,
            "_view_module": "@jupyter-widgets/controls",
            "_view_module_version": "1.5.0",
            "_view_name": "HTMLView",
            "description": "",
            "description_tooltip": null,
            "layout": "IPY_MODEL_ec835607a9564ee8a5f06c25131239fa",
            "placeholder": "​",
            "style": "IPY_MODEL_4563046f57ac4258a497dd39616849f7",
            "value": "Downloading builder script: "
          }
        },
        "0e11ba5937fc480296443d600b5c87a0": {
          "model_module": "@jupyter-widgets/controls",
          "model_name": "FloatProgressModel",
          "model_module_version": "1.5.0",
          "state": {
            "_dom_classes": [],
            "_model_module": "@jupyter-widgets/controls",
            "_model_module_version": "1.5.0",
            "_model_name": "FloatProgressModel",
            "_view_count": null,
            "_view_module": "@jupyter-widgets/controls",
            "_view_module_version": "1.5.0",
            "_view_name": "ProgressView",
            "bar_style": "success",
            "description": "",
            "description_tooltip": null,
            "layout": "IPY_MODEL_3fc28cc791274c15a5f7e3d5bd2ee7f3",
            "max": 2923,
            "min": 0,
            "orientation": "horizontal",
            "style": "IPY_MODEL_0dc8f149362942f9beea2644911cb593",
            "value": 2923
          }
        },
        "023c5f538114499ba7c08418343f2bc2": {
          "model_module": "@jupyter-widgets/controls",
          "model_name": "HTMLModel",
          "model_module_version": "1.5.0",
          "state": {
            "_dom_classes": [],
            "_model_module": "@jupyter-widgets/controls",
            "_model_module_version": "1.5.0",
            "_model_name": "HTMLModel",
            "_view_count": null,
            "_view_module": "@jupyter-widgets/controls",
            "_view_module_version": "1.5.0",
            "_view_name": "HTMLView",
            "description": "",
            "description_tooltip": null,
            "layout": "IPY_MODEL_be0b9cfc8cc146a9802ab794a3c940e3",
            "placeholder": "​",
            "style": "IPY_MODEL_69f50c31dea44072a9814811df4532d1",
            "value": " 8.10k/? [00:00&lt;00:00, 614kB/s]"
          }
        },
        "28401b5c3d8445b2b83576393eb87780": {
          "model_module": "@jupyter-widgets/base",
          "model_name": "LayoutModel",
          "model_module_version": "1.2.0",
          "state": {
            "_model_module": "@jupyter-widgets/base",
            "_model_module_version": "1.2.0",
            "_model_name": "LayoutModel",
            "_view_count": null,
            "_view_module": "@jupyter-widgets/base",
            "_view_module_version": "1.2.0",
            "_view_name": "LayoutView",
            "align_content": null,
            "align_items": null,
            "align_self": null,
            "border": null,
            "bottom": null,
            "display": null,
            "flex": null,
            "flex_flow": null,
            "grid_area": null,
            "grid_auto_columns": null,
            "grid_auto_flow": null,
            "grid_auto_rows": null,
            "grid_column": null,
            "grid_gap": null,
            "grid_row": null,
            "grid_template_areas": null,
            "grid_template_columns": null,
            "grid_template_rows": null,
            "height": null,
            "justify_content": null,
            "justify_items": null,
            "left": null,
            "margin": null,
            "max_height": null,
            "max_width": null,
            "min_height": null,
            "min_width": null,
            "object_fit": null,
            "object_position": null,
            "order": null,
            "overflow": null,
            "overflow_x": null,
            "overflow_y": null,
            "padding": null,
            "right": null,
            "top": null,
            "visibility": null,
            "width": null
          }
        },
        "ec835607a9564ee8a5f06c25131239fa": {
          "model_module": "@jupyter-widgets/base",
          "model_name": "LayoutModel",
          "model_module_version": "1.2.0",
          "state": {
            "_model_module": "@jupyter-widgets/base",
            "_model_module_version": "1.2.0",
            "_model_name": "LayoutModel",
            "_view_count": null,
            "_view_module": "@jupyter-widgets/base",
            "_view_module_version": "1.2.0",
            "_view_name": "LayoutView",
            "align_content": null,
            "align_items": null,
            "align_self": null,
            "border": null,
            "bottom": null,
            "display": null,
            "flex": null,
            "flex_flow": null,
            "grid_area": null,
            "grid_auto_columns": null,
            "grid_auto_flow": null,
            "grid_auto_rows": null,
            "grid_column": null,
            "grid_gap": null,
            "grid_row": null,
            "grid_template_areas": null,
            "grid_template_columns": null,
            "grid_template_rows": null,
            "height": null,
            "justify_content": null,
            "justify_items": null,
            "left": null,
            "margin": null,
            "max_height": null,
            "max_width": null,
            "min_height": null,
            "min_width": null,
            "object_fit": null,
            "object_position": null,
            "order": null,
            "overflow": null,
            "overflow_x": null,
            "overflow_y": null,
            "padding": null,
            "right": null,
            "top": null,
            "visibility": null,
            "width": null
          }
        },
        "4563046f57ac4258a497dd39616849f7": {
          "model_module": "@jupyter-widgets/controls",
          "model_name": "DescriptionStyleModel",
          "model_module_version": "1.5.0",
          "state": {
            "_model_module": "@jupyter-widgets/controls",
            "_model_module_version": "1.5.0",
            "_model_name": "DescriptionStyleModel",
            "_view_count": null,
            "_view_module": "@jupyter-widgets/base",
            "_view_module_version": "1.2.0",
            "_view_name": "StyleView",
            "description_width": ""
          }
        },
        "3fc28cc791274c15a5f7e3d5bd2ee7f3": {
          "model_module": "@jupyter-widgets/base",
          "model_name": "LayoutModel",
          "model_module_version": "1.2.0",
          "state": {
            "_model_module": "@jupyter-widgets/base",
            "_model_module_version": "1.2.0",
            "_model_name": "LayoutModel",
            "_view_count": null,
            "_view_module": "@jupyter-widgets/base",
            "_view_module_version": "1.2.0",
            "_view_name": "LayoutView",
            "align_content": null,
            "align_items": null,
            "align_self": null,
            "border": null,
            "bottom": null,
            "display": null,
            "flex": null,
            "flex_flow": null,
            "grid_area": null,
            "grid_auto_columns": null,
            "grid_auto_flow": null,
            "grid_auto_rows": null,
            "grid_column": null,
            "grid_gap": null,
            "grid_row": null,
            "grid_template_areas": null,
            "grid_template_columns": null,
            "grid_template_rows": null,
            "height": null,
            "justify_content": null,
            "justify_items": null,
            "left": null,
            "margin": null,
            "max_height": null,
            "max_width": null,
            "min_height": null,
            "min_width": null,
            "object_fit": null,
            "object_position": null,
            "order": null,
            "overflow": null,
            "overflow_x": null,
            "overflow_y": null,
            "padding": null,
            "right": null,
            "top": null,
            "visibility": null,
            "width": null
          }
        },
        "0dc8f149362942f9beea2644911cb593": {
          "model_module": "@jupyter-widgets/controls",
          "model_name": "ProgressStyleModel",
          "model_module_version": "1.5.0",
          "state": {
            "_model_module": "@jupyter-widgets/controls",
            "_model_module_version": "1.5.0",
            "_model_name": "ProgressStyleModel",
            "_view_count": null,
            "_view_module": "@jupyter-widgets/base",
            "_view_module_version": "1.2.0",
            "_view_name": "StyleView",
            "bar_color": null,
            "description_width": ""
          }
        },
        "be0b9cfc8cc146a9802ab794a3c940e3": {
          "model_module": "@jupyter-widgets/base",
          "model_name": "LayoutModel",
          "model_module_version": "1.2.0",
          "state": {
            "_model_module": "@jupyter-widgets/base",
            "_model_module_version": "1.2.0",
            "_model_name": "LayoutModel",
            "_view_count": null,
            "_view_module": "@jupyter-widgets/base",
            "_view_module_version": "1.2.0",
            "_view_name": "LayoutView",
            "align_content": null,
            "align_items": null,
            "align_self": null,
            "border": null,
            "bottom": null,
            "display": null,
            "flex": null,
            "flex_flow": null,
            "grid_area": null,
            "grid_auto_columns": null,
            "grid_auto_flow": null,
            "grid_auto_rows": null,
            "grid_column": null,
            "grid_gap": null,
            "grid_row": null,
            "grid_template_areas": null,
            "grid_template_columns": null,
            "grid_template_rows": null,
            "height": null,
            "justify_content": null,
            "justify_items": null,
            "left": null,
            "margin": null,
            "max_height": null,
            "max_width": null,
            "min_height": null,
            "min_width": null,
            "object_fit": null,
            "object_position": null,
            "order": null,
            "overflow": null,
            "overflow_x": null,
            "overflow_y": null,
            "padding": null,
            "right": null,
            "top": null,
            "visibility": null,
            "width": null
          }
        },
        "69f50c31dea44072a9814811df4532d1": {
          "model_module": "@jupyter-widgets/controls",
          "model_name": "DescriptionStyleModel",
          "model_module_version": "1.5.0",
          "state": {
            "_model_module": "@jupyter-widgets/controls",
            "_model_module_version": "1.5.0",
            "_model_name": "DescriptionStyleModel",
            "_view_count": null,
            "_view_module": "@jupyter-widgets/base",
            "_view_module_version": "1.2.0",
            "_view_name": "StyleView",
            "description_width": ""
          }
        }
      }
    }
  },
  "nbformat": 4,
  "nbformat_minor": 0
}