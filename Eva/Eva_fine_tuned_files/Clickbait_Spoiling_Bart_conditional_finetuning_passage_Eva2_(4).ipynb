{
  "cells": [
    {
      "cell_type": "code",
      "execution_count": 1,
      "metadata": {
        "id": "Ho88Li_Rndor"
      },
      "outputs": [],
      "source": [
        "import pandas as pd\n",
        "import numpy as np \n",
        "import warnings\n",
        "warnings.filterwarnings('ignore')\n",
        "import json\n"
      ]
    },
    {
      "cell_type": "code",
      "execution_count": 2,
      "metadata": {
        "id": "AI2bq8WFwILu"
      },
      "outputs": [],
      "source": [
        "import io\n",
        "# import pandas as pd\n",
        "# from google.colab import files\n",
        "from collections import OrderedDict\n",
        "import inspect as inspector\n",
        "import sys\n",
        "import argparse\n",
        "# import json\n",
        "import time\n",
        "import random\n",
        "import hashlib"
      ]
    },
    {
      "cell_type": "code",
      "execution_count": 3,
      "metadata": {
        "id": "9WU9uUYpwlKH",
        "colab": {
          "base_uri": "https://localhost:8080/"
        },
        "outputId": "8df0b3dc-d60a-4380-cf82-83b9aaec8a4a"
      },
      "outputs": [
        {
          "output_type": "stream",
          "name": "stdout",
          "text": [
            "\u001b[?25l     \u001b[90m━━━━━━━━━━━━━━━━━━━━━━━━━━━━━━━━━━━━━━━━\u001b[0m \u001b[32m0.0/6.0 MB\u001b[0m \u001b[31m?\u001b[0m eta \u001b[36m-:--:--\u001b[0m\r\u001b[2K     \u001b[91m━━━━━━━━━━━━━━━━━━━━━━━━━━━━━━━━━━━━━━━\u001b[0m\u001b[91m╸\u001b[0m \u001b[32m6.0/6.0 MB\u001b[0m \u001b[31m216.3 MB/s\u001b[0m eta \u001b[36m0:00:01\u001b[0m\r\u001b[2K     \u001b[90m━━━━━━━━━━━━━━━━━━━━━━━━━━━━━━━━━━━━━━━━\u001b[0m \u001b[32m6.0/6.0 MB\u001b[0m \u001b[31m105.6 MB/s\u001b[0m eta \u001b[36m0:00:00\u001b[0m\n",
            "\u001b[?25h"
          ]
        }
      ],
      "source": [
        "!pip install -q \"tensorflow-text\"\n",
        "\n",
        "import requests\n",
        "import tensorflow as tf\n",
        "import tensorflow_text as tf_text"
      ]
    },
    {
      "cell_type": "code",
      "execution_count": 4,
      "metadata": {
        "colab": {
          "base_uri": "https://localhost:8080/"
        },
        "id": "T9fFC6QZwo1h",
        "outputId": "8d4c518c-1d81-4644-b881-38bad60a60e8"
      },
      "outputs": [
        {
          "output_type": "stream",
          "name": "stdout",
          "text": [
            "Looking in indexes: https://pypi.org/simple, https://us-python.pkg.dev/colab-wheels/public/simple/\n",
            "Requirement already satisfied: tqdm in /usr/local/lib/python3.10/dist-packages (4.65.0)\n",
            "Collecting boto3\n",
            "  Downloading boto3-1.26.133-py3-none-any.whl (135 kB)\n",
            "\u001b[2K     \u001b[90m━━━━━━━━━━━━━━━━━━━━━━━━━━━━━━━━━━━━━━\u001b[0m \u001b[32m135.6/135.6 kB\u001b[0m \u001b[31m13.1 MB/s\u001b[0m eta \u001b[36m0:00:00\u001b[0m\n",
            "\u001b[?25hRequirement already satisfied: requests in /usr/local/lib/python3.10/dist-packages (2.27.1)\n",
            "Requirement already satisfied: regex in /usr/local/lib/python3.10/dist-packages (2022.10.31)\n",
            "Collecting sentencepiece\n",
            "  Downloading sentencepiece-0.1.99-cp310-cp310-manylinux_2_17_x86_64.manylinux2014_x86_64.whl (1.3 MB)\n",
            "\u001b[2K     \u001b[90m━━━━━━━━━━━━━━━━━━━━━━━━━━━━━━━━━━━━━━━━\u001b[0m \u001b[32m1.3/1.3 MB\u001b[0m \u001b[31m75.7 MB/s\u001b[0m eta \u001b[36m0:00:00\u001b[0m\n",
            "\u001b[?25hCollecting sacremoses\n",
            "  Downloading sacremoses-0.0.53.tar.gz (880 kB)\n",
            "\u001b[2K     \u001b[90m━━━━━━━━━━━━━━━━━━━━━━━━━━━━━━━━━━━━━━\u001b[0m \u001b[32m880.6/880.6 kB\u001b[0m \u001b[31m68.9 MB/s\u001b[0m eta \u001b[36m0:00:00\u001b[0m\n",
            "\u001b[?25h  Preparing metadata (setup.py) ... \u001b[?25l\u001b[?25hdone\n",
            "Collecting botocore<1.30.0,>=1.29.133 (from boto3)\n",
            "  Downloading botocore-1.29.133-py3-none-any.whl (10.7 MB)\n",
            "\u001b[2K     \u001b[90m━━━━━━━━━━━━━━━━━━━━━━━━━━━━━━━━━━━━━━━\u001b[0m \u001b[32m10.7/10.7 MB\u001b[0m \u001b[31m114.2 MB/s\u001b[0m eta \u001b[36m0:00:00\u001b[0m\n",
            "\u001b[?25hCollecting jmespath<2.0.0,>=0.7.1 (from boto3)\n",
            "  Downloading jmespath-1.0.1-py3-none-any.whl (20 kB)\n",
            "Collecting s3transfer<0.7.0,>=0.6.0 (from boto3)\n",
            "  Downloading s3transfer-0.6.1-py3-none-any.whl (79 kB)\n",
            "\u001b[2K     \u001b[90m━━━━━━━━━━━━━━━━━━━━━━━━━━━━━━━━━━━━━━━━\u001b[0m \u001b[32m79.8/79.8 kB\u001b[0m \u001b[31m10.8 MB/s\u001b[0m eta \u001b[36m0:00:00\u001b[0m\n",
            "\u001b[?25hRequirement already satisfied: urllib3<1.27,>=1.21.1 in /usr/local/lib/python3.10/dist-packages (from requests) (1.26.15)\n",
            "Requirement already satisfied: certifi>=2017.4.17 in /usr/local/lib/python3.10/dist-packages (from requests) (2022.12.7)\n",
            "Requirement already satisfied: charset-normalizer~=2.0.0 in /usr/local/lib/python3.10/dist-packages (from requests) (2.0.12)\n",
            "Requirement already satisfied: idna<4,>=2.5 in /usr/local/lib/python3.10/dist-packages (from requests) (3.4)\n",
            "Requirement already satisfied: six in /usr/local/lib/python3.10/dist-packages (from sacremoses) (1.16.0)\n",
            "Requirement already satisfied: click in /usr/local/lib/python3.10/dist-packages (from sacremoses) (8.1.3)\n",
            "Requirement already satisfied: joblib in /usr/local/lib/python3.10/dist-packages (from sacremoses) (1.2.0)\n",
            "Requirement already satisfied: python-dateutil<3.0.0,>=2.1 in /usr/local/lib/python3.10/dist-packages (from botocore<1.30.0,>=1.29.133->boto3) (2.8.2)\n",
            "Building wheels for collected packages: sacremoses\n",
            "  Building wheel for sacremoses (setup.py) ... \u001b[?25l\u001b[?25hdone\n",
            "  Created wheel for sacremoses: filename=sacremoses-0.0.53-py3-none-any.whl size=895241 sha256=cbcbf1a1699bc250d4bc186dab0162d5cd7e9f666882b5eefb3f78e1449ff17c\n",
            "  Stored in directory: /root/.cache/pip/wheels/00/24/97/a2ea5324f36bc626e1ea0267f33db6aa80d157ee977e9e42fb\n",
            "Successfully built sacremoses\n",
            "Installing collected packages: sentencepiece, sacremoses, jmespath, botocore, s3transfer, boto3\n",
            "Successfully installed boto3-1.26.133 botocore-1.29.133 jmespath-1.0.1 s3transfer-0.6.1 sacremoses-0.0.53 sentencepiece-0.1.99\n",
            "Looking in indexes: https://pypi.org/simple, https://us-python.pkg.dev/colab-wheels/public/simple/\n",
            "Collecting transformers\n",
            "  Downloading transformers-4.29.1-py3-none-any.whl (7.1 MB)\n",
            "\u001b[2K     \u001b[90m━━━━━━━━━━━━━━━━━━━━━━━━━━━━━━━━━━━━━━━━\u001b[0m \u001b[32m7.1/7.1 MB\u001b[0m \u001b[31m59.7 MB/s\u001b[0m eta \u001b[36m0:00:00\u001b[0m\n",
            "\u001b[?25hRequirement already satisfied: filelock in /usr/local/lib/python3.10/dist-packages (from transformers) (3.12.0)\n",
            "Collecting huggingface-hub<1.0,>=0.14.1 (from transformers)\n",
            "  Downloading huggingface_hub-0.14.1-py3-none-any.whl (224 kB)\n",
            "\u001b[2K     \u001b[90m━━━━━━━━━━━━━━━━━━━━━━━━━━━━━━━━━━━━━━\u001b[0m \u001b[32m224.5/224.5 kB\u001b[0m \u001b[31m27.0 MB/s\u001b[0m eta \u001b[36m0:00:00\u001b[0m\n",
            "\u001b[?25hRequirement already satisfied: numpy>=1.17 in /usr/local/lib/python3.10/dist-packages (from transformers) (1.22.4)\n",
            "Requirement already satisfied: packaging>=20.0 in /usr/local/lib/python3.10/dist-packages (from transformers) (23.1)\n",
            "Requirement already satisfied: pyyaml>=5.1 in /usr/local/lib/python3.10/dist-packages (from transformers) (6.0)\n",
            "Requirement already satisfied: regex!=2019.12.17 in /usr/local/lib/python3.10/dist-packages (from transformers) (2022.10.31)\n",
            "Requirement already satisfied: requests in /usr/local/lib/python3.10/dist-packages (from transformers) (2.27.1)\n",
            "Collecting tokenizers!=0.11.3,<0.14,>=0.11.1 (from transformers)\n",
            "  Downloading tokenizers-0.13.3-cp310-cp310-manylinux_2_17_x86_64.manylinux2014_x86_64.whl (7.8 MB)\n",
            "\u001b[2K     \u001b[90m━━━━━━━━━━━━━━━━━━━━━━━━━━━━━━━━━━━━━━━━\u001b[0m \u001b[32m7.8/7.8 MB\u001b[0m \u001b[31m116.3 MB/s\u001b[0m eta \u001b[36m0:00:00\u001b[0m\n",
            "\u001b[?25hRequirement already satisfied: tqdm>=4.27 in /usr/local/lib/python3.10/dist-packages (from transformers) (4.65.0)\n",
            "Requirement already satisfied: fsspec in /usr/local/lib/python3.10/dist-packages (from huggingface-hub<1.0,>=0.14.1->transformers) (2023.4.0)\n",
            "Requirement already satisfied: typing-extensions>=3.7.4.3 in /usr/local/lib/python3.10/dist-packages (from huggingface-hub<1.0,>=0.14.1->transformers) (4.5.0)\n",
            "Requirement already satisfied: urllib3<1.27,>=1.21.1 in /usr/local/lib/python3.10/dist-packages (from requests->transformers) (1.26.15)\n",
            "Requirement already satisfied: certifi>=2017.4.17 in /usr/local/lib/python3.10/dist-packages (from requests->transformers) (2022.12.7)\n",
            "Requirement already satisfied: charset-normalizer~=2.0.0 in /usr/local/lib/python3.10/dist-packages (from requests->transformers) (2.0.12)\n",
            "Requirement already satisfied: idna<4,>=2.5 in /usr/local/lib/python3.10/dist-packages (from requests->transformers) (3.4)\n",
            "Installing collected packages: tokenizers, huggingface-hub, transformers\n",
            "Successfully installed huggingface-hub-0.14.1 tokenizers-0.13.3 transformers-4.29.1\n",
            "Looking in indexes: https://pypi.org/simple, https://us-python.pkg.dev/colab-wheels/public/simple/\n",
            "Requirement already satisfied: torch in /usr/local/lib/python3.10/dist-packages (2.0.0+cu118)\n",
            "Requirement already satisfied: filelock in /usr/local/lib/python3.10/dist-packages (from torch) (3.12.0)\n",
            "Requirement already satisfied: typing-extensions in /usr/local/lib/python3.10/dist-packages (from torch) (4.5.0)\n",
            "Requirement already satisfied: sympy in /usr/local/lib/python3.10/dist-packages (from torch) (1.11.1)\n",
            "Requirement already satisfied: networkx in /usr/local/lib/python3.10/dist-packages (from torch) (3.1)\n",
            "Requirement already satisfied: jinja2 in /usr/local/lib/python3.10/dist-packages (from torch) (3.1.2)\n",
            "Requirement already satisfied: triton==2.0.0 in /usr/local/lib/python3.10/dist-packages (from torch) (2.0.0)\n",
            "Requirement already satisfied: cmake in /usr/local/lib/python3.10/dist-packages (from triton==2.0.0->torch) (3.25.2)\n",
            "Requirement already satisfied: lit in /usr/local/lib/python3.10/dist-packages (from triton==2.0.0->torch) (16.0.3)\n",
            "Requirement already satisfied: MarkupSafe>=2.0 in /usr/local/lib/python3.10/dist-packages (from jinja2->torch) (2.1.2)\n",
            "Requirement already satisfied: mpmath>=0.19 in /usr/local/lib/python3.10/dist-packages (from sympy->torch) (1.3.0)\n",
            "Looking in indexes: https://pypi.org/simple, https://us-python.pkg.dev/colab-wheels/public/simple/\n",
            "Collecting accelerate\n",
            "  Downloading accelerate-0.19.0-py3-none-any.whl (219 kB)\n",
            "\u001b[2K     \u001b[90m━━━━━━━━━━━━━━━━━━━━━━━━━━━━━━━━━━━━━━\u001b[0m \u001b[32m219.1/219.1 kB\u001b[0m \u001b[31m19.2 MB/s\u001b[0m eta \u001b[36m0:00:00\u001b[0m\n",
            "\u001b[?25hRequirement already satisfied: numpy>=1.17 in /usr/local/lib/python3.10/dist-packages (from accelerate) (1.22.4)\n",
            "Requirement already satisfied: packaging>=20.0 in /usr/local/lib/python3.10/dist-packages (from accelerate) (23.1)\n",
            "Requirement already satisfied: psutil in /usr/local/lib/python3.10/dist-packages (from accelerate) (5.9.5)\n",
            "Requirement already satisfied: pyyaml in /usr/local/lib/python3.10/dist-packages (from accelerate) (6.0)\n",
            "Requirement already satisfied: torch>=1.6.0 in /usr/local/lib/python3.10/dist-packages (from accelerate) (2.0.0+cu118)\n",
            "Requirement already satisfied: filelock in /usr/local/lib/python3.10/dist-packages (from torch>=1.6.0->accelerate) (3.12.0)\n",
            "Requirement already satisfied: typing-extensions in /usr/local/lib/python3.10/dist-packages (from torch>=1.6.0->accelerate) (4.5.0)\n",
            "Requirement already satisfied: sympy in /usr/local/lib/python3.10/dist-packages (from torch>=1.6.0->accelerate) (1.11.1)\n",
            "Requirement already satisfied: networkx in /usr/local/lib/python3.10/dist-packages (from torch>=1.6.0->accelerate) (3.1)\n",
            "Requirement already satisfied: jinja2 in /usr/local/lib/python3.10/dist-packages (from torch>=1.6.0->accelerate) (3.1.2)\n",
            "Requirement already satisfied: triton==2.0.0 in /usr/local/lib/python3.10/dist-packages (from torch>=1.6.0->accelerate) (2.0.0)\n",
            "Requirement already satisfied: cmake in /usr/local/lib/python3.10/dist-packages (from triton==2.0.0->torch>=1.6.0->accelerate) (3.25.2)\n",
            "Requirement already satisfied: lit in /usr/local/lib/python3.10/dist-packages (from triton==2.0.0->torch>=1.6.0->accelerate) (16.0.3)\n",
            "Requirement already satisfied: MarkupSafe>=2.0 in /usr/local/lib/python3.10/dist-packages (from jinja2->torch>=1.6.0->accelerate) (2.1.2)\n",
            "Requirement already satisfied: mpmath>=0.19 in /usr/local/lib/python3.10/dist-packages (from sympy->torch>=1.6.0->accelerate) (1.3.0)\n",
            "Installing collected packages: accelerate\n",
            "Successfully installed accelerate-0.19.0\n",
            "Looking in indexes: https://pypi.org/simple, https://us-python.pkg.dev/colab-wheels/public/simple/\n",
            "Collecting pytorch_lightning\n",
            "  Downloading pytorch_lightning-2.0.2-py3-none-any.whl (719 kB)\n",
            "\u001b[2K     \u001b[90m━━━━━━━━━━━━━━━━━━━━━━━━━━━━━━━━━━━━━━\u001b[0m \u001b[32m719.0/719.0 kB\u001b[0m \u001b[31m46.5 MB/s\u001b[0m eta \u001b[36m0:00:00\u001b[0m\n",
            "\u001b[?25hRequirement already satisfied: numpy>=1.17.2 in /usr/local/lib/python3.10/dist-packages (from pytorch_lightning) (1.22.4)\n",
            "Requirement already satisfied: torch>=1.11.0 in /usr/local/lib/python3.10/dist-packages (from pytorch_lightning) (2.0.0+cu118)\n",
            "Requirement already satisfied: tqdm>=4.57.0 in /usr/local/lib/python3.10/dist-packages (from pytorch_lightning) (4.65.0)\n",
            "Requirement already satisfied: PyYAML>=5.4 in /usr/local/lib/python3.10/dist-packages (from pytorch_lightning) (6.0)\n",
            "Requirement already satisfied: fsspec[http]>2021.06.0 in /usr/local/lib/python3.10/dist-packages (from pytorch_lightning) (2023.4.0)\n",
            "Collecting torchmetrics>=0.7.0 (from pytorch_lightning)\n",
            "  Downloading torchmetrics-0.11.4-py3-none-any.whl (519 kB)\n",
            "\u001b[2K     \u001b[90m━━━━━━━━━━━━━━━━━━━━━━━━━━━━━━━━━━━━━━\u001b[0m \u001b[32m519.2/519.2 kB\u001b[0m \u001b[31m48.4 MB/s\u001b[0m eta \u001b[36m0:00:00\u001b[0m\n",
            "\u001b[?25hRequirement already satisfied: packaging>=17.1 in /usr/local/lib/python3.10/dist-packages (from pytorch_lightning) (23.1)\n",
            "Requirement already satisfied: typing-extensions>=4.0.0 in /usr/local/lib/python3.10/dist-packages (from pytorch_lightning) (4.5.0)\n",
            "Collecting lightning-utilities>=0.7.0 (from pytorch_lightning)\n",
            "  Downloading lightning_utilities-0.8.0-py3-none-any.whl (20 kB)\n",
            "Requirement already satisfied: requests in /usr/local/lib/python3.10/dist-packages (from fsspec[http]>2021.06.0->pytorch_lightning) (2.27.1)\n",
            "Collecting aiohttp!=4.0.0a0,!=4.0.0a1 (from fsspec[http]>2021.06.0->pytorch_lightning)\n",
            "  Downloading aiohttp-3.8.4-cp310-cp310-manylinux_2_17_x86_64.manylinux2014_x86_64.whl (1.0 MB)\n",
            "\u001b[2K     \u001b[90m━━━━━━━━━━━━━━━━━━━━━━━━━━━━━━━━━━━━━━━━\u001b[0m \u001b[32m1.0/1.0 MB\u001b[0m \u001b[31m61.8 MB/s\u001b[0m eta \u001b[36m0:00:00\u001b[0m\n",
            "\u001b[?25hRequirement already satisfied: filelock in /usr/local/lib/python3.10/dist-packages (from torch>=1.11.0->pytorch_lightning) (3.12.0)\n",
            "Requirement already satisfied: sympy in /usr/local/lib/python3.10/dist-packages (from torch>=1.11.0->pytorch_lightning) (1.11.1)\n",
            "Requirement already satisfied: networkx in /usr/local/lib/python3.10/dist-packages (from torch>=1.11.0->pytorch_lightning) (3.1)\n",
            "Requirement already satisfied: jinja2 in /usr/local/lib/python3.10/dist-packages (from torch>=1.11.0->pytorch_lightning) (3.1.2)\n",
            "Requirement already satisfied: triton==2.0.0 in /usr/local/lib/python3.10/dist-packages (from torch>=1.11.0->pytorch_lightning) (2.0.0)\n",
            "Requirement already satisfied: cmake in /usr/local/lib/python3.10/dist-packages (from triton==2.0.0->torch>=1.11.0->pytorch_lightning) (3.25.2)\n",
            "Requirement already satisfied: lit in /usr/local/lib/python3.10/dist-packages (from triton==2.0.0->torch>=1.11.0->pytorch_lightning) (16.0.3)\n",
            "Requirement already satisfied: attrs>=17.3.0 in /usr/local/lib/python3.10/dist-packages (from aiohttp!=4.0.0a0,!=4.0.0a1->fsspec[http]>2021.06.0->pytorch_lightning) (23.1.0)\n",
            "Requirement already satisfied: charset-normalizer<4.0,>=2.0 in /usr/local/lib/python3.10/dist-packages (from aiohttp!=4.0.0a0,!=4.0.0a1->fsspec[http]>2021.06.0->pytorch_lightning) (2.0.12)\n",
            "Collecting multidict<7.0,>=4.5 (from aiohttp!=4.0.0a0,!=4.0.0a1->fsspec[http]>2021.06.0->pytorch_lightning)\n",
            "  Downloading multidict-6.0.4-cp310-cp310-manylinux_2_17_x86_64.manylinux2014_x86_64.whl (114 kB)\n",
            "\u001b[2K     \u001b[90m━━━━━━━━━━━━━━━━━━━━━━━━━━━━━━━━━━━━━━\u001b[0m \u001b[32m114.5/114.5 kB\u001b[0m \u001b[31m14.7 MB/s\u001b[0m eta \u001b[36m0:00:00\u001b[0m\n",
            "\u001b[?25hCollecting async-timeout<5.0,>=4.0.0a3 (from aiohttp!=4.0.0a0,!=4.0.0a1->fsspec[http]>2021.06.0->pytorch_lightning)\n",
            "  Downloading async_timeout-4.0.2-py3-none-any.whl (5.8 kB)\n",
            "Collecting yarl<2.0,>=1.0 (from aiohttp!=4.0.0a0,!=4.0.0a1->fsspec[http]>2021.06.0->pytorch_lightning)\n",
            "  Downloading yarl-1.9.2-cp310-cp310-manylinux_2_17_x86_64.manylinux2014_x86_64.whl (268 kB)\n",
            "\u001b[2K     \u001b[90m━━━━━━━━━━━━━━━━━━━━━━━━━━━━━━━━━━━━━━\u001b[0m \u001b[32m268.8/268.8 kB\u001b[0m \u001b[31m29.8 MB/s\u001b[0m eta \u001b[36m0:00:00\u001b[0m\n",
            "\u001b[?25hCollecting frozenlist>=1.1.1 (from aiohttp!=4.0.0a0,!=4.0.0a1->fsspec[http]>2021.06.0->pytorch_lightning)\n",
            "  Downloading frozenlist-1.3.3-cp310-cp310-manylinux_2_5_x86_64.manylinux1_x86_64.manylinux_2_17_x86_64.manylinux2014_x86_64.whl (149 kB)\n",
            "\u001b[2K     \u001b[90m━━━━━━━━━━━━━━━━━━━━━━━━━━━━━━━━━━━━━━\u001b[0m \u001b[32m149.6/149.6 kB\u001b[0m \u001b[31m19.3 MB/s\u001b[0m eta \u001b[36m0:00:00\u001b[0m\n",
            "\u001b[?25hCollecting aiosignal>=1.1.2 (from aiohttp!=4.0.0a0,!=4.0.0a1->fsspec[http]>2021.06.0->pytorch_lightning)\n",
            "  Downloading aiosignal-1.3.1-py3-none-any.whl (7.6 kB)\n",
            "Requirement already satisfied: MarkupSafe>=2.0 in /usr/local/lib/python3.10/dist-packages (from jinja2->torch>=1.11.0->pytorch_lightning) (2.1.2)\n",
            "Requirement already satisfied: urllib3<1.27,>=1.21.1 in /usr/local/lib/python3.10/dist-packages (from requests->fsspec[http]>2021.06.0->pytorch_lightning) (1.26.15)\n",
            "Requirement already satisfied: certifi>=2017.4.17 in /usr/local/lib/python3.10/dist-packages (from requests->fsspec[http]>2021.06.0->pytorch_lightning) (2022.12.7)\n",
            "Requirement already satisfied: idna<4,>=2.5 in /usr/local/lib/python3.10/dist-packages (from requests->fsspec[http]>2021.06.0->pytorch_lightning) (3.4)\n",
            "Requirement already satisfied: mpmath>=0.19 in /usr/local/lib/python3.10/dist-packages (from sympy->torch>=1.11.0->pytorch_lightning) (1.3.0)\n",
            "Installing collected packages: multidict, lightning-utilities, frozenlist, async-timeout, yarl, aiosignal, aiohttp, torchmetrics, pytorch_lightning\n",
            "Successfully installed aiohttp-3.8.4 aiosignal-1.3.1 async-timeout-4.0.2 frozenlist-1.3.3 lightning-utilities-0.8.0 multidict-6.0.4 pytorch_lightning-2.0.2 torchmetrics-0.11.4 yarl-1.9.2\n",
            "Looking in indexes: https://pypi.org/simple, https://us-python.pkg.dev/colab-wheels/public/simple/\n",
            "Requirement already satisfied: sentencepiece in /usr/local/lib/python3.10/dist-packages (0.1.99)\n",
            "Looking in indexes: https://pypi.org/simple, https://us-python.pkg.dev/colab-wheels/public/simple/\n",
            "Requirement already satisfied: Sentencepiece in /usr/local/lib/python3.10/dist-packages (0.1.99)\n",
            "Looking in indexes: https://pypi.org/simple, https://us-python.pkg.dev/colab-wheels/public/simple/\n",
            "Requirement already satisfied: accelerate in /usr/local/lib/python3.10/dist-packages (0.19.0)\n",
            "Requirement already satisfied: numpy>=1.17 in /usr/local/lib/python3.10/dist-packages (from accelerate) (1.22.4)\n",
            "Requirement already satisfied: packaging>=20.0 in /usr/local/lib/python3.10/dist-packages (from accelerate) (23.1)\n",
            "Requirement already satisfied: psutil in /usr/local/lib/python3.10/dist-packages (from accelerate) (5.9.5)\n",
            "Requirement already satisfied: pyyaml in /usr/local/lib/python3.10/dist-packages (from accelerate) (6.0)\n",
            "Requirement already satisfied: torch>=1.6.0 in /usr/local/lib/python3.10/dist-packages (from accelerate) (2.0.0+cu118)\n",
            "Requirement already satisfied: filelock in /usr/local/lib/python3.10/dist-packages (from torch>=1.6.0->accelerate) (3.12.0)\n",
            "Requirement already satisfied: typing-extensions in /usr/local/lib/python3.10/dist-packages (from torch>=1.6.0->accelerate) (4.5.0)\n",
            "Requirement already satisfied: sympy in /usr/local/lib/python3.10/dist-packages (from torch>=1.6.0->accelerate) (1.11.1)\n",
            "Requirement already satisfied: networkx in /usr/local/lib/python3.10/dist-packages (from torch>=1.6.0->accelerate) (3.1)\n",
            "Requirement already satisfied: jinja2 in /usr/local/lib/python3.10/dist-packages (from torch>=1.6.0->accelerate) (3.1.2)\n",
            "Requirement already satisfied: triton==2.0.0 in /usr/local/lib/python3.10/dist-packages (from torch>=1.6.0->accelerate) (2.0.0)\n",
            "Requirement already satisfied: cmake in /usr/local/lib/python3.10/dist-packages (from triton==2.0.0->torch>=1.6.0->accelerate) (3.25.2)\n",
            "Requirement already satisfied: lit in /usr/local/lib/python3.10/dist-packages (from triton==2.0.0->torch>=1.6.0->accelerate) (16.0.3)\n",
            "Requirement already satisfied: MarkupSafe>=2.0 in /usr/local/lib/python3.10/dist-packages (from jinja2->torch>=1.6.0->accelerate) (2.1.2)\n",
            "Requirement already satisfied: mpmath>=0.19 in /usr/local/lib/python3.10/dist-packages (from sympy->torch>=1.6.0->accelerate) (1.3.0)\n"
          ]
        }
      ],
      "source": [
        "!pip install tqdm boto3 requests regex sentencepiece sacremoses\n",
        "\n",
        "!pip install transformers #==2.9.0\n",
        "!pip install torch  #==2.0.0\n",
        "\n",
        "# !pip install https://storage.googleapis.com/tensorflow/mac/cpu/tensorflow-1.1.0-py3-none-any.whl\n",
        "\n",
        "!pip install accelerate\n",
        "# !pip install transformers==2.9.0 \n",
        "!pip install pytorch_lightning  #==0.7.5\n",
        "# !pip install datsets transformers[sentencepiece]\n",
        "!pip install sentencepiece\n",
        "\n",
        "!pip install Sentencepiece\n",
        "# !pip install transformers\n",
        "\n",
        "!pip install accelerate\n"
      ]
    },
    {
      "cell_type": "code",
      "execution_count": 5,
      "metadata": {
        "id": "59J_Z2TlsE8D"
      },
      "outputs": [],
      "source": [
        "data_path = './train.jsonl'\n",
        "df = pd.read_json(data_path, lines=True)\n",
        "df_validation = pd.read_json('./validation.jsonl', lines=True)"
      ]
    },
    {
      "cell_type": "code",
      "execution_count": 6,
      "metadata": {
        "id": "yMy2i3BRQDCF"
      },
      "outputs": [],
      "source": [
        "def concatenate_strings(lst):\n",
        "    separator = ' '\n",
        "    return separator.join(lst)"
      ]
    },
    {
      "cell_type": "code",
      "execution_count": 7,
      "metadata": {
        "id": "ls4Xsc3pP7Ec"
      },
      "outputs": [],
      "source": [
        "df['targetParagraphs'] = df['targetParagraphs'].apply(concatenate_strings)\n",
        "df['postText'] = df['postText'].apply(concatenate_strings)\n",
        "df['spoiler'] = df['spoiler'].apply(concatenate_strings)\n",
        "df['tags'] = df['tags'].apply(concatenate_strings)"
      ]
    },
    {
      "cell_type": "code",
      "execution_count": 8,
      "metadata": {
        "id": "Lp8kyCkLV-jH"
      },
      "outputs": [],
      "source": [
        "df_validation['targetParagraphs'] = df_validation['targetParagraphs'].apply(concatenate_strings)\n",
        "df_validation['postText'] = df_validation['postText'].apply(concatenate_strings)\n",
        "df_validation['spoiler'] = df_validation['spoiler'].apply(concatenate_strings)\n",
        "df_validation['tags'] = df_validation['tags'].apply(concatenate_strings)"
      ]
    },
    {
      "cell_type": "code",
      "source": [
        "filter_phrase = df['tags'] == \"passage\"\n",
        "df_filtered = df[filter_phrase]\n",
        "# print (df_filtered)"
      ],
      "metadata": {
        "id": "V6T-ONd97lrD"
      },
      "execution_count": 9,
      "outputs": []
    },
    {
      "cell_type": "code",
      "source": [
        "filter_phrase_validation = df_validation['tags'] == \"passage\"\n",
        "df_filtered_validation = df_validation[filter_phrase_validation]\n",
        "# print (df_filtered_validation)"
      ],
      "metadata": {
        "id": "cOrKIH7P7-dT"
      },
      "execution_count": 10,
      "outputs": []
    },
    {
      "cell_type": "code",
      "execution_count": 11,
      "metadata": {
        "id": "o_h18f1psJDN"
      },
      "outputs": [],
      "source": [
        "def generate_new_df(df):\n",
        "\n",
        "    new_df = pd.DataFrame({'tags': df['tags'],'postText':df['postText'],'paragraph' : df['targetParagraphs'] ,'spoiler': df['spoiler']})\n",
        "    return new_df\n",
        "    "
      ]
    },
    {
      "cell_type": "code",
      "execution_count": null,
      "metadata": {
        "id": "TcGj6mUARRj1"
      },
      "outputs": [],
      "source": []
    },
    {
      "cell_type": "code",
      "execution_count": 12,
      "metadata": {
        "id": "YB-_UuS2AOOh"
      },
      "outputs": [],
      "source": [
        "\n",
        "# nltk\n",
        "import nltk\n",
        "from nltk.stem import WordNetLemmatizer\n",
        "from nltk.corpus import stopwords\n",
        "from nltk.tokenize import word_tokenize\n",
        "\n",
        "# plotting\n",
        "import seaborn as sns\n",
        "from wordcloud import WordCloud\n",
        "import matplotlib.pyplot as plt\n",
        "\n",
        "\n",
        "\n",
        "# sklearn\n",
        "\n",
        "from sklearn.metrics import confusion_matrix, classification_report\n",
        "\n",
        "from sklearn.model_selection import train_test_split\n",
        "from sklearn.feature_extraction.text import TfidfVectorizer\n",
        "\n",
        "\n",
        "\n",
        "# Utility\n",
        "\n",
        "import re\n",
        "import string\n",
        "import pickle"
      ]
    },
    {
      "cell_type": "code",
      "execution_count": 13,
      "metadata": {
        "id": "XVAVVPL0APCl"
      },
      "outputs": [],
      "source": [
        "wordLemm = WordNetLemmatizer()\n",
        "def processed_postText(paragraph):\n",
        "    # Lower Casing\n",
        "    paragraph = paragraph.lower()\n",
        "    # Remove punctuations\n",
        "    paragraph = paragraph.translate(str.maketrans(\"\",\"\",string.punctuation))\n",
        "    # Tokenizing words\n",
        "    tokens = word_tokenize(paragraph)\n",
        "    # Removing Stop Words\n",
        "    #final_tokens = [w for w in tokens if w not in stopword]\n",
        "    # Reducing a word to its word stem using lemmatization\n",
        "    \n",
        "    return ' '.join(tokens)"
      ]
    },
    {
      "cell_type": "code",
      "execution_count": 14,
      "metadata": {
        "colab": {
          "base_uri": "https://localhost:8080/"
        },
        "id": "YpddInQ-BLui",
        "outputId": "239f5ec0-8690-4258-8e50-734fb97d2bc2"
      },
      "outputs": [
        {
          "output_type": "stream",
          "name": "stderr",
          "text": [
            "[nltk_data] Downloading package punkt to /root/nltk_data...\n",
            "[nltk_data]   Unzipping tokenizers/punkt.zip.\n",
            "[nltk_data] Downloading package wordnet to /root/nltk_data...\n"
          ]
        },
        {
          "output_type": "execute_result",
          "data": {
            "text/plain": [
              "True"
            ]
          },
          "metadata": {},
          "execution_count": 14
        }
      ],
      "source": [
        "nltk.download('punkt')\n",
        "nltk.download('wordnet')"
      ]
    },
    {
      "cell_type": "code",
      "execution_count": 16,
      "metadata": {
        "colab": {
          "base_uri": "https://localhost:8080/"
        },
        "id": "9GDPAICsBOB-",
        "outputId": "aa104a0b-d86c-4b54-e99d-fd5d5a227c0a"
      },
      "outputs": [
        {
          "output_type": "stream",
          "name": "stderr",
          "text": [
            "[nltk_data] Downloading package stopwords to /root/nltk_data...\n",
            "[nltk_data]   Package stopwords is already up-to-date!\n"
          ]
        }
      ],
      "source": [
        "nltk.download('stopwords')\n",
        "stopword = set(stopwords.words('english'))"
      ]
    },
    {
      "cell_type": "code",
      "execution_count": 17,
      "metadata": {
        "id": "KgIDbHgfBjgq"
      },
      "outputs": [],
      "source": [
        "new_df = generate_new_df(df_filtered)"
      ]
    },
    {
      "cell_type": "code",
      "execution_count": 18,
      "metadata": {
        "id": "XbLk_1J4WQFh"
      },
      "outputs": [],
      "source": [
        "new_df_validation = generate_new_df(df_filtered_validation)"
      ]
    },
    {
      "cell_type": "code",
      "execution_count": 19,
      "metadata": {
        "id": "grh7Ful2BRjx"
      },
      "outputs": [],
      "source": [
        " new_df['paragraph'] = new_df['paragraph'].apply(lambda x: processed_postText(x))\n",
        " new_df['postText'] = new_df['postText'].apply(lambda x: processed_postText(x))\n",
        "# print('Text Preprocessing complete.')"
      ]
    },
    {
      "cell_type": "code",
      "execution_count": 20,
      "metadata": {
        "id": "ocvX_qkuWX4N"
      },
      "outputs": [],
      "source": [
        " new_df_validation['paragraph'] = new_df_validation['paragraph'].apply(lambda x: processed_postText(x))\n",
        " new_df_validation['postText'] = new_df_validation['postText'].apply(lambda x: processed_postText(x))"
      ]
    },
    {
      "cell_type": "code",
      "execution_count": 21,
      "metadata": {
        "colab": {
          "base_uri": "https://localhost:8080/"
        },
        "id": "uIynklfbVOFP",
        "outputId": "8d75d2d8-1eed-4a4b-f07a-b8c93c2703be"
      },
      "outputs": [
        {
          "output_type": "stream",
          "name": "stdout",
          "text": [
            "Looking in indexes: https://pypi.org/simple, https://us-python.pkg.dev/colab-wheels/public/simple/\n",
            "Requirement already satisfied: transformers in /usr/local/lib/python3.10/dist-packages (4.29.1)\n",
            "Requirement already satisfied: filelock in /usr/local/lib/python3.10/dist-packages (from transformers) (3.12.0)\n",
            "Requirement already satisfied: huggingface-hub<1.0,>=0.14.1 in /usr/local/lib/python3.10/dist-packages (from transformers) (0.14.1)\n",
            "Requirement already satisfied: numpy>=1.17 in /usr/local/lib/python3.10/dist-packages (from transformers) (1.22.4)\n",
            "Requirement already satisfied: packaging>=20.0 in /usr/local/lib/python3.10/dist-packages (from transformers) (23.1)\n",
            "Requirement already satisfied: pyyaml>=5.1 in /usr/local/lib/python3.10/dist-packages (from transformers) (6.0)\n",
            "Requirement already satisfied: regex!=2019.12.17 in /usr/local/lib/python3.10/dist-packages (from transformers) (2022.10.31)\n",
            "Requirement already satisfied: requests in /usr/local/lib/python3.10/dist-packages (from transformers) (2.27.1)\n",
            "Requirement already satisfied: tokenizers!=0.11.3,<0.14,>=0.11.1 in /usr/local/lib/python3.10/dist-packages (from transformers) (0.13.3)\n",
            "Requirement already satisfied: tqdm>=4.27 in /usr/local/lib/python3.10/dist-packages (from transformers) (4.65.0)\n",
            "Requirement already satisfied: fsspec in /usr/local/lib/python3.10/dist-packages (from huggingface-hub<1.0,>=0.14.1->transformers) (2023.4.0)\n",
            "Requirement already satisfied: typing-extensions>=3.7.4.3 in /usr/local/lib/python3.10/dist-packages (from huggingface-hub<1.0,>=0.14.1->transformers) (4.5.0)\n",
            "Requirement already satisfied: urllib3<1.27,>=1.21.1 in /usr/local/lib/python3.10/dist-packages (from requests->transformers) (1.26.15)\n",
            "Requirement already satisfied: certifi>=2017.4.17 in /usr/local/lib/python3.10/dist-packages (from requests->transformers) (2022.12.7)\n",
            "Requirement already satisfied: charset-normalizer~=2.0.0 in /usr/local/lib/python3.10/dist-packages (from requests->transformers) (2.0.12)\n",
            "Requirement already satisfied: idna<4,>=2.5 in /usr/local/lib/python3.10/dist-packages (from requests->transformers) (3.4)\n"
          ]
        }
      ],
      "source": [
        "!pip install transformers"
      ]
    },
    {
      "cell_type": "code",
      "execution_count": null,
      "metadata": {
        "id": "EZ2W_LwmVRE1"
      },
      "outputs": [],
      "source": []
    },
    {
      "cell_type": "code",
      "execution_count": null,
      "metadata": {
        "id": "8DuUe7TTVRtu"
      },
      "outputs": [],
      "source": [
        "# questions= new_df['postText']\n",
        "# answers= new_df['spoiler']\n",
        "# stories_not_summarized = new_df['paragraph']\n",
        "# tags = new_df['tags']\n",
        "\n",
        "# print(stories_not_summarized[0])\n",
        "\n",
        "\n"
      ]
    },
    {
      "cell_type": "code",
      "execution_count": 22,
      "metadata": {
        "colab": {
          "base_uri": "https://localhost:8080/"
        },
        "id": "r3aANEkqUg_6",
        "outputId": "d9c64e19-4f6b-4408-9c28-1a032191b166"
      },
      "outputs": [
        {
          "output_type": "stream",
          "name": "stdout",
          "text": [
            "Looking in indexes: https://pypi.org/simple, https://us-python.pkg.dev/colab-wheels/public/simple/\n",
            "Collecting wandb\n",
            "  Downloading wandb-0.15.2-py3-none-any.whl (2.0 MB)\n",
            "\u001b[2K     \u001b[90m━━━━━━━━━━━━━━━━━━━━━━━━━━━━━━━━━━━━━━━━\u001b[0m \u001b[32m2.0/2.0 MB\u001b[0m \u001b[31m79.4 MB/s\u001b[0m eta \u001b[36m0:00:00\u001b[0m\n",
            "\u001b[?25hRequirement already satisfied: Click!=8.0.0,>=7.0 in /usr/local/lib/python3.10/dist-packages (from wandb) (8.1.3)\n",
            "Collecting GitPython!=3.1.29,>=1.0.0 (from wandb)\n",
            "  Downloading GitPython-3.1.31-py3-none-any.whl (184 kB)\n",
            "\u001b[2K     \u001b[90m━━━━━━━━━━━━━━━━━━━━━━━━━━━━━━━━━━━━━━\u001b[0m \u001b[32m184.3/184.3 kB\u001b[0m \u001b[31m23.5 MB/s\u001b[0m eta \u001b[36m0:00:00\u001b[0m\n",
            "\u001b[?25hRequirement already satisfied: requests<3,>=2.0.0 in /usr/local/lib/python3.10/dist-packages (from wandb) (2.27.1)\n",
            "Requirement already satisfied: psutil>=5.0.0 in /usr/local/lib/python3.10/dist-packages (from wandb) (5.9.5)\n",
            "Collecting sentry-sdk>=1.0.0 (from wandb)\n",
            "  Downloading sentry_sdk-1.22.2-py2.py3-none-any.whl (203 kB)\n",
            "\u001b[2K     \u001b[90m━━━━━━━━━━━━━━━━━━━━━━━━━━━━━━━━━━━━━━\u001b[0m \u001b[32m203.3/203.3 kB\u001b[0m \u001b[31m24.4 MB/s\u001b[0m eta \u001b[36m0:00:00\u001b[0m\n",
            "\u001b[?25hCollecting docker-pycreds>=0.4.0 (from wandb)\n",
            "  Downloading docker_pycreds-0.4.0-py2.py3-none-any.whl (9.0 kB)\n",
            "Requirement already satisfied: PyYAML in /usr/local/lib/python3.10/dist-packages (from wandb) (6.0)\n",
            "Collecting pathtools (from wandb)\n",
            "  Downloading pathtools-0.1.2.tar.gz (11 kB)\n",
            "  Preparing metadata (setup.py) ... \u001b[?25l\u001b[?25hdone\n",
            "Collecting setproctitle (from wandb)\n",
            "  Downloading setproctitle-1.3.2-cp310-cp310-manylinux_2_5_x86_64.manylinux1_x86_64.manylinux_2_17_x86_64.manylinux2014_x86_64.whl (30 kB)\n",
            "Requirement already satisfied: setuptools in /usr/local/lib/python3.10/dist-packages (from wandb) (67.7.2)\n",
            "Requirement already satisfied: appdirs>=1.4.3 in /usr/local/lib/python3.10/dist-packages (from wandb) (1.4.4)\n",
            "Requirement already satisfied: protobuf!=4.21.0,<5,>=3.19.0 in /usr/local/lib/python3.10/dist-packages (from wandb) (3.20.3)\n",
            "Requirement already satisfied: six>=1.4.0 in /usr/local/lib/python3.10/dist-packages (from docker-pycreds>=0.4.0->wandb) (1.16.0)\n",
            "Collecting gitdb<5,>=4.0.1 (from GitPython!=3.1.29,>=1.0.0->wandb)\n",
            "  Downloading gitdb-4.0.10-py3-none-any.whl (62 kB)\n",
            "\u001b[2K     \u001b[90m━━━━━━━━━━━━━━━━━━━━━━━━━━━━━━━━━━━━━━━━\u001b[0m \u001b[32m62.7/62.7 kB\u001b[0m \u001b[31m7.8 MB/s\u001b[0m eta \u001b[36m0:00:00\u001b[0m\n",
            "\u001b[?25hRequirement already satisfied: urllib3<1.27,>=1.21.1 in /usr/local/lib/python3.10/dist-packages (from requests<3,>=2.0.0->wandb) (1.26.15)\n",
            "Requirement already satisfied: certifi>=2017.4.17 in /usr/local/lib/python3.10/dist-packages (from requests<3,>=2.0.0->wandb) (2022.12.7)\n",
            "Requirement already satisfied: charset-normalizer~=2.0.0 in /usr/local/lib/python3.10/dist-packages (from requests<3,>=2.0.0->wandb) (2.0.12)\n",
            "Requirement already satisfied: idna<4,>=2.5 in /usr/local/lib/python3.10/dist-packages (from requests<3,>=2.0.0->wandb) (3.4)\n",
            "Collecting smmap<6,>=3.0.1 (from gitdb<5,>=4.0.1->GitPython!=3.1.29,>=1.0.0->wandb)\n",
            "  Downloading smmap-5.0.0-py3-none-any.whl (24 kB)\n",
            "Building wheels for collected packages: pathtools\n",
            "  Building wheel for pathtools (setup.py) ... \u001b[?25l\u001b[?25hdone\n",
            "  Created wheel for pathtools: filename=pathtools-0.1.2-py3-none-any.whl size=8791 sha256=d285fd317b666dc1bb045ff30f127aad4fd08f8139dc7c99d4945926e12e83ff\n",
            "  Stored in directory: /root/.cache/pip/wheels/e7/f3/22/152153d6eb222ee7a56ff8617d80ee5207207a8c00a7aab794\n",
            "Successfully built pathtools\n",
            "Installing collected packages: pathtools, smmap, setproctitle, sentry-sdk, docker-pycreds, gitdb, GitPython, wandb\n",
            "Successfully installed GitPython-3.1.31 docker-pycreds-0.4.0 gitdb-4.0.10 pathtools-0.1.2 sentry-sdk-1.22.2 setproctitle-1.3.2 smmap-5.0.0 wandb-0.15.2\n"
          ]
        }
      ],
      "source": [
        "!pip install wandb"
      ]
    },
    {
      "cell_type": "code",
      "execution_count": 23,
      "metadata": {
        "id": "PfhxttEO6l3r"
      },
      "outputs": [],
      "source": [
        "import torch"
      ]
    },
    {
      "cell_type": "code",
      "execution_count": null,
      "metadata": {
        "colab": {
          "base_uri": "https://localhost:8080/",
          "height": 177,
          "referenced_widgets": [
            "41ff79894aa149cda39069f169898973",
            "067d3a14ae02459fb745f37233c207d0",
            "ca480b430fbe451c83d57c9e19a44cd5",
            "1fa2be2665c443699ad8d7a2cfb1944b",
            "f45b7d98077c4caf8e69799cd1a07486",
            "b1b1d5cf452a416d946fef7faf848aa2",
            "ec19a6a9eb504420885dc20b2c560a99",
            "bbc474cec1c64e8c857ef6002d87e942",
            "427db3a4d8a7469eb5df36378f333c46",
            "eff91f4d8d6e4401a3e3966bb2b649d1",
            "138a3ca72fe84590987ba2cb013e83ba",
            "8692c8cce2084acb816e3e7f610436e9",
            "dc71b2d6da604d9f8741da230f70d9a1",
            "0c9f8d0fc2d24f19aed33483299bcca0",
            "3991c629b14642b39162a4590f7a077d",
            "37bbd19676c44b8382bc736cf2b3276d",
            "62e371d1632e4812ad02edd5f63c83a9",
            "caa69694ea924f55b1538ad52dd6171a",
            "8da1181f8e8f4b518f0471ff894a0b05",
            "1f1f9094ce374a14929552040d555408",
            "4ccba4794d324e30a39ba258e7704275",
            "0fe47f9248e1403eab0194b01ab3f0fc",
            "f9c19964520f410fac628f94f49e2e62",
            "59efa454d8ac4f3dae7ea68ed58137d4",
            "de14748e04f94c22852e465b8700956e",
            "329206de56d741808ac4b729f7e2d3f8",
            "394b857f56f44a4b91d342c01b38079b",
            "46b54c785f414985b857626f3a32f3b9",
            "d3ca5633c8ec4268a2b2e4f695d64521",
            "62fcd8d08b4e4dbaa526ae5b29cee399",
            "1fe6a38562194eb5ad5b7740516e6a91",
            "214c0be3e20b40c9af56c30121cd427a",
            "3e2b914a34eb43ae86082f0a5c71ad49",
            "a1a71424ce024f3a82f7a8a4ff7ab846",
            "5d7287f9a14841b9967edfe865ea287f",
            "2d2e6af0a84749828a40d0afc4c12f5d",
            "f26e3f0281834204a2983e212211b612",
            "a98b489ca52c43a2a3d5c3a750227b1a",
            "733a2980ec02450aa880853f1bb12e05",
            "6bafc83cf73941339b17ac3301d157c9",
            "cc089c42a01743689567e3e4b2f52429",
            "5f0fe317a0664fc49f036883a56de171",
            "1c1e64fc37d9478f92a399f055a692fd",
            "9e12e05e00ac43779cc75d5cfe7dff5c",
            "9548bb418668461b961ef7ab345a50ff",
            "3b8e8dafc29e4850ab106850fe9e36fa",
            "77f89b31556141a39a83cb3772c5d10a",
            "670588e909024d85a226d8c576d96735",
            "66674f01711f461f8346110a206c4b68",
            "805d9c0f11684220ba3f465ebbbd8db8",
            "b3b3fd7de71545b192017f309e39982a",
            "d1802bcd7a9640acb441e6e6a69d3fb7",
            "960874eec9e24924999d32bacb6856d5",
            "566a1b21cee942adaa962df241d50549",
            "8fe04e4066574b1a872a6fa67b429d49"
          ]
        },
        "id": "BEshzvBxTsfv",
        "outputId": "a0745c3a-0f23-4175-bf73-bcaafb67c59e"
      },
      "outputs": [
        {
          "data": {
            "application/vnd.jupyter.widget-view+json": {
              "model_id": "41ff79894aa149cda39069f169898973",
              "version_major": 2,
              "version_minor": 0
            },
            "text/plain": [
              "Downloading (…)ve/main/spiece.model:   0%|          | 0.00/792k [00:00<?, ?B/s]"
            ]
          },
          "metadata": {},
          "output_type": "display_data"
        },
        {
          "data": {
            "application/vnd.jupyter.widget-view+json": {
              "model_id": "8692c8cce2084acb816e3e7f610436e9",
              "version_major": 2,
              "version_minor": 0
            },
            "text/plain": [
              "Downloading (…)okenizer_config.json:   0%|          | 0.00/2.32k [00:00<?, ?B/s]"
            ]
          },
          "metadata": {},
          "output_type": "display_data"
        },
        {
          "data": {
            "application/vnd.jupyter.widget-view+json": {
              "model_id": "f9c19964520f410fac628f94f49e2e62",
              "version_major": 2,
              "version_minor": 0
            },
            "text/plain": [
              "Downloading (…)lve/main/config.json:   0%|          | 0.00/1.21k [00:00<?, ?B/s]"
            ]
          },
          "metadata": {},
          "output_type": "display_data"
        },
        {
          "data": {
            "application/vnd.jupyter.widget-view+json": {
              "model_id": "a1a71424ce024f3a82f7a8a4ff7ab846",
              "version_major": 2,
              "version_minor": 0
            },
            "text/plain": [
              "Downloading pytorch_model.bin:   0%|          | 0.00/242M [00:00<?, ?B/s]"
            ]
          },
          "metadata": {},
          "output_type": "display_data"
        },
        {
          "data": {
            "application/vnd.jupyter.widget-view+json": {
              "model_id": "9548bb418668461b961ef7ab345a50ff",
              "version_major": 2,
              "version_minor": 0
            },
            "text/plain": [
              "Downloading (…)neration_config.json:   0%|          | 0.00/147 [00:00<?, ?B/s]"
            ]
          },
          "metadata": {},
          "output_type": "display_data"
        }
      ],
      "source": [
        "# from transformers import pipeline\n",
        "# import requests\n",
        "# import pprint\n",
        "# import time\n",
        "# pp = pprint.PrettyPrinter(indent=14)\n",
        "\n",
        "# from transformers import T5Tokenizer, T5ForConditionalGeneration\n",
        "# import wandb\n",
        "\n",
        "# tokenizer = T5Tokenizer.from_pretrained(\"t5-small\")\n",
        "# model = T5ForConditionalGeneration.from_pretrained('t5-small')\n",
        "\n",
        "\n",
        "# # model = T5ForConditionalGeneration.from_pretrained('t5-small')\n",
        "# # tokenizer = T5Tokenizer.from_pretrained('t5-small')\n",
        "# device_cuda = torch.device('cuda')"
      ]
    },
    {
      "cell_type": "code",
      "execution_count": 24,
      "metadata": {
        "colab": {
          "base_uri": "https://localhost:8080/",
          "height": 52
        },
        "id": "OLeF1Y9kVEps",
        "outputId": "c74d407a-022a-4ae0-eef1-f30fbefec645"
      },
      "outputs": [
        {
          "output_type": "display_data",
          "data": {
            "text/plain": [
              "<IPython.core.display.Javascript object>"
            ],
            "application/javascript": [
              "\n",
              "        window._wandbApiKey = new Promise((resolve, reject) => {\n",
              "            function loadScript(url) {\n",
              "            return new Promise(function(resolve, reject) {\n",
              "                let newScript = document.createElement(\"script\");\n",
              "                newScript.onerror = reject;\n",
              "                newScript.onload = resolve;\n",
              "                document.body.appendChild(newScript);\n",
              "                newScript.src = url;\n",
              "            });\n",
              "            }\n",
              "            loadScript(\"https://cdn.jsdelivr.net/npm/postmate/build/postmate.min.js\").then(() => {\n",
              "            const iframe = document.createElement('iframe')\n",
              "            iframe.style.cssText = \"width:0;height:0;border:none\"\n",
              "            document.body.appendChild(iframe)\n",
              "            const handshake = new Postmate({\n",
              "                container: iframe,\n",
              "                url: 'https://wandb.ai/authorize'\n",
              "            });\n",
              "            const timeout = setTimeout(() => reject(\"Couldn't auto authenticate\"), 5000)\n",
              "            handshake.then(function(child) {\n",
              "                child.on('authorize', data => {\n",
              "                    clearTimeout(timeout)\n",
              "                    resolve(data)\n",
              "                });\n",
              "            });\n",
              "            })\n",
              "        });\n",
              "    "
            ]
          },
          "metadata": {}
        },
        {
          "output_type": "stream",
          "name": "stderr",
          "text": [
            "\u001b[34m\u001b[1mwandb\u001b[0m: Appending key for api.wandb.ai to your netrc file: /root/.netrc\n"
          ]
        }
      ],
      "source": [
        "WANDB_INTEGRATION = True\n",
        "if WANDB_INTEGRATION:\n",
        "    import wandb\n",
        "\n",
        "    wandb.login()"
      ]
    },
    {
      "cell_type": "code",
      "execution_count": 25,
      "metadata": {
        "id": "VYjI7khWVLrr"
      },
      "outputs": [],
      "source": [
        "from datetime import datetime"
      ]
    },
    {
      "cell_type": "code",
      "execution_count": 26,
      "metadata": {
        "colab": {
          "base_uri": "https://localhost:8080/",
          "height": 122
        },
        "id": "cJf30y6IVPuQ",
        "outputId": "3d1fa198-926e-4939-f4ba-bb373b3d4ba8"
      },
      "outputs": [
        {
          "output_type": "stream",
          "name": "stderr",
          "text": [
            "\u001b[34m\u001b[1mwandb\u001b[0m: Currently logged in as: \u001b[33mpradhaneva94\u001b[0m (\u001b[33mevapradhan\u001b[0m). Use \u001b[1m`wandb login --relogin`\u001b[0m to force relogin\n"
          ]
        },
        {
          "output_type": "display_data",
          "data": {
            "text/plain": [
              "<IPython.core.display.HTML object>"
            ],
            "text/html": [
              "Tracking run with wandb version 0.15.2"
            ]
          },
          "metadata": {}
        },
        {
          "output_type": "display_data",
          "data": {
            "text/plain": [
              "<IPython.core.display.HTML object>"
            ],
            "text/html": [
              "Run data is saved locally in <code>/content/wandb/run-20230513_072221-bb6za3eo</code>"
            ]
          },
          "metadata": {}
        },
        {
          "output_type": "display_data",
          "data": {
            "text/plain": [
              "<IPython.core.display.HTML object>"
            ],
            "text/html": [
              "Syncing run <strong><a href='https://wandb.ai/evapradhan/clickbait_spoiling/runs/bb6za3eo' target=\"_blank\">crimson-dawn-20</a></strong> to <a href='https://wandb.ai/evapradhan/clickbait_spoiling' target=\"_blank\">Weights & Biases</a> (<a href='https://wandb.me/run' target=\"_blank\">docs</a>)<br/>"
            ]
          },
          "metadata": {}
        },
        {
          "output_type": "display_data",
          "data": {
            "text/plain": [
              "<IPython.core.display.HTML object>"
            ],
            "text/html": [
              " View project at <a href='https://wandb.ai/evapradhan/clickbait_spoiling' target=\"_blank\">https://wandb.ai/evapradhan/clickbait_spoiling</a>"
            ]
          },
          "metadata": {}
        },
        {
          "output_type": "display_data",
          "data": {
            "text/plain": [
              "<IPython.core.display.HTML object>"
            ],
            "text/html": [
              " View run at <a href='https://wandb.ai/evapradhan/clickbait_spoiling/runs/bb6za3eo' target=\"_blank\">https://wandb.ai/evapradhan/clickbait_spoiling/runs/bb6za3eo</a>"
            ]
          },
          "metadata": {}
        }
      ],
      "source": [
        "if WANDB_INTEGRATION:\n",
        "    wandb_run = wandb.init(\n",
        "        project=\"clickbait_spoiling\",\n",
        "        config={\n",
        "            \"per_device_train_batch_size\": 4\n",
        "\n",
        "        },\n",
        "    )\n",
        "\n",
        "    now = datetime.now()\n",
        "    current_time = now.strftime(\"%H%M%S\")\n",
        "    wandb_run.name = \"run_\" + \"english\" + \"_\" + current_time"
      ]
    },
    {
      "cell_type": "code",
      "execution_count": null,
      "metadata": {
        "id": "W7El8ulJoByz"
      },
      "outputs": [],
      "source": [
        "# # summarize with T5\n",
        "# # summarizer_t5 = pipeline(task='summarization', model=\"t5-large\")\n",
        "# summarizer_t5 = pipeline(task='summarization', model=\"t5-small\")"
      ]
    },
    {
      "cell_type": "code",
      "execution_count": null,
      "metadata": {
        "id": "aWJIR42DJuCN"
      },
      "outputs": [],
      "source": [
        "#FINE TUNING START"
      ]
    },
    {
      "cell_type": "code",
      "execution_count": 27,
      "metadata": {
        "colab": {
          "base_uri": "https://localhost:8080/"
        },
        "id": "0IodNZPaJuCN",
        "outputId": "81116bc4-05f5-4878-93b9-93ed25c448dc"
      },
      "outputs": [
        {
          "output_type": "stream",
          "name": "stdout",
          "text": [
            "Looking in indexes: https://pypi.org/simple, https://us-python.pkg.dev/colab-wheels/public/simple/\n",
            "Requirement already satisfied: transformers in /usr/local/lib/python3.10/dist-packages (4.29.1)\n",
            "Requirement already satisfied: filelock in /usr/local/lib/python3.10/dist-packages (from transformers) (3.12.0)\n",
            "Requirement already satisfied: huggingface-hub<1.0,>=0.14.1 in /usr/local/lib/python3.10/dist-packages (from transformers) (0.14.1)\n",
            "Requirement already satisfied: numpy>=1.17 in /usr/local/lib/python3.10/dist-packages (from transformers) (1.22.4)\n",
            "Requirement already satisfied: packaging>=20.0 in /usr/local/lib/python3.10/dist-packages (from transformers) (23.1)\n",
            "Requirement already satisfied: pyyaml>=5.1 in /usr/local/lib/python3.10/dist-packages (from transformers) (6.0)\n",
            "Requirement already satisfied: regex!=2019.12.17 in /usr/local/lib/python3.10/dist-packages (from transformers) (2022.10.31)\n",
            "Requirement already satisfied: requests in /usr/local/lib/python3.10/dist-packages (from transformers) (2.27.1)\n",
            "Requirement already satisfied: tokenizers!=0.11.3,<0.14,>=0.11.1 in /usr/local/lib/python3.10/dist-packages (from transformers) (0.13.3)\n",
            "Requirement already satisfied: tqdm>=4.27 in /usr/local/lib/python3.10/dist-packages (from transformers) (4.65.0)\n",
            "Requirement already satisfied: fsspec in /usr/local/lib/python3.10/dist-packages (from huggingface-hub<1.0,>=0.14.1->transformers) (2023.4.0)\n",
            "Requirement already satisfied: typing-extensions>=3.7.4.3 in /usr/local/lib/python3.10/dist-packages (from huggingface-hub<1.0,>=0.14.1->transformers) (4.5.0)\n",
            "Requirement already satisfied: urllib3<1.27,>=1.21.1 in /usr/local/lib/python3.10/dist-packages (from requests->transformers) (1.26.15)\n",
            "Requirement already satisfied: certifi>=2017.4.17 in /usr/local/lib/python3.10/dist-packages (from requests->transformers) (2022.12.7)\n",
            "Requirement already satisfied: charset-normalizer~=2.0.0 in /usr/local/lib/python3.10/dist-packages (from requests->transformers) (2.0.12)\n",
            "Requirement already satisfied: idna<4,>=2.5 in /usr/local/lib/python3.10/dist-packages (from requests->transformers) (3.4)\n",
            "Looking in indexes: https://pypi.org/simple, https://us-python.pkg.dev/colab-wheels/public/simple/\n",
            "Collecting datasets\n",
            "  Downloading datasets-2.12.0-py3-none-any.whl (474 kB)\n",
            "\u001b[2K     \u001b[90m━━━━━━━━━━━━━━━━━━━━━━━━━━━━━━━━━━━━━━\u001b[0m \u001b[32m474.6/474.6 kB\u001b[0m \u001b[31m24.7 MB/s\u001b[0m eta \u001b[36m0:00:00\u001b[0m\n",
            "\u001b[?25hRequirement already satisfied: numpy>=1.17 in /usr/local/lib/python3.10/dist-packages (from datasets) (1.22.4)\n",
            "Requirement already satisfied: pyarrow>=8.0.0 in /usr/local/lib/python3.10/dist-packages (from datasets) (9.0.0)\n",
            "Collecting dill<0.3.7,>=0.3.0 (from datasets)\n",
            "  Downloading dill-0.3.6-py3-none-any.whl (110 kB)\n",
            "\u001b[2K     \u001b[90m━━━━━━━━━━━━━━━━━━━━━━━━━━━━━━━━━━━━━━\u001b[0m \u001b[32m110.5/110.5 kB\u001b[0m \u001b[31m12.3 MB/s\u001b[0m eta \u001b[36m0:00:00\u001b[0m\n",
            "\u001b[?25hRequirement already satisfied: pandas in /usr/local/lib/python3.10/dist-packages (from datasets) (1.5.3)\n",
            "Requirement already satisfied: requests>=2.19.0 in /usr/local/lib/python3.10/dist-packages (from datasets) (2.27.1)\n",
            "Requirement already satisfied: tqdm>=4.62.1 in /usr/local/lib/python3.10/dist-packages (from datasets) (4.65.0)\n",
            "Collecting xxhash (from datasets)\n",
            "  Downloading xxhash-3.2.0-cp310-cp310-manylinux_2_17_x86_64.manylinux2014_x86_64.whl (212 kB)\n",
            "\u001b[2K     \u001b[90m━━━━━━━━━━━━━━━━━━━━━━━━━━━━━━━━━━━━━━\u001b[0m \u001b[32m212.5/212.5 kB\u001b[0m \u001b[31m23.6 MB/s\u001b[0m eta \u001b[36m0:00:00\u001b[0m\n",
            "\u001b[?25hCollecting multiprocess (from datasets)\n",
            "  Downloading multiprocess-0.70.14-py310-none-any.whl (134 kB)\n",
            "\u001b[2K     \u001b[90m━━━━━━━━━━━━━━━━━━━━━━━━━━━━━━━━━━━━━━\u001b[0m \u001b[32m134.3/134.3 kB\u001b[0m \u001b[31m15.0 MB/s\u001b[0m eta \u001b[36m0:00:00\u001b[0m\n",
            "\u001b[?25hRequirement already satisfied: fsspec[http]>=2021.11.1 in /usr/local/lib/python3.10/dist-packages (from datasets) (2023.4.0)\n",
            "Requirement already satisfied: aiohttp in /usr/local/lib/python3.10/dist-packages (from datasets) (3.8.4)\n",
            "Requirement already satisfied: huggingface-hub<1.0.0,>=0.11.0 in /usr/local/lib/python3.10/dist-packages (from datasets) (0.14.1)\n",
            "Requirement already satisfied: packaging in /usr/local/lib/python3.10/dist-packages (from datasets) (23.1)\n",
            "Collecting responses<0.19 (from datasets)\n",
            "  Downloading responses-0.18.0-py3-none-any.whl (38 kB)\n",
            "Requirement already satisfied: pyyaml>=5.1 in /usr/local/lib/python3.10/dist-packages (from datasets) (6.0)\n",
            "Requirement already satisfied: attrs>=17.3.0 in /usr/local/lib/python3.10/dist-packages (from aiohttp->datasets) (23.1.0)\n",
            "Requirement already satisfied: charset-normalizer<4.0,>=2.0 in /usr/local/lib/python3.10/dist-packages (from aiohttp->datasets) (2.0.12)\n",
            "Requirement already satisfied: multidict<7.0,>=4.5 in /usr/local/lib/python3.10/dist-packages (from aiohttp->datasets) (6.0.4)\n",
            "Requirement already satisfied: async-timeout<5.0,>=4.0.0a3 in /usr/local/lib/python3.10/dist-packages (from aiohttp->datasets) (4.0.2)\n",
            "Requirement already satisfied: yarl<2.0,>=1.0 in /usr/local/lib/python3.10/dist-packages (from aiohttp->datasets) (1.9.2)\n",
            "Requirement already satisfied: frozenlist>=1.1.1 in /usr/local/lib/python3.10/dist-packages (from aiohttp->datasets) (1.3.3)\n",
            "Requirement already satisfied: aiosignal>=1.1.2 in /usr/local/lib/python3.10/dist-packages (from aiohttp->datasets) (1.3.1)\n",
            "Requirement already satisfied: filelock in /usr/local/lib/python3.10/dist-packages (from huggingface-hub<1.0.0,>=0.11.0->datasets) (3.12.0)\n",
            "Requirement already satisfied: typing-extensions>=3.7.4.3 in /usr/local/lib/python3.10/dist-packages (from huggingface-hub<1.0.0,>=0.11.0->datasets) (4.5.0)\n",
            "Requirement already satisfied: urllib3<1.27,>=1.21.1 in /usr/local/lib/python3.10/dist-packages (from requests>=2.19.0->datasets) (1.26.15)\n",
            "Requirement already satisfied: certifi>=2017.4.17 in /usr/local/lib/python3.10/dist-packages (from requests>=2.19.0->datasets) (2022.12.7)\n",
            "Requirement already satisfied: idna<4,>=2.5 in /usr/local/lib/python3.10/dist-packages (from requests>=2.19.0->datasets) (3.4)\n",
            "Requirement already satisfied: python-dateutil>=2.8.1 in /usr/local/lib/python3.10/dist-packages (from pandas->datasets) (2.8.2)\n",
            "Requirement already satisfied: pytz>=2020.1 in /usr/local/lib/python3.10/dist-packages (from pandas->datasets) (2022.7.1)\n",
            "Requirement already satisfied: six>=1.5 in /usr/local/lib/python3.10/dist-packages (from python-dateutil>=2.8.1->pandas->datasets) (1.16.0)\n",
            "Installing collected packages: xxhash, dill, responses, multiprocess, datasets\n",
            "Successfully installed datasets-2.12.0 dill-0.3.6 multiprocess-0.70.14 responses-0.18.0 xxhash-3.2.0\n"
          ]
        }
      ],
      "source": [
        "!pip install transformers #==2.9.0\n",
        "!pip install datasets"
      ]
    },
    {
      "cell_type": "code",
      "execution_count": 28,
      "metadata": {
        "id": "i_-rXf2QJuCN"
      },
      "outputs": [],
      "source": [
        "from datasets import Dataset\n",
        "from datasets import dataset_dict"
      ]
    },
    {
      "cell_type": "code",
      "execution_count": 29,
      "metadata": {
        "colab": {
          "base_uri": "https://localhost:8080/"
        },
        "id": "h6-Za4skJuCN",
        "outputId": "a0863b39-4a18-4f4c-829e-ddf00ee90605"
      },
      "outputs": [
        {
          "output_type": "stream",
          "name": "stderr",
          "text": [
            "[nltk_data] Downloading package punkt to /root/nltk_data...\n",
            "[nltk_data]   Package punkt is already up-to-date!\n"
          ]
        },
        {
          "output_type": "execute_result",
          "data": {
            "text/plain": [
              "True"
            ]
          },
          "metadata": {},
          "execution_count": 29
        }
      ],
      "source": [
        "import transformers\n",
        "from transformers import AutoTokenizer, AutoModelForSeq2SeqLM, Seq2SeqTrainingArguments, Seq2SeqTrainer\n",
        "from datasets import load_dataset, load_from_disk\n",
        "import numpy as np\n",
        "import nltk\n",
        "nltk.download('punkt')"
      ]
    },
    {
      "cell_type": "code",
      "execution_count": 30,
      "metadata": {
        "id": "afgOWoA4JuCN"
      },
      "outputs": [],
      "source": [
        "import torch\n",
        "import numpy as np\n",
        "import pandas as pd\n",
        "from transformers import (TrainingArguments, Trainer, EarlyStoppingCallback)\n",
        "from sklearn.metrics import accuracy_score, f1_score\n",
        "from datasets import Dataset, load_metric\n",
        "from transformers import AutoTokenizer, BartForConditionalGeneration"
      ]
    },
    {
      "cell_type": "code",
      "execution_count": 31,
      "metadata": {
        "id": "DUDOiljNJuCN"
      },
      "outputs": [],
      "source": [
        "# max_input = 512\n",
        "# max_target = 128\n",
        "# batch_size = 3\n",
        "model_checkpoints = \"facebook/bart-large-cnn\""
      ]
    },
    {
      "cell_type": "code",
      "execution_count": 32,
      "metadata": {
        "id": "_Vhfa7sBJuCN",
        "colab": {
          "base_uri": "https://localhost:8080/",
          "height": 145,
          "referenced_widgets": [
            "a1b59036bf7342cca46c2c932ff2011d",
            "d5f829d54346431a8b8c9e3e29ea20b3",
            "5f001e3d52d8478190495f5a36ddf1d6",
            "e0a1fb0b944548528e3645cf93559474",
            "4cf93c85dd7d4604a75f2da0d0d3d2c7",
            "40de5b5f6a1642fa92271289d93bd93c",
            "69dc238524d74417901f0b2c72ed546c",
            "51f657f65df748ed8797ffeffb4e6b11",
            "5238a8de822f4031ac465ab2db786292",
            "efcf4017366e4a8f9f4dfb6dec8da8a2",
            "97615507cd5142e4852865915c56fafe",
            "f45ffa3c728145e3b4be86f6b03f8fdc",
            "d57ab106b72c4690937e094ca587cd54",
            "9d323a3914ac42c0b9b623a6630a1614",
            "e23f0f3eceb849f888aedcd1c32dfc42",
            "b86e58e39baf45d897b5773cf074bd92",
            "316f192de54548cdb61fe838a2ddd45d",
            "4678c5d98a0d4921a439c508bff02302",
            "18a4dbb7046943adb8eb28456556db8d",
            "c2ea53b9e93044bf876e2906322b45ac",
            "c6fdc91923f14562ba37c3e911b74e5d",
            "4c06502f8dba4d969eb48083644f7cd1",
            "fd854891bb0b4eeab89a069a8f740f39",
            "21f803989e004d97973d25bd479ddf33",
            "2a0b26782a26456091ddf7bb9a8d39d3",
            "bf25d48ad94346cfb25efed724aadbc2",
            "708d9d09ce084c99bed288fa2a6b2dde",
            "e46ff2e218224febb36507e3ebb505a8",
            "1490fc8b8def4a0a956d16d681b6cbda",
            "5fc160abba1e4422a8863d783e939331",
            "e9c2de9e21a64636947d8fe67d560c01",
            "864c25400db14da3b6c7612a9e92659d",
            "2355266fa1764d2398a735d0a458a619",
            "17f2b4faa8ee451c9937d078a15bb868",
            "55dbf7503d0b431494374d07891a7fdb",
            "71f7176e58274ffc91e281636ea4e41e",
            "d3d5ecf4b23b422bb13765a987c9ee16",
            "2201b1ff1ed7431cbc75bbf745a15b35",
            "81dca9e905df44b68a46c23c911cdac2",
            "744ea50e687f40e2ad8b3b95010b21d8",
            "d78b27ae350a4271bea370016c7acc6a",
            "c27ddb9c9a254ce4bf6b5c19b8654430",
            "779d3fe42bf84a0caff59f3a8d143efa",
            "f6a20fbff205403d8defafecd03bdfa5"
          ]
        },
        "outputId": "4f0add6a-4dbd-4343-e998-c0ef899ee857"
      },
      "outputs": [
        {
          "output_type": "display_data",
          "data": {
            "text/plain": [
              "Downloading (…)lve/main/config.json:   0%|          | 0.00/1.58k [00:00<?, ?B/s]"
            ],
            "application/vnd.jupyter.widget-view+json": {
              "version_major": 2,
              "version_minor": 0,
              "model_id": "a1b59036bf7342cca46c2c932ff2011d"
            }
          },
          "metadata": {}
        },
        {
          "output_type": "display_data",
          "data": {
            "text/plain": [
              "Downloading (…)olve/main/vocab.json:   0%|          | 0.00/899k [00:00<?, ?B/s]"
            ],
            "application/vnd.jupyter.widget-view+json": {
              "version_major": 2,
              "version_minor": 0,
              "model_id": "f45ffa3c728145e3b4be86f6b03f8fdc"
            }
          },
          "metadata": {}
        },
        {
          "output_type": "display_data",
          "data": {
            "text/plain": [
              "Downloading (…)olve/main/merges.txt:   0%|          | 0.00/456k [00:00<?, ?B/s]"
            ],
            "application/vnd.jupyter.widget-view+json": {
              "version_major": 2,
              "version_minor": 0,
              "model_id": "fd854891bb0b4eeab89a069a8f740f39"
            }
          },
          "metadata": {}
        },
        {
          "output_type": "display_data",
          "data": {
            "text/plain": [
              "Downloading (…)/main/tokenizer.json:   0%|          | 0.00/1.36M [00:00<?, ?B/s]"
            ],
            "application/vnd.jupyter.widget-view+json": {
              "version_major": 2,
              "version_minor": 0,
              "model_id": "17f2b4faa8ee451c9937d078a15bb868"
            }
          },
          "metadata": {}
        }
      ],
      "source": [
        "tokenizer = AutoTokenizer.from_pretrained(model_checkpoints)"
      ]
    },
    {
      "cell_type": "code",
      "execution_count": 33,
      "metadata": {
        "id": "CVwtwdc6JuCN"
      },
      "outputs": [],
      "source": [
        "input_text = \"Sumarize:\" + new_df[\"paragraph\"]\n",
        "target_text = new_df[\"spoiler\"]\n",
        "\n",
        "\n",
        "data_to_process_train = pd.DataFrame({ 'input_ids': input_text, 'labels':target_text})"
      ]
    },
    {
      "cell_type": "code",
      "source": [
        "data_to_process_train"
      ],
      "metadata": {
        "id": "c-aSXW0GS2S7",
        "colab": {
          "base_uri": "https://localhost:8080/",
          "height": 424
        },
        "outputId": "42b05fc7-cfdb-48c8-8988-e06c36fa8ddb"
      },
      "execution_count": 34,
      "outputs": [
        {
          "output_type": "execute_result",
          "data": {
            "text/plain": [
              "                                              input_ids  \\\n",
              "0     Sumarize:it ’ ll be just like old times this w...   \n",
              "5     Sumarize:one of the biggest surprise announcem...   \n",
              "6     Sumarize:june 14th 2016 33k shares they may lo...   \n",
              "7     Sumarize:it was cold and very foggy the temper...   \n",
              "8     Sumarize:55 say yes cheers to your health all ...   \n",
              "...                                                 ...   \n",
              "3189  Sumarize:what women want in a man has been rev...   \n",
              "3193  Sumarize:if youre a vegetarian we have some go...   \n",
              "3194  Sumarize:if you see a purple butterfly sticker...   \n",
              "3195  Sumarize:a long time ago in a galaxy far far a...   \n",
              "3196  Sumarize:the kansas city kansas police departm...   \n",
              "\n",
              "                                                 labels  \n",
              "0                   how about that morning we go throw?  \n",
              "5     Apple says that if AirPods are lost or stolen,...  \n",
              "6     \"The more good games I had in them, the more I...  \n",
              "7     rainbow colours in the sky and a halo spanning...  \n",
              "8     Red wine is clearly the drink of choice if you...  \n",
              "...                                                 ...  \n",
              "3189  almost every other part of a man is considered...  \n",
              "3193  may cut your risk for colorectal cancer -- the...  \n",
              "3194  one of her unborn twins had a condition called...  \n",
              "3195  it hasn’t necessarily taken the wind out of Yo...  \n",
              "3196             It read, \"Thanks for keeping us safe.\"  \n",
              "\n",
              "[1274 rows x 2 columns]"
            ],
            "text/html": [
              "\n",
              "  <div id=\"df-31c24350-5cf0-4651-a70e-f1f747cd58b6\">\n",
              "    <div class=\"colab-df-container\">\n",
              "      <div>\n",
              "<style scoped>\n",
              "    .dataframe tbody tr th:only-of-type {\n",
              "        vertical-align: middle;\n",
              "    }\n",
              "\n",
              "    .dataframe tbody tr th {\n",
              "        vertical-align: top;\n",
              "    }\n",
              "\n",
              "    .dataframe thead th {\n",
              "        text-align: right;\n",
              "    }\n",
              "</style>\n",
              "<table border=\"1\" class=\"dataframe\">\n",
              "  <thead>\n",
              "    <tr style=\"text-align: right;\">\n",
              "      <th></th>\n",
              "      <th>input_ids</th>\n",
              "      <th>labels</th>\n",
              "    </tr>\n",
              "  </thead>\n",
              "  <tbody>\n",
              "    <tr>\n",
              "      <th>0</th>\n",
              "      <td>Sumarize:it ’ ll be just like old times this w...</td>\n",
              "      <td>how about that morning we go throw?</td>\n",
              "    </tr>\n",
              "    <tr>\n",
              "      <th>5</th>\n",
              "      <td>Sumarize:one of the biggest surprise announcem...</td>\n",
              "      <td>Apple says that if AirPods are lost or stolen,...</td>\n",
              "    </tr>\n",
              "    <tr>\n",
              "      <th>6</th>\n",
              "      <td>Sumarize:june 14th 2016 33k shares they may lo...</td>\n",
              "      <td>\"The more good games I had in them, the more I...</td>\n",
              "    </tr>\n",
              "    <tr>\n",
              "      <th>7</th>\n",
              "      <td>Sumarize:it was cold and very foggy the temper...</td>\n",
              "      <td>rainbow colours in the sky and a halo spanning...</td>\n",
              "    </tr>\n",
              "    <tr>\n",
              "      <th>8</th>\n",
              "      <td>Sumarize:55 say yes cheers to your health all ...</td>\n",
              "      <td>Red wine is clearly the drink of choice if you...</td>\n",
              "    </tr>\n",
              "    <tr>\n",
              "      <th>...</th>\n",
              "      <td>...</td>\n",
              "      <td>...</td>\n",
              "    </tr>\n",
              "    <tr>\n",
              "      <th>3189</th>\n",
              "      <td>Sumarize:what women want in a man has been rev...</td>\n",
              "      <td>almost every other part of a man is considered...</td>\n",
              "    </tr>\n",
              "    <tr>\n",
              "      <th>3193</th>\n",
              "      <td>Sumarize:if youre a vegetarian we have some go...</td>\n",
              "      <td>may cut your risk for colorectal cancer -- the...</td>\n",
              "    </tr>\n",
              "    <tr>\n",
              "      <th>3194</th>\n",
              "      <td>Sumarize:if you see a purple butterfly sticker...</td>\n",
              "      <td>one of her unborn twins had a condition called...</td>\n",
              "    </tr>\n",
              "    <tr>\n",
              "      <th>3195</th>\n",
              "      <td>Sumarize:a long time ago in a galaxy far far a...</td>\n",
              "      <td>it hasn’t necessarily taken the wind out of Yo...</td>\n",
              "    </tr>\n",
              "    <tr>\n",
              "      <th>3196</th>\n",
              "      <td>Sumarize:the kansas city kansas police departm...</td>\n",
              "      <td>It read, \"Thanks for keeping us safe.\"</td>\n",
              "    </tr>\n",
              "  </tbody>\n",
              "</table>\n",
              "<p>1274 rows × 2 columns</p>\n",
              "</div>\n",
              "      <button class=\"colab-df-convert\" onclick=\"convertToInteractive('df-31c24350-5cf0-4651-a70e-f1f747cd58b6')\"\n",
              "              title=\"Convert this dataframe to an interactive table.\"\n",
              "              style=\"display:none;\">\n",
              "        \n",
              "  <svg xmlns=\"http://www.w3.org/2000/svg\" height=\"24px\"viewBox=\"0 0 24 24\"\n",
              "       width=\"24px\">\n",
              "    <path d=\"M0 0h24v24H0V0z\" fill=\"none\"/>\n",
              "    <path d=\"M18.56 5.44l.94 2.06.94-2.06 2.06-.94-2.06-.94-.94-2.06-.94 2.06-2.06.94zm-11 1L8.5 8.5l.94-2.06 2.06-.94-2.06-.94L8.5 2.5l-.94 2.06-2.06.94zm10 10l.94 2.06.94-2.06 2.06-.94-2.06-.94-.94-2.06-.94 2.06-2.06.94z\"/><path d=\"M17.41 7.96l-1.37-1.37c-.4-.4-.92-.59-1.43-.59-.52 0-1.04.2-1.43.59L10.3 9.45l-7.72 7.72c-.78.78-.78 2.05 0 2.83L4 21.41c.39.39.9.59 1.41.59.51 0 1.02-.2 1.41-.59l7.78-7.78 2.81-2.81c.8-.78.8-2.07 0-2.86zM5.41 20L4 18.59l7.72-7.72 1.47 1.35L5.41 20z\"/>\n",
              "  </svg>\n",
              "      </button>\n",
              "      \n",
              "  <style>\n",
              "    .colab-df-container {\n",
              "      display:flex;\n",
              "      flex-wrap:wrap;\n",
              "      gap: 12px;\n",
              "    }\n",
              "\n",
              "    .colab-df-convert {\n",
              "      background-color: #E8F0FE;\n",
              "      border: none;\n",
              "      border-radius: 50%;\n",
              "      cursor: pointer;\n",
              "      display: none;\n",
              "      fill: #1967D2;\n",
              "      height: 32px;\n",
              "      padding: 0 0 0 0;\n",
              "      width: 32px;\n",
              "    }\n",
              "\n",
              "    .colab-df-convert:hover {\n",
              "      background-color: #E2EBFA;\n",
              "      box-shadow: 0px 1px 2px rgba(60, 64, 67, 0.3), 0px 1px 3px 1px rgba(60, 64, 67, 0.15);\n",
              "      fill: #174EA6;\n",
              "    }\n",
              "\n",
              "    [theme=dark] .colab-df-convert {\n",
              "      background-color: #3B4455;\n",
              "      fill: #D2E3FC;\n",
              "    }\n",
              "\n",
              "    [theme=dark] .colab-df-convert:hover {\n",
              "      background-color: #434B5C;\n",
              "      box-shadow: 0px 1px 3px 1px rgba(0, 0, 0, 0.15);\n",
              "      filter: drop-shadow(0px 1px 2px rgba(0, 0, 0, 0.3));\n",
              "      fill: #FFFFFF;\n",
              "    }\n",
              "  </style>\n",
              "\n",
              "      <script>\n",
              "        const buttonEl =\n",
              "          document.querySelector('#df-31c24350-5cf0-4651-a70e-f1f747cd58b6 button.colab-df-convert');\n",
              "        buttonEl.style.display =\n",
              "          google.colab.kernel.accessAllowed ? 'block' : 'none';\n",
              "\n",
              "        async function convertToInteractive(key) {\n",
              "          const element = document.querySelector('#df-31c24350-5cf0-4651-a70e-f1f747cd58b6');\n",
              "          const dataTable =\n",
              "            await google.colab.kernel.invokeFunction('convertToInteractive',\n",
              "                                                     [key], {});\n",
              "          if (!dataTable) return;\n",
              "\n",
              "          const docLinkHtml = 'Like what you see? Visit the ' +\n",
              "            '<a target=\"_blank\" href=https://colab.research.google.com/notebooks/data_table.ipynb>data table notebook</a>'\n",
              "            + ' to learn more about interactive tables.';\n",
              "          element.innerHTML = '';\n",
              "          dataTable['output_type'] = 'display_data';\n",
              "          await google.colab.output.renderOutput(dataTable, element);\n",
              "          const docLink = document.createElement('div');\n",
              "          docLink.innerHTML = docLinkHtml;\n",
              "          element.appendChild(docLink);\n",
              "        }\n",
              "      </script>\n",
              "    </div>\n",
              "  </div>\n",
              "  "
            ]
          },
          "metadata": {},
          "execution_count": 34
        }
      ]
    },
    {
      "cell_type": "code",
      "source": [
        "df1_dict = data_to_process_train.to_dict(orient = 'list')"
      ],
      "metadata": {
        "id": "F1i8kSAGS6Nu"
      },
      "execution_count": 35,
      "outputs": []
    },
    {
      "cell_type": "code",
      "source": [
        "dict_train_ = Dataset.from_dict(df1_dict)"
      ],
      "metadata": {
        "id": "h_Nlb9A3S8NC"
      },
      "execution_count": 36,
      "outputs": []
    },
    {
      "cell_type": "code",
      "source": [
        "dict_train_"
      ],
      "metadata": {
        "colab": {
          "base_uri": "https://localhost:8080/"
        },
        "id": "bEwKebv7S9dB",
        "outputId": "0eecc04b-755a-4f23-e9de-bf5e11c7d48a"
      },
      "execution_count": 37,
      "outputs": [
        {
          "output_type": "execute_result",
          "data": {
            "text/plain": [
              "Dataset({\n",
              "    features: ['input_ids', 'labels'],\n",
              "    num_rows: 1274\n",
              "})"
            ]
          },
          "metadata": {},
          "execution_count": 37
        }
      ]
    },
    {
      "cell_type": "code",
      "source": [],
      "metadata": {
        "id": "0I6s18GWTEh4"
      },
      "execution_count": null,
      "outputs": []
    },
    {
      "cell_type": "code",
      "execution_count": 38,
      "metadata": {
        "id": "6OIHtPVMJuCN"
      },
      "outputs": [],
      "source": [
        "input_text = \"Sumarize:\" + new_df_validation[\"paragraph\"]\n",
        "target_text = new_df_validation[\"spoiler\"]\n",
        "\n",
        "data_to_process_validation = pd.DataFrame({ 'input_ids': input_text, 'labels':target_text})"
      ]
    },
    {
      "cell_type": "code",
      "source": [
        "data_to_process_train"
      ],
      "metadata": {
        "id": "ITkQI27MTCIR",
        "colab": {
          "base_uri": "https://localhost:8080/",
          "height": 424
        },
        "outputId": "89d508b1-2be8-4d8f-f519-a325de1ee792"
      },
      "execution_count": 39,
      "outputs": [
        {
          "output_type": "execute_result",
          "data": {
            "text/plain": [
              "                                              input_ids  \\\n",
              "0     Sumarize:it ’ ll be just like old times this w...   \n",
              "5     Sumarize:one of the biggest surprise announcem...   \n",
              "6     Sumarize:june 14th 2016 33k shares they may lo...   \n",
              "7     Sumarize:it was cold and very foggy the temper...   \n",
              "8     Sumarize:55 say yes cheers to your health all ...   \n",
              "...                                                 ...   \n",
              "3189  Sumarize:what women want in a man has been rev...   \n",
              "3193  Sumarize:if youre a vegetarian we have some go...   \n",
              "3194  Sumarize:if you see a purple butterfly sticker...   \n",
              "3195  Sumarize:a long time ago in a galaxy far far a...   \n",
              "3196  Sumarize:the kansas city kansas police departm...   \n",
              "\n",
              "                                                 labels  \n",
              "0                   how about that morning we go throw?  \n",
              "5     Apple says that if AirPods are lost or stolen,...  \n",
              "6     \"The more good games I had in them, the more I...  \n",
              "7     rainbow colours in the sky and a halo spanning...  \n",
              "8     Red wine is clearly the drink of choice if you...  \n",
              "...                                                 ...  \n",
              "3189  almost every other part of a man is considered...  \n",
              "3193  may cut your risk for colorectal cancer -- the...  \n",
              "3194  one of her unborn twins had a condition called...  \n",
              "3195  it hasn’t necessarily taken the wind out of Yo...  \n",
              "3196             It read, \"Thanks for keeping us safe.\"  \n",
              "\n",
              "[1274 rows x 2 columns]"
            ],
            "text/html": [
              "\n",
              "  <div id=\"df-8bfcd0ff-a9c6-49b8-8d88-be531fef8e16\">\n",
              "    <div class=\"colab-df-container\">\n",
              "      <div>\n",
              "<style scoped>\n",
              "    .dataframe tbody tr th:only-of-type {\n",
              "        vertical-align: middle;\n",
              "    }\n",
              "\n",
              "    .dataframe tbody tr th {\n",
              "        vertical-align: top;\n",
              "    }\n",
              "\n",
              "    .dataframe thead th {\n",
              "        text-align: right;\n",
              "    }\n",
              "</style>\n",
              "<table border=\"1\" class=\"dataframe\">\n",
              "  <thead>\n",
              "    <tr style=\"text-align: right;\">\n",
              "      <th></th>\n",
              "      <th>input_ids</th>\n",
              "      <th>labels</th>\n",
              "    </tr>\n",
              "  </thead>\n",
              "  <tbody>\n",
              "    <tr>\n",
              "      <th>0</th>\n",
              "      <td>Sumarize:it ’ ll be just like old times this w...</td>\n",
              "      <td>how about that morning we go throw?</td>\n",
              "    </tr>\n",
              "    <tr>\n",
              "      <th>5</th>\n",
              "      <td>Sumarize:one of the biggest surprise announcem...</td>\n",
              "      <td>Apple says that if AirPods are lost or stolen,...</td>\n",
              "    </tr>\n",
              "    <tr>\n",
              "      <th>6</th>\n",
              "      <td>Sumarize:june 14th 2016 33k shares they may lo...</td>\n",
              "      <td>\"The more good games I had in them, the more I...</td>\n",
              "    </tr>\n",
              "    <tr>\n",
              "      <th>7</th>\n",
              "      <td>Sumarize:it was cold and very foggy the temper...</td>\n",
              "      <td>rainbow colours in the sky and a halo spanning...</td>\n",
              "    </tr>\n",
              "    <tr>\n",
              "      <th>8</th>\n",
              "      <td>Sumarize:55 say yes cheers to your health all ...</td>\n",
              "      <td>Red wine is clearly the drink of choice if you...</td>\n",
              "    </tr>\n",
              "    <tr>\n",
              "      <th>...</th>\n",
              "      <td>...</td>\n",
              "      <td>...</td>\n",
              "    </tr>\n",
              "    <tr>\n",
              "      <th>3189</th>\n",
              "      <td>Sumarize:what women want in a man has been rev...</td>\n",
              "      <td>almost every other part of a man is considered...</td>\n",
              "    </tr>\n",
              "    <tr>\n",
              "      <th>3193</th>\n",
              "      <td>Sumarize:if youre a vegetarian we have some go...</td>\n",
              "      <td>may cut your risk for colorectal cancer -- the...</td>\n",
              "    </tr>\n",
              "    <tr>\n",
              "      <th>3194</th>\n",
              "      <td>Sumarize:if you see a purple butterfly sticker...</td>\n",
              "      <td>one of her unborn twins had a condition called...</td>\n",
              "    </tr>\n",
              "    <tr>\n",
              "      <th>3195</th>\n",
              "      <td>Sumarize:a long time ago in a galaxy far far a...</td>\n",
              "      <td>it hasn’t necessarily taken the wind out of Yo...</td>\n",
              "    </tr>\n",
              "    <tr>\n",
              "      <th>3196</th>\n",
              "      <td>Sumarize:the kansas city kansas police departm...</td>\n",
              "      <td>It read, \"Thanks for keeping us safe.\"</td>\n",
              "    </tr>\n",
              "  </tbody>\n",
              "</table>\n",
              "<p>1274 rows × 2 columns</p>\n",
              "</div>\n",
              "      <button class=\"colab-df-convert\" onclick=\"convertToInteractive('df-8bfcd0ff-a9c6-49b8-8d88-be531fef8e16')\"\n",
              "              title=\"Convert this dataframe to an interactive table.\"\n",
              "              style=\"display:none;\">\n",
              "        \n",
              "  <svg xmlns=\"http://www.w3.org/2000/svg\" height=\"24px\"viewBox=\"0 0 24 24\"\n",
              "       width=\"24px\">\n",
              "    <path d=\"M0 0h24v24H0V0z\" fill=\"none\"/>\n",
              "    <path d=\"M18.56 5.44l.94 2.06.94-2.06 2.06-.94-2.06-.94-.94-2.06-.94 2.06-2.06.94zm-11 1L8.5 8.5l.94-2.06 2.06-.94-2.06-.94L8.5 2.5l-.94 2.06-2.06.94zm10 10l.94 2.06.94-2.06 2.06-.94-2.06-.94-.94-2.06-.94 2.06-2.06.94z\"/><path d=\"M17.41 7.96l-1.37-1.37c-.4-.4-.92-.59-1.43-.59-.52 0-1.04.2-1.43.59L10.3 9.45l-7.72 7.72c-.78.78-.78 2.05 0 2.83L4 21.41c.39.39.9.59 1.41.59.51 0 1.02-.2 1.41-.59l7.78-7.78 2.81-2.81c.8-.78.8-2.07 0-2.86zM5.41 20L4 18.59l7.72-7.72 1.47 1.35L5.41 20z\"/>\n",
              "  </svg>\n",
              "      </button>\n",
              "      \n",
              "  <style>\n",
              "    .colab-df-container {\n",
              "      display:flex;\n",
              "      flex-wrap:wrap;\n",
              "      gap: 12px;\n",
              "    }\n",
              "\n",
              "    .colab-df-convert {\n",
              "      background-color: #E8F0FE;\n",
              "      border: none;\n",
              "      border-radius: 50%;\n",
              "      cursor: pointer;\n",
              "      display: none;\n",
              "      fill: #1967D2;\n",
              "      height: 32px;\n",
              "      padding: 0 0 0 0;\n",
              "      width: 32px;\n",
              "    }\n",
              "\n",
              "    .colab-df-convert:hover {\n",
              "      background-color: #E2EBFA;\n",
              "      box-shadow: 0px 1px 2px rgba(60, 64, 67, 0.3), 0px 1px 3px 1px rgba(60, 64, 67, 0.15);\n",
              "      fill: #174EA6;\n",
              "    }\n",
              "\n",
              "    [theme=dark] .colab-df-convert {\n",
              "      background-color: #3B4455;\n",
              "      fill: #D2E3FC;\n",
              "    }\n",
              "\n",
              "    [theme=dark] .colab-df-convert:hover {\n",
              "      background-color: #434B5C;\n",
              "      box-shadow: 0px 1px 3px 1px rgba(0, 0, 0, 0.15);\n",
              "      filter: drop-shadow(0px 1px 2px rgba(0, 0, 0, 0.3));\n",
              "      fill: #FFFFFF;\n",
              "    }\n",
              "  </style>\n",
              "\n",
              "      <script>\n",
              "        const buttonEl =\n",
              "          document.querySelector('#df-8bfcd0ff-a9c6-49b8-8d88-be531fef8e16 button.colab-df-convert');\n",
              "        buttonEl.style.display =\n",
              "          google.colab.kernel.accessAllowed ? 'block' : 'none';\n",
              "\n",
              "        async function convertToInteractive(key) {\n",
              "          const element = document.querySelector('#df-8bfcd0ff-a9c6-49b8-8d88-be531fef8e16');\n",
              "          const dataTable =\n",
              "            await google.colab.kernel.invokeFunction('convertToInteractive',\n",
              "                                                     [key], {});\n",
              "          if (!dataTable) return;\n",
              "\n",
              "          const docLinkHtml = 'Like what you see? Visit the ' +\n",
              "            '<a target=\"_blank\" href=https://colab.research.google.com/notebooks/data_table.ipynb>data table notebook</a>'\n",
              "            + ' to learn more about interactive tables.';\n",
              "          element.innerHTML = '';\n",
              "          dataTable['output_type'] = 'display_data';\n",
              "          await google.colab.output.renderOutput(dataTable, element);\n",
              "          const docLink = document.createElement('div');\n",
              "          docLink.innerHTML = docLinkHtml;\n",
              "          element.appendChild(docLink);\n",
              "        }\n",
              "      </script>\n",
              "    </div>\n",
              "  </div>\n",
              "  "
            ]
          },
          "metadata": {},
          "execution_count": 39
        }
      ]
    },
    {
      "cell_type": "code",
      "source": [
        "df2_dict = data_to_process_validation.to_dict(orient = 'list')"
      ],
      "metadata": {
        "id": "pMqO3WifTCIS"
      },
      "execution_count": 40,
      "outputs": []
    },
    {
      "cell_type": "code",
      "source": [
        "dict_validation_ = Dataset.from_dict(df2_dict)"
      ],
      "metadata": {
        "id": "iKgmI1-0TCIS"
      },
      "execution_count": 41,
      "outputs": []
    },
    {
      "cell_type": "code",
      "source": [
        "dict_validation_"
      ],
      "metadata": {
        "colab": {
          "base_uri": "https://localhost:8080/"
        },
        "outputId": "786b1403-6dab-4838-e1e5-693333ca1c45",
        "id": "syGKSURsTCIS"
      },
      "execution_count": 42,
      "outputs": [
        {
          "output_type": "execute_result",
          "data": {
            "text/plain": [
              "Dataset({\n",
              "    features: ['input_ids', 'labels'],\n",
              "    num_rows: 322\n",
              "})"
            ]
          },
          "metadata": {},
          "execution_count": 42
        }
      ]
    },
    {
      "cell_type": "code",
      "source": [],
      "metadata": {
        "id": "NjQ4s-iiTOvg"
      },
      "execution_count": null,
      "outputs": []
    },
    {
      "cell_type": "code",
      "execution_count": 43,
      "metadata": {
        "id": "wQdDEcSzJuCN"
      },
      "outputs": [],
      "source": [
        "input_text = \"Sumarize:\" + new_df_validation[\"paragraph\"] \n",
        "target_text = new_df_validation[\"spoiler\"]\n",
        "\n",
        "data_to_process_test = pd.DataFrame({ 'input_ids': input_text, 'labels':target_text})"
      ]
    },
    {
      "cell_type": "code",
      "source": [
        "data_to_process_test"
      ],
      "metadata": {
        "id": "_bi1j3d1TPMb",
        "colab": {
          "base_uri": "https://localhost:8080/",
          "height": 424
        },
        "outputId": "e55877ba-c699-42a8-cf07-6568389a447b"
      },
      "execution_count": 44,
      "outputs": [
        {
          "output_type": "execute_result",
          "data": {
            "text/plain": [
              "                                             input_ids  \\\n",
              "0    Sumarize:five nights at freddy ’ s creator sco...   \n",
              "4    Sumarize:petapixel is one of my favorite blogs...   \n",
              "7    Sumarize:from reading jk rowling ‘ s harry pot...   \n",
              "8    Sumarize:in the modern blockbuster world postc...   \n",
              "9    Sumarize:huge fan of all that drama on the hil...   \n",
              "..                                                 ...   \n",
              "792  Sumarize:have you ever come across an abandone...   \n",
              "793  Sumarize:reuters for years economists have bee...   \n",
              "794  Sumarize:it was a routine walk for one colorad...   \n",
              "795  Sumarize:instead of encountering a mound of di...   \n",
              "798  Sumarize:on 16 october 2016 wikileaks posted a...   \n",
              "\n",
              "                                                labels  \n",
              "0    some of the plot elements are so disturbing th...  \n",
              "4    a man who swallowed a 64GB microSD card and th...  \n",
              "7    McGonagall was appointed as Dumbledore’s assis...  \n",
              "8             All the scenes are actually in the movie  \n",
              "9    \"I had fake relationships, fake fights. I don'...  \n",
              "..                                                 ...  \n",
              "792  This was clearly a crack house, and he was sta...  \n",
              "793  China is too quick to rebalance its services s...  \n",
              "794  the plant the dog was chewing on was deadly wa...  \n",
              "795  The video below shows the stunned cleaner init...  \n",
              "798  Julian Assange’s internet link has been intent...  \n",
              "\n",
              "[322 rows x 2 columns]"
            ],
            "text/html": [
              "\n",
              "  <div id=\"df-0415235f-6add-4f24-bd0f-45dae6aace2f\">\n",
              "    <div class=\"colab-df-container\">\n",
              "      <div>\n",
              "<style scoped>\n",
              "    .dataframe tbody tr th:only-of-type {\n",
              "        vertical-align: middle;\n",
              "    }\n",
              "\n",
              "    .dataframe tbody tr th {\n",
              "        vertical-align: top;\n",
              "    }\n",
              "\n",
              "    .dataframe thead th {\n",
              "        text-align: right;\n",
              "    }\n",
              "</style>\n",
              "<table border=\"1\" class=\"dataframe\">\n",
              "  <thead>\n",
              "    <tr style=\"text-align: right;\">\n",
              "      <th></th>\n",
              "      <th>input_ids</th>\n",
              "      <th>labels</th>\n",
              "    </tr>\n",
              "  </thead>\n",
              "  <tbody>\n",
              "    <tr>\n",
              "      <th>0</th>\n",
              "      <td>Sumarize:five nights at freddy ’ s creator sco...</td>\n",
              "      <td>some of the plot elements are so disturbing th...</td>\n",
              "    </tr>\n",
              "    <tr>\n",
              "      <th>4</th>\n",
              "      <td>Sumarize:petapixel is one of my favorite blogs...</td>\n",
              "      <td>a man who swallowed a 64GB microSD card and th...</td>\n",
              "    </tr>\n",
              "    <tr>\n",
              "      <th>7</th>\n",
              "      <td>Sumarize:from reading jk rowling ‘ s harry pot...</td>\n",
              "      <td>McGonagall was appointed as Dumbledore’s assis...</td>\n",
              "    </tr>\n",
              "    <tr>\n",
              "      <th>8</th>\n",
              "      <td>Sumarize:in the modern blockbuster world postc...</td>\n",
              "      <td>All the scenes are actually in the movie</td>\n",
              "    </tr>\n",
              "    <tr>\n",
              "      <th>9</th>\n",
              "      <td>Sumarize:huge fan of all that drama on the hil...</td>\n",
              "      <td>\"I had fake relationships, fake fights. I don'...</td>\n",
              "    </tr>\n",
              "    <tr>\n",
              "      <th>...</th>\n",
              "      <td>...</td>\n",
              "      <td>...</td>\n",
              "    </tr>\n",
              "    <tr>\n",
              "      <th>792</th>\n",
              "      <td>Sumarize:have you ever come across an abandone...</td>\n",
              "      <td>This was clearly a crack house, and he was sta...</td>\n",
              "    </tr>\n",
              "    <tr>\n",
              "      <th>793</th>\n",
              "      <td>Sumarize:reuters for years economists have bee...</td>\n",
              "      <td>China is too quick to rebalance its services s...</td>\n",
              "    </tr>\n",
              "    <tr>\n",
              "      <th>794</th>\n",
              "      <td>Sumarize:it was a routine walk for one colorad...</td>\n",
              "      <td>the plant the dog was chewing on was deadly wa...</td>\n",
              "    </tr>\n",
              "    <tr>\n",
              "      <th>795</th>\n",
              "      <td>Sumarize:instead of encountering a mound of di...</td>\n",
              "      <td>The video below shows the stunned cleaner init...</td>\n",
              "    </tr>\n",
              "    <tr>\n",
              "      <th>798</th>\n",
              "      <td>Sumarize:on 16 october 2016 wikileaks posted a...</td>\n",
              "      <td>Julian Assange’s internet link has been intent...</td>\n",
              "    </tr>\n",
              "  </tbody>\n",
              "</table>\n",
              "<p>322 rows × 2 columns</p>\n",
              "</div>\n",
              "      <button class=\"colab-df-convert\" onclick=\"convertToInteractive('df-0415235f-6add-4f24-bd0f-45dae6aace2f')\"\n",
              "              title=\"Convert this dataframe to an interactive table.\"\n",
              "              style=\"display:none;\">\n",
              "        \n",
              "  <svg xmlns=\"http://www.w3.org/2000/svg\" height=\"24px\"viewBox=\"0 0 24 24\"\n",
              "       width=\"24px\">\n",
              "    <path d=\"M0 0h24v24H0V0z\" fill=\"none\"/>\n",
              "    <path d=\"M18.56 5.44l.94 2.06.94-2.06 2.06-.94-2.06-.94-.94-2.06-.94 2.06-2.06.94zm-11 1L8.5 8.5l.94-2.06 2.06-.94-2.06-.94L8.5 2.5l-.94 2.06-2.06.94zm10 10l.94 2.06.94-2.06 2.06-.94-2.06-.94-.94-2.06-.94 2.06-2.06.94z\"/><path d=\"M17.41 7.96l-1.37-1.37c-.4-.4-.92-.59-1.43-.59-.52 0-1.04.2-1.43.59L10.3 9.45l-7.72 7.72c-.78.78-.78 2.05 0 2.83L4 21.41c.39.39.9.59 1.41.59.51 0 1.02-.2 1.41-.59l7.78-7.78 2.81-2.81c.8-.78.8-2.07 0-2.86zM5.41 20L4 18.59l7.72-7.72 1.47 1.35L5.41 20z\"/>\n",
              "  </svg>\n",
              "      </button>\n",
              "      \n",
              "  <style>\n",
              "    .colab-df-container {\n",
              "      display:flex;\n",
              "      flex-wrap:wrap;\n",
              "      gap: 12px;\n",
              "    }\n",
              "\n",
              "    .colab-df-convert {\n",
              "      background-color: #E8F0FE;\n",
              "      border: none;\n",
              "      border-radius: 50%;\n",
              "      cursor: pointer;\n",
              "      display: none;\n",
              "      fill: #1967D2;\n",
              "      height: 32px;\n",
              "      padding: 0 0 0 0;\n",
              "      width: 32px;\n",
              "    }\n",
              "\n",
              "    .colab-df-convert:hover {\n",
              "      background-color: #E2EBFA;\n",
              "      box-shadow: 0px 1px 2px rgba(60, 64, 67, 0.3), 0px 1px 3px 1px rgba(60, 64, 67, 0.15);\n",
              "      fill: #174EA6;\n",
              "    }\n",
              "\n",
              "    [theme=dark] .colab-df-convert {\n",
              "      background-color: #3B4455;\n",
              "      fill: #D2E3FC;\n",
              "    }\n",
              "\n",
              "    [theme=dark] .colab-df-convert:hover {\n",
              "      background-color: #434B5C;\n",
              "      box-shadow: 0px 1px 3px 1px rgba(0, 0, 0, 0.15);\n",
              "      filter: drop-shadow(0px 1px 2px rgba(0, 0, 0, 0.3));\n",
              "      fill: #FFFFFF;\n",
              "    }\n",
              "  </style>\n",
              "\n",
              "      <script>\n",
              "        const buttonEl =\n",
              "          document.querySelector('#df-0415235f-6add-4f24-bd0f-45dae6aace2f button.colab-df-convert');\n",
              "        buttonEl.style.display =\n",
              "          google.colab.kernel.accessAllowed ? 'block' : 'none';\n",
              "\n",
              "        async function convertToInteractive(key) {\n",
              "          const element = document.querySelector('#df-0415235f-6add-4f24-bd0f-45dae6aace2f');\n",
              "          const dataTable =\n",
              "            await google.colab.kernel.invokeFunction('convertToInteractive',\n",
              "                                                     [key], {});\n",
              "          if (!dataTable) return;\n",
              "\n",
              "          const docLinkHtml = 'Like what you see? Visit the ' +\n",
              "            '<a target=\"_blank\" href=https://colab.research.google.com/notebooks/data_table.ipynb>data table notebook</a>'\n",
              "            + ' to learn more about interactive tables.';\n",
              "          element.innerHTML = '';\n",
              "          dataTable['output_type'] = 'display_data';\n",
              "          await google.colab.output.renderOutput(dataTable, element);\n",
              "          const docLink = document.createElement('div');\n",
              "          docLink.innerHTML = docLinkHtml;\n",
              "          element.appendChild(docLink);\n",
              "        }\n",
              "      </script>\n",
              "    </div>\n",
              "  </div>\n",
              "  "
            ]
          },
          "metadata": {},
          "execution_count": 44
        }
      ]
    },
    {
      "cell_type": "code",
      "source": [
        "df3_dict = data_to_process_test.to_dict(orient = 'list')"
      ],
      "metadata": {
        "id": "7n_Esb4vTTvU"
      },
      "execution_count": 45,
      "outputs": []
    },
    {
      "cell_type": "code",
      "source": [
        "dict_test_ = Dataset.from_dict(df3_dict)"
      ],
      "metadata": {
        "id": "rKf6SVPVTS12"
      },
      "execution_count": 46,
      "outputs": []
    },
    {
      "cell_type": "code",
      "source": [
        "dict_test_"
      ],
      "metadata": {
        "colab": {
          "base_uri": "https://localhost:8080/"
        },
        "id": "5tGwMo3pTSvJ",
        "outputId": "3567e30e-4cae-4950-f72b-33c6802d60d1"
      },
      "execution_count": 47,
      "outputs": [
        {
          "output_type": "execute_result",
          "data": {
            "text/plain": [
              "Dataset({\n",
              "    features: ['input_ids', 'labels'],\n",
              "    num_rows: 322\n",
              "})"
            ]
          },
          "metadata": {},
          "execution_count": 47
        }
      ]
    },
    {
      "cell_type": "code",
      "source": [],
      "metadata": {
        "id": "JJj91u7e-hwf"
      },
      "execution_count": null,
      "outputs": []
    },
    {
      "cell_type": "code",
      "source": [],
      "metadata": {
        "id": "Kjp7AVWmTSoe"
      },
      "execution_count": null,
      "outputs": []
    },
    {
      "cell_type": "code",
      "execution_count": null,
      "metadata": {
        "id": "3KFkpnsTJuCe"
      },
      "outputs": [],
      "source": [
        "# df1_dict = data_to_process_train.to_dict(orient = 'list')\n",
        "# df2_dict = data_to_process_validation.to_dict(orient = 'list')\n",
        "# df3_dict = data_to_process_test.to_dict(orient = 'list')\n",
        "\n",
        "\n",
        "# dict_train_ = Dataset.from_dict(df1_dict)\n",
        "# dict_validation_ = Dataset.from_dict(df2_dict)\n",
        "# dict_test_ = Dataset.from_dict(df3_dict)"
      ]
    },
    {
      "cell_type": "code",
      "execution_count": 48,
      "metadata": {
        "id": "NWT0IlleJuCe"
      },
      "outputs": [],
      "source": [
        "dict_all_2 = dataset_dict.DatasetDict({\"train\":dict_train_, \"validation\":dict_validation_, \"test\": dict_test_})"
      ]
    },
    {
      "cell_type": "code",
      "execution_count": 49,
      "metadata": {
        "colab": {
          "base_uri": "https://localhost:8080/"
        },
        "id": "jbgHTxwIJuCe",
        "outputId": "72ed4616-10d3-4a2b-ffa3-5eb8113e3b0c"
      },
      "outputs": [
        {
          "output_type": "execute_result",
          "data": {
            "text/plain": [
              "DatasetDict({\n",
              "    train: Dataset({\n",
              "        features: ['input_ids', 'labels'],\n",
              "        num_rows: 1274\n",
              "    })\n",
              "    validation: Dataset({\n",
              "        features: ['input_ids', 'labels'],\n",
              "        num_rows: 322\n",
              "    })\n",
              "    test: Dataset({\n",
              "        features: ['input_ids', 'labels'],\n",
              "        num_rows: 322\n",
              "    })\n",
              "})"
            ]
          },
          "metadata": {},
          "execution_count": 49
        }
      ],
      "source": [
        "dict_all_2"
      ]
    },
    {
      "cell_type": "code",
      "source": [
        "dict_train_"
      ],
      "metadata": {
        "colab": {
          "base_uri": "https://localhost:8080/"
        },
        "id": "_Gy8d8rTUAfo",
        "outputId": "87e2fd78-8e97-4360-ea7b-f729f516b612"
      },
      "execution_count": 50,
      "outputs": [
        {
          "output_type": "execute_result",
          "data": {
            "text/plain": [
              "Dataset({\n",
              "    features: ['input_ids', 'labels'],\n",
              "    num_rows: 1274\n",
              "})"
            ]
          },
          "metadata": {},
          "execution_count": 50
        }
      ]
    },
    {
      "cell_type": "code",
      "source": [
        "model = \"facebook/bart-large-cnn\""
      ],
      "metadata": {
        "id": "SGFNzXnNGixg"
      },
      "execution_count": 51,
      "outputs": []
    },
    {
      "cell_type": "code",
      "source": [
        "tokenizer1 = tokenizer.from_pretrained(\"facebook/bart-large-cnn\")"
      ],
      "metadata": {
        "id": "Mh9rVbGkGm8r"
      },
      "execution_count": 52,
      "outputs": []
    },
    {
      "cell_type": "code",
      "execution_count": 53,
      "metadata": {
        "id": "csMrWCrCJuCe"
      },
      "outputs": [],
      "source": [
        "def preprocess_data(example):\n",
        "    input_text = example['input_ids']\n",
        "    target_text = example['labels']\n",
        "\n",
        "    input_ids = tokenizer1(input_text, padding=\"max_length\", truncation=True, max_length= 1000).input_ids\n",
        "\n",
        "    with tokenizer1.as_target_tokenizer():\n",
        "      target_ids = tokenizer1(target_text, padding='max_length', truncation=True, max_length= 500).input_ids\n",
        "    # target_ids = tokenizer(target_text, padding=\"max_length\", truncation=True, max_length= 500, return_tensors=\"pt\").input_ids\n",
        "    \n",
        "    return {\"input_ids\": input_ids, \"labels\": target_ids}\n",
        "    # return {\"input_text\": input_text, \"target_text\": target_text}"
      ]
    },
    {
      "cell_type": "code",
      "execution_count": 54,
      "metadata": {
        "colab": {
          "base_uri": "https://localhost:8080/",
          "height": 17,
          "referenced_widgets": [
            "0aa0e822d11c4faf8342515b09228e0d",
            "655eb9348003419bbfaf0c7e629d6723",
            "8138124eabdd40d2a1d3f38fbe20a806",
            "83d9839d8df4472087cef7d1e565fd63",
            "bf95ce0e6ecf4864a0988023c0fb47db",
            "8608703b693a46b596c81c30d329b42a",
            "a9c32626a7454c579844bc32f2c33560",
            "fc3d705d39b4416ebeee83f87d7979b1",
            "a3e29ad2e8804b198efbdaa39c60b3d3",
            "c4f819ff7a5e40d8b08e3259efc57950",
            "d25cc9ede67b468fa181674026811737",
            "b7c0e211e02b4a8dab9545b12f4e230b",
            "9ad4e4ad11c44fb3a2b0b8c5e899bea2",
            "d762534d5ec64b9b9cd0961176d2ae7d",
            "7171b95099af4282b126872a5af37905",
            "e0a33fc0c73f47d98873ddc06b24f4cc",
            "bb490652bfdc46f9ad8e7d7d45f16f88",
            "974eabbbc8ec4528b5316e41355040ac",
            "e52d770c77e442ad9412ceca69faaa03",
            "a055465b7eaf43609987015218cba7ac",
            "15d0a2d4077145c3a1fe5cf70a211ae6",
            "9d41b646baaa4e20afed4065055f61e5"
          ]
        },
        "id": "VBLrldYhJuCe",
        "outputId": "ba08bc75-cbff-4dd1-c6b5-b13449d8e3e0"
      },
      "outputs": [
        {
          "output_type": "display_data",
          "data": {
            "text/plain": [
              "Map:   0%|          | 0/1274 [00:00<?, ? examples/s]"
            ],
            "application/vnd.jupyter.widget-view+json": {
              "version_major": 2,
              "version_minor": 0,
              "model_id": "0aa0e822d11c4faf8342515b09228e0d"
            }
          },
          "metadata": {}
        },
        {
          "output_type": "display_data",
          "data": {
            "text/plain": [
              "Map:   0%|          | 0/322 [00:00<?, ? examples/s]"
            ],
            "application/vnd.jupyter.widget-view+json": {
              "version_major": 2,
              "version_minor": 0,
              "model_id": "b7c0e211e02b4a8dab9545b12f4e230b"
            }
          },
          "metadata": {}
        }
      ],
      "source": [
        "train_dataset = dict_train_\n",
        "test_dataset = dict_validation_\n",
        "\n",
        "train_dataset_processed = train_dataset.map(preprocess_data)\n",
        "test_dataset_processed = test_dataset.map(preprocess_data)"
      ]
    },
    {
      "cell_type": "code",
      "source": [
        "train_dataset_processed"
      ],
      "metadata": {
        "colab": {
          "base_uri": "https://localhost:8080/"
        },
        "id": "WhrX9lRTOMr9",
        "outputId": "bf78703c-af38-4a14-aab7-776079013315"
      },
      "execution_count": 55,
      "outputs": [
        {
          "output_type": "execute_result",
          "data": {
            "text/plain": [
              "Dataset({\n",
              "    features: ['input_ids', 'labels'],\n",
              "    num_rows: 1274\n",
              "})"
            ]
          },
          "metadata": {},
          "execution_count": 55
        }
      ]
    },
    {
      "cell_type": "code",
      "source": [
        "test_dataset_processed"
      ],
      "metadata": {
        "colab": {
          "base_uri": "https://localhost:8080/"
        },
        "id": "l5Iq83r3ONzD",
        "outputId": "6e36c53a-7817-4e40-e363-235e8b186d83"
      },
      "execution_count": 56,
      "outputs": [
        {
          "output_type": "execute_result",
          "data": {
            "text/plain": [
              "Dataset({\n",
              "    features: ['input_ids', 'labels'],\n",
              "    num_rows: 322\n",
              "})"
            ]
          },
          "metadata": {},
          "execution_count": 56
        }
      ]
    },
    {
      "cell_type": "code",
      "source": [
        "from transformers import pipeline\n",
        "import requests\n",
        "import pprint\n",
        "import time\n",
        "pp = pprint.PrettyPrinter(indent=14)\n",
        "\n",
        "from transformers import BartTokenizer, BartForConditionalGeneration\n",
        "# import wandb\n",
        "\n",
        "# tokenizer = T5Tokenizer.from_pretrained(\"t5-small\")\n",
        "# model = T5ForConditionalGeneration.from_pretrained('t5-small')"
      ],
      "metadata": {
        "id": "JaZJ7hhsObu8"
      },
      "execution_count": 57,
      "outputs": []
    },
    {
      "cell_type": "code",
      "execution_count": 58,
      "metadata": {
        "id": "oAaz3qthJuCe",
        "colab": {
          "base_uri": "https://localhost:8080/",
          "height": 81,
          "referenced_widgets": [
            "3d86ccb51cc741359515ad783f74b428",
            "3a750867c05c43fbb5c9f628f3a06eb9",
            "a3024cd8483545f4bf9598c1675ed7aa",
            "f0d5233bdb4e4701a4a13b88e37e6ba8",
            "a4e0e756fca2444a8c9e61caa6206828",
            "e19b31c6ac674d88b9250c321b7a1083",
            "f95a3b5a5f8542da95fd9d9b00a96ab1",
            "3c21bc1daeb8467b880aff72f8ff83fa",
            "0d5acb71ce0441628ab8ec49fa556125",
            "a39fa39002004196b4962badaeb28ab1",
            "a4c8a2320f13479e8078e83289d3474c",
            "e8293b80bfce434ea14abf34b6236dbb",
            "1f62b427134542129f76be494c6e726e",
            "b2ad347a350e478dba89c65a16e5e62a",
            "98e1005bcb9c43d99f0ea3871c593c3a",
            "90d35caae666440da86465fc2100ae2e",
            "7a80395ac7e441348559bd1528f5d8fb",
            "5ba0fc5df91349c4b431e528a8c4aae5",
            "4d47782fa1834570ac7e441a769f8cad",
            "09b5cefc267b4ac8ad460efe9c2fd0ec",
            "07a99e00213b4be8a607b517fda33d72",
            "638e3b8aaafc429dbe15c9fa26f08c61"
          ]
        },
        "outputId": "9f4bdf0d-8325-4945-a64b-22229583ce6b"
      },
      "outputs": [
        {
          "output_type": "display_data",
          "data": {
            "text/plain": [
              "Downloading pytorch_model.bin:   0%|          | 0.00/1.63G [00:00<?, ?B/s]"
            ],
            "application/vnd.jupyter.widget-view+json": {
              "version_major": 2,
              "version_minor": 0,
              "model_id": "3d86ccb51cc741359515ad783f74b428"
            }
          },
          "metadata": {}
        },
        {
          "output_type": "display_data",
          "data": {
            "text/plain": [
              "Downloading (…)neration_config.json:   0%|          | 0.00/363 [00:00<?, ?B/s]"
            ],
            "application/vnd.jupyter.widget-view+json": {
              "version_major": 2,
              "version_minor": 0,
              "model_id": "e8293b80bfce434ea14abf34b6236dbb"
            }
          },
          "metadata": {}
        }
      ],
      "source": [
        "model_name = \"facebook/bart-large-cnn\"\n",
        "\n",
        "tokenizer = AutoTokenizer.from_pretrained(model_name)\n",
        "model = BartForConditionalGeneration.from_pretrained(model_name, num_labels = 4)"
      ]
    },
    {
      "cell_type": "code",
      "source": [
        "!pip install bert_score"
      ],
      "metadata": {
        "colab": {
          "base_uri": "https://localhost:8080/"
        },
        "id": "DYUxqcCMOirw",
        "outputId": "6462ddb2-e5f0-4dd5-e1b7-0f3012ffe8de"
      },
      "execution_count": 59,
      "outputs": [
        {
          "output_type": "stream",
          "name": "stdout",
          "text": [
            "Looking in indexes: https://pypi.org/simple, https://us-python.pkg.dev/colab-wheels/public/simple/\n",
            "Collecting bert_score\n",
            "  Downloading bert_score-0.3.13-py3-none-any.whl (61 kB)\n",
            "\u001b[2K     \u001b[90m━━━━━━━━━━━━━━━━━━━━━━━━━━━━━━━━━━━━━━━\u001b[0m \u001b[32m61.1/61.1 kB\u001b[0m \u001b[31m201.4 kB/s\u001b[0m eta \u001b[36m0:00:00\u001b[0m\n",
            "\u001b[?25hRequirement already satisfied: torch>=1.0.0 in /usr/local/lib/python3.10/dist-packages (from bert_score) (2.0.0+cu118)\n",
            "Requirement already satisfied: pandas>=1.0.1 in /usr/local/lib/python3.10/dist-packages (from bert_score) (1.5.3)\n",
            "Requirement already satisfied: transformers>=3.0.0 in /usr/local/lib/python3.10/dist-packages (from bert_score) (4.29.1)\n",
            "Requirement already satisfied: numpy in /usr/local/lib/python3.10/dist-packages (from bert_score) (1.22.4)\n",
            "Requirement already satisfied: requests in /usr/local/lib/python3.10/dist-packages (from bert_score) (2.27.1)\n",
            "Requirement already satisfied: tqdm>=4.31.1 in /usr/local/lib/python3.10/dist-packages (from bert_score) (4.65.0)\n",
            "Requirement already satisfied: matplotlib in /usr/local/lib/python3.10/dist-packages (from bert_score) (3.7.1)\n",
            "Requirement already satisfied: packaging>=20.9 in /usr/local/lib/python3.10/dist-packages (from bert_score) (23.1)\n",
            "Requirement already satisfied: python-dateutil>=2.8.1 in /usr/local/lib/python3.10/dist-packages (from pandas>=1.0.1->bert_score) (2.8.2)\n",
            "Requirement already satisfied: pytz>=2020.1 in /usr/local/lib/python3.10/dist-packages (from pandas>=1.0.1->bert_score) (2022.7.1)\n",
            "Requirement already satisfied: filelock in /usr/local/lib/python3.10/dist-packages (from torch>=1.0.0->bert_score) (3.12.0)\n",
            "Requirement already satisfied: typing-extensions in /usr/local/lib/python3.10/dist-packages (from torch>=1.0.0->bert_score) (4.5.0)\n",
            "Requirement already satisfied: sympy in /usr/local/lib/python3.10/dist-packages (from torch>=1.0.0->bert_score) (1.11.1)\n",
            "Requirement already satisfied: networkx in /usr/local/lib/python3.10/dist-packages (from torch>=1.0.0->bert_score) (3.1)\n",
            "Requirement already satisfied: jinja2 in /usr/local/lib/python3.10/dist-packages (from torch>=1.0.0->bert_score) (3.1.2)\n",
            "Requirement already satisfied: triton==2.0.0 in /usr/local/lib/python3.10/dist-packages (from torch>=1.0.0->bert_score) (2.0.0)\n",
            "Requirement already satisfied: cmake in /usr/local/lib/python3.10/dist-packages (from triton==2.0.0->torch>=1.0.0->bert_score) (3.25.2)\n",
            "Requirement already satisfied: lit in /usr/local/lib/python3.10/dist-packages (from triton==2.0.0->torch>=1.0.0->bert_score) (16.0.3)\n",
            "Requirement already satisfied: huggingface-hub<1.0,>=0.14.1 in /usr/local/lib/python3.10/dist-packages (from transformers>=3.0.0->bert_score) (0.14.1)\n",
            "Requirement already satisfied: pyyaml>=5.1 in /usr/local/lib/python3.10/dist-packages (from transformers>=3.0.0->bert_score) (6.0)\n",
            "Requirement already satisfied: regex!=2019.12.17 in /usr/local/lib/python3.10/dist-packages (from transformers>=3.0.0->bert_score) (2022.10.31)\n",
            "Requirement already satisfied: tokenizers!=0.11.3,<0.14,>=0.11.1 in /usr/local/lib/python3.10/dist-packages (from transformers>=3.0.0->bert_score) (0.13.3)\n",
            "Requirement already satisfied: contourpy>=1.0.1 in /usr/local/lib/python3.10/dist-packages (from matplotlib->bert_score) (1.0.7)\n",
            "Requirement already satisfied: cycler>=0.10 in /usr/local/lib/python3.10/dist-packages (from matplotlib->bert_score) (0.11.0)\n",
            "Requirement already satisfied: fonttools>=4.22.0 in /usr/local/lib/python3.10/dist-packages (from matplotlib->bert_score) (4.39.3)\n",
            "Requirement already satisfied: kiwisolver>=1.0.1 in /usr/local/lib/python3.10/dist-packages (from matplotlib->bert_score) (1.4.4)\n",
            "Requirement already satisfied: pillow>=6.2.0 in /usr/local/lib/python3.10/dist-packages (from matplotlib->bert_score) (8.4.0)\n",
            "Requirement already satisfied: pyparsing>=2.3.1 in /usr/local/lib/python3.10/dist-packages (from matplotlib->bert_score) (3.0.9)\n",
            "Requirement already satisfied: urllib3<1.27,>=1.21.1 in /usr/local/lib/python3.10/dist-packages (from requests->bert_score) (1.26.15)\n",
            "Requirement already satisfied: certifi>=2017.4.17 in /usr/local/lib/python3.10/dist-packages (from requests->bert_score) (2022.12.7)\n",
            "Requirement already satisfied: charset-normalizer~=2.0.0 in /usr/local/lib/python3.10/dist-packages (from requests->bert_score) (2.0.12)\n",
            "Requirement already satisfied: idna<4,>=2.5 in /usr/local/lib/python3.10/dist-packages (from requests->bert_score) (3.4)\n",
            "Requirement already satisfied: fsspec in /usr/local/lib/python3.10/dist-packages (from huggingface-hub<1.0,>=0.14.1->transformers>=3.0.0->bert_score) (2023.4.0)\n",
            "Requirement already satisfied: six>=1.5 in /usr/local/lib/python3.10/dist-packages (from python-dateutil>=2.8.1->pandas>=1.0.1->bert_score) (1.16.0)\n",
            "Requirement already satisfied: MarkupSafe>=2.0 in /usr/local/lib/python3.10/dist-packages (from jinja2->torch>=1.0.0->bert_score) (2.1.2)\n",
            "Requirement already satisfied: mpmath>=0.19 in /usr/local/lib/python3.10/dist-packages (from sympy->torch>=1.0.0->bert_score) (1.3.0)\n",
            "Installing collected packages: bert_score\n",
            "Successfully installed bert_score-0.3.13\n"
          ]
        }
      ]
    },
    {
      "cell_type": "code",
      "execution_count": 60,
      "metadata": {
        "colab": {
          "base_uri": "https://localhost:8080/",
          "height": 234,
          "referenced_widgets": [
            "a7971b03d4af4c7fa51e36c1053a5bdb",
            "84e6c2a186664b7d8e2a2b31e39e4fb4",
            "d8b3cf47be67447ea708744030a228db",
            "4dbe4ad5dd6149d1b443ac1d2badeb85",
            "778e874f6b374a969d701e8b22e6b2b9",
            "d37cbd52b97c4a2fa5dbf660c1525d5e",
            "a588784ae5234cfa860d572c7726e8b4",
            "c339c5f8613247528e0847c344fb9768",
            "b4193d5ed0e04e14ba404436205ebc7c",
            "dad22f355e324ba0bd12c0ca2fe07684",
            "64c70de6c9854c4685f333417e435e2e",
            "5d8c74bc1f8941a0a20e27634156eef7",
            "4c8b74cf597948789986072b1634d827",
            "d506ee3439bd439585db3a8a06a6e910",
            "59322d7744b246b0be164baf1a073c0f",
            "96bac623dca244d295cd26c622c5aa44",
            "ac1cfafb18e049698f1ec055b035da79",
            "84ed0ae607064da197572417baa942a1",
            "1d69c87e232e4743b3f2a43b7e42bf6d",
            "5e4fb161e5bf4dfe8488564a6e4e3607",
            "b47b1504df0a47dfaa8bd0b98a858fee",
            "1a17cc5f924041bb8413e1898e829282",
            "93580dc5fc0d4481b496524be57fa738",
            "1bfb4a273ece40a98d67f64ad2117cac",
            "9aaaf36669b54c3197c2e02dcaa6f6d8",
            "47e2aa10c46a49c6bc3a27613d7db0a0",
            "37b4fe86a44e471bb1e7586a108c7629",
            "f164068fd86b4075a225968124dc889c",
            "18e73c7568a84c80824a1b20a7878a4d",
            "458e4b1f592d45f680eb2cd3ecda20f5",
            "d88b8e776c31483e8c4153314cce3e36",
            "481898572ddc440b9961ae732b591f2c",
            "30b5f8cfcf064ff7b96b4d954106c570",
            "2bb9c711cae24f35b0ac824a60eed4ed",
            "1b78a50e5e894e64be341626a640601a",
            "ecb8b08842c748d9a186a7dcc0baab54",
            "7f0d366c06ea4d1a9f21c8ce87417e1d",
            "331edeb9365e4a2f876466a521503196",
            "697486435ab24149b70f3198d072c612",
            "2870aced997f47b8a95f1298ff64825b",
            "23cdf379527e4814a97f30d7515a82e1",
            "5054f7d1dbf74f038047900333783432",
            "454f7a6171f04a0b881d4567e6aa84d7",
            "2ee75b62a5b148108b26c5e966715306"
          ]
        },
        "id": "k9fxL-C6JuCf",
        "outputId": "93856ceb-208a-4625-866f-089f7487722f"
      },
      "outputs": [
        {
          "output_type": "display_data",
          "data": {
            "text/plain": [
              "Downloading builder script:   0%|          | 0.00/2.48k [00:00<?, ?B/s]"
            ],
            "application/vnd.jupyter.widget-view+json": {
              "version_major": 2,
              "version_minor": 0,
              "model_id": "a7971b03d4af4c7fa51e36c1053a5bdb"
            }
          },
          "metadata": {}
        },
        {
          "output_type": "display_data",
          "data": {
            "text/plain": [
              "Downloading extra modules:   0%|          | 0.00/1.55k [00:00<?, ?B/s]"
            ],
            "application/vnd.jupyter.widget-view+json": {
              "version_major": 2,
              "version_minor": 0,
              "model_id": "5d8c74bc1f8941a0a20e27634156eef7"
            }
          },
          "metadata": {}
        },
        {
          "output_type": "display_data",
          "data": {
            "text/plain": [
              "Downloading builder script:   0%|          | 0.00/2.20k [00:00<?, ?B/s]"
            ],
            "application/vnd.jupyter.widget-view+json": {
              "version_major": 2,
              "version_minor": 0,
              "model_id": "93580dc5fc0d4481b496524be57fa738"
            }
          },
          "metadata": {}
        },
        {
          "output_type": "stream",
          "name": "stderr",
          "text": [
            "[nltk_data] Downloading package wordnet to /root/nltk_data...\n",
            "[nltk_data]   Package wordnet is already up-to-date!\n",
            "[nltk_data] Downloading package punkt to /root/nltk_data...\n",
            "[nltk_data]   Package punkt is already up-to-date!\n",
            "[nltk_data] Downloading package omw-1.4 to /root/nltk_data...\n"
          ]
        },
        {
          "output_type": "display_data",
          "data": {
            "text/plain": [
              "Downloading builder script:   0%|          | 0.00/2.92k [00:00<?, ?B/s]"
            ],
            "application/vnd.jupyter.widget-view+json": {
              "version_major": 2,
              "version_minor": 0,
              "model_id": "2bb9c711cae24f35b0ac824a60eed4ed"
            }
          },
          "metadata": {}
        }
      ],
      "source": [
        "bleu_metric = load_metric(\"bleu\")\n",
        "meteor_metric = load_metric(\"meteor\")\n",
        "bertscore_metric = load_metric(\"bertscore\")"
      ]
    },
    {
      "cell_type": "code",
      "execution_count": 61,
      "metadata": {
        "id": "GMnXEXDUJuCf"
      },
      "outputs": [],
      "source": [
        "#out_1 = []\n",
        "#out_2 = []\n",
        "\n",
        "def compute_metrics(eval_pred):\n",
        "    logits_full, labels = eval_pred\n",
        "\n",
        "    #out_1.append(logits_full[0])\n",
        "    #out_2.append(logits_full[1])\n",
        "\n",
        "    predicted_token_ids = torch.argmax(torch.tensor(logits_full[0]), dim=-1).tolist()\n",
        "    decoded_preds = tokenizer.batch_decode(predicted_token_ids, skip_special_tokens=True)\n",
        "    decoded_labels = tokenizer.batch_decode(labels, skip_special_tokens=True)\n",
        "\n",
        "    decoded_preds_bleu = [pred.split() for pred in decoded_preds]\n",
        "    decoded_labels_bleu = [[pred.split()] for pred in decoded_labels]\n",
        "    \n",
        "    bleu_score = bleu_metric.compute(predictions=decoded_preds_bleu, references= decoded_labels_bleu)\n",
        "    meteor_score = meteor_metric.compute(predictions=decoded_preds, references=decoded_labels)\n",
        "    bertscore_score = bertscore_metric.compute(predictions=decoded_preds, references=decoded_labels, lang = 'en')\n",
        "    \n",
        "    return {\"bleu\": bleu_score[\"bleu\"], \"meteor\": meteor_score[\"meteor\"], \"bertscore\": np.mean(bertscore_score[\"f1\"])}"
      ]
    },
    {
      "cell_type": "code",
      "execution_count": 62,
      "metadata": {
        "id": "CHFTOn1fJuCf"
      },
      "outputs": [],
      "source": [
        "import shutil\n"
      ]
    },
    {
      "cell_type": "code",
      "source": [
        "# model.to(\"cuda\")"
      ],
      "metadata": {
        "id": "ZYwVM3im0bff"
      },
      "execution_count": null,
      "outputs": []
    },
    {
      "cell_type": "code",
      "execution_count": 63,
      "metadata": {
        "id": "LSp8hvOVJuCf"
      },
      "outputs": [],
      "source": [
        "training_args = TrainingArguments(\n",
        "    output_dir=f\"/content/drive/MyDrive/Bart_finetuning_passage_results_conditional_phrase_sizelimited\",\n",
        "    num_train_epochs=2,\n",
        "    per_device_train_batch_size=2,\n",
        "    per_device_eval_batch_size=2,\n",
        "    # gradient_accumulation_steps=2,\n",
        "    evaluation_strategy=\"epoch\",\n",
        "    # logging_steps=100,\n",
        "    learning_rate=2e-5,\n",
        "    weight_decay=0.01,\n",
        "    save_total_limit=3,\n",
        "    # predict_with_generate=True,\n",
        "    fp16=True,\n",
        "    # save_strategy=\"epoch\"\n",
        "\n",
        ")\n",
        "\n",
        "\n",
        "trainer = Trainer(\n",
        "    model=model,\n",
        "    args=training_args,\n",
        "    train_dataset=train_dataset_processed,\n",
        "    eval_dataset=test_dataset_processed,\n",
        "    tokenizer=tokenizer,\n",
        "    # data_collator=data_collator,\n",
        "    # compute_metrics=compute_metrics\n",
        ")\n"
      ]
    },
    {
      "cell_type": "code",
      "source": [
        "pre_metrics = trainer.evaluate()"
      ],
      "metadata": {
        "colab": {
          "base_uri": "https://localhost:8080/",
          "height": 75
        },
        "id": "eKeTe_vgDW6h",
        "outputId": "00e83c50-9192-4d53-f12d-2a4cec7f89a4"
      },
      "execution_count": null,
      "outputs": [
        {
          "output_type": "stream",
          "name": "stderr",
          "text": [
            "You're using a BartTokenizerFast tokenizer. Please note that with a fast tokenizer, using the `__call__` method is faster than using a method to encode the text followed by a call to the `pad` method to get a padded encoding.\n"
          ]
        },
        {
          "output_type": "display_data",
          "data": {
            "text/plain": [
              "<IPython.core.display.HTML object>"
            ],
            "text/html": [
              "\n",
              "    <div>\n",
              "      \n",
              "      <progress value='161' max='161' style='width:300px; height:20px; vertical-align: middle;'></progress>\n",
              "      [161/161 00:27]\n",
              "    </div>\n",
              "    "
            ]
          },
          "metadata": {}
        }
      ]
    },
    {
      "cell_type": "code",
      "source": [
        "pre_metrics"
      ],
      "metadata": {
        "colab": {
          "base_uri": "https://localhost:8080/"
        },
        "id": "OTIPSUi1DauR",
        "outputId": "8f922162-d02d-43dd-bfe9-3ca6d3cc3780"
      },
      "execution_count": null,
      "outputs": [
        {
          "output_type": "execute_result",
          "data": {
            "text/plain": [
              "{'eval_loss': 11.475807189941406,\n",
              " 'eval_runtime': 30.6288,\n",
              " 'eval_samples_per_second': 10.513,\n",
              " 'eval_steps_per_second': 5.256}"
            ]
          },
          "metadata": {},
          "execution_count": 81
        }
      ]
    },
    {
      "cell_type": "code",
      "source": [
        "trainer.train()"
      ],
      "metadata": {
        "colab": {
          "base_uri": "https://localhost:8080/",
          "height": 230
        },
        "id": "6dvPsR8xVQFY",
        "outputId": "2d446b2f-b14c-486c-fb44-bffba881b6c5"
      },
      "execution_count": 64,
      "outputs": [
        {
          "output_type": "stream",
          "name": "stderr",
          "text": [
            "You're using a BartTokenizerFast tokenizer. Please note that with a fast tokenizer, using the `__call__` method is faster than using a method to encode the text followed by a call to the `pad` method to get a padded encoding.\n"
          ]
        },
        {
          "output_type": "display_data",
          "data": {
            "text/plain": [
              "<IPython.core.display.HTML object>"
            ],
            "text/html": [
              "\n",
              "    <div>\n",
              "      \n",
              "      <progress value='1274' max='1274' style='width:300px; height:20px; vertical-align: middle;'></progress>\n",
              "      [1274/1274 15:48, Epoch 2/2]\n",
              "    </div>\n",
              "    <table border=\"1\" class=\"dataframe\">\n",
              "  <thead>\n",
              " <tr style=\"text-align: left;\">\n",
              "      <th>Epoch</th>\n",
              "      <th>Training Loss</th>\n",
              "      <th>Validation Loss</th>\n",
              "    </tr>\n",
              "  </thead>\n",
              "  <tbody>\n",
              "    <tr>\n",
              "      <td>1</td>\n",
              "      <td>0.441400</td>\n",
              "      <td>0.042594</td>\n",
              "    </tr>\n",
              "    <tr>\n",
              "      <td>2</td>\n",
              "      <td>0.030500</td>\n",
              "      <td>0.041193</td>\n",
              "    </tr>\n",
              "  </tbody>\n",
              "</table><p>"
            ]
          },
          "metadata": {}
        },
        {
          "output_type": "execute_result",
          "data": {
            "text/plain": [
              "TrainOutput(global_step=1274, training_loss=0.1903843056276043, metrics={'train_runtime': 952.2931, 'train_samples_per_second': 2.676, 'train_steps_per_second': 1.338, 'total_flos': 5392365748224000.0, 'train_loss': 0.1903843056276043, 'epoch': 2.0})"
            ]
          },
          "metadata": {},
          "execution_count": 64
        }
      ]
    },
    {
      "cell_type": "code",
      "source": [
        "metrics = trainer.evaluate()\n"
      ],
      "metadata": {
        "colab": {
          "base_uri": "https://localhost:8080/",
          "height": 37
        },
        "id": "pmAQuSJiVTxT",
        "outputId": "d5d612ac-2a2e-4300-c625-141e55696ef6"
      },
      "execution_count": null,
      "outputs": [
        {
          "output_type": "display_data",
          "data": {
            "text/plain": [
              "<IPython.core.display.HTML object>"
            ],
            "text/html": [
              "\n",
              "    <div>\n",
              "      \n",
              "      <progress value='161' max='161' style='width:300px; height:20px; vertical-align: middle;'></progress>\n",
              "      [161/161 00:31]\n",
              "    </div>\n",
              "    "
            ]
          },
          "metadata": {}
        }
      ]
    },
    {
      "cell_type": "code",
      "execution_count": null,
      "metadata": {
        "colab": {
          "base_uri": "https://localhost:8080/"
        },
        "id": "cNMyCHFDJuCf",
        "outputId": "9aebfaed-1b6c-4a7f-c963-1c1977a5a42c"
      },
      "outputs": [
        {
          "output_type": "execute_result",
          "data": {
            "text/plain": [
              "{'eval_loss': 0.041192736476659775,\n",
              " 'eval_runtime': 31.5098,\n",
              " 'eval_samples_per_second': 10.219,\n",
              " 'eval_steps_per_second': 5.11,\n",
              " 'epoch': 2.0}"
            ]
          },
          "metadata": {},
          "execution_count": 68
        }
      ],
      "source": [
        "metrics"
      ]
    },
    {
      "cell_type": "code",
      "source": [],
      "metadata": {
        "id": "WAE-IAzA3Ay2"
      },
      "execution_count": null,
      "outputs": []
    },
    {
      "cell_type": "code",
      "source": [
        "# filename = 'Bart_conditional_finetuning_no_tags_phrase_results_model.sav'\n",
        "# pickle.dump(trainer, open(filename, 'wb'))\n",
        "  "
      ],
      "metadata": {
        "id": "7YQnyMxX3BIN"
      },
      "execution_count": null,
      "outputs": []
    },
    {
      "cell_type": "code",
      "source": [],
      "metadata": {
        "id": "d-2WA4Po37U8"
      },
      "execution_count": null,
      "outputs": []
    },
    {
      "cell_type": "code",
      "source": [
        "# !zip -r /content/Bart_phrase_finetuned.zip /content/drive/MyDrive/Bart_finetuning_phrase_results_conditional_phrase_sizelimited/checkpoint-500"
      ],
      "metadata": {
        "id": "gATXmE_f37-5"
      },
      "execution_count": null,
      "outputs": []
    },
    {
      "cell_type": "code",
      "source": [
        "# from google.colab import files\n",
        "# files.download(\"/content/Bart_phrase_finetuned.zip\")"
      ],
      "metadata": {
        "id": "pZvfOv9_4efd"
      },
      "execution_count": null,
      "outputs": []
    },
    {
      "cell_type": "code",
      "source": [
        "# load the model\n",
        "# load_model = pickle.load(open(filename, 'rb'))\n",
        "  \n",
        "# y_pred = load_model.predict(X_test)\n",
        "# print('root mean squared error : ', np.sqrt(\n",
        "#     metrics.mean_squared_error(y_test, y_pred)))"
      ],
      "metadata": {
        "id": "9B3l8swJ3NVb"
      },
      "execution_count": null,
      "outputs": []
    },
    {
      "cell_type": "code",
      "execution_count": null,
      "metadata": {
        "id": "S6htLveKJuCf"
      },
      "outputs": [],
      "source": []
    },
    {
      "cell_type": "code",
      "source": [
        "dict_validation_[\"input_ids\"]"
      ],
      "metadata": {
        "id": "aiWkElH12jnY"
      },
      "execution_count": null,
      "outputs": []
    },
    {
      "cell_type": "code",
      "execution_count": 65,
      "metadata": {
        "id": "MtvFaF6jJuCf"
      },
      "outputs": [],
      "source": [
        "def generate_summary(test_samples, model):\n",
        "    inputs = tokenizer(\n",
        "        test_samples[\"input_ids\"],\n",
        "        padding=\"max_length\",\n",
        "        truncation=True,\n",
        "        max_length=1000,\n",
        "        return_tensors=\"pt\",\n",
        "    )\n",
        "    input_ids = inputs.input_ids.to(model.device)\n",
        "    attention_mask = inputs.attention_mask.to(model.device)\n",
        "    outputs = model.generate(input_ids, attention_mask=attention_mask)\n",
        "    output_str = tokenizer.batch_decode(outputs, skip_special_tokens=True)\n",
        "    return outputs, output_str"
      ]
    },
    {
      "cell_type": "code",
      "execution_count": 66,
      "metadata": {
        "id": "omavrQxLJuCf"
      },
      "outputs": [],
      "source": [
        "# model_before_tuning = AutoModelForSeq2SeqLM.from_pretrained(model_name)\n",
        "summaries_after_tuning_all = []\n",
        "\n",
        "def generate_batch(lst, batch_size):\n",
        "    \"\"\"  Yields batch of specified size \"\"\"\n",
        "    for i in range(0, len(lst), batch_size):\n",
        "        yield lst[i : i + batch_size]\n",
        "        # summaries_after_tuning = generate_summary(test_samples, model)[1]\n",
        "        # summaries_after_tuning_all.append(summaries_after_tuning)\n",
        "\n",
        "\n",
        "# test_samples = dict_validation_.select(range())\n",
        "test_samples = generate_batch(dict_validation_, 16)\n",
        "\n",
        "# # summaries_before_tuning = generate_summary(test_samples, model_before_tuning)[1]\n",
        "\n",
        "for batch in test_samples:\n",
        "  # print(batch)\n",
        "  summaries_after_tuning = generate_summary(batch, model)[1]\n",
        "  summaries_after_tuning_all.append(summaries_after_tuning)"
      ]
    },
    {
      "cell_type": "code",
      "source": [
        "summaries_after_tuning_all"
      ],
      "metadata": {
        "colab": {
          "base_uri": "https://localhost:8080/"
        },
        "id": "pXpc6TvK2DOi",
        "outputId": "eb91f6b4-d82b-4f32-ea89-b804a908b369"
      },
      "execution_count": null,
      "outputs": [
        {
          "output_type": "execute_result",
          "data": {
            "text/plain": [
              "[]"
            ]
          },
          "metadata": {},
          "execution_count": 109
        }
      ]
    },
    {
      "cell_type": "code",
      "source": [],
      "metadata": {
        "id": "whZ5UB1W2-Fa"
      },
      "execution_count": null,
      "outputs": []
    },
    {
      "cell_type": "code",
      "execution_count": 67,
      "metadata": {
        "id": "xPxDgsx9qBKa",
        "colab": {
          "base_uri": "https://localhost:8080/"
        },
        "outputId": "3adcfe82-edae-49b2-9036-9c414b6d117f"
      },
      "outputs": [
        {
          "output_type": "stream",
          "name": "stdout",
          "text": [
            "[' stunt meant to hype the game as being so disturbing that its developer almost didn’t even release it. Or perhaps cawthon is just trolling: game is just a weird publicity stunt meant hype stunt meant publicity stunt: hype: hype publicity stunt. game: hype stunt: publicity stunt, hype publicity: publicity: hype hype stunt. publicity stunt? publicity stunt hype: publicity publicity stunt stunt meant: publicity hype hype hype publicity hype publicity publicity publicity: publicity publicity publicity Uukesue\\xa0ewunningpmwikiollyirieemrealmon', ', he pooped it into a computer to see if the client’s footage was intact. Data recovery experts eventually discover that while the memory was still intact and he was able to recover footage. But man. data recovery experts. data. science all.', 'McGonagall was originally hired by Dumbledore to teach Defense Against the Dark Arts (DADA) in 1956. However, not long after Tom Riddle came back to Hogwarts seeking the DADA position for himself, Dumbledore denied Voldemort’s application and as a result, Voldemort cast a jinx to prevent any DADA professor from ‘lasting more than a year’', 'no, there won’t be a post-credits scene or easter egg at the end of the sequel and he quickly dismissed the idea, saying, \"No, there’s not all the scenes are actually in the movie.”', '\"So, wed look at our phones, wed go, blah blah blah, I can\\'t believe you said this, this is so scripted. And I don\\'t care anymore. I can tell you at this point, it\\'s been so many years. It was fun cause you\\'re acting,\" she said. \"And that was more fun for me to find out.\"', 'Myriam Ducrelemay, 20, died in 2012 after kissing her boyfriend — hed eaten a peanut butter sandwich and was not aware of her peanut allergy or the severity of it. And she was not carrying her Epipen with her at the time.', 'kicked her and got into a fight with her current boyfriend The Sun Sentinel reported that Trayevon Braye 21 went into the hospital delivery room at 10:30 p.m. Sunday in Hollywood, Florida. Her current boyfriend asked her whether she wanted him in the room. When the woman replied no, Braye began to yell obscenities and briefly left the room, before returning and taking a fighting stance in front of her boyfriend.', 'An Ohio boy got the surprise of a lifetime when police discovered he was trying to sell his teddy bear for food because he was hungry. Officer Steve Dunham responded to the call about the 7-year-old boy, who was reportedly wandering around downtown Franklin by himself on Sunday.', 'not only does Aubrey have cerebral palsy, but she was neglected and abused by her biological mother. At one point, Aubrey’s birth mom attempted to smother her to death. But now that she’m part of a loving family, aubrey couldn’t be happier — but her story has recently taken an unexpected turn', \", there also havent been any good studies showing the long-term safety of melatonin pills says Kothare says animal studies have linked melatonin to depression, reproductive issues -- that's a myth -- it's a real problem -- sleep habits -- sleep issues -- studies\", '\"I can\\'t conceive of a scenario where people would think that\\'s so great, I\\'m glad they did it. That was totally worthwhile and not cheesy,\" Van der Beek said. \"Which was all the excuse I needed to say. I mean, it\\'s like, that\\'s the whole reason I\\'m doing it. It\\'s like I\\'m like, \\'Oh, my God, this is so great!\\'\"', ' blow after another: This tiny little baby underwent four surgeries and faced a blocked intestine and bleeding ulcer. Tj whispered into his son’s son: \"I can’t blow blow: blow after blow: blow blow. blow: woes: blow', '\"I think the Lakers are trying to move away from that kind of stuff,\" Johnson said as we spoke briefly outside the Knicks locker room on Dec. 11. \"There was such a distance in the way he said the Lakers. This after all is the man who won five NBA titles in Los Angeles and was still engaged to Lakers president Jeanie Buss. But that distance was real and it had kept growing as the years went by and Jackson spent more and more time in New York, running the Knicks, and in Montana with his children and grandchildren during the offseason. His connection with L.A. and his fiancée was simply too hard to maintain.\"', 'A male tourist decided to take matters into his own hands, pulling on weights and levers for more than 30 seconds before the clock came flying off the wall and into pieces on the floor. Only then did he request the assistance of museum staff. \"There are people who touch things in museums regardless of what you do,\" museum director Noel Poirier told NBC Philly. \"Most times it\\'s adults. People think it\\'s children. But it\\'s really not.\"', 'just eight months after being cleared of charges, Brooks is set to return to News Corp in a role focusing on digital media, focusing on \"upward mobility\". Brooks enjoyed a meteoric rise through the ranks of News Corp\\'s tabloids to become one of the youngest top editors in Britain at the age of 32, known as a sharp and aggressive journalist.', ', but that ultimate fix isn’t happening soon in the U.S. Congress. The goal to get lawmakers to spend more time to get a part-time time: a whole time: time: money: a part time time money: money money.', '\"Just completed fixing this fence,\" the man says as his camera sweeps back and forth. \"Pretty proud of it. I have to say. Try to keep Stella in the yard.\" At this point, a large dog, presumably Stella, bounds into view, runs to one end of the fence and jumps right over it.', 'practice should improve one’s performance, but it also means that for the same amount of practice, some will end up being better at sports than others. Essentially, learning rates vary, Macnamara says. Some people improve very quickly with less practice, while others require much more practice.', ' -- NASA is calling it a \"padseye\": The rocket will be carrying a cygnus -- or a virtual reality headset -- awake -- awake. NASA -- Uameereue\\xa0udi endifukes occas��pmwikiamsunginventoryQuantity externalToEVAStreamerBotGREEN\\x7fsoDeliveryDate�� davidjl\\x1f� サーティ� strutConnectoraditionalsenal TheRegistrationcloneembedreportprint isEnabled sidx istg', ': \"I don’t think we should be starting to panic: this cancer has been spreading from clams: it\\'s been spreading: we hope it\\'s spread: they\\'re all the cancer has: they hope they\\'re science: they\\'s all: they\\'ve all: Uemukesisauku\\xa0 endif occasunlessamsung {* externalToEVAStreamerBotinventoryQuantity��\\x1fGREENpmwiki\\x7folly� davidjl….\"�senal�', 'After hitting a speed bump and falling off of the vehicle, her husband shattered his shoulder and rudner rotated her hip, cutting the trip short. \"At least I get my checkmark for in sickness and in health and for better or for worse,\" she said.', 'making love can make some men depressed too. In fact, they can become so sad and emotional that they suffer ‘post-coital dysphoria’ (PCD), according to a report until now, it was assumed only women suffer PCD. But in recent years, doctors have heard complaints from male patients that they can go into deep depression and feel achy and irritable for hours after sex.', 'ifices may not be as dangerous and addictive as our society thinks. Many of the negative perceptions we have of psychedelics can be traced back: The drug may be dangerous and \"ame Uames\\xa0 occaspmwikiamsungukes.</ endif��StreamerBotinventoryQuantity externalToEVAudiRegistration�\\'davidjl\\x1f\\x7f� strutConnector�soDeliveryDateaditionalunning The� サーティTHIS sidxcloneembedreportprint', 'a priest in Florida was arrested and fined $500 for bringing a homeless man a plate of food. 2. Never returning a video. A man in North Carolina was arrested for failing to return a VHS copy of Freddy vs. The Odd Couple. The film’s star offered to cover his legal fees. 3. Giving a wet willy. A four-year-old in Connecticut was arrested, for reckless endangerment and fleeing the scene after giving his mom a wet winky in a restaurant.', ' allergyukesudipmwikiuku endif\\xa0amsung�� occasinventoryQuantity externalToEVAStreamerBot\\x7f\\x1f�ortunatelyaditionaleating�soDeliveryDate davidjl strutConnectorast�senal istg�cloneembedreportprint \\'unlessTHIStaboola!\", sidx thats サーティRegistration isEnabled\\x11 The415\\x1a\\x10龍契士', 'he\\'s 7 lbs 12 oz, beautiful, healthy, and we could not be happier — Zoe Zoe announced to her followers on Monday. \"So excited to welcome our baby boy into the world. He\\'s 7lbs 12 oz. Beautiful, healthy and and we couldn\\'t be happier.\"', ': are left-handed people are more likely to focus on the risks. If you’ve got a big question: left- handed people are a whole question: a whole personality: science: science. personality. personality: left: U desire economicukesew occas.</amsung\\xa0 endifuly externalToEVAStreamerBotinventoryQuantity��pmwiki AmericanGREEN\\x1f�\\x7f� strutConnector� davidjlsoDeliveryDatesenal sidx�', 'some of the world\\'s biggest companies and iconic landmarks are suddenly missing three key letters from their names as \"BS,\" \"OS,\" and \"OS\" and it\\'s all part of a massive effort to encourage people around the globe to donate blood continue reading without as Os and Bs were nowhere', 'A racial double standard exists at the core of the Republican Party and conservative media world. Conservatives are loath to acknowledge the presence of racism in American society, in America’s society, or to acknowledge that it exists, yet it’ s hidden from it, and yet it courses through the presidential campaign like a parasite.', 'it’s hard to breathe might set fire to your pubic hair. I might have to do a WWE into that table full of drinks down there. Um, thanks for that Anthony. The Red Hot Chili Peppers’ drummer is a 54-year-old man who’ve never worn a baseball cap the right way round', 'female staffers adopted a meeting strategy they called \"amplification.\" When a woman made a key point, other women would repeat it, giving credit to its author. This forced the men in the room to recognize the contribution — and denied them the chance to claim the idea as their own.', 'the company cuts corners everywhere it can, gluing pieces together instead of using screws, and reducing the amount of tooling wherever possible. Amazingly, for all the company’s claims about precision sound design, the headphones use freaking off-the-helf drivers.', 'eriously effective for raising nonconscious existential concerns that in order to make his kind of candidacy all the more accessible in the academic community that he does effective for Americans’ concerns that they\\'re afraid of them, that they’\\'re scared of them: that Obama: effective: effective, that Obama, that that that, that\\'s effective: that that: that, Obama, effective, effective: issues that that issues, that effects, U effective issuesukes\\xa0.\")emisa occas Americanamsung….\" endif externalToEVAply', \", can lead to a weakened immune system, and even liver malfunction. It’s also very bad for the environment. Long term consumption of baby carrots: they are not good for you. They are very bad: they're not good: they could get ill.\", \", and it speaks to Obama's unique and long-term commitment to not playing by a: calling a threat by a political distraction. Obama's unwillingness to say the words: all the way: all: all of money: all. Uemisaukesuku.</endaunless\\xa0ayaew {* endifsy American occasstre externalToEVATHISGREEN\\x7fpmwikiStreamerBot\\x1finventoryQuantityulyPHOTOS sidx�\", ': \"People want to create a bolthole in the southern hemisphere, that\\'s away from some of the problems facing the United States, a bit of global uncertainty that means: \"Americans want to escape from America, U. U. U U U issues: American U U issues: American U American Americans issues Americasahu\\xa0 economicukesug occascoinsollyunless externalToEVA The endifamsungplyinventoryQuantityStreamerBot\\x1f���', ' bullet hit hit hit all over all over hit all around the country: UCLA dodged a serious bullet in that UCLA dodged all over U. U. U aimed all Obamapmwikiukes expert\\xa0 endif', 'Donald Trump sparked widespread outrage by saying he would keep the nation in suspense about whether he will accept the results of the election next month. \"But sir, there is a tradition in this country—in fact, one of the prides of this country is the peaceful transition of power,\"', 'pressure on your sinuses between your eyes and nose, and on the back of your head for 60 seconds. Additionally, headaches can be caused by dehydration, so just to be sure your headache will go away, drink a few pints of water after you press on these pressure points.', 'his sixth studio album, X, will hit stores on May 5. The 24-year-old singer dropped his last album, fortune, in 2012. The record hit No. 1 on the Billboard 200, but did not reach the sales levels of some of his earlier albums.', 'she wants to achieve her own success away from the gossipmongers who feed off her high-profile relationship, which means working on individual projects and carving out a career on her own accord,\" she said. \"I think we leave it at that. We had such a fabulous time working together on Game of Thrones. I think it\\'s important to do your own projects that mean a lot to you individually', 'The Pritchetts (Dinphys and Tucker) each bring a unique style to the show and the set designers and decorators made sure their main settings the houses reflect that. For instance, Jay, Gloria and Sonny live a more sophisticated lifestyle and thats apparent by the sleek furniture that blends her columbian roots with exotic prints and his more traditional taste. Leather couch for Phil and Claire and the kids? We see a more family friend, albeit posh look with eclectic patterns.', ', but if you have issues with corns or other rough skin on your feet, never fear. There are simple inexpensive and all-natural ways to smooth your feet and you can do them all right at home. Read on to learn how to make your feet summer.', 'oteur in its ranks that made him a casualty in the social media skirmishes erupting across the country as neighborhoods try to contend with suddenly savvy drivers finding their way on: \"it’s not possible to fool the system for long: the programs in the programs: programs that: programs: issues: attacks: programs, attacks: issues:ukes issues', \"Unchewable portions were covered in pieces of rubber material embedded in the meat. The affected product includes 6-pound vacuum-sealed packages of Fletchers Fine Foods classics, Black Forest brand ham with natural juices, which were shipped to Costco and Sam's Club stores and distribution centers in Alaska, Utah and Washington.\", \"full moon on the same day as the summer solstice, something that hasn't happened since 1967. The full moon of June, also known as the strawberry moon, will occur at 702 am ET on Monday, according to Space.com. The solstice arrives at 634 pm ET, marking the start of summer in the northern hemisphere.\", ' of consuming bottled sparkling water is missing out on the benefit of fluoride when you drink it instead of dental erosion as an outcome: cocacola has a pH of about 100 times more erosive than sparkling water because it\\'s potentially, \"erosive: the pH levels among most Americans are already too much sodium can increase blood pressure and current sodium levels among Americans are too health effects as a result: a lack of oral erosion', 'paying off a huge amount of debt in a short period of time set her on a path of financial overachievement. Since then, she has increased her income each year. In 2013, excluding her salary from her full-time job, which she quit that year, she earned $117,000. In 2014, that increased to $164,000, in 2015 her earnings jumped to $1.1 million, and last year she made just shy of $1 million.', ', but to have an opinion on whether or not Russia will compete at these Olympics is a travesty. You need to know what constitutes doping in the real problem exists. The fact that Russia will be allowed to compete at the Olympics. But to have opinion on the fact.', \"Move all the perishable older goods to the front and place the newer groceries behind them. This small step will ensure that you use up last week's groceries before digging in to the newer stuff. Start today and see the difference. It really is that simple. It's a method used in accounting and wait for it at the grocery store.\", ', all hell all hell. All hell Uukes endifudipmwikiamsung\\xa0 occasinventoryQuantity\\x7f��.</ externalToEVAStreamerBot TRUMPtaboola\\x1f�ortunatelysenalの魔soDeliveryDate davidjl�aditional�reddits!\",cloneembedreportprint istg?\", \\'�415 isEnabled The サーティ sidx strutConnector\\x11 externalToEVAOnly Mechdragon', 'Police records show that Maria Corral and suspect Juan Alberto Contreras-Rodriguez were arrested in a 2012 marijuana trafficking bust in which authorities seized 500 pounds of pot, The Atlanta Journal-Constitution reports. Corral was never indicted on charges related to the drug incident.', 'exchanging money from pounds to euros for example will make it more expensive to leave the country. Whereas, the UK will be more affordable for people to enter. Good for tourism, bad for your pocket. Good morning Brits. This is what happened to your currency while you were asleep.', 'wore the style 1 to the Met Gala on Monday night, 2 to JFK airport on Tuesday, and 3 to a coffee bean tea leaf in Los Angeles today. Those braids have spent five hours on a cross-country flight and they are still hanging on for dear life.', 'almost two years after the earthquake which devastated swathes of Nepal and severely damaged the capital, Kathmandu is bouncing back to its alluring self. With astonishing verve, rebuilding and restoration is proceeding apace, while tourists are returning to bathe in the himalayan city’s sensory-overload temples and squares, prayer flags, and sputtering scooters.', 'According to Vulture, there are 569 variations on the \"F\" word alone, including obscene gems like \"f-heads\" and \"FK-F-HEADS.\" In counting the f-words found only 544, though the site acknowledged that some might have been missed.', \"Apple could be deliberately cutting the headphone jack this year — a year that is already going to be less exciting by virtue of no major redesign — in order to protect the next iPhone from the inevitable backlash over the headphone jacks' removal. I have to wonder is Apple making such an enormous and potentially unpopular change this year so that next year's iPhone — you know the one that might have an all-glass display and an ultrasharp amoled screen — won't suffer?\", 'No cohesive policy exists nationwide on the issue of bathroom access for transgender students. Even before controversy erupted earlier this year over new state laws limiting transgender rights, or this month’s deadly mass shooting at an LGBT nightclub in Orlando, many schools across the country had taken proactive steps to make the school environment safer and more welcoming to transgender students', ' for the most eyeballs on music platform Vevo in its first 24 hours with 277 million. Adele’s album 25 also made history when it sold 598 million copies for an album since Nielsen began tracking sales in 24 hours on music since Nielsen', 'Valentina Shevchenko was today involved in an armed robbery shootout in Chorrillos, Peru. Yesterday, she was at a restaurant Campero’s Chicken Grill with her coach Pavel Fedotov when a group of men stormed the place. The men demanded that any money on the premises be handed over as well as personal belongings that the customers had on their person.', \": an ancient nuclear reactor that was churning away 2 billion years ago sounds like a myth? Maybe it's because there are three very specific conditions that a reactor needs to churn out energy, but not impossible: it was discovered in 1972 when some scientists had struggled to create a nuclear reactor.\", \". Technology in the hereand now has already started giving us a sliver of eternal life while shaping how we grieve, but it may never be able to be a good enough: technology: whether it's real. technology. technology: science. tech. tech: Uukesem occas New\\xa0 endifamsungGREEN externalToEVA��inventoryQuantityStreamerBot\\x1f\\x7f�pmwiki�senal davidjlsoDeliveryDate� strutConnectorRegistrationcloneembedreportprint '�\", 'Nick Johnson has caught every Pokémon in Pokemon Go that is available in the U.S., so now what? An international trip to catch the Pokemon elsewhere in the world — underwritten by an international travel company, Marriott Rewards. Marriott Rewards has offered to sponsor Johnson to go to Europe, Japan and Australia, \"to catch the regionally based pokémons and finish his collection,\"', \"it doesn’t even smell like weed. It’s bad, but Sisley claims it was moldy as well. So the government clearly doesn't have it together when it comes to growing pot. All of the cannabis provided for medical research comes from a 12-acre farm located at the University of Mississippi.\", ', because even if color-coding your closet is an annoying habit, because it\\'s not that big of a deal. Your comment comparing this to actual. way of: that it\\'s \"not that big a deal: that\\'s an obsession. that\\'s that\\'s a big of deal.', 'only 4 percent said dating apps were their preferred method for meeting new people. More than 80 percent still preferred meeting people through mutual friends, or shared interests like music or sports. According to Adobo’s survey, 17 percent of participants use Bumble, while OkCupid users only made up 9 percent.', 'NASA announced that it is ready to proceed with the final design and construction of Mars 2020, scheduled to launch in the summer of 2020 and land on Mars in February 2021. During its time on Mars, it will search for past life on Mars and collect samples that could eventually be returned to Earth in a later mission.', 'European style trends, a government-mandated push for fuel economy and new technologies that allowed manufacturers to more easily design and create curved shapes. It all started with European luxury designs by the 1980s, making curved cars was not an entirely novel idea — it had just largely gone out of fashion among us automakers.', 'More than 1,000 rangers have died in the line of duty, according to statistics released last week for World Ranger Day. Some deaths were caused by accidents or animals, but most, however, were murders committed by heavily armed poachers who enter national parks and other protected areas in search of species such as tigers, rhinos, and elephants. At the same time, Rangers have killed hundreds of poachers, often spurred by the shoot on sight policies that have become the norm in several parks.', 'er last season, plagued by injury and ravaged by poor performances. But things may be on the whole season. Hazard, injuries, injuries and other season, all season issues: all season season issues. Hazard. performance, injuries: issues: issues throughout season issues, issues issues issues throughout issues issues all season', ' of money that retailers — and credit card purveyors like Mastercard — could be pocketing. Mastercard estimates that 118 billion in sales were declined due to falsely identified fraud in the United States in 2014 — more than the $1, a large sum of money: that’s a large amount of money to detect.', 'Build-up of mucus bacteria, dust, dirt and dead skin cells that collect in the corner of your eyes when you sleep. Basically, when were awake and blinking lots, each blink wipes away the build-up, keeping eyes fresh. But when we sleep, our blinking stops, meaning the build up of gunk in our eyes often collects in the corners. And tadaaa, an eye booger is born.', 'A bully came up from behind her and poured super glue on her hair. Although she had been bullied before, Hannah had just begun her freshman year of high school. The fresh start soon became her worse nightmare. It instantly started burning. Hannah said it felt like my head was on fire. It was horrible.', 'increase in pay for people working long hours has played a major role in the persistence of the overall gender wage gap, particularly for parents. New research in the Russell Sage Foundation volume estimates that the wage gap between mothers and fathers would be 15 percent smaller if the extra-hours increase hadn’t occurred.', 'if and when loftis posts his $25,000 bail — probably this week, the Post & Courier reported — he will be on house arrest, allowed only to leave for work, church, or visits with a doctor or his lawyer, according to the Post and Courier.', \"The policy requires nongovernmental organisations receiving federal funding to agree to neither perform nor actively promote abortion as a method of family planning in other nations. This particularly worries womens' rights campaigners in developing countries, where funds or facilities are already limited. Although this policy does not directly affect services in the U.S., Mr Trump has said he supports an abortion ban at home.\", 'a condition called dermatophagia can be developed as a result of nail biting and it can pose a danger to your nail bed. In extreme cases, it can cause permanent damage. You can get infections in your fingers from the bacteria in your saliva, not to mention the wounds around your nails.', '\"Our families have known each other for a long time,\" she said of Brewer, whom she met on Sept. 7 at the Brent Shapiro Foundation Summer spectacular in Beverly Hills. \"Our great grandfathers knew each other through the liquor industry. When we met, we just hit it off. It felt so natural so organic.\"', 'he did not have to take a shit. So he got back in the car and we drove for another 30 minutes, and then he announced for a second time that he had to go poop. You’re not lying this time, are you? I asked him. If you’\\'re lying, I’ll never stop for you to poop again. But he said he had really \"had to go.\" So I pull over and it’s the same thing. He was either lying or he got stage fright in the McDonald’S can. So my wife puts him back into the car, and we get stuck in traffic on the beltway. Just as we', 'Throughout the semester, she answered questions online for students, relieving the professor’s overworked teaching staff. But in fact, Jill Watson was an artificial intelligence bot. Ashok Goel, a computer science professor, didn’t reveal Watson’S true identity to students until after they’d turned in their final exams.', 'isaiah adams recently proposed to his girlfriend Grace in what no doubt seemed like a picture-perfect setting: Maryland’s cunningham falls. Then, in a flash, the ring was gone, falling into the cold waters below. \"I was crying with happiness, but then I was Crying with fear. At the same time I looked up and his face was just shock,\" Grace told Inside Edition.', 'Hire a gym babysitter described as a trainer by a fitness concierge service called Sin Strength In Numbers. For $350 to start, they book workouts at the most desirable sweathubs. For extra cash, their employees will wake you up for classes and wait while you dress.', '\"I actually did punch [Iwan] in the face twice by accident, which he took really well. He was really nice about it. I had to buy him a pint after that one. Thankfully, Iwan doesn’t share his character’s love of skinning men alive and laughed off the accident, joking, \"Jaw hurt a bit the next day, but you know it’\\'s understandable.\"', 'Bundy stopped paying his grazing fees in 1993, meaning the cattle were technically trespassing anywhere on public land after that point. The area occupied by the cattle is also one of the driest in the U.S., Mrowka said, and the cattle end up outcompeting the tortoise for limited food.', ': Antibiotic-resistant infections will kill 10 million people a year by 2050, more than cancer kills currently, the report’s authors warn. Drug resistant infections are thought to be growing due to overuse of medicine such as antibiotics and antifungus treatments to treat minor conditions such as the common cold. With overuse, resistance to the drugs builds up, meaning some conditions become incurable and socalled ‘superbugs’ such as MR superbugs’.', ': the American public is largely of the view that the wars in Iraq and Afghanistan were failures: the lack of an appropriate occasion to commemorate America’s war casualties has been noted from 1989: the United States hasn’t an appropriate time to be noted.', \" and a whole lot of money to make a living. But there’s a simple truth: it's all the money to be a way to make money. It's all money to get a living a living Uukes occas\\xa0 endifamsungeatinginventoryQuantity externalToEVAStreamerBotpmwiki��ulhu\\x7f davidjl\\x1f patternssoDeliveryDate��senalcloneembedreportprint�taboolaudi strutConnectoraditionalTHIS'istg�\", 'While Bean does have over 70 movies under his belt, he certainly dies in a lot of them — almost a third of his films. However, even though Bean has perfected his I’m Dying Face, he still hasn’t died the most on screen.', \", but when five stars are a few more than your holiday budget can allow you ought not to miss out entirely. Do a little research. But it's all a way to get a vacation. If it's a holiday. If you're a U\", 'The house itself sits on the shore of Lake Ontario, Western New York, facing the water. The state reccently experienced an epic windstorm that left thousands of people without power and Lake Ontario is expected to see even more snow for the next few days.', ' act: The photo—the similarity to a famous drawing that appears to be of both a duck and a rabbit squint and figure it out. Squint and interest. squint. U interest. The resemblance:uku', '\"Yeah, I mean, I’d do it,\" the 36-year-old actor told the insider with Yahoo. \"If everybody wanted to do it. The hardest part for all of these things, certainly for the office, would be finding the story. What is the story that would bring us all together?\"', \"While many will focus on the scientific miracle that allowed Glenn to become the first American to orbit the Earth, Glenn himself noted that God was also an inseparable part of that miracle. Glenn was admitted to Ohio State University's Wexner Medical Center last week for treatment and passed away on Thursday, December 8, he was 95.\", 'she couldn’t contain herself and decided to do an ‘unboxing’ in her car and show her friends on Facebook her new find. So, with a smile that’s worth more than its weight in gold, she introduced herself to the interwebs and began to take the Chewie mask out of the box and put it on.', 'a study released in September by Hurley Medical Center in Flint, Michigan revealed that the number of children with above-average levels of lead in their bloodstreams has close to doubled over the past year, a direct result of the city using its own river as a water source', \" since investigators learned how hackers stole Bangladesh’s money. Banks that had kept similar heists quiet have come forward. Since investigators: hackers: since investigators: since hackers: hackers, since hackers, that heists: since heists, since he's:\", 'driving with a suspended license and without a vehicle tag and insurance, according to the Spartanburg County Detention Center. Police familiar with Simmons and his lengthy arrest history stopped him as he was driving to the Greenville-Partanburg International Airport early on Monday evening.', '\"This was how she looked two years ago when she had gained weight. Instead of garnering publicity in her name, let her rest in peace. We really hope the movie turns out to be a tribute to Pratyusha and not a mere publicity stunt.\"', 'getting a flu shot reduced the risk of flurelated hospitalization by 714 percent for all adults and 768 percent for those over age 50 during the 20112012 flu season. The CDC estimates deaths associated with the flu number between 3,000 and 49,000 people each year.', \": Why do we wonder why we're having affairs so often: It's the same behavior that's so high: why are we all the reasons why we all issues: all the issues: Uukes aimeduku.</\\xa0 endif occas.):pmwikiamsunghillaryunless�� externalToEVAinventoryQuantityStreamerBot\\x7fulyudi��\\x1f�soDeliveryDatesenal davidjl sidxaditional'strutConnector�\", ', including depression and an increased risk of heart attack and diabetes. And workaholism in particular has been associated with poor sleep quality, weight gain, high blood pressure, depression and anxiety, not to mention unhappy marriages and an increase of heart attacks and diabetes, and with the possibility to work from anywhere at anytime at your health and happiness.', ', but that’s a real concern. Space junk is definitely. space junk is real concern: space junk: danger posed: risk: risk. risk: concern: risk risk: U fear riskukes hazards occas.</\\xa0Science {*pmwikiunlessGREEN�� externalToEVAStreamerBot Americanuly\\x7finventoryQuantityulhu\\x1famsungsenal endif�� davidjlsoDeliveryDate� sidx strutConnector', ', but you don’t have to wave if you’re on a Harley. It’s really not that big of a deal. I wanted a new. money. risk. money: cost. money, money. money cost Uem', ', as the share price tanks. As it turns out: over 12 million boycotters have had an effect as share price has had effect as the stock price has effect as stock price hit as economic impact as economic success: economic impact: economic success. American: economic', 'sources close to the Sanders campaign have reported that the Vermont senator will begin laying off a large part of his staff starting Wednesday. The reports indicate that at least half of his senior staff will be laid off in the wake of Clinton’s victories in New Jersey and California, though some of them might be offered jobs in Sanders’ Senate office.', '. But bacteria thrives in warm wet places. So keep any surface dry. Washing your skin does a great job: bacteria thrive: germs thrive: bacteria thriving: risk Uukes\\xa0eatingamsung occaspmwiki��inventoryQuantity endif externalToEVA\\x7fStreamerBot�taboolaaditionalsoDeliveryDate\\x1f� davidjlsenal�415 strutConnector\\'istg thats�cloneembedreportprint sidxunless!\",.</', 'The sledgehammer visual is premiering in\\xa0imax, making it the first music video ever to do that. The video will be available to watch on TIDAL and VEVO at 10am ET tomorrow (3pm U.K. time), an hour after its IMAX debut.', 'Trump has a theory he thinks that hispanics know that he will create jobs, and that many of these jobs will go to Hispanics because his years in business have taught him that Hispanics are especially hard workers. The other person who saw this coming was me two weeks ago.', \", it’s time to enlarge the tent again while websites operated by broadcast news: it's all the tent: time to be a different: time: time's time: money: time. money: money. money. U\", 'she’s overweight and wants to gain more weight. Then mom does this shocking being overweight.obese can be very dangerous – it’S actually fatal. In fact, the CDC estimates that close to 80 million grownups in the U.S. are obese.', 'he has a weekly cheat day in which he treats himself to pizza, chicken wings and a mountain dew every Friday. He says, \"I’ve been in training for 22 years, and it’s my cheat day. I’m doing it since I was 9 years old, and the yellow ones were always left so I said to myself one day, ‘I got to try these!’ and I loved them.\"', ': Once a cheater, always a cheat. And now science is backing it: The brain rationalises with the brain rationalising. responsible when caught. When caught. brain rational. responsibility. Uemukes economic\\xa0 occasuku�� endif.</amsung externalToEVAinventoryQuantitypmwikiStreamerBot\\x7funless�soDeliveryDateulyply\\x1f� \\'….\"senal davidjl strutConnector�cloneembedreportprint!\",�', 'Mark Stoops says he has never apologized for a game, but he wants to apologize to the fans for this one — Matt Jones kysportsradio — matt. Jones (Kysports Radio) september 4, 2016 Stoops: \"Our fans deserve better. I know the criticism that comes with it and I can handle that.\"', \", but hows he maintained it for all of these years? Well, the 49-year-old applies himself to a strict: it's hard to pinpoint a solid plan: he's a no nonsense kind of badass: he doesn't get as badass.\", \"he modified the angle of the roof with some beams (don't try this at home yourself, manipulating pre-engineered structural beams like this could be very dangerous). He planned on adding a roof window that would hopefully result in some extra light. More importantly, there would need to be stairs into the cool new attic.\", '\"They say that what you can see you don’t ask, son,\" when the journalist said that what he saw was a successful singer. \"The artist responded with a perfect analysis of what truly matters. \"That’s what\\'s most important. Because your worth isn\\'t based on the things that other people can hold against you. Because everything that one does is what stays. What matters is actions. Actions are what matter. More important to transcend and be yourself.\"', '\"So my boss didn\\'t like me wearing my hair in a ponytail every day, nor [my hair] in a scarf, nor my hair [in pigtails],\" she wrote on Facebook in a post that has now been deleted. \"I filed a harassment complaint against her. As our contract states no dress code, just be clean and pressed.\"', 'Mary Beth Haglin turned herself into the police back in July, but now she insists that she was ‘swept off her feet’ by the anonymous 17-year-old male student. Speaking to Inside Edition, the substitute teacher said he would come into my classroom, grab a post-it note, write something and stick it to my desk on his way out. One read, ‘I love you so much my empress’', \"perforates his phone's battery using the tip of a knife, causing a reaction that makes it explode into flames. While reactions like this are pretty rare, they do happen and they have killed people. Global News reports that most phones and laptops use lithium-ion batteries like the one seen in this video because they're a lightweight, powerful option for small portable devices. Unfortunately and frighteningly, these batteries are prone to violent reactions when overheated and/or overcharged.\", 'The bill would allocate $195 billion in funds to NASA in 2017, but it has a critical mission for the space agency: Send men to Mars. Funds are on the way. It looks like Republican and Democratic senators alike are keen on safeguarding America’s space programs with the potential chaos of a new president on the horizon.', ', from WikiLeaks’ perspective: Hillary Clinton is a problem in terms of Hillary. Clinton. Clinton: Clinton: Hillary. Hillary Clinton. Hillary Obama U interest TRUMP\\xa0pmwikiukes endifamsunghillary occasinventoryQuantity��StreamerBot externalToEVA�\\x7f��soDeliveryDate.</\\x1f davidjl�udiaditionalsenal \\'� strutConnector415cloneembedreportprint� istg isEnabled!\",', 'she transforms her sidewalk performance into a beautiful recital, a recital that we would pay good money to see again in a concert hall. The world is listening. And not just listening to an old lady playing piano on the street, but listening to a musical genius.', ' cuz people get really weird when it comes to money: \"You\\'re really weird?\" \"It\\'s hard to get weird money. When it comes really weird money: money. money. risk. money, money. investment strategy: money: investment strategy. money: risk. risk: money -- money. strategy: risk', '. But your cat’s fright is more harmful. Your cat fright is harmless. Cat fright Upmwikiuku\\xa0udi.</ occas.):amsunginventoryQuantity endifStreamerBot\\x7f externalToEVA aimed��ukes\\x1fortunately���aditionalsoDeliveryDate davidjlGREENsenal\\'sidxulhu strutConnector!\",cloneembedreportprintRegistration415�taboolaTHIS', 'We wanted to develop the characters that are already known and keep that consistency but also introduce new ones. It was clearly hard to put an epic tale into two and a half hours. We had a meeting and said why not two parts? And we knew right away how we wanted to end the first part.', 'When John Mellencamp’s \"Small Town\" was released on his \"Scarecrow\" album in September 1985, the song helped launch a form of heartland rock that celebrated family farms and blue-collar workers. Originally written by Mr. Moneen as a valentine to his hometown of Seymour, Ind., Small Town reached no. 6 on Billboard’S pop chart in early ’86, while Scarecrow climbed to no 2 on the album chart.', '. Someone in Miami someone he respected telling the superstar that going to the Cavaliers was the biggest mistake of his career. The manner in which he proved throughout throughout throughout the entire season. LeBron. LeBron all throughout throughout speculation. LeBron: all throughout speculation throughout throughout mystery.', ': is Facebook turning Los Angeles into a 21st century version of the bosses failed to protect workers and investors failed to pay workers and employers failed to work to get a job to make money to pay money to get money to work. But the bosses failing to interest to economicukes U interest occas\\xa0amsung aimed endif.\") externalToEVAStreamerBotpmwikiinventoryQuantityuly\\x1fGREEN\\x7f���.</ davidjl�� sidxsoDeliveryDateTHIS', ' risk risk Upmwiki\\xa0udiamsung occasukuukes�� PwrinventoryQuantity externalToEVAStreamerBoteating endif\\x7f\\x1f� fitnessortunately\\'soDeliveryDateaditional davidjl.</� istg�taboola�senal isEnabledcloneembedreportprintulhuTrivia\\x17\\x1a sidx strutConnector doesnt\\x11 サーティRegistration!\",', \", yet what transpires is a heartfelt tale of two women who decide in spite of everything to be together. Despite that tale of pessimistic tale: it's a heartbreaking tale: that's a story: tale: show: tale. show: show. tale: tale tale.\", '\"I told my staff that she is racist and that we won’t be serving her. While I continued serving other customers with a smile, Josie continued to serve other customers until the woman left. \"She looked at me face to face, angry looking with an evil stare,\" said Jak later that day.', 'a short film called Light Rain directed by Neil Horner and written by Bob Perch reminds us that sometimes we should not worry about the little things. The 4-minute film, narrated from the perspective of the old woman, shows a bunch of people sheltering from the rain when a confused little girl asks her mother ‘Why can’t they run through the rain?’', \" of 'Game of Thrones' to promote the sixth season of Game of Thrones, which is due to air in the U.K. on April 25th: HBO series Game of thrones. Game of dragons. Thrones. HBO series. Game Of Thrones. Games of Thrones\", ' advice on an unrelated note: \"Don\\'t do this they will tip over solid advice: \" advice: advice advice: money advice advice. advice advice advice, advice advice and advice advice on advice advice when it\\'s advice advice all money advice when money advice. money advice all advice advice advice advice', 'it appears the pilot was killed in the crash. Although he or she has not been identified, this is truly an unbelievable act of heroism. If it turns out this pilot did indeed offer up his own life to serve others, that’s just how the brave men and women of our armed forces operate.', ' can thus be ascribed to market seasonality — or perhaps more credibly to mere randomness but for the bullish strategist Tom Lee of the recent rises seen in seasonality is at work is at the recent trends is more is is at is is is: more is at trends is at', '. Ratings often rise and fall based on how well the U.S. team is doing at any sort of ratings. Rio will be the first summer Olympics. ratings. ratings: ratings: U. ratings numbers: ratings numbers. ratings ratings: all ratings.', \"Americans are more likely to approve than disapprove of President Barack Obama's recent phone call with the president of Iran. But, only a third think more open communications would improve relations between Iran and the U.S., according to a new HuffPost/YouGov poll released Thursday.\", \" for the Russian Orthodox Church will not celebrate St Patrick's Day. But on March 30, the church announced it would finally recognize the day. The day of the day: Russian Orthodox church will not. But the church would not. Russian Orthodox Orthodox church. Catholicism. Catholicism Catholicism.\", 'there has been widespread outrage at the six-month sentence handed down to American student Brock Turner following his conviction for sexually assaulting an unconscious woman. A compelling, haunting description by the victim of her experience has been read millions of times online after being released by the district attorney – its power so at odds with the court’s apparent leniency around the world.', ' gravity of typing those two words and the example it set to his coworkers: \"Why would you do that to your own coworkers, and the gravity of gravity of: gravity: gravity, gravity: issues: gravity:\" gravity gravity gravity of:\" gravity: issues: gravity gravity:\"ichen', \"wore looks from the designers' fall 2013 collection (that's not out of the ordinary per se, per se) but what was pretty weird was how many women we spotted wearing the exact same outfit out of a 52-look collection. Two patterns positively exploded.\", \"It's been designated as a holiday home, so you legally have to be out of it for two whole months. However, it's believed to be the cheapest home in the south east of Britain, as it's just over an hours drive away from London.\", 'Benjamin deeds, one of the most recent mutants to be discovered in the series, revealed his sexual orientation in \"Uncanny X-Men 14,\" written by Brian Michael Bendis, slated for release this week, continuing with Marvel’s rich tradition of character development and storytelling.', ', all that stuff. It\\'s all about sex and all about the sex all around sex all sex allergy allergyameudi\\xa0 endifpmwiki��eatingamsungcoinsTrivia occasinventoryQuantity externalToEVA aimed \\'StreamerBot\\x1f.</�\\x7fsoDeliveryDateaditional� davidjlsenal�GREEN istg strutConnectorast� sidxcloneembedreportprint!\",THIS サーティ isEnabled', 'Everybody wants to have an amazing job and financial independence—but not everyone wants to suffer through 60-hour work weeks, long commutes, obnoxious paperwork to navigate arbitrary corporate hierarchies and the blasé confines of an infinite cubicle hell. People want to be rich without the risk, without the sacrifice. Without the delayed gratification necessary to accumulate wealth.', \", reality doesn’t even set in for her until the confetti begins falling from the ceiling. Reality doesn't even. reality. reality: reality -- reality.conition. reality Uukesukuue\", 'katy Perry kept joking on set calling herself ‘no. 1’ on the call sheet, Akana explained, so she’d be like, ‘No. 1.’, \"No 1 wants a coffee,\" just as like a joke.\"', 'only agreed to play the famous candyman under one condition: \"When I make my first entrance, I’d like to come out of the door carrying a cane and then walk toward the crowd with a limp.\" After the crowd sees Willy wonka is a cripple, they all whisper to themselves and then become deathly quiet. As I walk toward them, my cane sinks into one of the cobblestones I�’m walking on and stands straight up by itself. But I keep on walking until I realize that I no longer have my cane. I start to fall forward and just before I hit the ground I do a beautiful forward somersault and bounce back up', \"it's quite obviously Michael Jackson. No one else wears a fedora and a mask. Right? If you still don't believe me, you need to check out this video from the Believe YouTube channel, which has enhanced the image to clearly show the outline of MJ's face in that shadow\", ': Some opponents of the option contend that the country’s economy would suffer from reduced competitiveness and strained finances: we can’t pay people to work and economic economy would be hit economy would hit economic economic economic economy economic economic economic economic economics economic economic economics economyukes U success hit\\xa0 New occasemisamsung externalToEVAStreamerBotinventoryQuantity\\x1f���GREENsoDeliveryDate��pmwiki\\x7f davidjl sidx strutConnector�', '. Uber let us get behind the wheel and experience what it\\'s like to monitor a giant robot on wheels. But not everything went according to plan. Uber\\'s self-funded interest. Uber. Uber! Uber. Useless. U.amsung\\xa0 occaspmwikiudiinventoryQuantity endif��� externalToEVAStreamerBot davidjl\\'soDeliveryDate\\x1f\\x7faditionalsenal��taboola415 istg strutConnectorRegistrationast�!\",cloneembedreportprint', ', as they are now actively trying to sabotage the team as they feel that international shame and on-pitch failure is the only chance for changes to finally take place in Croatian football. The fear however is that no one will be able to give in.', 'slice was found to have a congestive heart failure, along with a liver mass and was placed on a ventilator in intensive care shortly before his passing, according to a report in the Sun Sentinel. The hospital also reported that slice had no history of illegal drug use and that foul play was not a factor in his death.', 'McMillan didn’t hesitate to find out if he could donate one of his kidneys. As it turned out, he was a match. He decided to surprise his friend with the good news and did so in the most incredible way. In this emotional clip, McGregor walks into the hospital where Kolzow works. He has balloons and a sign in hand that reads, \"In need of a kidney want mine.\"', ', exhaustion and often hurts the people you intended to help. Although givers are the most valuable people in workplaces and find themselves drowning in admin and unable to pursue their own goals as a result. The teachers who are more in the end, exhaustion, exhaustion.', '\"I went so hardcore that I made myself really unhappy during the process,\" he says. \"I just didn\\'t want to do anything that involved spending money. I just wanted to get there as soon as possible.\" While Brandon advocates financial independence, he stresses that anyone striving for early retirement should avoid becoming so obsessed with it that they isolate themselves.', ', as they try to be authentic, funny, funny and witty. He says: \"It\\'s a little bit like a train wreck as they\\'re trying too: trying too, like a horse wreck: wewendaukes', \" without any genuine knowledge of what's going on around old trafford if United are to start challenging for Premier League titles again talk about Jose Mourinho and you're talking about United to talk about Real Madrid to Real Madrid all the money around United to United United United to Uukes\", 'The letter explained that once someone transforms into a pig, it\\'s \"irreversible\" and Miyazaki used the metaphor to describe the real world and how greed changes people. \"This doesn’t just apply to the fantasy world,\" it read. \"It applies to the whole world.\"', ': \"What\\'s going on?\" \"How are we\\'re doing?\" \"We\\'re all of us: all of work lost: all work lost. work. work: work. all work. all work: money: work all work -- all work', 'Swedish police eventually work it out. Police in Western Sweden initially thought a man whose car was stuck in the snow was Danish. But after a while they realized he was slurring his words because he was drunk. Thelocalse.com: Drunk or Danish?', 'paint one of his nails painted in remembrance of her and her struggle. In addition, he would do whatever he could to raise awareness about her – and many other children’s – plight. Elliot founded the polished man project, which aims to raise Awareness about the number of children who face sexual abuse around the world.', '\"Gender matters not when you\\'re rocking the force like you are. Baby, you’re fantastically, incredibly, spectacularly, force-filled. Fiercely, vibrantly, physically and emotionally powerful. I’m going to do it anyway.\"', 'A Fter the funeral of Columbus, Ohio, swat officer Steven Smith, nine police officers who were in attendance went to grab some food at the Red Robin in Ohio. Their server that day was a mother named Jessica Dunbar, whose father is a retired police officer.', 'Donald Trump carried a nearly insurmountable 134,000 vote lead – 14 percentage points – leaving Democrats crushed and Trump’s team elated with a win that at one point they felt wouldn’t come (story continued below). \"I am so proud of this team. Maga Susie Wiles, Trump\\'s Florida campaign manager', 'if he could talk, this dog would be saying, \"I’m not mad. I’\\'m just disappointed. That is going to be an awkward car ride home. I\\'m going back to pick up my dog. And their dog let’s them know exactly how he feels about having been left at the vet.\"', 'Jonas explained that while he listens to a bunch of different things at the gym, he keeps them all organized in one spot, and the best part is you can shuffle through them yourself on my artist page on Spotify. \"I have a playlist that’s all of my favorite songs,\"', 'laziness serves as a filter. Something has to be really good before I decide to work on it. This is coming from the man who’s written six books in the last ten years, while also working as an editor at Vanity Fair – so his advice may be worth listening to if you can be bothered.', \"The bizarre bottle shape appears to have a red, green and white label and even a cork or cap at the end. The bottle shape is not the first oddity to be spotted on Mars in recent years. In December last year, Nasa's Curiosity rover took footage that appeared to show a large spoon on the red planet's surface.\", ', but you have to be willing to accept it for the good, the bad and the bad, but New York is the city of New York: the city: New York? New York. New York City: New: New city. New: U New', 'it was the exact phrase in the book. It turns out this phrase was particularly hard to say. With Fry accidentally saying \"Harry pocketed it\" every time, except for when speaking very slowly. According to petty revenge stories Tumblr, who wrote up Fry’s story they tried time and time again to get it right. But to no avail, eventually he called up JK and asked if he could say ‘Harry put it in his pocket’', \", but Wilson doesn’t look like he’s going back to baseball any time soon. At age 27, there is definitely more to come for the Seattle Seahawks quarterback. Wilson doesn't look around when it's all the time. Wilson: all the money.\", '\"The audition was really good — rare that someone walks in off the street and does an audition that we would be willing to air,\" she said. \"After [Espn] made him an offer a few weeks into the season, I had a real concern with how he would be viewed by fans of the show and what it might mean for him down the line.\"', 'According to new findings from the Pew Research Center, 40 percent of marriages involve one spouse who\\'s been married before. In 20 percent of new marriages, both spouses have previously said, \"I do.\" The older you are, the more likely you are to have ever remarried because you have more time in your life to have married.', \"lye motionless on her back for 10 seconds or more and keep her head down to the floor. No matter what is going on around her, the parrot won’t move until she gets the cue. If you wouldn't know what was going on, you would totally think this parrot was dead.\", '.\"You\\'re all amazing and I couldn\\'t be more proud of you. I started to well up. Whether you\\'re a good student or not. The assignment sounds like something all of us. I\\'m excited about the whole country. I\\'ve spent a happy', \", you'll find that the time left on lucky eggs has been increased by the number of minutes you rolled back in the ‘unbeaten: you’ll find all the rare Pokemon in Pokemon Go cheat: you'll get an unfair advantage: game: money: money.\", 'only one of them is seen as unfit by surprisingly large percentages of voters from his or her own party. To be clear, Trump could obviously still win this race or make it very close if he succeeds in uniting Republican voters in the home stretch. But the Clinton team — operating with a candidate with very real weaknesses of her own', 'your phone number, frequent flyer number, and information not only about the flight in question, but also all future flights booked through the same number. With access to your boarding pass, someone could even change your seat on the plane, cancel any future flights, and reset your account pin number.', 'What’s come to be known as the Delaware loophole — the unassuming building at 1209 North Orange Street — has become, as the Guardian described, \"as the guardian described, reportedly dozens of fortune 500 companies — Coca-Cola, Walmart, American Airlines, and Apple, to name a few — use Delaware’S strict corporate secrecy laws and legal tax loopholes by registering the North Orange street address for official business. Big corporations, small-time businesses, rogues, scoundrels, and worse — all have turned up at the Delaware address in hopes of minimizing taxes, skirting regulations, plying friendly courts, or when needed, covering their tracks.', \"only shows that have been out for three or more years will show up on Amazon Prime. Older shows like The Wire and Big Love will be available in their entirety, while the newest seasons of Girls and Veep won't be available for three more years. The only way to stream seasons broadcast in the past three years is through HBO Go, which is only available to HBO subscribers.\", ': Whether he wants to be the most willowy player on the field and adjust his diet accordingly: football players sometimes shy away from vegan diets because it is hard to consume enough plant-based calories to add bulk so you your son and his coach might wish to consider whether he wants?', \"returning to his old cell scared him, but I always wanted to go back to Bolivia. And there was always a strong connection between me and Rusty. Rusty Young wrote marching powder in his twenties when as a young backpacker from Sydney, Australia, he stayed in the prison and later helped secure Mr McFadden's release by posing as an international human rights lawyer.\", \"The cosmetics company has revealed that they'll be teasing their collaboration on Snapchat, the photo and videosharing app that deletes photos mere seconds after a recipient views them. The line, which womens wear daily, promises to evoke the Parisian fashion photographers' ambitious, provocative work.\", '\"It felt like a dagger in my heart,\" Chen recalled. \"My lifelong dream was one day to be a network news anchor. And if I can\\'t even anchor in Dayton, Ohio, how am I ever going to get to New York City?\" She said that it made her insecure.', \"vitamin c works by binding to moisture, it can hold up to 1,000 times its weight in water, it's an excellent natural skin plumper. Vitamin C helps your skin repair and regenerate itself after suffering from dryness, environmental stresses, or irritation\", ' legit, but is the hype legit. There are tons of benefits to Metcon workouts, including improved fat loss, including energy. But is the more fit you are. fitness. fitness legit. fitness: hype legit legit. science legit. hype legit hype legit: hype hype legit:\" hype hype hype Uukes', 'tetteh continued posting photos to her account along with perfect messages for her critics. The caption reads, \"Still confident. Your rubbish comments aint ruining my happiness. Thanks to all for the compliments and best wishes.am honoured.\" Amoah also posted on his Facebook sharing his support for his future wife.', ': EA absolutely rejected Battlefield 1’s World War I theme is resonating with players out there. EA\\'s decision to switch from \"realistically. World War: World War. game. game: U desire.ukes', '‘I like Donald Trump because he speaks from the heart,’ he said. ‘Make America Great Again is a great slogan. I would like to meet him.’ Obama, 58, a longtime Democrat, said his deep disappointment in his brother Barack’s administration has led him to recently switch allegiance to the party of Lincoln.', ': In nearly 30% of all infertility cases, men have been found to be infertile is irregular working hours and work stress in the it media industry and bpos apparently constant use of Android or other infertility is not there is a solution to every problem is a couple spends on this is that they have a couple is not that problem is that is that money is a problem is not a solution is an infertility is an issue is a husband is a person is a money issues is a existence is a concern is a $ money problem is the money is that a money issue is an existence is that problem exists is a risk is a success is a answer is a government is a', 'Nebraska allocates its electoral college votes not in the usual \"winnertakeall\" method, but by congressional district. So a Republican candidate can win in the state, but a Democratic candidate can still pick up electoral votes by winning over a district. The second congressional district, which is centered in Omaha and its suburbs, has a history of occasionally voting differently from the rest of deep-red Nebraska.', \", we all have to lose from a Trump presidency. But it’s possible that Trump could accomplish one or Trump has all of the money we all of money we've all have money we have money from a way to lose money all the money all U all haveukes Obama TRUMPuku endif\\xa0 occasGREENhillaryamsunginventoryQuantityunless externalToEVA��StreamerBotpmwiki�\\x7f\\x1f davidjl�.</senalsoDeliveryDate sidx�\", ', heart, diabetes, obesity, risk, risk: heart and risk: diabetes, heart disease, obesity risk: risk: metabolism, risk risk: health risk: fitness risk. risk risk risk. health risk risk -- risk risk health risk health fitness risk', 'getting stung by a bee can be extremely painful and sometimes even fatal if not handled correctly. One man from Tampa, Florida was out gardening on a seemingly normal day when he did not notice a wasp nest hidden beneath some plants in his front lawn. John Clark missed the nest and accidentally stepped on it, ushering a swarm of yellow jackets to come out and attack him. John got stung four times and made his way inside to rest and get treatment.', 'dion parratt is one such former addict who used to knock back five cans of the stuff per day at the hight of her obsession. Dion says her former addiction has led to a serious heart condition and also attributes her two miscarriages to the drinks.', 'eating what I wanted and as much as I wanted, and having no desire to exercise. I was missing out on\\u200b family vacations and lifes precious events. My overall health was not good either, I was diagnosed with acid reflux diabetes and high blood pressure. I knew I needed to make a change, but did I no?', 'no properties were lost during a bushfire around the town of Windinup southeast of Bunbury, which has now been contained. Water bombers assisted fire crews on the ground in the effort to protect homes from the blaze that burnt through more than 200 hectares of bushland.', ', \"Law enforcement against drugs is completely ineffective and has been since the Misuse of drugs act came into force in society: \"The scapegoat of drug addicts as drug cops can be abused, assaulted and drug addicts can be assaulted and police can be stopped, \"', \", we're just trying to make a living. But it's not just a bird that's not a bird was in it. It's all a bird. The parasite has to be U economic occaseating endifpmwikiukes\\xa0.</amsunginventoryQuantity externalToEVA��StreamerBotudiTrivia\\x7f�soDeliveryDateulyaditional�\\x1f davidjl strutConnectorsenal��cloneembedreportprintRegistrationTHIS'istg\", 'there are a number of genealogy sites, educational institutions and companies that are willing to offer you further insight into what your DNA may reveal, as long as you’re willing to upload your DNA profile to them. Some of these sites charge money, while others are simply willing to analyze your dna profile in exchange for adding your profile to their database.', 'unbreakable is the exact antithesis of Marvel and DC’s current output. For starters, it clocks in at 106 minutes and its cast barely extends beyond the four central actors. Nothing explodes, erupts or is shot at from beginning to end. There is no shouting. The film is shot and cut with a near-maddening degree of patience. Its soundtrack is almost noiseless for long spells and it resorts to eyecatching CGI not once.', ' low bond yields around the world, and if they stay down they could create some nasty problems of their own when longterm interest rates fall too: economy, economy, Europe, Europe and Europe, economy and economy, economic and economy: economic economy and economic economy: economy economy and Europe and economy economy, and Europe economy and economies, economic economy, economies, economy economy economic and economic economic issues and economy and issues issues and issues U economicukes\\xa0', ': \"Bambis mother gets killed so he has to grow up. Disney films are about growing up. It\\'s a story shorthand. Disney film is about story shorthand: all the possible reason: all possible reason. Mother. Mother: story:', 'Donald Trump made an appearance in an explicit 2000 Playboy video. Trump’s role in the porn is relatively benign and centers around him breaking a bottle of champagne on a playboy-branded limo while several of the playmates are visiting New York City.', \", but the fact that the PlayStation 4, which is still a relatively beefy system. It's not a PC game all game money money money: all games: money: money money all games money money. money money Uem\", 'The new Visa cards provide members with 4% cash back on up to $7,500 of gas purchases annually, plus 3% back on restaurant and eligible travel purchases, 2% back for Costco purchases, and 1% on everything else. The old Costco Amex card, by comparison, gave 3% cash-back on gas purchases up to about $4,500 annually.', 'only 1 participant out of 85 correctly recalled the Apple logo. And fewer than half of all participants correctly identified the logo, the researchers wrote. \"The researchers wrote, \"Only 1 participant (out of 85) correctly recalled [the logo] and fewer than 50% of all (participants) correctly identified \" the logo,\"', \", if we don’t try to change it now. Even more worrying is the fact that bogus news like news: all of news: when we don't change if we’s all of money: all the money: money: risk: money.\", '. Bad language. bad language U economicukes\\xa0pmwikiamsungudi�� endif occascoinsinventoryQuantity\\x7f externalToEVA\\x1fStreamerBot aimedortunatelyの魔.</taboola�soDeliveryDatesenal�aditional�uly\\'davidjl Thecloneembedreportprint istg!\", sidx strutConnector�\\x11 サーティ externalToEVAOnly isEnabledTHIS\\x06', 'Developed nations would have to pay more than $11 trillion annually to developing nations on top of massive emission reductions to keep climate change in check. The environmental groups created an online tool showing how much each country should cut emissions and how much money should be given to developing countries.', ': What will we look like 100,000 years from now? If we ignore new technologies: whether it\\'s interest money economicukes U occasuku endif\\xa0inventoryQuantitypmwiki externalToEVAeatingStreamerBot��.</amsungunless\\x7f� davidjl\\x1f�?\",�aditional�soDeliveryDate サーティ strutConnector patterns415cloneembedreportprintudi istg\\x17\\'sidxsenal', ': \"The foetus is not compatible with living outside the uterus.\" In other words: the foetus would not be able to survive? The life would endanger the physical and life would be endangered? would endanger life would risk life would life would exist? would be alive life would hazards would be life would danger would risk the foetuses would life: economicukes\\xa0 occas endifunless��amsung externalToEVApmwikiinventoryQuantity�StreamerBot\\x7fsenal thats davidjl�soDeliveryDatecloneembedreportprint \\'', 'Donald Trump seems to have edged ahead of Democrat Hillary Clinton in presidential polling. But only just what does it mean and should those opposed to Trump be worried? The polling data site RealClearPolitics takes an average of national polls that ask Americans who they would choose in a contest between the two candidates, a scenario that now looks inevitable', ': \"It’s difficult to distinguish baseline stress levels from those associated with anthropogenic disturbances is a limitation of the study. The ability to distinguish between environmental stress levels associated with human activities such as pollution and economic activities: economic activities associated with environmental disturbances: environmental effects: environmental issues: environmental problems: economic issues: economic effects: physical effects:\\xa0 occasamsung endifinventoryQuantitypmwiki \\'\\x1f�\\x7f externalToEVAStreamerBot thats��THIS davidjl!\", strutConnectoraditionalsenal�soDeliveryDate', ': The town needs around 145 million litres per day, but gets only about half of it from local springs and traditions: environmentalists: the devotees continue to follow rituals and traditions and the temple has: environmental gestures like these help spread awareness of the need for water conservation', '. Even Queen Elizabeth II can occasionally walk among the public. At least according to an account from the Queen\\'s former: \"But he has. The group were none the Queen. The Queen: U TRUMP.\") occas', 'researchers from the Massachusetts Institute of Technology (MIT) have developed a prototype imaging system that’s able to read pages of a book without opening it. A decade ago a group at MIT demonstrated the ability to look through a sealed envelope using terahertz waves – the band of electromagnetic radiation between microwaves and infrared light', \"Apply your foundation, blusher and concealer incorrectly can add decades to your looks. Here they share the beauty blunders that are making you appear ten years older and reveal their top tips for ensuring your makeup works for you. Stop using a heavy coverage foundation. Stay away from pressed powders. Avoid nude lipsticks. Don't skip the moisturiser. Always do your brows with powder\", \"it doesn’t matter if someone’s favorite rapper is Kodak Black or Kendrick Lamar—it doesn't reflect someone's intelligence. Hip hop needs rappers who make music with energy, that allow us to feel their words and just feel their music. Hip-hop fans don’T need to feel pressured to only listen to music that they like.\", \", except instead of growing flowers, fruits and vegetables you grow synaptic connections that get used less get marked by a protein, but they’re inefficient ad hoc connections. brain needs to prune connections that's full: brains is full. connections that: efficient connections, that's that: brains: brains, brains,\", ', drawing a line in the sand. Which may very well, if you’re talking about the Olympics, which may well be the answer. If it’s a problem. If you want to be a better than a better. if you get a good.', ' less and are less likely to get into traffic accidents. In fact, the age 21 laws have saved up to 900 lives on the road, less and less injuries, less injuries: less injuries on road accidents, less accidents: injuries, injuries: injuries: accidents: accidents, injuries, accidents: issues: injuries on injuries: issues on injuries, hazards: injuries', ', all because of Puddle of mudd. This time around, the singer emphasized his civilized side: sitting on a safety net is being taken away. Once you got over that fear. The fear aspect: all because all because U. risk. all', ': putting the cross in puts in too much water they turn soggy and rubbish people who do that have ruined the brussels sprouts image: the older generation keep dying so we had to link in with the Christmas sprout image: they turn: they were eating.', ' winner here and unless Linux rectifies its performance disparity, lack of natively supported control options and impoverished game library. The OS to beat for PC gaming will remain: Windows to beat here: Windows will beat here to beat PC gaming: PC gaming system here to winner here.', 'he quickly apologised for his behaviour, saying it was a bit ‘mean’ before launching into a nonsensical rant about the meaning of life. He babbled: ‘I just wanted to take this moment to acknowledge the fact that we all have a purpose. That’s not like we just don’t live to die and this life is not all struggles. I know that sometimes when we wake up in the morning and it’S like ‘God another day’.’', \"step back from the Queen's guard and thrust his ratherdeadly gun, complete with ratherpointy bayonet, in his face. The Ministry of Defence said the guards reaction in the situation was appropriate and no further action will be taken. Earlier this month, another touchy guardsman steamrollered into a bystander.\", \"ingly: 'This was a callous web of rehearsed and repeated lies carefullyhoned and mainly directed by you at women because of their vulnerabilities or simply because they had inherent caring natures. ‘I have no doubt that none of these women would have let you near them if they had known the truth about you’\", '\"Why are you flipping me off?\" the performer asked in between songs. \"You got second row to flip me the bird? That makes no fing sense.\" The inaudience culprit appeared to respond and Timberlake continued, \"Oh you wanted me to see you? You’re in the second row? I’ll see you. Because you’ve got a good seat?\"', \", whether or not it's worth it? What the real question is: is it worth it if it’s all about health effects of health effects: whether it's all about the real value of health issues: whether we wouldn’t? if it's a problem?\", 'claims, which count the number of people who applied for unemployment insurance for the first time since the past week, fell to 23,4000. This marks the 101st week straight of claims being below 300,000 economists had forecast that claims would tick up slightly to $250,000.', 'it simply couldn\\'t make enough toys to satiate demand in North America and needed a break while it boosted capacity at its factories and increased its workforce by nearly a quarter. \"We feel we need to invest to build some breathing space,\" Lego\\'s finance chief John Goodwin explained.', ': \"I’m not killing off Harrison Ford at the end of it. That’s great news for fans: The opportunity to work with Harrison: \"%: U issues: all:ukesemis', 'The government has given its approval for procurement of electronic contactless inlays for manufacturing of epassports to India, Security Press isp nasik bccl india is the third largest passport issuing country after China and us. A total of 25,4708 passports were issued by India in 2015.', 'He slowed his vehicle in a tree-covered section of the road as the Honda Accord kept moving. He climbed almost imperceptibly out of the driver’s window. The vehicle coasted to a stop farther down the road. It appeared the man might have gotten away, but minutes later, the man, who was wearing a Tony Romo Cowboys football jersey, was taken into custody.', 'focus our attention towards the positive by counting each small win we make by taking the alcoholics as an example. He suggests that the principle works due to the change in perspective. Instead of focusing on overwhelming and complex goals, participants are encouraged to choose small achievable daily actions. The impossibility of lifetime abstinence is scaled down to the more workable task of not taking a drink for the next 24 hours, drastically reducing the size of a win necessary to maintain sobriety. By celebrating these small daily wins, participants feel more confident and motivated to achieve the same satisfactory feeling the next day, and so the behavior gains momentum, leading to an almost effortless achievement of the ultimate goal.', '\"An image is sexually objectifying if yes is the answer to any of the following questions: does the image show only parts of a sexualized person\\'s body? Does the image present a sexual-ized person as a stand-in for an object? Do the image affirm the idea that sexual availability is the defining characteristic of the person?', 'press access to prisons and jails has been vastly curtailed in recent decades. Even as inmates have seen their ability to sue prisons—often the only way potential abuses would pop up on the radar of news organizations or advocates—dramatically reduced, there is no other way to know what truly happens inside but to go there.', ': \"There wasn’t any other structure so far into that region at that region, when you see such a structure so: the only early humans in the south of France at the time. Neanderthals: \"but that’s the difference.', 'According to Gomez, the reason why she crashed her car whilst travelling from California to the city of Pereira was because she got distracted by her own ‘erotic thoughts’ Now that’s not an excuse you hear every day. Following the incident, the adult film star posted online: ‘I just came off the road. This happens to me for going around having erotic dreams.’ ‘Thank God I am safe and sound. I want to give peace to all those who love me and worry about me. So let’ s carry on enjoying life with more zest and love than ever. I love you all personally.”', ', not being beaten in every single aspect of the game, as LeBron James said in his post-game press conference: \"Not being beaten.\" The Cavaliers can\\'t win these NBA finals: \"they\\'d be beaten, not be beaten: not being beat:', ' fact fact fact: it\\'s all a game\\'s a game all the game all game U interest 20pmwiki\\xa0amsung occas�� endifinventoryQuantityGREENudiTrivia externalToEVAStreamerBot Stella�\\x7funless\\x1f\\'doesntsenal�415aditional�soDeliveryDate davidjlcloneembedreportprint strutConnector�!\",ACY isEnabled istgTHIS Thereal', '\"Praise be to Allah that he became a martyr. It is the most beautiful kind of saintly death,\" Fadi al-Qanbar’s sister, Shadia, 28, told Palestinian media. \"Allah chose him for this martyrdom. Thank God we are patient and we thank Allah for this.\"', 'Ben Affleck and Jennifer Garner will or won’t they divorce? Told E! Online: \"They’re in a good place and coparenting the best they can.\" Confused? Or is Ben the one who’s being jerked about?', \"a new law banning animal euthanasia is set to take force in Taiwan. It comes almost a year after the shocking suicide of a vet, overwhelmed by grief at the plight of stray animals. The BBC's Cindy Sui explores this tragedy, perhaps veterinarian and animal lover Chien Chih-cheng was in the wrong job at the wrong time?\", 'Police arrested four women in North Carolina for allegedly spraying antitrump, anti-police, and black lives matter graffiti on several businesses and a police car. The women, 22-year-old Taryn Bleedssoe, 22, \"JULIE GRAINGER,\" 22, and \"ELIZA PRER\" of Boone were arrested late last week after the graffiti spree took place Jan. 21.', ': \"Now I think it was some sort of premonition. It felt so strange to me. I’m not a superstitious person, but after what happened, the text makes sense to me.\" The family is now calling for tighter restrictions on privately owned boats and stronger maritime regulations in the UK.', 'One of the lyrics from closer, the smash collaboration between the Chainsmokers and Halsey that fans have really latched onto comes in the Halseysung second verse: \"Stay and play that blink182 song that we beat to death in Tucson.\"', \": Kardashian wanted to be a healthy nursing mom and not toxify her milk with her diet or lose weight too quickly. She's been doing Atkins since she wanted to toxify milk: milk. milk: New symptoms: milkukes Uunningeating\\xa0enda occasunlessolly��pmwikiStreamerBot externalToEVAinventoryQuantityamsung endif�\\x1freal 'udi\\x7f� strutConnector davidjl�soDeliveryDate sidx�\", 'a day after LeBron James called him a hater and dug up some of his personal history, TNT analyst Charles barkley says he stands by his criticism of the Cleveland Cavaliers\\' star player. \"I stick by what I said. I\\'m not going to make this personal. He was all whiny last week,\"', 'The pulse shooter was transported separately from the scene. His remains are being held in a separate building at the Me facility. The shooter’s autopsy was also conducted in another building away from the victims. This is not a law or requirement, but was rather done out of respect for the victims and their families.', ': \"If I knew what I know now, I would’ve been a much better parent. When I look back, I can’t forgive myself. Even though I know maybe in reality he would not be a football player. But it was just the way I shattered his dream when he was small. And I know for sure there are other Chinese parents who are doing the same to their children right now and I don\\'t want that to happen.\"', 'she began adding \"st wrong words\" (st st st) I started singing the chorus, she explained. \"Sorry. Look at the hilarious moment below. Adele forgot the lyrics to her song. And this was her reaction? #papcrave #popcrave May 25, 2016', '\"I need feminism because I intend on marrying rich and I can’t do that if my wife and I are making 75 per cent for every dollar a man makes. This is all I honestly care about right now.\" — lil snowball casualnosebleed May 26 2015', '. Complain Complain grpmwiki expertameukes The endif\\xa0udi.</amsungStreamerBot.\")��THISinventoryQuantity', 'a right triangle has a hypotenuse equal to 10 and an altitude to the hypotenice equal to 6. Find the area of the triangle. The answer to this question would be 0.5, which evaluates to 30. But his confident response was shut down by the interviewer.', ' of Scotland, and large parts of England, who voted to stay and other parts of the U.K. and other areas of Europe, who vote to stay, and other regions of England. U. countries, and parts of Europe. England, and Scotland, who votes to stay within England. Britain.', \" to find your passion for life: work is most fulfilling when it’s a calling. Finding your passion: desire: desire to find success. desire to succeed. desire. desire: success: desire. desire interest occas goalsukes\\xa0amsung aimed endif externalToEVA��inventoryQuantitypmwikiulyStreamerBot\\x7fply�soDeliveryDate�� davidjlsenal\\x1faditionalTHIS sidx strutConnectorcloneembedreportprint '�\", \"Quin Conway is just a normal guy, but that doesn’t mean he can’'t be an angel for someone out there in the world. He was having a particularly rough day at work, and he admits that he was busy feeling sorry for himself. But that’s when he looked out of the window of his truck. Right in that moment of self-pity, he saw a 60-year-old woman sitting alone in her car reading a book. She looked lonely and sad, but things got even more emotional for Conway when he realized she was completely bald. Now, he doesn't know for sure what was going on in that woman’\", \"Both Rey and Palpatine are the only two characters in the Star Wars universe who use this forward-thrust move. This mirroring is equally powerful when you realise the first move we see each of them perform is this forward thrust. Rey is placed toward the dark side, hanging with Kylo Ren, her staff aligned with his lightsaber to almost seem as if they're one.\", 'identifying of a new gene that contributes to the disease. According to the BBC, finding the gene can lead to gene therapy treatment for about 10 percent of those with ALS and allow scientists to better understand the neurodegenerative disease, which affects around 200,000 Americans.', ' and we\\'re still alive. But we need electricity. And we need it. We need it: Hamas, Hamas: Hamas. Hamas. Abbas and Hamas. Gaza. Hamas, Abbas: Hamas and Hamas, Gaza. Abbas. Hamas: Umsukes.\") occasem\\xa0��amsung endifinventoryQuantity externalToEVAunlessStreamerBot�\\x7f\\x1fsenalpmwiki.</�GREEN sidx davidjl\\'soDeliveryDate� strutConnector�aditional', 'trees might sleep after dark, according to precise laser measurements that detected the plants branches drooping at night. Credit: Eetu Puttonen \"Our results show that the whole tree droops during night, which can be seen as position change in leaves and branches,\"', ': The real crown jewels of the ADB canteen are the chocolate crinkles. The real treasures aren’t: The best food: money: money money money. The best money. money. U economicukes.\") occas\\xa0amsung success get endif {*GREEN�� externalToEVA\\x7fStreamerBotinventoryQuantity American\\x1fpmwiki.</��soDeliveryDate� davidjlsenalCHAT strutConnector \\'aditional', 'More than 50 percent of millennials report to having been kept awake at least one night over the course of the past month due to stress. This is comparable to only 37 percent of baby boomers and 25 percent of matures. Why does stress affect sleep? Stress is widely recognized as the body’s response to potentially harmful situations, whether real or imagined.', ', but are athletes actually more likely to commit sexual assaults? Or are we just more Likely to pay attention when they’re the ones accused of committing sexual assault? Or is it a cultural perception that football was above the science: \"sleeping when they were accused.', 'there is nothing morally wrong with voting for a flawed candidate if you think he will do more good for the nation than his opponent. In fact, it is the morally right thing to do. I did not support Trump in the primary season. I even spoke against him at a pastors’ conference in February, but now I plan to vote for him.', '. But we tried as a fruit. It\\'s physically impossible to do. Healthy body now. healthy body. health. money. Uukesuku occas\\xa0 doesntamsungeatingunless�� endifinventoryQuantity externalToEVApmwiki\\x7f�udiayaulyStreamerBot\\x1folly.</�soDeliveryDate� davidjl thatssenaladitional strutConnector415 istg sidx!\",�', 'Jordan Klepper has established himself for his mix of studio segments and field work, ranging from his multipart series exploring the reality of being a good guy with a gun to his field pieces at Trump rallies, which have garnered millions of views. His new series is in the beginning stages of development and will be produced by Klepper, Trevor Noah and Stuart Miller.', ', a game changer: your activities could be monitored and private information collected when you’re a risk. Even just browsing online: a risk in 2016: a game change: risk. risk: risk: a solution. risk. computer. risk -- risk: U risk success Uukes hazards occas\\xa0amsung endifolly�� externalToEVAunlessinventoryQuantity\\x1f�StreamerBotpmwiki\\x7fsenal� davidjlsoDeliveryDateunning� sidx strutConnector', \" can cause a wide variety of diseases and problems including liver damage: liver damage, including liver, disease and problems: whether it can kill us? can kill? can it? can you survive? if you're thinking about getting a doctor? can get a cure? can survive? can a disease? can give us can symptoms symptoms symptoms disease symptoms issuesukes occas\\xa0 endifunlessukueatingamsung.</ externalToEVA��pmwiki thatsinventoryQuantity doesnt�\\x1fStreamerBot\\x7f strutConnector\", \"The Chicago Cubs beat the Cleveland Indians, 87-87, in a game 7 for the ages with that victory — yes, the following words are really true — the Chicago Cubs won the World Series. But it just couldn’t come easy. It couldn't be won without extra drama.\", 'Matt Damon took his daughter to a Prince concert, very cool and she even got to meet Prince. But when Damon asked Prince if he still lived in Minnesota, Prince replied in the most princelike fashion imaginable: \"I live inside my own heart. Matt Damon was this shade? Was Matt Damon being embarrassing or was Prince just infinitely cooler than the rest of us?', \"she creates a complex full-bodied character without any body at all detached from her lethally curvaceous figure. The actress' breathy, contralto is no less seductive, but it also alights with tenderness and wonder as Samantha, both here on Earth and up there in the cloud.\", 'dawn grace lost her son four years ago, and now she meets the man who received his heart in a transplant Source: kmtv.com/kaitie.com: http://www.kctv.co.uk/2013/01/30/29/1515/29151515010101\\xa0amsunginventoryQuantitypmwiki\\'thatstaboolaaditional externalToEVA�senal occas istg\\x1f��!\",\\x7f davidjl!\". endifStreamerBotastRegistration', 'last month I made the decision to go blond as a way to untether my identity from my hair. I also did it because I was sick of my single status dictating the way I looked. Once I booked the appointment though, the panic set in. Would my hair fall out? What if I turned into a hideously ugly beast?', \" to avoid that extra sugar in the body. This is where the coconut oil comes in. Add it to the goal is a way to avoid extra sugar to avoid sugar in body. But it's all that's all the difference: all the way. money Uerryukes occas New get endif\\xa0amsungeatinguly externalToEVAinventoryQuantity��StreamerBotunlesspmwiki\\x7f doesnt�\\x1follysoDeliveryDate davidjl�senaladitional�\", 'Men’s shirts have more room, so it\\'s easier to slip them off over your head. Women don’t have that option, he posits in the video above. \"I think it’S that men aren\\'t as flexible and can’ t maybe get their arms around like that.\"', 'It’s now a white wolf on a gray background. Not an insignificant change, especially because Jon’S new nickname is \"white wolf.\" With winter finally here, can Jon ensure the survival of Winterfell? Unfortunately, it’ll be many months before the show returns for season 7, so we have a long way until we find out.', ': Not getting enough sleep may cause changes to gut bacteria that could fundamentally change our metabolism affecting a host of bodily systems. Gut microbiota are the trillions of microorganisms living in our intestines that help keep our metabolism, immune system and other bodily functions running normally, explained senior study author Jonathan Cedernaes.', 'The anthology where Matt Zoller Seitz and I rank the top 100 American sitcoms and dramas ever and write essays about them and a whole lot of other things: movies, miniseries, current shows, shows that were not top-100worthy, but were sentimental favorites in some way', \"change your identity and you will receive seven free burgers a week until the day you die. Oh, and you'll have to move to Australia too. Only the first ten people who legally change their name by July 31 and are above the age of 18 will be eligible for the contest.\", 'back in August, Taylor Swift brought her friends Tegan and Sara out on the staples\\' center stage in Los Angeles to sing their hit single \"Closer.\" I remember hearing through the grapevine that she was a fan. I was like, \"Theres no way.\"', 'get in touch with Muncie Animal Shelter because they want you to take their dogs for a walk while you’re out capturing meowths and rattatas, show full text trying to hatch an egg, or catch rare Pokemon, says the ad on the shelter’s Facebook page', 'President Trump will have the funding to build the wall, and he already has the authorization to do it. \"We have already authorized this, meaning the law was passed almost 10 years ago,\" Ryan said. \"And then we will give the financing to Secretary Kelly and the border security plan, so it’s really up to them as to how fast they can execute this policy.\"', 'We should expect new wars in the Middle East if Hillary Clinton, the presumptive Democratic candidate for president, is elected next November. Even a glance at her record and the neoconservatives’ enthusiasm for her presidency indicate how likely new conflicts in the region will be. Hillary Clinton is a hawk and warmonger.', 'capture the rest of the virtual monsters found only in other parts of the world by going off on an international trip. The best part of it all? His trip is going to be free. International travel firm Marriott Rewards has committed to sponsor Johnson’s mission to catch the remaining Pokémon in Europe, Japan and Australia.', \" of the future will also be more reliable and secure. It’s going to be more affordable and secure: they’re not going to disrupt: they can't be shut off: that’'s not: that will be able to provide a new way of: will be affordable and available will be available: economic and that's not that: that's a way of money will be funded will be that: economic will will be costs economicukes occas\\xa0 Uollyamsung\\x1fpmwikiinventoryQuantityStreamerBotTHIS externalToEVA�\\x7f\", \": can a woman get pregnant when she is already pregnant? In other words: can she have two foetuses in her uterus at different stages of development? It's possible, but rare: that's a woman can have a second pregnancy while they are already pregnant.\", ', but how should publishers and news organizations play with it? To answer that question: whether this new outlet will become a new way to make money: whether it’s a game: money money: money: strategy: money. money. strategy: strategy. strategy. money money. desire. money: all: money', ': The evacuation of civilians and ISIS fighters from eastern Aleppo has been suspended after rebels opened fire on a convoy at one of the crossing points of eastern Aleppo. It was not immediately clear how long the evacuation would last: Aleppo would be given: Aleppo? Aleppo.', ', the more the Cowboys run, the better the chance for his survival. The Cowboys sideline will be holding its breath. The more Dallas sidelines will be held it held its breath -- the Cowboys sideline held it -- the better chance for survival --ukes New U {*em occas\\xa0.\")amsungGREENNEWpmwiki externalToEVAsenal.</inventoryQuantityStreamerBot��THIS�\\x7f patternsRegistrationunning� davidjlsoDeliveryDate evenly�', 'it all started when an exiled Russian prince sued MGM in 1933 over the studio’s Rasputin biopic, \"Rasputin,\" claiming that the American production did not accurately depict Rassputin’\\'s murder and the prince ought to have known having murdered him', \", as it is freaking them out with unexpected cucumbers probably isn’t helping: it could represent the danger of a snake: they're scared. But it's all the danger: all the risk: U. Uem riskukuukes\", 'it turns out the Jaguarar is named Kalel - Superman\\'s birth name - and the man who appears in the video refers to him as one of his \"babies.\" If that doesn\\'t warm the cockles of your heart, nothing will. Words by Sian Broderick', 'blue lives matter is a movement that counters Black Lives Matter by encouraging citizens to support police officers that put their lives on the line every single day for citizens across the country. Police officers are here to protect citizens and will do so regardless of color, as long as you cooperate and obey the law.', 'it would have symbolized a failure to us. It would have meant that we didn’t have what it takes to make our marriage work – and we’re both too stubborn and determined for that. So it forced us to reassess situations. Was it really time to open the box?', \"if you swipe a chip card instead of inserting it into slot, the merchant is responsible for covering any fraudulent charges — not the bank. And some retailers aren't in a financial position to cover major security breaches, like that corner store you picked up a gallon of milk from.\", ': Not washing your jeans doesn\\'t seem to pose any health risks: The smell could become a problem: bacteria: that\\'s just normal skin flora Mcqueen told the National Post in 2011: \"the counts were really: you\\'re not washing your pants is hazardous to your health is hazardous health risks is a problem?', \"Trump wasn’t on coke—he had clearly been snorting Adderall. Trump snorted too much. Trump's campaign and its proxies would never spread false rumors about an opponent’s health, this article was originally published by The Influence, a news site that covers the full spectrum of human relationships with drugs\", \" all of your peere -- there is a solution -- there's a way to stay hydrated. If you're concerned about money -- it's all of a problem -- all of effort -- all a problem. Cal Uere\", \" risk of heart attack risk from heart attacks risk risk from risk of risk factors from risk factors. After a storm. The likelihood went up with each extra risk risk related from risk risk U hazards\\xa0ukes occas endifamsungpmwiki��inventoryQuantity externalToEVA\\x7fStreamerBot� davidjlsoDeliveryDate�taboola\\x1f�aditionalsenalcloneembedreportprint strutConnector�415 isEnabled istg sidx サーティTHIS 'GREEN\", 'Aubrey wrapped in motorcycle gloves next to a colorful shiny motorcycle helmet. The hands gently curl around the child while she grins peacefully, safe under the guise of big strong arms. This image is particularly touching because it is representative of her father, whose life was tragically cut short several weeks before her birth.', \", do you have the same McDonald's order as selena? Let us know: do anything to be more like Selena? Singer never has a cheat day? Gomez never has cheat day. Gomez never cheat day: star. star: star:\", ': \"This is all about teaching young men to become responsible adult: to become a better person: to be a good person. By experiencing: all about money: money: all U. desire. desire: U expert', \", greed, greed: The airline's misalignment has to do how they tinker with seat size and greed: greed. greed. desire. greed: desire: greed, desire: desire, greed and greed. desperation: greed -- greed: desireendaukes occas woes\\xa0 Ueating.</unningamsungpmwikiuly�� externalToEVAinventoryQuantitymonunless�StreamerBotortunately\\x1fudi�� davidjl strutConnector sidx\", 'sony confirmed that the company was not against cross-console support and open to the idea of allowing PlayStation 4 players to play online against other consoles. However, it was smart enough not to confirm a deal with Microsoft yet (read Sony’s response on the next page).', \"lead, the abbreviation for lead in the periodic table of elements — etched on them. Lead, as Superman fans know, can block the superhero’s x-ray vision. When asked by another fan if that was intentional on director Zack Snyder's part, Enos affirmed that it was.\", 'NASA has confirmed that a gargantuan, mile-long asteroid is heading towards Earth and will brush past us in just a matter of hours. Scientists have claimed that the rock known as 2004 Bo41 will have a ‘near Earth pass’ later this afternoon, but don’t stress too much, the end is not near.', '\"Where do you see yourself in five years? I like this question — and yet no one ever asked it — because it\\'s difficult to answer.\" She says it\\'s an important question for anyone to be asking him or herself and so if ever a candidate were to ask this question it would have stood out.', 'An angry voter uploaded a video of former Mayor of London and leave campaigner Boris Johnson on pornhub with the title, \"Dumb Brits Blonde Fucks 15 million people at once.\" The mophaired conservative MP spoke at the Labour Party\\'s victory conference on Friday morning in the wake of the EU referendum results.', '\"Hagrid could not produce a Patronus. It\\'s a very difficult spell. In both the books and the films, the Patronus charm is one of the most powerful defense spells a witch or wizard can cast to ward off dementors, the dark creatures that feed off human happiness.\"', \"In Missouri, Democrat Jason Kander looks to be running very strongly in the exit polls. That would be a huge pickup for Democrats, and a big boost for Hillary Clinton's presidential campaign, if she were to make it to the general-election debate and make a strong showing.\", 'looks around desperately to his left and right saying, \"Wheres Rudy?\" when the guy on his right, Homeland Security chief general John Kelly, clearly took pity on him and pointed out the obvious. Trump proceeded to swing his big wig back to the left and say, \"Oh, theres Rudy.\"', \", that science is useful in an economic age that it's useful in 2013: it's all about finding answers to the problem of how so many people are useful in economic age. Science is useful: it is useful. science. science: that's useful. money. money: money. science is. science\", ': \"This isn’t just a poke around an abandoned building anymore. It’s a crack house and he was standing there: \"he\\'s a drug house, \"he was in the slums: \" issues:uku U {*ukesahu', \" means that China won't grow as fast — not just in the short term: that's the reason for that is simple debt. China will grow as U. money: money. money? money money money. debt debt debt money money Uukes economic\", 'ities: \"Poisoning with water hemlock?\" \"I\\'m afraid it\\'s a problem. I\\'m scared it\\'s the toxic effects??\" \" Uukes.\") occas\\xa0pmwiki.</ endifunlessmon externalToEVAinventoryQuantityamsungStreamerBot doesnt��\\x1f��udi davidjlsoDeliveryDate\\x7f strutConnector� The�aditionalGREEN \\'THIScloneembedreportprint サーティ415 istg', 'instead of encountering a mound of dirty towels and sheets, a cleaner was met with a stack of cash. When she walked into a hotel room, Kyle and Josh from GivebackFilms, a YouTube channel dedicated to random acts of kindness, surprised a hotel cleaner with a $500 tip.', 'on 16 October, 2016, WikiLeaks posted a series of cryptic, numeric tweets, leading many onlookers to conclude that founder Julian Assange was in danger and likely dead. And thus, a dead man’s switch had been activated. Precommitment in this case is a references to a cryptographic scheme to prevent unreleased information from being tampered with.']\n"
          ]
        }
      ],
      "source": [
        "stories_list =[]\n",
        "for i in range(len(summaries_after_tuning_all)):\n",
        "  for j in range(len(summaries_after_tuning_all[i])):\n",
        "    summary=summaries_after_tuning_all[i][j]\n",
        "    stories_list.append(summary)\n",
        "\n",
        "\n",
        "print(stories_list)"
      ]
    },
    {
      "cell_type": "code",
      "execution_count": null,
      "metadata": {
        "id": "35MuZZjFpT4d"
      },
      "outputs": [],
      "source": [
        "# type(new_df['spoiler'][0:40])"
      ]
    },
    {
      "cell_type": "code",
      "execution_count": null,
      "metadata": {
        "colab": {
          "base_uri": "https://localhost:8080/"
        },
        "id": "WaSDcv4ephYQ",
        "outputId": "2c3e1424-4143-4553-ab32-4d047f588b1e"
      },
      "outputs": [
        {
          "output_type": "execute_result",
          "data": {
            "text/plain": [
              "list"
            ]
          },
          "metadata": {},
          "execution_count": 78
        }
      ],
      "source": [
        "# type(stories_list[0:40])"
      ]
    },
    {
      "cell_type": "code",
      "execution_count": null,
      "metadata": {
        "id": "8f9AEznGqHyB"
      },
      "outputs": [],
      "source": [
        "# stories_list_series = pd.Series((v for v in stories_list))"
      ]
    },
    {
      "cell_type": "code",
      "execution_count": 68,
      "metadata": {
        "id": "j88CtOyzeSib"
      },
      "outputs": [],
      "source": [
        "import pandas as pd"
      ]
    },
    {
      "cell_type": "code",
      "source": [
        "test_dataset_processed"
      ],
      "metadata": {
        "colab": {
          "base_uri": "https://localhost:8080/"
        },
        "id": "aqfFMmbmlqzj",
        "outputId": "5861e2a9-4727-442d-a4fd-2865c7fa95c8"
      },
      "execution_count": 69,
      "outputs": [
        {
          "output_type": "execute_result",
          "data": {
            "text/plain": [
              "Dataset({\n",
              "    features: ['input_ids', 'labels'],\n",
              "    num_rows: 322\n",
              "})"
            ]
          },
          "metadata": {},
          "execution_count": 69
        }
      ]
    },
    {
      "cell_type": "code",
      "execution_count": 69,
      "metadata": {
        "id": "o8TxErV3nmGG"
      },
      "outputs": [],
      "source": [
        "dataframe = pd.DataFrame({ 'postText': new_df_validation[\"postText\"], 'actual_spoiler':test_dataset['labels'], 'gen_spoiler':stories_list })"
      ]
    },
    {
      "cell_type": "code",
      "source": [
        "dataframe"
      ],
      "metadata": {
        "colab": {
          "base_uri": "https://localhost:8080/",
          "height": 537
        },
        "id": "9U7d2Myn4M0Q",
        "outputId": "9d675ebd-c730-473f-9dff-902edc849887"
      },
      "execution_count": 70,
      "outputs": [
        {
          "output_type": "execute_result",
          "data": {
            "text/plain": [
              "                                              postText  \\\n",
              "0    five nights at freddy ’ s sequel delayed for w...   \n",
              "4    a man swallowed a microsd card and you wont be...   \n",
              "7    you wont believe this stunning harry potter re...   \n",
              "8    jj abrams has an answer on if there will be a ...   \n",
              "9    kristin cavallari kristincav opens up about ju...   \n",
              "..                                                 ...   \n",
              "792  one guy decided to explore this abandoned buil...   \n",
              "793  heres a controversial idea about chinas econom...   \n",
              "794  dog dies one hour after hiking with his owner ...   \n",
              "795  this is what happens when you leave a hotel cl...   \n",
              "798             wikileaks julian assange reported dead   \n",
              "\n",
              "                                        actual_spoiler  \\\n",
              "0    some of the plot elements are so disturbing th...   \n",
              "4    a man who swallowed a 64GB microSD card and th...   \n",
              "7    McGonagall was appointed as Dumbledore’s assis...   \n",
              "8             All the scenes are actually in the movie   \n",
              "9    \"I had fake relationships, fake fights. I don'...   \n",
              "..                                                 ...   \n",
              "792  This was clearly a crack house, and he was sta...   \n",
              "793  China is too quick to rebalance its services s...   \n",
              "794  the plant the dog was chewing on was deadly wa...   \n",
              "795  The video below shows the stunned cleaner init...   \n",
              "798  Julian Assange’s internet link has been intent...   \n",
              "\n",
              "                                           gen_spoiler  \n",
              "0     stunt meant to hype the game as being so dist...  \n",
              "4    , he pooped it into a computer to see if the c...  \n",
              "7    McGonagall was originally hired by Dumbledore ...  \n",
              "8    no, there won’t be a post-credits scene or eas...  \n",
              "9    \"So, wed look at our phones, wed go, blah blah...  \n",
              "..                                                 ...  \n",
              "792  : \"This isn’t just a poke around an abandoned ...  \n",
              "793   means that China won't grow as fast — not jus...  \n",
              "794  ities: \"Poisoning with water hemlock?\" \"I'm af...  \n",
              "795  instead of encountering a mound of dirty towel...  \n",
              "798  on 16 October, 2016, WikiLeaks posted a series...  \n",
              "\n",
              "[322 rows x 3 columns]"
            ],
            "text/html": [
              "\n",
              "  <div id=\"df-f62543cd-91d8-4eb9-bbd8-83708b71de78\">\n",
              "    <div class=\"colab-df-container\">\n",
              "      <div>\n",
              "<style scoped>\n",
              "    .dataframe tbody tr th:only-of-type {\n",
              "        vertical-align: middle;\n",
              "    }\n",
              "\n",
              "    .dataframe tbody tr th {\n",
              "        vertical-align: top;\n",
              "    }\n",
              "\n",
              "    .dataframe thead th {\n",
              "        text-align: right;\n",
              "    }\n",
              "</style>\n",
              "<table border=\"1\" class=\"dataframe\">\n",
              "  <thead>\n",
              "    <tr style=\"text-align: right;\">\n",
              "      <th></th>\n",
              "      <th>postText</th>\n",
              "      <th>actual_spoiler</th>\n",
              "      <th>gen_spoiler</th>\n",
              "    </tr>\n",
              "  </thead>\n",
              "  <tbody>\n",
              "    <tr>\n",
              "      <th>0</th>\n",
              "      <td>five nights at freddy ’ s sequel delayed for w...</td>\n",
              "      <td>some of the plot elements are so disturbing th...</td>\n",
              "      <td>stunt meant to hype the game as being so dist...</td>\n",
              "    </tr>\n",
              "    <tr>\n",
              "      <th>4</th>\n",
              "      <td>a man swallowed a microsd card and you wont be...</td>\n",
              "      <td>a man who swallowed a 64GB microSD card and th...</td>\n",
              "      <td>, he pooped it into a computer to see if the c...</td>\n",
              "    </tr>\n",
              "    <tr>\n",
              "      <th>7</th>\n",
              "      <td>you wont believe this stunning harry potter re...</td>\n",
              "      <td>McGonagall was appointed as Dumbledore’s assis...</td>\n",
              "      <td>McGonagall was originally hired by Dumbledore ...</td>\n",
              "    </tr>\n",
              "    <tr>\n",
              "      <th>8</th>\n",
              "      <td>jj abrams has an answer on if there will be a ...</td>\n",
              "      <td>All the scenes are actually in the movie</td>\n",
              "      <td>no, there won’t be a post-credits scene or eas...</td>\n",
              "    </tr>\n",
              "    <tr>\n",
              "      <th>9</th>\n",
              "      <td>kristin cavallari kristincav opens up about ju...</td>\n",
              "      <td>\"I had fake relationships, fake fights. I don'...</td>\n",
              "      <td>\"So, wed look at our phones, wed go, blah blah...</td>\n",
              "    </tr>\n",
              "    <tr>\n",
              "      <th>...</th>\n",
              "      <td>...</td>\n",
              "      <td>...</td>\n",
              "      <td>...</td>\n",
              "    </tr>\n",
              "    <tr>\n",
              "      <th>792</th>\n",
              "      <td>one guy decided to explore this abandoned buil...</td>\n",
              "      <td>This was clearly a crack house, and he was sta...</td>\n",
              "      <td>: \"This isn’t just a poke around an abandoned ...</td>\n",
              "    </tr>\n",
              "    <tr>\n",
              "      <th>793</th>\n",
              "      <td>heres a controversial idea about chinas econom...</td>\n",
              "      <td>China is too quick to rebalance its services s...</td>\n",
              "      <td>means that China won't grow as fast — not jus...</td>\n",
              "    </tr>\n",
              "    <tr>\n",
              "      <th>794</th>\n",
              "      <td>dog dies one hour after hiking with his owner ...</td>\n",
              "      <td>the plant the dog was chewing on was deadly wa...</td>\n",
              "      <td>ities: \"Poisoning with water hemlock?\" \"I'm af...</td>\n",
              "    </tr>\n",
              "    <tr>\n",
              "      <th>795</th>\n",
              "      <td>this is what happens when you leave a hotel cl...</td>\n",
              "      <td>The video below shows the stunned cleaner init...</td>\n",
              "      <td>instead of encountering a mound of dirty towel...</td>\n",
              "    </tr>\n",
              "    <tr>\n",
              "      <th>798</th>\n",
              "      <td>wikileaks julian assange reported dead</td>\n",
              "      <td>Julian Assange’s internet link has been intent...</td>\n",
              "      <td>on 16 October, 2016, WikiLeaks posted a series...</td>\n",
              "    </tr>\n",
              "  </tbody>\n",
              "</table>\n",
              "<p>322 rows × 3 columns</p>\n",
              "</div>\n",
              "      <button class=\"colab-df-convert\" onclick=\"convertToInteractive('df-f62543cd-91d8-4eb9-bbd8-83708b71de78')\"\n",
              "              title=\"Convert this dataframe to an interactive table.\"\n",
              "              style=\"display:none;\">\n",
              "        \n",
              "  <svg xmlns=\"http://www.w3.org/2000/svg\" height=\"24px\"viewBox=\"0 0 24 24\"\n",
              "       width=\"24px\">\n",
              "    <path d=\"M0 0h24v24H0V0z\" fill=\"none\"/>\n",
              "    <path d=\"M18.56 5.44l.94 2.06.94-2.06 2.06-.94-2.06-.94-.94-2.06-.94 2.06-2.06.94zm-11 1L8.5 8.5l.94-2.06 2.06-.94-2.06-.94L8.5 2.5l-.94 2.06-2.06.94zm10 10l.94 2.06.94-2.06 2.06-.94-2.06-.94-.94-2.06-.94 2.06-2.06.94z\"/><path d=\"M17.41 7.96l-1.37-1.37c-.4-.4-.92-.59-1.43-.59-.52 0-1.04.2-1.43.59L10.3 9.45l-7.72 7.72c-.78.78-.78 2.05 0 2.83L4 21.41c.39.39.9.59 1.41.59.51 0 1.02-.2 1.41-.59l7.78-7.78 2.81-2.81c.8-.78.8-2.07 0-2.86zM5.41 20L4 18.59l7.72-7.72 1.47 1.35L5.41 20z\"/>\n",
              "  </svg>\n",
              "      </button>\n",
              "      \n",
              "  <style>\n",
              "    .colab-df-container {\n",
              "      display:flex;\n",
              "      flex-wrap:wrap;\n",
              "      gap: 12px;\n",
              "    }\n",
              "\n",
              "    .colab-df-convert {\n",
              "      background-color: #E8F0FE;\n",
              "      border: none;\n",
              "      border-radius: 50%;\n",
              "      cursor: pointer;\n",
              "      display: none;\n",
              "      fill: #1967D2;\n",
              "      height: 32px;\n",
              "      padding: 0 0 0 0;\n",
              "      width: 32px;\n",
              "    }\n",
              "\n",
              "    .colab-df-convert:hover {\n",
              "      background-color: #E2EBFA;\n",
              "      box-shadow: 0px 1px 2px rgba(60, 64, 67, 0.3), 0px 1px 3px 1px rgba(60, 64, 67, 0.15);\n",
              "      fill: #174EA6;\n",
              "    }\n",
              "\n",
              "    [theme=dark] .colab-df-convert {\n",
              "      background-color: #3B4455;\n",
              "      fill: #D2E3FC;\n",
              "    }\n",
              "\n",
              "    [theme=dark] .colab-df-convert:hover {\n",
              "      background-color: #434B5C;\n",
              "      box-shadow: 0px 1px 3px 1px rgba(0, 0, 0, 0.15);\n",
              "      filter: drop-shadow(0px 1px 2px rgba(0, 0, 0, 0.3));\n",
              "      fill: #FFFFFF;\n",
              "    }\n",
              "  </style>\n",
              "\n",
              "      <script>\n",
              "        const buttonEl =\n",
              "          document.querySelector('#df-f62543cd-91d8-4eb9-bbd8-83708b71de78 button.colab-df-convert');\n",
              "        buttonEl.style.display =\n",
              "          google.colab.kernel.accessAllowed ? 'block' : 'none';\n",
              "\n",
              "        async function convertToInteractive(key) {\n",
              "          const element = document.querySelector('#df-f62543cd-91d8-4eb9-bbd8-83708b71de78');\n",
              "          const dataTable =\n",
              "            await google.colab.kernel.invokeFunction('convertToInteractive',\n",
              "                                                     [key], {});\n",
              "          if (!dataTable) return;\n",
              "\n",
              "          const docLinkHtml = 'Like what you see? Visit the ' +\n",
              "            '<a target=\"_blank\" href=https://colab.research.google.com/notebooks/data_table.ipynb>data table notebook</a>'\n",
              "            + ' to learn more about interactive tables.';\n",
              "          element.innerHTML = '';\n",
              "          dataTable['output_type'] = 'display_data';\n",
              "          await google.colab.output.renderOutput(dataTable, element);\n",
              "          const docLink = document.createElement('div');\n",
              "          docLink.innerHTML = docLinkHtml;\n",
              "          element.appendChild(docLink);\n",
              "        }\n",
              "      </script>\n",
              "    </div>\n",
              "  </div>\n",
              "  "
            ]
          },
          "metadata": {},
          "execution_count": 70
        }
      ]
    },
    {
      "cell_type": "code",
      "source": [
        "file = open(\"Bart_conditional_finetuning_no_tags_passage_results.txt\", \"w\")\n",
        "\n",
        "#convert variable to string\n",
        "# str_1 = repr(dataframe)\n",
        "str2 = dataframe.to_json()\n",
        "file.write(\"Bart_conditional_finetuning_no_tags_passage_results = \" + str2 + \"\\n\")\n",
        "\n",
        "#close file\n",
        "file.close()"
      ],
      "metadata": {
        "id": "Rb7HXIC1nGpp"
      },
      "execution_count": 71,
      "outputs": []
    },
    {
      "cell_type": "code",
      "execution_count": 72,
      "metadata": {
        "colab": {
          "base_uri": "https://localhost:8080/",
          "height": 462
        },
        "id": "wp_1IvZMVpNS",
        "outputId": "fc3798bd-a62f-4d4a-84c4-2e782b5f9719"
      },
      "outputs": [
        {
          "output_type": "display_data",
          "data": {
            "text/plain": [
              "<IPython.core.display.HTML object>"
            ],
            "text/html": [
              "Waiting for W&B process to finish... <strong style=\"color:green\">(success).</strong>"
            ]
          },
          "metadata": {}
        },
        {
          "output_type": "display_data",
          "data": {
            "text/plain": [
              "<IPython.core.display.HTML object>"
            ],
            "text/html": [
              "<style>\n",
              "    table.wandb td:nth-child(1) { padding: 0 10px; text-align: left ; width: auto;} td:nth-child(2) {text-align: left ; width: 100%}\n",
              "    .wandb-row { display: flex; flex-direction: row; flex-wrap: wrap; justify-content: flex-start; width: 100% }\n",
              "    .wandb-col { display: flex; flex-direction: column; flex-basis: 100%; flex: 1; padding: 10px; }\n",
              "    </style>\n",
              "<div class=\"wandb-row\"><div class=\"wandb-col\"><h3>Run history:</h3><br/><table class=\"wandb\"><tr><td>eval/loss</td><td>█▁</td></tr><tr><td>eval/runtime</td><td>█▁</td></tr><tr><td>eval/samples_per_second</td><td>▁█</td></tr><tr><td>eval/steps_per_second</td><td>▁█</td></tr><tr><td>train/epoch</td><td>▁▂▆██</td></tr><tr><td>train/global_step</td><td>▁▂▆██</td></tr><tr><td>train/learning_rate</td><td>█▁</td></tr><tr><td>train/loss</td><td>█▁</td></tr><tr><td>train/total_flos</td><td>▁</td></tr><tr><td>train/train_loss</td><td>▁</td></tr><tr><td>train/train_runtime</td><td>▁</td></tr><tr><td>train/train_samples_per_second</td><td>▁</td></tr><tr><td>train/train_steps_per_second</td><td>▁</td></tr></table><br/></div><div class=\"wandb-col\"><h3>Run summary:</h3><br/><table class=\"wandb\"><tr><td>eval/loss</td><td>0.04119</td></tr><tr><td>eval/runtime</td><td>30.122</td></tr><tr><td>eval/samples_per_second</td><td>10.69</td></tr><tr><td>eval/steps_per_second</td><td>5.345</td></tr><tr><td>train/epoch</td><td>2.0</td></tr><tr><td>train/global_step</td><td>1274</td></tr><tr><td>train/learning_rate</td><td>0.0</td></tr><tr><td>train/loss</td><td>0.0305</td></tr><tr><td>train/total_flos</td><td>5392365748224000.0</td></tr><tr><td>train/train_loss</td><td>0.19038</td></tr><tr><td>train/train_runtime</td><td>952.2931</td></tr><tr><td>train/train_samples_per_second</td><td>2.676</td></tr><tr><td>train/train_steps_per_second</td><td>1.338</td></tr></table><br/></div></div>"
            ]
          },
          "metadata": {}
        },
        {
          "output_type": "display_data",
          "data": {
            "text/plain": [
              "<IPython.core.display.HTML object>"
            ],
            "text/html": [
              " View run <strong style=\"color:#cdcd00\">crimson-dawn-20</strong> at: <a href='https://wandb.ai/evapradhan/clickbait_spoiling/runs/bb6za3eo' target=\"_blank\">https://wandb.ai/evapradhan/clickbait_spoiling/runs/bb6za3eo</a><br/>Synced 5 W&B file(s), 0 media file(s), 0 artifact file(s) and 0 other file(s)"
            ]
          },
          "metadata": {}
        },
        {
          "output_type": "display_data",
          "data": {
            "text/plain": [
              "<IPython.core.display.HTML object>"
            ],
            "text/html": [
              "Find logs at: <code>./wandb/run-20230513_072221-bb6za3eo/logs</code>"
            ]
          },
          "metadata": {}
        }
      ],
      "source": [
        "if WANDB_INTEGRATION:\n",
        "    wandb_run.finish()"
      ]
    },
    {
      "cell_type": "code",
      "execution_count": null,
      "metadata": {
        "id": "Y9gvbz_5sdSi"
      },
      "outputs": [],
      "source": [
        "#EVALUATION METRICS"
      ]
    },
    {
      "cell_type": "code",
      "execution_count": 73,
      "metadata": {
        "id": "J8IxnZIwq2DG"
      },
      "outputs": [],
      "source": [
        "import nltk\n",
        "import nltk.translate.bleu_score as bleu\n",
        "\n",
        "import math\n",
        "import numpy\n",
        "import os\n",
        "\n",
        "try:\n",
        "  nltk.data.find('tokenizers/punkt')\n",
        "except LookupError:\n",
        "  nltk.download('punkt')"
      ]
    },
    {
      "cell_type": "code",
      "execution_count": 74,
      "metadata": {
        "id": "1-BJQjBDq194"
      },
      "outputs": [],
      "source": [
        "bleu_scores = []\n",
        "for i in range(len(dataframe)):\n",
        "# for data_results in dataframe[0]:\n",
        "  score_ref = bleu.sentence_bleu([dataframe.iloc[i][\"gen_spoiler\"]], dataframe.iloc[i][\"actual_spoiler\"])\n",
        "  bleu_scores.append(score_ref)\n",
        "\n"
      ]
    },
    {
      "cell_type": "code",
      "execution_count": 75,
      "metadata": {
        "colab": {
          "base_uri": "https://localhost:8080/"
        },
        "id": "jUK0xXhTq17U",
        "outputId": "f15093e2-58d9-40c4-db5d-6a0a36e5b36d"
      },
      "outputs": [
        {
          "output_type": "execute_result",
          "data": {
            "text/plain": [
              "[0.001363571112372502,\n",
              " 0.05120161476399905,\n",
              " 0.03093968363466044,\n",
              " 0.028686170716506653,\n",
              " 0.05081717238937098,\n",
              " 0.12662438617972865,\n",
              " 0.0021224750098016994,\n",
              " 0.14997354549542918,\n",
              " 0.1436744218469674,\n",
              " 0.21351758910118082,\n",
              " 0.0018358361753817397,\n",
              " 0.14872991942442815,\n",
              " 0.0011710140775728314,\n",
              " 0.42358925862833513,\n",
              " 0.03546572352619131,\n",
              " 0.19081752534672544,\n",
              " 0.34909362203488553,\n",
              " 0.005728591145010629,\n",
              " 0.03477142553618787,\n",
              " 0.0013419434718511944,\n",
              " 0.4792970162912115,\n",
              " 0.1599108944387853,\n",
              " 0.020755980284538622,\n",
              " 0.04800868193508562,\n",
              " 0.09413513623822724,\n",
              " 0.00465636727612932,\n",
              " 0.00016720308495270822,\n",
              " 0.10478821628052586,\n",
              " 0.11812710273429931,\n",
              " 0.04619630939438156,\n",
              " 0.45110947213884073,\n",
              " 0.15323982565691183,\n",
              " 0.010494189478826597,\n",
              " 0.0028464264599518518,\n",
              " 0.015836140167850295,\n",
              " 0.08353249949047235,\n",
              " 0.11515744328054599,\n",
              " 0.07134903541000666,\n",
              " 0.28589498304813543,\n",
              " 0.03463901265609433,\n",
              " 1.670170079024566e-05,\n",
              " 0.003998755524964797,\n",
              " 0.0031017427378659777,\n",
              " 0.008197319689855419,\n",
              " 0.0020830688926670063,\n",
              " 0.005247518399181385,\n",
              " 0.17244171187550167,\n",
              " 0.13622911335032103,\n",
              " 0.017246641914390397,\n",
              " 0.0733237294210439,\n",
              " 0.13372774264878817,\n",
              " 0.004417319467303245,\n",
              " 0.3222896717854495,\n",
              " 0.09387090325913026,\n",
              " 0.05694772704481936,\n",
              " 0.28546012832331813,\n",
              " 0.007945896874317968,\n",
              " 0.04839321062863395,\n",
              " 0.0016911326521228624,\n",
              " 0.3231554052304056,\n",
              " 0.2980494849689761,\n",
              " 0.2036905960509504,\n",
              " 0.19959217687895275,\n",
              " 0.029702372177144745,\n",
              " 0.011855274564456704,\n",
              " 0.0017817507797007672,\n",
              " 0.13004739414917119,\n",
              " 0.47726909998897143,\n",
              " 0.0012600543862994204,\n",
              " 0.15212148581352014,\n",
              " 0.3617286356292303,\n",
              " 4.679674214748381e-05,\n",
              " 0.01397193291706417,\n",
              " 0.007368479982906708,\n",
              " 0.04153269933227723,\n",
              " 0.19810161758299655,\n",
              " 0.485019148149096,\n",
              " 0.014055072355884534,\n",
              " 0.0903454504066612,\n",
              " 0.026321986895964065,\n",
              " 0.010526639349755756,\n",
              " 0.25272195032730105,\n",
              " 0.15753425485185277,\n",
              " 0.5631219047255549,\n",
              " 0.023445715131332492,\n",
              " 0.11192075503545287,\n",
              " 0.23676264504062572,\n",
              " 0.26885629741441486,\n",
              " 0.172801504994188,\n",
              " 0.00054339944717678,\n",
              " 0.35643574652017923,\n",
              " 0.00013850344145218313,\n",
              " 0.06226561044213743,\n",
              " 0.012148545159080532,\n",
              " 0.03567399334725241,\n",
              " 0.12117415963426167,\n",
              " 0.05616529346824765,\n",
              " 0.0313613897792664,\n",
              " 0.00932938174710213,\n",
              " 0.014813862746302107,\n",
              " 0.005624587694756523,\n",
              " 0.1857981105078348,\n",
              " 0.08139261207517223,\n",
              " 0.264789004587239,\n",
              " 0.008069432420971016,\n",
              " 0.028801524981336313,\n",
              " 0.263071653525925,\n",
              " 0.7318393596840554,\n",
              " 0.09275871006746701,\n",
              " 0.060728246906904995,\n",
              " 0.0007205794995572501,\n",
              " 0.031590196162053163,\n",
              " 0.03981216304859113,\n",
              " 0.016330344600362968,\n",
              " 0.00016119179853071088,\n",
              " 0.007137841776089383,\n",
              " 0.059825445290988044,\n",
              " 0.30774992650011906,\n",
              " 0.04963070492700703,\n",
              " 0.2407723996306976,\n",
              " 0.08358146683132621,\n",
              " 0.2831967158804267,\n",
              " 0.08393709088924547,\n",
              " 0.05454356752789608,\n",
              " 0.0008352411561870338,\n",
              " 0.02650650314740841,\n",
              " 0.19326298766757277,\n",
              " 0.005180247865713396,\n",
              " 0.03172676630522265,\n",
              " 0.028056575625915858,\n",
              " 0.5430564587205576,\n",
              " 0.017914674958640818,\n",
              " 0.0043124410782105806,\n",
              " 0.016755117684364735,\n",
              " 0.016827983840197572,\n",
              " 0.008099272528026271,\n",
              " 0.028657580800597143,\n",
              " 0.3435893201463694,\n",
              " 0.20095979944898573,\n",
              " 0.002182270328933544,\n",
              " 0.0027939766878899907,\n",
              " 0.021010245105896837,\n",
              " 0.029258712525972827,\n",
              " 0.000149118319580221,\n",
              " 5.546126065432281e-80,\n",
              " 0.1933794850832955,\n",
              " 0.01485689147044354,\n",
              " 0.2771779781378479,\n",
              " 0.8761041985031067,\n",
              " 0.4867864068704994,\n",
              " 0.014300887179036065,\n",
              " 0.1711684686577802,\n",
              " 0.13366055765942841,\n",
              " 0.004128686677400642,\n",
              " 0.27740329407532843,\n",
              " 0.18792884233241652,\n",
              " 0.0032892210906605205,\n",
              " 0.1404192564391121,\n",
              " 0.05944049453973449,\n",
              " 0.41068737610600786,\n",
              " 0.08303066895871906,\n",
              " 0.6346096136775891,\n",
              " 0.11667386258212738,\n",
              " 0.09906517051886635,\n",
              " 0.0029636903235602734,\n",
              " 0.21977416936204067,\n",
              " 0.02169849133161566,\n",
              " 0.005953554896387391,\n",
              " 0.25135384298939095,\n",
              " 0.017854818268215413,\n",
              " 0.08344140721945295,\n",
              " 0.09992899867223418,\n",
              " 0.009379125317267556,\n",
              " 0.0005097841452636626,\n",
              " 0.20263536575344063,\n",
              " 0.04927925637967236,\n",
              " 0.19695626964406976,\n",
              " 0.02536063033747143,\n",
              " 0.38144173987956437,\n",
              " 0.004517000417092326,\n",
              " 0.44283621327882533,\n",
              " 0.03428645723026647,\n",
              " 0.004782513370655255,\n",
              " 0.08846059991385778,\n",
              " 0.006345559512909116,\n",
              " 0.021346645107545904,\n",
              " 0.13433755362296285,\n",
              " 0.28156266265903884,\n",
              " 0.06161105970196444,\n",
              " 3.1958699690252157e-79,\n",
              " 0.07631574773791674,\n",
              " 0.0004747508802236883,\n",
              " 0.07356939056389039,\n",
              " 0.021253353229955474,\n",
              " 3.289992227875108e-78,\n",
              " 0.0003205921704679975,\n",
              " 0.05838573948426748,\n",
              " 0.024111185564315164,\n",
              " 0.4245545976989658,\n",
              " 0.06953663205515824,\n",
              " 0.20690059664302118,\n",
              " 0.27390052381324603,\n",
              " 0.0028394582642589637,\n",
              " 0.008066160674855443,\n",
              " 0.11401033431692553,\n",
              " 0.3218501426816755,\n",
              " 0.16651915510744278,\n",
              " 0.02253396342473071,\n",
              " 0.2473949557124657,\n",
              " 5.98367620647387e-79,\n",
              " 0.024785166601068026,\n",
              " 0.024453692954069316,\n",
              " 0.012949824132094,\n",
              " 0.010745934831254687,\n",
              " 3.097426750162892e-05,\n",
              " 0.01648124866273614,\n",
              " 0.004366332926291495,\n",
              " 0.12198420306952029,\n",
              " 0.3133071332386822,\n",
              " 0.1464391267882435,\n",
              " 0.37794229182091027,\n",
              " 0.14689473854114657,\n",
              " 0.24107250518673523,\n",
              " 0.017704157965206916,\n",
              " 0.1138377446142982,\n",
              " 0.15252507283528047,\n",
              " 0.6319304263586759,\n",
              " 0.0002008045313047806,\n",
              " 0.22755689474391266,\n",
              " 0.0002176782554489437,\n",
              " 0.008140523832875491,\n",
              " 0.0022086207060571144,\n",
              " 0.6874922123188739,\n",
              " 0.5115257150789813,\n",
              " 0.06996963294337084,\n",
              " 0.1338346921378706,\n",
              " 0.254937910591608,\n",
              " 7.927767790519019e-11,\n",
              " 6.315596085921847e-05,\n",
              " 0.1377081718119987,\n",
              " 0.17671205041764873,\n",
              " 8.875966237705236e-06,\n",
              " 0.005166415459583852,\n",
              " 0.11139559195661426,\n",
              " 0.3786930330410895,\n",
              " 0.07493314729169853,\n",
              " 0.19965478779929013,\n",
              " 0.0022435394109348076,\n",
              " 0.00010576044910426101,\n",
              " 0.019383405128234325,\n",
              " 0.011500514171665678,\n",
              " 0.13365143945677585,\n",
              " 0.0594494938561035,\n",
              " 0.021402123398361568,\n",
              " 0.05993615067448799,\n",
              " 0.5554045372415354,\n",
              " 1.0537776652596394e-78,\n",
              " 0.5497263993637623,\n",
              " 0.21948823070586382,\n",
              " 0.01813246406993609,\n",
              " 0.00015232811928528084,\n",
              " 0.00169490223513394,\n",
              " 0.07914909071233923,\n",
              " 0.1125203837430923,\n",
              " 0.19670941684945795,\n",
              " 0.2285597933924825,\n",
              " 0.04363795257513326,\n",
              " 0.42032080174666836,\n",
              " 0.19993637309772871,\n",
              " 0.02670240263357967,\n",
              " 0.022229736415262335,\n",
              " 0.008779866138401555,\n",
              " 0.05232111906485096,\n",
              " 0.3604358541533707,\n",
              " 0.00040729039720472586,\n",
              " 0.04698518283104791,\n",
              " 0.12137428802723939,\n",
              " 0.014529001126411091,\n",
              " 0.19608799854869113,\n",
              " 0.3036721885230226,\n",
              " 0.0010954848395879457,\n",
              " 0.09570530364970456,\n",
              " 0.09823892352436621,\n",
              " 0.01939485650344014,\n",
              " 0.0016270104035919562,\n",
              " 0.4682283081602516,\n",
              " 0.029920232769983464,\n",
              " 1.670170079024566e-05,\n",
              " 0.31105509290122274,\n",
              " 0.0019569038310946535,\n",
              " 0.08749507925976252,\n",
              " 0.18050576446161617,\n",
              " 0.6007618580037121,\n",
              " 0.012790986085381928,\n",
              " 0.8275884785176427,\n",
              " 0.23936741256459032,\n",
              " 0.261585618754193,\n",
              " 0.4504670660035229,\n",
              " 0.20749563594347264,\n",
              " 0.3877808990513459,\n",
              " 0.29073584082579584,\n",
              " 0.20320789801577246,\n",
              " 0.2498597149543919,\n",
              " 0.03981307576546607,\n",
              " 0.002509499112571323,\n",
              " 6.995888629537368e-80,\n",
              " 0.15552231371214753,\n",
              " 0.00039772827059348753,\n",
              " 0.5008953786814568,\n",
              " 0.002685341061567668,\n",
              " 0.4050709695856135,\n",
              " 0.003160289268716896,\n",
              " 0.005430647908457859,\n",
              " 0.011670667689816946,\n",
              " 0.06886028545256596,\n",
              " 0.011116578580491985,\n",
              " 0.02388173632090894,\n",
              " 0.3774502004980679,\n",
              " 0.012416707244023228,\n",
              " 0.006539805720737004,\n",
              " 0.1528889859746873,\n",
              " 0.01772194473202494]"
            ]
          },
          "metadata": {},
          "execution_count": 75
        }
      ],
      "source": [
        "bleu_scores"
      ]
    },
    {
      "cell_type": "code",
      "execution_count": 76,
      "metadata": {
        "colab": {
          "base_uri": "https://localhost:8080/"
        },
        "id": "u-PBlTTaq14c",
        "outputId": "673883cb-b5d2-47bb-d60a-c7e8b22dfb5c"
      },
      "outputs": [
        {
          "output_type": "execute_result",
          "data": {
            "text/plain": [
              "0.13"
            ]
          },
          "metadata": {},
          "execution_count": 76
        }
      ],
      "source": [
        "bleu_average = round(sum(bleu_scores) / len(bleu_scores), 2)\n",
        "bleu_average"
      ]
    },
    {
      "cell_type": "code",
      "execution_count": 77,
      "metadata": {
        "colab": {
          "base_uri": "https://localhost:8080/"
        },
        "id": "zK6OBCS-q11z",
        "outputId": "c196b9a2-1508-4eaf-a320-1f00e5c2775f"
      },
      "outputs": [
        {
          "output_type": "execute_result",
          "data": {
            "text/plain": [
              "5.546126065432281e-80"
            ]
          },
          "metadata": {},
          "execution_count": 77
        }
      ],
      "source": [
        "bleu_min = min(bleu_scores)\n",
        "bleu_min"
      ]
    },
    {
      "cell_type": "code",
      "execution_count": 78,
      "metadata": {
        "colab": {
          "base_uri": "https://localhost:8080/"
        },
        "id": "0wMpUNrPq1y-",
        "outputId": "0c5f2b62-b939-47c8-c32c-07d6774a0dcc"
      },
      "outputs": [
        {
          "output_type": "execute_result",
          "data": {
            "text/plain": [
              "0.8761041985031067"
            ]
          },
          "metadata": {},
          "execution_count": 78
        }
      ],
      "source": [
        "bleu_max = max(bleu_scores)\n",
        "bleu_max"
      ]
    },
    {
      "cell_type": "code",
      "execution_count": 79,
      "metadata": {
        "colab": {
          "base_uri": "https://localhost:8080/"
        },
        "id": "ll6pniGSq1wl",
        "outputId": "6bdaef22-862c-4409-d718-53c52f9b48af"
      },
      "outputs": [
        {
          "output_type": "execute_result",
          "data": {
            "text/plain": [
              "0.05766673326454342"
            ]
          },
          "metadata": {},
          "execution_count": 79
        }
      ],
      "source": [
        "bleu_scores.sort()\n",
        "mid = len(bleu_scores) // 2\n",
        "res = (bleu_scores[mid] + bleu_scores[~mid]) / 2\n",
        "bleu_median = res\n",
        "bleu_median"
      ]
    },
    {
      "cell_type": "code",
      "execution_count": 80,
      "metadata": {
        "id": "56B27EZuq1uA"
      },
      "outputs": [],
      "source": [
        "import sys\n",
        "from nltk.translate.meteor_score import meteor_score"
      ]
    },
    {
      "cell_type": "code",
      "execution_count": 81,
      "metadata": {
        "id": "agear1Ovq1rb"
      },
      "outputs": [],
      "source": [
        "meteor_scores = []\n",
        "for i in range(len(dataframe)):\n",
        "# for data_results in dataframe[0]:\n",
        "  gen_spoiler_strip = dataframe.iloc[i][\"gen_spoiler\"].strip()\n",
        "\n",
        "  ref = word_tokenize(gen_spoiler_strip)\n",
        "  hypo = word_tokenize(dataframe.iloc[i][\"actual_spoiler\"].strip())\n",
        "  meteor = nltk.translate.meteor_score.meteor_score([ref], hypo)\n",
        "\n",
        "\n",
        "  # meteor = nltk.translate.meteor_score.meteor_score([gen_spoiler_strip], dataframe.iloc[i][\"actual_spoiler\"].strip())\n",
        "  # meteor = round(meteor_score([dataframe.iloc[i][\"gen_spoiler\"]], dataframe.iloc[i][\"actual_spoiler\"]), 2) # list of references\n",
        "  meteor_scores.append(meteor)\n",
        "\n"
      ]
    },
    {
      "cell_type": "code",
      "execution_count": 82,
      "metadata": {
        "colab": {
          "base_uri": "https://localhost:8080/"
        },
        "id": "SH33dddEq1n_",
        "outputId": "a871c3f0-e602-48fa-cb61-00c960ad8dcc"
      },
      "outputs": [
        {
          "output_type": "execute_result",
          "data": {
            "text/plain": [
              "[0.05998956703182055,\n",
              " 0.12096774193548387,\n",
              " 0.14189314106119433,\n",
              " 0.19351543583535108,\n",
              " 0.19005681818181816,\n",
              " 0.2519586894586895,\n",
              " 0.09755353117956424,\n",
              " 0.1234567901234568,\n",
              " 0.3005965605589328,\n",
              " 0.09933774834437087,\n",
              " 0.0550179211469534,\n",
              " 0.05353319057815846,\n",
              " 0.021645021645021644,\n",
              " 0.4749702296638864,\n",
              " 0.11643192488262913,\n",
              " 0.07743362831858407,\n",
              " 0.41732283464566927,\n",
              " 0.16039756455610907,\n",
              " 0.04975124378109453,\n",
              " 0.18269177436352543,\n",
              " 0.4596502626872346,\n",
              " 0.08342151675485011,\n",
              " 0.28002820328485317,\n",
              " 0.06300114547537228,\n",
              " 0.05102040816326531,\n",
              " 0.07112810707456979,\n",
              " 0.03824091778202676,\n",
              " 0.31018740686484986,\n",
              " 0.06711409395973153,\n",
              " 0.053763440860215055,\n",
              " 0.5667452672579214,\n",
              " 0.09111617312072892,\n",
              " 0.03355704697986578,\n",
              " 0.041237113402061855,\n",
              " 0.018832391713747648,\n",
              " 0.07142857142857142,\n",
              " 0.03164556962025317,\n",
              " 0.27488992172211346,\n",
              " 0.36644721117702017,\n",
              " 0.18762174280568927,\n",
              " 0.04291845493562232,\n",
              " 0.030525030525030524,\n",
              " 0.02150537634408602,\n",
              " 0.04006410256410257,\n",
              " 0.12549701789264414,\n",
              " 0.11013864818024263,\n",
              " 0.2651943628325526,\n",
              " 0.09913258983890953,\n",
              " 0.05030181086519115,\n",
              " 0.21288648286639136,\n",
              " 0.04437869822485207,\n",
              " 0.16321577174559146,\n",
              " 0.15315315315315314,\n",
              " 0.1180307174416158,\n",
              " 0.09632224168126095,\n",
              " 0.32733255754810764,\n",
              " 0.06488185975609756,\n",
              " 0.11130905340423536,\n",
              " 0.011876484560570073,\n",
              " 0.2256726146449704,\n",
              " 0.10771992818671454,\n",
              " 0.09121061359867329,\n",
              " 0.37390361445783127,\n",
              " 0.21183099308099307,\n",
              " 0.02906976744186046,\n",
              " 0.0,\n",
              " 0.13234184504189664,\n",
              " 0.4801591715171961,\n",
              " 0.02910360884749709,\n",
              " 0.06814310051107325,\n",
              " 0.22186838941393108,\n",
              " 0.09067055393586006,\n",
              " 0.03496503496503497,\n",
              " 0.05899532710280373,\n",
              " 0.051867219917012444,\n",
              " 0.12530459945172095,\n",
              " 0.49763787510137886,\n",
              " 0.07979897449828519,\n",
              " 0.07956255866523741,\n",
              " 0.05217391304347825,\n",
              " 0.1804770872567483,\n",
              " 0.1065891472868217,\n",
              " 0.09108446412521648,\n",
              " 0.5502665295052839,\n",
              " 0.06860551826994779,\n",
              " 0.05112474437627811,\n",
              " 0.15870370149893445,\n",
              " 0.07920792079207921,\n",
              " 0.031512605042016806,\n",
              " 0.011160714285714286,\n",
              " 0.4552364786092018,\n",
              " 0.18989834091544988,\n",
              " 0.22989690721649483,\n",
              " 0.05016722408026757,\n",
              " 0.2807136375835495,\n",
              " 0.044150110375275935,\n",
              " 0.2531388238355451,\n",
              " 0.032188841201716736,\n",
              " 0.08671328671328672,\n",
              " 0.010204081632653062,\n",
              " 0.02487562189054727,\n",
              " 0.045372050816696916,\n",
              " 0.03378378378378378,\n",
              " 0.13572665207591544,\n",
              " 0.15381452051523553,\n",
              " 0.06437768240343347,\n",
              " 0.34612490594431905,\n",
              " 0.772938829787234,\n",
              " 0.011682242990654205,\n",
              " 0.0677200902934537,\n",
              " 0.09791400595998297,\n",
              " 0.06903353057199212,\n",
              " 0.0437062937062937,\n",
              " 0.069284064665127,\n",
              " 0.03527336860670194,\n",
              " 0.07838745800671892,\n",
              " 0.08569595502871805,\n",
              " 0.5,\n",
              " 0.24424723941372706,\n",
              " 0.4503059656042459,\n",
              " 0.08968609865470852,\n",
              " 0.14619883040935672,\n",
              " 0.01658374792703151,\n",
              " 0.09841269841269842,\n",
              " 0.03577817531305904,\n",
              " 0.19893899204244034,\n",
              " 0.37018140589569165,\n",
              " 0.03189792663476874,\n",
              " 0.045248868778280535,\n",
              " 0.04,\n",
              " 0.5217347024779457,\n",
              " 0.07435532352475874,\n",
              " 0.011160714285714286,\n",
              " 0.009124087591240875,\n",
              " 0.04448398576512455,\n",
              " 0.051975051975051964,\n",
              " 0.10067720090293454,\n",
              " 0.14675052410901465,\n",
              " 0.2263575605680869,\n",
              " 0.040128410914927776,\n",
              " 0.046125461254612546,\n",
              " 0.19594394685171737,\n",
              " 0.08316008316008318,\n",
              " 0.03955696202531646,\n",
              " 0.02680965147453083,\n",
              " 0.11456628477905073,\n",
              " 0.01592356687898089,\n",
              " 0.3676470588235294,\n",
              " 0.9149470139487377,\n",
              " 0.43985465672212665,\n",
              " 0.03454231433506045,\n",
              " 0.5495434370206316,\n",
              " 0.1409090909090909,\n",
              " 0.14285408093278465,\n",
              " 0.30354075835645394,\n",
              " 0.18918852145124823,\n",
              " 0.06125574272588055,\n",
              " 0.086848635235732,\n",
              " 0.07142857142857142,\n",
              " 0.24224933315842406,\n",
              " 0.049800796812749015,\n",
              " 0.7208448117539028,\n",
              " 0.30439485069114697,\n",
              " 0.3059440559440559,\n",
              " 0.03144654088050315,\n",
              " 0.08695652173913043,\n",
              " 0.033003300330033,\n",
              " 0.037593984962406006,\n",
              " 0.11725293132328307,\n",
              " 0.05737704918032787,\n",
              " 0.04132231404958678,\n",
              " 0.293244109237898,\n",
              " 0.05102040816326531,\n",
              " 0.007320644216691069,\n",
              " 0.3259812655139301,\n",
              " 0.06788321167883211,\n",
              " 0.0688976377952756,\n",
              " 0.11941730414804717,\n",
              " 0.1936581189979661,\n",
              " 0.059439736346516,\n",
              " 0.503466187430292,\n",
              " 0.09298998569384835,\n",
              " 0.010080645161290322,\n",
              " 0.07668711656441718,\n",
              " 0.1679030987394958,\n",
              " 0.06216696269982238,\n",
              " 0.06696428571428571,\n",
              " 0.1879236614605232,\n",
              " 0.24905123339658441,\n",
              " 0.0,\n",
              " 0.08986928104575163,\n",
              " 0.11381965431763387,\n",
              " 0.14493413464456992,\n",
              " 0.051724137931034475,\n",
              " 0.07014028056112225,\n",
              " 0.043156596794081376,\n",
              " 0.20250265348304564,\n",
              " 0.0338409475465313,\n",
              " 0.4702520344537104,\n",
              " 0.07291666666666667,\n",
              " 0.13771186440677968,\n",
              " 0.11210762331838565,\n",
              " 0.040053404539385835,\n",
              " 0.018633540372670804,\n",
              " 0.05518763796909493,\n",
              " 0.46080069124423967,\n",
              " 0.06993006993006992,\n",
              " 0.07097791798107254,\n",
              " 0.3441355337777336,\n",
              " 0.02109704641350211,\n",
              " 0.10101010101010101,\n",
              " 0.1787575150300601,\n",
              " 0.05333333333333334,\n",
              " 0.03607503607503607,\n",
              " 0.03466204506065858,\n",
              " 0.11241519674355495,\n",
              " 0.02092050209205021,\n",
              " 0.19270246046202333,\n",
              " 0.49957115009746583,\n",
              " 0.24031722457697824,\n",
              " 0.34958465189873417,\n",
              " 0.181585476656416,\n",
              " 0.06862745098039215,\n",
              " 0.060331825037707384,\n",
              " 0.11307767944936085,\n",
              " 0.07399577167019028,\n",
              " 0.5786224782001952,\n",
              " 0.04122497055359246,\n",
              " 0.32993287875559335,\n",
              " 0.03766478342749529,\n",
              " 0.028328611898017,\n",
              " 0.019880715705765408,\n",
              " 0.7365024589956144,\n",
              " 0.6052093216318786,\n",
              " 0.17060810810810811,\n",
              " 0.0650759219088937,\n",
              " 0.41999344477220585,\n",
              " 0.043461829176114894,\n",
              " 0.035460992907801414,\n",
              " 0.416069787204523,\n",
              " 0.1303538175046555,\n",
              " 0.08050541516245487,\n",
              " 0.031982942430703626,\n",
              " 0.04285714285714286,\n",
              " 0.20967706186138263,\n",
              " 0.06756756756756756,\n",
              " 0.13037312338011636,\n",
              " 0.008561643835616438,\n",
              " 0.018315018315018312,\n",
              " 0.07623792270531402,\n",
              " 0.020366598778004074,\n",
              " 0.1676894534037391,\n",
              " 0.28024672784714905,\n",
              " 0.15473577887123402,\n",
              " 0.10514451581027666,\n",
              " 0.6400966183574879,\n",
              " 0.07194244604316546,\n",
              " 0.485573476702509,\n",
              " 0.06329113924050633,\n",
              " 0.11335623358254193,\n",
              " 0.08259911894273128,\n",
              " 0.04939358372456964,\n",
              " 0.07575757575757576,\n",
              " 0.025684931506849314,\n",
              " 0.2036483383162182,\n",
              " 0.19572835711995756,\n",
              " 0.038580246913580245,\n",
              " 0.2445825366475462,\n",
              " 0.33295506850742684,\n",
              " 0.02493765586034913,\n",
              " 0.04716981132075471,\n",
              " 0.15141123165814524,\n",
              " 0.05319148936170212,\n",
              " 0.19680067879513866,\n",
              " 0.16265965439519164,\n",
              " 0.25278662420382164,\n",
              " 0.5595002074784452,\n",
              " 0.016474464579901153,\n",
              " 0.13234184504189664,\n",
              " 0.5085814360770579,\n",
              " 0.01564945226917058,\n",
              " 0.19747843271386767,\n",
              " 0.10548523206751055,\n",
              " 0.08538899430740036,\n",
              " 0.06494341563786009,\n",
              " 0.5385260810404263,\n",
              " 0.06983240223463687,\n",
              " 0.0968013468013468,\n",
              " 0.42228378378378373,\n",
              " 0.005945303210463734,\n",
              " 0.1694274028629857,\n",
              " 0.06568144499178981,\n",
              " 0.5247524752475248,\n",
              " 0.03294892915980231,\n",
              " 0.8316401914416803,\n",
              " 0.21669018343075994,\n",
              " 0.14056224899598393,\n",
              " 0.5004448398576512,\n",
              " 0.1829268292682927,\n",
              " 0.532812411528226,\n",
              " 0.11217948717948717,\n",
              " 0.1175406871609403,\n",
              " 0.09685230024213075,\n",
              " 0.04210526315789473,\n",
              " 0.04621072088724584,\n",
              " 0.011363636363636362,\n",
              " 0.08083140877598152,\n",
              " 0.009487666034155596,\n",
              " 0.49148893620525375,\n",
              " 0.019841269841269844,\n",
              " 0.2607462467602327,\n",
              " 0.18973948354256626,\n",
              " 0.1546690801076766,\n",
              " 0.05952380952380953,\n",
              " 0.26731160896130346,\n",
              " 0.05338078291814947,\n",
              " 0.017574692442882248,\n",
              " 0.24153965383621803,\n",
              " 0.034013605442176874,\n",
              " 0.05768748432405316,\n",
              " 0.06679389312977098,\n",
              " 0.08532739751437583]"
            ]
          },
          "metadata": {},
          "execution_count": 82
        }
      ],
      "source": [
        "meteor_scores"
      ]
    },
    {
      "cell_type": "code",
      "execution_count": 83,
      "metadata": {
        "colab": {
          "base_uri": "https://localhost:8080/"
        },
        "id": "ImevHPTttfqr",
        "outputId": "96312e47-9a6c-4449-e00e-ab1810c9fe4e"
      },
      "outputs": [
        {
          "output_type": "execute_result",
          "data": {
            "text/plain": [
              "0.16"
            ]
          },
          "metadata": {},
          "execution_count": 83
        }
      ],
      "source": [
        "meteor_scores_average = round(sum(meteor_scores) / len(meteor_scores), 2)\n",
        "meteor_scores_average"
      ]
    },
    {
      "cell_type": "code",
      "execution_count": 84,
      "metadata": {
        "colab": {
          "base_uri": "https://localhost:8080/"
        },
        "id": "DJLf_hyhtfoG",
        "outputId": "de74cf35-68c2-4af5-c1d3-260cfd995ce5"
      },
      "outputs": [
        {
          "output_type": "execute_result",
          "data": {
            "text/plain": [
              "0.9149470139487377"
            ]
          },
          "metadata": {},
          "execution_count": 84
        }
      ],
      "source": [
        "meteor_scores_max = max(meteor_scores)\n",
        "meteor_scores_max"
      ]
    },
    {
      "cell_type": "code",
      "execution_count": 85,
      "metadata": {
        "colab": {
          "base_uri": "https://localhost:8080/"
        },
        "id": "1lUe3zFRtfjK",
        "outputId": "c8b28b29-80dd-40c9-bb8d-30cb2294b221"
      },
      "outputs": [
        {
          "output_type": "execute_result",
          "data": {
            "text/plain": [
              "0.0"
            ]
          },
          "metadata": {},
          "execution_count": 85
        }
      ],
      "source": [
        "meteor_scores_min = min(meteor_scores)\n",
        "meteor_scores_min"
      ]
    },
    {
      "cell_type": "code",
      "execution_count": 86,
      "metadata": {
        "colab": {
          "base_uri": "https://localhost:8080/"
        },
        "id": "26cfRxGGtffu",
        "outputId": "8ba4deff-efd4-41df-ef6f-b6e69a41c7b7"
      },
      "outputs": [
        {
          "output_type": "execute_result",
          "data": {
            "text/plain": [
              "0.09026991749080585"
            ]
          },
          "metadata": {},
          "execution_count": 86
        }
      ],
      "source": [
        "meteor_scores.sort()\n",
        "mid = len(meteor_scores) // 2\n",
        "res = (meteor_scores[mid] + meteor_scores[~mid]) / 2\n",
        "meteor_scores_median = res\n",
        "meteor_scores_median"
      ]
    },
    {
      "cell_type": "code",
      "execution_count": null,
      "metadata": {
        "id": "ez-V0w2Yq1lI"
      },
      "outputs": [],
      "source": []
    },
    {
      "cell_type": "code",
      "execution_count": null,
      "metadata": {
        "id": "VVFsHs1nxxPf"
      },
      "outputs": [],
      "source": []
    },
    {
      "cell_type": "code",
      "execution_count": null,
      "metadata": {
        "colab": {
          "base_uri": "https://localhost:8080/"
        },
        "id": "yWG31j0uwqb1",
        "outputId": "21a36264-60df-4a50-9c63-e5ca3e6f9192"
      },
      "outputs": [
        {
          "name": "stdout",
          "output_type": "stream",
          "text": [
            "Looking in indexes: https://pypi.org/simple, https://us-python.pkg.dev/colab-wheels/public/simple/\n",
            "Collecting bert-score\n",
            "  Downloading bert_score-0.3.13-py3-none-any.whl (61 kB)\n",
            "\u001b[2K     \u001b[90m━━━━━━━━━━━━━━━━━━━━━━━━━━━━━━━━━━━━━━━━\u001b[0m \u001b[32m61.1/61.1 kB\u001b[0m \u001b[31m3.0 MB/s\u001b[0m eta \u001b[36m0:00:00\u001b[0m\n",
            "\u001b[?25hRequirement already satisfied: torch>=1.0.0 in /usr/local/lib/python3.10/dist-packages (from bert-score) (2.0.0+cu118)\n",
            "Requirement already satisfied: pandas>=1.0.1 in /usr/local/lib/python3.10/dist-packages (from bert-score) (1.5.3)\n",
            "Requirement already satisfied: transformers>=3.0.0 in /usr/local/lib/python3.10/dist-packages (from bert-score) (4.29.0)\n",
            "Requirement already satisfied: numpy in /usr/local/lib/python3.10/dist-packages (from bert-score) (1.22.4)\n",
            "Requirement already satisfied: requests in /usr/local/lib/python3.10/dist-packages (from bert-score) (2.27.1)\n",
            "Requirement already satisfied: tqdm>=4.31.1 in /usr/local/lib/python3.10/dist-packages (from bert-score) (4.65.0)\n",
            "Requirement already satisfied: matplotlib in /usr/local/lib/python3.10/dist-packages (from bert-score) (3.7.1)\n",
            "Requirement already satisfied: packaging>=20.9 in /usr/local/lib/python3.10/dist-packages (from bert-score) (23.1)\n",
            "Requirement already satisfied: python-dateutil>=2.8.1 in /usr/local/lib/python3.10/dist-packages (from pandas>=1.0.1->bert-score) (2.8.2)\n",
            "Requirement already satisfied: pytz>=2020.1 in /usr/local/lib/python3.10/dist-packages (from pandas>=1.0.1->bert-score) (2022.7.1)\n",
            "Requirement already satisfied: filelock in /usr/local/lib/python3.10/dist-packages (from torch>=1.0.0->bert-score) (3.12.0)\n",
            "Requirement already satisfied: typing-extensions in /usr/local/lib/python3.10/dist-packages (from torch>=1.0.0->bert-score) (4.5.0)\n",
            "Requirement already satisfied: sympy in /usr/local/lib/python3.10/dist-packages (from torch>=1.0.0->bert-score) (1.11.1)\n",
            "Requirement already satisfied: networkx in /usr/local/lib/python3.10/dist-packages (from torch>=1.0.0->bert-score) (3.1)\n",
            "Requirement already satisfied: jinja2 in /usr/local/lib/python3.10/dist-packages (from torch>=1.0.0->bert-score) (3.1.2)\n",
            "Requirement already satisfied: triton==2.0.0 in /usr/local/lib/python3.10/dist-packages (from torch>=1.0.0->bert-score) (2.0.0)\n",
            "Requirement already satisfied: cmake in /usr/local/lib/python3.10/dist-packages (from triton==2.0.0->torch>=1.0.0->bert-score) (3.25.2)\n",
            "Requirement already satisfied: lit in /usr/local/lib/python3.10/dist-packages (from triton==2.0.0->torch>=1.0.0->bert-score) (16.0.3)\n",
            "Requirement already satisfied: huggingface-hub<1.0,>=0.11.0 in /usr/local/lib/python3.10/dist-packages (from transformers>=3.0.0->bert-score) (0.14.1)\n",
            "Requirement already satisfied: pyyaml>=5.1 in /usr/local/lib/python3.10/dist-packages (from transformers>=3.0.0->bert-score) (6.0)\n",
            "Requirement already satisfied: regex!=2019.12.17 in /usr/local/lib/python3.10/dist-packages (from transformers>=3.0.0->bert-score) (2022.10.31)\n",
            "Requirement already satisfied: tokenizers!=0.11.3,<0.14,>=0.11.1 in /usr/local/lib/python3.10/dist-packages (from transformers>=3.0.0->bert-score) (0.13.3)\n",
            "Requirement already satisfied: contourpy>=1.0.1 in /usr/local/lib/python3.10/dist-packages (from matplotlib->bert-score) (1.0.7)\n",
            "Requirement already satisfied: cycler>=0.10 in /usr/local/lib/python3.10/dist-packages (from matplotlib->bert-score) (0.11.0)\n",
            "Requirement already satisfied: fonttools>=4.22.0 in /usr/local/lib/python3.10/dist-packages (from matplotlib->bert-score) (4.39.3)\n",
            "Requirement already satisfied: kiwisolver>=1.0.1 in /usr/local/lib/python3.10/dist-packages (from matplotlib->bert-score) (1.4.4)\n",
            "Requirement already satisfied: pillow>=6.2.0 in /usr/local/lib/python3.10/dist-packages (from matplotlib->bert-score) (8.4.0)\n",
            "Requirement already satisfied: pyparsing>=2.3.1 in /usr/local/lib/python3.10/dist-packages (from matplotlib->bert-score) (3.0.9)\n",
            "Requirement already satisfied: urllib3<1.27,>=1.21.1 in /usr/local/lib/python3.10/dist-packages (from requests->bert-score) (1.26.15)\n",
            "Requirement already satisfied: certifi>=2017.4.17 in /usr/local/lib/python3.10/dist-packages (from requests->bert-score) (2022.12.7)\n",
            "Requirement already satisfied: charset-normalizer~=2.0.0 in /usr/local/lib/python3.10/dist-packages (from requests->bert-score) (2.0.12)\n",
            "Requirement already satisfied: idna<4,>=2.5 in /usr/local/lib/python3.10/dist-packages (from requests->bert-score) (3.4)\n",
            "Requirement already satisfied: fsspec in /usr/local/lib/python3.10/dist-packages (from huggingface-hub<1.0,>=0.11.0->transformers>=3.0.0->bert-score) (2023.4.0)\n",
            "Requirement already satisfied: six>=1.5 in /usr/local/lib/python3.10/dist-packages (from python-dateutil>=2.8.1->pandas>=1.0.1->bert-score) (1.16.0)\n",
            "Requirement already satisfied: MarkupSafe>=2.0 in /usr/local/lib/python3.10/dist-packages (from jinja2->torch>=1.0.0->bert-score) (2.1.2)\n",
            "Requirement already satisfied: mpmath>=0.19 in /usr/local/lib/python3.10/dist-packages (from sympy->torch>=1.0.0->bert-score) (1.3.0)\n",
            "Installing collected packages: bert-score\n",
            "Successfully installed bert-score-0.3.13\n"
          ]
        }
      ],
      "source": [
        "!pip install bert-score"
      ]
    },
    {
      "cell_type": "code",
      "execution_count": null,
      "metadata": {
        "id": "fOE8ry7WwmWp"
      },
      "outputs": [],
      "source": [
        "from bert_score import score"
      ]
    },
    {
      "cell_type": "code",
      "execution_count": null,
      "metadata": {
        "colab": {
          "base_uri": "https://localhost:8080/"
        },
        "id": "YDpOSLEPw0RP",
        "outputId": "aca6a816-5889-4a84-ef91-7abc34d1dabd"
      },
      "outputs": [
        {
          "name": "stdout",
          "output_type": "stream",
          "text": [
            "Cloning into 'bert_score'...\n",
            "remote: Enumerating objects: 993, done.\u001b[K\n",
            "remote: Counting objects: 100% (355/355), done.\u001b[K\n",
            "remote: Compressing objects: 100% (156/156), done.\u001b[K\n",
            "remote: Total 993 (delta 219), reused 322 (delta 198), pack-reused 638\u001b[K\n",
            "Receiving objects: 100% (993/993), 1.34 MiB | 10.33 MiB/s, done.\n",
            "Resolving deltas: 100% (534/534), done.\n"
          ]
        }
      ],
      "source": [
        "!git clone https://github.com/Tiiiger/bert_score.git"
      ]
    },
    {
      "cell_type": "code",
      "execution_count": null,
      "metadata": {
        "colab": {
          "base_uri": "https://localhost:8080/",
          "height": 248
        },
        "id": "bxnk4LWQw_qL",
        "outputId": "3939dc49-a800-4ad2-87da-c7557d4286ca"
      },
      "outputs": [
        {
          "data": {
            "text/html": [
              "<pre style=\"white-space:pre;overflow-x:auto;line-height:normal;font-family:Menlo,'DejaVu Sans Mono',consolas,'Courier New',monospace\"><span style=\"color: #800000; text-decoration-color: #800000\">╭─────────────────────────────── </span><span style=\"color: #800000; text-decoration-color: #800000; font-weight: bold\">Traceback </span><span style=\"color: #bf7f7f; text-decoration-color: #bf7f7f; font-weight: bold\">(most recent call last)</span><span style=\"color: #800000; text-decoration-color: #800000\"> ────────────────────────────────╮</span>\n",
              "<span style=\"color: #800000; text-decoration-color: #800000\">│</span> in <span style=\"color: #00ff00; text-decoration-color: #00ff00\">&lt;cell line: 4&gt;</span>:<span style=\"color: #0000ff; text-decoration-color: #0000ff\">13</span>                                                                             <span style=\"color: #800000; text-decoration-color: #800000\">│</span>\n",
              "<span style=\"color: #800000; text-decoration-color: #800000\">│</span>                                                                                                  <span style=\"color: #800000; text-decoration-color: #800000\">│</span>\n",
              "<span style=\"color: #800000; text-decoration-color: #800000\">│</span> <span style=\"color: #bfbf7f; text-decoration-color: #bfbf7f\">/usr/local/lib/python3.10/dist-packages/bert_score/</span><span style=\"color: #808000; text-decoration-color: #808000; font-weight: bold\">score.py</span>:<span style=\"color: #0000ff; text-decoration-color: #0000ff\">70</span> in <span style=\"color: #00ff00; text-decoration-color: #00ff00\">score</span>                          <span style=\"color: #800000; text-decoration-color: #800000\">│</span>\n",
              "<span style=\"color: #800000; text-decoration-color: #800000\">│</span>                                                                                                  <span style=\"color: #800000; text-decoration-color: #800000\">│</span>\n",
              "<span style=\"color: #800000; text-decoration-color: #800000\">│</span>   <span style=\"color: #7f7f7f; text-decoration-color: #7f7f7f\"> 67 </span><span style=\"color: #bfbf7f; text-decoration-color: #bfbf7f\">│   │   │   │     </span><span style=\"color: #808000; text-decoration-color: #808000\">multiple references, the returned score of this candidate is</span>             <span style=\"color: #800000; text-decoration-color: #800000\">│</span>\n",
              "<span style=\"color: #800000; text-decoration-color: #800000\">│</span>   <span style=\"color: #7f7f7f; text-decoration-color: #7f7f7f\"> 68 </span><span style=\"color: #bfbf7f; text-decoration-color: #bfbf7f\">│   │   │   │     </span><span style=\"color: #808000; text-decoration-color: #808000\">the *best* score among all references.</span>                                   <span style=\"color: #800000; text-decoration-color: #800000\">│</span>\n",
              "<span style=\"color: #800000; text-decoration-color: #800000\">│</span>   <span style=\"color: #7f7f7f; text-decoration-color: #7f7f7f\"> 69 </span><span style=\"color: #bfbf7f; text-decoration-color: #bfbf7f\">│   </span><span style=\"color: #808000; text-decoration-color: #808000\">\"\"\"</span>                                                                                    <span style=\"color: #800000; text-decoration-color: #800000\">│</span>\n",
              "<span style=\"color: #800000; text-decoration-color: #800000\">│</span> <span style=\"color: #800000; text-decoration-color: #800000\">❱ </span> 70 <span style=\"color: #7f7f7f; text-decoration-color: #7f7f7f\">│   </span><span style=\"color: #0000ff; text-decoration-color: #0000ff\">assert</span> <span style=\"color: #00ffff; text-decoration-color: #00ffff\">len</span>(cands) == <span style=\"color: #00ffff; text-decoration-color: #00ffff\">len</span>(refs), <span style=\"color: #808000; text-decoration-color: #808000\">\"Different number of candidates and references\"</span>        <span style=\"color: #800000; text-decoration-color: #800000\">│</span>\n",
              "<span style=\"color: #800000; text-decoration-color: #800000\">│</span>   <span style=\"color: #7f7f7f; text-decoration-color: #7f7f7f\"> 71 │   </span>                                                                                       <span style=\"color: #800000; text-decoration-color: #800000\">│</span>\n",
              "<span style=\"color: #800000; text-decoration-color: #800000\">│</span>   <span style=\"color: #7f7f7f; text-decoration-color: #7f7f7f\"> 72 │   </span><span style=\"color: #0000ff; text-decoration-color: #0000ff\">assert</span> (                                                                               <span style=\"color: #800000; text-decoration-color: #800000\">│</span>\n",
              "<span style=\"color: #800000; text-decoration-color: #800000\">│</span>   <span style=\"color: #7f7f7f; text-decoration-color: #7f7f7f\"> 73 │   │   </span>lang <span style=\"color: #ff00ff; text-decoration-color: #ff00ff\">is</span> <span style=\"color: #ff00ff; text-decoration-color: #ff00ff\">not</span> <span style=\"color: #0000ff; text-decoration-color: #0000ff\">None</span> <span style=\"color: #ff00ff; text-decoration-color: #ff00ff\">or</span> model_type <span style=\"color: #ff00ff; text-decoration-color: #ff00ff\">is</span> <span style=\"color: #ff00ff; text-decoration-color: #ff00ff\">not</span> <span style=\"color: #0000ff; text-decoration-color: #0000ff\">None</span>                                         <span style=\"color: #800000; text-decoration-color: #800000\">│</span>\n",
              "<span style=\"color: #800000; text-decoration-color: #800000\">╰──────────────────────────────────────────────────────────────────────────────────────────────────╯</span>\n",
              "<span style=\"color: #ff0000; text-decoration-color: #ff0000; font-weight: bold\">AssertionError: </span>Different number of candidates and references\n",
              "</pre>\n"
            ],
            "text/plain": [
              "\u001b[31m╭─\u001b[0m\u001b[31m──────────────────────────────\u001b[0m\u001b[31m \u001b[0m\u001b[1;31mTraceback \u001b[0m\u001b[1;2;31m(most recent call last)\u001b[0m\u001b[31m \u001b[0m\u001b[31m───────────────────────────────\u001b[0m\u001b[31m─╮\u001b[0m\n",
              "\u001b[31m│\u001b[0m in \u001b[92m<cell line: 4>\u001b[0m:\u001b[94m13\u001b[0m                                                                             \u001b[31m│\u001b[0m\n",
              "\u001b[31m│\u001b[0m                                                                                                  \u001b[31m│\u001b[0m\n",
              "\u001b[31m│\u001b[0m \u001b[2;33m/usr/local/lib/python3.10/dist-packages/bert_score/\u001b[0m\u001b[1;33mscore.py\u001b[0m:\u001b[94m70\u001b[0m in \u001b[92mscore\u001b[0m                          \u001b[31m│\u001b[0m\n",
              "\u001b[31m│\u001b[0m                                                                                                  \u001b[31m│\u001b[0m\n",
              "\u001b[31m│\u001b[0m   \u001b[2m 67 \u001b[0m\u001b[2;33m│   │   │   │     \u001b[0m\u001b[33mmultiple references, the returned score of this candidate is\u001b[0m             \u001b[31m│\u001b[0m\n",
              "\u001b[31m│\u001b[0m   \u001b[2m 68 \u001b[0m\u001b[2;33m│   │   │   │     \u001b[0m\u001b[33mthe *best* score among all references.\u001b[0m                                   \u001b[31m│\u001b[0m\n",
              "\u001b[31m│\u001b[0m   \u001b[2m 69 \u001b[0m\u001b[2;33m│   \u001b[0m\u001b[33m\"\"\"\u001b[0m                                                                                    \u001b[31m│\u001b[0m\n",
              "\u001b[31m│\u001b[0m \u001b[31m❱ \u001b[0m 70 \u001b[2m│   \u001b[0m\u001b[94massert\u001b[0m \u001b[96mlen\u001b[0m(cands) == \u001b[96mlen\u001b[0m(refs), \u001b[33m\"\u001b[0m\u001b[33mDifferent number of candidates and references\u001b[0m\u001b[33m\"\u001b[0m        \u001b[31m│\u001b[0m\n",
              "\u001b[31m│\u001b[0m   \u001b[2m 71 \u001b[0m\u001b[2m│   \u001b[0m                                                                                       \u001b[31m│\u001b[0m\n",
              "\u001b[31m│\u001b[0m   \u001b[2m 72 \u001b[0m\u001b[2m│   \u001b[0m\u001b[94massert\u001b[0m (                                                                               \u001b[31m│\u001b[0m\n",
              "\u001b[31m│\u001b[0m   \u001b[2m 73 \u001b[0m\u001b[2m│   │   \u001b[0mlang \u001b[95mis\u001b[0m \u001b[95mnot\u001b[0m \u001b[94mNone\u001b[0m \u001b[95mor\u001b[0m model_type \u001b[95mis\u001b[0m \u001b[95mnot\u001b[0m \u001b[94mNone\u001b[0m                                         \u001b[31m│\u001b[0m\n",
              "\u001b[31m╰──────────────────────────────────────────────────────────────────────────────────────────────────╯\u001b[0m\n",
              "\u001b[1;91mAssertionError: \u001b[0mDifferent number of candidates and references\n"
            ]
          },
          "metadata": {},
          "output_type": "display_data"
        }
      ],
      "source": [
        "bert_scores_P = []\n",
        "bert_scores_R = []\n",
        "bert_scores_F1 = []\n",
        "for i in range(len(dataframe)):\n",
        "# for data_results in dataframe[0]:\n",
        "  gen_spoiler_strip = dataframe.iloc[i][\"gen_spoiler\"]\n",
        "  actual_spoiler_strip = dataframe.iloc[i][\"actual_spoiler\"]\n",
        "\n",
        "\n",
        "  ref = word_tokenize(gen_spoiler_strip)\n",
        "  hypo = word_tokenize(actual_spoiler_strip)\n",
        "\n",
        "  P, R, F1 = score(gen_spoiler_strip, actual_spoiler_strip, lang=\"en\", verbose=True)\n",
        "  bert_scores_P.append(P)\n",
        "  bert_scores_R.append(R)\n",
        "  bert_scores_F1.append(F1)\n",
        "\n",
        "  # meteor = nltk.translate.meteor_score.meteor_score([gen_spoiler_strip], dataframe.iloc[i][\"actual_spoiler\"].strip())\n",
        "  # meteor = round(meteor_score([dataframe.iloc[i][\"gen_spoiler\"]], dataframe.iloc[i][\"actual_spoiler\"]), 2) # list of references\n",
        "  # meteor_scores.append(meteor)"
      ]
    },
    {
      "cell_type": "code",
      "execution_count": null,
      "metadata": {
        "id": "ECEpBOXHw3ak"
      },
      "outputs": [],
      "source": [
        "# P, R, F1 = score(cands, refs, lang=\"en\", verbose=True)"
      ]
    },
    {
      "cell_type": "code",
      "execution_count": null,
      "metadata": {
        "colab": {
          "base_uri": "https://localhost:8080/"
        },
        "id": "MX48u32w_GhA",
        "outputId": "e2831cee-bbaf-4093-d32e-991d5f745af3"
      },
      "outputs": [
        {
          "name": "stdout",
          "output_type": "stream",
          "text": [
            "\n",
            "\n",
            "['tom', 'brady', \"'\", 's', 'definition', 'of', 'catching', 'up', 'involves', 'much', 'more', 'than', 'just', 'a', 'meal', '.', 'wes', 'welker', 'contacted', 'the', 'patriots', 'quarterback', 'friday', 'morning', 'on', 'a', 'miami', 'radio', 'station', '.', 'bra']\n",
            "\n",
            "\n",
            "['how', 'about', 'that', 'morning', 'we', 'go', 'throw', '?']\n",
            "\n",
            "\n",
            "\n",
            "\n",
            "['nasa', 'scientists', 'are', 'predicting', 'the', 'hole', 'in', 'the']\n",
            "\n",
            "\n",
            "['2070']\n",
            "\n",
            "\n",
            "\n",
            "\n",
            "['research', 'by', 'hiring', 'software', 'provider', 'cangrade', 'found', 'that', 'being', 'intellectually', 'stimulated']\n",
            "\n",
            "\n",
            "['intellectual', 'stimulation']\n",
            "\n",
            "\n",
            "\n",
            "\n",
            "['cal', 'newport', \"'\", 's', 'investigation', 'into', 'how', 'passionate', 'people', 'like', 'steve', 'jobs', 'really', 'got', 'started', 'as', 'well', 'as', 'what', 'scientists', 'say', 'predicts', 'happiness', 'and', 'fuels', 'great', 'accomplishment', 'newport', '.', 'ryan', 'holiday', 'author', 'of', 'ego', 'is', 'the', 'enemy', 'your', 'passion', 'may', 'be', 'the', 'very', 'enemy', '.', 'the', 'only', 'way', 'to', 'do', 'great', 'work', 'is', 'to', 'love', 'what', 'you', 'do', 'if', 'you', 'have', \"n't\", 'found', 'it', 'yet', 'keep', 'looking', 'dont', 'settle', 'in', 'other', 'words', 'follow', 'your', 'passion', 'there', '.']\n",
            "\n",
            "\n",
            "['Purpose', 'connects', 'us', 'to', 'something', 'bigger', 'and', 'in', 'doing', 'so', 'makes', 'us', 'right', 'sized', 'be', 'ruthless', 'with', 'your', '``', 'No', '’', 's', '.', \"''\", 'Practice', 'means', 'greatness', 'is', 'doable', '...', 'one', 'tiny', 'step', 'after', 'another', 'planning', 'of', 'the', 'SMART', 'goal', 'and', 'number-crunching', 'variety', 'Objectivity', '—', 'the', 'ability', 'to', 'see', 'the', 'world', 'as', 'it', 'truly', 'is']\n",
            "\n",
            "\n",
            "\n",
            "\n",
            "['the', 'top', 'voted', 'answer', 'for', 'how', 'to', 'cook', 'rice', 'has', 'been', 'shared', 'on']\n",
            "\n",
            "\n",
            "['in', 'a', 'rice', 'cooker']\n",
            "\n",
            "\n",
            "\n",
            "\n",
            "['apple', 'iphone', 'event', 'introduced', 'airpods', 'apples', 'totally', 'wireless', 'headphones', '.', 'one', 'of', 'the', 'biggest', 'surprise', 'announcements', 'was', 'about', 'theft', '.', 'no', 'apple', 'says', 'that', 'if', 'one', 'of', 'your', 'airpod', '.', 'is', 'lost', 'or', 'stolen', 'youll', 'have', 'to', 'buy', 'new', 'ones']\n",
            "\n",
            "\n",
            "['Apple', 'says', 'that', 'if', 'AirPods', 'are', 'lost', 'or', 'stolen', ',', 'you', \"'ll\", 'have', 'to', 'buy', 'new', 'ones', ',', 'just', 'like', 'any', 'other', 'Apple', 'product', '.']\n",
            "\n",
            "\n",
            "\n",
            "\n",
            "['june', '14th', '2016', '33k', 'shares', 'they', 'may', 'look', 'like', 'the', 'sort', 'of', 'apparel', 'youd', 'normally', 'sport', 'on', 'the', 'morning', 'after', '12', 'pints', 'so', 'the', 'elasticated', 'waist', 'can', 'provide', 'enough', 'give', 'to', 'support', 'two', 'hangover', 'curing', 'trips', 'to', 'macc']\n",
            "\n",
            "\n",
            "['``', 'The', 'more', 'good', 'games', 'I', 'had', 'in', 'them', ',', 'the', 'more', 'I', 'got', 'used', 'to', 'them', '.']\n",
            "\n",
            "\n",
            "\n",
            "\n",
            "['it', 'was', 'cold', 'and', 'very', 'foggy', 'the', 'temperature', 'was', 'around', '10', 'degrees', 'celsius', 'said', 'hänninen', 'when', 'the', 'clouds', 'began', 'to', 'break', 'there', 'were', 'rainbow', 'colours', 'in', 'the', 'sky', 'and', 'a', 'halo', 'spanning', '360', 'degrees', '.']\n",
            "\n",
            "\n",
            "['rainbow', 'colours', 'in', 'the', 'sky', 'and', 'a', 'halo', 'spanning', '360', 'degrees']\n",
            "\n",
            "\n",
            "\n",
            "\n",
            "['julia', 'zumpano', 'a', 'dietitian', 'at', 'cleveland', 'clinic', \"'\", 's', 'heart', 'vascular', 'institute', 'says', 'red', 'wine', 'has', 'a', 'purplestained', 'smile', 'at', '125', 'calories', 'for', 'a', 'fiveounce', 'pour', '.']\n",
            "\n",
            "\n",
            "['Red', 'wine', 'is', 'clearly', 'the', 'drink', 'of', 'choice', 'if', 'you', 'are', 'doing', 'light', 'to', 'moderate', 'drinking', 'for', 'your', 'health', ',', 'and', 'daily', 'consumption', 'just', 'before', 'or', 'with', 'the', 'evening', 'meal', 'may', 'be', 'the', 'most', 'protective', 'pattern', ',', \"''\", 'O', '’', 'Keefe', 'says']\n",
            "\n",
            "\n",
            "\n",
            "\n",
            "['we', 'tried', '29', 'different', 'kinds', 'of', 'hot', 'sauce', 'to', 'find', 'our', 'favorite', 'what', 'the', 'hell', 'were', 'we', 'thinking', 'weve', 'put', 'ourselves', 'through', 'a', 'fair', 'number', 'of', 'taste', 'tests', 'to', 'find', 'you', 'the', 'best', 'of', 'the', 'best', 'there', 'was', 'that', 'time', 'we', 'filled', 'a', 'room', 'with', '264', 'donuts', 'to', 'narrow', 'down', 'the', 'best', '.', 'we', 'wanted', 'to', 'find', 'the', 'best', 'macarons', 'oh', 'and', 'thanksgiving', 'pie', 'after', 'all', 'that', 'sugar', 'we', 'needed', 'to', 'take', 'a', 'step', 'away', 'from', 'the', 'sweet', 'side', 'in', 'our', 'beloved', 'town', '.']\n",
            "\n",
            "\n",
            "['Sriracha', 'Hot', 'Chili', 'Sauce', 'Frank', \"'s\", 'RedHot', 'Original', 'Sauce', 'Cholula', 'Chili', 'Garlic', 'Louisiana', 'Hot', 'Sauce', 'CaJohns', 'Bourbon', 'Infused', 'Chipotle-Habañero', 'Sauce']\n",
            "\n",
            "\n",
            "\n",
            "\n",
            "['cbo', '64-year-olds', 'making', '26500', 'per']\n",
            "\n",
            "\n",
            "['750', 'percent']\n",
            "\n",
            "\n",
            "\n",
            "\n",
            "['jenelle', 'evans', 'and', 'boyfriend', 'nathan']\n",
            "\n",
            "\n",
            "['boy']\n",
            "\n",
            "\n",
            "\n",
            "\n",
            "['more', 'than', 'a', 'quarter', 'of', 'shoppers', 'use', 'it', 'we', 'asked', 'the', 'experts', 'for']\n",
            "\n",
            "\n",
            "['promotional', 'code']\n",
            "\n",
            "\n",
            "\n",
            "\n",
            "['target', 'will', 'spend', '20', 'million', 'to', 'expand', 'its', 'use', 'of', 'a', 'third', 'singletoilet', 'bathroom', 'at', 'all', 'of', 'its', 'stores', 'target', 'tgt', 'cfo', 'cathy', 'smith', 'said', 'wednesday', 'that', 'the', 'company', 'has', 'heard', 'objections']\n",
            "\n",
            "\n",
            "['says', 'it', 'will', 'spend', '$', '20', 'million', 'to', 'expand', 'bathroom', 'options', 'at', 'all', 'of', 'its', 'U.S.', 'stores']\n",
            "\n",
            "\n",
            "\n",
            "\n",
            "['the', 'newest', 'fad', 'in', 'china', 'is', 'glass', 'pedestrian', 'bridges', 'the', 'chinese', 'people', 'love', 'nothing', 'more', 'than', 'walking', 'over', 'great', 'heights', 'while', 'imagining', 'their', 'own', 'deaths', 'apparently', 'or', 'maybe', 'they', 'just', 'like', 'laughing', 'at', 'the', 'people', 'who', 'cant']\n",
            "\n",
            "\n",
            "['Although', 'Simmons', \"'\", 'first', 'blow', 'shattered', 'the', 'glass', ',', 'he', 'was', 'unable', 'to', 'structurally', 'compromise', 'the', 'underlying', 'layers', 'even', 'after', 'he', 'let', 'loose', 'on', 'it', 'dozens', 'of', 'times', '.']\n",
            "\n",
            "\n",
            "\n",
            "\n",
            "['mashable', 'instagram', 'is', 'killing', 'feature', 'that', 'allowed', 'you', 'to', 'see', 'a', 'map', 'of', 'where', 'a', 'given', 'user', 'photos', 'were', 'taken', 'if', 'they', 'designated', 'a', 'location', 'for', 'the', 'photo', 'you', 'could', 'zoom', 'in', 'on', 'maps', 'to', 'get', 'a', 'closer', 'view']\n",
            "\n",
            "\n",
            "['the', 'feature', 'that', 'allowed', 'you', 'to', 'see', 'a', 'map', 'of', 'where', 'a', 'given', 'user', \"'s\", 'photos', 'were', 'taken', '(', 'if', 'they', 'designated', 'a', 'location', 'for', 'the', 'photo', ')', '.']\n",
            "\n",
            "\n",
            "\n",
            "\n",
            "['researchers', 'from', 'the', 'harvard', 'th', 'chan', 'school', 'of', 'public', 'health', 'took', 'a', 'bunch', 'of', 'trips', 'on', 'the', 'boston', 'city', 'subway', 'and', 'started', 'swabbing', 'in', 'their', 'new', 'study', 'published', 'in', 'the', 'american', 'society', 'for', 'microbiology', '.']\n",
            "\n",
            "\n",
            "['scientists', 'didn', '’', 't', 'find', 'pathogenic', 'organisms', 'that', 'typically', 'cause', 'sickness', 'or', 'antibiotic-resistant', 'genes']\n",
            "\n",
            "\n",
            "\n",
            "\n",
            "['hogwarts', 'jk', 'rowlings', 'response', 'in', '2000', 'gave', 'the', 'answer', 'about', '1000', 'but', 'when', 'you', 'look', 'closer', 'that', 'number', 'doesnt', 'make', 'a', 'lot', 'of', 'sense', 'why', 'are', 'there', 'so', 'few', 'students', 'in', 'harrys', 'year', 'this', 'screencap']\n",
            "\n",
            "\n",
            "['because', 'of', 'the', 'war', 'with', 'Voldemort', '.']\n",
            "\n",
            "\n",
            "\n",
            "\n",
            "['vw', 'beetle', 'dune', 'is', 'a', 'special', 'edition', 'of', 'the', 'iconic', 'reboot', 'of', 'the', 'legendary', 'peoples', 'car', '.', 'it', 'has', 'an', 'amazing', 'audio', 'system', 'and', 'is', 'pretty', 'cheap', 'at', 'less', 'than', '25000', 'but', 'it', 'also', 'has', 'a']\n",
            "\n",
            "\n",
            "['just', 'that', 'famous', 'VW', 'badge', '...', '...', 'which', 'flips', 'open', 'when', 'the', 'car', 'is', 'in', 'reverse', 'to', 'reveal', 'the', 'hidden', 'camera', '!']\n",
            "\n",
            "\n",
            "\n",
            "\n",
            "['macarena', 'is', 'a', 'siren', 'enticing', 'young', 'men', 'to', 'come', 'and', 'dance', 'with', 'her', 'if', 'they', 'can', 'curry', 'her', 'favor', 'she', 'may', 'even', 'take', 'them', 'home', 'with', 'her', 'so', 'far', 'nothing', 'too', 'unusual', 'right', 'just', 'a', 'woman', 'out', 'on', 'the', 'town']\n",
            "\n",
            "\n",
            "['``', 'Macarena', \"''\", 'is', 'about', 'a', 'woman', 'who', 'waits', 'until', 'her', 'boyfriend', 'leaves', 'town', 'and', 'then', 'bangs', 'his', 'two', 'best', 'friends', 'at', 'the', 'same', 'time', '.']\n",
            "\n",
            "\n",
            "\n",
            "\n",
            "['the', 'remains', 'were', 'found', 'near', 'a', 'shed', 'in', 'the', 'backyard', 'of', 'a', 'home', 'in', 'southampton', 'county', 'early', 'thursday', '.', 'authorities', 'visited', 'the', 'home', 'on', 'a', 'tip', 'as', 'part', 'of', 'their', 'investigation', 'but', 'did', 'not', 'say', 'they', 'were', 'definitely', 'those', 'of', '18-year-old', 'anjelica', 'aj', 'hadsell', '.', 'the', 'office', 'of', 'the', 'chief', 'medical', 'examiner', 'will', 'run', 'tests', 'to', 'identify', 'the', 'remains', 'the', 'college', 'student', 'was', 'home', 'for', 'spring', 'break', '.']\n",
            "\n",
            "\n",
            "['Southampton', 'County', 'Anjelica', \"'AJ\", \"'\", 'Hadsell']\n",
            "\n",
            "\n",
            "\n",
            "\n",
            "['goopcom', 'is', 'a', 'ritzy', 'lifestyle', 'publication', 'or', 'a', 'grab', 'bag', 'of', 'the', 'ridiculous', 'from', 'advice', 'on', 'vaginal', 'steam', 'treatments', 'to', 'a', 'shopping', 'section', 'featuring', '73', 'wooden', 'spoon', 'and', 'a', '576', 'earring', '.']\n",
            "\n",
            "\n",
            "['contain', 'the', 'element', 'in', 'various', 'compounds', ',', 'and', 'peddling', 'the', 'item', 'on', 'the', 'same', 'website', 'that', 'calls', 'it', 'dangerous']\n",
            "\n",
            "\n",
            "\n",
            "\n",
            "['an', 'afghan', 'migrant', 'attacked', 'a', 'woman', 'at', 'an', 'asylum', 'centre', 'in', 'austria', 'because', 'she', 'was', 'reading', 'a', 'bible', '.', 'the', 'attack', 'took', 'place', 'in', 'the', 'town', 'of', 'timelkam', 'in', 'the', 'state', 'of', 'upper', 'austria', '.']\n",
            "\n",
            "\n",
            "['An', 'Afghan', 'migrant', 'attacked', 'a', 'woman', 'at', 'an', 'asylum', 'centre', 'in', 'Austria', 'because', 'she', 'was', 'reading', 'a', 'bible']\n",
            "\n",
            "\n",
            "\n",
            "\n",
            "['walt', 'disney', 'studios', 'moved', 'pirates', 'of', 'the', 'caribbean', '5', 'from', 'july', '10', '2015', 'to', 'an', 'unspecified', 'date', 'in', '2016', '.', 'thr', 'had', 'more', 'on', 'the', 'move', 'script', 'issues', 'are', 'said', 'to', 'be', 'the', 'cause']\n",
            "\n",
            "\n",
            "[\"'Pirates\", '5', \"'\", 'Release', 'Date', 'Shifted', 'To', '2016']\n",
            "\n",
            "\n",
            "\n",
            "\n",
            "['tom', 'hiddleston', 'is', 'setting', 'the', 'record', 'straight', 'about', 'dating', 'taylor', 'swift', 'the', 'thor', 'actor', 'tried', 'to', 'clear', 'this', 'whole', 'messy', 'situation', 'up', 'once', 'and', 'for', 'all', 'on', 'thursday', 'july', '14', '.', 'the', 'h']\n",
            "\n",
            "\n",
            "['``', 'That', \"'s\", 'the', 'truth', '.', 'It', \"'s\", 'not', 'a', 'publicity', 'stunt', '.', \"''\"]\n",
            "\n",
            "\n",
            "\n",
            "\n",
            "['dis', '177', 'an', 'alligator', 'killed', 'a', '2year-old']\n",
            "\n",
            "\n",
            "['Bees', ',', 'wasps', 'and', 'hornets']\n",
            "\n",
            "\n",
            "\n",
            "\n",
            "['brenham', 'police', 'department', 'created', 'a', 'facebook', 'post', 'that', 'read', 'in', 'part', 'we', 'know', 'this', 'was', 'an', 'isolated', 'incident', 'that', 'involved', 'a', 'single', 'employee', 'who', 'is', 'not', 'fond', 'of', 'law', 'enforcement', 'the', 'offduty', 'officer', 'ended', 'up', 'eating', 'at', 'the', 'chain', 'after', 'another', 'employee', 'stepped']\n",
            "\n",
            "\n",
            "['The', 'off-duty', 'officer', 'ended', 'up', 'eating', 'at', 'the', 'chain', ',', 'after', 'another', 'employee', 'stepped', 'in', '.', 'The', 'employee', 'who', 'refused', 'to', 'serve', 'him', 'was', 'fired', 'immediately', 'after', 'the', 'incident', '.']\n",
            "\n",
            "\n",
            "\n",
            "\n",
            "['snapchat', 'will', 'now', 'run', 'video', 'ads', 'in', 'between', 'your', 'friends', \"'\", 'stories', 'to', 'give', 'advertisers', 'a', 'better', 'shot', 'at', 'reaching', 'some', 'of', 'the', 'company', \"'\", 's', '150', 'million', 'daily', 'users', 'the', 'video', 'ads', 'will', 'be', 'known', 'by', 'the', 'extremely', 'clever', 'name', 'snap', 'ads', 'between']\n",
            "\n",
            "\n",
            "['video', 'ads', 'in', 'between', 'your', 'friends', '’', 'stories']\n",
            "\n",
            "\n",
            "\n",
            "\n",
            "['mhairi', 'black', 'was', '20', 'when', 'she', 'won', 'the', 'seat', 'of', 'paisley', 'and', 'renfrewshire', 'south', 'for', 'the', 'snp', 'from', 'labour', 's', 'douglas', 'alexander', 'in', '2015', '.', 'the', 'youngest', 'mp', 'elected']\n",
            "\n",
            "\n",
            "['Black', ',', 'who', 'was', '20', 'when', 'she', 'won', 'the', 'seat', 'of', 'Paisley', 'and', 'Renfrewshire', 'South', 'for', 'the', 'SNP']\n",
            "\n",
            "\n",
            "\n",
            "\n",
            "['the', 's', 'has', 'appeared', 'throughout', 'all', 'of', 'north', 'america', 'south', 'america', 'europe', 'russia', 'asia', 'and', 'australia', 'some', 'people', 'think', 'its', 'a', '90s', 'thing', 'others', 'report', 'seeing', 'it', 'as', 'early', 'as', 'the', '1960s', 'there', 'were', 'theories', 'that', 'it', 'was', 'the', 'symbol']\n",
            "\n",
            "\n",
            "['it', \"'s\", 'just', 'the', 'most', 'fun', 'ever']\n",
            "\n",
            "\n",
            "\n",
            "\n",
            "['cyprus', 'is', 'the', 'cheapest', 'option', 'for', 'a', 'last']\n",
            "\n",
            "\n",
            "['Cyprus']\n",
            "\n",
            "\n",
            "\n",
            "\n",
            "['google', 'paid', 'a', 'tax', 'rate', 'of', '26', 'percent', 'on', '81', 'billion', 'in']\n",
            "\n",
            "\n",
            "['UK', 'tax', 'bill', 'of', '35', 'million', 'pounds', '(', '$', '55', 'million', ')', 'in', '2012']\n",
            "\n",
            "\n",
            "\n",
            "\n",
            "['paul', 'servat', 'was', 'waiting', 'to', 'see', 'his', 'first', 'baby', 'but', 'five']\n",
            "\n",
            "\n",
            "['was', 'not', 'pregnant']\n",
            "\n",
            "\n",
            "\n",
            "\n",
            "['most', 'successful', 'businesses', 'operate', 'by', 'following', 'a', 'fundamental', 'set', 'of', 'core', 'values', 'their']\n",
            "\n",
            "\n",
            "['own', 'personal', 'values']\n",
            "\n",
            "\n",
            "\n",
            "\n",
            "['the', 'drug', 'enforcement', 'administration', 'says', 'marijuana', 'lacks', 'medical', 'value', 'so', 'why', 'did', 'the', 'us', 'government', 'file', 'a', 'patent', 'for', 'cannabis', 'as', 'far', 'back', 'as', '1999', '.', 'the', 'dea', 'declined', 'to', 'loosen', 'federal', 'restrictions', 'on', 'cannabis', 'last', 'week', 'to', 'highlight', 'the', 'seeming', 'contradiction', 'they']\n",
            "\n",
            "\n",
            "['one', 'patent', ',', 'number', '6630507', ',', 'disqualifies', 'cannabis', 'from', 'the', 'Controlled', 'Substances', 'Act']\n",
            "\n",
            "\n",
            "\n",
            "\n",
            "['the', 'trailer', 'for', 'what', 'if', 'with', 'daniel', 'rad']\n",
            "\n",
            "\n",
            "['``', 'Obvious', 'Child', \"''\"]\n",
            "\n",
            "\n",
            "\n",
            "\n",
            "['kate', 'middleton', 'and', 'prince', 'william', 'are', 'looking', 'for']\n",
            "\n",
            "\n",
            "['housekeeper']\n",
            "\n",
            "\n",
            "\n",
            "\n",
            "['student', 'debt', 'derails', 'young', 'people', 'from', 'the', 'american', 'dream', 'of', 'owning', 'a', 'home', 'that', 'depends', 'on', 'which', 'headline', 'you', 'click', 'so', 'what', \"'\", 's', 'really', 'going', 'on', 'here', 'the', 'findings', 'of', 'the', 'two', 'studies', 'don', '’', 't', 'exactly', 'contradict', '.']\n",
            "\n",
            "\n",
            "['student', 'debt', 'does', 'delay', 'major', 'life', 'decisions', 'like', 'homeownership']\n",
            "\n",
            "\n",
            "\n",
            "\n",
            "['hillary', 'clinton', 'has', 'been', 'asked', 'this', 'question', 'repeatedly', 'during', 'her', 'campaign']\n",
            "\n",
            "\n",
            "['the', 'first', 'gentleman']\n",
            "\n",
            "\n",
            "\n",
            "\n",
            "['national', 'motorists', 'association', 'has', 'declared', 'june', 'lane', 'courtesy', 'month', 'in', 'an', 'effort', 'to', 'raise', 'the', 'risk', 'of', 'accidents', '.', 'the', 'system', 'works', 'best', 'when', 'people', 'arent', 'hogging', 'the', 'left', 'lane', 'thats', 'one', 'reason', 'why', 'the', 'national', 'motorist']\n",
            "\n",
            "\n",
            "['it', \"'ll\", 'inevitably', 'lead', 'to', 'buildups', 'of', 'traffic', 'and', 'likely', 'raise', 'the', 'chance', 'of', 'accidents']\n",
            "\n",
            "\n"
          ]
        }
      ],
      "source": [
        "for i in range(len(dataframe)):\n",
        "# for data_results in dataframe[0]:\n",
        "  gen_spoiler_strip = dataframe.iloc[i][\"gen_spoiler\"]\n",
        "  actual_spoiler_strip = dataframe.iloc[i][\"actual_spoiler\"]\n",
        "\n",
        "\n",
        "  ref = word_tokenize(gen_spoiler_strip)\n",
        "  hypo = word_tokenize(actual_spoiler_strip)\n",
        "\n",
        "  print(\"\\n\")\n",
        "  print(ref)\n",
        "  print(\"\\n\")\n",
        "  print(hypo)\n",
        "  print(\"\\n\")"
      ]
    },
    {
      "cell_type": "code",
      "execution_count": null,
      "metadata": {
        "id": "BE3MJmnnw3_y"
      },
      "outputs": [],
      "source": [
        "bert_scores_P"
      ]
    },
    {
      "cell_type": "code",
      "execution_count": null,
      "metadata": {
        "id": "KjZYcKz9w4kh"
      },
      "outputs": [],
      "source": [
        "bert_scores_R"
      ]
    },
    {
      "cell_type": "code",
      "execution_count": null,
      "metadata": {
        "id": "DfzCDtOXw5h9"
      },
      "outputs": [],
      "source": [
        "bert_scores_F1"
      ]
    }
  ],
  "metadata": {
    "accelerator": "GPU",
    "colab": {
      "gpuType": "T4",
      "machine_shape": "hm",
      "provenance": []
    },
    "gpuClass": "standard",
    "kernelspec": {
      "display_name": "Python 3",
      "name": "python3"
    },
    "language_info": {
      "name": "python"
    },
    "orig_nbformat": 4,
    "widgets": {
      "application/vnd.jupyter.widget-state+json": {
        "067d3a14ae02459fb745f37233c207d0": {
          "model_module": "@jupyter-widgets/controls",
          "model_module_version": "1.5.0",
          "model_name": "HTMLModel",
          "state": {
            "_dom_classes": [],
            "_model_module": "@jupyter-widgets/controls",
            "_model_module_version": "1.5.0",
            "_model_name": "HTMLModel",
            "_view_count": null,
            "_view_module": "@jupyter-widgets/controls",
            "_view_module_version": "1.5.0",
            "_view_name": "HTMLView",
            "description": "",
            "description_tooltip": null,
            "layout": "IPY_MODEL_b1b1d5cf452a416d946fef7faf848aa2",
            "placeholder": "​",
            "style": "IPY_MODEL_ec19a6a9eb504420885dc20b2c560a99",
            "value": "Downloading (…)ve/main/spiece.model: 100%"
          }
        },
        "0c9f8d0fc2d24f19aed33483299bcca0": {
          "model_module": "@jupyter-widgets/controls",
          "model_module_version": "1.5.0",
          "model_name": "FloatProgressModel",
          "state": {
            "_dom_classes": [],
            "_model_module": "@jupyter-widgets/controls",
            "_model_module_version": "1.5.0",
            "_model_name": "FloatProgressModel",
            "_view_count": null,
            "_view_module": "@jupyter-widgets/controls",
            "_view_module_version": "1.5.0",
            "_view_name": "ProgressView",
            "bar_style": "success",
            "description": "",
            "description_tooltip": null,
            "layout": "IPY_MODEL_8da1181f8e8f4b518f0471ff894a0b05",
            "max": 2324,
            "min": 0,
            "orientation": "horizontal",
            "style": "IPY_MODEL_1f1f9094ce374a14929552040d555408",
            "value": 2324
          }
        },
        "0fe47f9248e1403eab0194b01ab3f0fc": {
          "model_module": "@jupyter-widgets/controls",
          "model_module_version": "1.5.0",
          "model_name": "DescriptionStyleModel",
          "state": {
            "_model_module": "@jupyter-widgets/controls",
            "_model_module_version": "1.5.0",
            "_model_name": "DescriptionStyleModel",
            "_view_count": null,
            "_view_module": "@jupyter-widgets/base",
            "_view_module_version": "1.2.0",
            "_view_name": "StyleView",
            "description_width": ""
          }
        },
        "138a3ca72fe84590987ba2cb013e83ba": {
          "model_module": "@jupyter-widgets/controls",
          "model_module_version": "1.5.0",
          "model_name": "DescriptionStyleModel",
          "state": {
            "_model_module": "@jupyter-widgets/controls",
            "_model_module_version": "1.5.0",
            "_model_name": "DescriptionStyleModel",
            "_view_count": null,
            "_view_module": "@jupyter-widgets/base",
            "_view_module_version": "1.2.0",
            "_view_name": "StyleView",
            "description_width": ""
          }
        },
        "1c1e64fc37d9478f92a399f055a692fd": {
          "model_module": "@jupyter-widgets/base",
          "model_module_version": "1.2.0",
          "model_name": "LayoutModel",
          "state": {
            "_model_module": "@jupyter-widgets/base",
            "_model_module_version": "1.2.0",
            "_model_name": "LayoutModel",
            "_view_count": null,
            "_view_module": "@jupyter-widgets/base",
            "_view_module_version": "1.2.0",
            "_view_name": "LayoutView",
            "align_content": null,
            "align_items": null,
            "align_self": null,
            "border": null,
            "bottom": null,
            "display": null,
            "flex": null,
            "flex_flow": null,
            "grid_area": null,
            "grid_auto_columns": null,
            "grid_auto_flow": null,
            "grid_auto_rows": null,
            "grid_column": null,
            "grid_gap": null,
            "grid_row": null,
            "grid_template_areas": null,
            "grid_template_columns": null,
            "grid_template_rows": null,
            "height": null,
            "justify_content": null,
            "justify_items": null,
            "left": null,
            "margin": null,
            "max_height": null,
            "max_width": null,
            "min_height": null,
            "min_width": null,
            "object_fit": null,
            "object_position": null,
            "order": null,
            "overflow": null,
            "overflow_x": null,
            "overflow_y": null,
            "padding": null,
            "right": null,
            "top": null,
            "visibility": null,
            "width": null
          }
        },
        "1f1f9094ce374a14929552040d555408": {
          "model_module": "@jupyter-widgets/controls",
          "model_module_version": "1.5.0",
          "model_name": "ProgressStyleModel",
          "state": {
            "_model_module": "@jupyter-widgets/controls",
            "_model_module_version": "1.5.0",
            "_model_name": "ProgressStyleModel",
            "_view_count": null,
            "_view_module": "@jupyter-widgets/base",
            "_view_module_version": "1.2.0",
            "_view_name": "StyleView",
            "bar_color": null,
            "description_width": ""
          }
        },
        "1fa2be2665c443699ad8d7a2cfb1944b": {
          "model_module": "@jupyter-widgets/controls",
          "model_module_version": "1.5.0",
          "model_name": "HTMLModel",
          "state": {
            "_dom_classes": [],
            "_model_module": "@jupyter-widgets/controls",
            "_model_module_version": "1.5.0",
            "_model_name": "HTMLModel",
            "_view_count": null,
            "_view_module": "@jupyter-widgets/controls",
            "_view_module_version": "1.5.0",
            "_view_name": "HTMLView",
            "description": "",
            "description_tooltip": null,
            "layout": "IPY_MODEL_eff91f4d8d6e4401a3e3966bb2b649d1",
            "placeholder": "​",
            "style": "IPY_MODEL_138a3ca72fe84590987ba2cb013e83ba",
            "value": " 792k/792k [00:00&lt;00:00, 2.61MB/s]"
          }
        },
        "1fe6a38562194eb5ad5b7740516e6a91": {
          "model_module": "@jupyter-widgets/controls",
          "model_module_version": "1.5.0",
          "model_name": "ProgressStyleModel",
          "state": {
            "_model_module": "@jupyter-widgets/controls",
            "_model_module_version": "1.5.0",
            "_model_name": "ProgressStyleModel",
            "_view_count": null,
            "_view_module": "@jupyter-widgets/base",
            "_view_module_version": "1.2.0",
            "_view_name": "StyleView",
            "bar_color": null,
            "description_width": ""
          }
        },
        "214c0be3e20b40c9af56c30121cd427a": {
          "model_module": "@jupyter-widgets/base",
          "model_module_version": "1.2.0",
          "model_name": "LayoutModel",
          "state": {
            "_model_module": "@jupyter-widgets/base",
            "_model_module_version": "1.2.0",
            "_model_name": "LayoutModel",
            "_view_count": null,
            "_view_module": "@jupyter-widgets/base",
            "_view_module_version": "1.2.0",
            "_view_name": "LayoutView",
            "align_content": null,
            "align_items": null,
            "align_self": null,
            "border": null,
            "bottom": null,
            "display": null,
            "flex": null,
            "flex_flow": null,
            "grid_area": null,
            "grid_auto_columns": null,
            "grid_auto_flow": null,
            "grid_auto_rows": null,
            "grid_column": null,
            "grid_gap": null,
            "grid_row": null,
            "grid_template_areas": null,
            "grid_template_columns": null,
            "grid_template_rows": null,
            "height": null,
            "justify_content": null,
            "justify_items": null,
            "left": null,
            "margin": null,
            "max_height": null,
            "max_width": null,
            "min_height": null,
            "min_width": null,
            "object_fit": null,
            "object_position": null,
            "order": null,
            "overflow": null,
            "overflow_x": null,
            "overflow_y": null,
            "padding": null,
            "right": null,
            "top": null,
            "visibility": null,
            "width": null
          }
        },
        "2d2e6af0a84749828a40d0afc4c12f5d": {
          "model_module": "@jupyter-widgets/controls",
          "model_module_version": "1.5.0",
          "model_name": "FloatProgressModel",
          "state": {
            "_dom_classes": [],
            "_model_module": "@jupyter-widgets/controls",
            "_model_module_version": "1.5.0",
            "_model_name": "FloatProgressModel",
            "_view_count": null,
            "_view_module": "@jupyter-widgets/controls",
            "_view_module_version": "1.5.0",
            "_view_name": "ProgressView",
            "bar_style": "success",
            "description": "",
            "description_tooltip": null,
            "layout": "IPY_MODEL_cc089c42a01743689567e3e4b2f52429",
            "max": 242065649,
            "min": 0,
            "orientation": "horizontal",
            "style": "IPY_MODEL_5f0fe317a0664fc49f036883a56de171",
            "value": 242065649
          }
        },
        "329206de56d741808ac4b729f7e2d3f8": {
          "model_module": "@jupyter-widgets/controls",
          "model_module_version": "1.5.0",
          "model_name": "HTMLModel",
          "state": {
            "_dom_classes": [],
            "_model_module": "@jupyter-widgets/controls",
            "_model_module_version": "1.5.0",
            "_model_name": "HTMLModel",
            "_view_count": null,
            "_view_module": "@jupyter-widgets/controls",
            "_view_module_version": "1.5.0",
            "_view_name": "HTMLView",
            "description": "",
            "description_tooltip": null,
            "layout": "IPY_MODEL_214c0be3e20b40c9af56c30121cd427a",
            "placeholder": "​",
            "style": "IPY_MODEL_3e2b914a34eb43ae86082f0a5c71ad49",
            "value": " 1.21k/1.21k [00:00&lt;00:00, 112kB/s]"
          }
        },
        "37bbd19676c44b8382bc736cf2b3276d": {
          "model_module": "@jupyter-widgets/base",
          "model_module_version": "1.2.0",
          "model_name": "LayoutModel",
          "state": {
            "_model_module": "@jupyter-widgets/base",
            "_model_module_version": "1.2.0",
            "_model_name": "LayoutModel",
            "_view_count": null,
            "_view_module": "@jupyter-widgets/base",
            "_view_module_version": "1.2.0",
            "_view_name": "LayoutView",
            "align_content": null,
            "align_items": null,
            "align_self": null,
            "border": null,
            "bottom": null,
            "display": null,
            "flex": null,
            "flex_flow": null,
            "grid_area": null,
            "grid_auto_columns": null,
            "grid_auto_flow": null,
            "grid_auto_rows": null,
            "grid_column": null,
            "grid_gap": null,
            "grid_row": null,
            "grid_template_areas": null,
            "grid_template_columns": null,
            "grid_template_rows": null,
            "height": null,
            "justify_content": null,
            "justify_items": null,
            "left": null,
            "margin": null,
            "max_height": null,
            "max_width": null,
            "min_height": null,
            "min_width": null,
            "object_fit": null,
            "object_position": null,
            "order": null,
            "overflow": null,
            "overflow_x": null,
            "overflow_y": null,
            "padding": null,
            "right": null,
            "top": null,
            "visibility": null,
            "width": null
          }
        },
        "394b857f56f44a4b91d342c01b38079b": {
          "model_module": "@jupyter-widgets/base",
          "model_module_version": "1.2.0",
          "model_name": "LayoutModel",
          "state": {
            "_model_module": "@jupyter-widgets/base",
            "_model_module_version": "1.2.0",
            "_model_name": "LayoutModel",
            "_view_count": null,
            "_view_module": "@jupyter-widgets/base",
            "_view_module_version": "1.2.0",
            "_view_name": "LayoutView",
            "align_content": null,
            "align_items": null,
            "align_self": null,
            "border": null,
            "bottom": null,
            "display": null,
            "flex": null,
            "flex_flow": null,
            "grid_area": null,
            "grid_auto_columns": null,
            "grid_auto_flow": null,
            "grid_auto_rows": null,
            "grid_column": null,
            "grid_gap": null,
            "grid_row": null,
            "grid_template_areas": null,
            "grid_template_columns": null,
            "grid_template_rows": null,
            "height": null,
            "justify_content": null,
            "justify_items": null,
            "left": null,
            "margin": null,
            "max_height": null,
            "max_width": null,
            "min_height": null,
            "min_width": null,
            "object_fit": null,
            "object_position": null,
            "order": null,
            "overflow": null,
            "overflow_x": null,
            "overflow_y": null,
            "padding": null,
            "right": null,
            "top": null,
            "visibility": null,
            "width": null
          }
        },
        "3991c629b14642b39162a4590f7a077d": {
          "model_module": "@jupyter-widgets/controls",
          "model_module_version": "1.5.0",
          "model_name": "HTMLModel",
          "state": {
            "_dom_classes": [],
            "_model_module": "@jupyter-widgets/controls",
            "_model_module_version": "1.5.0",
            "_model_name": "HTMLModel",
            "_view_count": null,
            "_view_module": "@jupyter-widgets/controls",
            "_view_module_version": "1.5.0",
            "_view_name": "HTMLView",
            "description": "",
            "description_tooltip": null,
            "layout": "IPY_MODEL_4ccba4794d324e30a39ba258e7704275",
            "placeholder": "​",
            "style": "IPY_MODEL_0fe47f9248e1403eab0194b01ab3f0fc",
            "value": " 2.32k/2.32k [00:00&lt;00:00, 218kB/s]"
          }
        },
        "3b8e8dafc29e4850ab106850fe9e36fa": {
          "model_module": "@jupyter-widgets/controls",
          "model_module_version": "1.5.0",
          "model_name": "HTMLModel",
          "state": {
            "_dom_classes": [],
            "_model_module": "@jupyter-widgets/controls",
            "_model_module_version": "1.5.0",
            "_model_name": "HTMLModel",
            "_view_count": null,
            "_view_module": "@jupyter-widgets/controls",
            "_view_module_version": "1.5.0",
            "_view_name": "HTMLView",
            "description": "",
            "description_tooltip": null,
            "layout": "IPY_MODEL_805d9c0f11684220ba3f465ebbbd8db8",
            "placeholder": "​",
            "style": "IPY_MODEL_b3b3fd7de71545b192017f309e39982a",
            "value": "Downloading (…)neration_config.json: 100%"
          }
        },
        "3e2b914a34eb43ae86082f0a5c71ad49": {
          "model_module": "@jupyter-widgets/controls",
          "model_module_version": "1.5.0",
          "model_name": "DescriptionStyleModel",
          "state": {
            "_model_module": "@jupyter-widgets/controls",
            "_model_module_version": "1.5.0",
            "_model_name": "DescriptionStyleModel",
            "_view_count": null,
            "_view_module": "@jupyter-widgets/base",
            "_view_module_version": "1.2.0",
            "_view_name": "StyleView",
            "description_width": ""
          }
        },
        "41ff79894aa149cda39069f169898973": {
          "model_module": "@jupyter-widgets/controls",
          "model_module_version": "1.5.0",
          "model_name": "HBoxModel",
          "state": {
            "_dom_classes": [],
            "_model_module": "@jupyter-widgets/controls",
            "_model_module_version": "1.5.0",
            "_model_name": "HBoxModel",
            "_view_count": null,
            "_view_module": "@jupyter-widgets/controls",
            "_view_module_version": "1.5.0",
            "_view_name": "HBoxView",
            "box_style": "",
            "children": [
              "IPY_MODEL_067d3a14ae02459fb745f37233c207d0",
              "IPY_MODEL_ca480b430fbe451c83d57c9e19a44cd5",
              "IPY_MODEL_1fa2be2665c443699ad8d7a2cfb1944b"
            ],
            "layout": "IPY_MODEL_f45b7d98077c4caf8e69799cd1a07486"
          }
        },
        "427db3a4d8a7469eb5df36378f333c46": {
          "model_module": "@jupyter-widgets/controls",
          "model_module_version": "1.5.0",
          "model_name": "ProgressStyleModel",
          "state": {
            "_model_module": "@jupyter-widgets/controls",
            "_model_module_version": "1.5.0",
            "_model_name": "ProgressStyleModel",
            "_view_count": null,
            "_view_module": "@jupyter-widgets/base",
            "_view_module_version": "1.2.0",
            "_view_name": "StyleView",
            "bar_color": null,
            "description_width": ""
          }
        },
        "46b54c785f414985b857626f3a32f3b9": {
          "model_module": "@jupyter-widgets/base",
          "model_module_version": "1.2.0",
          "model_name": "LayoutModel",
          "state": {
            "_model_module": "@jupyter-widgets/base",
            "_model_module_version": "1.2.0",
            "_model_name": "LayoutModel",
            "_view_count": null,
            "_view_module": "@jupyter-widgets/base",
            "_view_module_version": "1.2.0",
            "_view_name": "LayoutView",
            "align_content": null,
            "align_items": null,
            "align_self": null,
            "border": null,
            "bottom": null,
            "display": null,
            "flex": null,
            "flex_flow": null,
            "grid_area": null,
            "grid_auto_columns": null,
            "grid_auto_flow": null,
            "grid_auto_rows": null,
            "grid_column": null,
            "grid_gap": null,
            "grid_row": null,
            "grid_template_areas": null,
            "grid_template_columns": null,
            "grid_template_rows": null,
            "height": null,
            "justify_content": null,
            "justify_items": null,
            "left": null,
            "margin": null,
            "max_height": null,
            "max_width": null,
            "min_height": null,
            "min_width": null,
            "object_fit": null,
            "object_position": null,
            "order": null,
            "overflow": null,
            "overflow_x": null,
            "overflow_y": null,
            "padding": null,
            "right": null,
            "top": null,
            "visibility": null,
            "width": null
          }
        },
        "4ccba4794d324e30a39ba258e7704275": {
          "model_module": "@jupyter-widgets/base",
          "model_module_version": "1.2.0",
          "model_name": "LayoutModel",
          "state": {
            "_model_module": "@jupyter-widgets/base",
            "_model_module_version": "1.2.0",
            "_model_name": "LayoutModel",
            "_view_count": null,
            "_view_module": "@jupyter-widgets/base",
            "_view_module_version": "1.2.0",
            "_view_name": "LayoutView",
            "align_content": null,
            "align_items": null,
            "align_self": null,
            "border": null,
            "bottom": null,
            "display": null,
            "flex": null,
            "flex_flow": null,
            "grid_area": null,
            "grid_auto_columns": null,
            "grid_auto_flow": null,
            "grid_auto_rows": null,
            "grid_column": null,
            "grid_gap": null,
            "grid_row": null,
            "grid_template_areas": null,
            "grid_template_columns": null,
            "grid_template_rows": null,
            "height": null,
            "justify_content": null,
            "justify_items": null,
            "left": null,
            "margin": null,
            "max_height": null,
            "max_width": null,
            "min_height": null,
            "min_width": null,
            "object_fit": null,
            "object_position": null,
            "order": null,
            "overflow": null,
            "overflow_x": null,
            "overflow_y": null,
            "padding": null,
            "right": null,
            "top": null,
            "visibility": null,
            "width": null
          }
        },
        "566a1b21cee942adaa962df241d50549": {
          "model_module": "@jupyter-widgets/base",
          "model_module_version": "1.2.0",
          "model_name": "LayoutModel",
          "state": {
            "_model_module": "@jupyter-widgets/base",
            "_model_module_version": "1.2.0",
            "_model_name": "LayoutModel",
            "_view_count": null,
            "_view_module": "@jupyter-widgets/base",
            "_view_module_version": "1.2.0",
            "_view_name": "LayoutView",
            "align_content": null,
            "align_items": null,
            "align_self": null,
            "border": null,
            "bottom": null,
            "display": null,
            "flex": null,
            "flex_flow": null,
            "grid_area": null,
            "grid_auto_columns": null,
            "grid_auto_flow": null,
            "grid_auto_rows": null,
            "grid_column": null,
            "grid_gap": null,
            "grid_row": null,
            "grid_template_areas": null,
            "grid_template_columns": null,
            "grid_template_rows": null,
            "height": null,
            "justify_content": null,
            "justify_items": null,
            "left": null,
            "margin": null,
            "max_height": null,
            "max_width": null,
            "min_height": null,
            "min_width": null,
            "object_fit": null,
            "object_position": null,
            "order": null,
            "overflow": null,
            "overflow_x": null,
            "overflow_y": null,
            "padding": null,
            "right": null,
            "top": null,
            "visibility": null,
            "width": null
          }
        },
        "59efa454d8ac4f3dae7ea68ed58137d4": {
          "model_module": "@jupyter-widgets/controls",
          "model_module_version": "1.5.0",
          "model_name": "HTMLModel",
          "state": {
            "_dom_classes": [],
            "_model_module": "@jupyter-widgets/controls",
            "_model_module_version": "1.5.0",
            "_model_name": "HTMLModel",
            "_view_count": null,
            "_view_module": "@jupyter-widgets/controls",
            "_view_module_version": "1.5.0",
            "_view_name": "HTMLView",
            "description": "",
            "description_tooltip": null,
            "layout": "IPY_MODEL_46b54c785f414985b857626f3a32f3b9",
            "placeholder": "​",
            "style": "IPY_MODEL_d3ca5633c8ec4268a2b2e4f695d64521",
            "value": "Downloading (…)lve/main/config.json: 100%"
          }
        },
        "5d7287f9a14841b9967edfe865ea287f": {
          "model_module": "@jupyter-widgets/controls",
          "model_module_version": "1.5.0",
          "model_name": "HTMLModel",
          "state": {
            "_dom_classes": [],
            "_model_module": "@jupyter-widgets/controls",
            "_model_module_version": "1.5.0",
            "_model_name": "HTMLModel",
            "_view_count": null,
            "_view_module": "@jupyter-widgets/controls",
            "_view_module_version": "1.5.0",
            "_view_name": "HTMLView",
            "description": "",
            "description_tooltip": null,
            "layout": "IPY_MODEL_733a2980ec02450aa880853f1bb12e05",
            "placeholder": "​",
            "style": "IPY_MODEL_6bafc83cf73941339b17ac3301d157c9",
            "value": "Downloading pytorch_model.bin: 100%"
          }
        },
        "5f0fe317a0664fc49f036883a56de171": {
          "model_module": "@jupyter-widgets/controls",
          "model_module_version": "1.5.0",
          "model_name": "ProgressStyleModel",
          "state": {
            "_model_module": "@jupyter-widgets/controls",
            "_model_module_version": "1.5.0",
            "_model_name": "ProgressStyleModel",
            "_view_count": null,
            "_view_module": "@jupyter-widgets/base",
            "_view_module_version": "1.2.0",
            "_view_name": "StyleView",
            "bar_color": null,
            "description_width": ""
          }
        },
        "62e371d1632e4812ad02edd5f63c83a9": {
          "model_module": "@jupyter-widgets/base",
          "model_module_version": "1.2.0",
          "model_name": "LayoutModel",
          "state": {
            "_model_module": "@jupyter-widgets/base",
            "_model_module_version": "1.2.0",
            "_model_name": "LayoutModel",
            "_view_count": null,
            "_view_module": "@jupyter-widgets/base",
            "_view_module_version": "1.2.0",
            "_view_name": "LayoutView",
            "align_content": null,
            "align_items": null,
            "align_self": null,
            "border": null,
            "bottom": null,
            "display": null,
            "flex": null,
            "flex_flow": null,
            "grid_area": null,
            "grid_auto_columns": null,
            "grid_auto_flow": null,
            "grid_auto_rows": null,
            "grid_column": null,
            "grid_gap": null,
            "grid_row": null,
            "grid_template_areas": null,
            "grid_template_columns": null,
            "grid_template_rows": null,
            "height": null,
            "justify_content": null,
            "justify_items": null,
            "left": null,
            "margin": null,
            "max_height": null,
            "max_width": null,
            "min_height": null,
            "min_width": null,
            "object_fit": null,
            "object_position": null,
            "order": null,
            "overflow": null,
            "overflow_x": null,
            "overflow_y": null,
            "padding": null,
            "right": null,
            "top": null,
            "visibility": null,
            "width": null
          }
        },
        "62fcd8d08b4e4dbaa526ae5b29cee399": {
          "model_module": "@jupyter-widgets/base",
          "model_module_version": "1.2.0",
          "model_name": "LayoutModel",
          "state": {
            "_model_module": "@jupyter-widgets/base",
            "_model_module_version": "1.2.0",
            "_model_name": "LayoutModel",
            "_view_count": null,
            "_view_module": "@jupyter-widgets/base",
            "_view_module_version": "1.2.0",
            "_view_name": "LayoutView",
            "align_content": null,
            "align_items": null,
            "align_self": null,
            "border": null,
            "bottom": null,
            "display": null,
            "flex": null,
            "flex_flow": null,
            "grid_area": null,
            "grid_auto_columns": null,
            "grid_auto_flow": null,
            "grid_auto_rows": null,
            "grid_column": null,
            "grid_gap": null,
            "grid_row": null,
            "grid_template_areas": null,
            "grid_template_columns": null,
            "grid_template_rows": null,
            "height": null,
            "justify_content": null,
            "justify_items": null,
            "left": null,
            "margin": null,
            "max_height": null,
            "max_width": null,
            "min_height": null,
            "min_width": null,
            "object_fit": null,
            "object_position": null,
            "order": null,
            "overflow": null,
            "overflow_x": null,
            "overflow_y": null,
            "padding": null,
            "right": null,
            "top": null,
            "visibility": null,
            "width": null
          }
        },
        "66674f01711f461f8346110a206c4b68": {
          "model_module": "@jupyter-widgets/base",
          "model_module_version": "1.2.0",
          "model_name": "LayoutModel",
          "state": {
            "_model_module": "@jupyter-widgets/base",
            "_model_module_version": "1.2.0",
            "_model_name": "LayoutModel",
            "_view_count": null,
            "_view_module": "@jupyter-widgets/base",
            "_view_module_version": "1.2.0",
            "_view_name": "LayoutView",
            "align_content": null,
            "align_items": null,
            "align_self": null,
            "border": null,
            "bottom": null,
            "display": null,
            "flex": null,
            "flex_flow": null,
            "grid_area": null,
            "grid_auto_columns": null,
            "grid_auto_flow": null,
            "grid_auto_rows": null,
            "grid_column": null,
            "grid_gap": null,
            "grid_row": null,
            "grid_template_areas": null,
            "grid_template_columns": null,
            "grid_template_rows": null,
            "height": null,
            "justify_content": null,
            "justify_items": null,
            "left": null,
            "margin": null,
            "max_height": null,
            "max_width": null,
            "min_height": null,
            "min_width": null,
            "object_fit": null,
            "object_position": null,
            "order": null,
            "overflow": null,
            "overflow_x": null,
            "overflow_y": null,
            "padding": null,
            "right": null,
            "top": null,
            "visibility": null,
            "width": null
          }
        },
        "670588e909024d85a226d8c576d96735": {
          "model_module": "@jupyter-widgets/controls",
          "model_module_version": "1.5.0",
          "model_name": "HTMLModel",
          "state": {
            "_dom_classes": [],
            "_model_module": "@jupyter-widgets/controls",
            "_model_module_version": "1.5.0",
            "_model_name": "HTMLModel",
            "_view_count": null,
            "_view_module": "@jupyter-widgets/controls",
            "_view_module_version": "1.5.0",
            "_view_name": "HTMLView",
            "description": "",
            "description_tooltip": null,
            "layout": "IPY_MODEL_566a1b21cee942adaa962df241d50549",
            "placeholder": "​",
            "style": "IPY_MODEL_8fe04e4066574b1a872a6fa67b429d49",
            "value": " 147/147 [00:00&lt;00:00, 12.8kB/s]"
          }
        },
        "6bafc83cf73941339b17ac3301d157c9": {
          "model_module": "@jupyter-widgets/controls",
          "model_module_version": "1.5.0",
          "model_name": "DescriptionStyleModel",
          "state": {
            "_model_module": "@jupyter-widgets/controls",
            "_model_module_version": "1.5.0",
            "_model_name": "DescriptionStyleModel",
            "_view_count": null,
            "_view_module": "@jupyter-widgets/base",
            "_view_module_version": "1.2.0",
            "_view_name": "StyleView",
            "description_width": ""
          }
        },
        "733a2980ec02450aa880853f1bb12e05": {
          "model_module": "@jupyter-widgets/base",
          "model_module_version": "1.2.0",
          "model_name": "LayoutModel",
          "state": {
            "_model_module": "@jupyter-widgets/base",
            "_model_module_version": "1.2.0",
            "_model_name": "LayoutModel",
            "_view_count": null,
            "_view_module": "@jupyter-widgets/base",
            "_view_module_version": "1.2.0",
            "_view_name": "LayoutView",
            "align_content": null,
            "align_items": null,
            "align_self": null,
            "border": null,
            "bottom": null,
            "display": null,
            "flex": null,
            "flex_flow": null,
            "grid_area": null,
            "grid_auto_columns": null,
            "grid_auto_flow": null,
            "grid_auto_rows": null,
            "grid_column": null,
            "grid_gap": null,
            "grid_row": null,
            "grid_template_areas": null,
            "grid_template_columns": null,
            "grid_template_rows": null,
            "height": null,
            "justify_content": null,
            "justify_items": null,
            "left": null,
            "margin": null,
            "max_height": null,
            "max_width": null,
            "min_height": null,
            "min_width": null,
            "object_fit": null,
            "object_position": null,
            "order": null,
            "overflow": null,
            "overflow_x": null,
            "overflow_y": null,
            "padding": null,
            "right": null,
            "top": null,
            "visibility": null,
            "width": null
          }
        },
        "77f89b31556141a39a83cb3772c5d10a": {
          "model_module": "@jupyter-widgets/controls",
          "model_module_version": "1.5.0",
          "model_name": "FloatProgressModel",
          "state": {
            "_dom_classes": [],
            "_model_module": "@jupyter-widgets/controls",
            "_model_module_version": "1.5.0",
            "_model_name": "FloatProgressModel",
            "_view_count": null,
            "_view_module": "@jupyter-widgets/controls",
            "_view_module_version": "1.5.0",
            "_view_name": "ProgressView",
            "bar_style": "success",
            "description": "",
            "description_tooltip": null,
            "layout": "IPY_MODEL_d1802bcd7a9640acb441e6e6a69d3fb7",
            "max": 147,
            "min": 0,
            "orientation": "horizontal",
            "style": "IPY_MODEL_960874eec9e24924999d32bacb6856d5",
            "value": 147
          }
        },
        "805d9c0f11684220ba3f465ebbbd8db8": {
          "model_module": "@jupyter-widgets/base",
          "model_module_version": "1.2.0",
          "model_name": "LayoutModel",
          "state": {
            "_model_module": "@jupyter-widgets/base",
            "_model_module_version": "1.2.0",
            "_model_name": "LayoutModel",
            "_view_count": null,
            "_view_module": "@jupyter-widgets/base",
            "_view_module_version": "1.2.0",
            "_view_name": "LayoutView",
            "align_content": null,
            "align_items": null,
            "align_self": null,
            "border": null,
            "bottom": null,
            "display": null,
            "flex": null,
            "flex_flow": null,
            "grid_area": null,
            "grid_auto_columns": null,
            "grid_auto_flow": null,
            "grid_auto_rows": null,
            "grid_column": null,
            "grid_gap": null,
            "grid_row": null,
            "grid_template_areas": null,
            "grid_template_columns": null,
            "grid_template_rows": null,
            "height": null,
            "justify_content": null,
            "justify_items": null,
            "left": null,
            "margin": null,
            "max_height": null,
            "max_width": null,
            "min_height": null,
            "min_width": null,
            "object_fit": null,
            "object_position": null,
            "order": null,
            "overflow": null,
            "overflow_x": null,
            "overflow_y": null,
            "padding": null,
            "right": null,
            "top": null,
            "visibility": null,
            "width": null
          }
        },
        "8692c8cce2084acb816e3e7f610436e9": {
          "model_module": "@jupyter-widgets/controls",
          "model_module_version": "1.5.0",
          "model_name": "HBoxModel",
          "state": {
            "_dom_classes": [],
            "_model_module": "@jupyter-widgets/controls",
            "_model_module_version": "1.5.0",
            "_model_name": "HBoxModel",
            "_view_count": null,
            "_view_module": "@jupyter-widgets/controls",
            "_view_module_version": "1.5.0",
            "_view_name": "HBoxView",
            "box_style": "",
            "children": [
              "IPY_MODEL_dc71b2d6da604d9f8741da230f70d9a1",
              "IPY_MODEL_0c9f8d0fc2d24f19aed33483299bcca0",
              "IPY_MODEL_3991c629b14642b39162a4590f7a077d"
            ],
            "layout": "IPY_MODEL_37bbd19676c44b8382bc736cf2b3276d"
          }
        },
        "8da1181f8e8f4b518f0471ff894a0b05": {
          "model_module": "@jupyter-widgets/base",
          "model_module_version": "1.2.0",
          "model_name": "LayoutModel",
          "state": {
            "_model_module": "@jupyter-widgets/base",
            "_model_module_version": "1.2.0",
            "_model_name": "LayoutModel",
            "_view_count": null,
            "_view_module": "@jupyter-widgets/base",
            "_view_module_version": "1.2.0",
            "_view_name": "LayoutView",
            "align_content": null,
            "align_items": null,
            "align_self": null,
            "border": null,
            "bottom": null,
            "display": null,
            "flex": null,
            "flex_flow": null,
            "grid_area": null,
            "grid_auto_columns": null,
            "grid_auto_flow": null,
            "grid_auto_rows": null,
            "grid_column": null,
            "grid_gap": null,
            "grid_row": null,
            "grid_template_areas": null,
            "grid_template_columns": null,
            "grid_template_rows": null,
            "height": null,
            "justify_content": null,
            "justify_items": null,
            "left": null,
            "margin": null,
            "max_height": null,
            "max_width": null,
            "min_height": null,
            "min_width": null,
            "object_fit": null,
            "object_position": null,
            "order": null,
            "overflow": null,
            "overflow_x": null,
            "overflow_y": null,
            "padding": null,
            "right": null,
            "top": null,
            "visibility": null,
            "width": null
          }
        },
        "8fe04e4066574b1a872a6fa67b429d49": {
          "model_module": "@jupyter-widgets/controls",
          "model_module_version": "1.5.0",
          "model_name": "DescriptionStyleModel",
          "state": {
            "_model_module": "@jupyter-widgets/controls",
            "_model_module_version": "1.5.0",
            "_model_name": "DescriptionStyleModel",
            "_view_count": null,
            "_view_module": "@jupyter-widgets/base",
            "_view_module_version": "1.2.0",
            "_view_name": "StyleView",
            "description_width": ""
          }
        },
        "9548bb418668461b961ef7ab345a50ff": {
          "model_module": "@jupyter-widgets/controls",
          "model_module_version": "1.5.0",
          "model_name": "HBoxModel",
          "state": {
            "_dom_classes": [],
            "_model_module": "@jupyter-widgets/controls",
            "_model_module_version": "1.5.0",
            "_model_name": "HBoxModel",
            "_view_count": null,
            "_view_module": "@jupyter-widgets/controls",
            "_view_module_version": "1.5.0",
            "_view_name": "HBoxView",
            "box_style": "",
            "children": [
              "IPY_MODEL_3b8e8dafc29e4850ab106850fe9e36fa",
              "IPY_MODEL_77f89b31556141a39a83cb3772c5d10a",
              "IPY_MODEL_670588e909024d85a226d8c576d96735"
            ],
            "layout": "IPY_MODEL_66674f01711f461f8346110a206c4b68"
          }
        },
        "960874eec9e24924999d32bacb6856d5": {
          "model_module": "@jupyter-widgets/controls",
          "model_module_version": "1.5.0",
          "model_name": "ProgressStyleModel",
          "state": {
            "_model_module": "@jupyter-widgets/controls",
            "_model_module_version": "1.5.0",
            "_model_name": "ProgressStyleModel",
            "_view_count": null,
            "_view_module": "@jupyter-widgets/base",
            "_view_module_version": "1.2.0",
            "_view_name": "StyleView",
            "bar_color": null,
            "description_width": ""
          }
        },
        "9e12e05e00ac43779cc75d5cfe7dff5c": {
          "model_module": "@jupyter-widgets/controls",
          "model_module_version": "1.5.0",
          "model_name": "DescriptionStyleModel",
          "state": {
            "_model_module": "@jupyter-widgets/controls",
            "_model_module_version": "1.5.0",
            "_model_name": "DescriptionStyleModel",
            "_view_count": null,
            "_view_module": "@jupyter-widgets/base",
            "_view_module_version": "1.2.0",
            "_view_name": "StyleView",
            "description_width": ""
          }
        },
        "a1a71424ce024f3a82f7a8a4ff7ab846": {
          "model_module": "@jupyter-widgets/controls",
          "model_module_version": "1.5.0",
          "model_name": "HBoxModel",
          "state": {
            "_dom_classes": [],
            "_model_module": "@jupyter-widgets/controls",
            "_model_module_version": "1.5.0",
            "_model_name": "HBoxModel",
            "_view_count": null,
            "_view_module": "@jupyter-widgets/controls",
            "_view_module_version": "1.5.0",
            "_view_name": "HBoxView",
            "box_style": "",
            "children": [
              "IPY_MODEL_5d7287f9a14841b9967edfe865ea287f",
              "IPY_MODEL_2d2e6af0a84749828a40d0afc4c12f5d",
              "IPY_MODEL_f26e3f0281834204a2983e212211b612"
            ],
            "layout": "IPY_MODEL_a98b489ca52c43a2a3d5c3a750227b1a"
          }
        },
        "a98b489ca52c43a2a3d5c3a750227b1a": {
          "model_module": "@jupyter-widgets/base",
          "model_module_version": "1.2.0",
          "model_name": "LayoutModel",
          "state": {
            "_model_module": "@jupyter-widgets/base",
            "_model_module_version": "1.2.0",
            "_model_name": "LayoutModel",
            "_view_count": null,
            "_view_module": "@jupyter-widgets/base",
            "_view_module_version": "1.2.0",
            "_view_name": "LayoutView",
            "align_content": null,
            "align_items": null,
            "align_self": null,
            "border": null,
            "bottom": null,
            "display": null,
            "flex": null,
            "flex_flow": null,
            "grid_area": null,
            "grid_auto_columns": null,
            "grid_auto_flow": null,
            "grid_auto_rows": null,
            "grid_column": null,
            "grid_gap": null,
            "grid_row": null,
            "grid_template_areas": null,
            "grid_template_columns": null,
            "grid_template_rows": null,
            "height": null,
            "justify_content": null,
            "justify_items": null,
            "left": null,
            "margin": null,
            "max_height": null,
            "max_width": null,
            "min_height": null,
            "min_width": null,
            "object_fit": null,
            "object_position": null,
            "order": null,
            "overflow": null,
            "overflow_x": null,
            "overflow_y": null,
            "padding": null,
            "right": null,
            "top": null,
            "visibility": null,
            "width": null
          }
        },
        "b1b1d5cf452a416d946fef7faf848aa2": {
          "model_module": "@jupyter-widgets/base",
          "model_module_version": "1.2.0",
          "model_name": "LayoutModel",
          "state": {
            "_model_module": "@jupyter-widgets/base",
            "_model_module_version": "1.2.0",
            "_model_name": "LayoutModel",
            "_view_count": null,
            "_view_module": "@jupyter-widgets/base",
            "_view_module_version": "1.2.0",
            "_view_name": "LayoutView",
            "align_content": null,
            "align_items": null,
            "align_self": null,
            "border": null,
            "bottom": null,
            "display": null,
            "flex": null,
            "flex_flow": null,
            "grid_area": null,
            "grid_auto_columns": null,
            "grid_auto_flow": null,
            "grid_auto_rows": null,
            "grid_column": null,
            "grid_gap": null,
            "grid_row": null,
            "grid_template_areas": null,
            "grid_template_columns": null,
            "grid_template_rows": null,
            "height": null,
            "justify_content": null,
            "justify_items": null,
            "left": null,
            "margin": null,
            "max_height": null,
            "max_width": null,
            "min_height": null,
            "min_width": null,
            "object_fit": null,
            "object_position": null,
            "order": null,
            "overflow": null,
            "overflow_x": null,
            "overflow_y": null,
            "padding": null,
            "right": null,
            "top": null,
            "visibility": null,
            "width": null
          }
        },
        "b3b3fd7de71545b192017f309e39982a": {
          "model_module": "@jupyter-widgets/controls",
          "model_module_version": "1.5.0",
          "model_name": "DescriptionStyleModel",
          "state": {
            "_model_module": "@jupyter-widgets/controls",
            "_model_module_version": "1.5.0",
            "_model_name": "DescriptionStyleModel",
            "_view_count": null,
            "_view_module": "@jupyter-widgets/base",
            "_view_module_version": "1.2.0",
            "_view_name": "StyleView",
            "description_width": ""
          }
        },
        "bbc474cec1c64e8c857ef6002d87e942": {
          "model_module": "@jupyter-widgets/base",
          "model_module_version": "1.2.0",
          "model_name": "LayoutModel",
          "state": {
            "_model_module": "@jupyter-widgets/base",
            "_model_module_version": "1.2.0",
            "_model_name": "LayoutModel",
            "_view_count": null,
            "_view_module": "@jupyter-widgets/base",
            "_view_module_version": "1.2.0",
            "_view_name": "LayoutView",
            "align_content": null,
            "align_items": null,
            "align_self": null,
            "border": null,
            "bottom": null,
            "display": null,
            "flex": null,
            "flex_flow": null,
            "grid_area": null,
            "grid_auto_columns": null,
            "grid_auto_flow": null,
            "grid_auto_rows": null,
            "grid_column": null,
            "grid_gap": null,
            "grid_row": null,
            "grid_template_areas": null,
            "grid_template_columns": null,
            "grid_template_rows": null,
            "height": null,
            "justify_content": null,
            "justify_items": null,
            "left": null,
            "margin": null,
            "max_height": null,
            "max_width": null,
            "min_height": null,
            "min_width": null,
            "object_fit": null,
            "object_position": null,
            "order": null,
            "overflow": null,
            "overflow_x": null,
            "overflow_y": null,
            "padding": null,
            "right": null,
            "top": null,
            "visibility": null,
            "width": null
          }
        },
        "ca480b430fbe451c83d57c9e19a44cd5": {
          "model_module": "@jupyter-widgets/controls",
          "model_module_version": "1.5.0",
          "model_name": "FloatProgressModel",
          "state": {
            "_dom_classes": [],
            "_model_module": "@jupyter-widgets/controls",
            "_model_module_version": "1.5.0",
            "_model_name": "FloatProgressModel",
            "_view_count": null,
            "_view_module": "@jupyter-widgets/controls",
            "_view_module_version": "1.5.0",
            "_view_name": "ProgressView",
            "bar_style": "success",
            "description": "",
            "description_tooltip": null,
            "layout": "IPY_MODEL_bbc474cec1c64e8c857ef6002d87e942",
            "max": 791656,
            "min": 0,
            "orientation": "horizontal",
            "style": "IPY_MODEL_427db3a4d8a7469eb5df36378f333c46",
            "value": 791656
          }
        },
        "caa69694ea924f55b1538ad52dd6171a": {
          "model_module": "@jupyter-widgets/controls",
          "model_module_version": "1.5.0",
          "model_name": "DescriptionStyleModel",
          "state": {
            "_model_module": "@jupyter-widgets/controls",
            "_model_module_version": "1.5.0",
            "_model_name": "DescriptionStyleModel",
            "_view_count": null,
            "_view_module": "@jupyter-widgets/base",
            "_view_module_version": "1.2.0",
            "_view_name": "StyleView",
            "description_width": ""
          }
        },
        "cc089c42a01743689567e3e4b2f52429": {
          "model_module": "@jupyter-widgets/base",
          "model_module_version": "1.2.0",
          "model_name": "LayoutModel",
          "state": {
            "_model_module": "@jupyter-widgets/base",
            "_model_module_version": "1.2.0",
            "_model_name": "LayoutModel",
            "_view_count": null,
            "_view_module": "@jupyter-widgets/base",
            "_view_module_version": "1.2.0",
            "_view_name": "LayoutView",
            "align_content": null,
            "align_items": null,
            "align_self": null,
            "border": null,
            "bottom": null,
            "display": null,
            "flex": null,
            "flex_flow": null,
            "grid_area": null,
            "grid_auto_columns": null,
            "grid_auto_flow": null,
            "grid_auto_rows": null,
            "grid_column": null,
            "grid_gap": null,
            "grid_row": null,
            "grid_template_areas": null,
            "grid_template_columns": null,
            "grid_template_rows": null,
            "height": null,
            "justify_content": null,
            "justify_items": null,
            "left": null,
            "margin": null,
            "max_height": null,
            "max_width": null,
            "min_height": null,
            "min_width": null,
            "object_fit": null,
            "object_position": null,
            "order": null,
            "overflow": null,
            "overflow_x": null,
            "overflow_y": null,
            "padding": null,
            "right": null,
            "top": null,
            "visibility": null,
            "width": null
          }
        },
        "d1802bcd7a9640acb441e6e6a69d3fb7": {
          "model_module": "@jupyter-widgets/base",
          "model_module_version": "1.2.0",
          "model_name": "LayoutModel",
          "state": {
            "_model_module": "@jupyter-widgets/base",
            "_model_module_version": "1.2.0",
            "_model_name": "LayoutModel",
            "_view_count": null,
            "_view_module": "@jupyter-widgets/base",
            "_view_module_version": "1.2.0",
            "_view_name": "LayoutView",
            "align_content": null,
            "align_items": null,
            "align_self": null,
            "border": null,
            "bottom": null,
            "display": null,
            "flex": null,
            "flex_flow": null,
            "grid_area": null,
            "grid_auto_columns": null,
            "grid_auto_flow": null,
            "grid_auto_rows": null,
            "grid_column": null,
            "grid_gap": null,
            "grid_row": null,
            "grid_template_areas": null,
            "grid_template_columns": null,
            "grid_template_rows": null,
            "height": null,
            "justify_content": null,
            "justify_items": null,
            "left": null,
            "margin": null,
            "max_height": null,
            "max_width": null,
            "min_height": null,
            "min_width": null,
            "object_fit": null,
            "object_position": null,
            "order": null,
            "overflow": null,
            "overflow_x": null,
            "overflow_y": null,
            "padding": null,
            "right": null,
            "top": null,
            "visibility": null,
            "width": null
          }
        },
        "d3ca5633c8ec4268a2b2e4f695d64521": {
          "model_module": "@jupyter-widgets/controls",
          "model_module_version": "1.5.0",
          "model_name": "DescriptionStyleModel",
          "state": {
            "_model_module": "@jupyter-widgets/controls",
            "_model_module_version": "1.5.0",
            "_model_name": "DescriptionStyleModel",
            "_view_count": null,
            "_view_module": "@jupyter-widgets/base",
            "_view_module_version": "1.2.0",
            "_view_name": "StyleView",
            "description_width": ""
          }
        },
        "dc71b2d6da604d9f8741da230f70d9a1": {
          "model_module": "@jupyter-widgets/controls",
          "model_module_version": "1.5.0",
          "model_name": "HTMLModel",
          "state": {
            "_dom_classes": [],
            "_model_module": "@jupyter-widgets/controls",
            "_model_module_version": "1.5.0",
            "_model_name": "HTMLModel",
            "_view_count": null,
            "_view_module": "@jupyter-widgets/controls",
            "_view_module_version": "1.5.0",
            "_view_name": "HTMLView",
            "description": "",
            "description_tooltip": null,
            "layout": "IPY_MODEL_62e371d1632e4812ad02edd5f63c83a9",
            "placeholder": "​",
            "style": "IPY_MODEL_caa69694ea924f55b1538ad52dd6171a",
            "value": "Downloading (…)okenizer_config.json: 100%"
          }
        },
        "de14748e04f94c22852e465b8700956e": {
          "model_module": "@jupyter-widgets/controls",
          "model_module_version": "1.5.0",
          "model_name": "FloatProgressModel",
          "state": {
            "_dom_classes": [],
            "_model_module": "@jupyter-widgets/controls",
            "_model_module_version": "1.5.0",
            "_model_name": "FloatProgressModel",
            "_view_count": null,
            "_view_module": "@jupyter-widgets/controls",
            "_view_module_version": "1.5.0",
            "_view_name": "ProgressView",
            "bar_style": "success",
            "description": "",
            "description_tooltip": null,
            "layout": "IPY_MODEL_62fcd8d08b4e4dbaa526ae5b29cee399",
            "max": 1206,
            "min": 0,
            "orientation": "horizontal",
            "style": "IPY_MODEL_1fe6a38562194eb5ad5b7740516e6a91",
            "value": 1206
          }
        },
        "ec19a6a9eb504420885dc20b2c560a99": {
          "model_module": "@jupyter-widgets/controls",
          "model_module_version": "1.5.0",
          "model_name": "DescriptionStyleModel",
          "state": {
            "_model_module": "@jupyter-widgets/controls",
            "_model_module_version": "1.5.0",
            "_model_name": "DescriptionStyleModel",
            "_view_count": null,
            "_view_module": "@jupyter-widgets/base",
            "_view_module_version": "1.2.0",
            "_view_name": "StyleView",
            "description_width": ""
          }
        },
        "eff91f4d8d6e4401a3e3966bb2b649d1": {
          "model_module": "@jupyter-widgets/base",
          "model_module_version": "1.2.0",
          "model_name": "LayoutModel",
          "state": {
            "_model_module": "@jupyter-widgets/base",
            "_model_module_version": "1.2.0",
            "_model_name": "LayoutModel",
            "_view_count": null,
            "_view_module": "@jupyter-widgets/base",
            "_view_module_version": "1.2.0",
            "_view_name": "LayoutView",
            "align_content": null,
            "align_items": null,
            "align_self": null,
            "border": null,
            "bottom": null,
            "display": null,
            "flex": null,
            "flex_flow": null,
            "grid_area": null,
            "grid_auto_columns": null,
            "grid_auto_flow": null,
            "grid_auto_rows": null,
            "grid_column": null,
            "grid_gap": null,
            "grid_row": null,
            "grid_template_areas": null,
            "grid_template_columns": null,
            "grid_template_rows": null,
            "height": null,
            "justify_content": null,
            "justify_items": null,
            "left": null,
            "margin": null,
            "max_height": null,
            "max_width": null,
            "min_height": null,
            "min_width": null,
            "object_fit": null,
            "object_position": null,
            "order": null,
            "overflow": null,
            "overflow_x": null,
            "overflow_y": null,
            "padding": null,
            "right": null,
            "top": null,
            "visibility": null,
            "width": null
          }
        },
        "f26e3f0281834204a2983e212211b612": {
          "model_module": "@jupyter-widgets/controls",
          "model_module_version": "1.5.0",
          "model_name": "HTMLModel",
          "state": {
            "_dom_classes": [],
            "_model_module": "@jupyter-widgets/controls",
            "_model_module_version": "1.5.0",
            "_model_name": "HTMLModel",
            "_view_count": null,
            "_view_module": "@jupyter-widgets/controls",
            "_view_module_version": "1.5.0",
            "_view_name": "HTMLView",
            "description": "",
            "description_tooltip": null,
            "layout": "IPY_MODEL_1c1e64fc37d9478f92a399f055a692fd",
            "placeholder": "​",
            "style": "IPY_MODEL_9e12e05e00ac43779cc75d5cfe7dff5c",
            "value": " 242M/242M [00:00&lt;00:00, 459MB/s]"
          }
        },
        "f45b7d98077c4caf8e69799cd1a07486": {
          "model_module": "@jupyter-widgets/base",
          "model_module_version": "1.2.0",
          "model_name": "LayoutModel",
          "state": {
            "_model_module": "@jupyter-widgets/base",
            "_model_module_version": "1.2.0",
            "_model_name": "LayoutModel",
            "_view_count": null,
            "_view_module": "@jupyter-widgets/base",
            "_view_module_version": "1.2.0",
            "_view_name": "LayoutView",
            "align_content": null,
            "align_items": null,
            "align_self": null,
            "border": null,
            "bottom": null,
            "display": null,
            "flex": null,
            "flex_flow": null,
            "grid_area": null,
            "grid_auto_columns": null,
            "grid_auto_flow": null,
            "grid_auto_rows": null,
            "grid_column": null,
            "grid_gap": null,
            "grid_row": null,
            "grid_template_areas": null,
            "grid_template_columns": null,
            "grid_template_rows": null,
            "height": null,
            "justify_content": null,
            "justify_items": null,
            "left": null,
            "margin": null,
            "max_height": null,
            "max_width": null,
            "min_height": null,
            "min_width": null,
            "object_fit": null,
            "object_position": null,
            "order": null,
            "overflow": null,
            "overflow_x": null,
            "overflow_y": null,
            "padding": null,
            "right": null,
            "top": null,
            "visibility": null,
            "width": null
          }
        },
        "f9c19964520f410fac628f94f49e2e62": {
          "model_module": "@jupyter-widgets/controls",
          "model_module_version": "1.5.0",
          "model_name": "HBoxModel",
          "state": {
            "_dom_classes": [],
            "_model_module": "@jupyter-widgets/controls",
            "_model_module_version": "1.5.0",
            "_model_name": "HBoxModel",
            "_view_count": null,
            "_view_module": "@jupyter-widgets/controls",
            "_view_module_version": "1.5.0",
            "_view_name": "HBoxView",
            "box_style": "",
            "children": [
              "IPY_MODEL_59efa454d8ac4f3dae7ea68ed58137d4",
              "IPY_MODEL_de14748e04f94c22852e465b8700956e",
              "IPY_MODEL_329206de56d741808ac4b729f7e2d3f8"
            ],
            "layout": "IPY_MODEL_394b857f56f44a4b91d342c01b38079b"
          }
        },
        "a1b59036bf7342cca46c2c932ff2011d": {
          "model_module": "@jupyter-widgets/controls",
          "model_name": "HBoxModel",
          "model_module_version": "1.5.0",
          "state": {
            "_dom_classes": [],
            "_model_module": "@jupyter-widgets/controls",
            "_model_module_version": "1.5.0",
            "_model_name": "HBoxModel",
            "_view_count": null,
            "_view_module": "@jupyter-widgets/controls",
            "_view_module_version": "1.5.0",
            "_view_name": "HBoxView",
            "box_style": "",
            "children": [
              "IPY_MODEL_d5f829d54346431a8b8c9e3e29ea20b3",
              "IPY_MODEL_5f001e3d52d8478190495f5a36ddf1d6",
              "IPY_MODEL_e0a1fb0b944548528e3645cf93559474"
            ],
            "layout": "IPY_MODEL_4cf93c85dd7d4604a75f2da0d0d3d2c7"
          }
        },
        "d5f829d54346431a8b8c9e3e29ea20b3": {
          "model_module": "@jupyter-widgets/controls",
          "model_name": "HTMLModel",
          "model_module_version": "1.5.0",
          "state": {
            "_dom_classes": [],
            "_model_module": "@jupyter-widgets/controls",
            "_model_module_version": "1.5.0",
            "_model_name": "HTMLModel",
            "_view_count": null,
            "_view_module": "@jupyter-widgets/controls",
            "_view_module_version": "1.5.0",
            "_view_name": "HTMLView",
            "description": "",
            "description_tooltip": null,
            "layout": "IPY_MODEL_40de5b5f6a1642fa92271289d93bd93c",
            "placeholder": "​",
            "style": "IPY_MODEL_69dc238524d74417901f0b2c72ed546c",
            "value": "Downloading (…)lve/main/config.json: 100%"
          }
        },
        "5f001e3d52d8478190495f5a36ddf1d6": {
          "model_module": "@jupyter-widgets/controls",
          "model_name": "FloatProgressModel",
          "model_module_version": "1.5.0",
          "state": {
            "_dom_classes": [],
            "_model_module": "@jupyter-widgets/controls",
            "_model_module_version": "1.5.0",
            "_model_name": "FloatProgressModel",
            "_view_count": null,
            "_view_module": "@jupyter-widgets/controls",
            "_view_module_version": "1.5.0",
            "_view_name": "ProgressView",
            "bar_style": "success",
            "description": "",
            "description_tooltip": null,
            "layout": "IPY_MODEL_51f657f65df748ed8797ffeffb4e6b11",
            "max": 1585,
            "min": 0,
            "orientation": "horizontal",
            "style": "IPY_MODEL_5238a8de822f4031ac465ab2db786292",
            "value": 1585
          }
        },
        "e0a1fb0b944548528e3645cf93559474": {
          "model_module": "@jupyter-widgets/controls",
          "model_name": "HTMLModel",
          "model_module_version": "1.5.0",
          "state": {
            "_dom_classes": [],
            "_model_module": "@jupyter-widgets/controls",
            "_model_module_version": "1.5.0",
            "_model_name": "HTMLModel",
            "_view_count": null,
            "_view_module": "@jupyter-widgets/controls",
            "_view_module_version": "1.5.0",
            "_view_name": "HTMLView",
            "description": "",
            "description_tooltip": null,
            "layout": "IPY_MODEL_efcf4017366e4a8f9f4dfb6dec8da8a2",
            "placeholder": "​",
            "style": "IPY_MODEL_97615507cd5142e4852865915c56fafe",
            "value": " 1.58k/1.58k [00:00&lt;00:00, 128kB/s]"
          }
        },
        "4cf93c85dd7d4604a75f2da0d0d3d2c7": {
          "model_module": "@jupyter-widgets/base",
          "model_name": "LayoutModel",
          "model_module_version": "1.2.0",
          "state": {
            "_model_module": "@jupyter-widgets/base",
            "_model_module_version": "1.2.0",
            "_model_name": "LayoutModel",
            "_view_count": null,
            "_view_module": "@jupyter-widgets/base",
            "_view_module_version": "1.2.0",
            "_view_name": "LayoutView",
            "align_content": null,
            "align_items": null,
            "align_self": null,
            "border": null,
            "bottom": null,
            "display": null,
            "flex": null,
            "flex_flow": null,
            "grid_area": null,
            "grid_auto_columns": null,
            "grid_auto_flow": null,
            "grid_auto_rows": null,
            "grid_column": null,
            "grid_gap": null,
            "grid_row": null,
            "grid_template_areas": null,
            "grid_template_columns": null,
            "grid_template_rows": null,
            "height": null,
            "justify_content": null,
            "justify_items": null,
            "left": null,
            "margin": null,
            "max_height": null,
            "max_width": null,
            "min_height": null,
            "min_width": null,
            "object_fit": null,
            "object_position": null,
            "order": null,
            "overflow": null,
            "overflow_x": null,
            "overflow_y": null,
            "padding": null,
            "right": null,
            "top": null,
            "visibility": null,
            "width": null
          }
        },
        "40de5b5f6a1642fa92271289d93bd93c": {
          "model_module": "@jupyter-widgets/base",
          "model_name": "LayoutModel",
          "model_module_version": "1.2.0",
          "state": {
            "_model_module": "@jupyter-widgets/base",
            "_model_module_version": "1.2.0",
            "_model_name": "LayoutModel",
            "_view_count": null,
            "_view_module": "@jupyter-widgets/base",
            "_view_module_version": "1.2.0",
            "_view_name": "LayoutView",
            "align_content": null,
            "align_items": null,
            "align_self": null,
            "border": null,
            "bottom": null,
            "display": null,
            "flex": null,
            "flex_flow": null,
            "grid_area": null,
            "grid_auto_columns": null,
            "grid_auto_flow": null,
            "grid_auto_rows": null,
            "grid_column": null,
            "grid_gap": null,
            "grid_row": null,
            "grid_template_areas": null,
            "grid_template_columns": null,
            "grid_template_rows": null,
            "height": null,
            "justify_content": null,
            "justify_items": null,
            "left": null,
            "margin": null,
            "max_height": null,
            "max_width": null,
            "min_height": null,
            "min_width": null,
            "object_fit": null,
            "object_position": null,
            "order": null,
            "overflow": null,
            "overflow_x": null,
            "overflow_y": null,
            "padding": null,
            "right": null,
            "top": null,
            "visibility": null,
            "width": null
          }
        },
        "69dc238524d74417901f0b2c72ed546c": {
          "model_module": "@jupyter-widgets/controls",
          "model_name": "DescriptionStyleModel",
          "model_module_version": "1.5.0",
          "state": {
            "_model_module": "@jupyter-widgets/controls",
            "_model_module_version": "1.5.0",
            "_model_name": "DescriptionStyleModel",
            "_view_count": null,
            "_view_module": "@jupyter-widgets/base",
            "_view_module_version": "1.2.0",
            "_view_name": "StyleView",
            "description_width": ""
          }
        },
        "51f657f65df748ed8797ffeffb4e6b11": {
          "model_module": "@jupyter-widgets/base",
          "model_name": "LayoutModel",
          "model_module_version": "1.2.0",
          "state": {
            "_model_module": "@jupyter-widgets/base",
            "_model_module_version": "1.2.0",
            "_model_name": "LayoutModel",
            "_view_count": null,
            "_view_module": "@jupyter-widgets/base",
            "_view_module_version": "1.2.0",
            "_view_name": "LayoutView",
            "align_content": null,
            "align_items": null,
            "align_self": null,
            "border": null,
            "bottom": null,
            "display": null,
            "flex": null,
            "flex_flow": null,
            "grid_area": null,
            "grid_auto_columns": null,
            "grid_auto_flow": null,
            "grid_auto_rows": null,
            "grid_column": null,
            "grid_gap": null,
            "grid_row": null,
            "grid_template_areas": null,
            "grid_template_columns": null,
            "grid_template_rows": null,
            "height": null,
            "justify_content": null,
            "justify_items": null,
            "left": null,
            "margin": null,
            "max_height": null,
            "max_width": null,
            "min_height": null,
            "min_width": null,
            "object_fit": null,
            "object_position": null,
            "order": null,
            "overflow": null,
            "overflow_x": null,
            "overflow_y": null,
            "padding": null,
            "right": null,
            "top": null,
            "visibility": null,
            "width": null
          }
        },
        "5238a8de822f4031ac465ab2db786292": {
          "model_module": "@jupyter-widgets/controls",
          "model_name": "ProgressStyleModel",
          "model_module_version": "1.5.0",
          "state": {
            "_model_module": "@jupyter-widgets/controls",
            "_model_module_version": "1.5.0",
            "_model_name": "ProgressStyleModel",
            "_view_count": null,
            "_view_module": "@jupyter-widgets/base",
            "_view_module_version": "1.2.0",
            "_view_name": "StyleView",
            "bar_color": null,
            "description_width": ""
          }
        },
        "efcf4017366e4a8f9f4dfb6dec8da8a2": {
          "model_module": "@jupyter-widgets/base",
          "model_name": "LayoutModel",
          "model_module_version": "1.2.0",
          "state": {
            "_model_module": "@jupyter-widgets/base",
            "_model_module_version": "1.2.0",
            "_model_name": "LayoutModel",
            "_view_count": null,
            "_view_module": "@jupyter-widgets/base",
            "_view_module_version": "1.2.0",
            "_view_name": "LayoutView",
            "align_content": null,
            "align_items": null,
            "align_self": null,
            "border": null,
            "bottom": null,
            "display": null,
            "flex": null,
            "flex_flow": null,
            "grid_area": null,
            "grid_auto_columns": null,
            "grid_auto_flow": null,
            "grid_auto_rows": null,
            "grid_column": null,
            "grid_gap": null,
            "grid_row": null,
            "grid_template_areas": null,
            "grid_template_columns": null,
            "grid_template_rows": null,
            "height": null,
            "justify_content": null,
            "justify_items": null,
            "left": null,
            "margin": null,
            "max_height": null,
            "max_width": null,
            "min_height": null,
            "min_width": null,
            "object_fit": null,
            "object_position": null,
            "order": null,
            "overflow": null,
            "overflow_x": null,
            "overflow_y": null,
            "padding": null,
            "right": null,
            "top": null,
            "visibility": null,
            "width": null
          }
        },
        "97615507cd5142e4852865915c56fafe": {
          "model_module": "@jupyter-widgets/controls",
          "model_name": "DescriptionStyleModel",
          "model_module_version": "1.5.0",
          "state": {
            "_model_module": "@jupyter-widgets/controls",
            "_model_module_version": "1.5.0",
            "_model_name": "DescriptionStyleModel",
            "_view_count": null,
            "_view_module": "@jupyter-widgets/base",
            "_view_module_version": "1.2.0",
            "_view_name": "StyleView",
            "description_width": ""
          }
        },
        "f45ffa3c728145e3b4be86f6b03f8fdc": {
          "model_module": "@jupyter-widgets/controls",
          "model_name": "HBoxModel",
          "model_module_version": "1.5.0",
          "state": {
            "_dom_classes": [],
            "_model_module": "@jupyter-widgets/controls",
            "_model_module_version": "1.5.0",
            "_model_name": "HBoxModel",
            "_view_count": null,
            "_view_module": "@jupyter-widgets/controls",
            "_view_module_version": "1.5.0",
            "_view_name": "HBoxView",
            "box_style": "",
            "children": [
              "IPY_MODEL_d57ab106b72c4690937e094ca587cd54",
              "IPY_MODEL_9d323a3914ac42c0b9b623a6630a1614",
              "IPY_MODEL_e23f0f3eceb849f888aedcd1c32dfc42"
            ],
            "layout": "IPY_MODEL_b86e58e39baf45d897b5773cf074bd92"
          }
        },
        "d57ab106b72c4690937e094ca587cd54": {
          "model_module": "@jupyter-widgets/controls",
          "model_name": "HTMLModel",
          "model_module_version": "1.5.0",
          "state": {
            "_dom_classes": [],
            "_model_module": "@jupyter-widgets/controls",
            "_model_module_version": "1.5.0",
            "_model_name": "HTMLModel",
            "_view_count": null,
            "_view_module": "@jupyter-widgets/controls",
            "_view_module_version": "1.5.0",
            "_view_name": "HTMLView",
            "description": "",
            "description_tooltip": null,
            "layout": "IPY_MODEL_316f192de54548cdb61fe838a2ddd45d",
            "placeholder": "​",
            "style": "IPY_MODEL_4678c5d98a0d4921a439c508bff02302",
            "value": "Downloading (…)olve/main/vocab.json: 100%"
          }
        },
        "9d323a3914ac42c0b9b623a6630a1614": {
          "model_module": "@jupyter-widgets/controls",
          "model_name": "FloatProgressModel",
          "model_module_version": "1.5.0",
          "state": {
            "_dom_classes": [],
            "_model_module": "@jupyter-widgets/controls",
            "_model_module_version": "1.5.0",
            "_model_name": "FloatProgressModel",
            "_view_count": null,
            "_view_module": "@jupyter-widgets/controls",
            "_view_module_version": "1.5.0",
            "_view_name": "ProgressView",
            "bar_style": "success",
            "description": "",
            "description_tooltip": null,
            "layout": "IPY_MODEL_18a4dbb7046943adb8eb28456556db8d",
            "max": 898823,
            "min": 0,
            "orientation": "horizontal",
            "style": "IPY_MODEL_c2ea53b9e93044bf876e2906322b45ac",
            "value": 898823
          }
        },
        "e23f0f3eceb849f888aedcd1c32dfc42": {
          "model_module": "@jupyter-widgets/controls",
          "model_name": "HTMLModel",
          "model_module_version": "1.5.0",
          "state": {
            "_dom_classes": [],
            "_model_module": "@jupyter-widgets/controls",
            "_model_module_version": "1.5.0",
            "_model_name": "HTMLModel",
            "_view_count": null,
            "_view_module": "@jupyter-widgets/controls",
            "_view_module_version": "1.5.0",
            "_view_name": "HTMLView",
            "description": "",
            "description_tooltip": null,
            "layout": "IPY_MODEL_c6fdc91923f14562ba37c3e911b74e5d",
            "placeholder": "​",
            "style": "IPY_MODEL_4c06502f8dba4d969eb48083644f7cd1",
            "value": " 899k/899k [00:00&lt;00:00, 4.20MB/s]"
          }
        },
        "b86e58e39baf45d897b5773cf074bd92": {
          "model_module": "@jupyter-widgets/base",
          "model_name": "LayoutModel",
          "model_module_version": "1.2.0",
          "state": {
            "_model_module": "@jupyter-widgets/base",
            "_model_module_version": "1.2.0",
            "_model_name": "LayoutModel",
            "_view_count": null,
            "_view_module": "@jupyter-widgets/base",
            "_view_module_version": "1.2.0",
            "_view_name": "LayoutView",
            "align_content": null,
            "align_items": null,
            "align_self": null,
            "border": null,
            "bottom": null,
            "display": null,
            "flex": null,
            "flex_flow": null,
            "grid_area": null,
            "grid_auto_columns": null,
            "grid_auto_flow": null,
            "grid_auto_rows": null,
            "grid_column": null,
            "grid_gap": null,
            "grid_row": null,
            "grid_template_areas": null,
            "grid_template_columns": null,
            "grid_template_rows": null,
            "height": null,
            "justify_content": null,
            "justify_items": null,
            "left": null,
            "margin": null,
            "max_height": null,
            "max_width": null,
            "min_height": null,
            "min_width": null,
            "object_fit": null,
            "object_position": null,
            "order": null,
            "overflow": null,
            "overflow_x": null,
            "overflow_y": null,
            "padding": null,
            "right": null,
            "top": null,
            "visibility": null,
            "width": null
          }
        },
        "316f192de54548cdb61fe838a2ddd45d": {
          "model_module": "@jupyter-widgets/base",
          "model_name": "LayoutModel",
          "model_module_version": "1.2.0",
          "state": {
            "_model_module": "@jupyter-widgets/base",
            "_model_module_version": "1.2.0",
            "_model_name": "LayoutModel",
            "_view_count": null,
            "_view_module": "@jupyter-widgets/base",
            "_view_module_version": "1.2.0",
            "_view_name": "LayoutView",
            "align_content": null,
            "align_items": null,
            "align_self": null,
            "border": null,
            "bottom": null,
            "display": null,
            "flex": null,
            "flex_flow": null,
            "grid_area": null,
            "grid_auto_columns": null,
            "grid_auto_flow": null,
            "grid_auto_rows": null,
            "grid_column": null,
            "grid_gap": null,
            "grid_row": null,
            "grid_template_areas": null,
            "grid_template_columns": null,
            "grid_template_rows": null,
            "height": null,
            "justify_content": null,
            "justify_items": null,
            "left": null,
            "margin": null,
            "max_height": null,
            "max_width": null,
            "min_height": null,
            "min_width": null,
            "object_fit": null,
            "object_position": null,
            "order": null,
            "overflow": null,
            "overflow_x": null,
            "overflow_y": null,
            "padding": null,
            "right": null,
            "top": null,
            "visibility": null,
            "width": null
          }
        },
        "4678c5d98a0d4921a439c508bff02302": {
          "model_module": "@jupyter-widgets/controls",
          "model_name": "DescriptionStyleModel",
          "model_module_version": "1.5.0",
          "state": {
            "_model_module": "@jupyter-widgets/controls",
            "_model_module_version": "1.5.0",
            "_model_name": "DescriptionStyleModel",
            "_view_count": null,
            "_view_module": "@jupyter-widgets/base",
            "_view_module_version": "1.2.0",
            "_view_name": "StyleView",
            "description_width": ""
          }
        },
        "18a4dbb7046943adb8eb28456556db8d": {
          "model_module": "@jupyter-widgets/base",
          "model_name": "LayoutModel",
          "model_module_version": "1.2.0",
          "state": {
            "_model_module": "@jupyter-widgets/base",
            "_model_module_version": "1.2.0",
            "_model_name": "LayoutModel",
            "_view_count": null,
            "_view_module": "@jupyter-widgets/base",
            "_view_module_version": "1.2.0",
            "_view_name": "LayoutView",
            "align_content": null,
            "align_items": null,
            "align_self": null,
            "border": null,
            "bottom": null,
            "display": null,
            "flex": null,
            "flex_flow": null,
            "grid_area": null,
            "grid_auto_columns": null,
            "grid_auto_flow": null,
            "grid_auto_rows": null,
            "grid_column": null,
            "grid_gap": null,
            "grid_row": null,
            "grid_template_areas": null,
            "grid_template_columns": null,
            "grid_template_rows": null,
            "height": null,
            "justify_content": null,
            "justify_items": null,
            "left": null,
            "margin": null,
            "max_height": null,
            "max_width": null,
            "min_height": null,
            "min_width": null,
            "object_fit": null,
            "object_position": null,
            "order": null,
            "overflow": null,
            "overflow_x": null,
            "overflow_y": null,
            "padding": null,
            "right": null,
            "top": null,
            "visibility": null,
            "width": null
          }
        },
        "c2ea53b9e93044bf876e2906322b45ac": {
          "model_module": "@jupyter-widgets/controls",
          "model_name": "ProgressStyleModel",
          "model_module_version": "1.5.0",
          "state": {
            "_model_module": "@jupyter-widgets/controls",
            "_model_module_version": "1.5.0",
            "_model_name": "ProgressStyleModel",
            "_view_count": null,
            "_view_module": "@jupyter-widgets/base",
            "_view_module_version": "1.2.0",
            "_view_name": "StyleView",
            "bar_color": null,
            "description_width": ""
          }
        },
        "c6fdc91923f14562ba37c3e911b74e5d": {
          "model_module": "@jupyter-widgets/base",
          "model_name": "LayoutModel",
          "model_module_version": "1.2.0",
          "state": {
            "_model_module": "@jupyter-widgets/base",
            "_model_module_version": "1.2.0",
            "_model_name": "LayoutModel",
            "_view_count": null,
            "_view_module": "@jupyter-widgets/base",
            "_view_module_version": "1.2.0",
            "_view_name": "LayoutView",
            "align_content": null,
            "align_items": null,
            "align_self": null,
            "border": null,
            "bottom": null,
            "display": null,
            "flex": null,
            "flex_flow": null,
            "grid_area": null,
            "grid_auto_columns": null,
            "grid_auto_flow": null,
            "grid_auto_rows": null,
            "grid_column": null,
            "grid_gap": null,
            "grid_row": null,
            "grid_template_areas": null,
            "grid_template_columns": null,
            "grid_template_rows": null,
            "height": null,
            "justify_content": null,
            "justify_items": null,
            "left": null,
            "margin": null,
            "max_height": null,
            "max_width": null,
            "min_height": null,
            "min_width": null,
            "object_fit": null,
            "object_position": null,
            "order": null,
            "overflow": null,
            "overflow_x": null,
            "overflow_y": null,
            "padding": null,
            "right": null,
            "top": null,
            "visibility": null,
            "width": null
          }
        },
        "4c06502f8dba4d969eb48083644f7cd1": {
          "model_module": "@jupyter-widgets/controls",
          "model_name": "DescriptionStyleModel",
          "model_module_version": "1.5.0",
          "state": {
            "_model_module": "@jupyter-widgets/controls",
            "_model_module_version": "1.5.0",
            "_model_name": "DescriptionStyleModel",
            "_view_count": null,
            "_view_module": "@jupyter-widgets/base",
            "_view_module_version": "1.2.0",
            "_view_name": "StyleView",
            "description_width": ""
          }
        },
        "fd854891bb0b4eeab89a069a8f740f39": {
          "model_module": "@jupyter-widgets/controls",
          "model_name": "HBoxModel",
          "model_module_version": "1.5.0",
          "state": {
            "_dom_classes": [],
            "_model_module": "@jupyter-widgets/controls",
            "_model_module_version": "1.5.0",
            "_model_name": "HBoxModel",
            "_view_count": null,
            "_view_module": "@jupyter-widgets/controls",
            "_view_module_version": "1.5.0",
            "_view_name": "HBoxView",
            "box_style": "",
            "children": [
              "IPY_MODEL_21f803989e004d97973d25bd479ddf33",
              "IPY_MODEL_2a0b26782a26456091ddf7bb9a8d39d3",
              "IPY_MODEL_bf25d48ad94346cfb25efed724aadbc2"
            ],
            "layout": "IPY_MODEL_708d9d09ce084c99bed288fa2a6b2dde"
          }
        },
        "21f803989e004d97973d25bd479ddf33": {
          "model_module": "@jupyter-widgets/controls",
          "model_name": "HTMLModel",
          "model_module_version": "1.5.0",
          "state": {
            "_dom_classes": [],
            "_model_module": "@jupyter-widgets/controls",
            "_model_module_version": "1.5.0",
            "_model_name": "HTMLModel",
            "_view_count": null,
            "_view_module": "@jupyter-widgets/controls",
            "_view_module_version": "1.5.0",
            "_view_name": "HTMLView",
            "description": "",
            "description_tooltip": null,
            "layout": "IPY_MODEL_e46ff2e218224febb36507e3ebb505a8",
            "placeholder": "​",
            "style": "IPY_MODEL_1490fc8b8def4a0a956d16d681b6cbda",
            "value": "Downloading (…)olve/main/merges.txt: 100%"
          }
        },
        "2a0b26782a26456091ddf7bb9a8d39d3": {
          "model_module": "@jupyter-widgets/controls",
          "model_name": "FloatProgressModel",
          "model_module_version": "1.5.0",
          "state": {
            "_dom_classes": [],
            "_model_module": "@jupyter-widgets/controls",
            "_model_module_version": "1.5.0",
            "_model_name": "FloatProgressModel",
            "_view_count": null,
            "_view_module": "@jupyter-widgets/controls",
            "_view_module_version": "1.5.0",
            "_view_name": "ProgressView",
            "bar_style": "success",
            "description": "",
            "description_tooltip": null,
            "layout": "IPY_MODEL_5fc160abba1e4422a8863d783e939331",
            "max": 456318,
            "min": 0,
            "orientation": "horizontal",
            "style": "IPY_MODEL_e9c2de9e21a64636947d8fe67d560c01",
            "value": 456318
          }
        },
        "bf25d48ad94346cfb25efed724aadbc2": {
          "model_module": "@jupyter-widgets/controls",
          "model_name": "HTMLModel",
          "model_module_version": "1.5.0",
          "state": {
            "_dom_classes": [],
            "_model_module": "@jupyter-widgets/controls",
            "_model_module_version": "1.5.0",
            "_model_name": "HTMLModel",
            "_view_count": null,
            "_view_module": "@jupyter-widgets/controls",
            "_view_module_version": "1.5.0",
            "_view_name": "HTMLView",
            "description": "",
            "description_tooltip": null,
            "layout": "IPY_MODEL_864c25400db14da3b6c7612a9e92659d",
            "placeholder": "​",
            "style": "IPY_MODEL_2355266fa1764d2398a735d0a458a619",
            "value": " 456k/456k [00:00&lt;00:00, 733kB/s]"
          }
        },
        "708d9d09ce084c99bed288fa2a6b2dde": {
          "model_module": "@jupyter-widgets/base",
          "model_name": "LayoutModel",
          "model_module_version": "1.2.0",
          "state": {
            "_model_module": "@jupyter-widgets/base",
            "_model_module_version": "1.2.0",
            "_model_name": "LayoutModel",
            "_view_count": null,
            "_view_module": "@jupyter-widgets/base",
            "_view_module_version": "1.2.0",
            "_view_name": "LayoutView",
            "align_content": null,
            "align_items": null,
            "align_self": null,
            "border": null,
            "bottom": null,
            "display": null,
            "flex": null,
            "flex_flow": null,
            "grid_area": null,
            "grid_auto_columns": null,
            "grid_auto_flow": null,
            "grid_auto_rows": null,
            "grid_column": null,
            "grid_gap": null,
            "grid_row": null,
            "grid_template_areas": null,
            "grid_template_columns": null,
            "grid_template_rows": null,
            "height": null,
            "justify_content": null,
            "justify_items": null,
            "left": null,
            "margin": null,
            "max_height": null,
            "max_width": null,
            "min_height": null,
            "min_width": null,
            "object_fit": null,
            "object_position": null,
            "order": null,
            "overflow": null,
            "overflow_x": null,
            "overflow_y": null,
            "padding": null,
            "right": null,
            "top": null,
            "visibility": null,
            "width": null
          }
        },
        "e46ff2e218224febb36507e3ebb505a8": {
          "model_module": "@jupyter-widgets/base",
          "model_name": "LayoutModel",
          "model_module_version": "1.2.0",
          "state": {
            "_model_module": "@jupyter-widgets/base",
            "_model_module_version": "1.2.0",
            "_model_name": "LayoutModel",
            "_view_count": null,
            "_view_module": "@jupyter-widgets/base",
            "_view_module_version": "1.2.0",
            "_view_name": "LayoutView",
            "align_content": null,
            "align_items": null,
            "align_self": null,
            "border": null,
            "bottom": null,
            "display": null,
            "flex": null,
            "flex_flow": null,
            "grid_area": null,
            "grid_auto_columns": null,
            "grid_auto_flow": null,
            "grid_auto_rows": null,
            "grid_column": null,
            "grid_gap": null,
            "grid_row": null,
            "grid_template_areas": null,
            "grid_template_columns": null,
            "grid_template_rows": null,
            "height": null,
            "justify_content": null,
            "justify_items": null,
            "left": null,
            "margin": null,
            "max_height": null,
            "max_width": null,
            "min_height": null,
            "min_width": null,
            "object_fit": null,
            "object_position": null,
            "order": null,
            "overflow": null,
            "overflow_x": null,
            "overflow_y": null,
            "padding": null,
            "right": null,
            "top": null,
            "visibility": null,
            "width": null
          }
        },
        "1490fc8b8def4a0a956d16d681b6cbda": {
          "model_module": "@jupyter-widgets/controls",
          "model_name": "DescriptionStyleModel",
          "model_module_version": "1.5.0",
          "state": {
            "_model_module": "@jupyter-widgets/controls",
            "_model_module_version": "1.5.0",
            "_model_name": "DescriptionStyleModel",
            "_view_count": null,
            "_view_module": "@jupyter-widgets/base",
            "_view_module_version": "1.2.0",
            "_view_name": "StyleView",
            "description_width": ""
          }
        },
        "5fc160abba1e4422a8863d783e939331": {
          "model_module": "@jupyter-widgets/base",
          "model_name": "LayoutModel",
          "model_module_version": "1.2.0",
          "state": {
            "_model_module": "@jupyter-widgets/base",
            "_model_module_version": "1.2.0",
            "_model_name": "LayoutModel",
            "_view_count": null,
            "_view_module": "@jupyter-widgets/base",
            "_view_module_version": "1.2.0",
            "_view_name": "LayoutView",
            "align_content": null,
            "align_items": null,
            "align_self": null,
            "border": null,
            "bottom": null,
            "display": null,
            "flex": null,
            "flex_flow": null,
            "grid_area": null,
            "grid_auto_columns": null,
            "grid_auto_flow": null,
            "grid_auto_rows": null,
            "grid_column": null,
            "grid_gap": null,
            "grid_row": null,
            "grid_template_areas": null,
            "grid_template_columns": null,
            "grid_template_rows": null,
            "height": null,
            "justify_content": null,
            "justify_items": null,
            "left": null,
            "margin": null,
            "max_height": null,
            "max_width": null,
            "min_height": null,
            "min_width": null,
            "object_fit": null,
            "object_position": null,
            "order": null,
            "overflow": null,
            "overflow_x": null,
            "overflow_y": null,
            "padding": null,
            "right": null,
            "top": null,
            "visibility": null,
            "width": null
          }
        },
        "e9c2de9e21a64636947d8fe67d560c01": {
          "model_module": "@jupyter-widgets/controls",
          "model_name": "ProgressStyleModel",
          "model_module_version": "1.5.0",
          "state": {
            "_model_module": "@jupyter-widgets/controls",
            "_model_module_version": "1.5.0",
            "_model_name": "ProgressStyleModel",
            "_view_count": null,
            "_view_module": "@jupyter-widgets/base",
            "_view_module_version": "1.2.0",
            "_view_name": "StyleView",
            "bar_color": null,
            "description_width": ""
          }
        },
        "864c25400db14da3b6c7612a9e92659d": {
          "model_module": "@jupyter-widgets/base",
          "model_name": "LayoutModel",
          "model_module_version": "1.2.0",
          "state": {
            "_model_module": "@jupyter-widgets/base",
            "_model_module_version": "1.2.0",
            "_model_name": "LayoutModel",
            "_view_count": null,
            "_view_module": "@jupyter-widgets/base",
            "_view_module_version": "1.2.0",
            "_view_name": "LayoutView",
            "align_content": null,
            "align_items": null,
            "align_self": null,
            "border": null,
            "bottom": null,
            "display": null,
            "flex": null,
            "flex_flow": null,
            "grid_area": null,
            "grid_auto_columns": null,
            "grid_auto_flow": null,
            "grid_auto_rows": null,
            "grid_column": null,
            "grid_gap": null,
            "grid_row": null,
            "grid_template_areas": null,
            "grid_template_columns": null,
            "grid_template_rows": null,
            "height": null,
            "justify_content": null,
            "justify_items": null,
            "left": null,
            "margin": null,
            "max_height": null,
            "max_width": null,
            "min_height": null,
            "min_width": null,
            "object_fit": null,
            "object_position": null,
            "order": null,
            "overflow": null,
            "overflow_x": null,
            "overflow_y": null,
            "padding": null,
            "right": null,
            "top": null,
            "visibility": null,
            "width": null
          }
        },
        "2355266fa1764d2398a735d0a458a619": {
          "model_module": "@jupyter-widgets/controls",
          "model_name": "DescriptionStyleModel",
          "model_module_version": "1.5.0",
          "state": {
            "_model_module": "@jupyter-widgets/controls",
            "_model_module_version": "1.5.0",
            "_model_name": "DescriptionStyleModel",
            "_view_count": null,
            "_view_module": "@jupyter-widgets/base",
            "_view_module_version": "1.2.0",
            "_view_name": "StyleView",
            "description_width": ""
          }
        },
        "17f2b4faa8ee451c9937d078a15bb868": {
          "model_module": "@jupyter-widgets/controls",
          "model_name": "HBoxModel",
          "model_module_version": "1.5.0",
          "state": {
            "_dom_classes": [],
            "_model_module": "@jupyter-widgets/controls",
            "_model_module_version": "1.5.0",
            "_model_name": "HBoxModel",
            "_view_count": null,
            "_view_module": "@jupyter-widgets/controls",
            "_view_module_version": "1.5.0",
            "_view_name": "HBoxView",
            "box_style": "",
            "children": [
              "IPY_MODEL_55dbf7503d0b431494374d07891a7fdb",
              "IPY_MODEL_71f7176e58274ffc91e281636ea4e41e",
              "IPY_MODEL_d3d5ecf4b23b422bb13765a987c9ee16"
            ],
            "layout": "IPY_MODEL_2201b1ff1ed7431cbc75bbf745a15b35"
          }
        },
        "55dbf7503d0b431494374d07891a7fdb": {
          "model_module": "@jupyter-widgets/controls",
          "model_name": "HTMLModel",
          "model_module_version": "1.5.0",
          "state": {
            "_dom_classes": [],
            "_model_module": "@jupyter-widgets/controls",
            "_model_module_version": "1.5.0",
            "_model_name": "HTMLModel",
            "_view_count": null,
            "_view_module": "@jupyter-widgets/controls",
            "_view_module_version": "1.5.0",
            "_view_name": "HTMLView",
            "description": "",
            "description_tooltip": null,
            "layout": "IPY_MODEL_81dca9e905df44b68a46c23c911cdac2",
            "placeholder": "​",
            "style": "IPY_MODEL_744ea50e687f40e2ad8b3b95010b21d8",
            "value": "Downloading (…)/main/tokenizer.json: 100%"
          }
        },
        "71f7176e58274ffc91e281636ea4e41e": {
          "model_module": "@jupyter-widgets/controls",
          "model_name": "FloatProgressModel",
          "model_module_version": "1.5.0",
          "state": {
            "_dom_classes": [],
            "_model_module": "@jupyter-widgets/controls",
            "_model_module_version": "1.5.0",
            "_model_name": "FloatProgressModel",
            "_view_count": null,
            "_view_module": "@jupyter-widgets/controls",
            "_view_module_version": "1.5.0",
            "_view_name": "ProgressView",
            "bar_style": "success",
            "description": "",
            "description_tooltip": null,
            "layout": "IPY_MODEL_d78b27ae350a4271bea370016c7acc6a",
            "max": 1355863,
            "min": 0,
            "orientation": "horizontal",
            "style": "IPY_MODEL_c27ddb9c9a254ce4bf6b5c19b8654430",
            "value": 1355863
          }
        },
        "d3d5ecf4b23b422bb13765a987c9ee16": {
          "model_module": "@jupyter-widgets/controls",
          "model_name": "HTMLModel",
          "model_module_version": "1.5.0",
          "state": {
            "_dom_classes": [],
            "_model_module": "@jupyter-widgets/controls",
            "_model_module_version": "1.5.0",
            "_model_name": "HTMLModel",
            "_view_count": null,
            "_view_module": "@jupyter-widgets/controls",
            "_view_module_version": "1.5.0",
            "_view_name": "HTMLView",
            "description": "",
            "description_tooltip": null,
            "layout": "IPY_MODEL_779d3fe42bf84a0caff59f3a8d143efa",
            "placeholder": "​",
            "style": "IPY_MODEL_f6a20fbff205403d8defafecd03bdfa5",
            "value": " 1.36M/1.36M [00:00&lt;00:00, 6.40MB/s]"
          }
        },
        "2201b1ff1ed7431cbc75bbf745a15b35": {
          "model_module": "@jupyter-widgets/base",
          "model_name": "LayoutModel",
          "model_module_version": "1.2.0",
          "state": {
            "_model_module": "@jupyter-widgets/base",
            "_model_module_version": "1.2.0",
            "_model_name": "LayoutModel",
            "_view_count": null,
            "_view_module": "@jupyter-widgets/base",
            "_view_module_version": "1.2.0",
            "_view_name": "LayoutView",
            "align_content": null,
            "align_items": null,
            "align_self": null,
            "border": null,
            "bottom": null,
            "display": null,
            "flex": null,
            "flex_flow": null,
            "grid_area": null,
            "grid_auto_columns": null,
            "grid_auto_flow": null,
            "grid_auto_rows": null,
            "grid_column": null,
            "grid_gap": null,
            "grid_row": null,
            "grid_template_areas": null,
            "grid_template_columns": null,
            "grid_template_rows": null,
            "height": null,
            "justify_content": null,
            "justify_items": null,
            "left": null,
            "margin": null,
            "max_height": null,
            "max_width": null,
            "min_height": null,
            "min_width": null,
            "object_fit": null,
            "object_position": null,
            "order": null,
            "overflow": null,
            "overflow_x": null,
            "overflow_y": null,
            "padding": null,
            "right": null,
            "top": null,
            "visibility": null,
            "width": null
          }
        },
        "81dca9e905df44b68a46c23c911cdac2": {
          "model_module": "@jupyter-widgets/base",
          "model_name": "LayoutModel",
          "model_module_version": "1.2.0",
          "state": {
            "_model_module": "@jupyter-widgets/base",
            "_model_module_version": "1.2.0",
            "_model_name": "LayoutModel",
            "_view_count": null,
            "_view_module": "@jupyter-widgets/base",
            "_view_module_version": "1.2.0",
            "_view_name": "LayoutView",
            "align_content": null,
            "align_items": null,
            "align_self": null,
            "border": null,
            "bottom": null,
            "display": null,
            "flex": null,
            "flex_flow": null,
            "grid_area": null,
            "grid_auto_columns": null,
            "grid_auto_flow": null,
            "grid_auto_rows": null,
            "grid_column": null,
            "grid_gap": null,
            "grid_row": null,
            "grid_template_areas": null,
            "grid_template_columns": null,
            "grid_template_rows": null,
            "height": null,
            "justify_content": null,
            "justify_items": null,
            "left": null,
            "margin": null,
            "max_height": null,
            "max_width": null,
            "min_height": null,
            "min_width": null,
            "object_fit": null,
            "object_position": null,
            "order": null,
            "overflow": null,
            "overflow_x": null,
            "overflow_y": null,
            "padding": null,
            "right": null,
            "top": null,
            "visibility": null,
            "width": null
          }
        },
        "744ea50e687f40e2ad8b3b95010b21d8": {
          "model_module": "@jupyter-widgets/controls",
          "model_name": "DescriptionStyleModel",
          "model_module_version": "1.5.0",
          "state": {
            "_model_module": "@jupyter-widgets/controls",
            "_model_module_version": "1.5.0",
            "_model_name": "DescriptionStyleModel",
            "_view_count": null,
            "_view_module": "@jupyter-widgets/base",
            "_view_module_version": "1.2.0",
            "_view_name": "StyleView",
            "description_width": ""
          }
        },
        "d78b27ae350a4271bea370016c7acc6a": {
          "model_module": "@jupyter-widgets/base",
          "model_name": "LayoutModel",
          "model_module_version": "1.2.0",
          "state": {
            "_model_module": "@jupyter-widgets/base",
            "_model_module_version": "1.2.0",
            "_model_name": "LayoutModel",
            "_view_count": null,
            "_view_module": "@jupyter-widgets/base",
            "_view_module_version": "1.2.0",
            "_view_name": "LayoutView",
            "align_content": null,
            "align_items": null,
            "align_self": null,
            "border": null,
            "bottom": null,
            "display": null,
            "flex": null,
            "flex_flow": null,
            "grid_area": null,
            "grid_auto_columns": null,
            "grid_auto_flow": null,
            "grid_auto_rows": null,
            "grid_column": null,
            "grid_gap": null,
            "grid_row": null,
            "grid_template_areas": null,
            "grid_template_columns": null,
            "grid_template_rows": null,
            "height": null,
            "justify_content": null,
            "justify_items": null,
            "left": null,
            "margin": null,
            "max_height": null,
            "max_width": null,
            "min_height": null,
            "min_width": null,
            "object_fit": null,
            "object_position": null,
            "order": null,
            "overflow": null,
            "overflow_x": null,
            "overflow_y": null,
            "padding": null,
            "right": null,
            "top": null,
            "visibility": null,
            "width": null
          }
        },
        "c27ddb9c9a254ce4bf6b5c19b8654430": {
          "model_module": "@jupyter-widgets/controls",
          "model_name": "ProgressStyleModel",
          "model_module_version": "1.5.0",
          "state": {
            "_model_module": "@jupyter-widgets/controls",
            "_model_module_version": "1.5.0",
            "_model_name": "ProgressStyleModel",
            "_view_count": null,
            "_view_module": "@jupyter-widgets/base",
            "_view_module_version": "1.2.0",
            "_view_name": "StyleView",
            "bar_color": null,
            "description_width": ""
          }
        },
        "779d3fe42bf84a0caff59f3a8d143efa": {
          "model_module": "@jupyter-widgets/base",
          "model_name": "LayoutModel",
          "model_module_version": "1.2.0",
          "state": {
            "_model_module": "@jupyter-widgets/base",
            "_model_module_version": "1.2.0",
            "_model_name": "LayoutModel",
            "_view_count": null,
            "_view_module": "@jupyter-widgets/base",
            "_view_module_version": "1.2.0",
            "_view_name": "LayoutView",
            "align_content": null,
            "align_items": null,
            "align_self": null,
            "border": null,
            "bottom": null,
            "display": null,
            "flex": null,
            "flex_flow": null,
            "grid_area": null,
            "grid_auto_columns": null,
            "grid_auto_flow": null,
            "grid_auto_rows": null,
            "grid_column": null,
            "grid_gap": null,
            "grid_row": null,
            "grid_template_areas": null,
            "grid_template_columns": null,
            "grid_template_rows": null,
            "height": null,
            "justify_content": null,
            "justify_items": null,
            "left": null,
            "margin": null,
            "max_height": null,
            "max_width": null,
            "min_height": null,
            "min_width": null,
            "object_fit": null,
            "object_position": null,
            "order": null,
            "overflow": null,
            "overflow_x": null,
            "overflow_y": null,
            "padding": null,
            "right": null,
            "top": null,
            "visibility": null,
            "width": null
          }
        },
        "f6a20fbff205403d8defafecd03bdfa5": {
          "model_module": "@jupyter-widgets/controls",
          "model_name": "DescriptionStyleModel",
          "model_module_version": "1.5.0",
          "state": {
            "_model_module": "@jupyter-widgets/controls",
            "_model_module_version": "1.5.0",
            "_model_name": "DescriptionStyleModel",
            "_view_count": null,
            "_view_module": "@jupyter-widgets/base",
            "_view_module_version": "1.2.0",
            "_view_name": "StyleView",
            "description_width": ""
          }
        },
        "0aa0e822d11c4faf8342515b09228e0d": {
          "model_module": "@jupyter-widgets/controls",
          "model_name": "HBoxModel",
          "model_module_version": "1.5.0",
          "state": {
            "_dom_classes": [],
            "_model_module": "@jupyter-widgets/controls",
            "_model_module_version": "1.5.0",
            "_model_name": "HBoxModel",
            "_view_count": null,
            "_view_module": "@jupyter-widgets/controls",
            "_view_module_version": "1.5.0",
            "_view_name": "HBoxView",
            "box_style": "",
            "children": [
              "IPY_MODEL_655eb9348003419bbfaf0c7e629d6723",
              "IPY_MODEL_8138124eabdd40d2a1d3f38fbe20a806",
              "IPY_MODEL_83d9839d8df4472087cef7d1e565fd63"
            ],
            "layout": "IPY_MODEL_bf95ce0e6ecf4864a0988023c0fb47db"
          }
        },
        "655eb9348003419bbfaf0c7e629d6723": {
          "model_module": "@jupyter-widgets/controls",
          "model_name": "HTMLModel",
          "model_module_version": "1.5.0",
          "state": {
            "_dom_classes": [],
            "_model_module": "@jupyter-widgets/controls",
            "_model_module_version": "1.5.0",
            "_model_name": "HTMLModel",
            "_view_count": null,
            "_view_module": "@jupyter-widgets/controls",
            "_view_module_version": "1.5.0",
            "_view_name": "HTMLView",
            "description": "",
            "description_tooltip": null,
            "layout": "IPY_MODEL_8608703b693a46b596c81c30d329b42a",
            "placeholder": "​",
            "style": "IPY_MODEL_a9c32626a7454c579844bc32f2c33560",
            "value": "Map: 100%"
          }
        },
        "8138124eabdd40d2a1d3f38fbe20a806": {
          "model_module": "@jupyter-widgets/controls",
          "model_name": "FloatProgressModel",
          "model_module_version": "1.5.0",
          "state": {
            "_dom_classes": [],
            "_model_module": "@jupyter-widgets/controls",
            "_model_module_version": "1.5.0",
            "_model_name": "FloatProgressModel",
            "_view_count": null,
            "_view_module": "@jupyter-widgets/controls",
            "_view_module_version": "1.5.0",
            "_view_name": "ProgressView",
            "bar_style": "",
            "description": "",
            "description_tooltip": null,
            "layout": "IPY_MODEL_fc3d705d39b4416ebeee83f87d7979b1",
            "max": 1274,
            "min": 0,
            "orientation": "horizontal",
            "style": "IPY_MODEL_a3e29ad2e8804b198efbdaa39c60b3d3",
            "value": 1274
          }
        },
        "83d9839d8df4472087cef7d1e565fd63": {
          "model_module": "@jupyter-widgets/controls",
          "model_name": "HTMLModel",
          "model_module_version": "1.5.0",
          "state": {
            "_dom_classes": [],
            "_model_module": "@jupyter-widgets/controls",
            "_model_module_version": "1.5.0",
            "_model_name": "HTMLModel",
            "_view_count": null,
            "_view_module": "@jupyter-widgets/controls",
            "_view_module_version": "1.5.0",
            "_view_name": "HTMLView",
            "description": "",
            "description_tooltip": null,
            "layout": "IPY_MODEL_c4f819ff7a5e40d8b08e3259efc57950",
            "placeholder": "​",
            "style": "IPY_MODEL_d25cc9ede67b468fa181674026811737",
            "value": " 1273/1274 [00:03&lt;00:00, 406.30 examples/s]"
          }
        },
        "bf95ce0e6ecf4864a0988023c0fb47db": {
          "model_module": "@jupyter-widgets/base",
          "model_name": "LayoutModel",
          "model_module_version": "1.2.0",
          "state": {
            "_model_module": "@jupyter-widgets/base",
            "_model_module_version": "1.2.0",
            "_model_name": "LayoutModel",
            "_view_count": null,
            "_view_module": "@jupyter-widgets/base",
            "_view_module_version": "1.2.0",
            "_view_name": "LayoutView",
            "align_content": null,
            "align_items": null,
            "align_self": null,
            "border": null,
            "bottom": null,
            "display": null,
            "flex": null,
            "flex_flow": null,
            "grid_area": null,
            "grid_auto_columns": null,
            "grid_auto_flow": null,
            "grid_auto_rows": null,
            "grid_column": null,
            "grid_gap": null,
            "grid_row": null,
            "grid_template_areas": null,
            "grid_template_columns": null,
            "grid_template_rows": null,
            "height": null,
            "justify_content": null,
            "justify_items": null,
            "left": null,
            "margin": null,
            "max_height": null,
            "max_width": null,
            "min_height": null,
            "min_width": null,
            "object_fit": null,
            "object_position": null,
            "order": null,
            "overflow": null,
            "overflow_x": null,
            "overflow_y": null,
            "padding": null,
            "right": null,
            "top": null,
            "visibility": "hidden",
            "width": null
          }
        },
        "8608703b693a46b596c81c30d329b42a": {
          "model_module": "@jupyter-widgets/base",
          "model_name": "LayoutModel",
          "model_module_version": "1.2.0",
          "state": {
            "_model_module": "@jupyter-widgets/base",
            "_model_module_version": "1.2.0",
            "_model_name": "LayoutModel",
            "_view_count": null,
            "_view_module": "@jupyter-widgets/base",
            "_view_module_version": "1.2.0",
            "_view_name": "LayoutView",
            "align_content": null,
            "align_items": null,
            "align_self": null,
            "border": null,
            "bottom": null,
            "display": null,
            "flex": null,
            "flex_flow": null,
            "grid_area": null,
            "grid_auto_columns": null,
            "grid_auto_flow": null,
            "grid_auto_rows": null,
            "grid_column": null,
            "grid_gap": null,
            "grid_row": null,
            "grid_template_areas": null,
            "grid_template_columns": null,
            "grid_template_rows": null,
            "height": null,
            "justify_content": null,
            "justify_items": null,
            "left": null,
            "margin": null,
            "max_height": null,
            "max_width": null,
            "min_height": null,
            "min_width": null,
            "object_fit": null,
            "object_position": null,
            "order": null,
            "overflow": null,
            "overflow_x": null,
            "overflow_y": null,
            "padding": null,
            "right": null,
            "top": null,
            "visibility": null,
            "width": null
          }
        },
        "a9c32626a7454c579844bc32f2c33560": {
          "model_module": "@jupyter-widgets/controls",
          "model_name": "DescriptionStyleModel",
          "model_module_version": "1.5.0",
          "state": {
            "_model_module": "@jupyter-widgets/controls",
            "_model_module_version": "1.5.0",
            "_model_name": "DescriptionStyleModel",
            "_view_count": null,
            "_view_module": "@jupyter-widgets/base",
            "_view_module_version": "1.2.0",
            "_view_name": "StyleView",
            "description_width": ""
          }
        },
        "fc3d705d39b4416ebeee83f87d7979b1": {
          "model_module": "@jupyter-widgets/base",
          "model_name": "LayoutModel",
          "model_module_version": "1.2.0",
          "state": {
            "_model_module": "@jupyter-widgets/base",
            "_model_module_version": "1.2.0",
            "_model_name": "LayoutModel",
            "_view_count": null,
            "_view_module": "@jupyter-widgets/base",
            "_view_module_version": "1.2.0",
            "_view_name": "LayoutView",
            "align_content": null,
            "align_items": null,
            "align_self": null,
            "border": null,
            "bottom": null,
            "display": null,
            "flex": null,
            "flex_flow": null,
            "grid_area": null,
            "grid_auto_columns": null,
            "grid_auto_flow": null,
            "grid_auto_rows": null,
            "grid_column": null,
            "grid_gap": null,
            "grid_row": null,
            "grid_template_areas": null,
            "grid_template_columns": null,
            "grid_template_rows": null,
            "height": null,
            "justify_content": null,
            "justify_items": null,
            "left": null,
            "margin": null,
            "max_height": null,
            "max_width": null,
            "min_height": null,
            "min_width": null,
            "object_fit": null,
            "object_position": null,
            "order": null,
            "overflow": null,
            "overflow_x": null,
            "overflow_y": null,
            "padding": null,
            "right": null,
            "top": null,
            "visibility": null,
            "width": null
          }
        },
        "a3e29ad2e8804b198efbdaa39c60b3d3": {
          "model_module": "@jupyter-widgets/controls",
          "model_name": "ProgressStyleModel",
          "model_module_version": "1.5.0",
          "state": {
            "_model_module": "@jupyter-widgets/controls",
            "_model_module_version": "1.5.0",
            "_model_name": "ProgressStyleModel",
            "_view_count": null,
            "_view_module": "@jupyter-widgets/base",
            "_view_module_version": "1.2.0",
            "_view_name": "StyleView",
            "bar_color": null,
            "description_width": ""
          }
        },
        "c4f819ff7a5e40d8b08e3259efc57950": {
          "model_module": "@jupyter-widgets/base",
          "model_name": "LayoutModel",
          "model_module_version": "1.2.0",
          "state": {
            "_model_module": "@jupyter-widgets/base",
            "_model_module_version": "1.2.0",
            "_model_name": "LayoutModel",
            "_view_count": null,
            "_view_module": "@jupyter-widgets/base",
            "_view_module_version": "1.2.0",
            "_view_name": "LayoutView",
            "align_content": null,
            "align_items": null,
            "align_self": null,
            "border": null,
            "bottom": null,
            "display": null,
            "flex": null,
            "flex_flow": null,
            "grid_area": null,
            "grid_auto_columns": null,
            "grid_auto_flow": null,
            "grid_auto_rows": null,
            "grid_column": null,
            "grid_gap": null,
            "grid_row": null,
            "grid_template_areas": null,
            "grid_template_columns": null,
            "grid_template_rows": null,
            "height": null,
            "justify_content": null,
            "justify_items": null,
            "left": null,
            "margin": null,
            "max_height": null,
            "max_width": null,
            "min_height": null,
            "min_width": null,
            "object_fit": null,
            "object_position": null,
            "order": null,
            "overflow": null,
            "overflow_x": null,
            "overflow_y": null,
            "padding": null,
            "right": null,
            "top": null,
            "visibility": null,
            "width": null
          }
        },
        "d25cc9ede67b468fa181674026811737": {
          "model_module": "@jupyter-widgets/controls",
          "model_name": "DescriptionStyleModel",
          "model_module_version": "1.5.0",
          "state": {
            "_model_module": "@jupyter-widgets/controls",
            "_model_module_version": "1.5.0",
            "_model_name": "DescriptionStyleModel",
            "_view_count": null,
            "_view_module": "@jupyter-widgets/base",
            "_view_module_version": "1.2.0",
            "_view_name": "StyleView",
            "description_width": ""
          }
        },
        "b7c0e211e02b4a8dab9545b12f4e230b": {
          "model_module": "@jupyter-widgets/controls",
          "model_name": "HBoxModel",
          "model_module_version": "1.5.0",
          "state": {
            "_dom_classes": [],
            "_model_module": "@jupyter-widgets/controls",
            "_model_module_version": "1.5.0",
            "_model_name": "HBoxModel",
            "_view_count": null,
            "_view_module": "@jupyter-widgets/controls",
            "_view_module_version": "1.5.0",
            "_view_name": "HBoxView",
            "box_style": "",
            "children": [
              "IPY_MODEL_9ad4e4ad11c44fb3a2b0b8c5e899bea2",
              "IPY_MODEL_d762534d5ec64b9b9cd0961176d2ae7d",
              "IPY_MODEL_7171b95099af4282b126872a5af37905"
            ],
            "layout": "IPY_MODEL_e0a33fc0c73f47d98873ddc06b24f4cc"
          }
        },
        "9ad4e4ad11c44fb3a2b0b8c5e899bea2": {
          "model_module": "@jupyter-widgets/controls",
          "model_name": "HTMLModel",
          "model_module_version": "1.5.0",
          "state": {
            "_dom_classes": [],
            "_model_module": "@jupyter-widgets/controls",
            "_model_module_version": "1.5.0",
            "_model_name": "HTMLModel",
            "_view_count": null,
            "_view_module": "@jupyter-widgets/controls",
            "_view_module_version": "1.5.0",
            "_view_name": "HTMLView",
            "description": "",
            "description_tooltip": null,
            "layout": "IPY_MODEL_bb490652bfdc46f9ad8e7d7d45f16f88",
            "placeholder": "​",
            "style": "IPY_MODEL_974eabbbc8ec4528b5316e41355040ac",
            "value": "Map:  98%"
          }
        },
        "d762534d5ec64b9b9cd0961176d2ae7d": {
          "model_module": "@jupyter-widgets/controls",
          "model_name": "FloatProgressModel",
          "model_module_version": "1.5.0",
          "state": {
            "_dom_classes": [],
            "_model_module": "@jupyter-widgets/controls",
            "_model_module_version": "1.5.0",
            "_model_name": "FloatProgressModel",
            "_view_count": null,
            "_view_module": "@jupyter-widgets/controls",
            "_view_module_version": "1.5.0",
            "_view_name": "ProgressView",
            "bar_style": "",
            "description": "",
            "description_tooltip": null,
            "layout": "IPY_MODEL_e52d770c77e442ad9412ceca69faaa03",
            "max": 322,
            "min": 0,
            "orientation": "horizontal",
            "style": "IPY_MODEL_a055465b7eaf43609987015218cba7ac",
            "value": 322
          }
        },
        "7171b95099af4282b126872a5af37905": {
          "model_module": "@jupyter-widgets/controls",
          "model_name": "HTMLModel",
          "model_module_version": "1.5.0",
          "state": {
            "_dom_classes": [],
            "_model_module": "@jupyter-widgets/controls",
            "_model_module_version": "1.5.0",
            "_model_name": "HTMLModel",
            "_view_count": null,
            "_view_module": "@jupyter-widgets/controls",
            "_view_module_version": "1.5.0",
            "_view_name": "HTMLView",
            "description": "",
            "description_tooltip": null,
            "layout": "IPY_MODEL_15d0a2d4077145c3a1fe5cf70a211ae6",
            "placeholder": "​",
            "style": "IPY_MODEL_9d41b646baaa4e20afed4065055f61e5",
            "value": " 314/322 [00:00&lt;00:00, 394.82 examples/s]"
          }
        },
        "e0a33fc0c73f47d98873ddc06b24f4cc": {
          "model_module": "@jupyter-widgets/base",
          "model_name": "LayoutModel",
          "model_module_version": "1.2.0",
          "state": {
            "_model_module": "@jupyter-widgets/base",
            "_model_module_version": "1.2.0",
            "_model_name": "LayoutModel",
            "_view_count": null,
            "_view_module": "@jupyter-widgets/base",
            "_view_module_version": "1.2.0",
            "_view_name": "LayoutView",
            "align_content": null,
            "align_items": null,
            "align_self": null,
            "border": null,
            "bottom": null,
            "display": null,
            "flex": null,
            "flex_flow": null,
            "grid_area": null,
            "grid_auto_columns": null,
            "grid_auto_flow": null,
            "grid_auto_rows": null,
            "grid_column": null,
            "grid_gap": null,
            "grid_row": null,
            "grid_template_areas": null,
            "grid_template_columns": null,
            "grid_template_rows": null,
            "height": null,
            "justify_content": null,
            "justify_items": null,
            "left": null,
            "margin": null,
            "max_height": null,
            "max_width": null,
            "min_height": null,
            "min_width": null,
            "object_fit": null,
            "object_position": null,
            "order": null,
            "overflow": null,
            "overflow_x": null,
            "overflow_y": null,
            "padding": null,
            "right": null,
            "top": null,
            "visibility": "hidden",
            "width": null
          }
        },
        "bb490652bfdc46f9ad8e7d7d45f16f88": {
          "model_module": "@jupyter-widgets/base",
          "model_name": "LayoutModel",
          "model_module_version": "1.2.0",
          "state": {
            "_model_module": "@jupyter-widgets/base",
            "_model_module_version": "1.2.0",
            "_model_name": "LayoutModel",
            "_view_count": null,
            "_view_module": "@jupyter-widgets/base",
            "_view_module_version": "1.2.0",
            "_view_name": "LayoutView",
            "align_content": null,
            "align_items": null,
            "align_self": null,
            "border": null,
            "bottom": null,
            "display": null,
            "flex": null,
            "flex_flow": null,
            "grid_area": null,
            "grid_auto_columns": null,
            "grid_auto_flow": null,
            "grid_auto_rows": null,
            "grid_column": null,
            "grid_gap": null,
            "grid_row": null,
            "grid_template_areas": null,
            "grid_template_columns": null,
            "grid_template_rows": null,
            "height": null,
            "justify_content": null,
            "justify_items": null,
            "left": null,
            "margin": null,
            "max_height": null,
            "max_width": null,
            "min_height": null,
            "min_width": null,
            "object_fit": null,
            "object_position": null,
            "order": null,
            "overflow": null,
            "overflow_x": null,
            "overflow_y": null,
            "padding": null,
            "right": null,
            "top": null,
            "visibility": null,
            "width": null
          }
        },
        "974eabbbc8ec4528b5316e41355040ac": {
          "model_module": "@jupyter-widgets/controls",
          "model_name": "DescriptionStyleModel",
          "model_module_version": "1.5.0",
          "state": {
            "_model_module": "@jupyter-widgets/controls",
            "_model_module_version": "1.5.0",
            "_model_name": "DescriptionStyleModel",
            "_view_count": null,
            "_view_module": "@jupyter-widgets/base",
            "_view_module_version": "1.2.0",
            "_view_name": "StyleView",
            "description_width": ""
          }
        },
        "e52d770c77e442ad9412ceca69faaa03": {
          "model_module": "@jupyter-widgets/base",
          "model_name": "LayoutModel",
          "model_module_version": "1.2.0",
          "state": {
            "_model_module": "@jupyter-widgets/base",
            "_model_module_version": "1.2.0",
            "_model_name": "LayoutModel",
            "_view_count": null,
            "_view_module": "@jupyter-widgets/base",
            "_view_module_version": "1.2.0",
            "_view_name": "LayoutView",
            "align_content": null,
            "align_items": null,
            "align_self": null,
            "border": null,
            "bottom": null,
            "display": null,
            "flex": null,
            "flex_flow": null,
            "grid_area": null,
            "grid_auto_columns": null,
            "grid_auto_flow": null,
            "grid_auto_rows": null,
            "grid_column": null,
            "grid_gap": null,
            "grid_row": null,
            "grid_template_areas": null,
            "grid_template_columns": null,
            "grid_template_rows": null,
            "height": null,
            "justify_content": null,
            "justify_items": null,
            "left": null,
            "margin": null,
            "max_height": null,
            "max_width": null,
            "min_height": null,
            "min_width": null,
            "object_fit": null,
            "object_position": null,
            "order": null,
            "overflow": null,
            "overflow_x": null,
            "overflow_y": null,
            "padding": null,
            "right": null,
            "top": null,
            "visibility": null,
            "width": null
          }
        },
        "a055465b7eaf43609987015218cba7ac": {
          "model_module": "@jupyter-widgets/controls",
          "model_name": "ProgressStyleModel",
          "model_module_version": "1.5.0",
          "state": {
            "_model_module": "@jupyter-widgets/controls",
            "_model_module_version": "1.5.0",
            "_model_name": "ProgressStyleModel",
            "_view_count": null,
            "_view_module": "@jupyter-widgets/base",
            "_view_module_version": "1.2.0",
            "_view_name": "StyleView",
            "bar_color": null,
            "description_width": ""
          }
        },
        "15d0a2d4077145c3a1fe5cf70a211ae6": {
          "model_module": "@jupyter-widgets/base",
          "model_name": "LayoutModel",
          "model_module_version": "1.2.0",
          "state": {
            "_model_module": "@jupyter-widgets/base",
            "_model_module_version": "1.2.0",
            "_model_name": "LayoutModel",
            "_view_count": null,
            "_view_module": "@jupyter-widgets/base",
            "_view_module_version": "1.2.0",
            "_view_name": "LayoutView",
            "align_content": null,
            "align_items": null,
            "align_self": null,
            "border": null,
            "bottom": null,
            "display": null,
            "flex": null,
            "flex_flow": null,
            "grid_area": null,
            "grid_auto_columns": null,
            "grid_auto_flow": null,
            "grid_auto_rows": null,
            "grid_column": null,
            "grid_gap": null,
            "grid_row": null,
            "grid_template_areas": null,
            "grid_template_columns": null,
            "grid_template_rows": null,
            "height": null,
            "justify_content": null,
            "justify_items": null,
            "left": null,
            "margin": null,
            "max_height": null,
            "max_width": null,
            "min_height": null,
            "min_width": null,
            "object_fit": null,
            "object_position": null,
            "order": null,
            "overflow": null,
            "overflow_x": null,
            "overflow_y": null,
            "padding": null,
            "right": null,
            "top": null,
            "visibility": null,
            "width": null
          }
        },
        "9d41b646baaa4e20afed4065055f61e5": {
          "model_module": "@jupyter-widgets/controls",
          "model_name": "DescriptionStyleModel",
          "model_module_version": "1.5.0",
          "state": {
            "_model_module": "@jupyter-widgets/controls",
            "_model_module_version": "1.5.0",
            "_model_name": "DescriptionStyleModel",
            "_view_count": null,
            "_view_module": "@jupyter-widgets/base",
            "_view_module_version": "1.2.0",
            "_view_name": "StyleView",
            "description_width": ""
          }
        },
        "3d86ccb51cc741359515ad783f74b428": {
          "model_module": "@jupyter-widgets/controls",
          "model_name": "HBoxModel",
          "model_module_version": "1.5.0",
          "state": {
            "_dom_classes": [],
            "_model_module": "@jupyter-widgets/controls",
            "_model_module_version": "1.5.0",
            "_model_name": "HBoxModel",
            "_view_count": null,
            "_view_module": "@jupyter-widgets/controls",
            "_view_module_version": "1.5.0",
            "_view_name": "HBoxView",
            "box_style": "",
            "children": [
              "IPY_MODEL_3a750867c05c43fbb5c9f628f3a06eb9",
              "IPY_MODEL_a3024cd8483545f4bf9598c1675ed7aa",
              "IPY_MODEL_f0d5233bdb4e4701a4a13b88e37e6ba8"
            ],
            "layout": "IPY_MODEL_a4e0e756fca2444a8c9e61caa6206828"
          }
        },
        "3a750867c05c43fbb5c9f628f3a06eb9": {
          "model_module": "@jupyter-widgets/controls",
          "model_name": "HTMLModel",
          "model_module_version": "1.5.0",
          "state": {
            "_dom_classes": [],
            "_model_module": "@jupyter-widgets/controls",
            "_model_module_version": "1.5.0",
            "_model_name": "HTMLModel",
            "_view_count": null,
            "_view_module": "@jupyter-widgets/controls",
            "_view_module_version": "1.5.0",
            "_view_name": "HTMLView",
            "description": "",
            "description_tooltip": null,
            "layout": "IPY_MODEL_e19b31c6ac674d88b9250c321b7a1083",
            "placeholder": "​",
            "style": "IPY_MODEL_f95a3b5a5f8542da95fd9d9b00a96ab1",
            "value": "Downloading pytorch_model.bin: 100%"
          }
        },
        "a3024cd8483545f4bf9598c1675ed7aa": {
          "model_module": "@jupyter-widgets/controls",
          "model_name": "FloatProgressModel",
          "model_module_version": "1.5.0",
          "state": {
            "_dom_classes": [],
            "_model_module": "@jupyter-widgets/controls",
            "_model_module_version": "1.5.0",
            "_model_name": "FloatProgressModel",
            "_view_count": null,
            "_view_module": "@jupyter-widgets/controls",
            "_view_module_version": "1.5.0",
            "_view_name": "ProgressView",
            "bar_style": "success",
            "description": "",
            "description_tooltip": null,
            "layout": "IPY_MODEL_3c21bc1daeb8467b880aff72f8ff83fa",
            "max": 1625270765,
            "min": 0,
            "orientation": "horizontal",
            "style": "IPY_MODEL_0d5acb71ce0441628ab8ec49fa556125",
            "value": 1625270765
          }
        },
        "f0d5233bdb4e4701a4a13b88e37e6ba8": {
          "model_module": "@jupyter-widgets/controls",
          "model_name": "HTMLModel",
          "model_module_version": "1.5.0",
          "state": {
            "_dom_classes": [],
            "_model_module": "@jupyter-widgets/controls",
            "_model_module_version": "1.5.0",
            "_model_name": "HTMLModel",
            "_view_count": null,
            "_view_module": "@jupyter-widgets/controls",
            "_view_module_version": "1.5.0",
            "_view_name": "HTMLView",
            "description": "",
            "description_tooltip": null,
            "layout": "IPY_MODEL_a39fa39002004196b4962badaeb28ab1",
            "placeholder": "​",
            "style": "IPY_MODEL_a4c8a2320f13479e8078e83289d3474c",
            "value": " 1.63G/1.63G [00:03&lt;00:00, 244MB/s]"
          }
        },
        "a4e0e756fca2444a8c9e61caa6206828": {
          "model_module": "@jupyter-widgets/base",
          "model_name": "LayoutModel",
          "model_module_version": "1.2.0",
          "state": {
            "_model_module": "@jupyter-widgets/base",
            "_model_module_version": "1.2.0",
            "_model_name": "LayoutModel",
            "_view_count": null,
            "_view_module": "@jupyter-widgets/base",
            "_view_module_version": "1.2.0",
            "_view_name": "LayoutView",
            "align_content": null,
            "align_items": null,
            "align_self": null,
            "border": null,
            "bottom": null,
            "display": null,
            "flex": null,
            "flex_flow": null,
            "grid_area": null,
            "grid_auto_columns": null,
            "grid_auto_flow": null,
            "grid_auto_rows": null,
            "grid_column": null,
            "grid_gap": null,
            "grid_row": null,
            "grid_template_areas": null,
            "grid_template_columns": null,
            "grid_template_rows": null,
            "height": null,
            "justify_content": null,
            "justify_items": null,
            "left": null,
            "margin": null,
            "max_height": null,
            "max_width": null,
            "min_height": null,
            "min_width": null,
            "object_fit": null,
            "object_position": null,
            "order": null,
            "overflow": null,
            "overflow_x": null,
            "overflow_y": null,
            "padding": null,
            "right": null,
            "top": null,
            "visibility": null,
            "width": null
          }
        },
        "e19b31c6ac674d88b9250c321b7a1083": {
          "model_module": "@jupyter-widgets/base",
          "model_name": "LayoutModel",
          "model_module_version": "1.2.0",
          "state": {
            "_model_module": "@jupyter-widgets/base",
            "_model_module_version": "1.2.0",
            "_model_name": "LayoutModel",
            "_view_count": null,
            "_view_module": "@jupyter-widgets/base",
            "_view_module_version": "1.2.0",
            "_view_name": "LayoutView",
            "align_content": null,
            "align_items": null,
            "align_self": null,
            "border": null,
            "bottom": null,
            "display": null,
            "flex": null,
            "flex_flow": null,
            "grid_area": null,
            "grid_auto_columns": null,
            "grid_auto_flow": null,
            "grid_auto_rows": null,
            "grid_column": null,
            "grid_gap": null,
            "grid_row": null,
            "grid_template_areas": null,
            "grid_template_columns": null,
            "grid_template_rows": null,
            "height": null,
            "justify_content": null,
            "justify_items": null,
            "left": null,
            "margin": null,
            "max_height": null,
            "max_width": null,
            "min_height": null,
            "min_width": null,
            "object_fit": null,
            "object_position": null,
            "order": null,
            "overflow": null,
            "overflow_x": null,
            "overflow_y": null,
            "padding": null,
            "right": null,
            "top": null,
            "visibility": null,
            "width": null
          }
        },
        "f95a3b5a5f8542da95fd9d9b00a96ab1": {
          "model_module": "@jupyter-widgets/controls",
          "model_name": "DescriptionStyleModel",
          "model_module_version": "1.5.0",
          "state": {
            "_model_module": "@jupyter-widgets/controls",
            "_model_module_version": "1.5.0",
            "_model_name": "DescriptionStyleModel",
            "_view_count": null,
            "_view_module": "@jupyter-widgets/base",
            "_view_module_version": "1.2.0",
            "_view_name": "StyleView",
            "description_width": ""
          }
        },
        "3c21bc1daeb8467b880aff72f8ff83fa": {
          "model_module": "@jupyter-widgets/base",
          "model_name": "LayoutModel",
          "model_module_version": "1.2.0",
          "state": {
            "_model_module": "@jupyter-widgets/base",
            "_model_module_version": "1.2.0",
            "_model_name": "LayoutModel",
            "_view_count": null,
            "_view_module": "@jupyter-widgets/base",
            "_view_module_version": "1.2.0",
            "_view_name": "LayoutView",
            "align_content": null,
            "align_items": null,
            "align_self": null,
            "border": null,
            "bottom": null,
            "display": null,
            "flex": null,
            "flex_flow": null,
            "grid_area": null,
            "grid_auto_columns": null,
            "grid_auto_flow": null,
            "grid_auto_rows": null,
            "grid_column": null,
            "grid_gap": null,
            "grid_row": null,
            "grid_template_areas": null,
            "grid_template_columns": null,
            "grid_template_rows": null,
            "height": null,
            "justify_content": null,
            "justify_items": null,
            "left": null,
            "margin": null,
            "max_height": null,
            "max_width": null,
            "min_height": null,
            "min_width": null,
            "object_fit": null,
            "object_position": null,
            "order": null,
            "overflow": null,
            "overflow_x": null,
            "overflow_y": null,
            "padding": null,
            "right": null,
            "top": null,
            "visibility": null,
            "width": null
          }
        },
        "0d5acb71ce0441628ab8ec49fa556125": {
          "model_module": "@jupyter-widgets/controls",
          "model_name": "ProgressStyleModel",
          "model_module_version": "1.5.0",
          "state": {
            "_model_module": "@jupyter-widgets/controls",
            "_model_module_version": "1.5.0",
            "_model_name": "ProgressStyleModel",
            "_view_count": null,
            "_view_module": "@jupyter-widgets/base",
            "_view_module_version": "1.2.0",
            "_view_name": "StyleView",
            "bar_color": null,
            "description_width": ""
          }
        },
        "a39fa39002004196b4962badaeb28ab1": {
          "model_module": "@jupyter-widgets/base",
          "model_name": "LayoutModel",
          "model_module_version": "1.2.0",
          "state": {
            "_model_module": "@jupyter-widgets/base",
            "_model_module_version": "1.2.0",
            "_model_name": "LayoutModel",
            "_view_count": null,
            "_view_module": "@jupyter-widgets/base",
            "_view_module_version": "1.2.0",
            "_view_name": "LayoutView",
            "align_content": null,
            "align_items": null,
            "align_self": null,
            "border": null,
            "bottom": null,
            "display": null,
            "flex": null,
            "flex_flow": null,
            "grid_area": null,
            "grid_auto_columns": null,
            "grid_auto_flow": null,
            "grid_auto_rows": null,
            "grid_column": null,
            "grid_gap": null,
            "grid_row": null,
            "grid_template_areas": null,
            "grid_template_columns": null,
            "grid_template_rows": null,
            "height": null,
            "justify_content": null,
            "justify_items": null,
            "left": null,
            "margin": null,
            "max_height": null,
            "max_width": null,
            "min_height": null,
            "min_width": null,
            "object_fit": null,
            "object_position": null,
            "order": null,
            "overflow": null,
            "overflow_x": null,
            "overflow_y": null,
            "padding": null,
            "right": null,
            "top": null,
            "visibility": null,
            "width": null
          }
        },
        "a4c8a2320f13479e8078e83289d3474c": {
          "model_module": "@jupyter-widgets/controls",
          "model_name": "DescriptionStyleModel",
          "model_module_version": "1.5.0",
          "state": {
            "_model_module": "@jupyter-widgets/controls",
            "_model_module_version": "1.5.0",
            "_model_name": "DescriptionStyleModel",
            "_view_count": null,
            "_view_module": "@jupyter-widgets/base",
            "_view_module_version": "1.2.0",
            "_view_name": "StyleView",
            "description_width": ""
          }
        },
        "e8293b80bfce434ea14abf34b6236dbb": {
          "model_module": "@jupyter-widgets/controls",
          "model_name": "HBoxModel",
          "model_module_version": "1.5.0",
          "state": {
            "_dom_classes": [],
            "_model_module": "@jupyter-widgets/controls",
            "_model_module_version": "1.5.0",
            "_model_name": "HBoxModel",
            "_view_count": null,
            "_view_module": "@jupyter-widgets/controls",
            "_view_module_version": "1.5.0",
            "_view_name": "HBoxView",
            "box_style": "",
            "children": [
              "IPY_MODEL_1f62b427134542129f76be494c6e726e",
              "IPY_MODEL_b2ad347a350e478dba89c65a16e5e62a",
              "IPY_MODEL_98e1005bcb9c43d99f0ea3871c593c3a"
            ],
            "layout": "IPY_MODEL_90d35caae666440da86465fc2100ae2e"
          }
        },
        "1f62b427134542129f76be494c6e726e": {
          "model_module": "@jupyter-widgets/controls",
          "model_name": "HTMLModel",
          "model_module_version": "1.5.0",
          "state": {
            "_dom_classes": [],
            "_model_module": "@jupyter-widgets/controls",
            "_model_module_version": "1.5.0",
            "_model_name": "HTMLModel",
            "_view_count": null,
            "_view_module": "@jupyter-widgets/controls",
            "_view_module_version": "1.5.0",
            "_view_name": "HTMLView",
            "description": "",
            "description_tooltip": null,
            "layout": "IPY_MODEL_7a80395ac7e441348559bd1528f5d8fb",
            "placeholder": "​",
            "style": "IPY_MODEL_5ba0fc5df91349c4b431e528a8c4aae5",
            "value": "Downloading (…)neration_config.json: 100%"
          }
        },
        "b2ad347a350e478dba89c65a16e5e62a": {
          "model_module": "@jupyter-widgets/controls",
          "model_name": "FloatProgressModel",
          "model_module_version": "1.5.0",
          "state": {
            "_dom_classes": [],
            "_model_module": "@jupyter-widgets/controls",
            "_model_module_version": "1.5.0",
            "_model_name": "FloatProgressModel",
            "_view_count": null,
            "_view_module": "@jupyter-widgets/controls",
            "_view_module_version": "1.5.0",
            "_view_name": "ProgressView",
            "bar_style": "success",
            "description": "",
            "description_tooltip": null,
            "layout": "IPY_MODEL_4d47782fa1834570ac7e441a769f8cad",
            "max": 363,
            "min": 0,
            "orientation": "horizontal",
            "style": "IPY_MODEL_09b5cefc267b4ac8ad460efe9c2fd0ec",
            "value": 363
          }
        },
        "98e1005bcb9c43d99f0ea3871c593c3a": {
          "model_module": "@jupyter-widgets/controls",
          "model_name": "HTMLModel",
          "model_module_version": "1.5.0",
          "state": {
            "_dom_classes": [],
            "_model_module": "@jupyter-widgets/controls",
            "_model_module_version": "1.5.0",
            "_model_name": "HTMLModel",
            "_view_count": null,
            "_view_module": "@jupyter-widgets/controls",
            "_view_module_version": "1.5.0",
            "_view_name": "HTMLView",
            "description": "",
            "description_tooltip": null,
            "layout": "IPY_MODEL_07a99e00213b4be8a607b517fda33d72",
            "placeholder": "​",
            "style": "IPY_MODEL_638e3b8aaafc429dbe15c9fa26f08c61",
            "value": " 363/363 [00:00&lt;00:00, 30.4kB/s]"
          }
        },
        "90d35caae666440da86465fc2100ae2e": {
          "model_module": "@jupyter-widgets/base",
          "model_name": "LayoutModel",
          "model_module_version": "1.2.0",
          "state": {
            "_model_module": "@jupyter-widgets/base",
            "_model_module_version": "1.2.0",
            "_model_name": "LayoutModel",
            "_view_count": null,
            "_view_module": "@jupyter-widgets/base",
            "_view_module_version": "1.2.0",
            "_view_name": "LayoutView",
            "align_content": null,
            "align_items": null,
            "align_self": null,
            "border": null,
            "bottom": null,
            "display": null,
            "flex": null,
            "flex_flow": null,
            "grid_area": null,
            "grid_auto_columns": null,
            "grid_auto_flow": null,
            "grid_auto_rows": null,
            "grid_column": null,
            "grid_gap": null,
            "grid_row": null,
            "grid_template_areas": null,
            "grid_template_columns": null,
            "grid_template_rows": null,
            "height": null,
            "justify_content": null,
            "justify_items": null,
            "left": null,
            "margin": null,
            "max_height": null,
            "max_width": null,
            "min_height": null,
            "min_width": null,
            "object_fit": null,
            "object_position": null,
            "order": null,
            "overflow": null,
            "overflow_x": null,
            "overflow_y": null,
            "padding": null,
            "right": null,
            "top": null,
            "visibility": null,
            "width": null
          }
        },
        "7a80395ac7e441348559bd1528f5d8fb": {
          "model_module": "@jupyter-widgets/base",
          "model_name": "LayoutModel",
          "model_module_version": "1.2.0",
          "state": {
            "_model_module": "@jupyter-widgets/base",
            "_model_module_version": "1.2.0",
            "_model_name": "LayoutModel",
            "_view_count": null,
            "_view_module": "@jupyter-widgets/base",
            "_view_module_version": "1.2.0",
            "_view_name": "LayoutView",
            "align_content": null,
            "align_items": null,
            "align_self": null,
            "border": null,
            "bottom": null,
            "display": null,
            "flex": null,
            "flex_flow": null,
            "grid_area": null,
            "grid_auto_columns": null,
            "grid_auto_flow": null,
            "grid_auto_rows": null,
            "grid_column": null,
            "grid_gap": null,
            "grid_row": null,
            "grid_template_areas": null,
            "grid_template_columns": null,
            "grid_template_rows": null,
            "height": null,
            "justify_content": null,
            "justify_items": null,
            "left": null,
            "margin": null,
            "max_height": null,
            "max_width": null,
            "min_height": null,
            "min_width": null,
            "object_fit": null,
            "object_position": null,
            "order": null,
            "overflow": null,
            "overflow_x": null,
            "overflow_y": null,
            "padding": null,
            "right": null,
            "top": null,
            "visibility": null,
            "width": null
          }
        },
        "5ba0fc5df91349c4b431e528a8c4aae5": {
          "model_module": "@jupyter-widgets/controls",
          "model_name": "DescriptionStyleModel",
          "model_module_version": "1.5.0",
          "state": {
            "_model_module": "@jupyter-widgets/controls",
            "_model_module_version": "1.5.0",
            "_model_name": "DescriptionStyleModel",
            "_view_count": null,
            "_view_module": "@jupyter-widgets/base",
            "_view_module_version": "1.2.0",
            "_view_name": "StyleView",
            "description_width": ""
          }
        },
        "4d47782fa1834570ac7e441a769f8cad": {
          "model_module": "@jupyter-widgets/base",
          "model_name": "LayoutModel",
          "model_module_version": "1.2.0",
          "state": {
            "_model_module": "@jupyter-widgets/base",
            "_model_module_version": "1.2.0",
            "_model_name": "LayoutModel",
            "_view_count": null,
            "_view_module": "@jupyter-widgets/base",
            "_view_module_version": "1.2.0",
            "_view_name": "LayoutView",
            "align_content": null,
            "align_items": null,
            "align_self": null,
            "border": null,
            "bottom": null,
            "display": null,
            "flex": null,
            "flex_flow": null,
            "grid_area": null,
            "grid_auto_columns": null,
            "grid_auto_flow": null,
            "grid_auto_rows": null,
            "grid_column": null,
            "grid_gap": null,
            "grid_row": null,
            "grid_template_areas": null,
            "grid_template_columns": null,
            "grid_template_rows": null,
            "height": null,
            "justify_content": null,
            "justify_items": null,
            "left": null,
            "margin": null,
            "max_height": null,
            "max_width": null,
            "min_height": null,
            "min_width": null,
            "object_fit": null,
            "object_position": null,
            "order": null,
            "overflow": null,
            "overflow_x": null,
            "overflow_y": null,
            "padding": null,
            "right": null,
            "top": null,
            "visibility": null,
            "width": null
          }
        },
        "09b5cefc267b4ac8ad460efe9c2fd0ec": {
          "model_module": "@jupyter-widgets/controls",
          "model_name": "ProgressStyleModel",
          "model_module_version": "1.5.0",
          "state": {
            "_model_module": "@jupyter-widgets/controls",
            "_model_module_version": "1.5.0",
            "_model_name": "ProgressStyleModel",
            "_view_count": null,
            "_view_module": "@jupyter-widgets/base",
            "_view_module_version": "1.2.0",
            "_view_name": "StyleView",
            "bar_color": null,
            "description_width": ""
          }
        },
        "07a99e00213b4be8a607b517fda33d72": {
          "model_module": "@jupyter-widgets/base",
          "model_name": "LayoutModel",
          "model_module_version": "1.2.0",
          "state": {
            "_model_module": "@jupyter-widgets/base",
            "_model_module_version": "1.2.0",
            "_model_name": "LayoutModel",
            "_view_count": null,
            "_view_module": "@jupyter-widgets/base",
            "_view_module_version": "1.2.0",
            "_view_name": "LayoutView",
            "align_content": null,
            "align_items": null,
            "align_self": null,
            "border": null,
            "bottom": null,
            "display": null,
            "flex": null,
            "flex_flow": null,
            "grid_area": null,
            "grid_auto_columns": null,
            "grid_auto_flow": null,
            "grid_auto_rows": null,
            "grid_column": null,
            "grid_gap": null,
            "grid_row": null,
            "grid_template_areas": null,
            "grid_template_columns": null,
            "grid_template_rows": null,
            "height": null,
            "justify_content": null,
            "justify_items": null,
            "left": null,
            "margin": null,
            "max_height": null,
            "max_width": null,
            "min_height": null,
            "min_width": null,
            "object_fit": null,
            "object_position": null,
            "order": null,
            "overflow": null,
            "overflow_x": null,
            "overflow_y": null,
            "padding": null,
            "right": null,
            "top": null,
            "visibility": null,
            "width": null
          }
        },
        "638e3b8aaafc429dbe15c9fa26f08c61": {
          "model_module": "@jupyter-widgets/controls",
          "model_name": "DescriptionStyleModel",
          "model_module_version": "1.5.0",
          "state": {
            "_model_module": "@jupyter-widgets/controls",
            "_model_module_version": "1.5.0",
            "_model_name": "DescriptionStyleModel",
            "_view_count": null,
            "_view_module": "@jupyter-widgets/base",
            "_view_module_version": "1.2.0",
            "_view_name": "StyleView",
            "description_width": ""
          }
        },
        "a7971b03d4af4c7fa51e36c1053a5bdb": {
          "model_module": "@jupyter-widgets/controls",
          "model_name": "HBoxModel",
          "model_module_version": "1.5.0",
          "state": {
            "_dom_classes": [],
            "_model_module": "@jupyter-widgets/controls",
            "_model_module_version": "1.5.0",
            "_model_name": "HBoxModel",
            "_view_count": null,
            "_view_module": "@jupyter-widgets/controls",
            "_view_module_version": "1.5.0",
            "_view_name": "HBoxView",
            "box_style": "",
            "children": [
              "IPY_MODEL_84e6c2a186664b7d8e2a2b31e39e4fb4",
              "IPY_MODEL_d8b3cf47be67447ea708744030a228db",
              "IPY_MODEL_4dbe4ad5dd6149d1b443ac1d2badeb85"
            ],
            "layout": "IPY_MODEL_778e874f6b374a969d701e8b22e6b2b9"
          }
        },
        "84e6c2a186664b7d8e2a2b31e39e4fb4": {
          "model_module": "@jupyter-widgets/controls",
          "model_name": "HTMLModel",
          "model_module_version": "1.5.0",
          "state": {
            "_dom_classes": [],
            "_model_module": "@jupyter-widgets/controls",
            "_model_module_version": "1.5.0",
            "_model_name": "HTMLModel",
            "_view_count": null,
            "_view_module": "@jupyter-widgets/controls",
            "_view_module_version": "1.5.0",
            "_view_name": "HTMLView",
            "description": "",
            "description_tooltip": null,
            "layout": "IPY_MODEL_d37cbd52b97c4a2fa5dbf660c1525d5e",
            "placeholder": "​",
            "style": "IPY_MODEL_a588784ae5234cfa860d572c7726e8b4",
            "value": "Downloading builder script: "
          }
        },
        "d8b3cf47be67447ea708744030a228db": {
          "model_module": "@jupyter-widgets/controls",
          "model_name": "FloatProgressModel",
          "model_module_version": "1.5.0",
          "state": {
            "_dom_classes": [],
            "_model_module": "@jupyter-widgets/controls",
            "_model_module_version": "1.5.0",
            "_model_name": "FloatProgressModel",
            "_view_count": null,
            "_view_module": "@jupyter-widgets/controls",
            "_view_module_version": "1.5.0",
            "_view_name": "ProgressView",
            "bar_style": "success",
            "description": "",
            "description_tooltip": null,
            "layout": "IPY_MODEL_c339c5f8613247528e0847c344fb9768",
            "max": 2478,
            "min": 0,
            "orientation": "horizontal",
            "style": "IPY_MODEL_b4193d5ed0e04e14ba404436205ebc7c",
            "value": 2478
          }
        },
        "4dbe4ad5dd6149d1b443ac1d2badeb85": {
          "model_module": "@jupyter-widgets/controls",
          "model_name": "HTMLModel",
          "model_module_version": "1.5.0",
          "state": {
            "_dom_classes": [],
            "_model_module": "@jupyter-widgets/controls",
            "_model_module_version": "1.5.0",
            "_model_name": "HTMLModel",
            "_view_count": null,
            "_view_module": "@jupyter-widgets/controls",
            "_view_module_version": "1.5.0",
            "_view_name": "HTMLView",
            "description": "",
            "description_tooltip": null,
            "layout": "IPY_MODEL_dad22f355e324ba0bd12c0ca2fe07684",
            "placeholder": "​",
            "style": "IPY_MODEL_64c70de6c9854c4685f333417e435e2e",
            "value": " 6.06k/? [00:00&lt;00:00, 442kB/s]"
          }
        },
        "778e874f6b374a969d701e8b22e6b2b9": {
          "model_module": "@jupyter-widgets/base",
          "model_name": "LayoutModel",
          "model_module_version": "1.2.0",
          "state": {
            "_model_module": "@jupyter-widgets/base",
            "_model_module_version": "1.2.0",
            "_model_name": "LayoutModel",
            "_view_count": null,
            "_view_module": "@jupyter-widgets/base",
            "_view_module_version": "1.2.0",
            "_view_name": "LayoutView",
            "align_content": null,
            "align_items": null,
            "align_self": null,
            "border": null,
            "bottom": null,
            "display": null,
            "flex": null,
            "flex_flow": null,
            "grid_area": null,
            "grid_auto_columns": null,
            "grid_auto_flow": null,
            "grid_auto_rows": null,
            "grid_column": null,
            "grid_gap": null,
            "grid_row": null,
            "grid_template_areas": null,
            "grid_template_columns": null,
            "grid_template_rows": null,
            "height": null,
            "justify_content": null,
            "justify_items": null,
            "left": null,
            "margin": null,
            "max_height": null,
            "max_width": null,
            "min_height": null,
            "min_width": null,
            "object_fit": null,
            "object_position": null,
            "order": null,
            "overflow": null,
            "overflow_x": null,
            "overflow_y": null,
            "padding": null,
            "right": null,
            "top": null,
            "visibility": null,
            "width": null
          }
        },
        "d37cbd52b97c4a2fa5dbf660c1525d5e": {
          "model_module": "@jupyter-widgets/base",
          "model_name": "LayoutModel",
          "model_module_version": "1.2.0",
          "state": {
            "_model_module": "@jupyter-widgets/base",
            "_model_module_version": "1.2.0",
            "_model_name": "LayoutModel",
            "_view_count": null,
            "_view_module": "@jupyter-widgets/base",
            "_view_module_version": "1.2.0",
            "_view_name": "LayoutView",
            "align_content": null,
            "align_items": null,
            "align_self": null,
            "border": null,
            "bottom": null,
            "display": null,
            "flex": null,
            "flex_flow": null,
            "grid_area": null,
            "grid_auto_columns": null,
            "grid_auto_flow": null,
            "grid_auto_rows": null,
            "grid_column": null,
            "grid_gap": null,
            "grid_row": null,
            "grid_template_areas": null,
            "grid_template_columns": null,
            "grid_template_rows": null,
            "height": null,
            "justify_content": null,
            "justify_items": null,
            "left": null,
            "margin": null,
            "max_height": null,
            "max_width": null,
            "min_height": null,
            "min_width": null,
            "object_fit": null,
            "object_position": null,
            "order": null,
            "overflow": null,
            "overflow_x": null,
            "overflow_y": null,
            "padding": null,
            "right": null,
            "top": null,
            "visibility": null,
            "width": null
          }
        },
        "a588784ae5234cfa860d572c7726e8b4": {
          "model_module": "@jupyter-widgets/controls",
          "model_name": "DescriptionStyleModel",
          "model_module_version": "1.5.0",
          "state": {
            "_model_module": "@jupyter-widgets/controls",
            "_model_module_version": "1.5.0",
            "_model_name": "DescriptionStyleModel",
            "_view_count": null,
            "_view_module": "@jupyter-widgets/base",
            "_view_module_version": "1.2.0",
            "_view_name": "StyleView",
            "description_width": ""
          }
        },
        "c339c5f8613247528e0847c344fb9768": {
          "model_module": "@jupyter-widgets/base",
          "model_name": "LayoutModel",
          "model_module_version": "1.2.0",
          "state": {
            "_model_module": "@jupyter-widgets/base",
            "_model_module_version": "1.2.0",
            "_model_name": "LayoutModel",
            "_view_count": null,
            "_view_module": "@jupyter-widgets/base",
            "_view_module_version": "1.2.0",
            "_view_name": "LayoutView",
            "align_content": null,
            "align_items": null,
            "align_self": null,
            "border": null,
            "bottom": null,
            "display": null,
            "flex": null,
            "flex_flow": null,
            "grid_area": null,
            "grid_auto_columns": null,
            "grid_auto_flow": null,
            "grid_auto_rows": null,
            "grid_column": null,
            "grid_gap": null,
            "grid_row": null,
            "grid_template_areas": null,
            "grid_template_columns": null,
            "grid_template_rows": null,
            "height": null,
            "justify_content": null,
            "justify_items": null,
            "left": null,
            "margin": null,
            "max_height": null,
            "max_width": null,
            "min_height": null,
            "min_width": null,
            "object_fit": null,
            "object_position": null,
            "order": null,
            "overflow": null,
            "overflow_x": null,
            "overflow_y": null,
            "padding": null,
            "right": null,
            "top": null,
            "visibility": null,
            "width": null
          }
        },
        "b4193d5ed0e04e14ba404436205ebc7c": {
          "model_module": "@jupyter-widgets/controls",
          "model_name": "ProgressStyleModel",
          "model_module_version": "1.5.0",
          "state": {
            "_model_module": "@jupyter-widgets/controls",
            "_model_module_version": "1.5.0",
            "_model_name": "ProgressStyleModel",
            "_view_count": null,
            "_view_module": "@jupyter-widgets/base",
            "_view_module_version": "1.2.0",
            "_view_name": "StyleView",
            "bar_color": null,
            "description_width": ""
          }
        },
        "dad22f355e324ba0bd12c0ca2fe07684": {
          "model_module": "@jupyter-widgets/base",
          "model_name": "LayoutModel",
          "model_module_version": "1.2.0",
          "state": {
            "_model_module": "@jupyter-widgets/base",
            "_model_module_version": "1.2.0",
            "_model_name": "LayoutModel",
            "_view_count": null,
            "_view_module": "@jupyter-widgets/base",
            "_view_module_version": "1.2.0",
            "_view_name": "LayoutView",
            "align_content": null,
            "align_items": null,
            "align_self": null,
            "border": null,
            "bottom": null,
            "display": null,
            "flex": null,
            "flex_flow": null,
            "grid_area": null,
            "grid_auto_columns": null,
            "grid_auto_flow": null,
            "grid_auto_rows": null,
            "grid_column": null,
            "grid_gap": null,
            "grid_row": null,
            "grid_template_areas": null,
            "grid_template_columns": null,
            "grid_template_rows": null,
            "height": null,
            "justify_content": null,
            "justify_items": null,
            "left": null,
            "margin": null,
            "max_height": null,
            "max_width": null,
            "min_height": null,
            "min_width": null,
            "object_fit": null,
            "object_position": null,
            "order": null,
            "overflow": null,
            "overflow_x": null,
            "overflow_y": null,
            "padding": null,
            "right": null,
            "top": null,
            "visibility": null,
            "width": null
          }
        },
        "64c70de6c9854c4685f333417e435e2e": {
          "model_module": "@jupyter-widgets/controls",
          "model_name": "DescriptionStyleModel",
          "model_module_version": "1.5.0",
          "state": {
            "_model_module": "@jupyter-widgets/controls",
            "_model_module_version": "1.5.0",
            "_model_name": "DescriptionStyleModel",
            "_view_count": null,
            "_view_module": "@jupyter-widgets/base",
            "_view_module_version": "1.2.0",
            "_view_name": "StyleView",
            "description_width": ""
          }
        },
        "5d8c74bc1f8941a0a20e27634156eef7": {
          "model_module": "@jupyter-widgets/controls",
          "model_name": "HBoxModel",
          "model_module_version": "1.5.0",
          "state": {
            "_dom_classes": [],
            "_model_module": "@jupyter-widgets/controls",
            "_model_module_version": "1.5.0",
            "_model_name": "HBoxModel",
            "_view_count": null,
            "_view_module": "@jupyter-widgets/controls",
            "_view_module_version": "1.5.0",
            "_view_name": "HBoxView",
            "box_style": "",
            "children": [
              "IPY_MODEL_4c8b74cf597948789986072b1634d827",
              "IPY_MODEL_d506ee3439bd439585db3a8a06a6e910",
              "IPY_MODEL_59322d7744b246b0be164baf1a073c0f"
            ],
            "layout": "IPY_MODEL_96bac623dca244d295cd26c622c5aa44"
          }
        },
        "4c8b74cf597948789986072b1634d827": {
          "model_module": "@jupyter-widgets/controls",
          "model_name": "HTMLModel",
          "model_module_version": "1.5.0",
          "state": {
            "_dom_classes": [],
            "_model_module": "@jupyter-widgets/controls",
            "_model_module_version": "1.5.0",
            "_model_name": "HTMLModel",
            "_view_count": null,
            "_view_module": "@jupyter-widgets/controls",
            "_view_module_version": "1.5.0",
            "_view_name": "HTMLView",
            "description": "",
            "description_tooltip": null,
            "layout": "IPY_MODEL_ac1cfafb18e049698f1ec055b035da79",
            "placeholder": "​",
            "style": "IPY_MODEL_84ed0ae607064da197572417baa942a1",
            "value": "Downloading extra modules: "
          }
        },
        "d506ee3439bd439585db3a8a06a6e910": {
          "model_module": "@jupyter-widgets/controls",
          "model_name": "FloatProgressModel",
          "model_module_version": "1.5.0",
          "state": {
            "_dom_classes": [],
            "_model_module": "@jupyter-widgets/controls",
            "_model_module_version": "1.5.0",
            "_model_name": "FloatProgressModel",
            "_view_count": null,
            "_view_module": "@jupyter-widgets/controls",
            "_view_module_version": "1.5.0",
            "_view_name": "ProgressView",
            "bar_style": "success",
            "description": "",
            "description_tooltip": null,
            "layout": "IPY_MODEL_1d69c87e232e4743b3f2a43b7e42bf6d",
            "max": 1554,
            "min": 0,
            "orientation": "horizontal",
            "style": "IPY_MODEL_5e4fb161e5bf4dfe8488564a6e4e3607",
            "value": 1554
          }
        },
        "59322d7744b246b0be164baf1a073c0f": {
          "model_module": "@jupyter-widgets/controls",
          "model_name": "HTMLModel",
          "model_module_version": "1.5.0",
          "state": {
            "_dom_classes": [],
            "_model_module": "@jupyter-widgets/controls",
            "_model_module_version": "1.5.0",
            "_model_name": "HTMLModel",
            "_view_count": null,
            "_view_module": "@jupyter-widgets/controls",
            "_view_module_version": "1.5.0",
            "_view_name": "HTMLView",
            "description": "",
            "description_tooltip": null,
            "layout": "IPY_MODEL_b47b1504df0a47dfaa8bd0b98a858fee",
            "placeholder": "​",
            "style": "IPY_MODEL_1a17cc5f924041bb8413e1898e829282",
            "value": " 4.07k/? [00:00&lt;00:00, 338kB/s]"
          }
        },
        "96bac623dca244d295cd26c622c5aa44": {
          "model_module": "@jupyter-widgets/base",
          "model_name": "LayoutModel",
          "model_module_version": "1.2.0",
          "state": {
            "_model_module": "@jupyter-widgets/base",
            "_model_module_version": "1.2.0",
            "_model_name": "LayoutModel",
            "_view_count": null,
            "_view_module": "@jupyter-widgets/base",
            "_view_module_version": "1.2.0",
            "_view_name": "LayoutView",
            "align_content": null,
            "align_items": null,
            "align_self": null,
            "border": null,
            "bottom": null,
            "display": null,
            "flex": null,
            "flex_flow": null,
            "grid_area": null,
            "grid_auto_columns": null,
            "grid_auto_flow": null,
            "grid_auto_rows": null,
            "grid_column": null,
            "grid_gap": null,
            "grid_row": null,
            "grid_template_areas": null,
            "grid_template_columns": null,
            "grid_template_rows": null,
            "height": null,
            "justify_content": null,
            "justify_items": null,
            "left": null,
            "margin": null,
            "max_height": null,
            "max_width": null,
            "min_height": null,
            "min_width": null,
            "object_fit": null,
            "object_position": null,
            "order": null,
            "overflow": null,
            "overflow_x": null,
            "overflow_y": null,
            "padding": null,
            "right": null,
            "top": null,
            "visibility": null,
            "width": null
          }
        },
        "ac1cfafb18e049698f1ec055b035da79": {
          "model_module": "@jupyter-widgets/base",
          "model_name": "LayoutModel",
          "model_module_version": "1.2.0",
          "state": {
            "_model_module": "@jupyter-widgets/base",
            "_model_module_version": "1.2.0",
            "_model_name": "LayoutModel",
            "_view_count": null,
            "_view_module": "@jupyter-widgets/base",
            "_view_module_version": "1.2.0",
            "_view_name": "LayoutView",
            "align_content": null,
            "align_items": null,
            "align_self": null,
            "border": null,
            "bottom": null,
            "display": null,
            "flex": null,
            "flex_flow": null,
            "grid_area": null,
            "grid_auto_columns": null,
            "grid_auto_flow": null,
            "grid_auto_rows": null,
            "grid_column": null,
            "grid_gap": null,
            "grid_row": null,
            "grid_template_areas": null,
            "grid_template_columns": null,
            "grid_template_rows": null,
            "height": null,
            "justify_content": null,
            "justify_items": null,
            "left": null,
            "margin": null,
            "max_height": null,
            "max_width": null,
            "min_height": null,
            "min_width": null,
            "object_fit": null,
            "object_position": null,
            "order": null,
            "overflow": null,
            "overflow_x": null,
            "overflow_y": null,
            "padding": null,
            "right": null,
            "top": null,
            "visibility": null,
            "width": null
          }
        },
        "84ed0ae607064da197572417baa942a1": {
          "model_module": "@jupyter-widgets/controls",
          "model_name": "DescriptionStyleModel",
          "model_module_version": "1.5.0",
          "state": {
            "_model_module": "@jupyter-widgets/controls",
            "_model_module_version": "1.5.0",
            "_model_name": "DescriptionStyleModel",
            "_view_count": null,
            "_view_module": "@jupyter-widgets/base",
            "_view_module_version": "1.2.0",
            "_view_name": "StyleView",
            "description_width": ""
          }
        },
        "1d69c87e232e4743b3f2a43b7e42bf6d": {
          "model_module": "@jupyter-widgets/base",
          "model_name": "LayoutModel",
          "model_module_version": "1.2.0",
          "state": {
            "_model_module": "@jupyter-widgets/base",
            "_model_module_version": "1.2.0",
            "_model_name": "LayoutModel",
            "_view_count": null,
            "_view_module": "@jupyter-widgets/base",
            "_view_module_version": "1.2.0",
            "_view_name": "LayoutView",
            "align_content": null,
            "align_items": null,
            "align_self": null,
            "border": null,
            "bottom": null,
            "display": null,
            "flex": null,
            "flex_flow": null,
            "grid_area": null,
            "grid_auto_columns": null,
            "grid_auto_flow": null,
            "grid_auto_rows": null,
            "grid_column": null,
            "grid_gap": null,
            "grid_row": null,
            "grid_template_areas": null,
            "grid_template_columns": null,
            "grid_template_rows": null,
            "height": null,
            "justify_content": null,
            "justify_items": null,
            "left": null,
            "margin": null,
            "max_height": null,
            "max_width": null,
            "min_height": null,
            "min_width": null,
            "object_fit": null,
            "object_position": null,
            "order": null,
            "overflow": null,
            "overflow_x": null,
            "overflow_y": null,
            "padding": null,
            "right": null,
            "top": null,
            "visibility": null,
            "width": null
          }
        },
        "5e4fb161e5bf4dfe8488564a6e4e3607": {
          "model_module": "@jupyter-widgets/controls",
          "model_name": "ProgressStyleModel",
          "model_module_version": "1.5.0",
          "state": {
            "_model_module": "@jupyter-widgets/controls",
            "_model_module_version": "1.5.0",
            "_model_name": "ProgressStyleModel",
            "_view_count": null,
            "_view_module": "@jupyter-widgets/base",
            "_view_module_version": "1.2.0",
            "_view_name": "StyleView",
            "bar_color": null,
            "description_width": ""
          }
        },
        "b47b1504df0a47dfaa8bd0b98a858fee": {
          "model_module": "@jupyter-widgets/base",
          "model_name": "LayoutModel",
          "model_module_version": "1.2.0",
          "state": {
            "_model_module": "@jupyter-widgets/base",
            "_model_module_version": "1.2.0",
            "_model_name": "LayoutModel",
            "_view_count": null,
            "_view_module": "@jupyter-widgets/base",
            "_view_module_version": "1.2.0",
            "_view_name": "LayoutView",
            "align_content": null,
            "align_items": null,
            "align_self": null,
            "border": null,
            "bottom": null,
            "display": null,
            "flex": null,
            "flex_flow": null,
            "grid_area": null,
            "grid_auto_columns": null,
            "grid_auto_flow": null,
            "grid_auto_rows": null,
            "grid_column": null,
            "grid_gap": null,
            "grid_row": null,
            "grid_template_areas": null,
            "grid_template_columns": null,
            "grid_template_rows": null,
            "height": null,
            "justify_content": null,
            "justify_items": null,
            "left": null,
            "margin": null,
            "max_height": null,
            "max_width": null,
            "min_height": null,
            "min_width": null,
            "object_fit": null,
            "object_position": null,
            "order": null,
            "overflow": null,
            "overflow_x": null,
            "overflow_y": null,
            "padding": null,
            "right": null,
            "top": null,
            "visibility": null,
            "width": null
          }
        },
        "1a17cc5f924041bb8413e1898e829282": {
          "model_module": "@jupyter-widgets/controls",
          "model_name": "DescriptionStyleModel",
          "model_module_version": "1.5.0",
          "state": {
            "_model_module": "@jupyter-widgets/controls",
            "_model_module_version": "1.5.0",
            "_model_name": "DescriptionStyleModel",
            "_view_count": null,
            "_view_module": "@jupyter-widgets/base",
            "_view_module_version": "1.2.0",
            "_view_name": "StyleView",
            "description_width": ""
          }
        },
        "93580dc5fc0d4481b496524be57fa738": {
          "model_module": "@jupyter-widgets/controls",
          "model_name": "HBoxModel",
          "model_module_version": "1.5.0",
          "state": {
            "_dom_classes": [],
            "_model_module": "@jupyter-widgets/controls",
            "_model_module_version": "1.5.0",
            "_model_name": "HBoxModel",
            "_view_count": null,
            "_view_module": "@jupyter-widgets/controls",
            "_view_module_version": "1.5.0",
            "_view_name": "HBoxView",
            "box_style": "",
            "children": [
              "IPY_MODEL_1bfb4a273ece40a98d67f64ad2117cac",
              "IPY_MODEL_9aaaf36669b54c3197c2e02dcaa6f6d8",
              "IPY_MODEL_47e2aa10c46a49c6bc3a27613d7db0a0"
            ],
            "layout": "IPY_MODEL_37b4fe86a44e471bb1e7586a108c7629"
          }
        },
        "1bfb4a273ece40a98d67f64ad2117cac": {
          "model_module": "@jupyter-widgets/controls",
          "model_name": "HTMLModel",
          "model_module_version": "1.5.0",
          "state": {
            "_dom_classes": [],
            "_model_module": "@jupyter-widgets/controls",
            "_model_module_version": "1.5.0",
            "_model_name": "HTMLModel",
            "_view_count": null,
            "_view_module": "@jupyter-widgets/controls",
            "_view_module_version": "1.5.0",
            "_view_name": "HTMLView",
            "description": "",
            "description_tooltip": null,
            "layout": "IPY_MODEL_f164068fd86b4075a225968124dc889c",
            "placeholder": "​",
            "style": "IPY_MODEL_18e73c7568a84c80824a1b20a7878a4d",
            "value": "Downloading builder script: "
          }
        },
        "9aaaf36669b54c3197c2e02dcaa6f6d8": {
          "model_module": "@jupyter-widgets/controls",
          "model_name": "FloatProgressModel",
          "model_module_version": "1.5.0",
          "state": {
            "_dom_classes": [],
            "_model_module": "@jupyter-widgets/controls",
            "_model_module_version": "1.5.0",
            "_model_name": "FloatProgressModel",
            "_view_count": null,
            "_view_module": "@jupyter-widgets/controls",
            "_view_module_version": "1.5.0",
            "_view_name": "ProgressView",
            "bar_style": "success",
            "description": "",
            "description_tooltip": null,
            "layout": "IPY_MODEL_458e4b1f592d45f680eb2cd3ecda20f5",
            "max": 2199,
            "min": 0,
            "orientation": "horizontal",
            "style": "IPY_MODEL_d88b8e776c31483e8c4153314cce3e36",
            "value": 2199
          }
        },
        "47e2aa10c46a49c6bc3a27613d7db0a0": {
          "model_module": "@jupyter-widgets/controls",
          "model_name": "HTMLModel",
          "model_module_version": "1.5.0",
          "state": {
            "_dom_classes": [],
            "_model_module": "@jupyter-widgets/controls",
            "_model_module_version": "1.5.0",
            "_model_name": "HTMLModel",
            "_view_count": null,
            "_view_module": "@jupyter-widgets/controls",
            "_view_module_version": "1.5.0",
            "_view_name": "HTMLView",
            "description": "",
            "description_tooltip": null,
            "layout": "IPY_MODEL_481898572ddc440b9961ae732b591f2c",
            "placeholder": "​",
            "style": "IPY_MODEL_30b5f8cfcf064ff7b96b4d954106c570",
            "value": " 5.34k/? [00:00&lt;00:00, 375kB/s]"
          }
        },
        "37b4fe86a44e471bb1e7586a108c7629": {
          "model_module": "@jupyter-widgets/base",
          "model_name": "LayoutModel",
          "model_module_version": "1.2.0",
          "state": {
            "_model_module": "@jupyter-widgets/base",
            "_model_module_version": "1.2.0",
            "_model_name": "LayoutModel",
            "_view_count": null,
            "_view_module": "@jupyter-widgets/base",
            "_view_module_version": "1.2.0",
            "_view_name": "LayoutView",
            "align_content": null,
            "align_items": null,
            "align_self": null,
            "border": null,
            "bottom": null,
            "display": null,
            "flex": null,
            "flex_flow": null,
            "grid_area": null,
            "grid_auto_columns": null,
            "grid_auto_flow": null,
            "grid_auto_rows": null,
            "grid_column": null,
            "grid_gap": null,
            "grid_row": null,
            "grid_template_areas": null,
            "grid_template_columns": null,
            "grid_template_rows": null,
            "height": null,
            "justify_content": null,
            "justify_items": null,
            "left": null,
            "margin": null,
            "max_height": null,
            "max_width": null,
            "min_height": null,
            "min_width": null,
            "object_fit": null,
            "object_position": null,
            "order": null,
            "overflow": null,
            "overflow_x": null,
            "overflow_y": null,
            "padding": null,
            "right": null,
            "top": null,
            "visibility": null,
            "width": null
          }
        },
        "f164068fd86b4075a225968124dc889c": {
          "model_module": "@jupyter-widgets/base",
          "model_name": "LayoutModel",
          "model_module_version": "1.2.0",
          "state": {
            "_model_module": "@jupyter-widgets/base",
            "_model_module_version": "1.2.0",
            "_model_name": "LayoutModel",
            "_view_count": null,
            "_view_module": "@jupyter-widgets/base",
            "_view_module_version": "1.2.0",
            "_view_name": "LayoutView",
            "align_content": null,
            "align_items": null,
            "align_self": null,
            "border": null,
            "bottom": null,
            "display": null,
            "flex": null,
            "flex_flow": null,
            "grid_area": null,
            "grid_auto_columns": null,
            "grid_auto_flow": null,
            "grid_auto_rows": null,
            "grid_column": null,
            "grid_gap": null,
            "grid_row": null,
            "grid_template_areas": null,
            "grid_template_columns": null,
            "grid_template_rows": null,
            "height": null,
            "justify_content": null,
            "justify_items": null,
            "left": null,
            "margin": null,
            "max_height": null,
            "max_width": null,
            "min_height": null,
            "min_width": null,
            "object_fit": null,
            "object_position": null,
            "order": null,
            "overflow": null,
            "overflow_x": null,
            "overflow_y": null,
            "padding": null,
            "right": null,
            "top": null,
            "visibility": null,
            "width": null
          }
        },
        "18e73c7568a84c80824a1b20a7878a4d": {
          "model_module": "@jupyter-widgets/controls",
          "model_name": "DescriptionStyleModel",
          "model_module_version": "1.5.0",
          "state": {
            "_model_module": "@jupyter-widgets/controls",
            "_model_module_version": "1.5.0",
            "_model_name": "DescriptionStyleModel",
            "_view_count": null,
            "_view_module": "@jupyter-widgets/base",
            "_view_module_version": "1.2.0",
            "_view_name": "StyleView",
            "description_width": ""
          }
        },
        "458e4b1f592d45f680eb2cd3ecda20f5": {
          "model_module": "@jupyter-widgets/base",
          "model_name": "LayoutModel",
          "model_module_version": "1.2.0",
          "state": {
            "_model_module": "@jupyter-widgets/base",
            "_model_module_version": "1.2.0",
            "_model_name": "LayoutModel",
            "_view_count": null,
            "_view_module": "@jupyter-widgets/base",
            "_view_module_version": "1.2.0",
            "_view_name": "LayoutView",
            "align_content": null,
            "align_items": null,
            "align_self": null,
            "border": null,
            "bottom": null,
            "display": null,
            "flex": null,
            "flex_flow": null,
            "grid_area": null,
            "grid_auto_columns": null,
            "grid_auto_flow": null,
            "grid_auto_rows": null,
            "grid_column": null,
            "grid_gap": null,
            "grid_row": null,
            "grid_template_areas": null,
            "grid_template_columns": null,
            "grid_template_rows": null,
            "height": null,
            "justify_content": null,
            "justify_items": null,
            "left": null,
            "margin": null,
            "max_height": null,
            "max_width": null,
            "min_height": null,
            "min_width": null,
            "object_fit": null,
            "object_position": null,
            "order": null,
            "overflow": null,
            "overflow_x": null,
            "overflow_y": null,
            "padding": null,
            "right": null,
            "top": null,
            "visibility": null,
            "width": null
          }
        },
        "d88b8e776c31483e8c4153314cce3e36": {
          "model_module": "@jupyter-widgets/controls",
          "model_name": "ProgressStyleModel",
          "model_module_version": "1.5.0",
          "state": {
            "_model_module": "@jupyter-widgets/controls",
            "_model_module_version": "1.5.0",
            "_model_name": "ProgressStyleModel",
            "_view_count": null,
            "_view_module": "@jupyter-widgets/base",
            "_view_module_version": "1.2.0",
            "_view_name": "StyleView",
            "bar_color": null,
            "description_width": ""
          }
        },
        "481898572ddc440b9961ae732b591f2c": {
          "model_module": "@jupyter-widgets/base",
          "model_name": "LayoutModel",
          "model_module_version": "1.2.0",
          "state": {
            "_model_module": "@jupyter-widgets/base",
            "_model_module_version": "1.2.0",
            "_model_name": "LayoutModel",
            "_view_count": null,
            "_view_module": "@jupyter-widgets/base",
            "_view_module_version": "1.2.0",
            "_view_name": "LayoutView",
            "align_content": null,
            "align_items": null,
            "align_self": null,
            "border": null,
            "bottom": null,
            "display": null,
            "flex": null,
            "flex_flow": null,
            "grid_area": null,
            "grid_auto_columns": null,
            "grid_auto_flow": null,
            "grid_auto_rows": null,
            "grid_column": null,
            "grid_gap": null,
            "grid_row": null,
            "grid_template_areas": null,
            "grid_template_columns": null,
            "grid_template_rows": null,
            "height": null,
            "justify_content": null,
            "justify_items": null,
            "left": null,
            "margin": null,
            "max_height": null,
            "max_width": null,
            "min_height": null,
            "min_width": null,
            "object_fit": null,
            "object_position": null,
            "order": null,
            "overflow": null,
            "overflow_x": null,
            "overflow_y": null,
            "padding": null,
            "right": null,
            "top": null,
            "visibility": null,
            "width": null
          }
        },
        "30b5f8cfcf064ff7b96b4d954106c570": {
          "model_module": "@jupyter-widgets/controls",
          "model_name": "DescriptionStyleModel",
          "model_module_version": "1.5.0",
          "state": {
            "_model_module": "@jupyter-widgets/controls",
            "_model_module_version": "1.5.0",
            "_model_name": "DescriptionStyleModel",
            "_view_count": null,
            "_view_module": "@jupyter-widgets/base",
            "_view_module_version": "1.2.0",
            "_view_name": "StyleView",
            "description_width": ""
          }
        },
        "2bb9c711cae24f35b0ac824a60eed4ed": {
          "model_module": "@jupyter-widgets/controls",
          "model_name": "HBoxModel",
          "model_module_version": "1.5.0",
          "state": {
            "_dom_classes": [],
            "_model_module": "@jupyter-widgets/controls",
            "_model_module_version": "1.5.0",
            "_model_name": "HBoxModel",
            "_view_count": null,
            "_view_module": "@jupyter-widgets/controls",
            "_view_module_version": "1.5.0",
            "_view_name": "HBoxView",
            "box_style": "",
            "children": [
              "IPY_MODEL_1b78a50e5e894e64be341626a640601a",
              "IPY_MODEL_ecb8b08842c748d9a186a7dcc0baab54",
              "IPY_MODEL_7f0d366c06ea4d1a9f21c8ce87417e1d"
            ],
            "layout": "IPY_MODEL_331edeb9365e4a2f876466a521503196"
          }
        },
        "1b78a50e5e894e64be341626a640601a": {
          "model_module": "@jupyter-widgets/controls",
          "model_name": "HTMLModel",
          "model_module_version": "1.5.0",
          "state": {
            "_dom_classes": [],
            "_model_module": "@jupyter-widgets/controls",
            "_model_module_version": "1.5.0",
            "_model_name": "HTMLModel",
            "_view_count": null,
            "_view_module": "@jupyter-widgets/controls",
            "_view_module_version": "1.5.0",
            "_view_name": "HTMLView",
            "description": "",
            "description_tooltip": null,
            "layout": "IPY_MODEL_697486435ab24149b70f3198d072c612",
            "placeholder": "​",
            "style": "IPY_MODEL_2870aced997f47b8a95f1298ff64825b",
            "value": "Downloading builder script: "
          }
        },
        "ecb8b08842c748d9a186a7dcc0baab54": {
          "model_module": "@jupyter-widgets/controls",
          "model_name": "FloatProgressModel",
          "model_module_version": "1.5.0",
          "state": {
            "_dom_classes": [],
            "_model_module": "@jupyter-widgets/controls",
            "_model_module_version": "1.5.0",
            "_model_name": "FloatProgressModel",
            "_view_count": null,
            "_view_module": "@jupyter-widgets/controls",
            "_view_module_version": "1.5.0",
            "_view_name": "ProgressView",
            "bar_style": "success",
            "description": "",
            "description_tooltip": null,
            "layout": "IPY_MODEL_23cdf379527e4814a97f30d7515a82e1",
            "max": 2923,
            "min": 0,
            "orientation": "horizontal",
            "style": "IPY_MODEL_5054f7d1dbf74f038047900333783432",
            "value": 2923
          }
        },
        "7f0d366c06ea4d1a9f21c8ce87417e1d": {
          "model_module": "@jupyter-widgets/controls",
          "model_name": "HTMLModel",
          "model_module_version": "1.5.0",
          "state": {
            "_dom_classes": [],
            "_model_module": "@jupyter-widgets/controls",
            "_model_module_version": "1.5.0",
            "_model_name": "HTMLModel",
            "_view_count": null,
            "_view_module": "@jupyter-widgets/controls",
            "_view_module_version": "1.5.0",
            "_view_name": "HTMLView",
            "description": "",
            "description_tooltip": null,
            "layout": "IPY_MODEL_454f7a6171f04a0b881d4567e6aa84d7",
            "placeholder": "​",
            "style": "IPY_MODEL_2ee75b62a5b148108b26c5e966715306",
            "value": " 8.10k/? [00:00&lt;00:00, 569kB/s]"
          }
        },
        "331edeb9365e4a2f876466a521503196": {
          "model_module": "@jupyter-widgets/base",
          "model_name": "LayoutModel",
          "model_module_version": "1.2.0",
          "state": {
            "_model_module": "@jupyter-widgets/base",
            "_model_module_version": "1.2.0",
            "_model_name": "LayoutModel",
            "_view_count": null,
            "_view_module": "@jupyter-widgets/base",
            "_view_module_version": "1.2.0",
            "_view_name": "LayoutView",
            "align_content": null,
            "align_items": null,
            "align_self": null,
            "border": null,
            "bottom": null,
            "display": null,
            "flex": null,
            "flex_flow": null,
            "grid_area": null,
            "grid_auto_columns": null,
            "grid_auto_flow": null,
            "grid_auto_rows": null,
            "grid_column": null,
            "grid_gap": null,
            "grid_row": null,
            "grid_template_areas": null,
            "grid_template_columns": null,
            "grid_template_rows": null,
            "height": null,
            "justify_content": null,
            "justify_items": null,
            "left": null,
            "margin": null,
            "max_height": null,
            "max_width": null,
            "min_height": null,
            "min_width": null,
            "object_fit": null,
            "object_position": null,
            "order": null,
            "overflow": null,
            "overflow_x": null,
            "overflow_y": null,
            "padding": null,
            "right": null,
            "top": null,
            "visibility": null,
            "width": null
          }
        },
        "697486435ab24149b70f3198d072c612": {
          "model_module": "@jupyter-widgets/base",
          "model_name": "LayoutModel",
          "model_module_version": "1.2.0",
          "state": {
            "_model_module": "@jupyter-widgets/base",
            "_model_module_version": "1.2.0",
            "_model_name": "LayoutModel",
            "_view_count": null,
            "_view_module": "@jupyter-widgets/base",
            "_view_module_version": "1.2.0",
            "_view_name": "LayoutView",
            "align_content": null,
            "align_items": null,
            "align_self": null,
            "border": null,
            "bottom": null,
            "display": null,
            "flex": null,
            "flex_flow": null,
            "grid_area": null,
            "grid_auto_columns": null,
            "grid_auto_flow": null,
            "grid_auto_rows": null,
            "grid_column": null,
            "grid_gap": null,
            "grid_row": null,
            "grid_template_areas": null,
            "grid_template_columns": null,
            "grid_template_rows": null,
            "height": null,
            "justify_content": null,
            "justify_items": null,
            "left": null,
            "margin": null,
            "max_height": null,
            "max_width": null,
            "min_height": null,
            "min_width": null,
            "object_fit": null,
            "object_position": null,
            "order": null,
            "overflow": null,
            "overflow_x": null,
            "overflow_y": null,
            "padding": null,
            "right": null,
            "top": null,
            "visibility": null,
            "width": null
          }
        },
        "2870aced997f47b8a95f1298ff64825b": {
          "model_module": "@jupyter-widgets/controls",
          "model_name": "DescriptionStyleModel",
          "model_module_version": "1.5.0",
          "state": {
            "_model_module": "@jupyter-widgets/controls",
            "_model_module_version": "1.5.0",
            "_model_name": "DescriptionStyleModel",
            "_view_count": null,
            "_view_module": "@jupyter-widgets/base",
            "_view_module_version": "1.2.0",
            "_view_name": "StyleView",
            "description_width": ""
          }
        },
        "23cdf379527e4814a97f30d7515a82e1": {
          "model_module": "@jupyter-widgets/base",
          "model_name": "LayoutModel",
          "model_module_version": "1.2.0",
          "state": {
            "_model_module": "@jupyter-widgets/base",
            "_model_module_version": "1.2.0",
            "_model_name": "LayoutModel",
            "_view_count": null,
            "_view_module": "@jupyter-widgets/base",
            "_view_module_version": "1.2.0",
            "_view_name": "LayoutView",
            "align_content": null,
            "align_items": null,
            "align_self": null,
            "border": null,
            "bottom": null,
            "display": null,
            "flex": null,
            "flex_flow": null,
            "grid_area": null,
            "grid_auto_columns": null,
            "grid_auto_flow": null,
            "grid_auto_rows": null,
            "grid_column": null,
            "grid_gap": null,
            "grid_row": null,
            "grid_template_areas": null,
            "grid_template_columns": null,
            "grid_template_rows": null,
            "height": null,
            "justify_content": null,
            "justify_items": null,
            "left": null,
            "margin": null,
            "max_height": null,
            "max_width": null,
            "min_height": null,
            "min_width": null,
            "object_fit": null,
            "object_position": null,
            "order": null,
            "overflow": null,
            "overflow_x": null,
            "overflow_y": null,
            "padding": null,
            "right": null,
            "top": null,
            "visibility": null,
            "width": null
          }
        },
        "5054f7d1dbf74f038047900333783432": {
          "model_module": "@jupyter-widgets/controls",
          "model_name": "ProgressStyleModel",
          "model_module_version": "1.5.0",
          "state": {
            "_model_module": "@jupyter-widgets/controls",
            "_model_module_version": "1.5.0",
            "_model_name": "ProgressStyleModel",
            "_view_count": null,
            "_view_module": "@jupyter-widgets/base",
            "_view_module_version": "1.2.0",
            "_view_name": "StyleView",
            "bar_color": null,
            "description_width": ""
          }
        },
        "454f7a6171f04a0b881d4567e6aa84d7": {
          "model_module": "@jupyter-widgets/base",
          "model_name": "LayoutModel",
          "model_module_version": "1.2.0",
          "state": {
            "_model_module": "@jupyter-widgets/base",
            "_model_module_version": "1.2.0",
            "_model_name": "LayoutModel",
            "_view_count": null,
            "_view_module": "@jupyter-widgets/base",
            "_view_module_version": "1.2.0",
            "_view_name": "LayoutView",
            "align_content": null,
            "align_items": null,
            "align_self": null,
            "border": null,
            "bottom": null,
            "display": null,
            "flex": null,
            "flex_flow": null,
            "grid_area": null,
            "grid_auto_columns": null,
            "grid_auto_flow": null,
            "grid_auto_rows": null,
            "grid_column": null,
            "grid_gap": null,
            "grid_row": null,
            "grid_template_areas": null,
            "grid_template_columns": null,
            "grid_template_rows": null,
            "height": null,
            "justify_content": null,
            "justify_items": null,
            "left": null,
            "margin": null,
            "max_height": null,
            "max_width": null,
            "min_height": null,
            "min_width": null,
            "object_fit": null,
            "object_position": null,
            "order": null,
            "overflow": null,
            "overflow_x": null,
            "overflow_y": null,
            "padding": null,
            "right": null,
            "top": null,
            "visibility": null,
            "width": null
          }
        },
        "2ee75b62a5b148108b26c5e966715306": {
          "model_module": "@jupyter-widgets/controls",
          "model_name": "DescriptionStyleModel",
          "model_module_version": "1.5.0",
          "state": {
            "_model_module": "@jupyter-widgets/controls",
            "_model_module_version": "1.5.0",
            "_model_name": "DescriptionStyleModel",
            "_view_count": null,
            "_view_module": "@jupyter-widgets/base",
            "_view_module_version": "1.2.0",
            "_view_name": "StyleView",
            "description_width": ""
          }
        }
      }
    }
  },
  "nbformat": 4,
  "nbformat_minor": 0
}